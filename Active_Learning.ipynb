{
 "cells": [
  {
   "cell_type": "code",
   "execution_count": 3,
   "id": "c4b3d2eb-bcd0-4574-beee-4647cb2848fa",
   "metadata": {},
   "outputs": [],
   "source": [
    "import tensorflow as tf\n",
    "import yfinance as yf\n",
    "from yahoo_fin.stock_info import get_data\n",
    "import pandas as pd\n",
    "import numpy as np\n",
    "import pandas_datareader\n",
    "from sklearn.preprocessing import MinMaxScaler\n",
    "from tensorflow.keras.models import Sequential\n",
    "from tensorflow.keras.layers import LSTM, Dense, Dropout\n",
    "import matplotlib.pyplot as plt"
   ]
  },
  {
   "cell_type": "code",
   "execution_count": 71,
   "id": "4e9f7e45-182c-412b-8803-f3b6f87098bf",
   "metadata": {},
   "outputs": [
    {
     "data": {
      "text/html": [
       "<div>\n",
       "<style scoped>\n",
       "    .dataframe tbody tr th:only-of-type {\n",
       "        vertical-align: middle;\n",
       "    }\n",
       "\n",
       "    .dataframe tbody tr th {\n",
       "        vertical-align: top;\n",
       "    }\n",
       "\n",
       "    .dataframe thead th {\n",
       "        text-align: right;\n",
       "    }\n",
       "</style>\n",
       "<table border=\"1\" class=\"dataframe\">\n",
       "  <thead>\n",
       "    <tr style=\"text-align: right;\">\n",
       "      <th></th>\n",
       "      <th>open</th>\n",
       "      <th>high</th>\n",
       "      <th>low</th>\n",
       "      <th>close</th>\n",
       "      <th>adjclose</th>\n",
       "      <th>volume</th>\n",
       "    </tr>\n",
       "  </thead>\n",
       "  <tbody>\n",
       "    <tr>\n",
       "      <th>2019-06-24</th>\n",
       "      <td>11931.991211</td>\n",
       "      <td>12178.383789</td>\n",
       "      <td>10799.008789</td>\n",
       "      <td>10817.155273</td>\n",
       "      <td>10817.155273</td>\n",
       "      <td>27256473494</td>\n",
       "    </tr>\n",
       "    <tr>\n",
       "      <th>2019-07-01</th>\n",
       "      <td>10796.930664</td>\n",
       "      <td>12006.075195</td>\n",
       "      <td>9737.884766</td>\n",
       "      <td>11450.846680</td>\n",
       "      <td>11450.846680</td>\n",
       "      <td>181410821667</td>\n",
       "    </tr>\n",
       "    <tr>\n",
       "      <th>2019-07-08</th>\n",
       "      <td>11446.596680</td>\n",
       "      <td>13129.529297</td>\n",
       "      <td>10234.576172</td>\n",
       "      <td>10256.058594</td>\n",
       "      <td>10256.058594</td>\n",
       "      <td>180936684097</td>\n",
       "    </tr>\n",
       "    <tr>\n",
       "      <th>2019-07-15</th>\n",
       "      <td>10257.838867</td>\n",
       "      <td>11052.766602</td>\n",
       "      <td>9163.134766</td>\n",
       "      <td>10599.105469</td>\n",
       "      <td>10599.105469</td>\n",
       "      <td>157356814406</td>\n",
       "    </tr>\n",
       "    <tr>\n",
       "      <th>2019-07-22</th>\n",
       "      <td>10596.948242</td>\n",
       "      <td>10651.791016</td>\n",
       "      <td>9252.296875</td>\n",
       "      <td>9552.860352</td>\n",
       "      <td>9552.860352</td>\n",
       "      <td>112459229432</td>\n",
       "    </tr>\n",
       "  </tbody>\n",
       "</table>\n",
       "</div>"
      ],
      "text/plain": [
       "                    open          high           low         close  \\\n",
       "2019-06-24  11931.991211  12178.383789  10799.008789  10817.155273   \n",
       "2019-07-01  10796.930664  12006.075195   9737.884766  11450.846680   \n",
       "2019-07-08  11446.596680  13129.529297  10234.576172  10256.058594   \n",
       "2019-07-15  10257.838867  11052.766602   9163.134766  10599.105469   \n",
       "2019-07-22  10596.948242  10651.791016   9252.296875   9552.860352   \n",
       "\n",
       "                adjclose        volume  \n",
       "2019-06-24  10817.155273   27256473494  \n",
       "2019-07-01  11450.846680  181410821667  \n",
       "2019-07-08  10256.058594  180936684097  \n",
       "2019-07-15  10599.105469  157356814406  \n",
       "2019-07-22   9552.860352  112459229432  "
      ]
     },
     "execution_count": 71,
     "metadata": {},
     "output_type": "execute_result"
    }
   ],
   "source": [
    "# Imports 3 years of BTC daily data from yahoo finance\n",
    "BTC_df = get_data(\"BTC-USD\", start_date=\"6/30/2019\", end_date=\"06/30/2022\", index_as_date = True, interval=\"1wk\")\n",
    "df = BTC_df.iloc[:,0:-1]\n",
    "df.head()"
   ]
  },
  {
   "cell_type": "code",
   "execution_count": 7,
   "id": "07ceeffd-2657-46f9-91cc-8c5419864a54",
   "metadata": {},
   "outputs": [],
   "source": [
    "# Defines function to split X and y data\n",
    "def window_data(df, window, feature_col_number, target_col_number):\n",
    "    # Creates empty X and y list\n",
    "    X = []\n",
    "    y = []\n",
    "    # loops through btc data\n",
    "    for i in range(len(df) - window - 1):\n",
    "        # splits the features by grouping window amount of previous close data\n",
    "        features = df.iloc[i:(i + window), feature_col_number]\n",
    "        # splits target by taking current close values\n",
    "        target = df.iloc[(i + window), target_col_number]\n",
    "        # Adds end of each loops data to respective X and y list\n",
    "        X.append(features)\n",
    "        y.append(target)\n",
    "    # returns X,y as arrays\n",
    "    return np.array(X), np.array(y).reshape(-1, 1)"
   ]
  },
  {
   "cell_type": "code",
   "execution_count": 8,
   "id": "c0290e24-f967-4add-88bd-8cd22f7818db",
   "metadata": {},
   "outputs": [],
   "source": [
    "# Defines window size\n",
    "window_size=10"
   ]
  },
  {
   "cell_type": "code",
   "execution_count": 72,
   "id": "d614c3fa-5866-4b3c-ad81-468410a279d2",
   "metadata": {},
   "outputs": [
    {
     "data": {
      "text/plain": [
       "array([[10817.15527344, 11450.84667969, 10256.05859375, ...,\n",
       "        10345.81054688, 10138.51757812,  9757.97070312],\n",
       "       [11450.84667969, 10256.05859375, 10599.10546875, ...,\n",
       "        10138.51757812,  9757.97070312, 10441.27636719],\n",
       "       [10256.05859375, 10599.10546875,  9552.86035156, ...,\n",
       "         9757.97070312, 10441.27636719, 10347.71289062],\n",
       "       ...,\n",
       "       [46453.56640625, 42207.671875  , 39716.953125  , ...,\n",
       "        30323.72265625, 29445.95703125, 29906.66210938],\n",
       "       [42207.671875  , 39716.953125  , 39469.29296875, ...,\n",
       "        29445.95703125, 29906.66210938, 26762.6484375 ],\n",
       "       [39716.953125  , 39469.29296875, 38469.09375   , ...,\n",
       "        29906.66210938, 26762.6484375 , 20553.27148438]])"
      ]
     },
     "metadata": {},
     "output_type": "display_data"
    },
    {
     "data": {
      "text/plain": [
       "array([[10441.27636719],\n",
       "       [10347.71289062],\n",
       "       [10070.39257812],\n",
       "       [ 8104.18554688],\n",
       "       [ 7988.15576172],\n",
       "       [ 8321.00585938],\n",
       "       [ 8222.078125  ],\n",
       "       [ 9551.71484375],\n",
       "       [ 9235.35449219],\n",
       "       [ 9055.52636719],\n",
       "       [ 8577.97558594],\n",
       "       [ 7047.91699219],\n",
       "       [ 7424.29248047],\n",
       "       [ 7564.34521484],\n",
       "       [ 7152.30175781],\n",
       "       [ 7511.58886719],\n",
       "       [ 7422.65283203],\n",
       "       [ 7411.31738281],\n",
       "       [ 8192.49414062],\n",
       "       [ 8706.24511719],\n",
       "       [ 8596.83007812],\n",
       "       [ 9344.36523438],\n",
       "       [10116.67382812],\n",
       "       [ 9934.43359375],\n",
       "       [ 9924.515625  ],\n",
       "       [ 8562.45410156],\n",
       "       [ 8108.11621094],\n",
       "       [ 5392.31494141],\n",
       "       [ 5830.25488281],\n",
       "       [ 5922.04296875],\n",
       "       [ 6791.12939453],\n",
       "       [ 6971.09179688],\n",
       "       [ 7189.42480469],\n",
       "       [ 7679.8671875 ],\n",
       "       [ 8897.46875   ],\n",
       "       [ 8756.43066406],\n",
       "       [ 9670.73925781],\n",
       "       [ 8790.36816406],\n",
       "       [ 9461.05859375],\n",
       "       [ 9758.85253906],\n",
       "       [ 9386.78808594],\n",
       "       [ 9303.62988281],\n",
       "       [ 9143.58203125],\n",
       "       [ 9073.94238281],\n",
       "       [ 9276.5       ],\n",
       "       [ 9185.81738281],\n",
       "       [ 9905.16699219],\n",
       "       [11053.61425781],\n",
       "       [11675.73925781],\n",
       "       [11892.80371094],\n",
       "       [11664.84765625],\n",
       "       [11711.50585938],\n",
       "       [10280.3515625 ],\n",
       "       [10323.75585938],\n",
       "       [10938.27148438],\n",
       "       [10775.26953125],\n",
       "       [10669.58300781],\n",
       "       [11384.18164062],\n",
       "       [11483.359375  ],\n",
       "       [13031.17382812],\n",
       "       [13737.109375  ],\n",
       "       [15479.56738281],\n",
       "       [15955.58789062],\n",
       "       [18370.00195312],\n",
       "       [18177.484375  ],\n",
       "       [19345.12109375],\n",
       "       [19142.3828125 ],\n",
       "       [23477.29492188],\n",
       "       [26272.29492188],\n",
       "       [32782.0234375 ],\n",
       "       [38356.44140625],\n",
       "       [35791.27734375],\n",
       "       [32289.37890625],\n",
       "       [33114.359375  ],\n",
       "       [38903.44140625],\n",
       "       [48717.2890625 ],\n",
       "       [57539.9453125 ],\n",
       "       [45137.76953125],\n",
       "       [51206.69140625],\n",
       "       [59302.31640625],\n",
       "       [57523.421875  ],\n",
       "       [55950.74609375],\n",
       "       [58758.5546875 ],\n",
       "       [60204.96484375],\n",
       "       [56216.18359375],\n",
       "       [49004.25390625],\n",
       "       [56631.078125  ],\n",
       "       [58232.31640625],\n",
       "       [46456.05859375],\n",
       "       [34770.58203125],\n",
       "       [35678.12890625],\n",
       "       [35862.37890625],\n",
       "       [39097.859375  ],\n",
       "       [35698.296875  ],\n",
       "       [34649.64453125],\n",
       "       [35287.78125   ],\n",
       "       [34240.1875    ],\n",
       "       [31796.81054688],\n",
       "       [35350.1875    ],\n",
       "       [39974.89453125],\n",
       "       [43798.1171875 ],\n",
       "       [47047.00390625],\n",
       "       [49321.65234375],\n",
       "       [48829.83203125],\n",
       "       [51753.41015625],\n",
       "       [46063.26953125],\n",
       "       [47260.21875   ],\n",
       "       [43208.5390625 ],\n",
       "       [48199.953125  ],\n",
       "       [54771.578125  ],\n",
       "       [61553.6171875 ],\n",
       "       [60930.8359375 ],\n",
       "       [61318.95703125],\n",
       "       [63326.98828125],\n",
       "       [65466.83984375],\n",
       "       [58730.4765625 ],\n",
       "       [57248.45703125],\n",
       "       [49368.84765625],\n",
       "       [50098.3359375 ],\n",
       "       [46707.015625  ],\n",
       "       [50809.515625  ],\n",
       "       [47345.21875   ],\n",
       "       [41911.6015625 ],\n",
       "       [43113.87890625],\n",
       "       [36276.8046875 ],\n",
       "       [37917.6015625 ],\n",
       "       [42412.43359375],\n",
       "       [42197.515625  ],\n",
       "       [38431.37890625],\n",
       "       [37709.78515625],\n",
       "       [38419.984375  ],\n",
       "       [37849.6640625 ],\n",
       "       [41247.82421875],\n",
       "       [46820.4921875 ],\n",
       "       [46453.56640625],\n",
       "       [42207.671875  ],\n",
       "       [39716.953125  ],\n",
       "       [39469.29296875],\n",
       "       [38469.09375   ],\n",
       "       [34059.265625  ],\n",
       "       [31305.11328125],\n",
       "       [30323.72265625],\n",
       "       [29445.95703125],\n",
       "       [29906.66210938],\n",
       "       [26762.6484375 ],\n",
       "       [20553.27148438],\n",
       "       [21027.29492188]])"
      ]
     },
     "metadata": {},
     "output_type": "display_data"
    }
   ],
   "source": [
    "# Runs function to split X and y data\n",
    "X, y=window_data(df, window_size, 3, 3)\n",
    "# Displays X and y\n",
    "display(X)\n",
    "display(y)"
   ]
  },
  {
   "cell_type": "code",
   "execution_count": 73,
   "id": "f4fa42a0-81f8-4e02-9e12-20cbefe20492",
   "metadata": {},
   "outputs": [],
   "source": [
    "# Scales X and y data using MinMaxScaler\n",
    "X_scaler=MinMaxScaler()\n",
    "X_scaler.fit(X)\n",
    "X_scaled=X_scaler.transform(X)\n",
    "y_scaler=MinMaxScaler()\n",
    "y_scaler.fit(y)\n",
    "y_scaled=y_scaler.transform(y)"
   ]
  },
  {
   "cell_type": "code",
   "execution_count": 74,
   "id": "fcbce4bc-34ad-4ead-b40c-f42d24132a68",
   "metadata": {},
   "outputs": [],
   "source": [
    "# Defines where train and test data will be split (70% is train)\n",
    "split=int(0.7*len(X_scaled))\n",
    "# Splits train and test data\n",
    "X_train=X_scaled[:split]\n",
    "X_test=X_scaled[split:]\n",
    "y_train=y_scaled[:split]\n",
    "y_test=y_scaled[split:]"
   ]
  },
  {
   "cell_type": "code",
   "execution_count": null,
   "id": "60e9fc2d-1010-45e9-9acf-dbb6c338bc1f",
   "metadata": {},
   "outputs": [],
   "source": [
    "#X_scaled=X_scaled.reshape(X_scaled.shape[0], X_scaled.shape[1], 1)\n",
    "#display(X.shape)"
   ]
  },
  {
   "cell_type": "code",
   "execution_count": 75,
   "id": "cc78138d-c9b8-4260-8e68-b36579263bee",
   "metadata": {},
   "outputs": [
    {
     "data": {
      "text/plain": [
       "(102, 10, 1)"
      ]
     },
     "metadata": {},
     "output_type": "display_data"
    },
    {
     "data": {
      "text/plain": [
       "(45, 10, 1)"
      ]
     },
     "metadata": {},
     "output_type": "display_data"
    }
   ],
   "source": [
    "# Reshapes data into size LSTM can handle\n",
    "X_train=X_train.reshape(X_train.shape[0], X_train.shape[1], 1)\n",
    "X_test=X_test.reshape(X_test.shape[0], X_test.shape[1], 1)\n",
    "display(X_train.shape)\n",
    "display(X_test.shape)"
   ]
  },
  {
   "cell_type": "code",
   "execution_count": 76,
   "id": "703a9741-a03d-4697-8530-b9a458f9e021",
   "metadata": {},
   "outputs": [],
   "source": [
    "# Creates neural network\n",
    "model=Sequential()\n",
    "# Defines and adds LSTM layer\n",
    "first_lstm_layer=LSTM(units=30, return_sequences=True, input_shape=(window_size, 1))\n",
    "model.add(first_lstm_layer)\n",
    "# Randomly drops 20% of defined nodes\n",
    "first_dropout_layer=Dropout(0.2)\n",
    "# Defines and adds LSTM layer\n",
    "model.add(first_dropout_layer)\n",
    "second_lstm_layer=LSTM(units=30, return_sequences=True)\n",
    "model.add(second_lstm_layer)\n",
    "# Randomly drops 20% of defined nodes\n",
    "second_dropout_layer=Dropout(0.2)\n",
    "# Defines and adds LSTM layer\n",
    "model.add(second_dropout_layer)\n",
    "third_lstm_layer=LSTM(units=30)\n",
    "model.add(third_lstm_layer)\n",
    "# Defines and adds output layer with linear activation\n",
    "output_layer=Dense(units=1, activation='linear')\n",
    "model.add(output_layer)"
   ]
  },
  {
   "cell_type": "code",
   "execution_count": 77,
   "id": "8dbea1ae-7ae0-477b-9671-20d6a636c869",
   "metadata": {},
   "outputs": [],
   "source": [
    "# Compiles model\n",
    "model.compile(loss='mean_squared_error', optimizer='adam', metrics='mean_squared_error')"
   ]
  },
  {
   "cell_type": "code",
   "execution_count": 78,
   "id": "c6b63a61-2ebf-4b39-9e4f-262db1d471ec",
   "metadata": {},
   "outputs": [
    {
     "name": "stdout",
     "output_type": "stream",
     "text": [
      "Model: \"sequential_3\"\n",
      "_________________________________________________________________\n",
      " Layer (type)                Output Shape              Param #   \n",
      "=================================================================\n",
      " lstm_9 (LSTM)               (None, 10, 30)            3840      \n",
      "                                                                 \n",
      " dropout_6 (Dropout)         (None, 10, 30)            0         \n",
      "                                                                 \n",
      " lstm_10 (LSTM)              (None, 10, 30)            7320      \n",
      "                                                                 \n",
      " dropout_7 (Dropout)         (None, 10, 30)            0         \n",
      "                                                                 \n",
      " lstm_11 (LSTM)              (None, 30)                7320      \n",
      "                                                                 \n",
      " dense_3 (Dense)             (None, 1)                 31        \n",
      "                                                                 \n",
      "=================================================================\n",
      "Total params: 18,511\n",
      "Trainable params: 18,511\n",
      "Non-trainable params: 0\n",
      "_________________________________________________________________\n"
     ]
    }
   ],
   "source": [
    "# Provides summary of model\n",
    "model.summary()"
   ]
  },
  {
   "cell_type": "code",
   "execution_count": 79,
   "id": "e750cfcc-e3af-44d6-9489-21e329ab69ac",
   "metadata": {},
   "outputs": [
    {
     "name": "stdout",
     "output_type": "stream",
     "text": [
      "Epoch 1/50\n",
      "4/4 [==============================] - 8s 23ms/step - loss: 0.1429 - mean_squared_error: 0.1429\n",
      "Epoch 2/50\n",
      "4/4 [==============================] - 0s 38ms/step - loss: 0.1055 - mean_squared_error: 0.1055\n",
      "Epoch 3/50\n",
      "4/4 [==============================] - 0s 19ms/step - loss: 0.0673 - mean_squared_error: 0.0673\n",
      "Epoch 4/50\n",
      "4/4 [==============================] - 0s 21ms/step - loss: 0.0427 - mean_squared_error: 0.0427\n",
      "Epoch 5/50\n",
      "4/4 [==============================] - 0s 23ms/step - loss: 0.0419 - mean_squared_error: 0.0419\n",
      "Epoch 6/50\n",
      "4/4 [==============================] - 0s 19ms/step - loss: 0.0365 - mean_squared_error: 0.0365\n",
      "Epoch 7/50\n",
      "4/4 [==============================] - 0s 19ms/step - loss: 0.0296 - mean_squared_error: 0.0296\n",
      "Epoch 8/50\n",
      "4/4 [==============================] - 0s 19ms/step - loss: 0.0257 - mean_squared_error: 0.0257\n",
      "Epoch 9/50\n",
      "4/4 [==============================] - 0s 21ms/step - loss: 0.0243 - mean_squared_error: 0.0243\n",
      "Epoch 10/50\n",
      "4/4 [==============================] - 0s 20ms/step - loss: 0.0197 - mean_squared_error: 0.0197\n",
      "Epoch 11/50\n",
      "4/4 [==============================] - 0s 20ms/step - loss: 0.0262 - mean_squared_error: 0.0262\n",
      "Epoch 12/50\n",
      "4/4 [==============================] - 0s 27ms/step - loss: 0.0202 - mean_squared_error: 0.0202\n",
      "Epoch 13/50\n",
      "4/4 [==============================] - 0s 20ms/step - loss: 0.0221 - mean_squared_error: 0.0221\n",
      "Epoch 14/50\n",
      "4/4 [==============================] - 0s 31ms/step - loss: 0.0205 - mean_squared_error: 0.0205\n",
      "Epoch 15/50\n",
      "4/4 [==============================] - 0s 23ms/step - loss: 0.0202 - mean_squared_error: 0.0202\n",
      "Epoch 16/50\n",
      "4/4 [==============================] - 0s 29ms/step - loss: 0.0205 - mean_squared_error: 0.0205\n",
      "Epoch 17/50\n",
      "4/4 [==============================] - 0s 36ms/step - loss: 0.0183 - mean_squared_error: 0.0183\n",
      "Epoch 18/50\n",
      "4/4 [==============================] - 0s 27ms/step - loss: 0.0205 - mean_squared_error: 0.0205\n",
      "Epoch 19/50\n",
      "4/4 [==============================] - 0s 26ms/step - loss: 0.0205 - mean_squared_error: 0.0205\n",
      "Epoch 20/50\n",
      "4/4 [==============================] - 0s 29ms/step - loss: 0.0175 - mean_squared_error: 0.0175\n",
      "Epoch 21/50\n",
      "4/4 [==============================] - 0s 27ms/step - loss: 0.0162 - mean_squared_error: 0.0162\n",
      "Epoch 22/50\n",
      "4/4 [==============================] - 0s 25ms/step - loss: 0.0169 - mean_squared_error: 0.0169\n",
      "Epoch 23/50\n",
      "4/4 [==============================] - 0s 29ms/step - loss: 0.0161 - mean_squared_error: 0.0161\n",
      "Epoch 24/50\n",
      "4/4 [==============================] - 0s 29ms/step - loss: 0.0170 - mean_squared_error: 0.0170\n",
      "Epoch 25/50\n",
      "4/4 [==============================] - 0s 36ms/step - loss: 0.0142 - mean_squared_error: 0.0142\n",
      "Epoch 26/50\n",
      "4/4 [==============================] - 0s 24ms/step - loss: 0.0152 - mean_squared_error: 0.0152\n",
      "Epoch 27/50\n",
      "4/4 [==============================] - 0s 31ms/step - loss: 0.0148 - mean_squared_error: 0.0148\n",
      "Epoch 28/50\n",
      "4/4 [==============================] - 0s 30ms/step - loss: 0.0131 - mean_squared_error: 0.0131\n",
      "Epoch 29/50\n",
      "4/4 [==============================] - 0s 29ms/step - loss: 0.0143 - mean_squared_error: 0.0143\n",
      "Epoch 30/50\n",
      "4/4 [==============================] - 0s 26ms/step - loss: 0.0130 - mean_squared_error: 0.0130\n",
      "Epoch 31/50\n",
      "4/4 [==============================] - 0s 26ms/step - loss: 0.0123 - mean_squared_error: 0.0123\n",
      "Epoch 32/50\n",
      "4/4 [==============================] - 0s 22ms/step - loss: 0.0130 - mean_squared_error: 0.0130\n",
      "Epoch 33/50\n",
      "4/4 [==============================] - 0s 26ms/step - loss: 0.0123 - mean_squared_error: 0.0123\n",
      "Epoch 34/50\n",
      "4/4 [==============================] - 0s 22ms/step - loss: 0.0102 - mean_squared_error: 0.0102\n",
      "Epoch 35/50\n",
      "4/4 [==============================] - 0s 24ms/step - loss: 0.0098 - mean_squared_error: 0.0098\n",
      "Epoch 36/50\n",
      "4/4 [==============================] - 0s 26ms/step - loss: 0.0111 - mean_squared_error: 0.0111\n",
      "Epoch 37/50\n",
      "4/4 [==============================] - 0s 21ms/step - loss: 0.0095 - mean_squared_error: 0.0095\n",
      "Epoch 38/50\n",
      "4/4 [==============================] - 0s 20ms/step - loss: 0.0092 - mean_squared_error: 0.0092\n",
      "Epoch 39/50\n",
      "4/4 [==============================] - 0s 20ms/step - loss: 0.0097 - mean_squared_error: 0.0097\n",
      "Epoch 40/50\n",
      "4/4 [==============================] - 0s 26ms/step - loss: 0.0099 - mean_squared_error: 0.0099\n",
      "Epoch 41/50\n",
      "4/4 [==============================] - 0s 24ms/step - loss: 0.0077 - mean_squared_error: 0.0077\n",
      "Epoch 42/50\n",
      "4/4 [==============================] - 0s 20ms/step - loss: 0.0088 - mean_squared_error: 0.0088\n",
      "Epoch 43/50\n",
      "4/4 [==============================] - 0s 19ms/step - loss: 0.0083 - mean_squared_error: 0.0083\n",
      "Epoch 44/50\n",
      "4/4 [==============================] - 0s 20ms/step - loss: 0.0079 - mean_squared_error: 0.0079\n",
      "Epoch 45/50\n",
      "4/4 [==============================] - 0s 20ms/step - loss: 0.0075 - mean_squared_error: 0.0075\n",
      "Epoch 46/50\n",
      "4/4 [==============================] - 0s 21ms/step - loss: 0.0085 - mean_squared_error: 0.0085\n",
      "Epoch 47/50\n",
      "4/4 [==============================] - 0s 21ms/step - loss: 0.0075 - mean_squared_error: 0.0075\n",
      "Epoch 48/50\n",
      "4/4 [==============================] - 0s 20ms/step - loss: 0.0083 - mean_squared_error: 0.0083\n",
      "Epoch 49/50\n",
      "4/4 [==============================] - 0s 20ms/step - loss: 0.0099 - mean_squared_error: 0.0099\n",
      "Epoch 50/50\n",
      "4/4 [==============================] - 0s 19ms/step - loss: 0.0066 - mean_squared_error: 0.0066\n"
     ]
    },
    {
     "data": {
      "text/plain": [
       "<keras.callbacks.History at 0x154bf27d0>"
      ]
     },
     "execution_count": 79,
     "metadata": {},
     "output_type": "execute_result"
    }
   ],
   "source": [
    "# Initially fits model using training data\n",
    "model.fit(X_train, y_train, epochs=50)"
   ]
  },
  {
   "cell_type": "code",
   "execution_count": 80,
   "id": "df1cbace-fc65-48f4-a350-c86254b293ba",
   "metadata": {},
   "outputs": [
    {
     "name": "stdout",
     "output_type": "stream",
     "text": [
      "1/1 [==============================] - 2s 2s/step\n"
     ]
    },
    {
     "data": {
      "text/plain": [
       "array([[49319.79]], dtype=float32)"
      ]
     },
     "metadata": {},
     "output_type": "display_data"
    },
    {
     "name": "stdout",
     "output_type": "stream",
     "text": [
      "Epoch 1/5\n",
      "4/4 [==============================] - 0s 27ms/step - loss: 0.0091 - mean_squared_error: 0.0091\n",
      "Epoch 2/5\n",
      "4/4 [==============================] - 0s 28ms/step - loss: 0.0082 - mean_squared_error: 0.0082\n",
      "Epoch 3/5\n",
      "4/4 [==============================] - 0s 31ms/step - loss: 0.0088 - mean_squared_error: 0.0088\n",
      "Epoch 4/5\n",
      "4/4 [==============================] - 0s 31ms/step - loss: 0.0070 - mean_squared_error: 0.0070\n",
      "Epoch 5/5\n",
      "4/4 [==============================] - 0s 30ms/step - loss: 0.0084 - mean_squared_error: 0.0084\n",
      "1/1 [==============================] - 0s 25ms/step\n"
     ]
    },
    {
     "data": {
      "text/plain": [
       "array([[48534.02]], dtype=float32)"
      ]
     },
     "metadata": {},
     "output_type": "display_data"
    },
    {
     "name": "stdout",
     "output_type": "stream",
     "text": [
      "Epoch 1/5\n",
      "4/4 [==============================] - 0s 19ms/step - loss: 0.0087 - mean_squared_error: 0.0087\n",
      "Epoch 2/5\n",
      "4/4 [==============================] - 0s 19ms/step - loss: 0.0076 - mean_squared_error: 0.0076\n",
      "Epoch 3/5\n",
      "4/4 [==============================] - 0s 19ms/step - loss: 0.0058 - mean_squared_error: 0.0058\n",
      "Epoch 4/5\n",
      "4/4 [==============================] - 0s 19ms/step - loss: 0.0068 - mean_squared_error: 0.0068\n",
      "Epoch 5/5\n",
      "4/4 [==============================] - 0s 18ms/step - loss: 0.0066 - mean_squared_error: 0.0066\n",
      "1/1 [==============================] - 0s 23ms/step\n"
     ]
    },
    {
     "data": {
      "text/plain": [
       "array([[45643.42]], dtype=float32)"
      ]
     },
     "metadata": {},
     "output_type": "display_data"
    },
    {
     "name": "stdout",
     "output_type": "stream",
     "text": [
      "Epoch 1/5\n",
      "4/4 [==============================] - 0s 18ms/step - loss: 0.0068 - mean_squared_error: 0.0068\n",
      "Epoch 2/5\n",
      "4/4 [==============================] - 0s 19ms/step - loss: 0.0061 - mean_squared_error: 0.0061\n",
      "Epoch 3/5\n",
      "4/4 [==============================] - 0s 18ms/step - loss: 0.0054 - mean_squared_error: 0.0054\n",
      "Epoch 4/5\n",
      "4/4 [==============================] - 0s 18ms/step - loss: 0.0060 - mean_squared_error: 0.0060\n",
      "Epoch 5/5\n",
      "4/4 [==============================] - 0s 19ms/step - loss: 0.0059 - mean_squared_error: 0.0059\n",
      "1/1 [==============================] - 0s 23ms/step\n"
     ]
    },
    {
     "data": {
      "text/plain": [
       "array([[50823.363]], dtype=float32)"
      ]
     },
     "metadata": {},
     "output_type": "display_data"
    },
    {
     "name": "stdout",
     "output_type": "stream",
     "text": [
      "Epoch 1/5\n",
      "4/4 [==============================] - 0s 19ms/step - loss: 0.0063 - mean_squared_error: 0.0063\n",
      "Epoch 2/5\n",
      "4/4 [==============================] - 0s 20ms/step - loss: 0.0059 - mean_squared_error: 0.0059\n",
      "Epoch 3/5\n",
      "4/4 [==============================] - 0s 18ms/step - loss: 0.0054 - mean_squared_error: 0.0054\n",
      "Epoch 4/5\n",
      "4/4 [==============================] - 0s 20ms/step - loss: 0.0061 - mean_squared_error: 0.0061\n",
      "Epoch 5/5\n",
      "4/4 [==============================] - 0s 19ms/step - loss: 0.0059 - mean_squared_error: 0.0059\n",
      "1/1 [==============================] - 0s 23ms/step\n"
     ]
    },
    {
     "data": {
      "text/plain": [
       "array([[47245.37]], dtype=float32)"
      ]
     },
     "metadata": {},
     "output_type": "display_data"
    },
    {
     "name": "stdout",
     "output_type": "stream",
     "text": [
      "Epoch 1/5\n",
      "4/4 [==============================] - 0s 19ms/step - loss: 0.0077 - mean_squared_error: 0.0077\n",
      "Epoch 2/5\n",
      "4/4 [==============================] - 0s 19ms/step - loss: 0.0056 - mean_squared_error: 0.0056\n",
      "Epoch 3/5\n",
      "4/4 [==============================] - 0s 18ms/step - loss: 0.0074 - mean_squared_error: 0.0074\n",
      "Epoch 4/5\n",
      "4/4 [==============================] - 0s 19ms/step - loss: 0.0048 - mean_squared_error: 0.0048\n",
      "Epoch 5/5\n",
      "4/4 [==============================] - 0s 18ms/step - loss: 0.0048 - mean_squared_error: 0.0048\n",
      "1/1 [==============================] - 0s 23ms/step\n"
     ]
    },
    {
     "data": {
      "text/plain": [
       "array([[50811.555]], dtype=float32)"
      ]
     },
     "metadata": {},
     "output_type": "display_data"
    },
    {
     "name": "stdout",
     "output_type": "stream",
     "text": [
      "Epoch 1/5\n",
      "4/4 [==============================] - 0s 20ms/step - loss: 0.0058 - mean_squared_error: 0.0058\n",
      "Epoch 2/5\n",
      "4/4 [==============================] - 0s 21ms/step - loss: 0.0067 - mean_squared_error: 0.0067\n",
      "Epoch 3/5\n",
      "4/4 [==============================] - 0s 19ms/step - loss: 0.0052 - mean_squared_error: 0.0052\n",
      "Epoch 4/5\n",
      "4/4 [==============================] - 0s 19ms/step - loss: 0.0050 - mean_squared_error: 0.0050\n",
      "Epoch 5/5\n",
      "4/4 [==============================] - 0s 18ms/step - loss: 0.0060 - mean_squared_error: 0.0060\n",
      "1/1 [==============================] - 0s 23ms/step\n"
     ]
    },
    {
     "data": {
      "text/plain": [
       "array([[52866.414]], dtype=float32)"
      ]
     },
     "metadata": {},
     "output_type": "display_data"
    },
    {
     "name": "stdout",
     "output_type": "stream",
     "text": [
      "Epoch 1/5\n",
      "4/4 [==============================] - 0s 19ms/step - loss: 0.0047 - mean_squared_error: 0.0047\n",
      "Epoch 2/5\n",
      "4/4 [==============================] - 0s 19ms/step - loss: 0.0058 - mean_squared_error: 0.0058\n",
      "Epoch 3/5\n",
      "4/4 [==============================] - 0s 18ms/step - loss: 0.0054 - mean_squared_error: 0.0054\n",
      "Epoch 4/5\n",
      "4/4 [==============================] - 0s 19ms/step - loss: 0.0053 - mean_squared_error: 0.0053\n",
      "Epoch 5/5\n",
      "4/4 [==============================] - 0s 19ms/step - loss: 0.0048 - mean_squared_error: 0.0048\n",
      "1/1 [==============================] - 0s 23ms/step\n"
     ]
    },
    {
     "data": {
      "text/plain": [
       "array([[49551.97]], dtype=float32)"
      ]
     },
     "metadata": {},
     "output_type": "display_data"
    },
    {
     "name": "stdout",
     "output_type": "stream",
     "text": [
      "Epoch 1/5\n",
      "4/4 [==============================] - 0s 19ms/step - loss: 0.0040 - mean_squared_error: 0.0040\n",
      "Epoch 2/5\n",
      "4/4 [==============================] - 0s 19ms/step - loss: 0.0048 - mean_squared_error: 0.0048\n",
      "Epoch 3/5\n",
      "4/4 [==============================] - 0s 19ms/step - loss: 0.0061 - mean_squared_error: 0.0061\n",
      "Epoch 4/5\n",
      "4/4 [==============================] - 0s 19ms/step - loss: 0.0064 - mean_squared_error: 0.0064\n",
      "Epoch 5/5\n",
      "4/4 [==============================] - 0s 18ms/step - loss: 0.0050 - mean_squared_error: 0.0050\n",
      "1/1 [==============================] - 0s 24ms/step\n"
     ]
    },
    {
     "data": {
      "text/plain": [
       "array([[48833.74]], dtype=float32)"
      ]
     },
     "metadata": {},
     "output_type": "display_data"
    },
    {
     "name": "stdout",
     "output_type": "stream",
     "text": [
      "Epoch 1/5\n",
      "4/4 [==============================] - 0s 18ms/step - loss: 0.0045 - mean_squared_error: 0.0045\n",
      "Epoch 2/5\n",
      "4/4 [==============================] - 0s 18ms/step - loss: 0.0052 - mean_squared_error: 0.0052\n",
      "Epoch 3/5\n",
      "4/4 [==============================] - 0s 21ms/step - loss: 0.0057 - mean_squared_error: 0.0057\n",
      "Epoch 4/5\n",
      "4/4 [==============================] - 0s 20ms/step - loss: 0.0043 - mean_squared_error: 0.0043\n",
      "Epoch 5/5\n",
      "4/4 [==============================] - 0s 20ms/step - loss: 0.0037 - mean_squared_error: 0.0037\n",
      "1/1 [==============================] - 0s 23ms/step\n"
     ]
    },
    {
     "data": {
      "text/plain": [
       "array([[50507.484]], dtype=float32)"
      ]
     },
     "metadata": {},
     "output_type": "display_data"
    },
    {
     "name": "stdout",
     "output_type": "stream",
     "text": [
      "Epoch 1/5\n",
      "4/4 [==============================] - 0s 19ms/step - loss: 0.0040 - mean_squared_error: 0.0040\n",
      "Epoch 2/5\n",
      "4/4 [==============================] - 0s 19ms/step - loss: 0.0040 - mean_squared_error: 0.0040\n",
      "Epoch 3/5\n",
      "4/4 [==============================] - 0s 20ms/step - loss: 0.0045 - mean_squared_error: 0.0045\n",
      "Epoch 4/5\n",
      "4/4 [==============================] - 0s 19ms/step - loss: 0.0050 - mean_squared_error: 0.0050\n",
      "Epoch 5/5\n",
      "4/4 [==============================] - 0s 18ms/step - loss: 0.0048 - mean_squared_error: 0.0048\n",
      "1/1 [==============================] - 0s 22ms/step\n"
     ]
    },
    {
     "data": {
      "text/plain": [
       "array([[46043.418]], dtype=float32)"
      ]
     },
     "metadata": {},
     "output_type": "display_data"
    },
    {
     "name": "stdout",
     "output_type": "stream",
     "text": [
      "Epoch 1/5\n",
      "4/4 [==============================] - 0s 18ms/step - loss: 0.0047 - mean_squared_error: 0.0047\n",
      "Epoch 2/5\n",
      "4/4 [==============================] - 0s 17ms/step - loss: 0.0045 - mean_squared_error: 0.0045\n",
      "Epoch 3/5\n",
      "4/4 [==============================] - 0s 24ms/step - loss: 0.0053 - mean_squared_error: 0.0053\n",
      "Epoch 4/5\n",
      "4/4 [==============================] - 0s 26ms/step - loss: 0.0043 - mean_squared_error: 0.0043\n",
      "Epoch 5/5\n",
      "4/4 [==============================] - 0s 20ms/step - loss: 0.0049 - mean_squared_error: 0.0049\n",
      "1/1 [==============================] - 0s 24ms/step\n"
     ]
    },
    {
     "data": {
      "text/plain": [
       "array([[46579.285]], dtype=float32)"
      ]
     },
     "metadata": {},
     "output_type": "display_data"
    },
    {
     "name": "stdout",
     "output_type": "stream",
     "text": [
      "Epoch 1/5\n",
      "4/4 [==============================] - 0s 27ms/step - loss: 0.0048 - mean_squared_error: 0.0048\n",
      "Epoch 2/5\n",
      "4/4 [==============================] - 0s 19ms/step - loss: 0.0057 - mean_squared_error: 0.0057\n",
      "Epoch 3/5\n",
      "4/4 [==============================] - 0s 18ms/step - loss: 0.0082 - mean_squared_error: 0.0082\n",
      "Epoch 4/5\n",
      "4/4 [==============================] - 0s 20ms/step - loss: 0.0066 - mean_squared_error: 0.0066\n",
      "Epoch 5/5\n",
      "4/4 [==============================] - 0s 18ms/step - loss: 0.0061 - mean_squared_error: 0.0061\n",
      "1/1 [==============================] - 0s 22ms/step\n"
     ]
    },
    {
     "data": {
      "text/plain": [
       "array([[49901.27]], dtype=float32)"
      ]
     },
     "metadata": {},
     "output_type": "display_data"
    },
    {
     "name": "stdout",
     "output_type": "stream",
     "text": [
      "Epoch 1/5\n",
      "4/4 [==============================] - 0s 20ms/step - loss: 0.0049 - mean_squared_error: 0.0049\n",
      "Epoch 2/5\n",
      "4/4 [==============================] - 0s 18ms/step - loss: 0.0051 - mean_squared_error: 0.0051\n",
      "Epoch 3/5\n",
      "4/4 [==============================] - 0s 25ms/step - loss: 0.0042 - mean_squared_error: 0.0042\n",
      "Epoch 4/5\n",
      "4/4 [==============================] - 0s 24ms/step - loss: 0.0049 - mean_squared_error: 0.0049\n",
      "Epoch 5/5\n",
      "4/4 [==============================] - 0s 20ms/step - loss: 0.0042 - mean_squared_error: 0.0042\n",
      "1/1 [==============================] - 0s 23ms/step\n"
     ]
    },
    {
     "data": {
      "text/plain": [
       "array([[43928.21]], dtype=float32)"
      ]
     },
     "metadata": {},
     "output_type": "display_data"
    },
    {
     "name": "stdout",
     "output_type": "stream",
     "text": [
      "Epoch 1/5\n",
      "4/4 [==============================] - 0s 19ms/step - loss: 0.0039 - mean_squared_error: 0.0039\n",
      "Epoch 2/5\n",
      "4/4 [==============================] - 0s 22ms/step - loss: 0.0036 - mean_squared_error: 0.0036\n",
      "Epoch 3/5\n",
      "4/4 [==============================] - 0s 18ms/step - loss: 0.0046 - mean_squared_error: 0.0046\n",
      "Epoch 4/5\n",
      "4/4 [==============================] - 0s 20ms/step - loss: 0.0045 - mean_squared_error: 0.0045\n",
      "Epoch 5/5\n",
      "4/4 [==============================] - 0s 23ms/step - loss: 0.0035 - mean_squared_error: 0.0035\n",
      "1/1 [==============================] - 0s 26ms/step\n"
     ]
    },
    {
     "data": {
      "text/plain": [
       "array([[44016.742]], dtype=float32)"
      ]
     },
     "metadata": {},
     "output_type": "display_data"
    },
    {
     "name": "stdout",
     "output_type": "stream",
     "text": [
      "Epoch 1/5\n",
      "4/4 [==============================] - 0s 19ms/step - loss: 0.0041 - mean_squared_error: 0.0041\n",
      "Epoch 2/5\n",
      "4/4 [==============================] - 0s 18ms/step - loss: 0.0034 - mean_squared_error: 0.0034\n",
      "Epoch 3/5\n",
      "4/4 [==============================] - 0s 20ms/step - loss: 0.0036 - mean_squared_error: 0.0036\n",
      "Epoch 4/5\n",
      "4/4 [==============================] - 0s 21ms/step - loss: 0.0040 - mean_squared_error: 0.0040\n",
      "Epoch 5/5\n",
      "4/4 [==============================] - 0s 18ms/step - loss: 0.0045 - mean_squared_error: 0.0045\n",
      "1/1 [==============================] - 0s 24ms/step\n"
     ]
    },
    {
     "data": {
      "text/plain": [
       "array([[42640.24]], dtype=float32)"
      ]
     },
     "metadata": {},
     "output_type": "display_data"
    },
    {
     "name": "stdout",
     "output_type": "stream",
     "text": [
      "Epoch 1/5\n",
      "4/4 [==============================] - 0s 26ms/step - loss: 0.0039 - mean_squared_error: 0.0039\n",
      "Epoch 2/5\n",
      "4/4 [==============================] - 0s 24ms/step - loss: 0.0040 - mean_squared_error: 0.0040\n",
      "Epoch 3/5\n",
      "4/4 [==============================] - 0s 20ms/step - loss: 0.0043 - mean_squared_error: 0.0043\n",
      "Epoch 4/5\n",
      "4/4 [==============================] - 0s 18ms/step - loss: 0.0043 - mean_squared_error: 0.0043\n",
      "Epoch 5/5\n",
      "4/4 [==============================] - 0s 18ms/step - loss: 0.0035 - mean_squared_error: 0.0035\n",
      "1/1 [==============================] - 0s 24ms/step\n"
     ]
    },
    {
     "data": {
      "text/plain": [
       "array([[44009.582]], dtype=float32)"
      ]
     },
     "metadata": {},
     "output_type": "display_data"
    },
    {
     "name": "stdout",
     "output_type": "stream",
     "text": [
      "Epoch 1/5\n",
      "4/4 [==============================] - 0s 23ms/step - loss: 0.0040 - mean_squared_error: 0.0040\n",
      "Epoch 2/5\n",
      "4/4 [==============================] - 0s 19ms/step - loss: 0.0036 - mean_squared_error: 0.0036\n",
      "Epoch 3/5\n",
      "4/4 [==============================] - 0s 20ms/step - loss: 0.0035 - mean_squared_error: 0.0035\n",
      "Epoch 4/5\n",
      "4/4 [==============================] - 0s 20ms/step - loss: 0.0032 - mean_squared_error: 0.0032\n",
      "Epoch 5/5\n",
      "4/4 [==============================] - 0s 17ms/step - loss: 0.0031 - mean_squared_error: 0.0031\n",
      "1/1 [==============================] - 0s 22ms/step\n"
     ]
    },
    {
     "data": {
      "text/plain": [
       "array([[43257.42]], dtype=float32)"
      ]
     },
     "metadata": {},
     "output_type": "display_data"
    },
    {
     "name": "stdout",
     "output_type": "stream",
     "text": [
      "Epoch 1/5\n",
      "4/4 [==============================] - 0s 18ms/step - loss: 0.0031 - mean_squared_error: 0.0031\n",
      "Epoch 2/5\n",
      "4/4 [==============================] - 0s 19ms/step - loss: 0.0035 - mean_squared_error: 0.0035\n",
      "Epoch 3/5\n",
      "4/4 [==============================] - 0s 19ms/step - loss: 0.0035 - mean_squared_error: 0.0035\n",
      "Epoch 4/5\n",
      "4/4 [==============================] - 0s 21ms/step - loss: 0.0038 - mean_squared_error: 0.0038\n",
      "Epoch 5/5\n",
      "4/4 [==============================] - 0s 19ms/step - loss: 0.0042 - mean_squared_error: 0.0042\n",
      "1/1 [==============================] - 0s 22ms/step\n"
     ]
    },
    {
     "data": {
      "text/plain": [
       "array([[42298.94]], dtype=float32)"
      ]
     },
     "metadata": {},
     "output_type": "display_data"
    },
    {
     "name": "stdout",
     "output_type": "stream",
     "text": [
      "Epoch 1/5\n",
      "4/4 [==============================] - 0s 18ms/step - loss: 0.0034 - mean_squared_error: 0.0034\n",
      "Epoch 2/5\n",
      "4/4 [==============================] - 0s 19ms/step - loss: 0.0036 - mean_squared_error: 0.0036\n",
      "Epoch 3/5\n",
      "4/4 [==============================] - 0s 19ms/step - loss: 0.0035 - mean_squared_error: 0.0035\n",
      "Epoch 4/5\n",
      "4/4 [==============================] - 0s 19ms/step - loss: 0.0044 - mean_squared_error: 0.0044\n",
      "Epoch 5/5\n",
      "4/4 [==============================] - 0s 19ms/step - loss: 0.0035 - mean_squared_error: 0.0035\n",
      "1/1 [==============================] - 0s 22ms/step\n"
     ]
    },
    {
     "data": {
      "text/plain": [
       "array([[44036.598]], dtype=float32)"
      ]
     },
     "metadata": {},
     "output_type": "display_data"
    },
    {
     "name": "stdout",
     "output_type": "stream",
     "text": [
      "Epoch 1/5\n",
      "4/4 [==============================] - 0s 19ms/step - loss: 0.0044 - mean_squared_error: 0.0044\n",
      "Epoch 2/5\n",
      "4/4 [==============================] - 0s 19ms/step - loss: 0.0039 - mean_squared_error: 0.0039\n",
      "Epoch 3/5\n",
      "4/4 [==============================] - 0s 20ms/step - loss: 0.0036 - mean_squared_error: 0.0036\n",
      "Epoch 4/5\n",
      "4/4 [==============================] - 0s 20ms/step - loss: 0.0042 - mean_squared_error: 0.0042\n",
      "Epoch 5/5\n",
      "4/4 [==============================] - 0s 20ms/step - loss: 0.0041 - mean_squared_error: 0.0041\n",
      "1/1 [==============================] - 0s 23ms/step\n"
     ]
    },
    {
     "data": {
      "text/plain": [
       "array([[45546.094]], dtype=float32)"
      ]
     },
     "metadata": {},
     "output_type": "display_data"
    },
    {
     "name": "stdout",
     "output_type": "stream",
     "text": [
      "Epoch 1/5\n",
      "4/4 [==============================] - 0s 18ms/step - loss: 0.0038 - mean_squared_error: 0.0038\n",
      "Epoch 2/5\n",
      "4/4 [==============================] - 0s 19ms/step - loss: 0.0032 - mean_squared_error: 0.0032\n",
      "Epoch 3/5\n",
      "4/4 [==============================] - 0s 20ms/step - loss: 0.0036 - mean_squared_error: 0.0036\n",
      "Epoch 4/5\n",
      "4/4 [==============================] - 0s 20ms/step - loss: 0.0037 - mean_squared_error: 0.0037\n",
      "Epoch 5/5\n",
      "4/4 [==============================] - 0s 20ms/step - loss: 0.0043 - mean_squared_error: 0.0043\n",
      "1/1 [==============================] - 0s 23ms/step\n"
     ]
    },
    {
     "data": {
      "text/plain": [
       "array([[43552.254]], dtype=float32)"
      ]
     },
     "metadata": {},
     "output_type": "display_data"
    },
    {
     "name": "stdout",
     "output_type": "stream",
     "text": [
      "Epoch 1/5\n",
      "4/4 [==============================] - 0s 21ms/step - loss: 0.0037 - mean_squared_error: 0.0037\n",
      "Epoch 2/5\n",
      "4/4 [==============================] - 0s 20ms/step - loss: 0.0037 - mean_squared_error: 0.0037\n",
      "Epoch 3/5\n",
      "4/4 [==============================] - 0s 20ms/step - loss: 0.0036 - mean_squared_error: 0.0036\n",
      "Epoch 4/5\n",
      "4/4 [==============================] - 0s 19ms/step - loss: 0.0030 - mean_squared_error: 0.0030\n",
      "Epoch 5/5\n",
      "4/4 [==============================] - 0s 19ms/step - loss: 0.0034 - mean_squared_error: 0.0034\n",
      "1/1 [==============================] - 0s 23ms/step\n"
     ]
    },
    {
     "data": {
      "text/plain": [
       "array([[45722.805]], dtype=float32)"
      ]
     },
     "metadata": {},
     "output_type": "display_data"
    },
    {
     "name": "stdout",
     "output_type": "stream",
     "text": [
      "Epoch 1/5\n",
      "4/4 [==============================] - 0s 18ms/step - loss: 0.0044 - mean_squared_error: 0.0044\n",
      "Epoch 2/5\n",
      "4/4 [==============================] - 0s 20ms/step - loss: 0.0041 - mean_squared_error: 0.0041\n",
      "Epoch 3/5\n",
      "4/4 [==============================] - 0s 21ms/step - loss: 0.0035 - mean_squared_error: 0.0035\n",
      "Epoch 4/5\n",
      "4/4 [==============================] - 0s 19ms/step - loss: 0.0036 - mean_squared_error: 0.0036\n",
      "Epoch 5/5\n",
      "4/4 [==============================] - 0s 19ms/step - loss: 0.0039 - mean_squared_error: 0.0039\n",
      "1/1 [==============================] - 0s 22ms/step\n"
     ]
    },
    {
     "data": {
      "text/plain": [
       "array([[44446.797]], dtype=float32)"
      ]
     },
     "metadata": {},
     "output_type": "display_data"
    },
    {
     "name": "stdout",
     "output_type": "stream",
     "text": [
      "Epoch 1/5\n",
      "4/4 [==============================] - 0s 18ms/step - loss: 0.0032 - mean_squared_error: 0.0032\n",
      "Epoch 2/5\n",
      "4/4 [==============================] - 0s 20ms/step - loss: 0.0041 - mean_squared_error: 0.0041\n",
      "Epoch 3/5\n",
      "4/4 [==============================] - 0s 18ms/step - loss: 0.0037 - mean_squared_error: 0.0037\n",
      "Epoch 4/5\n",
      "4/4 [==============================] - 0s 18ms/step - loss: 0.0033 - mean_squared_error: 0.0033\n",
      "Epoch 5/5\n",
      "4/4 [==============================] - 0s 19ms/step - loss: 0.0035 - mean_squared_error: 0.0035\n",
      "1/1 [==============================] - 0s 22ms/step\n"
     ]
    },
    {
     "data": {
      "text/plain": [
       "array([[48033.344]], dtype=float32)"
      ]
     },
     "metadata": {},
     "output_type": "display_data"
    },
    {
     "name": "stdout",
     "output_type": "stream",
     "text": [
      "Epoch 1/5\n",
      "4/4 [==============================] - 0s 20ms/step - loss: 0.0033 - mean_squared_error: 0.0033\n",
      "Epoch 2/5\n",
      "4/4 [==============================] - 0s 18ms/step - loss: 0.0034 - mean_squared_error: 0.0034\n",
      "Epoch 3/5\n",
      "4/4 [==============================] - 0s 18ms/step - loss: 0.0035 - mean_squared_error: 0.0035\n",
      "Epoch 4/5\n",
      "4/4 [==============================] - 0s 19ms/step - loss: 0.0037 - mean_squared_error: 0.0037\n",
      "Epoch 5/5\n",
      "4/4 [==============================] - 0s 19ms/step - loss: 0.0033 - mean_squared_error: 0.0033\n",
      "1/1 [==============================] - 0s 23ms/step\n"
     ]
    },
    {
     "data": {
      "text/plain": [
       "array([[47077.664]], dtype=float32)"
      ]
     },
     "metadata": {},
     "output_type": "display_data"
    },
    {
     "name": "stdout",
     "output_type": "stream",
     "text": [
      "Epoch 1/5\n",
      "4/4 [==============================] - 0s 18ms/step - loss: 0.0035 - mean_squared_error: 0.0035\n",
      "Epoch 2/5\n",
      "4/4 [==============================] - 0s 17ms/step - loss: 0.0034 - mean_squared_error: 0.0034\n",
      "Epoch 3/5\n",
      "4/4 [==============================] - 0s 17ms/step - loss: 0.0033 - mean_squared_error: 0.0033\n",
      "Epoch 4/5\n",
      "4/4 [==============================] - 0s 16ms/step - loss: 0.0030 - mean_squared_error: 0.0030\n",
      "Epoch 5/5\n",
      "4/4 [==============================] - 0s 17ms/step - loss: 0.0030 - mean_squared_error: 0.0030\n",
      "1/1 [==============================] - 0s 22ms/step\n"
     ]
    },
    {
     "data": {
      "text/plain": [
       "array([[46758.418]], dtype=float32)"
      ]
     },
     "metadata": {},
     "output_type": "display_data"
    },
    {
     "name": "stdout",
     "output_type": "stream",
     "text": [
      "Epoch 1/5\n",
      "5/5 [==============================] - 0s 16ms/step - loss: 0.0032 - mean_squared_error: 0.0032\n",
      "Epoch 2/5\n",
      "5/5 [==============================] - 0s 17ms/step - loss: 0.0038 - mean_squared_error: 0.0038\n",
      "Epoch 3/5\n",
      "5/5 [==============================] - 0s 16ms/step - loss: 0.0033 - mean_squared_error: 0.0033\n",
      "Epoch 4/5\n",
      "5/5 [==============================] - 0s 17ms/step - loss: 0.0037 - mean_squared_error: 0.0037\n",
      "Epoch 5/5\n",
      "5/5 [==============================] - 0s 16ms/step - loss: 0.0033 - mean_squared_error: 0.0033\n",
      "1/1 [==============================] - 0s 22ms/step\n"
     ]
    },
    {
     "data": {
      "text/plain": [
       "array([[45414.137]], dtype=float32)"
      ]
     },
     "metadata": {},
     "output_type": "display_data"
    },
    {
     "name": "stdout",
     "output_type": "stream",
     "text": [
      "Epoch 1/5\n",
      "5/5 [==============================] - 0s 16ms/step - loss: 0.0042 - mean_squared_error: 0.0042\n",
      "Epoch 2/5\n",
      "5/5 [==============================] - 0s 17ms/step - loss: 0.0037 - mean_squared_error: 0.0037\n",
      "Epoch 3/5\n",
      "5/5 [==============================] - 0s 19ms/step - loss: 0.0034 - mean_squared_error: 0.0034\n",
      "Epoch 4/5\n",
      "5/5 [==============================] - 0s 16ms/step - loss: 0.0034 - mean_squared_error: 0.0034\n",
      "Epoch 5/5\n",
      "5/5 [==============================] - 0s 17ms/step - loss: 0.0038 - mean_squared_error: 0.0038\n",
      "1/1 [==============================] - 0s 23ms/step\n"
     ]
    },
    {
     "data": {
      "text/plain": [
       "array([[46111.035]], dtype=float32)"
      ]
     },
     "metadata": {},
     "output_type": "display_data"
    },
    {
     "name": "stdout",
     "output_type": "stream",
     "text": [
      "Epoch 1/5\n",
      "5/5 [==============================] - 0s 17ms/step - loss: 0.0037 - mean_squared_error: 0.0037\n",
      "Epoch 2/5\n",
      "5/5 [==============================] - 0s 17ms/step - loss: 0.0033 - mean_squared_error: 0.0033\n",
      "Epoch 3/5\n",
      "5/5 [==============================] - 0s 17ms/step - loss: 0.0037 - mean_squared_error: 0.0037\n",
      "Epoch 4/5\n",
      "5/5 [==============================] - 0s 17ms/step - loss: 0.0031 - mean_squared_error: 0.0031\n",
      "Epoch 5/5\n",
      "5/5 [==============================] - 0s 18ms/step - loss: 0.0035 - mean_squared_error: 0.0035\n",
      "1/1 [==============================] - 0s 22ms/step\n"
     ]
    },
    {
     "data": {
      "text/plain": [
       "array([[47905.59]], dtype=float32)"
      ]
     },
     "metadata": {},
     "output_type": "display_data"
    },
    {
     "name": "stdout",
     "output_type": "stream",
     "text": [
      "Epoch 1/5\n",
      "5/5 [==============================] - 0s 17ms/step - loss: 0.0031 - mean_squared_error: 0.0031\n",
      "Epoch 2/5\n",
      "5/5 [==============================] - 0s 16ms/step - loss: 0.0035 - mean_squared_error: 0.0035\n",
      "Epoch 3/5\n",
      "5/5 [==============================] - 0s 16ms/step - loss: 0.0036 - mean_squared_error: 0.0036\n",
      "Epoch 4/5\n",
      "5/5 [==============================] - 0s 17ms/step - loss: 0.0044 - mean_squared_error: 0.0044\n",
      "Epoch 5/5\n",
      "5/5 [==============================] - 0s 16ms/step - loss: 0.0043 - mean_squared_error: 0.0043\n",
      "1/1 [==============================] - 0s 23ms/step\n"
     ]
    },
    {
     "data": {
      "text/plain": [
       "array([[44899.414]], dtype=float32)"
      ]
     },
     "metadata": {},
     "output_type": "display_data"
    },
    {
     "name": "stdout",
     "output_type": "stream",
     "text": [
      "Epoch 1/5\n",
      "5/5 [==============================] - 0s 16ms/step - loss: 0.0038 - mean_squared_error: 0.0038\n",
      "Epoch 2/5\n",
      "5/5 [==============================] - 0s 16ms/step - loss: 0.0038 - mean_squared_error: 0.0038\n",
      "Epoch 3/5\n",
      "5/5 [==============================] - 0s 19ms/step - loss: 0.0039 - mean_squared_error: 0.0039\n",
      "Epoch 4/5\n",
      "5/5 [==============================] - 0s 19ms/step - loss: 0.0035 - mean_squared_error: 0.0035\n",
      "Epoch 5/5\n",
      "5/5 [==============================] - 0s 19ms/step - loss: 0.0035 - mean_squared_error: 0.0035\n",
      "1/1 [==============================] - 0s 25ms/step\n"
     ]
    },
    {
     "data": {
      "text/plain": [
       "array([[46469.598]], dtype=float32)"
      ]
     },
     "metadata": {},
     "output_type": "display_data"
    },
    {
     "name": "stdout",
     "output_type": "stream",
     "text": [
      "Epoch 1/5\n",
      "5/5 [==============================] - 0s 18ms/step - loss: 0.0036 - mean_squared_error: 0.0036\n",
      "Epoch 2/5\n",
      "5/5 [==============================] - 0s 19ms/step - loss: 0.0032 - mean_squared_error: 0.0032\n",
      "Epoch 3/5\n",
      "5/5 [==============================] - 0s 18ms/step - loss: 0.0037 - mean_squared_error: 0.0037\n",
      "Epoch 4/5\n",
      "5/5 [==============================] - 0s 18ms/step - loss: 0.0032 - mean_squared_error: 0.0032\n",
      "Epoch 5/5\n",
      "5/5 [==============================] - 0s 20ms/step - loss: 0.0035 - mean_squared_error: 0.0035\n",
      "1/1 [==============================] - 0s 24ms/step\n"
     ]
    },
    {
     "data": {
      "text/plain": [
       "array([[45627.133]], dtype=float32)"
      ]
     },
     "metadata": {},
     "output_type": "display_data"
    },
    {
     "name": "stdout",
     "output_type": "stream",
     "text": [
      "Epoch 1/5\n",
      "5/5 [==============================] - 0s 18ms/step - loss: 0.0040 - mean_squared_error: 0.0040\n",
      "Epoch 2/5\n",
      "5/5 [==============================] - 0s 16ms/step - loss: 0.0032 - mean_squared_error: 0.0032\n",
      "Epoch 3/5\n",
      "5/5 [==============================] - 0s 23ms/step - loss: 0.0034 - mean_squared_error: 0.0034\n",
      "Epoch 4/5\n",
      "5/5 [==============================] - 0s 21ms/step - loss: 0.0030 - mean_squared_error: 0.0030\n",
      "Epoch 5/5\n",
      "5/5 [==============================] - 0s 19ms/step - loss: 0.0032 - mean_squared_error: 0.0032\n",
      "1/1 [==============================] - 0s 23ms/step\n"
     ]
    },
    {
     "data": {
      "text/plain": [
       "array([[45503.395]], dtype=float32)"
      ]
     },
     "metadata": {},
     "output_type": "display_data"
    },
    {
     "name": "stdout",
     "output_type": "stream",
     "text": [
      "Epoch 1/5\n",
      "5/5 [==============================] - 0s 17ms/step - loss: 0.0036 - mean_squared_error: 0.0036\n",
      "Epoch 2/5\n",
      "5/5 [==============================] - 0s 20ms/step - loss: 0.0037 - mean_squared_error: 0.0037\n",
      "Epoch 3/5\n",
      "5/5 [==============================] - 0s 18ms/step - loss: 0.0037 - mean_squared_error: 0.0037\n",
      "Epoch 4/5\n",
      "5/5 [==============================] - 0s 17ms/step - loss: 0.0037 - mean_squared_error: 0.0037\n",
      "Epoch 5/5\n",
      "5/5 [==============================] - 0s 17ms/step - loss: 0.0033 - mean_squared_error: 0.0033\n",
      "1/1 [==============================] - 0s 22ms/step\n"
     ]
    },
    {
     "data": {
      "text/plain": [
       "array([[46311.535]], dtype=float32)"
      ]
     },
     "metadata": {},
     "output_type": "display_data"
    },
    {
     "name": "stdout",
     "output_type": "stream",
     "text": [
      "Epoch 1/5\n",
      "5/5 [==============================] - 0s 17ms/step - loss: 0.0033 - mean_squared_error: 0.0033\n",
      "Epoch 2/5\n",
      "5/5 [==============================] - 0s 16ms/step - loss: 0.0030 - mean_squared_error: 0.0030\n",
      "Epoch 3/5\n",
      "5/5 [==============================] - 0s 17ms/step - loss: 0.0035 - mean_squared_error: 0.0035\n",
      "Epoch 4/5\n",
      "5/5 [==============================] - 0s 17ms/step - loss: 0.0033 - mean_squared_error: 0.0033\n",
      "Epoch 5/5\n",
      "5/5 [==============================] - 0s 17ms/step - loss: 0.0037 - mean_squared_error: 0.0037\n",
      "1/1 [==============================] - 0s 22ms/step\n"
     ]
    },
    {
     "data": {
      "text/plain": [
       "array([[46140.145]], dtype=float32)"
      ]
     },
     "metadata": {},
     "output_type": "display_data"
    },
    {
     "name": "stdout",
     "output_type": "stream",
     "text": [
      "Epoch 1/5\n",
      "5/5 [==============================] - 0s 17ms/step - loss: 0.0028 - mean_squared_error: 0.0028\n",
      "Epoch 2/5\n",
      "5/5 [==============================] - 0s 16ms/step - loss: 0.0037 - mean_squared_error: 0.0037\n",
      "Epoch 3/5\n",
      "5/5 [==============================] - 0s 16ms/step - loss: 0.0039 - mean_squared_error: 0.0039\n",
      "Epoch 4/5\n",
      "5/5 [==============================] - 0s 18ms/step - loss: 0.0040 - mean_squared_error: 0.0040\n",
      "Epoch 5/5\n",
      "5/5 [==============================] - 0s 17ms/step - loss: 0.0039 - mean_squared_error: 0.0039\n",
      "1/1 [==============================] - 0s 22ms/step\n"
     ]
    },
    {
     "data": {
      "text/plain": [
       "array([[46237.145]], dtype=float32)"
      ]
     },
     "metadata": {},
     "output_type": "display_data"
    },
    {
     "name": "stdout",
     "output_type": "stream",
     "text": [
      "Epoch 1/5\n",
      "5/5 [==============================] - 0s 16ms/step - loss: 0.0036 - mean_squared_error: 0.0036\n",
      "Epoch 2/5\n",
      "5/5 [==============================] - 0s 19ms/step - loss: 0.0035 - mean_squared_error: 0.0035\n",
      "Epoch 3/5\n",
      "5/5 [==============================] - 0s 17ms/step - loss: 0.0034 - mean_squared_error: 0.0034\n",
      "Epoch 4/5\n",
      "5/5 [==============================] - 0s 17ms/step - loss: 0.0036 - mean_squared_error: 0.0036\n",
      "Epoch 5/5\n",
      "5/5 [==============================] - 0s 16ms/step - loss: 0.0030 - mean_squared_error: 0.0030\n",
      "1/1 [==============================] - 0s 22ms/step\n"
     ]
    },
    {
     "data": {
      "text/plain": [
       "array([[47053.426]], dtype=float32)"
      ]
     },
     "metadata": {},
     "output_type": "display_data"
    },
    {
     "name": "stdout",
     "output_type": "stream",
     "text": [
      "Epoch 1/5\n",
      "5/5 [==============================] - 0s 18ms/step - loss: 0.0032 - mean_squared_error: 0.0032\n",
      "Epoch 2/5\n",
      "5/5 [==============================] - 0s 17ms/step - loss: 0.0028 - mean_squared_error: 0.0028\n",
      "Epoch 3/5\n",
      "5/5 [==============================] - 0s 17ms/step - loss: 0.0032 - mean_squared_error: 0.0032\n",
      "Epoch 4/5\n",
      "5/5 [==============================] - 0s 17ms/step - loss: 0.0028 - mean_squared_error: 0.0028\n",
      "Epoch 5/5\n",
      "5/5 [==============================] - 0s 20ms/step - loss: 0.0030 - mean_squared_error: 0.0030\n",
      "1/1 [==============================] - 0s 23ms/step\n"
     ]
    },
    {
     "data": {
      "text/plain": [
       "array([[45824.85]], dtype=float32)"
      ]
     },
     "metadata": {},
     "output_type": "display_data"
    },
    {
     "name": "stdout",
     "output_type": "stream",
     "text": [
      "Epoch 1/5\n",
      "5/5 [==============================] - 0s 18ms/step - loss: 0.0027 - mean_squared_error: 0.0027\n",
      "Epoch 2/5\n",
      "5/5 [==============================] - 0s 17ms/step - loss: 0.0030 - mean_squared_error: 0.0030\n",
      "Epoch 3/5\n",
      "5/5 [==============================] - 0s 17ms/step - loss: 0.0029 - mean_squared_error: 0.0029\n",
      "Epoch 4/5\n",
      "5/5 [==============================] - 0s 18ms/step - loss: 0.0029 - mean_squared_error: 0.0029\n",
      "Epoch 5/5\n",
      "5/5 [==============================] - 0s 18ms/step - loss: 0.0028 - mean_squared_error: 0.0028\n",
      "1/1 [==============================] - 0s 22ms/step\n"
     ]
    },
    {
     "data": {
      "text/plain": [
       "array([[45860.66]], dtype=float32)"
      ]
     },
     "metadata": {},
     "output_type": "display_data"
    },
    {
     "name": "stdout",
     "output_type": "stream",
     "text": [
      "Epoch 1/5\n",
      "5/5 [==============================] - 0s 17ms/step - loss: 0.0034 - mean_squared_error: 0.0034\n",
      "Epoch 2/5\n",
      "5/5 [==============================] - 0s 18ms/step - loss: 0.0030 - mean_squared_error: 0.0030\n",
      "Epoch 3/5\n",
      "5/5 [==============================] - 0s 17ms/step - loss: 0.0035 - mean_squared_error: 0.0035\n",
      "Epoch 4/5\n",
      "5/5 [==============================] - 0s 17ms/step - loss: 0.0030 - mean_squared_error: 0.0030\n",
      "Epoch 5/5\n",
      "5/5 [==============================] - 0s 17ms/step - loss: 0.0033 - mean_squared_error: 0.0033\n",
      "1/1 [==============================] - 0s 22ms/step\n"
     ]
    },
    {
     "data": {
      "text/plain": [
       "array([[46037.906]], dtype=float32)"
      ]
     },
     "metadata": {},
     "output_type": "display_data"
    },
    {
     "name": "stdout",
     "output_type": "stream",
     "text": [
      "Epoch 1/5\n",
      "5/5 [==============================] - 0s 17ms/step - loss: 0.0034 - mean_squared_error: 0.0034\n",
      "Epoch 2/5\n",
      "5/5 [==============================] - 0s 17ms/step - loss: 0.0044 - mean_squared_error: 0.0044\n",
      "Epoch 3/5\n",
      "5/5 [==============================] - 0s 17ms/step - loss: 0.0035 - mean_squared_error: 0.0035\n",
      "Epoch 4/5\n",
      "5/5 [==============================] - 0s 17ms/step - loss: 0.0032 - mean_squared_error: 0.0032\n",
      "Epoch 5/5\n",
      "5/5 [==============================] - 0s 17ms/step - loss: 0.0026 - mean_squared_error: 0.0026\n",
      "1/1 [==============================] - 0s 22ms/step\n"
     ]
    },
    {
     "data": {
      "text/plain": [
       "array([[46590.31]], dtype=float32)"
      ]
     },
     "metadata": {},
     "output_type": "display_data"
    },
    {
     "name": "stdout",
     "output_type": "stream",
     "text": [
      "Epoch 1/5\n",
      "5/5 [==============================] - 0s 18ms/step - loss: 0.0025 - mean_squared_error: 0.0025\n",
      "Epoch 2/5\n",
      "5/5 [==============================] - 0s 18ms/step - loss: 0.0025 - mean_squared_error: 0.0025\n",
      "Epoch 3/5\n",
      "5/5 [==============================] - 0s 18ms/step - loss: 0.0030 - mean_squared_error: 0.0030\n",
      "Epoch 4/5\n",
      "5/5 [==============================] - 0s 17ms/step - loss: 0.0029 - mean_squared_error: 0.0029\n",
      "Epoch 5/5\n",
      "5/5 [==============================] - 0s 17ms/step - loss: 0.0029 - mean_squared_error: 0.0029\n",
      "1/1 [==============================] - 0s 23ms/step\n"
     ]
    },
    {
     "data": {
      "text/plain": [
       "array([[45643.395]], dtype=float32)"
      ]
     },
     "metadata": {},
     "output_type": "display_data"
    },
    {
     "name": "stdout",
     "output_type": "stream",
     "text": [
      "Epoch 1/5\n",
      "5/5 [==============================] - 0s 17ms/step - loss: 0.0029 - mean_squared_error: 0.0029\n",
      "Epoch 2/5\n",
      "5/5 [==============================] - 0s 17ms/step - loss: 0.0034 - mean_squared_error: 0.0034\n",
      "Epoch 3/5\n",
      "5/5 [==============================] - 0s 18ms/step - loss: 0.0030 - mean_squared_error: 0.0030\n",
      "Epoch 4/5\n",
      "5/5 [==============================] - 0s 17ms/step - loss: 0.0027 - mean_squared_error: 0.0027\n",
      "Epoch 5/5\n",
      "5/5 [==============================] - 0s 17ms/step - loss: 0.0028 - mean_squared_error: 0.0028\n",
      "1/1 [==============================] - 0s 22ms/step\n"
     ]
    },
    {
     "data": {
      "text/plain": [
       "array([[45927.504]], dtype=float32)"
      ]
     },
     "metadata": {},
     "output_type": "display_data"
    },
    {
     "name": "stdout",
     "output_type": "stream",
     "text": [
      "Epoch 1/5\n",
      "5/5 [==============================] - 0s 17ms/step - loss: 0.0029 - mean_squared_error: 0.0029\n",
      "Epoch 2/5\n",
      "5/5 [==============================] - 0s 17ms/step - loss: 0.0031 - mean_squared_error: 0.0031\n",
      "Epoch 3/5\n",
      "5/5 [==============================] - 0s 17ms/step - loss: 0.0030 - mean_squared_error: 0.0030\n",
      "Epoch 4/5\n",
      "5/5 [==============================] - 0s 19ms/step - loss: 0.0030 - mean_squared_error: 0.0030\n",
      "Epoch 5/5\n",
      "5/5 [==============================] - 0s 17ms/step - loss: 0.0028 - mean_squared_error: 0.0028\n",
      "1/1 [==============================] - 0s 22ms/step\n"
     ]
    },
    {
     "data": {
      "text/plain": [
       "array([[45234.25]], dtype=float32)"
      ]
     },
     "metadata": {},
     "output_type": "display_data"
    },
    {
     "name": "stdout",
     "output_type": "stream",
     "text": [
      "Epoch 1/5\n",
      "5/5 [==============================] - 0s 17ms/step - loss: 0.0031 - mean_squared_error: 0.0031\n",
      "Epoch 2/5\n",
      "5/5 [==============================] - 0s 16ms/step - loss: 0.0030 - mean_squared_error: 0.0030\n",
      "Epoch 3/5\n",
      "5/5 [==============================] - 0s 17ms/step - loss: 0.0028 - mean_squared_error: 0.0028\n",
      "Epoch 4/5\n",
      "5/5 [==============================] - 0s 17ms/step - loss: 0.0026 - mean_squared_error: 0.0026\n",
      "Epoch 5/5\n",
      "5/5 [==============================] - 0s 17ms/step - loss: 0.0026 - mean_squared_error: 0.0026\n",
      "1/1 [==============================] - 0s 22ms/step\n"
     ]
    },
    {
     "data": {
      "text/plain": [
       "array([[45506.51]], dtype=float32)"
      ]
     },
     "metadata": {},
     "output_type": "display_data"
    },
    {
     "name": "stdout",
     "output_type": "stream",
     "text": [
      "Epoch 1/5\n",
      "5/5 [==============================] - 0s 17ms/step - loss: 0.0027 - mean_squared_error: 0.0027\n",
      "Epoch 2/5\n",
      "5/5 [==============================] - 0s 17ms/step - loss: 0.0030 - mean_squared_error: 0.0030\n",
      "Epoch 3/5\n",
      "5/5 [==============================] - 0s 17ms/step - loss: 0.0028 - mean_squared_error: 0.0028\n",
      "Epoch 4/5\n",
      "5/5 [==============================] - 0s 17ms/step - loss: 0.0025 - mean_squared_error: 0.0025\n",
      "Epoch 5/5\n",
      "5/5 [==============================] - 0s 17ms/step - loss: 0.0026 - mean_squared_error: 0.0026\n",
      "1/1 [==============================] - 0s 22ms/step\n"
     ]
    },
    {
     "data": {
      "text/plain": [
       "array([[46293.848]], dtype=float32)"
      ]
     },
     "metadata": {},
     "output_type": "display_data"
    },
    {
     "name": "stdout",
     "output_type": "stream",
     "text": [
      "Epoch 1/5\n",
      "5/5 [==============================] - 0s 18ms/step - loss: 0.0029 - mean_squared_error: 0.0029\n",
      "Epoch 2/5\n",
      "5/5 [==============================] - 0s 18ms/step - loss: 0.0031 - mean_squared_error: 0.0031\n",
      "Epoch 3/5\n",
      "5/5 [==============================] - 0s 18ms/step - loss: 0.0028 - mean_squared_error: 0.0028\n",
      "Epoch 4/5\n",
      "5/5 [==============================] - 0s 17ms/step - loss: 0.0029 - mean_squared_error: 0.0029\n",
      "Epoch 5/5\n",
      "5/5 [==============================] - 0s 18ms/step - loss: 0.0028 - mean_squared_error: 0.0028\n",
      "1/1 [==============================] - 0s 23ms/step\n"
     ]
    },
    {
     "data": {
      "text/plain": [
       "array([[44923.918]], dtype=float32)"
      ]
     },
     "metadata": {},
     "output_type": "display_data"
    },
    {
     "name": "stdout",
     "output_type": "stream",
     "text": [
      "Epoch 1/5\n",
      "5/5 [==============================] - 0s 18ms/step - loss: 0.0029 - mean_squared_error: 0.0029\n",
      "Epoch 2/5\n",
      "5/5 [==============================] - 0s 22ms/step - loss: 0.0030 - mean_squared_error: 0.0030\n",
      "Epoch 3/5\n",
      "5/5 [==============================] - 0s 17ms/step - loss: 0.0034 - mean_squared_error: 0.0034\n",
      "Epoch 4/5\n",
      "5/5 [==============================] - 0s 16ms/step - loss: 0.0035 - mean_squared_error: 0.0035\n",
      "Epoch 5/5\n",
      "5/5 [==============================] - 0s 16ms/step - loss: 0.0033 - mean_squared_error: 0.0033\n",
      "1/1 [==============================] - 0s 28ms/step\n"
     ]
    },
    {
     "data": {
      "text/plain": [
       "array([[45338.38]], dtype=float32)"
      ]
     },
     "metadata": {},
     "output_type": "display_data"
    },
    {
     "name": "stdout",
     "output_type": "stream",
     "text": [
      "Epoch 1/5\n",
      "5/5 [==============================] - 0s 17ms/step - loss: 0.0038 - mean_squared_error: 0.0038\n",
      "Epoch 2/5\n",
      "5/5 [==============================] - 0s 16ms/step - loss: 0.0031 - mean_squared_error: 0.0031\n",
      "Epoch 3/5\n",
      "5/5 [==============================] - 0s 18ms/step - loss: 0.0028 - mean_squared_error: 0.0028\n",
      "Epoch 4/5\n",
      "5/5 [==============================] - 0s 18ms/step - loss: 0.0030 - mean_squared_error: 0.0030\n",
      "Epoch 5/5\n",
      "5/5 [==============================] - 0s 18ms/step - loss: 0.0030 - mean_squared_error: 0.0030\n",
      "1/1 [==============================] - 0s 45ms/step\n"
     ]
    },
    {
     "data": {
      "text/plain": [
       "array([[46922.047]], dtype=float32)"
      ]
     },
     "metadata": {},
     "output_type": "display_data"
    },
    {
     "name": "stdout",
     "output_type": "stream",
     "text": [
      "Epoch 1/5\n",
      "5/5 [==============================] - 0s 16ms/step - loss: 0.0027 - mean_squared_error: 0.0027\n",
      "Epoch 2/5\n",
      "5/5 [==============================] - 0s 16ms/step - loss: 0.0029 - mean_squared_error: 0.0029\n",
      "Epoch 3/5\n",
      "5/5 [==============================] - 0s 17ms/step - loss: 0.0027 - mean_squared_error: 0.0027\n",
      "Epoch 4/5\n",
      "5/5 [==============================] - 0s 17ms/step - loss: 0.0026 - mean_squared_error: 0.0026\n",
      "Epoch 5/5\n",
      "5/5 [==============================] - 0s 17ms/step - loss: 0.0030 - mean_squared_error: 0.0030\n",
      "1/1 [==============================] - 0s 22ms/step\n"
     ]
    },
    {
     "data": {
      "text/plain": [
       "array([[45359.16]], dtype=float32)"
      ]
     },
     "metadata": {},
     "output_type": "display_data"
    },
    {
     "name": "stdout",
     "output_type": "stream",
     "text": [
      "Epoch 1/5\n",
      "5/5 [==============================] - 0s 17ms/step - loss: 0.0027 - mean_squared_error: 0.0027\n",
      "Epoch 2/5\n",
      "5/5 [==============================] - 0s 17ms/step - loss: 0.0027 - mean_squared_error: 0.0027\n",
      "Epoch 3/5\n",
      "5/5 [==============================] - 0s 17ms/step - loss: 0.0030 - mean_squared_error: 0.0030\n",
      "Epoch 4/5\n",
      "5/5 [==============================] - 0s 17ms/step - loss: 0.0029 - mean_squared_error: 0.0029\n",
      "Epoch 5/5\n",
      "5/5 [==============================] - 0s 17ms/step - loss: 0.0026 - mean_squared_error: 0.0026\n",
      "1/1 [==============================] - 0s 24ms/step\n"
     ]
    },
    {
     "data": {
      "text/plain": [
       "array([[45750.477]], dtype=float32)"
      ]
     },
     "metadata": {},
     "output_type": "display_data"
    },
    {
     "name": "stdout",
     "output_type": "stream",
     "text": [
      "Epoch 1/5\n",
      "5/5 [==============================] - 0s 18ms/step - loss: 0.0027 - mean_squared_error: 0.0027\n",
      "Epoch 2/5\n",
      "5/5 [==============================] - 0s 19ms/step - loss: 0.0025 - mean_squared_error: 0.0025\n",
      "Epoch 3/5\n",
      "5/5 [==============================] - 0s 18ms/step - loss: 0.0027 - mean_squared_error: 0.0027\n",
      "Epoch 4/5\n",
      "5/5 [==============================] - 0s 21ms/step - loss: 0.0025 - mean_squared_error: 0.0025 \n",
      "Epoch 5/5\n",
      "5/5 [==============================] - 0s 17ms/step - loss: 0.0026 - mean_squared_error: 0.0026\n",
      "1/1 [==============================] - 0s 22ms/step\n"
     ]
    },
    {
     "data": {
      "text/plain": [
       "array([[45838.73]], dtype=float32)"
      ]
     },
     "metadata": {},
     "output_type": "display_data"
    },
    {
     "name": "stdout",
     "output_type": "stream",
     "text": [
      "Epoch 1/5\n",
      "5/5 [==============================] - 0s 18ms/step - loss: 0.0024 - mean_squared_error: 0.0024\n",
      "Epoch 2/5\n",
      "5/5 [==============================] - 0s 18ms/step - loss: 0.0024 - mean_squared_error: 0.0024\n",
      "Epoch 3/5\n",
      "5/5 [==============================] - 0s 17ms/step - loss: 0.0031 - mean_squared_error: 0.0031\n",
      "Epoch 4/5\n",
      "5/5 [==============================] - 0s 17ms/step - loss: 0.0026 - mean_squared_error: 0.0026\n",
      "Epoch 5/5\n",
      "5/5 [==============================] - 0s 17ms/step - loss: 0.0025 - mean_squared_error: 0.0025\n",
      "1/1 [==============================] - 0s 24ms/step\n"
     ]
    },
    {
     "data": {
      "text/plain": [
       "array([[45703.39]], dtype=float32)"
      ]
     },
     "metadata": {},
     "output_type": "display_data"
    },
    {
     "name": "stdout",
     "output_type": "stream",
     "text": [
      "Epoch 1/5\n",
      "5/5 [==============================] - 0s 18ms/step - loss: 0.0025 - mean_squared_error: 0.0025\n",
      "Epoch 2/5\n",
      "5/5 [==============================] - 0s 17ms/step - loss: 0.0031 - mean_squared_error: 0.0031\n",
      "Epoch 3/5\n",
      "5/5 [==============================] - 0s 18ms/step - loss: 0.0026 - mean_squared_error: 0.0026\n",
      "Epoch 4/5\n",
      "5/5 [==============================] - 0s 17ms/step - loss: 0.0027 - mean_squared_error: 0.0027\n",
      "Epoch 5/5\n",
      "5/5 [==============================] - 0s 18ms/step - loss: 0.0025 - mean_squared_error: 0.0025\n",
      "1/1 [==============================] - 0s 23ms/step\n"
     ]
    },
    {
     "data": {
      "text/plain": [
       "array([[47068.453]], dtype=float32)"
      ]
     },
     "metadata": {},
     "output_type": "display_data"
    },
    {
     "name": "stdout",
     "output_type": "stream",
     "text": [
      "Epoch 1/5\n",
      "5/5 [==============================] - 0s 18ms/step - loss: 0.0026 - mean_squared_error: 0.0026\n",
      "Epoch 2/5\n",
      "5/5 [==============================] - 0s 17ms/step - loss: 0.0028 - mean_squared_error: 0.0028\n",
      "Epoch 3/5\n",
      "5/5 [==============================] - 0s 18ms/step - loss: 0.0029 - mean_squared_error: 0.0029\n",
      "Epoch 4/5\n",
      "5/5 [==============================] - 0s 16ms/step - loss: 0.0025 - mean_squared_error: 0.0025\n",
      "Epoch 5/5\n",
      "5/5 [==============================] - 0s 18ms/step - loss: 0.0027 - mean_squared_error: 0.0027\n",
      "1/1 [==============================] - 0s 22ms/step\n"
     ]
    },
    {
     "data": {
      "text/plain": [
       "array([[46799.95]], dtype=float32)"
      ]
     },
     "metadata": {},
     "output_type": "display_data"
    },
    {
     "name": "stdout",
     "output_type": "stream",
     "text": [
      "Epoch 1/5\n",
      "5/5 [==============================] - 0s 17ms/step - loss: 0.0029 - mean_squared_error: 0.0029\n",
      "Epoch 2/5\n",
      "5/5 [==============================] - 0s 18ms/step - loss: 0.0029 - mean_squared_error: 0.0029\n",
      "Epoch 3/5\n",
      "5/5 [==============================] - 0s 17ms/step - loss: 0.0025 - mean_squared_error: 0.0025\n",
      "Epoch 4/5\n",
      "5/5 [==============================] - 0s 16ms/step - loss: 0.0027 - mean_squared_error: 0.0027\n",
      "Epoch 5/5\n",
      "5/5 [==============================] - 0s 16ms/step - loss: 0.0025 - mean_squared_error: 0.0025\n"
     ]
    }
   ],
   "source": [
    "# Projects future data by using model to predict next close and then uses that value to retrain \n",
    "# the model before making next prediction\n",
    "for i in range(56): \n",
    "    # predicts next close value and reshapes it\n",
    "    prediction_scaled=model.predict(X_train[-1].reshape(1, window_size, 1))\n",
    "    # transforms prediction back to original scale\n",
    "    next_prediction=y_scaler.inverse_transform(prediction_scaled)\n",
    "    # displays predicted close value\n",
    "    display(next_prediction)\n",
    "    # adds predicted close value to list\n",
    "    new_train_sample=np.append(X_train[-1], prediction_scaled)[1:].reshape(1, window_size, 1)\n",
    "    # adds new list entry of predicted close to X train\n",
    "    X_train=np.append(X_train, new_train_sample, axis=0)\n",
    "    # adds new list entry of predicted close to y train\n",
    "    y_train=np.append(y_train, prediction_scaled, axis=0)\n",
    "    # refits model with new close value\n",
    "    model.fit(X_train, y_train, epochs=5)"
   ]
  },
  {
   "cell_type": "code",
   "execution_count": 81,
   "id": "5f56a9c9-96b1-4e17-8514-46d59c132ca2",
   "metadata": {},
   "outputs": [
    {
     "name": "stdout",
     "output_type": "stream",
     "text": [
      "2/2 [==============================] - 0s 7ms/step\n"
     ]
    }
   ],
   "source": [
    "# predicts next close values\n",
    "prediction = model.predict(X_test)\n",
    "# rescales predicted values to original scale\n",
    "y_predicted=y_scaler.inverse_transform(prediction)"
   ]
  },
  {
   "cell_type": "code",
   "execution_count": 82,
   "id": "8f6de8d0-7616-41af-867f-9625431fee62",
   "metadata": {},
   "outputs": [
    {
     "data": {
      "text/plain": [
       "97"
      ]
     },
     "execution_count": 82,
     "metadata": {},
     "output_type": "execute_result"
    }
   ],
   "source": [
    "len(df['close'])-61"
   ]
  },
  {
   "cell_type": "code",
   "execution_count": 84,
   "id": "b63e03e2-d0da-4169-b262-c734ec5a0ef2",
   "metadata": {},
   "outputs": [
    {
     "data": {
      "text/html": [
       "<div>\n",
       "<style scoped>\n",
       "    .dataframe tbody tr th:only-of-type {\n",
       "        vertical-align: middle;\n",
       "    }\n",
       "\n",
       "    .dataframe tbody tr th {\n",
       "        vertical-align: top;\n",
       "    }\n",
       "\n",
       "    .dataframe thead th {\n",
       "        text-align: right;\n",
       "    }\n",
       "</style>\n",
       "<table border=\"1\" class=\"dataframe\">\n",
       "  <thead>\n",
       "    <tr style=\"text-align: right;\">\n",
       "      <th></th>\n",
       "      <th>predictions</th>\n",
       "      <th>actual</th>\n",
       "    </tr>\n",
       "  </thead>\n",
       "  <tbody>\n",
       "    <tr>\n",
       "      <th>2021-08-23</th>\n",
       "      <td>44608.539062</td>\n",
       "      <td>48829.832031</td>\n",
       "    </tr>\n",
       "    <tr>\n",
       "      <th>2021-08-30</th>\n",
       "      <td>47872.625000</td>\n",
       "      <td>51753.410156</td>\n",
       "    </tr>\n",
       "    <tr>\n",
       "      <th>2021-09-06</th>\n",
       "      <td>50690.765625</td>\n",
       "      <td>46063.269531</td>\n",
       "    </tr>\n",
       "    <tr>\n",
       "      <th>2021-09-13</th>\n",
       "      <td>52972.746094</td>\n",
       "      <td>47260.218750</td>\n",
       "    </tr>\n",
       "    <tr>\n",
       "      <th>2021-09-20</th>\n",
       "      <td>54122.980469</td>\n",
       "      <td>43208.539062</td>\n",
       "    </tr>\n",
       "    <tr>\n",
       "      <th>2021-09-27</th>\n",
       "      <td>53600.910156</td>\n",
       "      <td>48199.953125</td>\n",
       "    </tr>\n",
       "    <tr>\n",
       "      <th>2021-10-04</th>\n",
       "      <td>50981.308594</td>\n",
       "      <td>54771.578125</td>\n",
       "    </tr>\n",
       "    <tr>\n",
       "      <th>2021-10-11</th>\n",
       "      <td>48197.414062</td>\n",
       "      <td>61553.617188</td>\n",
       "    </tr>\n",
       "    <tr>\n",
       "      <th>2021-10-18</th>\n",
       "      <td>46554.300781</td>\n",
       "      <td>60930.835938</td>\n",
       "    </tr>\n",
       "    <tr>\n",
       "      <th>2021-10-25</th>\n",
       "      <td>46821.140625</td>\n",
       "      <td>61318.957031</td>\n",
       "    </tr>\n",
       "    <tr>\n",
       "      <th>2021-11-01</th>\n",
       "      <td>48923.375000</td>\n",
       "      <td>63326.988281</td>\n",
       "    </tr>\n",
       "    <tr>\n",
       "      <th>2021-11-08</th>\n",
       "      <td>52078.421875</td>\n",
       "      <td>65466.839844</td>\n",
       "    </tr>\n",
       "    <tr>\n",
       "      <th>2021-11-15</th>\n",
       "      <td>54898.359375</td>\n",
       "      <td>58730.476562</td>\n",
       "    </tr>\n",
       "    <tr>\n",
       "      <th>2021-11-22</th>\n",
       "      <td>57516.523438</td>\n",
       "      <td>57248.457031</td>\n",
       "    </tr>\n",
       "    <tr>\n",
       "      <th>2021-11-29</th>\n",
       "      <td>57234.339844</td>\n",
       "      <td>49368.847656</td>\n",
       "    </tr>\n",
       "    <tr>\n",
       "      <th>2021-12-06</th>\n",
       "      <td>55329.671875</td>\n",
       "      <td>50098.335938</td>\n",
       "    </tr>\n",
       "    <tr>\n",
       "      <th>2021-12-13</th>\n",
       "      <td>50590.562500</td>\n",
       "      <td>46707.015625</td>\n",
       "    </tr>\n",
       "    <tr>\n",
       "      <th>2021-12-20</th>\n",
       "      <td>45699.226562</td>\n",
       "      <td>50809.515625</td>\n",
       "    </tr>\n",
       "    <tr>\n",
       "      <th>2021-12-27</th>\n",
       "      <td>41694.988281</td>\n",
       "      <td>47345.218750</td>\n",
       "    </tr>\n",
       "    <tr>\n",
       "      <th>2022-01-03</th>\n",
       "      <td>39555.097656</td>\n",
       "      <td>41911.601562</td>\n",
       "    </tr>\n",
       "    <tr>\n",
       "      <th>2022-01-10</th>\n",
       "      <td>38125.148438</td>\n",
       "      <td>43113.878906</td>\n",
       "    </tr>\n",
       "    <tr>\n",
       "      <th>2022-01-17</th>\n",
       "      <td>37562.691406</td>\n",
       "      <td>36276.804688</td>\n",
       "    </tr>\n",
       "    <tr>\n",
       "      <th>2022-01-24</th>\n",
       "      <td>38235.117188</td>\n",
       "      <td>37917.601562</td>\n",
       "    </tr>\n",
       "    <tr>\n",
       "      <th>2022-01-31</th>\n",
       "      <td>39691.886719</td>\n",
       "      <td>42412.433594</td>\n",
       "    </tr>\n",
       "    <tr>\n",
       "      <th>2022-02-07</th>\n",
       "      <td>39884.414062</td>\n",
       "      <td>42197.515625</td>\n",
       "    </tr>\n",
       "    <tr>\n",
       "      <th>2022-02-14</th>\n",
       "      <td>40377.363281</td>\n",
       "      <td>38431.378906</td>\n",
       "    </tr>\n",
       "    <tr>\n",
       "      <th>2022-02-21</th>\n",
       "      <td>40050.093750</td>\n",
       "      <td>37709.785156</td>\n",
       "    </tr>\n",
       "    <tr>\n",
       "      <th>2022-02-28</th>\n",
       "      <td>40666.894531</td>\n",
       "      <td>38419.984375</td>\n",
       "    </tr>\n",
       "    <tr>\n",
       "      <th>2022-03-07</th>\n",
       "      <td>41098.238281</td>\n",
       "      <td>37849.664062</td>\n",
       "    </tr>\n",
       "    <tr>\n",
       "      <th>2022-03-14</th>\n",
       "      <td>42805.492188</td>\n",
       "      <td>41247.824219</td>\n",
       "    </tr>\n",
       "    <tr>\n",
       "      <th>2022-03-21</th>\n",
       "      <td>43892.121094</td>\n",
       "      <td>46820.492188</td>\n",
       "    </tr>\n",
       "    <tr>\n",
       "      <th>2022-03-28</th>\n",
       "      <td>44089.812500</td>\n",
       "      <td>46453.566406</td>\n",
       "    </tr>\n",
       "    <tr>\n",
       "      <th>2022-04-04</th>\n",
       "      <td>45182.808594</td>\n",
       "      <td>42207.671875</td>\n",
       "    </tr>\n",
       "    <tr>\n",
       "      <th>2022-04-11</th>\n",
       "      <td>45509.285156</td>\n",
       "      <td>39716.953125</td>\n",
       "    </tr>\n",
       "    <tr>\n",
       "      <th>2022-04-18</th>\n",
       "      <td>46320.863281</td>\n",
       "      <td>39469.292969</td>\n",
       "    </tr>\n",
       "    <tr>\n",
       "      <th>2022-04-25</th>\n",
       "      <td>47682.777344</td>\n",
       "      <td>38469.093750</td>\n",
       "    </tr>\n",
       "    <tr>\n",
       "      <th>2022-05-02</th>\n",
       "      <td>48244.292969</td>\n",
       "      <td>34059.265625</td>\n",
       "    </tr>\n",
       "    <tr>\n",
       "      <th>2022-05-09</th>\n",
       "      <td>47214.179688</td>\n",
       "      <td>31305.113281</td>\n",
       "    </tr>\n",
       "    <tr>\n",
       "      <th>2022-05-16</th>\n",
       "      <td>45184.375000</td>\n",
       "      <td>30323.722656</td>\n",
       "    </tr>\n",
       "    <tr>\n",
       "      <th>2022-05-23</th>\n",
       "      <td>42656.453125</td>\n",
       "      <td>29445.957031</td>\n",
       "    </tr>\n",
       "    <tr>\n",
       "      <th>2022-05-30</th>\n",
       "      <td>39743.644531</td>\n",
       "      <td>29906.662109</td>\n",
       "    </tr>\n",
       "    <tr>\n",
       "      <th>2022-06-06</th>\n",
       "      <td>37658.109375</td>\n",
       "      <td>26762.648438</td>\n",
       "    </tr>\n",
       "    <tr>\n",
       "      <th>2022-06-13</th>\n",
       "      <td>37219.058594</td>\n",
       "      <td>20553.271484</td>\n",
       "    </tr>\n",
       "    <tr>\n",
       "      <th>2022-06-20</th>\n",
       "      <td>37182.656250</td>\n",
       "      <td>21027.294922</td>\n",
       "    </tr>\n",
       "    <tr>\n",
       "      <th>2022-06-27</th>\n",
       "      <td>36433.335938</td>\n",
       "      <td>19784.726562</td>\n",
       "    </tr>\n",
       "  </tbody>\n",
       "</table>\n",
       "</div>"
      ],
      "text/plain": [
       "             predictions        actual\n",
       "2021-08-23  44608.539062  48829.832031\n",
       "2021-08-30  47872.625000  51753.410156\n",
       "2021-09-06  50690.765625  46063.269531\n",
       "2021-09-13  52972.746094  47260.218750\n",
       "2021-09-20  54122.980469  43208.539062\n",
       "2021-09-27  53600.910156  48199.953125\n",
       "2021-10-04  50981.308594  54771.578125\n",
       "2021-10-11  48197.414062  61553.617188\n",
       "2021-10-18  46554.300781  60930.835938\n",
       "2021-10-25  46821.140625  61318.957031\n",
       "2021-11-01  48923.375000  63326.988281\n",
       "2021-11-08  52078.421875  65466.839844\n",
       "2021-11-15  54898.359375  58730.476562\n",
       "2021-11-22  57516.523438  57248.457031\n",
       "2021-11-29  57234.339844  49368.847656\n",
       "2021-12-06  55329.671875  50098.335938\n",
       "2021-12-13  50590.562500  46707.015625\n",
       "2021-12-20  45699.226562  50809.515625\n",
       "2021-12-27  41694.988281  47345.218750\n",
       "2022-01-03  39555.097656  41911.601562\n",
       "2022-01-10  38125.148438  43113.878906\n",
       "2022-01-17  37562.691406  36276.804688\n",
       "2022-01-24  38235.117188  37917.601562\n",
       "2022-01-31  39691.886719  42412.433594\n",
       "2022-02-07  39884.414062  42197.515625\n",
       "2022-02-14  40377.363281  38431.378906\n",
       "2022-02-21  40050.093750  37709.785156\n",
       "2022-02-28  40666.894531  38419.984375\n",
       "2022-03-07  41098.238281  37849.664062\n",
       "2022-03-14  42805.492188  41247.824219\n",
       "2022-03-21  43892.121094  46820.492188\n",
       "2022-03-28  44089.812500  46453.566406\n",
       "2022-04-04  45182.808594  42207.671875\n",
       "2022-04-11  45509.285156  39716.953125\n",
       "2022-04-18  46320.863281  39469.292969\n",
       "2022-04-25  47682.777344  38469.093750\n",
       "2022-05-02  48244.292969  34059.265625\n",
       "2022-05-09  47214.179688  31305.113281\n",
       "2022-05-16  45184.375000  30323.722656\n",
       "2022-05-23  42656.453125  29445.957031\n",
       "2022-05-30  39743.644531  29906.662109\n",
       "2022-06-06  37658.109375  26762.648438\n",
       "2022-06-13  37219.058594  20553.271484\n",
       "2022-06-20  37182.656250  21027.294922\n",
       "2022-06-27  36433.335938  19784.726562"
      ]
     },
     "execution_count": 84,
     "metadata": {},
     "output_type": "execute_result"
    }
   ],
   "source": [
    "comparison_df = pd.DataFrame({'predictions':y_predicted.ravel(),'actual':df.iloc[113:]['close']})\n",
    "comparison_df\n",
    "#display(y_predicted)\n",
    "#display(df.iloc[760:]['close'])"
   ]
  },
  {
   "cell_type": "code",
   "execution_count": 85,
   "id": "7f8c4b76-378b-424c-af97-c7b60db7c4e5",
   "metadata": {},
   "outputs": [
    {
     "data": {
      "text/plain": [
       "[<matplotlib.lines.Line2D at 0x154be6090>]"
      ]
     },
     "execution_count": 85,
     "metadata": {},
     "output_type": "execute_result"
    },
    {
     "data": {
      "image/png": "[encoded data removed]",
      "text/plain": [
       "<Figure size 432x288 with 1 Axes>"
      ]
     },
     "metadata": {
      "needs_background": "light"
     },
     "output_type": "display_data"
    }
   ],
   "source": [
    "# Plots the predicted test values\n",
    "plt.plot(y_predicted)\n",
    "# Plots the true historic close values"
   ]
  },
  {
   "cell_type": "code",
   "execution_count": 86,
   "id": "d0cb5b07-4c3e-4e34-bfb9-1785d69480b9",
   "metadata": {},
   "outputs": [
    {
     "data": {
      "text/plain": [
       "(array([18871., 18901., 18932., 18962., 18993., 19024., 19052., 19083.,\n",
       "        19113., 19144., 19174.]),\n",
       " [Text(0, 0, ''),\n",
       "  Text(0, 0, ''),\n",
       "  Text(0, 0, ''),\n",
       "  Text(0, 0, ''),\n",
       "  Text(0, 0, ''),\n",
       "  Text(0, 0, ''),\n",
       "  Text(0, 0, ''),\n",
       "  Text(0, 0, ''),\n",
       "  Text(0, 0, ''),\n",
       "  Text(0, 0, ''),\n",
       "  Text(0, 0, '')])"
      ]
     },
     "execution_count": 86,
     "metadata": {},
     "output_type": "execute_result"
    },
    {
     "data": {
      "image/png": "[encoded data removed]",
      "text/plain": [
       "<Figure size 432x288 with 1 Axes>"
      ]
     },
     "metadata": {
      "needs_background": "light"
     },
     "output_type": "display_data"
    }
   ],
   "source": [
    "# Plots the true historic close values\n",
    "plt.plot(df.iloc[113:]['close'])\n",
    "# Rotates X labels\n",
    "plt.xticks(rotation = 90)"
   ]
  },
  {
   "cell_type": "code",
   "execution_count": null,
   "id": "9764437e-bfad-4281-b15c-7d7dac1792de",
   "metadata": {},
   "outputs": [],
   "source": [
    "y[-326]"
   ]
  },
  {
   "cell_type": "code",
   "execution_count": 29,
   "id": "9ba38db2-c1c1-4348-84cd-096bcff635e6",
   "metadata": {},
   "outputs": [],
   "source": [
    "# Begins Future Projections Section"
   ]
  },
  {
   "cell_type": "code",
   "execution_count": 30,
   "id": "01285ba3-329d-4d3b-b680-c6999f9ca1db",
   "metadata": {},
   "outputs": [],
   "source": [
    "# Creates neural network\n",
    "model_prediction_btc=Sequential()\n",
    "# Defines and adds LSTM layer\n",
    "first_lstm_layer=LSTM(units=30, return_sequences=True, input_shape=(window_size, 1))\n",
    "model_prediction_btc.add(first_lstm_layer)\n",
    "# Randomly drops 20% of defined nodes\n",
    "first_dropout_layer=Dropout(0.2)\n",
    "# Defines and adds LSTM layer\n",
    "model_prediction_btc.add(first_dropout_layer)\n",
    "second_lstm_layer=LSTM(units=30, return_sequences=True)\n",
    "model_prediction_btc.add(second_lstm_layer)\n",
    "# Randomly drops 20% of defined nodes\n",
    "second_dropout_layer=Dropout(0.2)\n",
    "# Defines and adds LSTM layer\n",
    "model_prediction_btc.add(second_dropout_layer)\n",
    "third_lstm_layer=LSTM(units=30)\n",
    "model_prediction_btc.add(third_lstm_layer)\n",
    "# Defines and adds output layer with linear activation\n",
    "output_layer=Dense(units=1, activation='linear')\n",
    "model_prediction_btc.add(output_layer)"
   ]
  },
  {
   "cell_type": "code",
   "execution_count": 31,
   "id": "8307f72d-406e-4062-94c1-e340b8c6fe64",
   "metadata": {},
   "outputs": [],
   "source": [
    "# Compiles model\n",
    "model_prediction_btc.compile(loss='mean_squared_error', optimizer='adam', metrics='mean_squared_error')"
   ]
  },
  {
   "cell_type": "code",
   "execution_count": 32,
   "id": "9cd8c1fd-5243-4e62-b32a-999c6383262f",
   "metadata": {},
   "outputs": [
    {
     "name": "stdout",
     "output_type": "stream",
     "text": [
      "Model: \"sequential_1\"\n",
      "_________________________________________________________________\n",
      " Layer (type)                Output Shape              Param #   \n",
      "=================================================================\n",
      " lstm_3 (LSTM)               (None, 10, 30)            3840      \n",
      "                                                                 \n",
      " dropout_2 (Dropout)         (None, 10, 30)            0         \n",
      "                                                                 \n",
      " lstm_4 (LSTM)               (None, 10, 30)            7320      \n",
      "                                                                 \n",
      " dropout_3 (Dropout)         (None, 10, 30)            0         \n",
      "                                                                 \n",
      " lstm_5 (LSTM)               (None, 30)                7320      \n",
      "                                                                 \n",
      " dense_1 (Dense)             (None, 1)                 31        \n",
      "                                                                 \n",
      "=================================================================\n",
      "Total params: 18,511\n",
      "Trainable params: 18,511\n",
      "Non-trainable params: 0\n",
      "_________________________________________________________________\n"
     ]
    }
   ],
   "source": [
    "# Provides summary of model\n",
    "model_prediction_btc.summary()"
   ]
  },
  {
   "cell_type": "code",
   "execution_count": 33,
   "id": "64894b6e-7d7c-48a9-82f8-571224e36ad1",
   "metadata": {},
   "outputs": [
    {
     "data": {
      "text/plain": [
       "(147, 10)"
      ]
     },
     "metadata": {},
     "output_type": "display_data"
    }
   ],
   "source": [
    "X_scaled=X_scaled.reshape(X_scaled.shape[0], X_scaled.shape[1], 1)\n",
    "display(X.shape)"
   ]
  },
  {
   "cell_type": "code",
   "execution_count": 34,
   "id": "090c190c-b545-464a-8879-cf3b0486dc7a",
   "metadata": {},
   "outputs": [
    {
     "name": "stdout",
     "output_type": "stream",
     "text": [
      "Epoch 1/50\n",
      "5/5 [==============================] - 7s 23ms/step - loss: 0.2274 - mean_squared_error: 0.2274\n",
      "Epoch 2/50\n",
      "5/5 [==============================] - 0s 55ms/step - loss: 0.1330 - mean_squared_error: 0.1330\n",
      "Epoch 3/50\n",
      "5/5 [==============================] - 0s 40ms/step - loss: 0.0581 - mean_squared_error: 0.0581\n",
      "Epoch 4/50\n",
      "5/5 [==============================] - 0s 26ms/step - loss: 0.0432 - mean_squared_error: 0.0432\n",
      "Epoch 5/50\n",
      "5/5 [==============================] - 0s 34ms/step - loss: 0.0459 - mean_squared_error: 0.0459\n",
      "Epoch 6/50\n",
      "5/5 [==============================] - 0s 27ms/step - loss: 0.0300 - mean_squared_error: 0.0300\n",
      "Epoch 7/50\n",
      "5/5 [==============================] - 0s 40ms/step - loss: 0.0317 - mean_squared_error: 0.0317\n",
      "Epoch 8/50\n",
      "5/5 [==============================] - 0s 20ms/step - loss: 0.0285 - mean_squared_error: 0.0285\n",
      "Epoch 9/50\n",
      "5/5 [==============================] - 0s 33ms/step - loss: 0.0262 - mean_squared_error: 0.0262\n",
      "Epoch 10/50\n",
      "5/5 [==============================] - 0s 26ms/step - loss: 0.0255 - mean_squared_error: 0.0255\n",
      "Epoch 11/50\n",
      "5/5 [==============================] - 0s 20ms/step - loss: 0.0246 - mean_squared_error: 0.0246\n",
      "Epoch 12/50\n",
      "5/5 [==============================] - 0s 20ms/step - loss: 0.0220 - mean_squared_error: 0.0220\n",
      "Epoch 13/50\n",
      "5/5 [==============================] - 0s 18ms/step - loss: 0.0211 - mean_squared_error: 0.0211\n",
      "Epoch 14/50\n",
      "5/5 [==============================] - 0s 30ms/step - loss: 0.0226 - mean_squared_error: 0.0226\n",
      "Epoch 15/50\n",
      "5/5 [==============================] - 0s 27ms/step - loss: 0.0225 - mean_squared_error: 0.0225\n",
      "Epoch 16/50\n",
      "5/5 [==============================] - 0s 30ms/step - loss: 0.0210 - mean_squared_error: 0.0210\n",
      "Epoch 17/50\n",
      "5/5 [==============================] - 0s 24ms/step - loss: 0.0231 - mean_squared_error: 0.0231\n",
      "Epoch 18/50\n",
      "5/5 [==============================] - 0s 32ms/step - loss: 0.0209 - mean_squared_error: 0.0209\n",
      "Epoch 19/50\n",
      "5/5 [==============================] - 0s 25ms/step - loss: 0.0213 - mean_squared_error: 0.0213\n",
      "Epoch 20/50\n",
      "5/5 [==============================] - 0s 18ms/step - loss: 0.0197 - mean_squared_error: 0.0197\n",
      "Epoch 21/50\n",
      "5/5 [==============================] - 0s 43ms/step - loss: 0.0191 - mean_squared_error: 0.0191\n",
      "Epoch 22/50\n",
      "5/5 [==============================] - 0s 19ms/step - loss: 0.0195 - mean_squared_error: 0.0195\n",
      "Epoch 23/50\n",
      "5/5 [==============================] - 0s 20ms/step - loss: 0.0206 - mean_squared_error: 0.0206\n",
      "Epoch 24/50\n",
      "5/5 [==============================] - 0s 24ms/step - loss: 0.0190 - mean_squared_error: 0.0190\n",
      "Epoch 25/50\n",
      "5/5 [==============================] - 0s 23ms/step - loss: 0.0185 - mean_squared_error: 0.0185\n",
      "Epoch 26/50\n",
      "5/5 [==============================] - 0s 19ms/step - loss: 0.0181 - mean_squared_error: 0.0181\n",
      "Epoch 27/50\n",
      "5/5 [==============================] - 0s 18ms/step - loss: 0.0189 - mean_squared_error: 0.0189\n",
      "Epoch 28/50\n",
      "5/5 [==============================] - 0s 31ms/step - loss: 0.0178 - mean_squared_error: 0.0178\n",
      "Epoch 29/50\n",
      "5/5 [==============================] - 0s 28ms/step - loss: 0.0183 - mean_squared_error: 0.0183\n",
      "Epoch 30/50\n",
      "5/5 [==============================] - 0s 21ms/step - loss: 0.0183 - mean_squared_error: 0.0183\n",
      "Epoch 31/50\n",
      "5/5 [==============================] - 0s 31ms/step - loss: 0.0181 - mean_squared_error: 0.0181\n",
      "Epoch 32/50\n",
      "5/5 [==============================] - 0s 19ms/step - loss: 0.0183 - mean_squared_error: 0.0183\n",
      "Epoch 33/50\n",
      "5/5 [==============================] - 0s 22ms/step - loss: 0.0176 - mean_squared_error: 0.0176\n",
      "Epoch 34/50\n",
      "5/5 [==============================] - 0s 35ms/step - loss: 0.0174 - mean_squared_error: 0.0174\n",
      "Epoch 35/50\n",
      "5/5 [==============================] - 0s 17ms/step - loss: 0.0173 - mean_squared_error: 0.0173\n",
      "Epoch 36/50\n",
      "5/5 [==============================] - 0s 18ms/step - loss: 0.0150 - mean_squared_error: 0.0150\n",
      "Epoch 37/50\n",
      "5/5 [==============================] - 0s 17ms/step - loss: 0.0171 - mean_squared_error: 0.0171\n",
      "Epoch 38/50\n",
      "5/5 [==============================] - 0s 24ms/step - loss: 0.0153 - mean_squared_error: 0.0153\n",
      "Epoch 39/50\n",
      "5/5 [==============================] - 0s 22ms/step - loss: 0.0145 - mean_squared_error: 0.0145\n",
      "Epoch 40/50\n",
      "5/5 [==============================] - 0s 19ms/step - loss: 0.0151 - mean_squared_error: 0.0151\n",
      "Epoch 41/50\n",
      "5/5 [==============================] - 0s 20ms/step - loss: 0.0165 - mean_squared_error: 0.0165\n",
      "Epoch 42/50\n",
      "5/5 [==============================] - 0s 21ms/step - loss: 0.0137 - mean_squared_error: 0.0137\n",
      "Epoch 43/50\n",
      "5/5 [==============================] - 0s 21ms/step - loss: 0.0129 - mean_squared_error: 0.0129\n",
      "Epoch 44/50\n",
      "5/5 [==============================] - 0s 20ms/step - loss: 0.0123 - mean_squared_error: 0.0123\n",
      "Epoch 45/50\n",
      "5/5 [==============================] - 0s 24ms/step - loss: 0.0133 - mean_squared_error: 0.0133\n",
      "Epoch 46/50\n",
      "5/5 [==============================] - 0s 26ms/step - loss: 0.0111 - mean_squared_error: 0.0111\n",
      "Epoch 47/50\n",
      "5/5 [==============================] - 0s 26ms/step - loss: 0.0105 - mean_squared_error: 0.0105\n",
      "Epoch 48/50\n",
      "5/5 [==============================] - 0s 22ms/step - loss: 0.0117 - mean_squared_error: 0.0117\n",
      "Epoch 49/50\n",
      "5/5 [==============================] - 0s 21ms/step - loss: 0.0117 - mean_squared_error: 0.0117\n",
      "Epoch 50/50\n",
      "5/5 [==============================] - 0s 20ms/step - loss: 0.0098 - mean_squared_error: 0.0098\n"
     ]
    },
    {
     "data": {
      "text/plain": [
       "<keras.callbacks.History at 0x14edcd990>"
      ]
     },
     "execution_count": 34,
     "metadata": {},
     "output_type": "execute_result"
    }
   ],
   "source": [
    "# Initially fits model using training data\n",
    "model_prediction_btc.fit(X_scaled, y_scaled, epochs=50)"
   ]
  },
  {
   "cell_type": "code",
   "execution_count": 36,
   "id": "2d185c03-5986-454d-b8f6-4f6a939c4b78",
   "metadata": {},
   "outputs": [
    {
     "name": "stdout",
     "output_type": "stream",
     "text": [
      "1/1 [==============================] - 2s 2s/step\n"
     ]
    },
    {
     "data": {
      "text/plain": [
       "array([[34395.242]], dtype=float32)"
      ]
     },
     "metadata": {},
     "output_type": "display_data"
    },
    {
     "name": "stdout",
     "output_type": "stream",
     "text": [
      "Epoch 1/5\n",
      "5/5 [==============================] - 0s 20ms/step - loss: 0.0104 - mean_squared_error: 0.0104\n",
      "Epoch 2/5\n",
      "5/5 [==============================] - 0s 20ms/step - loss: 0.0139 - mean_squared_error: 0.0139\n",
      "Epoch 3/5\n",
      "5/5 [==============================] - 0s 22ms/step - loss: 0.0104 - mean_squared_error: 0.0104\n",
      "Epoch 4/5\n",
      "5/5 [==============================] - 0s 71ms/step - loss: 0.0124 - mean_squared_error: 0.0124\n",
      "Epoch 5/5\n",
      "5/5 [==============================] - 0s 24ms/step - loss: 0.0091 - mean_squared_error: 0.0091\n",
      "1/1 [==============================] - 0s 78ms/step\n"
     ]
    },
    {
     "data": {
      "text/plain": [
       "array([[35883.684]], dtype=float32)"
      ]
     },
     "metadata": {},
     "output_type": "display_data"
    },
    {
     "name": "stdout",
     "output_type": "stream",
     "text": [
      "Epoch 1/5\n",
      "5/5 [==============================] - 0s 25ms/step - loss: 0.0093 - mean_squared_error: 0.0093\n",
      "Epoch 2/5\n",
      "5/5 [==============================] - 0s 24ms/step - loss: 0.0088 - mean_squared_error: 0.0088\n",
      "Epoch 3/5\n",
      "5/5 [==============================] - 0s 24ms/step - loss: 0.0106 - mean_squared_error: 0.0106\n",
      "Epoch 4/5\n",
      "5/5 [==============================] - 0s 23ms/step - loss: 0.0106 - mean_squared_error: 0.0106\n",
      "Epoch 5/5\n",
      "5/5 [==============================] - 0s 25ms/step - loss: 0.0104 - mean_squared_error: 0.0104\n",
      "1/1 [==============================] - 0s 60ms/step\n"
     ]
    },
    {
     "data": {
      "text/plain": [
       "array([[33634.066]], dtype=float32)"
      ]
     },
     "metadata": {},
     "output_type": "display_data"
    },
    {
     "name": "stdout",
     "output_type": "stream",
     "text": [
      "Epoch 1/5\n",
      "5/5 [==============================] - 0s 20ms/step - loss: 0.0102 - mean_squared_error: 0.0102\n",
      "Epoch 2/5\n",
      "5/5 [==============================] - 0s 18ms/step - loss: 0.0077 - mean_squared_error: 0.0077\n",
      "Epoch 3/5\n",
      "5/5 [==============================] - 0s 19ms/step - loss: 0.0097 - mean_squared_error: 0.0097\n",
      "Epoch 4/5\n",
      "5/5 [==============================] - 0s 19ms/step - loss: 0.0092 - mean_squared_error: 0.0092\n",
      "Epoch 5/5\n",
      "5/5 [==============================] - 0s 18ms/step - loss: 0.0089 - mean_squared_error: 0.0089\n",
      "1/1 [==============================] - 0s 26ms/step\n"
     ]
    },
    {
     "data": {
      "text/plain": [
       "array([[34579.996]], dtype=float32)"
      ]
     },
     "metadata": {},
     "output_type": "display_data"
    },
    {
     "name": "stdout",
     "output_type": "stream",
     "text": [
      "Epoch 1/5\n",
      "5/5 [==============================] - 0s 18ms/step - loss: 0.0082 - mean_squared_error: 0.0082\n",
      "Epoch 2/5\n",
      "5/5 [==============================] - 0s 18ms/step - loss: 0.0094 - mean_squared_error: 0.0094\n",
      "Epoch 3/5\n",
      "5/5 [==============================] - 0s 19ms/step - loss: 0.0079 - mean_squared_error: 0.0079\n",
      "Epoch 4/5\n",
      "5/5 [==============================] - 0s 20ms/step - loss: 0.0082 - mean_squared_error: 0.0082\n",
      "Epoch 5/5\n",
      "5/5 [==============================] - 0s 21ms/step - loss: 0.0088 - mean_squared_error: 0.0088\n",
      "1/1 [==============================] - 0s 26ms/step\n"
     ]
    },
    {
     "data": {
      "text/plain": [
       "array([[36520.535]], dtype=float32)"
      ]
     },
     "metadata": {},
     "output_type": "display_data"
    },
    {
     "name": "stdout",
     "output_type": "stream",
     "text": [
      "Epoch 1/5\n",
      "5/5 [==============================] - 0s 23ms/step - loss: 0.0075 - mean_squared_error: 0.0075\n",
      "Epoch 2/5\n",
      "5/5 [==============================] - 0s 30ms/step - loss: 0.0089 - mean_squared_error: 0.0089\n",
      "Epoch 3/5\n",
      "5/5 [==============================] - 0s 23ms/step - loss: 0.0083 - mean_squared_error: 0.0083\n",
      "Epoch 4/5\n",
      "5/5 [==============================] - 0s 20ms/step - loss: 0.0095 - mean_squared_error: 0.0095\n",
      "Epoch 5/5\n",
      "5/5 [==============================] - 0s 19ms/step - loss: 0.0086 - mean_squared_error: 0.0086\n",
      "1/1 [==============================] - 0s 23ms/step\n"
     ]
    },
    {
     "data": {
      "text/plain": [
       "array([[38085.023]], dtype=float32)"
      ]
     },
     "metadata": {},
     "output_type": "display_data"
    },
    {
     "name": "stdout",
     "output_type": "stream",
     "text": [
      "Epoch 1/5\n",
      "5/5 [==============================] - 0s 18ms/step - loss: 0.0076 - mean_squared_error: 0.0076\n",
      "Epoch 2/5\n",
      "5/5 [==============================] - 0s 23ms/step - loss: 0.0088 - mean_squared_error: 0.0088\n",
      "Epoch 3/5\n",
      "5/5 [==============================] - 0s 21ms/step - loss: 0.0085 - mean_squared_error: 0.0085\n",
      "Epoch 4/5\n",
      "5/5 [==============================] - 0s 18ms/step - loss: 0.0091 - mean_squared_error: 0.0091\n",
      "Epoch 5/5\n",
      "5/5 [==============================] - 0s 18ms/step - loss: 0.0083 - mean_squared_error: 0.0083\n",
      "1/1 [==============================] - 0s 23ms/step\n"
     ]
    },
    {
     "data": {
      "text/plain": [
       "array([[38111.633]], dtype=float32)"
      ]
     },
     "metadata": {},
     "output_type": "display_data"
    },
    {
     "name": "stdout",
     "output_type": "stream",
     "text": [
      "Epoch 1/5\n",
      "5/5 [==============================] - 0s 20ms/step - loss: 0.0071 - mean_squared_error: 0.0071\n",
      "Epoch 2/5\n",
      "5/5 [==============================] - 0s 18ms/step - loss: 0.0081 - mean_squared_error: 0.0081\n",
      "Epoch 3/5\n",
      "5/5 [==============================] - 0s 19ms/step - loss: 0.0074 - mean_squared_error: 0.0074\n",
      "Epoch 4/5\n",
      "5/5 [==============================] - 0s 18ms/step - loss: 0.0075 - mean_squared_error: 0.0075\n",
      "Epoch 5/5\n",
      "5/5 [==============================] - 0s 19ms/step - loss: 0.0074 - mean_squared_error: 0.0074\n",
      "1/1 [==============================] - 0s 23ms/step\n"
     ]
    },
    {
     "data": {
      "text/plain": [
       "array([[40913.527]], dtype=float32)"
      ]
     },
     "metadata": {},
     "output_type": "display_data"
    },
    {
     "name": "stdout",
     "output_type": "stream",
     "text": [
      "Epoch 1/5\n",
      "5/5 [==============================] - 0s 19ms/step - loss: 0.0071 - mean_squared_error: 0.0071\n",
      "Epoch 2/5\n",
      "5/5 [==============================] - 0s 18ms/step - loss: 0.0075 - mean_squared_error: 0.0075\n",
      "Epoch 3/5\n",
      "5/5 [==============================] - 0s 18ms/step - loss: 0.0073 - mean_squared_error: 0.0073\n",
      "Epoch 4/5\n",
      "5/5 [==============================] - 0s 18ms/step - loss: 0.0081 - mean_squared_error: 0.0081\n",
      "Epoch 5/5\n",
      "5/5 [==============================] - 0s 19ms/step - loss: 0.0079 - mean_squared_error: 0.0079\n",
      "1/1 [==============================] - 0s 24ms/step\n"
     ]
    },
    {
     "data": {
      "text/plain": [
       "array([[42652.168]], dtype=float32)"
      ]
     },
     "metadata": {},
     "output_type": "display_data"
    },
    {
     "name": "stdout",
     "output_type": "stream",
     "text": [
      "Epoch 1/5\n",
      "5/5 [==============================] - 0s 18ms/step - loss: 0.0075 - mean_squared_error: 0.0075\n",
      "Epoch 2/5\n",
      "5/5 [==============================] - 0s 18ms/step - loss: 0.0084 - mean_squared_error: 0.0084\n",
      "Epoch 3/5\n",
      "5/5 [==============================] - 0s 19ms/step - loss: 0.0069 - mean_squared_error: 0.0069\n",
      "Epoch 4/5\n",
      "5/5 [==============================] - 0s 20ms/step - loss: 0.0074 - mean_squared_error: 0.0074\n",
      "Epoch 5/5\n",
      "5/5 [==============================] - 0s 23ms/step - loss: 0.0073 - mean_squared_error: 0.0073\n",
      "1/1 [==============================] - 0s 23ms/step\n"
     ]
    },
    {
     "data": {
      "text/plain": [
       "array([[44795.2]], dtype=float32)"
      ]
     },
     "metadata": {},
     "output_type": "display_data"
    },
    {
     "name": "stdout",
     "output_type": "stream",
     "text": [
      "Epoch 1/5\n",
      "5/5 [==============================] - 0s 19ms/step - loss: 0.0076 - mean_squared_error: 0.0076\n",
      "Epoch 2/5\n",
      "5/5 [==============================] - 0s 18ms/step - loss: 0.0079 - mean_squared_error: 0.0079\n",
      "Epoch 3/5\n",
      "5/5 [==============================] - 0s 20ms/step - loss: 0.0070 - mean_squared_error: 0.0070\n",
      "Epoch 4/5\n",
      "5/5 [==============================] - 0s 19ms/step - loss: 0.0075 - mean_squared_error: 0.0075\n",
      "Epoch 5/5\n",
      "5/5 [==============================] - 0s 19ms/step - loss: 0.0078 - mean_squared_error: 0.0078\n",
      "1/1 [==============================] - 0s 23ms/step\n"
     ]
    },
    {
     "data": {
      "text/plain": [
       "array([[45660.87]], dtype=float32)"
      ]
     },
     "metadata": {},
     "output_type": "display_data"
    },
    {
     "name": "stdout",
     "output_type": "stream",
     "text": [
      "Epoch 1/5\n",
      "5/5 [==============================] - 0s 30ms/step - loss: 0.0079 - mean_squared_error: 0.0079\n",
      "Epoch 2/5\n",
      "5/5 [==============================] - 0s 23ms/step - loss: 0.0077 - mean_squared_error: 0.0077\n",
      "Epoch 3/5\n",
      "5/5 [==============================] - 0s 20ms/step - loss: 0.0071 - mean_squared_error: 0.0071\n",
      "Epoch 4/5\n",
      "5/5 [==============================] - 0s 24ms/step - loss: 0.0071 - mean_squared_error: 0.0071\n",
      "Epoch 5/5\n",
      "5/5 [==============================] - 0s 23ms/step - loss: 0.0069 - mean_squared_error: 0.0069\n",
      "1/1 [==============================] - 0s 55ms/step\n"
     ]
    },
    {
     "data": {
      "text/plain": [
       "array([[46404.445]], dtype=float32)"
      ]
     },
     "metadata": {},
     "output_type": "display_data"
    },
    {
     "name": "stdout",
     "output_type": "stream",
     "text": [
      "Epoch 1/5\n",
      "5/5 [==============================] - 0s 25ms/step - loss: 0.0066 - mean_squared_error: 0.0066\n",
      "Epoch 2/5\n",
      "5/5 [==============================] - 0s 19ms/step - loss: 0.0076 - mean_squared_error: 0.0076\n",
      "Epoch 3/5\n",
      "5/5 [==============================] - 0s 21ms/step - loss: 0.0058 - mean_squared_error: 0.0058\n",
      "Epoch 4/5\n",
      "5/5 [==============================] - 0s 19ms/step - loss: 0.0067 - mean_squared_error: 0.0067\n",
      "Epoch 5/5\n",
      "5/5 [==============================] - 0s 19ms/step - loss: 0.0064 - mean_squared_error: 0.0064\n",
      "1/1 [==============================] - 0s 27ms/step\n"
     ]
    },
    {
     "data": {
      "text/plain": [
       "array([[45987.57]], dtype=float32)"
      ]
     },
     "metadata": {},
     "output_type": "display_data"
    },
    {
     "name": "stdout",
     "output_type": "stream",
     "text": [
      "Epoch 1/5\n",
      "5/5 [==============================] - 0s 39ms/step - loss: 0.0067 - mean_squared_error: 0.0067\n",
      "Epoch 2/5\n",
      "5/5 [==============================] - 0s 37ms/step - loss: 0.0064 - mean_squared_error: 0.0064\n",
      "Epoch 3/5\n",
      "5/5 [==============================] - 0s 30ms/step - loss: 0.0065 - mean_squared_error: 0.0065\n",
      "Epoch 4/5\n",
      "5/5 [==============================] - 0s 30ms/step - loss: 0.0068 - mean_squared_error: 0.0068\n",
      "Epoch 5/5\n",
      "5/5 [==============================] - 0s 26ms/step - loss: 0.0074 - mean_squared_error: 0.0074\n",
      "1/1 [==============================] - 0s 23ms/step\n"
     ]
    },
    {
     "data": {
      "text/plain": [
       "array([[48629.902]], dtype=float32)"
      ]
     },
     "metadata": {},
     "output_type": "display_data"
    },
    {
     "name": "stdout",
     "output_type": "stream",
     "text": [
      "Epoch 1/5\n",
      "6/6 [==============================] - 0s 17ms/step - loss: 0.0063 - mean_squared_error: 0.0063\n",
      "Epoch 2/5\n",
      "6/6 [==============================] - 0s 18ms/step - loss: 0.0073 - mean_squared_error: 0.0073\n",
      "Epoch 3/5\n",
      "6/6 [==============================] - 0s 19ms/step - loss: 0.0064 - mean_squared_error: 0.0064\n",
      "Epoch 4/5\n",
      "6/6 [==============================] - 0s 19ms/step - loss: 0.0079 - mean_squared_error: 0.0079\n",
      "Epoch 5/5\n",
      "6/6 [==============================] - 0s 21ms/step - loss: 0.0072 - mean_squared_error: 0.0072\n",
      "1/1 [==============================] - 0s 30ms/step\n"
     ]
    },
    {
     "data": {
      "text/plain": [
       "array([[48659.77]], dtype=float32)"
      ]
     },
     "metadata": {},
     "output_type": "display_data"
    },
    {
     "name": "stdout",
     "output_type": "stream",
     "text": [
      "Epoch 1/5\n",
      "6/6 [==============================] - 0s 24ms/step - loss: 0.0064 - mean_squared_error: 0.0064\n",
      "Epoch 2/5\n",
      "6/6 [==============================] - 0s 24ms/step - loss: 0.0070 - mean_squared_error: 0.0070\n",
      "Epoch 3/5\n",
      "6/6 [==============================] - 0s 20ms/step - loss: 0.0057 - mean_squared_error: 0.0057\n",
      "Epoch 4/5\n",
      "6/6 [==============================] - 0s 18ms/step - loss: 0.0074 - mean_squared_error: 0.0074\n",
      "Epoch 5/5\n",
      "6/6 [==============================] - 0s 22ms/step - loss: 0.0078 - mean_squared_error: 0.0078\n",
      "1/1 [==============================] - 0s 23ms/step\n"
     ]
    },
    {
     "data": {
      "text/plain": [
       "array([[48891.473]], dtype=float32)"
      ]
     },
     "metadata": {},
     "output_type": "display_data"
    },
    {
     "name": "stdout",
     "output_type": "stream",
     "text": [
      "Epoch 1/5\n",
      "6/6 [==============================] - 0s 21ms/step - loss: 0.0069 - mean_squared_error: 0.0069\n",
      "Epoch 2/5\n",
      "6/6 [==============================] - 0s 18ms/step - loss: 0.0062 - mean_squared_error: 0.0062\n",
      "Epoch 3/5\n",
      "6/6 [==============================] - 0s 24ms/step - loss: 0.0066 - mean_squared_error: 0.0066\n",
      "Epoch 4/5\n",
      "6/6 [==============================] - 0s 24ms/step - loss: 0.0074 - mean_squared_error: 0.0074\n",
      "Epoch 5/5\n",
      "6/6 [==============================] - 0s 19ms/step - loss: 0.0080 - mean_squared_error: 0.0080\n",
      "1/1 [==============================] - 0s 24ms/step\n"
     ]
    },
    {
     "data": {
      "text/plain": [
       "array([[50187.414]], dtype=float32)"
      ]
     },
     "metadata": {},
     "output_type": "display_data"
    },
    {
     "name": "stdout",
     "output_type": "stream",
     "text": [
      "Epoch 1/5\n",
      "6/6 [==============================] - 0s 18ms/step - loss: 0.0070 - mean_squared_error: 0.0070\n",
      "Epoch 2/5\n",
      "6/6 [==============================] - 0s 20ms/step - loss: 0.0072 - mean_squared_error: 0.0072\n",
      "Epoch 3/5\n",
      "6/6 [==============================] - 0s 22ms/step - loss: 0.0070 - mean_squared_error: 0.0070\n",
      "Epoch 4/5\n",
      "6/6 [==============================] - 0s 20ms/step - loss: 0.0066 - mean_squared_error: 0.0066\n",
      "Epoch 5/5\n",
      "6/6 [==============================] - 0s 30ms/step - loss: 0.0064 - mean_squared_error: 0.0064\n",
      "1/1 [==============================] - 0s 24ms/step\n"
     ]
    },
    {
     "data": {
      "text/plain": [
       "array([[48362.188]], dtype=float32)"
      ]
     },
     "metadata": {},
     "output_type": "display_data"
    },
    {
     "name": "stdout",
     "output_type": "stream",
     "text": [
      "Epoch 1/5\n",
      "6/6 [==============================] - 0s 18ms/step - loss: 0.0067 - mean_squared_error: 0.0067\n",
      "Epoch 2/5\n",
      "6/6 [==============================] - 0s 18ms/step - loss: 0.0062 - mean_squared_error: 0.0062\n",
      "Epoch 3/5\n",
      "6/6 [==============================] - 0s 19ms/step - loss: 0.0070 - mean_squared_error: 0.0070\n",
      "Epoch 4/5\n",
      "6/6 [==============================] - 0s 18ms/step - loss: 0.0067 - mean_squared_error: 0.0067\n",
      "Epoch 5/5\n",
      "6/6 [==============================] - 0s 19ms/step - loss: 0.0063 - mean_squared_error: 0.0063\n",
      "1/1 [==============================] - 0s 23ms/step\n"
     ]
    },
    {
     "data": {
      "text/plain": [
       "array([[48912.184]], dtype=float32)"
      ]
     },
     "metadata": {},
     "output_type": "display_data"
    },
    {
     "name": "stdout",
     "output_type": "stream",
     "text": [
      "Epoch 1/5\n",
      "6/6 [==============================] - 0s 17ms/step - loss: 0.0068 - mean_squared_error: 0.0068\n",
      "Epoch 2/5\n",
      "6/6 [==============================] - 0s 18ms/step - loss: 0.0062 - mean_squared_error: 0.0062\n",
      "Epoch 3/5\n",
      "6/6 [==============================] - 0s 21ms/step - loss: 0.0063 - mean_squared_error: 0.0063\n",
      "Epoch 4/5\n",
      "6/6 [==============================] - 0s 21ms/step - loss: 0.0067 - mean_squared_error: 0.0067\n",
      "Epoch 5/5\n",
      "6/6 [==============================] - 0s 18ms/step - loss: 0.0059 - mean_squared_error: 0.0059\n",
      "1/1 [==============================] - 0s 23ms/step\n"
     ]
    },
    {
     "data": {
      "text/plain": [
       "array([[49345.86]], dtype=float32)"
      ]
     },
     "metadata": {},
     "output_type": "display_data"
    },
    {
     "name": "stdout",
     "output_type": "stream",
     "text": [
      "Epoch 1/5\n",
      "6/6 [==============================] - 0s 21ms/step - loss: 0.0060 - mean_squared_error: 0.0060\n",
      "Epoch 2/5\n",
      "6/6 [==============================] - 0s 18ms/step - loss: 0.0054 - mean_squared_error: 0.0054\n",
      "Epoch 3/5\n",
      "6/6 [==============================] - 0s 18ms/step - loss: 0.0062 - mean_squared_error: 0.0062\n",
      "Epoch 4/5\n",
      "6/6 [==============================] - 0s 18ms/step - loss: 0.0057 - mean_squared_error: 0.0057\n",
      "Epoch 5/5\n",
      "6/6 [==============================] - 0s 19ms/step - loss: 0.0065 - mean_squared_error: 0.0065\n",
      "1/1 [==============================] - 0s 23ms/step\n"
     ]
    },
    {
     "data": {
      "text/plain": [
       "array([[49870.895]], dtype=float32)"
      ]
     },
     "metadata": {},
     "output_type": "display_data"
    },
    {
     "name": "stdout",
     "output_type": "stream",
     "text": [
      "Epoch 1/5\n",
      "6/6 [==============================] - 0s 21ms/step - loss: 0.0059 - mean_squared_error: 0.0059\n",
      "Epoch 2/5\n",
      "6/6 [==============================] - 0s 24ms/step - loss: 0.0060 - mean_squared_error: 0.0060\n",
      "Epoch 3/5\n",
      "6/6 [==============================] - 0s 20ms/step - loss: 0.0063 - mean_squared_error: 0.0063\n",
      "Epoch 4/5\n",
      "6/6 [==============================] - 0s 21ms/step - loss: 0.0055 - mean_squared_error: 0.0055\n",
      "Epoch 5/5\n",
      "6/6 [==============================] - 0s 19ms/step - loss: 0.0072 - mean_squared_error: 0.0072\n",
      "1/1 [==============================] - 0s 21ms/step\n"
     ]
    },
    {
     "data": {
      "text/plain": [
       "array([[47608.543]], dtype=float32)"
      ]
     },
     "metadata": {},
     "output_type": "display_data"
    },
    {
     "name": "stdout",
     "output_type": "stream",
     "text": [
      "Epoch 1/5\n",
      "6/6 [==============================] - 0s 21ms/step - loss: 0.0067 - mean_squared_error: 0.0067\n",
      "Epoch 2/5\n",
      "6/6 [==============================] - 0s 20ms/step - loss: 0.0067 - mean_squared_error: 0.0067\n",
      "Epoch 3/5\n",
      "6/6 [==============================] - 0s 18ms/step - loss: 0.0060 - mean_squared_error: 0.0060\n",
      "Epoch 4/5\n",
      "6/6 [==============================] - 0s 18ms/step - loss: 0.0062 - mean_squared_error: 0.0062\n",
      "Epoch 5/5\n",
      "6/6 [==============================] - 0s 18ms/step - loss: 0.0057 - mean_squared_error: 0.0057\n",
      "1/1 [==============================] - 0s 30ms/step\n"
     ]
    },
    {
     "data": {
      "text/plain": [
       "array([[47911.582]], dtype=float32)"
      ]
     },
     "metadata": {},
     "output_type": "display_data"
    },
    {
     "name": "stdout",
     "output_type": "stream",
     "text": [
      "Epoch 1/5\n",
      "6/6 [==============================] - 0s 18ms/step - loss: 0.0060 - mean_squared_error: 0.0060\n",
      "Epoch 2/5\n",
      "6/6 [==============================] - 0s 19ms/step - loss: 0.0064 - mean_squared_error: 0.0064\n",
      "Epoch 3/5\n",
      "6/6 [==============================] - 0s 18ms/step - loss: 0.0059 - mean_squared_error: 0.0059\n",
      "Epoch 4/5\n",
      "6/6 [==============================] - 0s 19ms/step - loss: 0.0063 - mean_squared_error: 0.0063\n",
      "Epoch 5/5\n",
      "6/6 [==============================] - 0s 19ms/step - loss: 0.0065 - mean_squared_error: 0.0065\n",
      "1/1 [==============================] - 0s 23ms/step\n"
     ]
    },
    {
     "data": {
      "text/plain": [
       "array([[48173.11]], dtype=float32)"
      ]
     },
     "metadata": {},
     "output_type": "display_data"
    },
    {
     "name": "stdout",
     "output_type": "stream",
     "text": [
      "Epoch 1/5\n",
      "6/6 [==============================] - 0s 21ms/step - loss: 0.0063 - mean_squared_error: 0.0063\n",
      "Epoch 2/5\n",
      "6/6 [==============================] - 0s 20ms/step - loss: 0.0070 - mean_squared_error: 0.0070\n",
      "Epoch 3/5\n",
      "6/6 [==============================] - 0s 19ms/step - loss: 0.0073 - mean_squared_error: 0.0073\n",
      "Epoch 4/5\n",
      "6/6 [==============================] - 0s 21ms/step - loss: 0.0088 - mean_squared_error: 0.0088\n",
      "Epoch 5/5\n",
      "6/6 [==============================] - 0s 21ms/step - loss: 0.0070 - mean_squared_error: 0.0070\n",
      "1/1 [==============================] - 0s 26ms/step\n"
     ]
    },
    {
     "data": {
      "text/plain": [
       "array([[46282.082]], dtype=float32)"
      ]
     },
     "metadata": {},
     "output_type": "display_data"
    },
    {
     "name": "stdout",
     "output_type": "stream",
     "text": [
      "Epoch 1/5\n",
      "6/6 [==============================] - 0s 24ms/step - loss: 0.0063 - mean_squared_error: 0.0063\n",
      "Epoch 2/5\n",
      "6/6 [==============================] - 0s 19ms/step - loss: 0.0059 - mean_squared_error: 0.0059\n",
      "Epoch 3/5\n",
      "6/6 [==============================] - 0s 22ms/step - loss: 0.0056 - mean_squared_error: 0.0056\n",
      "Epoch 4/5\n",
      "6/6 [==============================] - 0s 18ms/step - loss: 0.0057 - mean_squared_error: 0.0057\n",
      "Epoch 5/5\n",
      "6/6 [==============================] - 0s 20ms/step - loss: 0.0052 - mean_squared_error: 0.0052\n",
      "1/1 [==============================] - 0s 24ms/step\n"
     ]
    },
    {
     "data": {
      "text/plain": [
       "array([[46633.375]], dtype=float32)"
      ]
     },
     "metadata": {},
     "output_type": "display_data"
    },
    {
     "name": "stdout",
     "output_type": "stream",
     "text": [
      "Epoch 1/5\n",
      "6/6 [==============================] - 0s 17ms/step - loss: 0.0060 - mean_squared_error: 0.0060\n",
      "Epoch 2/5\n",
      "6/6 [==============================] - 0s 22ms/step - loss: 0.0056 - mean_squared_error: 0.0056\n",
      "Epoch 3/5\n",
      "6/6 [==============================] - 0s 19ms/step - loss: 0.0058 - mean_squared_error: 0.0058\n",
      "Epoch 4/5\n",
      "6/6 [==============================] - 0s 20ms/step - loss: 0.0052 - mean_squared_error: 0.0052\n",
      "Epoch 5/5\n",
      "6/6 [==============================] - 0s 20ms/step - loss: 0.0057 - mean_squared_error: 0.0057\n",
      "1/1 [==============================] - 0s 22ms/step\n"
     ]
    },
    {
     "data": {
      "text/plain": [
       "array([[45868.89]], dtype=float32)"
      ]
     },
     "metadata": {},
     "output_type": "display_data"
    },
    {
     "name": "stdout",
     "output_type": "stream",
     "text": [
      "Epoch 1/5\n",
      "6/6 [==============================] - 0s 18ms/step - loss: 0.0056 - mean_squared_error: 0.0056\n",
      "Epoch 2/5\n",
      "6/6 [==============================] - 0s 41ms/step - loss: 0.0059 - mean_squared_error: 0.0059\n",
      "Epoch 3/5\n",
      "6/6 [==============================] - 0s 25ms/step - loss: 0.0062 - mean_squared_error: 0.0062\n",
      "Epoch 4/5\n",
      "6/6 [==============================] - 0s 19ms/step - loss: 0.0060 - mean_squared_error: 0.0060\n",
      "Epoch 5/5\n",
      "6/6 [==============================] - 0s 17ms/step - loss: 0.0056 - mean_squared_error: 0.0056\n",
      "1/1 [==============================] - 0s 23ms/step\n"
     ]
    },
    {
     "data": {
      "text/plain": [
       "array([[46149.707]], dtype=float32)"
      ]
     },
     "metadata": {},
     "output_type": "display_data"
    },
    {
     "name": "stdout",
     "output_type": "stream",
     "text": [
      "Epoch 1/5\n",
      "6/6 [==============================] - 0s 19ms/step - loss: 0.0058 - mean_squared_error: 0.0058\n",
      "Epoch 2/5\n",
      "6/6 [==============================] - 0s 19ms/step - loss: 0.0053 - mean_squared_error: 0.0053\n",
      "Epoch 3/5\n",
      "6/6 [==============================] - 0s 20ms/step - loss: 0.0054 - mean_squared_error: 0.0054\n",
      "Epoch 4/5\n",
      "6/6 [==============================] - 0s 17ms/step - loss: 0.0061 - mean_squared_error: 0.0061\n",
      "Epoch 5/5\n",
      "6/6 [==============================] - 0s 17ms/step - loss: 0.0059 - mean_squared_error: 0.0059\n",
      "1/1 [==============================] - 0s 22ms/step\n"
     ]
    },
    {
     "data": {
      "text/plain": [
       "array([[45551.414]], dtype=float32)"
      ]
     },
     "metadata": {},
     "output_type": "display_data"
    },
    {
     "name": "stdout",
     "output_type": "stream",
     "text": [
      "Epoch 1/5\n",
      "6/6 [==============================] - 0s 18ms/step - loss: 0.0059 - mean_squared_error: 0.0059\n",
      "Epoch 2/5\n",
      "6/6 [==============================] - 0s 17ms/step - loss: 0.0052 - mean_squared_error: 0.0052\n",
      "Epoch 3/5\n",
      "6/6 [==============================] - 0s 18ms/step - loss: 0.0061 - mean_squared_error: 0.0061\n",
      "Epoch 4/5\n",
      "6/6 [==============================] - 0s 17ms/step - loss: 0.0057 - mean_squared_error: 0.0057\n",
      "Epoch 5/5\n",
      "6/6 [==============================] - 0s 17ms/step - loss: 0.0058 - mean_squared_error: 0.0058\n",
      "1/1 [==============================] - 0s 43ms/step\n"
     ]
    },
    {
     "data": {
      "text/plain": [
       "array([[45702.15]], dtype=float32)"
      ]
     },
     "metadata": {},
     "output_type": "display_data"
    },
    {
     "name": "stdout",
     "output_type": "stream",
     "text": [
      "Epoch 1/5\n",
      "6/6 [==============================] - 0s 21ms/step - loss: 0.0070 - mean_squared_error: 0.0070\n",
      "Epoch 2/5\n",
      "6/6 [==============================] - 0s 19ms/step - loss: 0.0070 - mean_squared_error: 0.0070\n",
      "Epoch 3/5\n",
      "6/6 [==============================] - 0s 20ms/step - loss: 0.0061 - mean_squared_error: 0.0061\n",
      "Epoch 4/5\n",
      "6/6 [==============================] - 0s 20ms/step - loss: 0.0052 - mean_squared_error: 0.0052\n",
      "Epoch 5/5\n",
      "6/6 [==============================] - 0s 17ms/step - loss: 0.0060 - mean_squared_error: 0.0060\n",
      "1/1 [==============================] - 0s 25ms/step\n"
     ]
    },
    {
     "data": {
      "text/plain": [
       "array([[44354.316]], dtype=float32)"
      ]
     },
     "metadata": {},
     "output_type": "display_data"
    },
    {
     "name": "stdout",
     "output_type": "stream",
     "text": [
      "Epoch 1/5\n",
      "6/6 [==============================] - 0s 18ms/step - loss: 0.0067 - mean_squared_error: 0.0067\n",
      "Epoch 2/5\n",
      "6/6 [==============================] - 0s 17ms/step - loss: 0.0062 - mean_squared_error: 0.0062\n",
      "Epoch 3/5\n",
      "6/6 [==============================] - 0s 17ms/step - loss: 0.0047 - mean_squared_error: 0.0047\n",
      "Epoch 4/5\n",
      "6/6 [==============================] - 0s 17ms/step - loss: 0.0053 - mean_squared_error: 0.0053\n",
      "Epoch 5/5\n",
      "6/6 [==============================] - 0s 18ms/step - loss: 0.0051 - mean_squared_error: 0.0051\n",
      "1/1 [==============================] - 0s 23ms/step\n"
     ]
    },
    {
     "data": {
      "text/plain": [
       "array([[44017.69]], dtype=float32)"
      ]
     },
     "metadata": {},
     "output_type": "display_data"
    },
    {
     "name": "stdout",
     "output_type": "stream",
     "text": [
      "Epoch 1/5\n",
      "6/6 [==============================] - 0s 17ms/step - loss: 0.0053 - mean_squared_error: 0.0053\n",
      "Epoch 2/5\n",
      "6/6 [==============================] - 0s 17ms/step - loss: 0.0056 - mean_squared_error: 0.0056\n",
      "Epoch 3/5\n",
      "6/6 [==============================] - 0s 20ms/step - loss: 0.0052 - mean_squared_error: 0.0052\n",
      "Epoch 4/5\n",
      "6/6 [==============================] - 0s 17ms/step - loss: 0.0054 - mean_squared_error: 0.0054\n",
      "Epoch 5/5\n",
      "6/6 [==============================] - 0s 22ms/step - loss: 0.0052 - mean_squared_error: 0.0052\n",
      "1/1 [==============================] - 0s 22ms/step\n"
     ]
    },
    {
     "data": {
      "text/plain": [
       "array([[42941.027]], dtype=float32)"
      ]
     },
     "metadata": {},
     "output_type": "display_data"
    },
    {
     "name": "stdout",
     "output_type": "stream",
     "text": [
      "Epoch 1/5\n",
      "6/6 [==============================] - 0s 21ms/step - loss: 0.0060 - mean_squared_error: 0.0060\n",
      "Epoch 2/5\n",
      "6/6 [==============================] - 0s 25ms/step - loss: 0.0056 - mean_squared_error: 0.0056\n",
      "Epoch 3/5\n",
      "6/6 [==============================] - 0s 21ms/step - loss: 0.0054 - mean_squared_error: 0.0054\n",
      "Epoch 4/5\n",
      "6/6 [==============================] - 0s 19ms/step - loss: 0.0053 - mean_squared_error: 0.0053\n",
      "Epoch 5/5\n",
      "6/6 [==============================] - 0s 17ms/step - loss: 0.0052 - mean_squared_error: 0.0052\n",
      "1/1 [==============================] - 0s 22ms/step\n"
     ]
    },
    {
     "data": {
      "text/plain": [
       "array([[43390.816]], dtype=float32)"
      ]
     },
     "metadata": {},
     "output_type": "display_data"
    },
    {
     "name": "stdout",
     "output_type": "stream",
     "text": [
      "Epoch 1/5\n",
      "6/6 [==============================] - 0s 23ms/step - loss: 0.0050 - mean_squared_error: 0.0050\n",
      "Epoch 2/5\n",
      "6/6 [==============================] - 0s 28ms/step - loss: 0.0052 - mean_squared_error: 0.0052\n",
      "Epoch 3/5\n",
      "6/6 [==============================] - 0s 20ms/step - loss: 0.0054 - mean_squared_error: 0.0054\n",
      "Epoch 4/5\n",
      "6/6 [==============================] - 0s 20ms/step - loss: 0.0054 - mean_squared_error: 0.0054\n",
      "Epoch 5/5\n",
      "6/6 [==============================] - 0s 19ms/step - loss: 0.0052 - mean_squared_error: 0.0052\n",
      "1/1 [==============================] - 0s 29ms/step\n"
     ]
    },
    {
     "data": {
      "text/plain": [
       "array([[43533.055]], dtype=float32)"
      ]
     },
     "metadata": {},
     "output_type": "display_data"
    },
    {
     "name": "stdout",
     "output_type": "stream",
     "text": [
      "Epoch 1/5\n",
      "6/6 [==============================] - 0s 24ms/step - loss: 0.0050 - mean_squared_error: 0.0050\n",
      "Epoch 2/5\n",
      "6/6 [==============================] - 0s 28ms/step - loss: 0.0052 - mean_squared_error: 0.0052\n",
      "Epoch 3/5\n",
      "6/6 [==============================] - 0s 35ms/step - loss: 0.0051 - mean_squared_error: 0.0051\n",
      "Epoch 4/5\n",
      "6/6 [==============================] - 0s 27ms/step - loss: 0.0053 - mean_squared_error: 0.0053\n",
      "Epoch 5/5\n",
      "6/6 [==============================] - 0s 28ms/step - loss: 0.0051 - mean_squared_error: 0.0051\n",
      "1/1 [==============================] - 0s 25ms/step\n"
     ]
    },
    {
     "data": {
      "text/plain": [
       "array([[42689.8]], dtype=float32)"
      ]
     },
     "metadata": {},
     "output_type": "display_data"
    },
    {
     "name": "stdout",
     "output_type": "stream",
     "text": [
      "Epoch 1/5\n",
      "6/6 [==============================] - 0s 19ms/step - loss: 0.0050 - mean_squared_error: 0.0050\n",
      "Epoch 2/5\n",
      "6/6 [==============================] - 0s 18ms/step - loss: 0.0049 - mean_squared_error: 0.0049\n",
      "Epoch 3/5\n",
      "6/6 [==============================] - 0s 41ms/step - loss: 0.0055 - mean_squared_error: 0.0055\n",
      "Epoch 4/5\n",
      "6/6 [==============================] - 0s 17ms/step - loss: 0.0055 - mean_squared_error: 0.0055\n",
      "Epoch 5/5\n",
      "6/6 [==============================] - 0s 21ms/step - loss: 0.0050 - mean_squared_error: 0.0050\n",
      "1/1 [==============================] - 0s 32ms/step\n"
     ]
    },
    {
     "data": {
      "text/plain": [
       "array([[42851.555]], dtype=float32)"
      ]
     },
     "metadata": {},
     "output_type": "display_data"
    },
    {
     "name": "stdout",
     "output_type": "stream",
     "text": [
      "Epoch 1/5\n",
      "6/6 [==============================] - 0s 19ms/step - loss: 0.0049 - mean_squared_error: 0.0049\n",
      "Epoch 2/5\n",
      "6/6 [==============================] - 0s 17ms/step - loss: 0.0051 - mean_squared_error: 0.0051\n",
      "Epoch 3/5\n",
      "6/6 [==============================] - 0s 17ms/step - loss: 0.0050 - mean_squared_error: 0.0050\n",
      "Epoch 4/5\n",
      "6/6 [==============================] - 0s 17ms/step - loss: 0.0050 - mean_squared_error: 0.0050\n",
      "Epoch 5/5\n",
      "6/6 [==============================] - 0s 17ms/step - loss: 0.0050 - mean_squared_error: 0.0050\n",
      "1/1 [==============================] - 0s 23ms/step\n"
     ]
    },
    {
     "data": {
      "text/plain": [
       "array([[43354.01]], dtype=float32)"
      ]
     },
     "metadata": {},
     "output_type": "display_data"
    },
    {
     "name": "stdout",
     "output_type": "stream",
     "text": [
      "Epoch 1/5\n",
      "6/6 [==============================] - 0s 17ms/step - loss: 0.0047 - mean_squared_error: 0.0047\n",
      "Epoch 2/5\n",
      "6/6 [==============================] - 0s 18ms/step - loss: 0.0049 - mean_squared_error: 0.0049\n",
      "Epoch 3/5\n",
      "6/6 [==============================] - 0s 17ms/step - loss: 0.0047 - mean_squared_error: 0.0047\n",
      "Epoch 4/5\n",
      "6/6 [==============================] - 0s 18ms/step - loss: 0.0051 - mean_squared_error: 0.0051\n",
      "Epoch 5/5\n",
      "6/6 [==============================] - 0s 18ms/step - loss: 0.0050 - mean_squared_error: 0.0050\n",
      "1/1 [==============================] - 0s 22ms/step\n"
     ]
    },
    {
     "data": {
      "text/plain": [
       "array([[43778.895]], dtype=float32)"
      ]
     },
     "metadata": {},
     "output_type": "display_data"
    },
    {
     "name": "stdout",
     "output_type": "stream",
     "text": [
      "Epoch 1/5\n",
      "6/6 [==============================] - 0s 18ms/step - loss: 0.0057 - mean_squared_error: 0.0057\n",
      "Epoch 2/5\n",
      "6/6 [==============================] - 0s 18ms/step - loss: 0.0057 - mean_squared_error: 0.0057\n",
      "Epoch 3/5\n",
      "6/6 [==============================] - 0s 18ms/step - loss: 0.0054 - mean_squared_error: 0.0054\n",
      "Epoch 4/5\n",
      "6/6 [==============================] - 0s 17ms/step - loss: 0.0051 - mean_squared_error: 0.0051\n",
      "Epoch 5/5\n",
      "6/6 [==============================] - 0s 17ms/step - loss: 0.0054 - mean_squared_error: 0.0054\n",
      "1/1 [==============================] - 0s 24ms/step\n"
     ]
    },
    {
     "data": {
      "text/plain": [
       "array([[45042.574]], dtype=float32)"
      ]
     },
     "metadata": {},
     "output_type": "display_data"
    },
    {
     "name": "stdout",
     "output_type": "stream",
     "text": [
      "Epoch 1/5\n",
      "6/6 [==============================] - 0s 18ms/step - loss: 0.0052 - mean_squared_error: 0.0052\n",
      "Epoch 2/5\n",
      "6/6 [==============================] - 0s 18ms/step - loss: 0.0049 - mean_squared_error: 0.0049\n",
      "Epoch 3/5\n",
      "6/6 [==============================] - 0s 17ms/step - loss: 0.0046 - mean_squared_error: 0.0046\n",
      "Epoch 4/5\n",
      "6/6 [==============================] - 0s 17ms/step - loss: 0.0054 - mean_squared_error: 0.0054\n",
      "Epoch 5/5\n",
      "6/6 [==============================] - 0s 17ms/step - loss: 0.0048 - mean_squared_error: 0.0048\n",
      "1/1 [==============================] - 0s 23ms/step\n"
     ]
    },
    {
     "data": {
      "text/plain": [
       "array([[44725.746]], dtype=float32)"
      ]
     },
     "metadata": {},
     "output_type": "display_data"
    },
    {
     "name": "stdout",
     "output_type": "stream",
     "text": [
      "Epoch 1/5\n",
      "6/6 [==============================] - 0s 17ms/step - loss: 0.0049 - mean_squared_error: 0.0049\n",
      "Epoch 2/5\n",
      "6/6 [==============================] - 0s 17ms/step - loss: 0.0046 - mean_squared_error: 0.0046\n",
      "Epoch 3/5\n",
      "6/6 [==============================] - 0s 17ms/step - loss: 0.0054 - mean_squared_error: 0.0054\n",
      "Epoch 4/5\n",
      "6/6 [==============================] - 0s 18ms/step - loss: 0.0046 - mean_squared_error: 0.0046\n",
      "Epoch 5/5\n",
      "6/6 [==============================] - 0s 27ms/step - loss: 0.0048 - mean_squared_error: 0.0048\n",
      "1/1 [==============================] - 0s 23ms/step\n"
     ]
    },
    {
     "data": {
      "text/plain": [
       "array([[44443.027]], dtype=float32)"
      ]
     },
     "metadata": {},
     "output_type": "display_data"
    },
    {
     "name": "stdout",
     "output_type": "stream",
     "text": [
      "Epoch 1/5\n",
      "6/6 [==============================] - 0s 17ms/step - loss: 0.0043 - mean_squared_error: 0.0043\n",
      "Epoch 2/5\n",
      "6/6 [==============================] - 0s 17ms/step - loss: 0.0049 - mean_squared_error: 0.0049\n",
      "Epoch 3/5\n",
      "6/6 [==============================] - 0s 18ms/step - loss: 0.0047 - mean_squared_error: 0.0047\n",
      "Epoch 4/5\n",
      "6/6 [==============================] - 0s 17ms/step - loss: 0.0048 - mean_squared_error: 0.0048\n",
      "Epoch 5/5\n",
      "6/6 [==============================] - 0s 17ms/step - loss: 0.0051 - mean_squared_error: 0.0051\n",
      "1/1 [==============================] - 0s 24ms/step\n"
     ]
    },
    {
     "data": {
      "text/plain": [
       "array([[45399.758]], dtype=float32)"
      ]
     },
     "metadata": {},
     "output_type": "display_data"
    },
    {
     "name": "stdout",
     "output_type": "stream",
     "text": [
      "Epoch 1/5\n",
      "6/6 [==============================] - 0s 17ms/step - loss: 0.0050 - mean_squared_error: 0.0050\n",
      "Epoch 2/5\n",
      "6/6 [==============================] - 0s 17ms/step - loss: 0.0049 - mean_squared_error: 0.0049\n",
      "Epoch 3/5\n",
      "6/6 [==============================] - 0s 18ms/step - loss: 0.0050 - mean_squared_error: 0.0050\n",
      "Epoch 4/5\n",
      "6/6 [==============================] - 0s 17ms/step - loss: 0.0041 - mean_squared_error: 0.0041\n",
      "Epoch 5/5\n",
      "6/6 [==============================] - 0s 18ms/step - loss: 0.0049 - mean_squared_error: 0.0049\n",
      "1/1 [==============================] - 0s 23ms/step\n"
     ]
    },
    {
     "data": {
      "text/plain": [
       "array([[44837.363]], dtype=float32)"
      ]
     },
     "metadata": {},
     "output_type": "display_data"
    },
    {
     "name": "stdout",
     "output_type": "stream",
     "text": [
      "Epoch 1/5\n",
      "6/6 [==============================] - 0s 17ms/step - loss: 0.0049 - mean_squared_error: 0.0049\n",
      "Epoch 2/5\n",
      "6/6 [==============================] - 0s 17ms/step - loss: 0.0046 - mean_squared_error: 0.0046\n",
      "Epoch 3/5\n",
      "6/6 [==============================] - 0s 18ms/step - loss: 0.0047 - mean_squared_error: 0.0047\n",
      "Epoch 4/5\n",
      "6/6 [==============================] - 0s 17ms/step - loss: 0.0044 - mean_squared_error: 0.0044\n",
      "Epoch 5/5\n",
      "6/6 [==============================] - 0s 16ms/step - loss: 0.0046 - mean_squared_error: 0.0046\n",
      "1/1 [==============================] - 0s 23ms/step\n"
     ]
    },
    {
     "data": {
      "text/plain": [
       "array([[45912.42]], dtype=float32)"
      ]
     },
     "metadata": {},
     "output_type": "display_data"
    },
    {
     "name": "stdout",
     "output_type": "stream",
     "text": [
      "Epoch 1/5\n",
      "6/6 [==============================] - 0s 17ms/step - loss: 0.0046 - mean_squared_error: 0.0046\n",
      "Epoch 2/5\n",
      "6/6 [==============================] - 0s 17ms/step - loss: 0.0051 - mean_squared_error: 0.0051\n",
      "Epoch 3/5\n",
      "6/6 [==============================] - 0s 17ms/step - loss: 0.0051 - mean_squared_error: 0.0051\n",
      "Epoch 4/5\n",
      "6/6 [==============================] - 0s 17ms/step - loss: 0.0045 - mean_squared_error: 0.0045\n",
      "Epoch 5/5\n",
      "6/6 [==============================] - 0s 17ms/step - loss: 0.0047 - mean_squared_error: 0.0047\n",
      "1/1 [==============================] - 0s 22ms/step\n"
     ]
    },
    {
     "data": {
      "text/plain": [
       "array([[46744.418]], dtype=float32)"
      ]
     },
     "metadata": {},
     "output_type": "display_data"
    },
    {
     "name": "stdout",
     "output_type": "stream",
     "text": [
      "Epoch 1/5\n",
      "7/7 [==============================] - 0s 17ms/step - loss: 0.0048 - mean_squared_error: 0.0048\n",
      "Epoch 2/5\n",
      "7/7 [==============================] - 0s 16ms/step - loss: 0.0045 - mean_squared_error: 0.0045\n",
      "Epoch 3/5\n",
      "7/7 [==============================] - 0s 16ms/step - loss: 0.0043 - mean_squared_error: 0.0043\n",
      "Epoch 4/5\n",
      "7/7 [==============================] - 0s 18ms/step - loss: 0.0048 - mean_squared_error: 0.0048\n",
      "Epoch 5/5\n",
      "7/7 [==============================] - 0s 16ms/step - loss: 0.0050 - mean_squared_error: 0.0050\n",
      "1/1 [==============================] - 0s 22ms/step\n"
     ]
    },
    {
     "data": {
      "text/plain": [
       "array([[46787.387]], dtype=float32)"
      ]
     },
     "metadata": {},
     "output_type": "display_data"
    },
    {
     "name": "stdout",
     "output_type": "stream",
     "text": [
      "Epoch 1/5\n",
      "7/7 [==============================] - 0s 17ms/step - loss: 0.0045 - mean_squared_error: 0.0045\n",
      "Epoch 2/5\n",
      "7/7 [==============================] - 0s 17ms/step - loss: 0.0048 - mean_squared_error: 0.0048\n",
      "Epoch 3/5\n",
      "7/7 [==============================] - 0s 17ms/step - loss: 0.0050 - mean_squared_error: 0.0050\n",
      "Epoch 4/5\n",
      "7/7 [==============================] - 0s 17ms/step - loss: 0.0047 - mean_squared_error: 0.0047\n",
      "Epoch 5/5\n",
      "7/7 [==============================] - 0s 17ms/step - loss: 0.0051 - mean_squared_error: 0.0051\n",
      "1/1 [==============================] - 0s 22ms/step\n"
     ]
    },
    {
     "data": {
      "text/plain": [
       "array([[47881.168]], dtype=float32)"
      ]
     },
     "metadata": {},
     "output_type": "display_data"
    },
    {
     "name": "stdout",
     "output_type": "stream",
     "text": [
      "Epoch 1/5\n",
      "7/7 [==============================] - 0s 18ms/step - loss: 0.0050 - mean_squared_error: 0.0050\n",
      "Epoch 2/5\n",
      "7/7 [==============================] - 0s 17ms/step - loss: 0.0043 - mean_squared_error: 0.0043\n",
      "Epoch 3/5\n",
      "7/7 [==============================] - 0s 17ms/step - loss: 0.0044 - mean_squared_error: 0.0044\n",
      "Epoch 4/5\n",
      "7/7 [==============================] - 0s 17ms/step - loss: 0.0045 - mean_squared_error: 0.0045\n",
      "Epoch 5/5\n",
      "7/7 [==============================] - 0s 17ms/step - loss: 0.0058 - mean_squared_error: 0.0058\n",
      "1/1 [==============================] - 0s 22ms/step\n"
     ]
    },
    {
     "data": {
      "text/plain": [
       "array([[44074.906]], dtype=float32)"
      ]
     },
     "metadata": {},
     "output_type": "display_data"
    },
    {
     "name": "stdout",
     "output_type": "stream",
     "text": [
      "Epoch 1/5\n",
      "7/7 [==============================] - 0s 17ms/step - loss: 0.0056 - mean_squared_error: 0.0056\n",
      "Epoch 2/5\n",
      "7/7 [==============================] - 0s 18ms/step - loss: 0.0050 - mean_squared_error: 0.0050\n",
      "Epoch 3/5\n",
      "7/7 [==============================] - 0s 17ms/step - loss: 0.0044 - mean_squared_error: 0.0044\n",
      "Epoch 4/5\n",
      "7/7 [==============================] - 0s 17ms/step - loss: 0.0047 - mean_squared_error: 0.0047\n",
      "Epoch 5/5\n",
      "7/7 [==============================] - 0s 18ms/step - loss: 0.0049 - mean_squared_error: 0.0049\n",
      "1/1 [==============================] - 0s 23ms/step\n"
     ]
    },
    {
     "data": {
      "text/plain": [
       "array([[46901.39]], dtype=float32)"
      ]
     },
     "metadata": {},
     "output_type": "display_data"
    },
    {
     "name": "stdout",
     "output_type": "stream",
     "text": [
      "Epoch 1/5\n",
      "7/7 [==============================] - 0s 17ms/step - loss: 0.0052 - mean_squared_error: 0.0052\n",
      "Epoch 2/5\n",
      "7/7 [==============================] - 0s 17ms/step - loss: 0.0043 - mean_squared_error: 0.0043\n",
      "Epoch 3/5\n",
      "7/7 [==============================] - 0s 17ms/step - loss: 0.0047 - mean_squared_error: 0.0047\n",
      "Epoch 4/5\n",
      "7/7 [==============================] - 0s 18ms/step - loss: 0.0047 - mean_squared_error: 0.0047\n",
      "Epoch 5/5\n",
      "7/7 [==============================] - 0s 18ms/step - loss: 0.0043 - mean_squared_error: 0.0043\n",
      "1/1 [==============================] - 0s 24ms/step\n"
     ]
    },
    {
     "data": {
      "text/plain": [
       "array([[46787.38]], dtype=float32)"
      ]
     },
     "metadata": {},
     "output_type": "display_data"
    },
    {
     "name": "stdout",
     "output_type": "stream",
     "text": [
      "Epoch 1/5\n",
      "7/7 [==============================] - 0s 17ms/step - loss: 0.0039 - mean_squared_error: 0.0039\n",
      "Epoch 2/5\n",
      "7/7 [==============================] - 0s 18ms/step - loss: 0.0041 - mean_squared_error: 0.0041\n",
      "Epoch 3/5\n",
      "7/7 [==============================] - 0s 17ms/step - loss: 0.0043 - mean_squared_error: 0.0043\n",
      "Epoch 4/5\n",
      "7/7 [==============================] - 0s 17ms/step - loss: 0.0046 - mean_squared_error: 0.0046\n",
      "Epoch 5/5\n",
      "7/7 [==============================] - 0s 17ms/step - loss: 0.0043 - mean_squared_error: 0.0043\n",
      "1/1 [==============================] - 0s 22ms/step\n"
     ]
    },
    {
     "data": {
      "text/plain": [
       "array([[45705.21]], dtype=float32)"
      ]
     },
     "metadata": {},
     "output_type": "display_data"
    },
    {
     "name": "stdout",
     "output_type": "stream",
     "text": [
      "Epoch 1/5\n",
      "7/7 [==============================] - 0s 17ms/step - loss: 0.0047 - mean_squared_error: 0.0047\n",
      "Epoch 2/5\n",
      "7/7 [==============================] - 0s 17ms/step - loss: 0.0046 - mean_squared_error: 0.0046\n",
      "Epoch 3/5\n",
      "7/7 [==============================] - 0s 17ms/step - loss: 0.0038 - mean_squared_error: 0.0038\n",
      "Epoch 4/5\n",
      "7/7 [==============================] - 0s 18ms/step - loss: 0.0041 - mean_squared_error: 0.0041\n",
      "Epoch 5/5\n",
      "7/7 [==============================] - 0s 17ms/step - loss: 0.0042 - mean_squared_error: 0.0042\n",
      "1/1 [==============================] - 0s 23ms/step\n"
     ]
    },
    {
     "data": {
      "text/plain": [
       "array([[45812.65]], dtype=float32)"
      ]
     },
     "metadata": {},
     "output_type": "display_data"
    },
    {
     "name": "stdout",
     "output_type": "stream",
     "text": [
      "Epoch 1/5\n",
      "7/7 [==============================] - 0s 17ms/step - loss: 0.0041 - mean_squared_error: 0.0041\n",
      "Epoch 2/5\n",
      "7/7 [==============================] - 0s 19ms/step - loss: 0.0044 - mean_squared_error: 0.0044\n",
      "Epoch 3/5\n",
      "7/7 [==============================] - 0s 17ms/step - loss: 0.0039 - mean_squared_error: 0.0039\n",
      "Epoch 4/5\n",
      "7/7 [==============================] - 0s 20ms/step - loss: 0.0044 - mean_squared_error: 0.0044\n",
      "Epoch 5/5\n",
      "7/7 [==============================] - 0s 34ms/step - loss: 0.0045 - mean_squared_error: 0.0045\n",
      "1/1 [==============================] - 0s 39ms/step\n"
     ]
    },
    {
     "data": {
      "text/plain": [
       "array([[46964.8]], dtype=float32)"
      ]
     },
     "metadata": {},
     "output_type": "display_data"
    },
    {
     "name": "stdout",
     "output_type": "stream",
     "text": [
      "Epoch 1/5\n",
      "7/7 [==============================] - 0s 24ms/step - loss: 0.0040 - mean_squared_error: 0.0040\n",
      "Epoch 2/5\n",
      "7/7 [==============================] - 0s 24ms/step - loss: 0.0041 - mean_squared_error: 0.0041\n",
      "Epoch 3/5\n",
      "7/7 [==============================] - 0s 22ms/step - loss: 0.0046 - mean_squared_error: 0.0046\n",
      "Epoch 4/5\n",
      "7/7 [==============================] - 0s 26ms/step - loss: 0.0041 - mean_squared_error: 0.0041\n",
      "Epoch 5/5\n",
      "7/7 [==============================] - 0s 24ms/step - loss: 0.0041 - mean_squared_error: 0.0041\n",
      "1/1 [==============================] - 0s 76ms/step\n"
     ]
    },
    {
     "data": {
      "text/plain": [
       "array([[44508.266]], dtype=float32)"
      ]
     },
     "metadata": {},
     "output_type": "display_data"
    },
    {
     "name": "stdout",
     "output_type": "stream",
     "text": [
      "Epoch 1/5\n",
      "7/7 [==============================] - 0s 35ms/step - loss: 0.0043 - mean_squared_error: 0.0043\n",
      "Epoch 2/5\n",
      "7/7 [==============================] - 0s 25ms/step - loss: 0.0038 - mean_squared_error: 0.0038\n",
      "Epoch 3/5\n",
      "7/7 [==============================] - 0s 19ms/step - loss: 0.0046 - mean_squared_error: 0.0046\n",
      "Epoch 4/5\n",
      "7/7 [==============================] - 0s 17ms/step - loss: 0.0044 - mean_squared_error: 0.0044\n",
      "Epoch 5/5\n",
      "7/7 [==============================] - 0s 20ms/step - loss: 0.0041 - mean_squared_error: 0.0041\n",
      "1/1 [==============================] - 0s 36ms/step\n"
     ]
    },
    {
     "data": {
      "text/plain": [
       "array([[45364.8]], dtype=float32)"
      ]
     },
     "metadata": {},
     "output_type": "display_data"
    },
    {
     "name": "stdout",
     "output_type": "stream",
     "text": [
      "Epoch 1/5\n",
      "7/7 [==============================] - 0s 21ms/step - loss: 0.0040 - mean_squared_error: 0.0040\n",
      "Epoch 2/5\n",
      "7/7 [==============================] - 0s 34ms/step - loss: 0.0044 - mean_squared_error: 0.0044\n",
      "Epoch 3/5\n",
      "7/7 [==============================] - 0s 17ms/step - loss: 0.0045 - mean_squared_error: 0.0045\n",
      "Epoch 4/5\n",
      "7/7 [==============================] - 0s 17ms/step - loss: 0.0040 - mean_squared_error: 0.0040\n",
      "Epoch 5/5\n",
      "7/7 [==============================] - 0s 20ms/step - loss: 0.0045 - mean_squared_error: 0.0045\n"
     ]
    }
   ],
   "source": [
    "# Projects future data by using model to predict next close and then uses that value to retrain \n",
    "# the model before making next prediction\n",
    "# Creates empty list where future predictions will be added to\n",
    "future_predictions = []\n",
    "for i in range(56): \n",
    "    # predicts next close value and reshapes it\n",
    "    prediction_scaled=model_prediction_btc.predict(X_scaled[-1].reshape(1, window_size, 1))\n",
    "    # transforms prediction back to original scale\n",
    "    next_prediction=y_scaler.inverse_transform(prediction_scaled)\n",
    "    # displays predicted close value\n",
    "    display(next_prediction)\n",
    "    # Adds future predictions to list\n",
    "    future_predictions.append(next_prediction)\n",
    "    # adds predicted close value to list\n",
    "    new_train_sample=np.append(X_scaled[-1], prediction_scaled)[1:].reshape(1, window_size, 1)\n",
    "    # adds new list entry of predicted close to X train\n",
    "    X_scaled=np.append(X_scaled, new_train_sample, axis=0)\n",
    "    # adds new list entry of predicted close to y train\n",
    "    y_scaled=np.append(y_scaled, prediction_scaled, axis=0)\n",
    "    # refits model with new close value\n",
    "    model_prediction_btc.fit(X_scaled, y_scaled, epochs=5)"
   ]
  },
  {
   "cell_type": "code",
   "execution_count": 46,
   "id": "90b67549-c059-4bb1-8655-60e4a4b35c8d",
   "metadata": {},
   "outputs": [
    {
     "data": {
      "text/plain": [
       "[array([[34395.242]], dtype=float32),\n",
       " array([[35883.684]], dtype=float32),\n",
       " array([[33634.066]], dtype=float32),\n",
       " array([[34579.996]], dtype=float32),\n",
       " array([[36520.535]], dtype=float32),\n",
       " array([[38085.023]], dtype=float32),\n",
       " array([[38111.633]], dtype=float32),\n",
       " array([[40913.527]], dtype=float32),\n",
       " array([[42652.168]], dtype=float32),\n",
       " array([[44795.2]], dtype=float32),\n",
       " array([[45660.87]], dtype=float32),\n",
       " array([[46404.445]], dtype=float32),\n",
       " array([[45987.57]], dtype=float32),\n",
       " array([[48629.902]], dtype=float32),\n",
       " array([[48659.77]], dtype=float32),\n",
       " array([[48891.473]], dtype=float32),\n",
       " array([[50187.414]], dtype=float32),\n",
       " array([[48362.188]], dtype=float32),\n",
       " array([[48912.184]], dtype=float32),\n",
       " array([[49345.86]], dtype=float32),\n",
       " array([[49870.895]], dtype=float32),\n",
       " array([[47608.543]], dtype=float32),\n",
       " array([[47911.582]], dtype=float32),\n",
       " array([[48173.11]], dtype=float32),\n",
       " array([[46282.082]], dtype=float32),\n",
       " array([[46633.375]], dtype=float32),\n",
       " array([[45868.89]], dtype=float32),\n",
       " array([[46149.707]], dtype=float32),\n",
       " array([[45551.414]], dtype=float32),\n",
       " array([[45702.15]], dtype=float32),\n",
       " array([[44354.316]], dtype=float32),\n",
       " array([[44017.69]], dtype=float32),\n",
       " array([[42941.027]], dtype=float32),\n",
       " array([[43390.816]], dtype=float32),\n",
       " array([[43533.055]], dtype=float32),\n",
       " array([[42689.8]], dtype=float32),\n",
       " array([[42851.555]], dtype=float32),\n",
       " array([[43354.01]], dtype=float32),\n",
       " array([[43778.895]], dtype=float32),\n",
       " array([[45042.574]], dtype=float32),\n",
       " array([[44725.746]], dtype=float32),\n",
       " array([[44443.027]], dtype=float32),\n",
       " array([[45399.758]], dtype=float32),\n",
       " array([[44837.363]], dtype=float32),\n",
       " array([[45912.42]], dtype=float32),\n",
       " array([[46744.418]], dtype=float32),\n",
       " array([[46787.387]], dtype=float32),\n",
       " array([[47881.168]], dtype=float32),\n",
       " array([[44074.906]], dtype=float32),\n",
       " array([[46901.39]], dtype=float32),\n",
       " array([[46787.38]], dtype=float32),\n",
       " array([[45705.21]], dtype=float32),\n",
       " array([[45812.65]], dtype=float32),\n",
       " array([[46964.8]], dtype=float32),\n",
       " array([[44508.266]], dtype=float32),\n",
       " array([[45364.8]], dtype=float32)]"
      ]
     },
     "execution_count": 46,
     "metadata": {},
     "output_type": "execute_result"
    }
   ],
   "source": [
    "future_predictions"
   ]
  },
  {
   "cell_type": "code",
   "execution_count": 37,
   "id": "c913e3fa-b8cd-4bcb-acd6-c86c43ac0cb1",
   "metadata": {},
   "outputs": [
    {
     "data": {
      "text/plain": [
       "array(['2019-06-24T00:00:00.000000000', '2019-07-01T00:00:00.000000000',\n",
       "       '2019-07-08T00:00:00.000000000', '2019-07-15T00:00:00.000000000',\n",
       "       '2019-07-22T00:00:00.000000000', '2019-07-29T00:00:00.000000000',\n",
       "       '2019-08-05T00:00:00.000000000', '2019-08-12T00:00:00.000000000',\n",
       "       '2019-08-19T00:00:00.000000000', '2019-08-26T00:00:00.000000000',\n",
       "       '2019-09-02T00:00:00.000000000', '2019-09-09T00:00:00.000000000',\n",
       "       '2019-09-16T00:00:00.000000000', '2019-09-23T00:00:00.000000000',\n",
       "       '2019-09-30T00:00:00.000000000', '2019-10-07T00:00:00.000000000',\n",
       "       '2019-10-14T00:00:00.000000000', '2019-10-21T00:00:00.000000000',\n",
       "       '2019-10-28T00:00:00.000000000', '2019-11-04T00:00:00.000000000',\n",
       "       '2019-11-11T00:00:00.000000000', '2019-11-18T00:00:00.000000000',\n",
       "       '2019-11-25T00:00:00.000000000', '2019-12-02T00:00:00.000000000',\n",
       "       '2019-12-09T00:00:00.000000000', '2019-12-16T00:00:00.000000000',\n",
       "       '2019-12-23T00:00:00.000000000', '2019-12-30T00:00:00.000000000',\n",
       "       '2020-01-06T00:00:00.000000000', '2020-01-13T00:00:00.000000000',\n",
       "       '2020-01-20T00:00:00.000000000', '2020-01-27T00:00:00.000000000',\n",
       "       '2020-02-03T00:00:00.000000000', '2020-02-10T00:00:00.000000000',\n",
       "       '2020-02-17T00:00:00.000000000', '2020-02-24T00:00:00.000000000',\n",
       "       '2020-03-02T00:00:00.000000000', '2020-03-09T00:00:00.000000000',\n",
       "       '2020-03-16T00:00:00.000000000', '2020-03-23T00:00:00.000000000',\n",
       "       '2020-03-30T00:00:00.000000000', '2020-04-06T00:00:00.000000000',\n",
       "       '2020-04-13T00:00:00.000000000', '2020-04-20T00:00:00.000000000',\n",
       "       '2020-04-27T00:00:00.000000000', '2020-05-04T00:00:00.000000000',\n",
       "       '2020-05-11T00:00:00.000000000', '2020-05-18T00:00:00.000000000',\n",
       "       '2020-05-25T00:00:00.000000000', '2020-06-01T00:00:00.000000000',\n",
       "       '2020-06-08T00:00:00.000000000', '2020-06-15T00:00:00.000000000',\n",
       "       '2020-06-22T00:00:00.000000000', '2020-06-29T00:00:00.000000000',\n",
       "       '2020-07-06T00:00:00.000000000', '2020-07-13T00:00:00.000000000',\n",
       "       '2020-07-20T00:00:00.000000000', '2020-07-27T00:00:00.000000000',\n",
       "       '2020-08-03T00:00:00.000000000', '2020-08-10T00:00:00.000000000',\n",
       "       '2020-08-17T00:00:00.000000000', '2020-08-24T00:00:00.000000000',\n",
       "       '2020-08-31T00:00:00.000000000', '2020-09-07T00:00:00.000000000',\n",
       "       '2020-09-14T00:00:00.000000000', '2020-09-21T00:00:00.000000000',\n",
       "       '2020-09-28T00:00:00.000000000', '2020-10-05T00:00:00.000000000',\n",
       "       '2020-10-12T00:00:00.000000000', '2020-10-19T00:00:00.000000000',\n",
       "       '2020-10-26T00:00:00.000000000', '2020-11-02T00:00:00.000000000',\n",
       "       '2020-11-09T00:00:00.000000000', '2020-11-16T00:00:00.000000000',\n",
       "       '2020-11-23T00:00:00.000000000', '2020-11-30T00:00:00.000000000',\n",
       "       '2020-12-07T00:00:00.000000000', '2020-12-14T00:00:00.000000000',\n",
       "       '2020-12-21T00:00:00.000000000', '2020-12-28T00:00:00.000000000',\n",
       "       '2021-01-04T00:00:00.000000000', '2021-01-11T00:00:00.000000000',\n",
       "       '2021-01-18T00:00:00.000000000', '2021-01-25T00:00:00.000000000',\n",
       "       '2021-02-01T00:00:00.000000000', '2021-02-08T00:00:00.000000000',\n",
       "       '2021-02-15T00:00:00.000000000', '2021-02-22T00:00:00.000000000',\n",
       "       '2021-03-01T00:00:00.000000000', '2021-03-08T00:00:00.000000000',\n",
       "       '2021-03-15T00:00:00.000000000', '2021-03-22T00:00:00.000000000',\n",
       "       '2021-03-29T00:00:00.000000000', '2021-04-05T00:00:00.000000000',\n",
       "       '2021-04-12T00:00:00.000000000', '2021-04-19T00:00:00.000000000',\n",
       "       '2021-04-26T00:00:00.000000000', '2021-05-03T00:00:00.000000000',\n",
       "       '2021-05-10T00:00:00.000000000', '2021-05-17T00:00:00.000000000',\n",
       "       '2021-05-24T00:00:00.000000000', '2021-05-31T00:00:00.000000000',\n",
       "       '2021-06-07T00:00:00.000000000', '2021-06-14T00:00:00.000000000',\n",
       "       '2021-06-21T00:00:00.000000000', '2021-06-28T00:00:00.000000000',\n",
       "       '2021-07-05T00:00:00.000000000', '2021-07-12T00:00:00.000000000',\n",
       "       '2021-07-19T00:00:00.000000000', '2021-07-26T00:00:00.000000000',\n",
       "       '2021-08-02T00:00:00.000000000', '2021-08-09T00:00:00.000000000',\n",
       "       '2021-08-16T00:00:00.000000000', '2021-08-23T00:00:00.000000000',\n",
       "       '2021-08-30T00:00:00.000000000', '2021-09-06T00:00:00.000000000',\n",
       "       '2021-09-13T00:00:00.000000000', '2021-09-20T00:00:00.000000000',\n",
       "       '2021-09-27T00:00:00.000000000', '2021-10-04T00:00:00.000000000',\n",
       "       '2021-10-11T00:00:00.000000000', '2021-10-18T00:00:00.000000000',\n",
       "       '2021-10-25T00:00:00.000000000', '2021-11-01T00:00:00.000000000',\n",
       "       '2021-11-08T00:00:00.000000000', '2021-11-15T00:00:00.000000000',\n",
       "       '2021-11-22T00:00:00.000000000', '2021-11-29T00:00:00.000000000',\n",
       "       '2021-12-06T00:00:00.000000000', '2021-12-13T00:00:00.000000000',\n",
       "       '2021-12-20T00:00:00.000000000', '2021-12-27T00:00:00.000000000',\n",
       "       '2022-01-03T00:00:00.000000000', '2022-01-10T00:00:00.000000000',\n",
       "       '2022-01-17T00:00:00.000000000', '2022-01-24T00:00:00.000000000',\n",
       "       '2022-01-31T00:00:00.000000000', '2022-02-07T00:00:00.000000000',\n",
       "       '2022-02-14T00:00:00.000000000', '2022-02-21T00:00:00.000000000',\n",
       "       '2022-02-28T00:00:00.000000000', '2022-03-07T00:00:00.000000000',\n",
       "       '2022-03-14T00:00:00.000000000', '2022-03-21T00:00:00.000000000',\n",
       "       '2022-03-28T00:00:00.000000000', '2022-04-04T00:00:00.000000000',\n",
       "       '2022-04-11T00:00:00.000000000', '2022-04-18T00:00:00.000000000',\n",
       "       '2022-04-25T00:00:00.000000000', '2022-05-02T00:00:00.000000000',\n",
       "       '2022-05-09T00:00:00.000000000', '2022-05-16T00:00:00.000000000',\n",
       "       '2022-05-23T00:00:00.000000000', '2022-05-30T00:00:00.000000000',\n",
       "       '2022-06-06T00:00:00.000000000', '2022-06-13T00:00:00.000000000',\n",
       "       '2022-06-20T00:00:00.000000000', '2022-06-27T00:00:00.000000000',\n",
       "       '2022-07-03T00:00:00.000000000', '2022-07-10T00:00:00.000000000',\n",
       "       '2022-07-17T00:00:00.000000000', '2022-07-24T00:00:00.000000000',\n",
       "       '2022-07-31T00:00:00.000000000', '2022-08-07T00:00:00.000000000',\n",
       "       '2022-08-14T00:00:00.000000000', '2022-08-21T00:00:00.000000000',\n",
       "       '2022-08-28T00:00:00.000000000', '2022-09-04T00:00:00.000000000',\n",
       "       '2022-09-11T00:00:00.000000000', '2022-09-18T00:00:00.000000000',\n",
       "       '2022-09-25T00:00:00.000000000', '2022-10-02T00:00:00.000000000',\n",
       "       '2022-10-09T00:00:00.000000000', '2022-10-16T00:00:00.000000000',\n",
       "       '2022-10-23T00:00:00.000000000', '2022-10-30T00:00:00.000000000',\n",
       "       '2022-11-06T00:00:00.000000000', '2022-11-13T00:00:00.000000000',\n",
       "       '2022-11-20T00:00:00.000000000', '2022-11-27T00:00:00.000000000',\n",
       "       '2022-12-04T00:00:00.000000000', '2022-12-11T00:00:00.000000000',\n",
       "       '2022-12-18T00:00:00.000000000', '2022-12-25T00:00:00.000000000',\n",
       "       '2023-01-01T00:00:00.000000000', '2023-01-08T00:00:00.000000000',\n",
       "       '2023-01-15T00:00:00.000000000', '2023-01-22T00:00:00.000000000',\n",
       "       '2023-01-29T00:00:00.000000000', '2023-02-05T00:00:00.000000000',\n",
       "       '2023-02-12T00:00:00.000000000', '2023-02-19T00:00:00.000000000',\n",
       "       '2023-02-26T00:00:00.000000000', '2023-03-05T00:00:00.000000000',\n",
       "       '2023-03-12T00:00:00.000000000', '2023-03-19T00:00:00.000000000',\n",
       "       '2023-03-26T00:00:00.000000000', '2023-04-02T00:00:00.000000000',\n",
       "       '2023-04-09T00:00:00.000000000', '2023-04-16T00:00:00.000000000',\n",
       "       '2023-04-23T00:00:00.000000000', '2023-04-30T00:00:00.000000000',\n",
       "       '2023-05-07T00:00:00.000000000', '2023-05-14T00:00:00.000000000',\n",
       "       '2023-05-21T00:00:00.000000000', '2023-05-28T00:00:00.000000000',\n",
       "       '2023-06-04T00:00:00.000000000', '2023-06-11T00:00:00.000000000',\n",
       "       '2023-06-18T00:00:00.000000000', '2023-06-25T00:00:00.000000000',\n",
       "       '2023-07-02T00:00:00.000000000', '2023-07-09T00:00:00.000000000',\n",
       "       '2023-07-16T00:00:00.000000000', '2023-07-23T00:00:00.000000000'],\n",
       "      dtype='datetime64[ns]')"
      ]
     },
     "execution_count": 37,
     "metadata": {},
     "output_type": "execute_result"
    }
   ],
   "source": [
    "# df.index+\n",
    "future_dates=pd.date_range(df.index[-1], periods=56, freq='W')\n",
    "datetime_index=df.index.append(future_dates)\n",
    "datetime_index.values"
   ]
  },
  {
   "cell_type": "code",
   "execution_count": 45,
   "id": "8dff4952-83b3-40af-afff-2252c09d5cb1",
   "metadata": {},
   "outputs": [
    {
     "data": {
      "text/plain": [
       "(array([18078., 18262., 18444., 18628., 18809., 18993., 19174., 19358.,\n",
       "        19539.]),\n",
       " [Text(0, 0, ''),\n",
       "  Text(0, 0, ''),\n",
       "  Text(0, 0, ''),\n",
       "  Text(0, 0, ''),\n",
       "  Text(0, 0, ''),\n",
       "  Text(0, 0, ''),\n",
       "  Text(0, 0, ''),\n",
       "  Text(0, 0, ''),\n",
       "  Text(0, 0, '')])"
      ]
     },
     "execution_count": 45,
     "metadata": {},
     "output_type": "execute_result"
    },
    {
     "data": {
      "image/png": "[encoded data removed]",
      "text/plain": [
       "<Figure size 432x288 with 1 Axes>"
      ]
     },
     "metadata": {
      "needs_background": "light"
     },
     "output_type": "display_data"
    }
   ],
   "source": [
    "plt.plot(datetime_index.values, np.concatenate((df['close'].values, np.array(future_predictions).ravel())))\n",
    "plt.xticks(rotation=90)"
   ]
  },
  {
   "cell_type": "code",
   "execution_count": null,
   "id": "d554d030-a588-43fd-a659-b2c978ff290d",
   "metadata": {},
   "outputs": [],
   "source": [
    "# Imports 3 years of BTC daily data from yahoo finance\n",
    "Dodge_df = get_data(\"DOGE-USD\", start_date=\"6/30/2019\", end_date=\"06/30/2022\", index_as_date = True, interval=\"1d\")\n",
    "df = Dodge_df.iloc[:,0:-1]\n",
    "df.head()"
   ]
  },
  {
   "cell_type": "code",
   "execution_count": null,
   "id": "bfece259-bdb1-4955-9cf6-aeeb30f7ab2a",
   "metadata": {},
   "outputs": [],
   "source": [
    "# Defines function to split X and y data\n",
    "def window_data(df, window, feature_col_number, target_col_number):\n",
    "    # Creates empty X and y list\n",
    "    X = []\n",
    "    y = []\n",
    "    # loops through btc data\n",
    "    for i in range(len(df) - window - 1):\n",
    "        # splits the features by grouping window amount of previous close data\n",
    "        features = df.iloc[i:(i + window), feature_col_number]\n",
    "        # splits target by taking current close values\n",
    "        target = df.iloc[(i + window), target_col_number]\n",
    "        # Adds end of each loops data to respective X and y list\n",
    "        X.append(features)\n",
    "        y.append(target)\n",
    "    # returns X,y as arrays\n",
    "    return np.array(X), np.array(y).reshape(-1, 1)"
   ]
  },
  {
   "cell_type": "code",
   "execution_count": null,
   "id": "e196cd8c-edc3-4351-9aa5-afb0b10f7034",
   "metadata": {},
   "outputs": [],
   "source": [
    "# Defines window size\n",
    "window_size=10"
   ]
  },
  {
   "cell_type": "code",
   "execution_count": null,
   "id": "5c45e7d1-314b-4a5b-9b3a-9e84837fec38",
   "metadata": {},
   "outputs": [],
   "source": [
    "# Runs function to split X and y data\n",
    "X, y=window_data(df, window_size, 3, 3)\n",
    "# Displays X and y\n",
    "display(X)\n",
    "display(y)"
   ]
  },
  {
   "cell_type": "code",
   "execution_count": null,
   "id": "fee366d2-88af-43e9-9334-f39092c25ab9",
   "metadata": {},
   "outputs": [],
   "source": [
    "# Scales X and y data using MinMaxScaler\n",
    "X_scaler=MinMaxScaler()\n",
    "X_scaler.fit(X)\n",
    "X_scaled=X_scaler.transform(X)\n",
    "y_scaler=MinMaxScaler()\n",
    "y_scaler.fit(y)\n",
    "y_scaled=y_scaler.transform(y)"
   ]
  },
  {
   "cell_type": "code",
   "execution_count": null,
   "id": "c0c46106-0f22-49a9-ac98-520d3e7d7d8c",
   "metadata": {},
   "outputs": [],
   "source": [
    "# Defines where train and test data will be split (70% is train)\n",
    "split=int(0.7*len(X_scaled))\n",
    "# Splits train and test data\n",
    "X_train=X_scaled[:split]\n",
    "X_test=X_scaled[split:]\n",
    "y_train=y_scaled[:split]\n",
    "y_test=y_scaled[split:]"
   ]
  },
  {
   "cell_type": "code",
   "execution_count": null,
   "id": "4ee92b66-24eb-436b-85d5-d1c49c4aba51",
   "metadata": {},
   "outputs": [],
   "source": [
    "# Reshapes data into size LSTM can handle\n",
    "X_train=X_train.reshape(X_train.shape[0], X_train.shape[1], 1)\n",
    "X_test=X_test.reshape(X_test.shape[0], X_test.shape[1], 1)\n",
    "display(X_train.shape)\n",
    "display(X_test.shape)"
   ]
  },
  {
   "cell_type": "code",
   "execution_count": null,
   "id": "6691725e-38d7-4571-b5a8-d3b8f71a2451",
   "metadata": {},
   "outputs": [],
   "source": [
    "# Creates neural network\n",
    "model_doge=Sequential()\n",
    "# Defines and adds LSTM layer\n",
    "first_lstm_layer=LSTM(units=30, return_sequences=True, input_shape=(window_size, 1))\n",
    "model_doge.add(first_lstm_layer)\n",
    "# Randomly drops 20% of defined nodes\n",
    "first_dropout_layer=Dropout(0.2)\n",
    "# Defines and adds LSTM layer\n",
    "model_doge.add(first_dropout_layer)\n",
    "second_lstm_layer=LSTM(units=30, return_sequences=True)\n",
    "model_doge.add(second_lstm_layer)\n",
    "# Randomly drops 20% of defined nodes\n",
    "second_dropout_layer=Dropout(0.2)\n",
    "# Defines and adds LSTM layer\n",
    "model_doge.add(second_dropout_layer)\n",
    "third_lstm_layer=LSTM(units=30)\n",
    "model_doge.add(third_lstm_layer)\n",
    "# Defines and adds output layer with linear activation\n",
    "output_layer=Dense(units=1, activation='linear')\n",
    "model_doge.add(output_layer)"
   ]
  },
  {
   "cell_type": "code",
   "execution_count": null,
   "id": "a04f1394-2ad8-4d8e-9880-5810d95eb223",
   "metadata": {},
   "outputs": [],
   "source": [
    "# Compiles model\n",
    "model_doge.compile(loss='mean_squared_error', optimizer='adam', metrics='mean_squared_error')"
   ]
  },
  {
   "cell_type": "code",
   "execution_count": null,
   "id": "dfaa0e34-0d3e-4b3c-833d-02afbfcaa6b9",
   "metadata": {},
   "outputs": [],
   "source": [
    "# Provides summary of model\n",
    "model_doge.summary()"
   ]
  },
  {
   "cell_type": "code",
   "execution_count": null,
   "id": "886fc48a-7b75-445b-9f5f-89996efd2fcd",
   "metadata": {},
   "outputs": [],
   "source": [
    "# Initially fits model using training data\n",
    "model_doge.fit(X_train, y_train, epochs=50)"
   ]
  },
  {
   "cell_type": "code",
   "execution_count": null,
   "id": "5ae2ec18-ba03-4714-903f-7239da8ad772",
   "metadata": {},
   "outputs": [],
   "source": [
    "# Projects future data by using model to predict next close and then uses that value to retrain \n",
    "# the model before making next prediction\n",
    "for i in range(326): \n",
    "    # predicts next close value and reshapes it\n",
    "    prediction_scaled=model.predict(X_train[-1].reshape(1, window_size, 1))\n",
    "    # transforms prediction back to original scale\n",
    "    next_prediction=y_scaler.inverse_transform(prediction_scaled)\n",
    "    # displays predicted close value\n",
    "    display(next_prediction)\n",
    "    # adds predicted close value to list\n",
    "    new_train_sample=np.append(X_train[-1], prediction_scaled)[1:].reshape(1, window_size, 1)\n",
    "    # adds new list entry of predicted close to X train\n",
    "    X_train=np.append(X_train, new_train_sample, axis=0)\n",
    "    # adds new list entry of predicted close to y train\n",
    "    y_train=np.append(y_train, prediction_scaled, axis=0)\n",
    "    # refits model with new close value\n",
    "    model_doge.fit(X_train, y_train, epochs=5)"
   ]
  },
  {
   "cell_type": "code",
   "execution_count": null,
   "id": "351ca7cf-2123-4d63-a398-b0e156b3adfb",
   "metadata": {},
   "outputs": [],
   "source": [
    "# predicts next close values\n",
    "prediction = model_doge.predict(X_test)\n",
    "# rescales predicted values to original scale\n",
    "y_predicted=y_scaler.inverse_transform(prediction)"
   ]
  },
  {
   "cell_type": "code",
   "execution_count": null,
   "id": "e989d3ee-3020-41c7-b6e5-4d98dc5bd543",
   "metadata": {},
   "outputs": [],
   "source": [
    "comparison_df = pd.DataFrame({'predictions':y_predicted.ravel(),'actual':df.iloc[771:]['close']})\n",
    "comparison_df\n",
    "#display(y_predicted)\n",
    "#display(df.iloc[760:]['close'])"
   ]
  },
  {
   "cell_type": "code",
   "execution_count": null,
   "id": "60668bfc-23a9-452d-9597-bc1d18958c65",
   "metadata": {},
   "outputs": [],
   "source": [
    "# Plots the predicted test values\n",
    "plt.plot(y_predicted)\n",
    "# Plots the true historic close values"
   ]
  },
  {
   "cell_type": "code",
   "execution_count": null,
   "id": "9abdc98e-9d5c-4783-9fbc-7aa40bd0358d",
   "metadata": {},
   "outputs": [],
   "source": [
    "# Plots the true historic close values\n",
    "plt.plot(df.iloc[760:]['close'])"
   ]
  },
  {
   "cell_type": "code",
   "execution_count": null,
   "id": "157f9aee-9345-46eb-9657-71f81553a218",
   "metadata": {},
   "outputs": [],
   "source": [
    "y[-326]"
   ]
  },
  {
   "cell_type": "code",
   "execution_count": 4,
   "id": "9b49945c-42b1-468e-a2e7-acf19599ee9e",
   "metadata": {},
   "outputs": [
    {
     "ename": "NameError",
     "evalue": "name 't' is not defined",
     "output_type": "error",
     "traceback": [
      "\u001b[0;31m---------------------------------------------------------------------------\u001b[0m",
      "\u001b[0;31mNameError\u001b[0m                                 Traceback (most recent call last)",
      "\u001b[0;32m/var/folders/tz/583kdch147x6n91kv4g_xrs80000gn/T/ipykernel_6931/2587350732.py\u001b[0m in \u001b[0;36m<module>\u001b[0;34m\u001b[0m\n\u001b[1;32m      1\u001b[0m \u001b[0;31m#Bitcoin weekly\u001b[0m\u001b[0;34m\u001b[0m\u001b[0;34m\u001b[0m\u001b[0;34m\u001b[0m\u001b[0m\n\u001b[1;32m      2\u001b[0m \u001b[0mBTC_df_week\u001b[0m \u001b[0;34m=\u001b[0m \u001b[0mget_data\u001b[0m\u001b[0;34m(\u001b[0m\u001b[0;34m\"BTC-USD\"\u001b[0m\u001b[0;34m,\u001b[0m \u001b[0mstart_date\u001b[0m\u001b[0;34m=\u001b[0m\u001b[0;34m\"6/30/2019\"\u001b[0m\u001b[0;34m,\u001b[0m \u001b[0mend_date\u001b[0m\u001b[0;34m=\u001b[0m\u001b[0;34m\"06/30/2022\"\u001b[0m\u001b[0;34m,\u001b[0m \u001b[0mindex_as_date\u001b[0m \u001b[0;34m=\u001b[0m \u001b[0;32mTrue\u001b[0m\u001b[0;34m,\u001b[0m \u001b[0minterval\u001b[0m\u001b[0;34m=\u001b[0m\u001b[0;34m\"1d\"\u001b[0m\u001b[0;34m)\u001b[0m\u001b[0;34m\u001b[0m\u001b[0;34m\u001b[0m\u001b[0m\n\u001b[0;32m----> 3\u001b[0;31m \u001b[0mpandas_datareader\u001b[0m\u001b[0;34m.\u001b[0m\u001b[0myahoo\u001b[0m\u001b[0;34m.\u001b[0m\u001b[0mdaily\u001b[0m\u001b[0;34m.\u001b[0m\u001b[0mYahooDailyReader\u001b[0m\u001b[0;34m(\u001b[0m\u001b[0mt\u001b[0m\u001b[0;34m,\u001b[0m \u001b[0minterval\u001b[0m\u001b[0;34m=\u001b[0m\u001b[0;34m'w'\u001b[0m \u001b[0;34m,\u001b[0m \u001b[0mstart\u001b[0m\u001b[0;34m=\u001b[0m\u001b[0;34m'2015-1-1'\u001b[0m\u001b[0;34m)\u001b[0m\u001b[0;34m.\u001b[0m\u001b[0mread\u001b[0m\u001b[0;34m(\u001b[0m\u001b[0;34m)\u001b[0m\u001b[0;34m[\u001b[0m\u001b[0;34m'Adj Close'\u001b[0m\u001b[0;34m]\u001b[0m\u001b[0;34m\u001b[0m\u001b[0;34m\u001b[0m\u001b[0m\n\u001b[0m\u001b[1;32m      4\u001b[0m \u001b[0mdf\u001b[0m\u001b[0;34m.\u001b[0m\u001b[0mhead\u001b[0m\u001b[0;34m(\u001b[0m\u001b[0;34m)\u001b[0m\u001b[0;34m\u001b[0m\u001b[0;34m\u001b[0m\u001b[0m\n",
      "\u001b[0;31mNameError\u001b[0m: name 't' is not defined"
     ]
    }
   ],
   "source": [
    "#Bitcoin weekly\n",
    "BTC_df_week = get_data(\"BTC-USD\", start_date=\"6/30/2019\", end_date=\"06/30/2022\", index_as_date = True, interval=\"1d\")\n",
    "pandas_datareader.yahoo.daily.YahooDailyReader(t, interval='w' , start='2015-1-1').read()['Adj Close']\n",
    "df.head()"
   ]
  },
  {
   "cell_type": "code",
   "execution_count": null,
   "id": "03d4f896-4ba5-4a8f-9115-6a712101dd47",
   "metadata": {},
   "outputs": [],
   "source": [
    "df.plot()"
   ]
  },
  {
   "cell_type": "code",
   "execution_count": null,
   "id": "8ca965f2-6bf5-40db-b63d-419000b913a4",
   "metadata": {},
   "outputs": [],
   "source": []
  }
 ],
 "metadata": {
  "kernelspec": {
   "display_name": "Python 3 (ipykernel)",
   "language": "python",
   "name": "python3"
  },
  "language_info": {
   "codemirror_mode": {
    "name": "ipython",
    "version": 3
   },
   "file_extension": ".py",
   "mimetype": "text/x-python",
   "name": "python",
   "nbconvert_exporter": "python",
   "pygments_lexer": "ipython3",
   "version": "3.7.11"
  }
 },
 "nbformat": 4,
 "nbformat_minor": 5
}
