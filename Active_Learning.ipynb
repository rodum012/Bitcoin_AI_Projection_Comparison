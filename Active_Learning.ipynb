{
 "cells": [
  {
   "cell_type": "code",
   "execution_count": 2,
   "id": "c4b3d2eb-bcd0-4574-beee-4647cb2848fa",
   "metadata": {},
   "outputs": [],
   "source": [
    "import tensorflow as tf\n",
    "import yfinance as yf\n",
    "from yahoo_fin.stock_info import get_data\n",
    "import pandas as pd\n",
    "import numpy as np\n",
    "from sklearn.preprocessing import MinMaxScaler\n",
    "from tensorflow.keras.models import Sequential\n",
    "from tensorflow.keras.layers import LSTM, Dense, Dropout\n",
    "import matplotlib.pyplot as plt"
   ]
  },
  {
   "cell_type": "code",
   "execution_count": 7,
   "id": "4e9f7e45-182c-412b-8803-f3b6f87098bf",
   "metadata": {},
   "outputs": [
    {
     "data": {
      "text/html": [
       "<div>\n",
       "<style scoped>\n",
       "    .dataframe tbody tr th:only-of-type {\n",
       "        vertical-align: middle;\n",
       "    }\n",
       "\n",
       "    .dataframe tbody tr th {\n",
       "        vertical-align: top;\n",
       "    }\n",
       "\n",
       "    .dataframe thead th {\n",
       "        text-align: right;\n",
       "    }\n",
       "</style>\n",
       "<table border=\"1\" class=\"dataframe\">\n",
       "  <thead>\n",
       "    <tr style=\"text-align: right;\">\n",
       "      <th></th>\n",
       "      <th>open</th>\n",
       "      <th>high</th>\n",
       "      <th>low</th>\n",
       "      <th>close</th>\n",
       "      <th>adjclose</th>\n",
       "      <th>volume</th>\n",
       "    </tr>\n",
       "  </thead>\n",
       "  <tbody>\n",
       "    <tr>\n",
       "      <th>2019-06-30</th>\n",
       "      <td>11931.991211</td>\n",
       "      <td>12178.383789</td>\n",
       "      <td>10799.008789</td>\n",
       "      <td>10817.155273</td>\n",
       "      <td>10817.155273</td>\n",
       "      <td>27256473494</td>\n",
       "    </tr>\n",
       "    <tr>\n",
       "      <th>2019-07-01</th>\n",
       "      <td>10796.930664</td>\n",
       "      <td>11206.439453</td>\n",
       "      <td>10089.314453</td>\n",
       "      <td>10583.134766</td>\n",
       "      <td>10583.134766</td>\n",
       "      <td>29378589324</td>\n",
       "    </tr>\n",
       "    <tr>\n",
       "      <th>2019-07-02</th>\n",
       "      <td>10588.683594</td>\n",
       "      <td>10912.188477</td>\n",
       "      <td>9737.884766</td>\n",
       "      <td>10801.677734</td>\n",
       "      <td>10801.677734</td>\n",
       "      <td>31015895223</td>\n",
       "    </tr>\n",
       "    <tr>\n",
       "      <th>2019-07-03</th>\n",
       "      <td>10818.156250</td>\n",
       "      <td>11968.078125</td>\n",
       "      <td>10818.156250</td>\n",
       "      <td>11961.269531</td>\n",
       "      <td>11961.269531</td>\n",
       "      <td>30796494294</td>\n",
       "    </tr>\n",
       "    <tr>\n",
       "      <th>2019-07-04</th>\n",
       "      <td>11972.718750</td>\n",
       "      <td>12006.075195</td>\n",
       "      <td>11166.569336</td>\n",
       "      <td>11215.437500</td>\n",
       "      <td>11215.437500</td>\n",
       "      <td>25920294033</td>\n",
       "    </tr>\n",
       "  </tbody>\n",
       "</table>\n",
       "</div>"
      ],
      "text/plain": [
       "                    open          high           low         close  \\\n",
       "2019-06-30  11931.991211  12178.383789  10799.008789  10817.155273   \n",
       "2019-07-01  10796.930664  11206.439453  10089.314453  10583.134766   \n",
       "2019-07-02  10588.683594  10912.188477   9737.884766  10801.677734   \n",
       "2019-07-03  10818.156250  11968.078125  10818.156250  11961.269531   \n",
       "2019-07-04  11972.718750  12006.075195  11166.569336  11215.437500   \n",
       "\n",
       "                adjclose       volume  \n",
       "2019-06-30  10817.155273  27256473494  \n",
       "2019-07-01  10583.134766  29378589324  \n",
       "2019-07-02  10801.677734  31015895223  \n",
       "2019-07-03  11961.269531  30796494294  \n",
       "2019-07-04  11215.437500  25920294033  "
      ]
     },
     "execution_count": 7,
     "metadata": {},
     "output_type": "execute_result"
    }
   ],
   "source": [
    "# Imports 3 years of BTC daily data from yahoo finance\n",
    "BTC_df = get_data(\"BTC-USD\", start_date=\"6/30/2019\", end_date=\"06/30/2022\", index_as_date = True, interval=\"1d\")\n",
    "df = BTC_df.iloc[:,0:-1]\n",
    "df.head()"
   ]
  },
  {
   "cell_type": "code",
   "execution_count": 8,
   "id": "07ceeffd-2657-46f9-91cc-8c5419864a54",
   "metadata": {},
   "outputs": [],
   "source": [
    "# Defines function to split X and y data\n",
    "def window_data(df, window, feature_col_number, target_col_number):\n",
    "    # Creates empty X and y list\n",
    "    X = []\n",
    "    y = []\n",
    "    # loops through btc data\n",
    "    for i in range(len(df) - window - 1):\n",
    "        # splits the features by grouping window amount of previous close data\n",
    "        features = df.iloc[i:(i + window), feature_col_number]\n",
    "        # splits target by taking current close values\n",
    "        target = df.iloc[(i + window), target_col_number]\n",
    "        # Adds end of each loops data to respective X and y list\n",
    "        X.append(features)\n",
    "        y.append(target)\n",
    "    # returns X,y as arrays\n",
    "    return np.array(X), np.array(y).reshape(-1, 1)"
   ]
  },
  {
   "cell_type": "code",
   "execution_count": 9,
   "id": "c0290e24-f967-4add-88bd-8cd22f7818db",
   "metadata": {},
   "outputs": [],
   "source": [
    "# Defines window size\n",
    "window_size=10"
   ]
  },
  {
   "cell_type": "code",
   "execution_count": 10,
   "id": "d614c3fa-5866-4b3c-ad81-468410a279d2",
   "metadata": {},
   "outputs": [
    {
     "data": {
      "text/plain": [
       "array([[10817.15527344, 10583.13476562, 10801.67773438, ...,\n",
       "        11450.84667969, 12285.95800781, 12573.8125    ],\n",
       "       [10583.13476562, 10801.67773438, 11961.26953125, ...,\n",
       "        12285.95800781, 12573.8125    , 12156.51269531],\n",
       "       [10801.67773438, 11961.26953125, 11215.4375    , ...,\n",
       "        12573.8125    , 12156.51269531, 11358.66210938],\n",
       "       ...,\n",
       "       [20471.48242188, 19017.64257812, 20553.27148438, ...,\n",
       "        21231.65625   , 21502.33789062, 21027.29492188],\n",
       "       [19017.64257812, 20553.27148438, 20599.53710938, ...,\n",
       "        21502.33789062, 21027.29492188, 20735.47851562],\n",
       "       [20553.27148438, 20599.53710938, 20710.59765625, ...,\n",
       "        21027.29492188, 20735.47851562, 20280.63476562]])"
      ]
     },
     "metadata": {},
     "output_type": "display_data"
    },
    {
     "data": {
      "text/plain": [
       "array([[12156.51269531],\n",
       "       [11358.66210938],\n",
       "       [11815.98632812],\n",
       "       ...,\n",
       "       [20735.47851562],\n",
       "       [20280.63476562],\n",
       "       [20104.0234375 ]])"
      ]
     },
     "metadata": {},
     "output_type": "display_data"
    }
   ],
   "source": [
    "# Runs function to split X and y data\n",
    "X, y=window_data(df, window_size, 3, 3)\n",
    "# Displays X and y\n",
    "display(X)\n",
    "display(y)"
   ]
  },
  {
   "cell_type": "code",
   "execution_count": 11,
   "id": "f4fa42a0-81f8-4e02-9e12-20cbefe20492",
   "metadata": {},
   "outputs": [],
   "source": [
    "# Scales X and y data using MinMaxScaler\n",
    "X_scaler=MinMaxScaler()\n",
    "X_scaler.fit(X)\n",
    "X_scaled=X_scaler.transform(X)\n",
    "y_scaler=MinMaxScaler()\n",
    "y_scaler.fit(y)\n",
    "y_scaled=y_scaler.transform(y)"
   ]
  },
  {
   "cell_type": "code",
   "execution_count": 7,
   "id": "fcbce4bc-34ad-4ead-b40c-f42d24132a68",
   "metadata": {},
   "outputs": [],
   "source": [
    "# Defines where train and test data will be split (70% is train)\n",
    "split=int(0.7*len(X_scaled))\n",
    "# Splits train and test data\n",
    "X_train=X_scaled[:split]\n",
    "X_test=X_scaled[split:]\n",
    "y_train=y_scaled[:split]\n",
    "y_test=y_scaled[split:]"
   ]
  },
  {
   "cell_type": "code",
   "execution_count": 8,
   "id": "60e9fc2d-1010-45e9-9acf-dbb6c338bc1f",
   "metadata": {},
   "outputs": [],
   "source": [
    "#X_scaled=X_scaled.reshape(X_scaled.shape[0], X_scaled.shape[1], 1)\n",
    "#display(X.shape)"
   ]
  },
  {
   "cell_type": "code",
   "execution_count": 9,
   "id": "cc78138d-c9b8-4260-8e68-b36579263bee",
   "metadata": {},
   "outputs": [
    {
     "data": {
      "text/plain": [
       "(760, 10, 1)"
      ]
     },
     "metadata": {},
     "output_type": "display_data"
    },
    {
     "data": {
      "text/plain": [
       "(326, 10, 1)"
      ]
     },
     "metadata": {},
     "output_type": "display_data"
    }
   ],
   "source": [
    "# Reshapes data into size LSTM can handle\n",
    "X_train=X_train.reshape(X_train.shape[0], X_train.shape[1], 1)\n",
    "X_test=X_test.reshape(X_test.shape[0], X_test.shape[1], 1)\n",
    "display(X_train.shape)\n",
    "display(X_test.shape)"
   ]
  },
  {
   "cell_type": "code",
   "execution_count": 10,
   "id": "703a9741-a03d-4697-8530-b9a458f9e021",
   "metadata": {},
   "outputs": [
    {
     "name": "stderr",
     "output_type": "stream",
     "text": [
      "2022-07-12 16:05:31.531816: I tensorflow/core/platform/cpu_feature_guard.cc:193] This TensorFlow binary is optimized with oneAPI Deep Neural Network Library (oneDNN) to use the following CPU instructions in performance-critical operations:  AVX2 FMA\n",
      "To enable them in other operations, rebuild TensorFlow with the appropriate compiler flags.\n"
     ]
    }
   ],
   "source": [
    "# Creates neural network\n",
    "model_btc=Sequential()\n",
    "# Defines and adds LSTM layer\n",
    "first_lstm_layer=LSTM(units=30, return_sequences=True, input_shape=(window_size, 1))\n",
    "model_btc.add(first_lstm_layer)\n",
    "# Randomly drops 20% of defined nodes\n",
    "first_dropout_layer=Dropout(0.2)\n",
    "# Defines and adds LSTM layer\n",
    "model_btc.add(first_dropout_layer)\n",
    "second_lstm_layer=LSTM(units=30, return_sequences=True)\n",
    "model_btc.add(second_lstm_layer)\n",
    "# Randomly drops 20% of defined nodes\n",
    "second_dropout_layer=Dropout(0.2)\n",
    "# Defines and adds LSTM layer\n",
    "model_btc.add(second_dropout_layer)\n",
    "third_lstm_layer=LSTM(units=30)\n",
    "model_btc.add(third_lstm_layer)\n",
    "# Defines and adds output layer with linear activation\n",
    "output_layer=Dense(units=1, activation='linear')\n",
    "model_btc.add(output_layer)"
   ]
  },
  {
   "cell_type": "code",
   "execution_count": 11,
   "id": "8dbea1ae-7ae0-477b-9671-20d6a636c869",
   "metadata": {},
   "outputs": [],
   "source": [
    "# Compiles model\n",
    "model_btc.compile(loss='mean_squared_error', optimizer='adam', metrics='mean_squared_error')"
   ]
  },
  {
   "cell_type": "code",
   "execution_count": 12,
   "id": "c6b63a61-2ebf-4b39-9e4f-262db1d471ec",
   "metadata": {},
   "outputs": [
    {
     "name": "stdout",
     "output_type": "stream",
     "text": [
      "Model: \"sequential\"\n",
      "_________________________________________________________________\n",
      " Layer (type)                Output Shape              Param #   \n",
      "=================================================================\n",
      " lstm (LSTM)                 (None, 10, 30)            3840      \n",
      "                                                                 \n",
      " dropout (Dropout)           (None, 10, 30)            0         \n",
      "                                                                 \n",
      " lstm_1 (LSTM)               (None, 10, 30)            7320      \n",
      "                                                                 \n",
      " dropout_1 (Dropout)         (None, 10, 30)            0         \n",
      "                                                                 \n",
      " lstm_2 (LSTM)               (None, 30)                7320      \n",
      "                                                                 \n",
      " dense (Dense)               (None, 1)                 31        \n",
      "                                                                 \n",
      "=================================================================\n",
      "Total params: 18,511\n",
      "Trainable params: 18,511\n",
      "Non-trainable params: 0\n",
      "_________________________________________________________________\n"
     ]
    }
   ],
   "source": [
    "# Provides summary of model\n",
    "model_btc.summary()"
   ]
  },
  {
   "cell_type": "code",
   "execution_count": 13,
   "id": "e750cfcc-e3af-44d6-9489-21e329ab69ac",
   "metadata": {},
   "outputs": [
    {
     "name": "stdout",
     "output_type": "stream",
     "text": [
      "Epoch 1/50\n",
      "24/24 [==============================] - 8s 19ms/step - loss: 0.0479 - mean_squared_error: 0.0479\n",
      "Epoch 2/50\n",
      "24/24 [==============================] - 0s 17ms/step - loss: 0.0061 - mean_squared_error: 0.0061\n",
      "Epoch 3/50\n",
      "24/24 [==============================] - 0s 18ms/step - loss: 0.0031 - mean_squared_error: 0.0031\n",
      "Epoch 4/50\n",
      "24/24 [==============================] - 0s 17ms/step - loss: 0.0028 - mean_squared_error: 0.0028\n",
      "Epoch 5/50\n",
      "24/24 [==============================] - 0s 17ms/step - loss: 0.0027 - mean_squared_error: 0.0027\n",
      "Epoch 6/50\n",
      "24/24 [==============================] - 0s 18ms/step - loss: 0.0026 - mean_squared_error: 0.0026\n",
      "Epoch 7/50\n",
      "24/24 [==============================] - 1s 21ms/step - loss: 0.0026 - mean_squared_error: 0.0026\n",
      "Epoch 8/50\n",
      "24/24 [==============================] - 0s 18ms/step - loss: 0.0025 - mean_squared_error: 0.0025\n",
      "Epoch 9/50\n",
      "24/24 [==============================] - 1s 21ms/step - loss: 0.0025 - mean_squared_error: 0.0025\n",
      "Epoch 10/50\n",
      "24/24 [==============================] - 0s 18ms/step - loss: 0.0024 - mean_squared_error: 0.0024\n",
      "Epoch 11/50\n",
      "24/24 [==============================] - 0s 18ms/step - loss: 0.0022 - mean_squared_error: 0.0022\n",
      "Epoch 12/50\n",
      "24/24 [==============================] - 0s 18ms/step - loss: 0.0024 - mean_squared_error: 0.0024\n",
      "Epoch 13/50\n",
      "24/24 [==============================] - 1s 21ms/step - loss: 0.0025 - mean_squared_error: 0.0025\n",
      "Epoch 14/50\n",
      "24/24 [==============================] - 0s 20ms/step - loss: 0.0021 - mean_squared_error: 0.0021\n",
      "Epoch 15/50\n",
      "24/24 [==============================] - 0s 18ms/step - loss: 0.0019 - mean_squared_error: 0.0019\n",
      "Epoch 16/50\n",
      "24/24 [==============================] - 0s 18ms/step - loss: 0.0020 - mean_squared_error: 0.0020\n",
      "Epoch 17/50\n",
      "24/24 [==============================] - 0s 18ms/step - loss: 0.0020 - mean_squared_error: 0.0020\n",
      "Epoch 18/50\n",
      "24/24 [==============================] - 0s 18ms/step - loss: 0.0021 - mean_squared_error: 0.0021\n",
      "Epoch 19/50\n",
      "24/24 [==============================] - 0s 18ms/step - loss: 0.0022 - mean_squared_error: 0.0022\n",
      "Epoch 20/50\n",
      "24/24 [==============================] - 0s 19ms/step - loss: 0.0021 - mean_squared_error: 0.0021\n",
      "Epoch 21/50\n",
      "24/24 [==============================] - 1s 23ms/step - loss: 0.0019 - mean_squared_error: 0.0019\n",
      "Epoch 22/50\n",
      "24/24 [==============================] - 1s 27ms/step - loss: 0.0020 - mean_squared_error: 0.0020\n",
      "Epoch 23/50\n",
      "24/24 [==============================] - 1s 21ms/step - loss: 0.0020 - mean_squared_error: 0.0020\n",
      "Epoch 24/50\n",
      "24/24 [==============================] - 0s 18ms/step - loss: 0.0020 - mean_squared_error: 0.0020\n",
      "Epoch 25/50\n",
      "24/24 [==============================] - 0s 17ms/step - loss: 0.0019 - mean_squared_error: 0.0019\n",
      "Epoch 26/50\n",
      "24/24 [==============================] - 0s 17ms/step - loss: 0.0019 - mean_squared_error: 0.0019\n",
      "Epoch 27/50\n",
      "24/24 [==============================] - 0s 17ms/step - loss: 0.0020 - mean_squared_error: 0.0020\n",
      "Epoch 28/50\n",
      "24/24 [==============================] - 1s 23ms/step - loss: 0.0019 - mean_squared_error: 0.0019\n",
      "Epoch 29/50\n",
      "24/24 [==============================] - 1s 28ms/step - loss: 0.0020 - mean_squared_error: 0.0020\n",
      "Epoch 30/50\n",
      "24/24 [==============================] - 1s 20ms/step - loss: 0.0016 - mean_squared_error: 0.0016\n",
      "Epoch 31/50\n",
      "24/24 [==============================] - 0s 17ms/step - loss: 0.0021 - mean_squared_error: 0.0021\n",
      "Epoch 32/50\n",
      "24/24 [==============================] - 0s 18ms/step - loss: 0.0020 - mean_squared_error: 0.0020\n",
      "Epoch 33/50\n",
      "24/24 [==============================] - 1s 24ms/step - loss: 0.0018 - mean_squared_error: 0.0018\n",
      "Epoch 34/50\n",
      "24/24 [==============================] - 0s 18ms/step - loss: 0.0016 - mean_squared_error: 0.0016\n",
      "Epoch 35/50\n",
      "24/24 [==============================] - 0s 19ms/step - loss: 0.0018 - mean_squared_error: 0.0018\n",
      "Epoch 36/50\n",
      "24/24 [==============================] - 0s 18ms/step - loss: 0.0018 - mean_squared_error: 0.0018\n",
      "Epoch 37/50\n",
      "24/24 [==============================] - 1s 21ms/step - loss: 0.0017 - mean_squared_error: 0.0017\n",
      "Epoch 38/50\n",
      "24/24 [==============================] - 1s 21ms/step - loss: 0.0017 - mean_squared_error: 0.0017\n",
      "Epoch 39/50\n",
      "24/24 [==============================] - 0s 19ms/step - loss: 0.0015 - mean_squared_error: 0.0015\n",
      "Epoch 40/50\n",
      "24/24 [==============================] - 0s 19ms/step - loss: 0.0017 - mean_squared_error: 0.0017\n",
      "Epoch 41/50\n",
      "24/24 [==============================] - 1s 22ms/step - loss: 0.0015 - mean_squared_error: 0.0015\n",
      "Epoch 42/50\n",
      "24/24 [==============================] - 0s 18ms/step - loss: 0.0015 - mean_squared_error: 0.0015\n",
      "Epoch 43/50\n",
      "24/24 [==============================] - 0s 18ms/step - loss: 0.0014 - mean_squared_error: 0.0014\n",
      "Epoch 44/50\n",
      "24/24 [==============================] - 1s 21ms/step - loss: 0.0014 - mean_squared_error: 0.0014\n",
      "Epoch 45/50\n",
      "24/24 [==============================] - 0s 18ms/step - loss: 0.0015 - mean_squared_error: 0.0015\n",
      "Epoch 46/50\n",
      "24/24 [==============================] - 0s 18ms/step - loss: 0.0014 - mean_squared_error: 0.0014\n",
      "Epoch 47/50\n",
      "24/24 [==============================] - 0s 18ms/step - loss: 0.0015 - mean_squared_error: 0.0015\n",
      "Epoch 48/50\n",
      "24/24 [==============================] - 0s 18ms/step - loss: 0.0021 - mean_squared_error: 0.0021\n",
      "Epoch 49/50\n",
      "24/24 [==============================] - 0s 18ms/step - loss: 0.0017 - mean_squared_error: 0.0017\n",
      "Epoch 50/50\n",
      "24/24 [==============================] - 0s 20ms/step - loss: 0.0014 - mean_squared_error: 0.0014\n"
     ]
    },
    {
     "data": {
      "text/plain": [
       "<keras.callbacks.History at 0x1541f3e10>"
      ]
     },
     "execution_count": 13,
     "metadata": {},
     "output_type": "execute_result"
    }
   ],
   "source": [
    "# Initially fits model using training data\n",
    "model_btc.fit(X_train, y_train, epochs=50)"
   ]
  },
  {
   "cell_type": "code",
   "execution_count": 14,
   "id": "df1cbace-fc65-48f4-a350-c86254b293ba",
   "metadata": {},
   "outputs": [
    {
     "name": "stdout",
     "output_type": "stream",
     "text": [
      "1/1 [==============================] - 2s 2s/step\n"
     ]
    },
    {
     "data": {
      "text/plain": [
       "array([[40989.066]], dtype=float32)"
      ]
     },
     "metadata": {},
     "output_type": "display_data"
    },
    {
     "name": "stdout",
     "output_type": "stream",
     "text": [
      "Epoch 1/5\n",
      "24/24 [==============================] - 0s 18ms/step - loss: 0.0014 - mean_squared_error: 0.0014\n",
      "Epoch 2/5\n",
      "24/24 [==============================] - 0s 18ms/step - loss: 0.0013 - mean_squared_error: 0.0013\n",
      "Epoch 3/5\n",
      "24/24 [==============================] - 0s 19ms/step - loss: 0.0012 - mean_squared_error: 0.0012\n",
      "Epoch 4/5\n",
      "24/24 [==============================] - 0s 20ms/step - loss: 0.0013 - mean_squared_error: 0.0013\n",
      "Epoch 5/5\n",
      "24/24 [==============================] - 1s 21ms/step - loss: 0.0012 - mean_squared_error: 0.0012\n",
      "1/1 [==============================] - 0s 23ms/step\n"
     ]
    },
    {
     "data": {
      "text/plain": [
       "array([[41239.09]], dtype=float32)"
      ]
     },
     "metadata": {},
     "output_type": "display_data"
    },
    {
     "name": "stdout",
     "output_type": "stream",
     "text": [
      "Epoch 1/5\n",
      "24/24 [==============================] - 0s 18ms/step - loss: 0.0012 - mean_squared_error: 0.0012\n",
      "Epoch 2/5\n",
      "24/24 [==============================] - 0s 18ms/step - loss: 0.0013 - mean_squared_error: 0.0013\n",
      "Epoch 3/5\n",
      "24/24 [==============================] - 1s 21ms/step - loss: 0.0014 - mean_squared_error: 0.0014\n",
      "Epoch 4/5\n",
      "24/24 [==============================] - 0s 20ms/step - loss: 0.0013 - mean_squared_error: 0.0013\n",
      "Epoch 5/5\n",
      "24/24 [==============================] - 0s 19ms/step - loss: 0.0016 - mean_squared_error: 0.0016\n",
      "1/1 [==============================] - 0s 106ms/step\n"
     ]
    },
    {
     "data": {
      "text/plain": [
       "array([[39463.023]], dtype=float32)"
      ]
     },
     "metadata": {},
     "output_type": "display_data"
    },
    {
     "name": "stdout",
     "output_type": "stream",
     "text": [
      "Epoch 1/5\n",
      "24/24 [==============================] - 1s 27ms/step - loss: 0.0014 - mean_squared_error: 0.0014\n",
      "Epoch 2/5\n",
      "24/24 [==============================] - 1s 22ms/step - loss: 0.0012 - mean_squared_error: 0.0012\n",
      "Epoch 3/5\n",
      "24/24 [==============================] - 1s 21ms/step - loss: 0.0011 - mean_squared_error: 0.0011\n",
      "Epoch 4/5\n",
      "24/24 [==============================] - 0s 19ms/step - loss: 0.0014 - mean_squared_error: 0.0014\n",
      "Epoch 5/5\n",
      "24/24 [==============================] - 1s 25ms/step - loss: 0.0011 - mean_squared_error: 0.0011\n",
      "1/1 [==============================] - 0s 26ms/step\n"
     ]
    },
    {
     "data": {
      "text/plain": [
       "array([[42541.13]], dtype=float32)"
      ]
     },
     "metadata": {},
     "output_type": "display_data"
    },
    {
     "name": "stdout",
     "output_type": "stream",
     "text": [
      "Epoch 1/5\n",
      "24/24 [==============================] - 1s 23ms/step - loss: 0.0011 - mean_squared_error: 0.0011\n",
      "Epoch 2/5\n",
      "24/24 [==============================] - 1s 25ms/step - loss: 0.0011 - mean_squared_error: 0.0011\n",
      "Epoch 3/5\n",
      "24/24 [==============================] - 1s 22ms/step - loss: 0.0011 - mean_squared_error: 0.0011\n",
      "Epoch 4/5\n",
      "24/24 [==============================] - 1s 24ms/step - loss: 0.0011 - mean_squared_error: 0.0011\n",
      "Epoch 5/5\n",
      "24/24 [==============================] - 0s 18ms/step - loss: 0.0011 - mean_squared_error: 0.0011\n",
      "1/1 [==============================] - 0s 22ms/step\n"
     ]
    },
    {
     "data": {
      "text/plain": [
       "array([[41652.926]], dtype=float32)"
      ]
     },
     "metadata": {},
     "output_type": "display_data"
    },
    {
     "name": "stdout",
     "output_type": "stream",
     "text": [
      "Epoch 1/5\n",
      "24/24 [==============================] - 0s 17ms/step - loss: 0.0011 - mean_squared_error: 0.0011\n",
      "Epoch 2/5\n",
      "24/24 [==============================] - 0s 17ms/step - loss: 0.0010 - mean_squared_error: 0.0010\n",
      "Epoch 3/5\n",
      "24/24 [==============================] - 1s 22ms/step - loss: 0.0011 - mean_squared_error: 0.0011 \n",
      "Epoch 4/5\n",
      "24/24 [==============================] - 1s 21ms/step - loss: 0.0016 - mean_squared_error: 0.0016\n",
      "Epoch 5/5\n",
      "24/24 [==============================] - 1s 23ms/step - loss: 0.0011 - mean_squared_error: 0.0011\n",
      "1/1 [==============================] - 0s 31ms/step\n"
     ]
    },
    {
     "data": {
      "text/plain": [
       "array([[42223.19]], dtype=float32)"
      ]
     },
     "metadata": {},
     "output_type": "display_data"
    },
    {
     "name": "stdout",
     "output_type": "stream",
     "text": [
      "Epoch 1/5\n",
      "24/24 [==============================] - 0s 17ms/step - loss: 9.8405e-04 - mean_squared_error: 9.8405e-04\n",
      "Epoch 2/5\n",
      "24/24 [==============================] - 0s 17ms/step - loss: 0.0011 - mean_squared_error: 0.0011\n",
      "Epoch 3/5\n",
      "24/24 [==============================] - 0s 17ms/step - loss: 9.8118e-04 - mean_squared_error: 9.8118e-04\n",
      "Epoch 4/5\n",
      "24/24 [==============================] - 0s 18ms/step - loss: 9.1040e-04 - mean_squared_error: 9.1040e-04\n",
      "Epoch 5/5\n",
      "24/24 [==============================] - 0s 17ms/step - loss: 0.0010 - mean_squared_error: 0.0010\n",
      "1/1 [==============================] - 0s 23ms/step\n"
     ]
    },
    {
     "data": {
      "text/plain": [
       "array([[43482.883]], dtype=float32)"
      ]
     },
     "metadata": {},
     "output_type": "display_data"
    },
    {
     "name": "stdout",
     "output_type": "stream",
     "text": [
      "Epoch 1/5\n",
      "24/24 [==============================] - 0s 17ms/step - loss: 0.0011 - mean_squared_error: 0.0011\n",
      "Epoch 2/5\n",
      "24/24 [==============================] - 0s 18ms/step - loss: 0.0011 - mean_squared_error: 0.0011\n",
      "Epoch 3/5\n",
      "24/24 [==============================] - 0s 17ms/step - loss: 9.8904e-04 - mean_squared_error: 9.8904e-04\n",
      "Epoch 4/5\n",
      "24/24 [==============================] - 0s 17ms/step - loss: 8.8940e-04 - mean_squared_error: 8.8940e-04\n",
      "Epoch 5/5\n",
      "24/24 [==============================] - 0s 17ms/step - loss: 8.2738e-04 - mean_squared_error: 8.2738e-04\n",
      "1/1 [==============================] - 0s 26ms/step\n"
     ]
    },
    {
     "data": {
      "text/plain": [
       "array([[42893.473]], dtype=float32)"
      ]
     },
     "metadata": {},
     "output_type": "display_data"
    },
    {
     "name": "stdout",
     "output_type": "stream",
     "text": [
      "Epoch 1/5\n",
      "24/24 [==============================] - 0s 18ms/step - loss: 9.3840e-04 - mean_squared_error: 9.3840e-04\n",
      "Epoch 2/5\n",
      "24/24 [==============================] - 0s 17ms/step - loss: 9.2895e-04 - mean_squared_error: 9.2895e-04\n",
      "Epoch 3/5\n",
      "24/24 [==============================] - 0s 18ms/step - loss: 8.4512e-04 - mean_squared_error: 8.4512e-04\n",
      "Epoch 4/5\n",
      "24/24 [==============================] - 0s 17ms/step - loss: 0.0010 - mean_squared_error: 0.0010   \n",
      "Epoch 5/5\n",
      "24/24 [==============================] - 0s 18ms/step - loss: 0.0011 - mean_squared_error: 0.0011\n",
      "1/1 [==============================] - 0s 24ms/step\n"
     ]
    },
    {
     "data": {
      "text/plain": [
       "array([[42803.953]], dtype=float32)"
      ]
     },
     "metadata": {},
     "output_type": "display_data"
    },
    {
     "name": "stdout",
     "output_type": "stream",
     "text": [
      "Epoch 1/5\n",
      "25/25 [==============================] - 0s 17ms/step - loss: 9.7434e-04 - mean_squared_error: 9.7434e-04\n",
      "Epoch 2/5\n",
      "25/25 [==============================] - 0s 17ms/step - loss: 0.0014 - mean_squared_error: 0.0014\n",
      "Epoch 3/5\n",
      "25/25 [==============================] - 0s 17ms/step - loss: 9.3019e-04 - mean_squared_error: 9.3019e-04\n",
      "Epoch 4/5\n",
      "25/25 [==============================] - 0s 17ms/step - loss: 0.0011 - mean_squared_error: 0.0011\n",
      "Epoch 5/5\n",
      "25/25 [==============================] - 0s 17ms/step - loss: 0.0011 - mean_squared_error: 0.0011\n",
      "1/1 [==============================] - 0s 23ms/step\n"
     ]
    },
    {
     "data": {
      "text/plain": [
       "array([[44714.54]], dtype=float32)"
      ]
     },
     "metadata": {},
     "output_type": "display_data"
    },
    {
     "name": "stdout",
     "output_type": "stream",
     "text": [
      "Epoch 1/5\n",
      "25/25 [==============================] - 0s 17ms/step - loss: 8.5324e-04 - mean_squared_error: 8.5324e-04\n",
      "Epoch 2/5\n",
      "25/25 [==============================] - 0s 17ms/step - loss: 7.7336e-04 - mean_squared_error: 7.7336e-04\n",
      "Epoch 3/5\n",
      "25/25 [==============================] - 0s 17ms/step - loss: 0.0010 - mean_squared_error: 0.0010   \n",
      "Epoch 4/5\n",
      "25/25 [==============================] - 0s 16ms/step - loss: 9.5888e-04 - mean_squared_error: 9.5888e-04\n",
      "Epoch 5/5\n",
      "25/25 [==============================] - 0s 17ms/step - loss: 7.7201e-04 - mean_squared_error: 7.7201e-04\n",
      "1/1 [==============================] - 0s 52ms/step\n"
     ]
    },
    {
     "data": {
      "text/plain": [
       "array([[43331.703]], dtype=float32)"
      ]
     },
     "metadata": {},
     "output_type": "display_data"
    },
    {
     "name": "stdout",
     "output_type": "stream",
     "text": [
      "Epoch 1/5\n",
      "25/25 [==============================] - 0s 17ms/step - loss: 8.7213e-04 - mean_squared_error: 8.7213e-04\n",
      "Epoch 2/5\n",
      "25/25 [==============================] - 0s 17ms/step - loss: 9.1610e-04 - mean_squared_error: 9.1610e-04\n",
      "Epoch 3/5\n",
      "25/25 [==============================] - 0s 17ms/step - loss: 8.5989e-04 - mean_squared_error: 8.5989e-04\n",
      "Epoch 4/5\n",
      "25/25 [==============================] - 0s 17ms/step - loss: 8.3750e-04 - mean_squared_error: 8.3750e-04\n",
      "Epoch 5/5\n",
      "25/25 [==============================] - 0s 17ms/step - loss: 7.9670e-04 - mean_squared_error: 7.9670e-04\n",
      "1/1 [==============================] - 0s 23ms/step\n"
     ]
    },
    {
     "data": {
      "text/plain": [
       "array([[43705.336]], dtype=float32)"
      ]
     },
     "metadata": {},
     "output_type": "display_data"
    },
    {
     "name": "stdout",
     "output_type": "stream",
     "text": [
      "Epoch 1/5\n",
      "25/25 [==============================] - 0s 18ms/step - loss: 9.6575e-04 - mean_squared_error: 9.6575e-04\n",
      "Epoch 2/5\n",
      "25/25 [==============================] - 1s 27ms/step - loss: 9.0781e-04 - mean_squared_error: 9.0781e-04\n",
      "Epoch 3/5\n",
      "25/25 [==============================] - 1s 29ms/step - loss: 8.4488e-04 - mean_squared_error: 8.4488e-04\n",
      "Epoch 4/5\n",
      "25/25 [==============================] - 0s 17ms/step - loss: 9.1897e-04 - mean_squared_error: 9.1897e-04\n",
      "Epoch 5/5\n",
      "25/25 [==============================] - 0s 17ms/step - loss: 9.0002e-04 - mean_squared_error: 9.0002e-04\n",
      "1/1 [==============================] - 0s 26ms/step\n"
     ]
    },
    {
     "data": {
      "text/plain": [
       "array([[45205.137]], dtype=float32)"
      ]
     },
     "metadata": {},
     "output_type": "display_data"
    },
    {
     "name": "stdout",
     "output_type": "stream",
     "text": [
      "Epoch 1/5\n",
      "25/25 [==============================] - 0s 18ms/step - loss: 8.2471e-04 - mean_squared_error: 8.2471e-04\n",
      "Epoch 2/5\n",
      "25/25 [==============================] - 1s 20ms/step - loss: 9.0111e-04 - mean_squared_error: 9.0111e-04\n",
      "Epoch 3/5\n",
      "25/25 [==============================] - 1s 20ms/step - loss: 9.6938e-04 - mean_squared_error: 9.6938e-04\n",
      "Epoch 4/5\n",
      "25/25 [==============================] - 1s 19ms/step - loss: 9.2347e-04 - mean_squared_error: 9.2347e-04\n",
      "Epoch 5/5\n",
      "25/25 [==============================] - 0s 17ms/step - loss: 7.5615e-04 - mean_squared_error: 7.5615e-04\n",
      "1/1 [==============================] - 0s 24ms/step\n"
     ]
    },
    {
     "data": {
      "text/plain": [
       "array([[45234.125]], dtype=float32)"
      ]
     },
     "metadata": {},
     "output_type": "display_data"
    },
    {
     "name": "stdout",
     "output_type": "stream",
     "text": [
      "Epoch 1/5\n",
      "25/25 [==============================] - 0s 18ms/step - loss: 8.1633e-04 - mean_squared_error: 8.1633e-04\n",
      "Epoch 2/5\n",
      "25/25 [==============================] - 0s 16ms/step - loss: 9.2052e-04 - mean_squared_error: 9.2052e-04\n",
      "Epoch 3/5\n",
      "25/25 [==============================] - 0s 17ms/step - loss: 8.1148e-04 - mean_squared_error: 8.1148e-04\n",
      "Epoch 4/5\n",
      "25/25 [==============================] - 1s 22ms/step - loss: 8.4637e-04 - mean_squared_error: 8.4637e-04\n",
      "Epoch 5/5\n",
      "25/25 [==============================] - 0s 18ms/step - loss: 8.1518e-04 - mean_squared_error: 8.1518e-04\n",
      "1/1 [==============================] - 0s 26ms/step\n"
     ]
    },
    {
     "data": {
      "text/plain": [
       "array([[45708.23]], dtype=float32)"
      ]
     },
     "metadata": {},
     "output_type": "display_data"
    },
    {
     "name": "stdout",
     "output_type": "stream",
     "text": [
      "Epoch 1/5\n",
      "25/25 [==============================] - 0s 17ms/step - loss: 7.4539e-04 - mean_squared_error: 7.4539e-04\n",
      "Epoch 2/5\n",
      "25/25 [==============================] - 0s 17ms/step - loss: 8.8528e-04 - mean_squared_error: 8.8528e-04\n",
      "Epoch 3/5\n",
      "25/25 [==============================] - 0s 17ms/step - loss: 8.2126e-04 - mean_squared_error: 8.2126e-04\n",
      "Epoch 4/5\n",
      "25/25 [==============================] - 0s 17ms/step - loss: 8.0206e-04 - mean_squared_error: 8.0206e-04\n",
      "Epoch 5/5\n",
      "25/25 [==============================] - 0s 17ms/step - loss: 8.4977e-04 - mean_squared_error: 8.4977e-04\n",
      "1/1 [==============================] - 0s 22ms/step\n"
     ]
    },
    {
     "data": {
      "text/plain": [
       "array([[45072.637]], dtype=float32)"
      ]
     },
     "metadata": {},
     "output_type": "display_data"
    },
    {
     "name": "stdout",
     "output_type": "stream",
     "text": [
      "Epoch 1/5\n",
      "25/25 [==============================] - 0s 17ms/step - loss: 7.8750e-04 - mean_squared_error: 7.8750e-04\n",
      "Epoch 2/5\n",
      "25/25 [==============================] - 0s 17ms/step - loss: 6.5812e-04 - mean_squared_error: 6.5812e-04\n",
      "Epoch 3/5\n",
      "25/25 [==============================] - 0s 17ms/step - loss: 6.9132e-04 - mean_squared_error: 6.9132e-04\n",
      "Epoch 4/5\n",
      "25/25 [==============================] - 0s 17ms/step - loss: 9.0948e-04 - mean_squared_error: 9.0948e-04\n",
      "Epoch 5/5\n",
      "25/25 [==============================] - 0s 17ms/step - loss: 6.7083e-04 - mean_squared_error: 6.7083e-04\n",
      "1/1 [==============================] - 0s 23ms/step\n"
     ]
    },
    {
     "data": {
      "text/plain": [
       "array([[45605.766]], dtype=float32)"
      ]
     },
     "metadata": {},
     "output_type": "display_data"
    },
    {
     "name": "stdout",
     "output_type": "stream",
     "text": [
      "Epoch 1/5\n",
      "25/25 [==============================] - 0s 17ms/step - loss: 7.6286e-04 - mean_squared_error: 7.6286e-04\n",
      "Epoch 2/5\n",
      "25/25 [==============================] - 0s 17ms/step - loss: 6.8493e-04 - mean_squared_error: 6.8493e-04\n",
      "Epoch 3/5\n",
      "25/25 [==============================] - 0s 17ms/step - loss: 7.4243e-04 - mean_squared_error: 7.4243e-04\n",
      "Epoch 4/5\n",
      "25/25 [==============================] - 0s 17ms/step - loss: 6.8909e-04 - mean_squared_error: 6.8909e-04\n",
      "Epoch 5/5\n",
      "25/25 [==============================] - 0s 17ms/step - loss: 6.4955e-04 - mean_squared_error: 6.4955e-04\n",
      "1/1 [==============================] - 0s 22ms/step\n"
     ]
    },
    {
     "data": {
      "text/plain": [
       "array([[44907.883]], dtype=float32)"
      ]
     },
     "metadata": {},
     "output_type": "display_data"
    },
    {
     "name": "stdout",
     "output_type": "stream",
     "text": [
      "Epoch 1/5\n",
      "25/25 [==============================] - 0s 17ms/step - loss: 8.6009e-04 - mean_squared_error: 8.6009e-04\n",
      "Epoch 2/5\n",
      "25/25 [==============================] - 0s 17ms/step - loss: 6.7036e-04 - mean_squared_error: 6.7036e-04\n",
      "Epoch 3/5\n",
      "25/25 [==============================] - 0s 17ms/step - loss: 7.3397e-04 - mean_squared_error: 7.3397e-04\n",
      "Epoch 4/5\n",
      "25/25 [==============================] - 0s 17ms/step - loss: 8.1534e-04 - mean_squared_error: 8.1534e-04\n",
      "Epoch 5/5\n",
      "25/25 [==============================] - 0s 17ms/step - loss: 6.5493e-04 - mean_squared_error: 6.5493e-04\n",
      "1/1 [==============================] - 0s 24ms/step\n"
     ]
    },
    {
     "data": {
      "text/plain": [
       "array([[44531.707]], dtype=float32)"
      ]
     },
     "metadata": {},
     "output_type": "display_data"
    },
    {
     "name": "stdout",
     "output_type": "stream",
     "text": [
      "Epoch 1/5\n",
      "25/25 [==============================] - 0s 16ms/step - loss: 7.1264e-04 - mean_squared_error: 7.1264e-04\n",
      "Epoch 2/5\n",
      "25/25 [==============================] - 0s 18ms/step - loss: 6.3237e-04 - mean_squared_error: 6.3237e-04\n",
      "Epoch 3/5\n",
      "25/25 [==============================] - 0s 17ms/step - loss: 7.7217e-04 - mean_squared_error: 7.7217e-04\n",
      "Epoch 4/5\n",
      "25/25 [==============================] - 0s 17ms/step - loss: 9.0492e-04 - mean_squared_error: 9.0492e-04\n",
      "Epoch 5/5\n",
      "25/25 [==============================] - 0s 17ms/step - loss: 6.8125e-04 - mean_squared_error: 6.8125e-04\n",
      "1/1 [==============================] - 0s 22ms/step\n"
     ]
    },
    {
     "data": {
      "text/plain": [
       "array([[44147.06]], dtype=float32)"
      ]
     },
     "metadata": {},
     "output_type": "display_data"
    },
    {
     "name": "stdout",
     "output_type": "stream",
     "text": [
      "Epoch 1/5\n",
      "25/25 [==============================] - 0s 17ms/step - loss: 8.8471e-04 - mean_squared_error: 8.8471e-04\n",
      "Epoch 2/5\n",
      "25/25 [==============================] - 1s 21ms/step - loss: 9.6640e-04 - mean_squared_error: 9.6640e-04\n",
      "Epoch 3/5\n",
      "25/25 [==============================] - 0s 18ms/step - loss: 5.9432e-04 - mean_squared_error: 5.9432e-04\n",
      "Epoch 4/5\n",
      "25/25 [==============================] - 0s 17ms/step - loss: 7.7261e-04 - mean_squared_error: 7.7261e-04\n",
      "Epoch 5/5\n",
      "25/25 [==============================] - 0s 17ms/step - loss: 7.1810e-04 - mean_squared_error: 7.1810e-04\n",
      "1/1 [==============================] - 0s 23ms/step\n"
     ]
    },
    {
     "data": {
      "text/plain": [
       "array([[44678.312]], dtype=float32)"
      ]
     },
     "metadata": {},
     "output_type": "display_data"
    },
    {
     "name": "stdout",
     "output_type": "stream",
     "text": [
      "Epoch 1/5\n",
      "25/25 [==============================] - 0s 17ms/step - loss: 6.2266e-04 - mean_squared_error: 6.2266e-04\n",
      "Epoch 2/5\n",
      "25/25 [==============================] - 0s 17ms/step - loss: 6.8478e-04 - mean_squared_error: 6.8478e-04\n",
      "Epoch 3/5\n",
      "25/25 [==============================] - 0s 17ms/step - loss: 7.0849e-04 - mean_squared_error: 7.0849e-04\n",
      "Epoch 4/5\n",
      "25/25 [==============================] - 0s 17ms/step - loss: 9.1311e-04 - mean_squared_error: 9.1311e-04\n",
      "Epoch 5/5\n",
      "25/25 [==============================] - 0s 17ms/step - loss: 6.7859e-04 - mean_squared_error: 6.7859e-04\n",
      "1/1 [==============================] - 0s 22ms/step\n"
     ]
    },
    {
     "data": {
      "text/plain": [
       "array([[42258.273]], dtype=float32)"
      ]
     },
     "metadata": {},
     "output_type": "display_data"
    },
    {
     "name": "stdout",
     "output_type": "stream",
     "text": [
      "Epoch 1/5\n",
      "25/25 [==============================] - 1s 20ms/step - loss: 7.6668e-04 - mean_squared_error: 7.6668e-04\n",
      "Epoch 2/5\n",
      "25/25 [==============================] - 1s 21ms/step - loss: 6.3428e-04 - mean_squared_error: 6.3428e-04\n",
      "Epoch 3/5\n",
      "25/25 [==============================] - 1s 22ms/step - loss: 7.5317e-04 - mean_squared_error: 7.5317e-04\n",
      "Epoch 4/5\n",
      "25/25 [==============================] - 1s 21ms/step - loss: 7.0733e-04 - mean_squared_error: 7.0733e-04\n",
      "Epoch 5/5\n",
      "25/25 [==============================] - 1s 24ms/step - loss: 6.6716e-04 - mean_squared_error: 6.6716e-04\n",
      "1/1 [==============================] - 0s 22ms/step\n"
     ]
    },
    {
     "data": {
      "text/plain": [
       "array([[44399.754]], dtype=float32)"
      ]
     },
     "metadata": {},
     "output_type": "display_data"
    },
    {
     "name": "stdout",
     "output_type": "stream",
     "text": [
      "Epoch 1/5\n",
      "25/25 [==============================] - 0s 17ms/step - loss: 6.6086e-04 - mean_squared_error: 6.6086e-04\n",
      "Epoch 2/5\n",
      "25/25 [==============================] - 0s 17ms/step - loss: 6.3198e-04 - mean_squared_error: 6.3198e-04\n",
      "Epoch 3/5\n",
      "25/25 [==============================] - 0s 17ms/step - loss: 7.2973e-04 - mean_squared_error: 7.2973e-04\n",
      "Epoch 4/5\n",
      "25/25 [==============================] - 0s 17ms/step - loss: 6.4275e-04 - mean_squared_error: 6.4275e-04\n",
      "Epoch 5/5\n",
      "25/25 [==============================] - 0s 16ms/step - loss: 6.6608e-04 - mean_squared_error: 6.6608e-04\n",
      "1/1 [==============================] - 0s 23ms/step\n"
     ]
    },
    {
     "data": {
      "text/plain": [
       "array([[43234.984]], dtype=float32)"
      ]
     },
     "metadata": {},
     "output_type": "display_data"
    },
    {
     "name": "stdout",
     "output_type": "stream",
     "text": [
      "Epoch 1/5\n",
      "25/25 [==============================] - 0s 17ms/step - loss: 6.3404e-04 - mean_squared_error: 6.3404e-04\n",
      "Epoch 2/5\n",
      "25/25 [==============================] - 0s 17ms/step - loss: 5.3779e-04 - mean_squared_error: 5.3779e-04\n",
      "Epoch 3/5\n",
      "25/25 [==============================] - 0s 17ms/step - loss: 5.8152e-04 - mean_squared_error: 5.8152e-04\n",
      "Epoch 4/5\n",
      "25/25 [==============================] - 0s 17ms/step - loss: 6.0966e-04 - mean_squared_error: 6.0966e-04\n",
      "Epoch 5/5\n",
      "25/25 [==============================] - 0s 18ms/step - loss: 6.3588e-04 - mean_squared_error: 6.3588e-04\n",
      "1/1 [==============================] - 0s 23ms/step\n"
     ]
    },
    {
     "data": {
      "text/plain": [
       "array([[43156.867]], dtype=float32)"
      ]
     },
     "metadata": {},
     "output_type": "display_data"
    },
    {
     "name": "stdout",
     "output_type": "stream",
     "text": [
      "Epoch 1/5\n",
      "25/25 [==============================] - 0s 18ms/step - loss: 6.1802e-04 - mean_squared_error: 6.1802e-04\n",
      "Epoch 2/5\n",
      "25/25 [==============================] - 0s 17ms/step - loss: 5.9867e-04 - mean_squared_error: 5.9867e-04\n",
      "Epoch 3/5\n",
      "25/25 [==============================] - 0s 17ms/step - loss: 5.4206e-04 - mean_squared_error: 5.4206e-04\n",
      "Epoch 4/5\n",
      "25/25 [==============================] - 0s 17ms/step - loss: 5.8942e-04 - mean_squared_error: 5.8942e-04\n",
      "Epoch 5/5\n",
      "25/25 [==============================] - 0s 17ms/step - loss: 6.2184e-04 - mean_squared_error: 6.2184e-04\n",
      "1/1 [==============================] - 0s 25ms/step\n"
     ]
    },
    {
     "data": {
      "text/plain": [
       "array([[44657.77]], dtype=float32)"
      ]
     },
     "metadata": {},
     "output_type": "display_data"
    },
    {
     "name": "stdout",
     "output_type": "stream",
     "text": [
      "Epoch 1/5\n",
      "25/25 [==============================] - 1s 20ms/step - loss: 7.1538e-04 - mean_squared_error: 7.1538e-04\n",
      "Epoch 2/5\n",
      "25/25 [==============================] - 0s 20ms/step - loss: 5.9759e-04 - mean_squared_error: 5.9759e-04\n",
      "Epoch 3/5\n",
      "25/25 [==============================] - 0s 19ms/step - loss: 6.9200e-04 - mean_squared_error: 6.9200e-04\n",
      "Epoch 4/5\n",
      "25/25 [==============================] - 0s 17ms/step - loss: 7.1758e-04 - mean_squared_error: 7.1758e-04\n",
      "Epoch 5/5\n",
      "25/25 [==============================] - 0s 18ms/step - loss: 5.7374e-04 - mean_squared_error: 5.7374e-04\n",
      "1/1 [==============================] - 0s 26ms/step\n"
     ]
    },
    {
     "data": {
      "text/plain": [
       "array([[43702.723]], dtype=float32)"
      ]
     },
     "metadata": {},
     "output_type": "display_data"
    },
    {
     "name": "stdout",
     "output_type": "stream",
     "text": [
      "Epoch 1/5\n",
      "25/25 [==============================] - 0s 20ms/step - loss: 6.0923e-04 - mean_squared_error: 6.0923e-04\n",
      "Epoch 2/5\n",
      "25/25 [==============================] - 0s 20ms/step - loss: 6.3656e-04 - mean_squared_error: 6.3656e-04\n",
      "Epoch 3/5\n",
      "25/25 [==============================] - 0s 17ms/step - loss: 7.0161e-04 - mean_squared_error: 7.0161e-04\n",
      "Epoch 4/5\n",
      "25/25 [==============================] - 0s 17ms/step - loss: 8.0716e-04 - mean_squared_error: 8.0716e-04\n",
      "Epoch 5/5\n",
      "25/25 [==============================] - 0s 17ms/step - loss: 6.3161e-04 - mean_squared_error: 6.3161e-04\n",
      "1/1 [==============================] - 0s 22ms/step\n"
     ]
    },
    {
     "data": {
      "text/plain": [
       "array([[43975.812]], dtype=float32)"
      ]
     },
     "metadata": {},
     "output_type": "display_data"
    },
    {
     "name": "stdout",
     "output_type": "stream",
     "text": [
      "Epoch 1/5\n",
      "25/25 [==============================] - 0s 17ms/step - loss: 5.1214e-04 - mean_squared_error: 5.1214e-04\n",
      "Epoch 2/5\n",
      "25/25 [==============================] - 0s 17ms/step - loss: 6.4066e-04 - mean_squared_error: 6.4066e-04\n",
      "Epoch 3/5\n",
      "25/25 [==============================] - 0s 17ms/step - loss: 5.4715e-04 - mean_squared_error: 5.4715e-04\n",
      "Epoch 4/5\n",
      "25/25 [==============================] - 0s 17ms/step - loss: 5.9623e-04 - mean_squared_error: 5.9623e-04\n",
      "Epoch 5/5\n",
      "25/25 [==============================] - 0s 17ms/step - loss: 6.4858e-04 - mean_squared_error: 6.4858e-04\n",
      "1/1 [==============================] - 0s 24ms/step\n"
     ]
    },
    {
     "data": {
      "text/plain": [
       "array([[43843.71]], dtype=float32)"
      ]
     },
     "metadata": {},
     "output_type": "display_data"
    },
    {
     "name": "stdout",
     "output_type": "stream",
     "text": [
      "Epoch 1/5\n",
      "25/25 [==============================] - 0s 17ms/step - loss: 5.9349e-04 - mean_squared_error: 5.9349e-04\n",
      "Epoch 2/5\n",
      "25/25 [==============================] - 0s 17ms/step - loss: 6.8625e-04 - mean_squared_error: 6.8625e-04\n",
      "Epoch 3/5\n",
      "25/25 [==============================] - 0s 17ms/step - loss: 7.6948e-04 - mean_squared_error: 7.6948e-04\n",
      "Epoch 4/5\n",
      "25/25 [==============================] - 0s 17ms/step - loss: 7.5989e-04 - mean_squared_error: 7.5989e-04\n",
      "Epoch 5/5\n",
      "25/25 [==============================] - 0s 17ms/step - loss: 6.3385e-04 - mean_squared_error: 6.3385e-04\n",
      "1/1 [==============================] - 0s 22ms/step\n"
     ]
    },
    {
     "data": {
      "text/plain": [
       "array([[45152.516]], dtype=float32)"
      ]
     },
     "metadata": {},
     "output_type": "display_data"
    },
    {
     "name": "stdout",
     "output_type": "stream",
     "text": [
      "Epoch 1/5\n",
      "25/25 [==============================] - 0s 17ms/step - loss: 6.5941e-04 - mean_squared_error: 6.5941e-04\n",
      "Epoch 2/5\n",
      "25/25 [==============================] - 0s 17ms/step - loss: 5.7324e-04 - mean_squared_error: 5.7324e-04\n",
      "Epoch 3/5\n",
      "25/25 [==============================] - 0s 16ms/step - loss: 6.5496e-04 - mean_squared_error: 6.5496e-04\n",
      "Epoch 4/5\n",
      "25/25 [==============================] - 0s 16ms/step - loss: 5.4683e-04 - mean_squared_error: 5.4683e-04\n",
      "Epoch 5/5\n",
      "25/25 [==============================] - 0s 17ms/step - loss: 5.8086e-04 - mean_squared_error: 5.8086e-04\n",
      "1/1 [==============================] - 0s 22ms/step\n"
     ]
    },
    {
     "data": {
      "text/plain": [
       "array([[45001.773]], dtype=float32)"
      ]
     },
     "metadata": {},
     "output_type": "display_data"
    },
    {
     "name": "stdout",
     "output_type": "stream",
     "text": [
      "Epoch 1/5\n",
      "25/25 [==============================] - 0s 16ms/step - loss: 5.5165e-04 - mean_squared_error: 5.5165e-04\n",
      "Epoch 2/5\n",
      "25/25 [==============================] - 0s 17ms/step - loss: 6.2823e-04 - mean_squared_error: 6.2823e-04\n",
      "Epoch 3/5\n",
      "25/25 [==============================] - 0s 17ms/step - loss: 6.1945e-04 - mean_squared_error: 6.1945e-04\n",
      "Epoch 4/5\n",
      "25/25 [==============================] - 0s 17ms/step - loss: 5.3962e-04 - mean_squared_error: 5.3962e-04\n",
      "Epoch 5/5\n",
      "25/25 [==============================] - 0s 17ms/step - loss: 6.4489e-04 - mean_squared_error: 6.4489e-04\n",
      "1/1 [==============================] - 0s 22ms/step\n"
     ]
    },
    {
     "data": {
      "text/plain": [
       "array([[45717.97]], dtype=float32)"
      ]
     },
     "metadata": {},
     "output_type": "display_data"
    },
    {
     "name": "stdout",
     "output_type": "stream",
     "text": [
      "Epoch 1/5\n",
      "25/25 [==============================] - 0s 16ms/step - loss: 6.0581e-04 - mean_squared_error: 6.0581e-04\n",
      "Epoch 2/5\n",
      "25/25 [==============================] - 0s 16ms/step - loss: 6.5369e-04 - mean_squared_error: 6.5369e-04\n",
      "Epoch 3/5\n",
      "25/25 [==============================] - 0s 16ms/step - loss: 6.4335e-04 - mean_squared_error: 6.4335e-04\n",
      "Epoch 4/5\n",
      "25/25 [==============================] - 0s 16ms/step - loss: 5.7152e-04 - mean_squared_error: 5.7152e-04\n",
      "Epoch 5/5\n",
      "25/25 [==============================] - 0s 16ms/step - loss: 5.8687e-04 - mean_squared_error: 5.8687e-04\n",
      "1/1 [==============================] - 0s 22ms/step\n"
     ]
    },
    {
     "data": {
      "text/plain": [
       "array([[47369.11]], dtype=float32)"
      ]
     },
     "metadata": {},
     "output_type": "display_data"
    },
    {
     "name": "stdout",
     "output_type": "stream",
     "text": [
      "Epoch 1/5\n",
      "25/25 [==============================] - 0s 17ms/step - loss: 5.7902e-04 - mean_squared_error: 5.7902e-04\n",
      "Epoch 2/5\n",
      "25/25 [==============================] - 0s 17ms/step - loss: 6.5140e-04 - mean_squared_error: 6.5140e-04\n",
      "Epoch 3/5\n",
      "25/25 [==============================] - 0s 17ms/step - loss: 5.2063e-04 - mean_squared_error: 5.2063e-04\n",
      "Epoch 4/5\n",
      "25/25 [==============================] - 0s 17ms/step - loss: 6.9364e-04 - mean_squared_error: 6.9364e-04\n",
      "Epoch 5/5\n",
      "25/25 [==============================] - 0s 17ms/step - loss: 5.2137e-04 - mean_squared_error: 5.2137e-04\n",
      "1/1 [==============================] - 0s 22ms/step\n"
     ]
    },
    {
     "data": {
      "text/plain": [
       "array([[46878.324]], dtype=float32)"
      ]
     },
     "metadata": {},
     "output_type": "display_data"
    },
    {
     "name": "stdout",
     "output_type": "stream",
     "text": [
      "Epoch 1/5\n",
      "25/25 [==============================] - 0s 17ms/step - loss: 5.2397e-04 - mean_squared_error: 5.2397e-04\n",
      "Epoch 2/5\n",
      "25/25 [==============================] - 0s 17ms/step - loss: 5.7330e-04 - mean_squared_error: 5.7330e-04\n",
      "Epoch 3/5\n",
      "25/25 [==============================] - 0s 17ms/step - loss: 5.6557e-04 - mean_squared_error: 5.6557e-04\n",
      "Epoch 4/5\n",
      "25/25 [==============================] - 0s 17ms/step - loss: 5.6548e-04 - mean_squared_error: 5.6548e-04\n",
      "Epoch 5/5\n",
      "25/25 [==============================] - 0s 17ms/step - loss: 5.7948e-04 - mean_squared_error: 5.7948e-04\n",
      "1/1 [==============================] - 0s 23ms/step\n"
     ]
    },
    {
     "data": {
      "text/plain": [
       "array([[47535.887]], dtype=float32)"
      ]
     },
     "metadata": {},
     "output_type": "display_data"
    },
    {
     "name": "stdout",
     "output_type": "stream",
     "text": [
      "Epoch 1/5\n",
      "25/25 [==============================] - 0s 17ms/step - loss: 5.5748e-04 - mean_squared_error: 5.5748e-04\n",
      "Epoch 2/5\n",
      "25/25 [==============================] - 0s 16ms/step - loss: 6.4175e-04 - mean_squared_error: 6.4175e-04\n",
      "Epoch 3/5\n",
      "25/25 [==============================] - 0s 17ms/step - loss: 5.3976e-04 - mean_squared_error: 5.3976e-04\n",
      "Epoch 4/5\n",
      "25/25 [==============================] - 0s 17ms/step - loss: 5.4110e-04 - mean_squared_error: 5.4110e-04\n",
      "Epoch 5/5\n",
      "25/25 [==============================] - 0s 16ms/step - loss: 5.1068e-04 - mean_squared_error: 5.1068e-04\n",
      "1/1 [==============================] - 0s 23ms/step\n"
     ]
    },
    {
     "data": {
      "text/plain": [
       "array([[47607.945]], dtype=float32)"
      ]
     },
     "metadata": {},
     "output_type": "display_data"
    },
    {
     "name": "stdout",
     "output_type": "stream",
     "text": [
      "Epoch 1/5\n",
      "25/25 [==============================] - 0s 17ms/step - loss: 6.1078e-04 - mean_squared_error: 6.1078e-04\n",
      "Epoch 2/5\n",
      "25/25 [==============================] - 0s 17ms/step - loss: 6.0472e-04 - mean_squared_error: 6.0472e-04\n",
      "Epoch 3/5\n",
      "25/25 [==============================] - 0s 17ms/step - loss: 5.2714e-04 - mean_squared_error: 5.2714e-04\n",
      "Epoch 4/5\n",
      "25/25 [==============================] - 0s 17ms/step - loss: 5.9690e-04 - mean_squared_error: 5.9690e-04\n",
      "Epoch 5/5\n",
      "25/25 [==============================] - 0s 17ms/step - loss: 5.3057e-04 - mean_squared_error: 5.3057e-04\n",
      "1/1 [==============================] - 0s 22ms/step\n"
     ]
    },
    {
     "data": {
      "text/plain": [
       "array([[49269.508]], dtype=float32)"
      ]
     },
     "metadata": {},
     "output_type": "display_data"
    },
    {
     "name": "stdout",
     "output_type": "stream",
     "text": [
      "Epoch 1/5\n",
      "25/25 [==============================] - 1s 21ms/step - loss: 6.3908e-04 - mean_squared_error: 6.3908e-04\n",
      "Epoch 2/5\n",
      "25/25 [==============================] - 0s 17ms/step - loss: 7.1140e-04 - mean_squared_error: 7.1140e-04\n",
      "Epoch 3/5\n",
      "25/25 [==============================] - 0s 17ms/step - loss: 5.6864e-04 - mean_squared_error: 5.6864e-04\n",
      "Epoch 4/5\n",
      "25/25 [==============================] - 0s 17ms/step - loss: 5.6139e-04 - mean_squared_error: 5.6139e-04\n",
      "Epoch 5/5\n",
      "25/25 [==============================] - 0s 17ms/step - loss: 5.4671e-04 - mean_squared_error: 5.4671e-04\n",
      "1/1 [==============================] - 0s 23ms/step\n"
     ]
    },
    {
     "data": {
      "text/plain": [
       "array([[49891.875]], dtype=float32)"
      ]
     },
     "metadata": {},
     "output_type": "display_data"
    },
    {
     "name": "stdout",
     "output_type": "stream",
     "text": [
      "Epoch 1/5\n",
      "25/25 [==============================] - 0s 17ms/step - loss: 6.7065e-04 - mean_squared_error: 6.7065e-04\n",
      "Epoch 2/5\n",
      "25/25 [==============================] - 0s 17ms/step - loss: 6.6716e-04 - mean_squared_error: 6.6716e-04\n",
      "Epoch 3/5\n",
      "25/25 [==============================] - 0s 16ms/step - loss: 5.7124e-04 - mean_squared_error: 5.7124e-04\n",
      "Epoch 4/5\n",
      "25/25 [==============================] - 0s 16ms/step - loss: 6.3894e-04 - mean_squared_error: 6.3894e-04\n",
      "Epoch 5/5\n",
      "25/25 [==============================] - 0s 17ms/step - loss: 6.1092e-04 - mean_squared_error: 6.1092e-04\n",
      "1/1 [==============================] - 0s 22ms/step\n"
     ]
    },
    {
     "data": {
      "text/plain": [
       "array([[49093.176]], dtype=float32)"
      ]
     },
     "metadata": {},
     "output_type": "display_data"
    },
    {
     "name": "stdout",
     "output_type": "stream",
     "text": [
      "Epoch 1/5\n",
      "25/25 [==============================] - 0s 17ms/step - loss: 5.1820e-04 - mean_squared_error: 5.1820e-04\n",
      "Epoch 2/5\n",
      "25/25 [==============================] - 0s 16ms/step - loss: 5.0600e-04 - mean_squared_error: 5.0600e-04\n",
      "Epoch 3/5\n",
      "25/25 [==============================] - 0s 17ms/step - loss: 5.4597e-04 - mean_squared_error: 5.4597e-04\n",
      "Epoch 4/5\n",
      "25/25 [==============================] - 0s 17ms/step - loss: 5.9023e-04 - mean_squared_error: 5.9023e-04\n",
      "Epoch 5/5\n",
      "25/25 [==============================] - 0s 17ms/step - loss: 5.5941e-04 - mean_squared_error: 5.5941e-04\n",
      "1/1 [==============================] - 0s 23ms/step\n"
     ]
    },
    {
     "data": {
      "text/plain": [
       "array([[49547.203]], dtype=float32)"
      ]
     },
     "metadata": {},
     "output_type": "display_data"
    },
    {
     "name": "stdout",
     "output_type": "stream",
     "text": [
      "Epoch 1/5\n",
      "25/25 [==============================] - 0s 17ms/step - loss: 5.4750e-04 - mean_squared_error: 5.4750e-04\n",
      "Epoch 2/5\n",
      "25/25 [==============================] - 0s 16ms/step - loss: 5.9479e-04 - mean_squared_error: 5.9479e-04\n",
      "Epoch 3/5\n",
      "25/25 [==============================] - 0s 16ms/step - loss: 4.8979e-04 - mean_squared_error: 4.8979e-04\n",
      "Epoch 4/5\n",
      "25/25 [==============================] - 0s 17ms/step - loss: 6.3682e-04 - mean_squared_error: 6.3682e-04\n",
      "Epoch 5/5\n",
      "25/25 [==============================] - 0s 17ms/step - loss: 6.1763e-04 - mean_squared_error: 6.1763e-04\n",
      "1/1 [==============================] - 0s 23ms/step\n"
     ]
    },
    {
     "data": {
      "text/plain": [
       "array([[49883.59]], dtype=float32)"
      ]
     },
     "metadata": {},
     "output_type": "display_data"
    },
    {
     "name": "stdout",
     "output_type": "stream",
     "text": [
      "Epoch 1/5\n",
      "26/26 [==============================] - 0s 17ms/step - loss: 5.2108e-04 - mean_squared_error: 5.2108e-04\n",
      "Epoch 2/5\n",
      "26/26 [==============================] - 0s 17ms/step - loss: 8.2238e-04 - mean_squared_error: 8.2238e-04\n",
      "Epoch 3/5\n",
      "26/26 [==============================] - 0s 17ms/step - loss: 4.9384e-04 - mean_squared_error: 4.9384e-04\n",
      "Epoch 4/5\n",
      "26/26 [==============================] - 0s 16ms/step - loss: 7.3828e-04 - mean_squared_error: 7.3828e-04\n",
      "Epoch 5/5\n",
      "26/26 [==============================] - 0s 16ms/step - loss: 5.4350e-04 - mean_squared_error: 5.4350e-04\n",
      "1/1 [==============================] - 0s 22ms/step\n"
     ]
    },
    {
     "data": {
      "text/plain": [
       "array([[50160.113]], dtype=float32)"
      ]
     },
     "metadata": {},
     "output_type": "display_data"
    },
    {
     "name": "stdout",
     "output_type": "stream",
     "text": [
      "Epoch 1/5\n",
      "26/26 [==============================] - 0s 17ms/step - loss: 6.2757e-04 - mean_squared_error: 6.2757e-04\n",
      "Epoch 2/5\n",
      "26/26 [==============================] - 0s 17ms/step - loss: 5.3536e-04 - mean_squared_error: 5.3536e-04\n",
      "Epoch 3/5\n",
      "26/26 [==============================] - 0s 17ms/step - loss: 5.0542e-04 - mean_squared_error: 5.0542e-04\n",
      "Epoch 4/5\n",
      "26/26 [==============================] - 0s 16ms/step - loss: 6.1202e-04 - mean_squared_error: 6.1202e-04\n",
      "Epoch 5/5\n",
      "26/26 [==============================] - 0s 16ms/step - loss: 5.8549e-04 - mean_squared_error: 5.8549e-04\n",
      "1/1 [==============================] - 0s 22ms/step\n"
     ]
    },
    {
     "data": {
      "text/plain": [
       "array([[48781.03]], dtype=float32)"
      ]
     },
     "metadata": {},
     "output_type": "display_data"
    },
    {
     "name": "stdout",
     "output_type": "stream",
     "text": [
      "Epoch 1/5\n",
      "26/26 [==============================] - 0s 17ms/step - loss: 6.5136e-04 - mean_squared_error: 6.5136e-04\n",
      "Epoch 2/5\n",
      "26/26 [==============================] - 0s 16ms/step - loss: 4.7401e-04 - mean_squared_error: 4.7401e-04\n",
      "Epoch 3/5\n",
      "26/26 [==============================] - 0s 16ms/step - loss: 5.3020e-04 - mean_squared_error: 5.3020e-04\n",
      "Epoch 4/5\n",
      "26/26 [==============================] - 0s 17ms/step - loss: 5.3810e-04 - mean_squared_error: 5.3810e-04\n",
      "Epoch 5/5\n",
      "26/26 [==============================] - 0s 16ms/step - loss: 7.8421e-04 - mean_squared_error: 7.8421e-04\n",
      "1/1 [==============================] - 0s 22ms/step\n"
     ]
    },
    {
     "data": {
      "text/plain": [
       "array([[48620.203]], dtype=float32)"
      ]
     },
     "metadata": {},
     "output_type": "display_data"
    },
    {
     "name": "stdout",
     "output_type": "stream",
     "text": [
      "Epoch 1/5\n",
      "26/26 [==============================] - 0s 17ms/step - loss: 5.6702e-04 - mean_squared_error: 5.6702e-04\n",
      "Epoch 2/5\n",
      "26/26 [==============================] - 0s 16ms/step - loss: 5.1790e-04 - mean_squared_error: 5.1790e-04\n",
      "Epoch 3/5\n",
      "26/26 [==============================] - 0s 16ms/step - loss: 5.1099e-04 - mean_squared_error: 5.1099e-04\n",
      "Epoch 4/5\n",
      "26/26 [==============================] - 0s 16ms/step - loss: 4.9340e-04 - mean_squared_error: 4.9340e-04\n",
      "Epoch 5/5\n",
      "26/26 [==============================] - 0s 16ms/step - loss: 5.5506e-04 - mean_squared_error: 5.5506e-04\n",
      "1/1 [==============================] - 0s 22ms/step\n"
     ]
    },
    {
     "data": {
      "text/plain": [
       "array([[48678.133]], dtype=float32)"
      ]
     },
     "metadata": {},
     "output_type": "display_data"
    },
    {
     "name": "stdout",
     "output_type": "stream",
     "text": [
      "Epoch 1/5\n",
      "26/26 [==============================] - 0s 17ms/step - loss: 5.3654e-04 - mean_squared_error: 5.3654e-04\n",
      "Epoch 2/5\n",
      "26/26 [==============================] - 0s 16ms/step - loss: 5.2021e-04 - mean_squared_error: 5.2021e-04\n",
      "Epoch 3/5\n",
      "26/26 [==============================] - 0s 16ms/step - loss: 5.2545e-04 - mean_squared_error: 5.2545e-04\n",
      "Epoch 4/5\n",
      "26/26 [==============================] - 0s 17ms/step - loss: 5.4170e-04 - mean_squared_error: 5.4170e-04\n",
      "Epoch 5/5\n",
      "26/26 [==============================] - 0s 16ms/step - loss: 4.9832e-04 - mean_squared_error: 4.9832e-04\n",
      "1/1 [==============================] - 0s 23ms/step\n"
     ]
    },
    {
     "data": {
      "text/plain": [
       "array([[47031.508]], dtype=float32)"
      ]
     },
     "metadata": {},
     "output_type": "display_data"
    },
    {
     "name": "stdout",
     "output_type": "stream",
     "text": [
      "Epoch 1/5\n",
      "26/26 [==============================] - 0s 17ms/step - loss: 6.7301e-04 - mean_squared_error: 6.7301e-04\n",
      "Epoch 2/5\n",
      "26/26 [==============================] - 0s 16ms/step - loss: 5.0913e-04 - mean_squared_error: 5.0913e-04\n",
      "Epoch 3/5\n",
      "26/26 [==============================] - 0s 16ms/step - loss: 6.2855e-04 - mean_squared_error: 6.2855e-04\n",
      "Epoch 4/5\n",
      "26/26 [==============================] - 0s 17ms/step - loss: 5.4320e-04 - mean_squared_error: 5.4320e-04\n",
      "Epoch 5/5\n",
      "26/26 [==============================] - 0s 17ms/step - loss: 5.2071e-04 - mean_squared_error: 5.2071e-04\n",
      "1/1 [==============================] - 0s 26ms/step\n"
     ]
    },
    {
     "data": {
      "text/plain": [
       "array([[47842.457]], dtype=float32)"
      ]
     },
     "metadata": {},
     "output_type": "display_data"
    },
    {
     "name": "stdout",
     "output_type": "stream",
     "text": [
      "Epoch 1/5\n",
      "26/26 [==============================] - 0s 18ms/step - loss: 5.2200e-04 - mean_squared_error: 5.2200e-04\n",
      "Epoch 2/5\n",
      "26/26 [==============================] - 0s 17ms/step - loss: 5.4838e-04 - mean_squared_error: 5.4838e-04\n",
      "Epoch 3/5\n",
      "26/26 [==============================] - 0s 17ms/step - loss: 6.9075e-04 - mean_squared_error: 6.9075e-04\n",
      "Epoch 4/5\n",
      "26/26 [==============================] - 0s 17ms/step - loss: 5.2562e-04 - mean_squared_error: 5.2562e-04\n",
      "Epoch 5/5\n",
      "26/26 [==============================] - 0s 17ms/step - loss: 5.4622e-04 - mean_squared_error: 5.4622e-04\n",
      "1/1 [==============================] - 0s 23ms/step\n"
     ]
    },
    {
     "data": {
      "text/plain": [
       "array([[48644.508]], dtype=float32)"
      ]
     },
     "metadata": {},
     "output_type": "display_data"
    },
    {
     "name": "stdout",
     "output_type": "stream",
     "text": [
      "Epoch 1/5\n",
      "26/26 [==============================] - 0s 17ms/step - loss: 5.5787e-04 - mean_squared_error: 5.5787e-04\n",
      "Epoch 2/5\n",
      "26/26 [==============================] - 0s 17ms/step - loss: 5.7696e-04 - mean_squared_error: 5.7696e-04\n",
      "Epoch 3/5\n",
      "26/26 [==============================] - 0s 16ms/step - loss: 5.5692e-04 - mean_squared_error: 5.5692e-04\n",
      "Epoch 4/5\n",
      "26/26 [==============================] - 0s 16ms/step - loss: 5.2188e-04 - mean_squared_error: 5.2188e-04\n",
      "Epoch 5/5\n",
      "26/26 [==============================] - 0s 16ms/step - loss: 4.5363e-04 - mean_squared_error: 4.5363e-04\n",
      "1/1 [==============================] - 0s 22ms/step\n"
     ]
    },
    {
     "data": {
      "text/plain": [
       "array([[49235.402]], dtype=float32)"
      ]
     },
     "metadata": {},
     "output_type": "display_data"
    },
    {
     "name": "stdout",
     "output_type": "stream",
     "text": [
      "Epoch 1/5\n",
      "26/26 [==============================] - 0s 16ms/step - loss: 4.9055e-04 - mean_squared_error: 4.9055e-04\n",
      "Epoch 2/5\n",
      "26/26 [==============================] - 0s 16ms/step - loss: 4.6400e-04 - mean_squared_error: 4.6400e-04\n",
      "Epoch 3/5\n",
      "26/26 [==============================] - 0s 16ms/step - loss: 4.9660e-04 - mean_squared_error: 4.9660e-04\n",
      "Epoch 4/5\n",
      "26/26 [==============================] - 0s 16ms/step - loss: 4.9675e-04 - mean_squared_error: 4.9675e-04\n",
      "Epoch 5/5\n",
      "26/26 [==============================] - 0s 16ms/step - loss: 4.6422e-04 - mean_squared_error: 4.6422e-04\n",
      "1/1 [==============================] - 0s 22ms/step\n"
     ]
    },
    {
     "data": {
      "text/plain": [
       "array([[48867.113]], dtype=float32)"
      ]
     },
     "metadata": {},
     "output_type": "display_data"
    },
    {
     "name": "stdout",
     "output_type": "stream",
     "text": [
      "Epoch 1/5\n",
      "26/26 [==============================] - 0s 16ms/step - loss: 4.7401e-04 - mean_squared_error: 4.7401e-04\n",
      "Epoch 2/5\n",
      "26/26 [==============================] - 0s 16ms/step - loss: 6.0370e-04 - mean_squared_error: 6.0370e-04\n",
      "Epoch 3/5\n",
      "26/26 [==============================] - 0s 16ms/step - loss: 5.4830e-04 - mean_squared_error: 5.4830e-04\n",
      "Epoch 4/5\n",
      "26/26 [==============================] - 0s 17ms/step - loss: 5.3441e-04 - mean_squared_error: 5.3441e-04\n",
      "Epoch 5/5\n",
      "26/26 [==============================] - 0s 17ms/step - loss: 4.8415e-04 - mean_squared_error: 4.8415e-04\n",
      "1/1 [==============================] - 0s 22ms/step\n"
     ]
    },
    {
     "data": {
      "text/plain": [
       "array([[49316.25]], dtype=float32)"
      ]
     },
     "metadata": {},
     "output_type": "display_data"
    },
    {
     "name": "stdout",
     "output_type": "stream",
     "text": [
      "Epoch 1/5\n",
      "26/26 [==============================] - 0s 17ms/step - loss: 5.1681e-04 - mean_squared_error: 5.1681e-04\n",
      "Epoch 2/5\n",
      "26/26 [==============================] - 0s 17ms/step - loss: 4.4675e-04 - mean_squared_error: 4.4675e-04\n",
      "Epoch 3/5\n",
      "26/26 [==============================] - 0s 17ms/step - loss: 5.0743e-04 - mean_squared_error: 5.0743e-04\n",
      "Epoch 4/5\n",
      "26/26 [==============================] - 0s 16ms/step - loss: 4.6072e-04 - mean_squared_error: 4.6072e-04\n",
      "Epoch 5/5\n",
      "26/26 [==============================] - 0s 16ms/step - loss: 4.8905e-04 - mean_squared_error: 4.8905e-04\n",
      "1/1 [==============================] - 0s 23ms/step\n"
     ]
    },
    {
     "data": {
      "text/plain": [
       "array([[49761.1]], dtype=float32)"
      ]
     },
     "metadata": {},
     "output_type": "display_data"
    },
    {
     "name": "stdout",
     "output_type": "stream",
     "text": [
      "Epoch 1/5\n",
      "26/26 [==============================] - 0s 17ms/step - loss: 4.8345e-04 - mean_squared_error: 4.8345e-04\n",
      "Epoch 2/5\n",
      "26/26 [==============================] - 0s 16ms/step - loss: 4.8393e-04 - mean_squared_error: 4.8393e-04\n",
      "Epoch 3/5\n",
      "26/26 [==============================] - 0s 17ms/step - loss: 5.2009e-04 - mean_squared_error: 5.2009e-04\n",
      "Epoch 4/5\n",
      "26/26 [==============================] - 0s 17ms/step - loss: 5.5323e-04 - mean_squared_error: 5.5323e-04\n",
      "Epoch 5/5\n",
      "26/26 [==============================] - 0s 17ms/step - loss: 5.7721e-04 - mean_squared_error: 5.7721e-04\n",
      "1/1 [==============================] - 0s 23ms/step\n"
     ]
    },
    {
     "data": {
      "text/plain": [
       "array([[48564.22]], dtype=float32)"
      ]
     },
     "metadata": {},
     "output_type": "display_data"
    },
    {
     "name": "stdout",
     "output_type": "stream",
     "text": [
      "Epoch 1/5\n",
      "26/26 [==============================] - 0s 16ms/step - loss: 4.8731e-04 - mean_squared_error: 4.8731e-04\n",
      "Epoch 2/5\n",
      "26/26 [==============================] - 0s 16ms/step - loss: 4.4747e-04 - mean_squared_error: 4.4747e-04\n",
      "Epoch 3/5\n",
      "26/26 [==============================] - 0s 17ms/step - loss: 5.1318e-04 - mean_squared_error: 5.1318e-04\n",
      "Epoch 4/5\n",
      "26/26 [==============================] - 0s 16ms/step - loss: 6.0255e-04 - mean_squared_error: 6.0255e-04\n",
      "Epoch 5/5\n",
      "26/26 [==============================] - 0s 16ms/step - loss: 4.5528e-04 - mean_squared_error: 4.5528e-04\n",
      "1/1 [==============================] - 0s 23ms/step\n"
     ]
    },
    {
     "data": {
      "text/plain": [
       "array([[48084.793]], dtype=float32)"
      ]
     },
     "metadata": {},
     "output_type": "display_data"
    },
    {
     "name": "stdout",
     "output_type": "stream",
     "text": [
      "Epoch 1/5\n",
      "26/26 [==============================] - 0s 16ms/step - loss: 5.0167e-04 - mean_squared_error: 5.0167e-04\n",
      "Epoch 2/5\n",
      "26/26 [==============================] - 0s 16ms/step - loss: 4.7786e-04 - mean_squared_error: 4.7786e-04\n",
      "Epoch 3/5\n",
      "26/26 [==============================] - 0s 16ms/step - loss: 4.7789e-04 - mean_squared_error: 4.7789e-04\n",
      "Epoch 4/5\n",
      "26/26 [==============================] - 0s 16ms/step - loss: 5.2231e-04 - mean_squared_error: 5.2231e-04\n",
      "Epoch 5/5\n",
      "26/26 [==============================] - 0s 17ms/step - loss: 4.5152e-04 - mean_squared_error: 4.5152e-04\n",
      "1/1 [==============================] - 0s 22ms/step\n"
     ]
    },
    {
     "data": {
      "text/plain": [
       "array([[48977.445]], dtype=float32)"
      ]
     },
     "metadata": {},
     "output_type": "display_data"
    },
    {
     "name": "stdout",
     "output_type": "stream",
     "text": [
      "Epoch 1/5\n",
      "26/26 [==============================] - 0s 17ms/step - loss: 4.6911e-04 - mean_squared_error: 4.6911e-04\n",
      "Epoch 2/5\n",
      "26/26 [==============================] - 0s 16ms/step - loss: 4.1294e-04 - mean_squared_error: 4.1294e-04\n",
      "Epoch 3/5\n",
      "26/26 [==============================] - 0s 17ms/step - loss: 5.2428e-04 - mean_squared_error: 5.2428e-04\n",
      "Epoch 4/5\n",
      "26/26 [==============================] - 0s 16ms/step - loss: 5.0161e-04 - mean_squared_error: 5.0161e-04\n",
      "Epoch 5/5\n",
      "26/26 [==============================] - 0s 17ms/step - loss: 4.8235e-04 - mean_squared_error: 4.8235e-04\n",
      "1/1 [==============================] - 0s 25ms/step\n"
     ]
    },
    {
     "data": {
      "text/plain": [
       "array([[49453.34]], dtype=float32)"
      ]
     },
     "metadata": {},
     "output_type": "display_data"
    },
    {
     "name": "stdout",
     "output_type": "stream",
     "text": [
      "Epoch 1/5\n",
      "26/26 [==============================] - 0s 17ms/step - loss: 4.6753e-04 - mean_squared_error: 4.6753e-04\n",
      "Epoch 2/5\n",
      "26/26 [==============================] - 0s 16ms/step - loss: 4.9246e-04 - mean_squared_error: 4.9246e-04\n",
      "Epoch 3/5\n",
      "26/26 [==============================] - 0s 17ms/step - loss: 5.4051e-04 - mean_squared_error: 5.4051e-04\n",
      "Epoch 4/5\n",
      "26/26 [==============================] - 0s 16ms/step - loss: 4.5152e-04 - mean_squared_error: 4.5152e-04\n",
      "Epoch 5/5\n",
      "26/26 [==============================] - 0s 17ms/step - loss: 4.9035e-04 - mean_squared_error: 4.9035e-04\n",
      "1/1 [==============================] - 0s 22ms/step\n"
     ]
    },
    {
     "data": {
      "text/plain": [
       "array([[48865.133]], dtype=float32)"
      ]
     },
     "metadata": {},
     "output_type": "display_data"
    },
    {
     "name": "stdout",
     "output_type": "stream",
     "text": [
      "Epoch 1/5\n",
      "26/26 [==============================] - 0s 17ms/step - loss: 4.2991e-04 - mean_squared_error: 4.2991e-04\n",
      "Epoch 2/5\n",
      "26/26 [==============================] - 0s 17ms/step - loss: 5.0547e-04 - mean_squared_error: 5.0547e-04\n",
      "Epoch 3/5\n",
      "26/26 [==============================] - 0s 17ms/step - loss: 4.6640e-04 - mean_squared_error: 4.6640e-04\n",
      "Epoch 4/5\n",
      "26/26 [==============================] - 0s 17ms/step - loss: 5.2531e-04 - mean_squared_error: 5.2531e-04\n",
      "Epoch 5/5\n",
      "26/26 [==============================] - 0s 17ms/step - loss: 4.3805e-04 - mean_squared_error: 4.3805e-04\n",
      "1/1 [==============================] - 0s 22ms/step\n"
     ]
    },
    {
     "data": {
      "text/plain": [
       "array([[49455.65]], dtype=float32)"
      ]
     },
     "metadata": {},
     "output_type": "display_data"
    },
    {
     "name": "stdout",
     "output_type": "stream",
     "text": [
      "Epoch 1/5\n",
      "26/26 [==============================] - 0s 17ms/step - loss: 4.2826e-04 - mean_squared_error: 4.2826e-04\n",
      "Epoch 2/5\n",
      "26/26 [==============================] - 0s 17ms/step - loss: 4.8137e-04 - mean_squared_error: 4.8137e-04\n",
      "Epoch 3/5\n",
      "26/26 [==============================] - 0s 16ms/step - loss: 5.1206e-04 - mean_squared_error: 5.1206e-04\n",
      "Epoch 4/5\n",
      "26/26 [==============================] - 0s 16ms/step - loss: 5.4165e-04 - mean_squared_error: 5.4165e-04\n",
      "Epoch 5/5\n",
      "26/26 [==============================] - 0s 17ms/step - loss: 5.0342e-04 - mean_squared_error: 5.0342e-04\n",
      "1/1 [==============================] - 0s 22ms/step\n"
     ]
    },
    {
     "data": {
      "text/plain": [
       "array([[48975.996]], dtype=float32)"
      ]
     },
     "metadata": {},
     "output_type": "display_data"
    },
    {
     "name": "stdout",
     "output_type": "stream",
     "text": [
      "Epoch 1/5\n",
      "26/26 [==============================] - 0s 17ms/step - loss: 4.2761e-04 - mean_squared_error: 4.2761e-04\n",
      "Epoch 2/5\n",
      "26/26 [==============================] - 0s 16ms/step - loss: 5.3737e-04 - mean_squared_error: 5.3737e-04\n",
      "Epoch 3/5\n",
      "26/26 [==============================] - 0s 17ms/step - loss: 4.4715e-04 - mean_squared_error: 4.4715e-04\n",
      "Epoch 4/5\n",
      "26/26 [==============================] - 0s 17ms/step - loss: 4.7638e-04 - mean_squared_error: 4.7638e-04\n",
      "Epoch 5/5\n",
      "26/26 [==============================] - 0s 16ms/step - loss: 5.4443e-04 - mean_squared_error: 5.4443e-04\n",
      "1/1 [==============================] - 0s 23ms/step\n"
     ]
    },
    {
     "data": {
      "text/plain": [
       "array([[49082.824]], dtype=float32)"
      ]
     },
     "metadata": {},
     "output_type": "display_data"
    },
    {
     "name": "stdout",
     "output_type": "stream",
     "text": [
      "Epoch 1/5\n",
      "26/26 [==============================] - 0s 17ms/step - loss: 4.2221e-04 - mean_squared_error: 4.2221e-04\n",
      "Epoch 2/5\n",
      "26/26 [==============================] - 0s 17ms/step - loss: 4.1827e-04 - mean_squared_error: 4.1827e-04\n",
      "Epoch 3/5\n",
      "26/26 [==============================] - 0s 16ms/step - loss: 4.2900e-04 - mean_squared_error: 4.2900e-04\n",
      "Epoch 4/5\n",
      "26/26 [==============================] - 0s 17ms/step - loss: 4.7872e-04 - mean_squared_error: 4.7872e-04\n",
      "Epoch 5/5\n",
      "26/26 [==============================] - 0s 17ms/step - loss: 4.4129e-04 - mean_squared_error: 4.4129e-04\n",
      "1/1 [==============================] - 0s 22ms/step\n"
     ]
    },
    {
     "data": {
      "text/plain": [
       "array([[47931.316]], dtype=float32)"
      ]
     },
     "metadata": {},
     "output_type": "display_data"
    },
    {
     "name": "stdout",
     "output_type": "stream",
     "text": [
      "Epoch 1/5\n",
      "26/26 [==============================] - 0s 17ms/step - loss: 5.2295e-04 - mean_squared_error: 5.2295e-04\n",
      "Epoch 2/5\n",
      "26/26 [==============================] - 0s 16ms/step - loss: 5.1506e-04 - mean_squared_error: 5.1506e-04\n",
      "Epoch 3/5\n",
      "26/26 [==============================] - 0s 17ms/step - loss: 4.4355e-04 - mean_squared_error: 4.4355e-04\n",
      "Epoch 4/5\n",
      "26/26 [==============================] - 0s 16ms/step - loss: 4.3856e-04 - mean_squared_error: 4.3856e-04\n",
      "Epoch 5/5\n",
      "26/26 [==============================] - 0s 17ms/step - loss: 4.6455e-04 - mean_squared_error: 4.6455e-04\n",
      "1/1 [==============================] - 0s 22ms/step\n"
     ]
    },
    {
     "data": {
      "text/plain": [
       "array([[47657.28]], dtype=float32)"
      ]
     },
     "metadata": {},
     "output_type": "display_data"
    },
    {
     "name": "stdout",
     "output_type": "stream",
     "text": [
      "Epoch 1/5\n",
      "26/26 [==============================] - 0s 17ms/step - loss: 5.1707e-04 - mean_squared_error: 5.1707e-04\n",
      "Epoch 2/5\n",
      "26/26 [==============================] - 0s 17ms/step - loss: 4.5562e-04 - mean_squared_error: 4.5562e-04\n",
      "Epoch 3/5\n",
      "26/26 [==============================] - 0s 17ms/step - loss: 4.3386e-04 - mean_squared_error: 4.3386e-04\n",
      "Epoch 4/5\n",
      "26/26 [==============================] - 0s 17ms/step - loss: 4.6436e-04 - mean_squared_error: 4.6436e-04\n",
      "Epoch 5/5\n",
      "26/26 [==============================] - 1s 20ms/step - loss: 4.6679e-04 - mean_squared_error: 4.6679e-04\n",
      "1/1 [==============================] - 0s 54ms/step\n"
     ]
    },
    {
     "data": {
      "text/plain": [
       "array([[48320.84]], dtype=float32)"
      ]
     },
     "metadata": {},
     "output_type": "display_data"
    },
    {
     "name": "stdout",
     "output_type": "stream",
     "text": [
      "Epoch 1/5\n",
      "26/26 [==============================] - 0s 16ms/step - loss: 4.2819e-04 - mean_squared_error: 4.2819e-04\n",
      "Epoch 2/5\n",
      "26/26 [==============================] - 0s 17ms/step - loss: 4.2327e-04 - mean_squared_error: 4.2327e-04\n",
      "Epoch 3/5\n",
      "26/26 [==============================] - 0s 17ms/step - loss: 5.4960e-04 - mean_squared_error: 5.4960e-04\n",
      "Epoch 4/5\n",
      "26/26 [==============================] - 0s 17ms/step - loss: 4.9207e-04 - mean_squared_error: 4.9207e-04\n",
      "Epoch 5/5\n",
      "26/26 [==============================] - 1s 19ms/step - loss: 5.0241e-04 - mean_squared_error: 5.0241e-04\n",
      "1/1 [==============================] - 0s 23ms/step\n"
     ]
    },
    {
     "data": {
      "text/plain": [
       "array([[48650.195]], dtype=float32)"
      ]
     },
     "metadata": {},
     "output_type": "display_data"
    },
    {
     "name": "stdout",
     "output_type": "stream",
     "text": [
      "Epoch 1/5\n",
      "26/26 [==============================] - 1s 20ms/step - loss: 4.6874e-04 - mean_squared_error: 4.6874e-04\n",
      "Epoch 2/5\n",
      "26/26 [==============================] - 1s 19ms/step - loss: 4.8633e-04 - mean_squared_error: 4.8633e-04\n",
      "Epoch 3/5\n",
      "26/26 [==============================] - 0s 17ms/step - loss: 4.4522e-04 - mean_squared_error: 4.4522e-04\n",
      "Epoch 4/5\n",
      "26/26 [==============================] - 1s 20ms/step - loss: 4.8115e-04 - mean_squared_error: 4.8115e-04\n",
      "Epoch 5/5\n",
      "26/26 [==============================] - 1s 20ms/step - loss: 4.1626e-04 - mean_squared_error: 4.1626e-04\n",
      "1/1 [==============================] - 0s 27ms/step\n"
     ]
    },
    {
     "data": {
      "text/plain": [
       "array([[47841.305]], dtype=float32)"
      ]
     },
     "metadata": {},
     "output_type": "display_data"
    },
    {
     "name": "stdout",
     "output_type": "stream",
     "text": [
      "Epoch 1/5\n",
      "26/26 [==============================] - 1s 24ms/step - loss: 4.4245e-04 - mean_squared_error: 4.4245e-04\n",
      "Epoch 2/5\n",
      "26/26 [==============================] - 0s 17ms/step - loss: 4.7925e-04 - mean_squared_error: 4.7925e-04\n",
      "Epoch 3/5\n",
      "26/26 [==============================] - 0s 17ms/step - loss: 5.2427e-04 - mean_squared_error: 5.2427e-04\n",
      "Epoch 4/5\n",
      "26/26 [==============================] - 0s 17ms/step - loss: 4.3324e-04 - mean_squared_error: 4.3324e-04\n",
      "Epoch 5/5\n",
      "26/26 [==============================] - 0s 17ms/step - loss: 4.3192e-04 - mean_squared_error: 4.3192e-04\n",
      "1/1 [==============================] - 0s 22ms/step\n"
     ]
    },
    {
     "data": {
      "text/plain": [
       "array([[47881.63]], dtype=float32)"
      ]
     },
     "metadata": {},
     "output_type": "display_data"
    },
    {
     "name": "stdout",
     "output_type": "stream",
     "text": [
      "Epoch 1/5\n",
      "26/26 [==============================] - 0s 17ms/step - loss: 4.8185e-04 - mean_squared_error: 4.8185e-04\n",
      "Epoch 2/5\n",
      "26/26 [==============================] - 0s 17ms/step - loss: 4.6925e-04 - mean_squared_error: 4.6925e-04\n",
      "Epoch 3/5\n",
      "26/26 [==============================] - 0s 17ms/step - loss: 4.6843e-04 - mean_squared_error: 4.6843e-04\n",
      "Epoch 4/5\n",
      "26/26 [==============================] - 0s 17ms/step - loss: 4.7081e-04 - mean_squared_error: 4.7081e-04\n",
      "Epoch 5/5\n",
      "26/26 [==============================] - 0s 16ms/step - loss: 4.4510e-04 - mean_squared_error: 4.4510e-04\n",
      "1/1 [==============================] - 0s 24ms/step\n"
     ]
    },
    {
     "data": {
      "text/plain": [
       "array([[48203.94]], dtype=float32)"
      ]
     },
     "metadata": {},
     "output_type": "display_data"
    },
    {
     "name": "stdout",
     "output_type": "stream",
     "text": [
      "Epoch 1/5\n",
      "26/26 [==============================] - 0s 17ms/step - loss: 4.3274e-04 - mean_squared_error: 4.3274e-04\n",
      "Epoch 2/5\n",
      "26/26 [==============================] - 0s 16ms/step - loss: 5.8165e-04 - mean_squared_error: 5.8165e-04\n",
      "Epoch 3/5\n",
      "26/26 [==============================] - 0s 17ms/step - loss: 4.8012e-04 - mean_squared_error: 4.8012e-04\n",
      "Epoch 4/5\n",
      "26/26 [==============================] - 0s 16ms/step - loss: 4.4586e-04 - mean_squared_error: 4.4586e-04\n",
      "Epoch 5/5\n",
      "26/26 [==============================] - 0s 17ms/step - loss: 4.2233e-04 - mean_squared_error: 4.2233e-04\n",
      "1/1 [==============================] - 0s 22ms/step\n"
     ]
    },
    {
     "data": {
      "text/plain": [
       "array([[47872.773]], dtype=float32)"
      ]
     },
     "metadata": {},
     "output_type": "display_data"
    },
    {
     "name": "stdout",
     "output_type": "stream",
     "text": [
      "Epoch 1/5\n",
      "26/26 [==============================] - 0s 17ms/step - loss: 4.4254e-04 - mean_squared_error: 4.4254e-04\n",
      "Epoch 2/5\n",
      "26/26 [==============================] - 0s 17ms/step - loss: 4.6570e-04 - mean_squared_error: 4.6570e-04\n",
      "Epoch 3/5\n",
      "26/26 [==============================] - 0s 17ms/step - loss: 5.7544e-04 - mean_squared_error: 5.7544e-04\n",
      "Epoch 4/5\n",
      "26/26 [==============================] - 0s 17ms/step - loss: 5.1685e-04 - mean_squared_error: 5.1685e-04\n",
      "Epoch 5/5\n",
      "26/26 [==============================] - 0s 16ms/step - loss: 4.4109e-04 - mean_squared_error: 4.4109e-04\n",
      "1/1 [==============================] - 0s 23ms/step\n"
     ]
    },
    {
     "data": {
      "text/plain": [
       "array([[48729.465]], dtype=float32)"
      ]
     },
     "metadata": {},
     "output_type": "display_data"
    },
    {
     "name": "stdout",
     "output_type": "stream",
     "text": [
      "Epoch 1/5\n",
      "26/26 [==============================] - 0s 17ms/step - loss: 4.7141e-04 - mean_squared_error: 4.7141e-04\n",
      "Epoch 2/5\n",
      "26/26 [==============================] - 0s 17ms/step - loss: 4.4045e-04 - mean_squared_error: 4.4045e-04\n",
      "Epoch 3/5\n",
      "26/26 [==============================] - 0s 17ms/step - loss: 4.1171e-04 - mean_squared_error: 4.1171e-04\n",
      "Epoch 4/5\n",
      "26/26 [==============================] - 0s 16ms/step - loss: 4.3568e-04 - mean_squared_error: 4.3568e-04\n",
      "Epoch 5/5\n",
      "26/26 [==============================] - 0s 17ms/step - loss: 4.2077e-04 - mean_squared_error: 4.2077e-04\n",
      "1/1 [==============================] - 0s 22ms/step\n"
     ]
    },
    {
     "data": {
      "text/plain": [
       "array([[47494.89]], dtype=float32)"
      ]
     },
     "metadata": {},
     "output_type": "display_data"
    },
    {
     "name": "stdout",
     "output_type": "stream",
     "text": [
      "Epoch 1/5\n",
      "26/26 [==============================] - 0s 17ms/step - loss: 4.6774e-04 - mean_squared_error: 4.6774e-04\n",
      "Epoch 2/5\n",
      "26/26 [==============================] - 0s 17ms/step - loss: 4.8070e-04 - mean_squared_error: 4.8070e-04\n",
      "Epoch 3/5\n",
      "26/26 [==============================] - 0s 17ms/step - loss: 4.1694e-04 - mean_squared_error: 4.1694e-04\n",
      "Epoch 4/5\n",
      "26/26 [==============================] - 0s 16ms/step - loss: 4.4838e-04 - mean_squared_error: 4.4838e-04\n",
      "Epoch 5/5\n",
      "26/26 [==============================] - 0s 16ms/step - loss: 4.2085e-04 - mean_squared_error: 4.2085e-04\n",
      "1/1 [==============================] - 0s 22ms/step\n"
     ]
    },
    {
     "data": {
      "text/plain": [
       "array([[49076.992]], dtype=float32)"
      ]
     },
     "metadata": {},
     "output_type": "display_data"
    },
    {
     "name": "stdout",
     "output_type": "stream",
     "text": [
      "Epoch 1/5\n",
      "26/26 [==============================] - 0s 17ms/step - loss: 4.2154e-04 - mean_squared_error: 4.2154e-04\n",
      "Epoch 2/5\n",
      "26/26 [==============================] - 0s 17ms/step - loss: 4.2986e-04 - mean_squared_error: 4.2986e-04\n",
      "Epoch 3/5\n",
      "26/26 [==============================] - 0s 17ms/step - loss: 4.5166e-04 - mean_squared_error: 4.5166e-04\n",
      "Epoch 4/5\n",
      "26/26 [==============================] - 0s 17ms/step - loss: 4.5362e-04 - mean_squared_error: 4.5362e-04\n",
      "Epoch 5/5\n",
      "26/26 [==============================] - 0s 16ms/step - loss: 4.2615e-04 - mean_squared_error: 4.2615e-04\n",
      "1/1 [==============================] - 0s 23ms/step\n"
     ]
    },
    {
     "data": {
      "text/plain": [
       "array([[48885.223]], dtype=float32)"
      ]
     },
     "metadata": {},
     "output_type": "display_data"
    },
    {
     "name": "stdout",
     "output_type": "stream",
     "text": [
      "Epoch 1/5\n",
      "26/26 [==============================] - 0s 17ms/step - loss: 4.2928e-04 - mean_squared_error: 4.2928e-04\n",
      "Epoch 2/5\n",
      "26/26 [==============================] - 0s 18ms/step - loss: 4.2322e-04 - mean_squared_error: 4.2322e-04\n",
      "Epoch 3/5\n",
      "26/26 [==============================] - 0s 17ms/step - loss: 4.4901e-04 - mean_squared_error: 4.4901e-04\n",
      "Epoch 4/5\n",
      "26/26 [==============================] - 0s 17ms/step - loss: 4.6527e-04 - mean_squared_error: 4.6527e-04\n",
      "Epoch 5/5\n",
      "26/26 [==============================] - 0s 17ms/step - loss: 4.3905e-04 - mean_squared_error: 4.3905e-04\n",
      "1/1 [==============================] - 0s 23ms/step\n"
     ]
    },
    {
     "data": {
      "text/plain": [
       "array([[47599.734]], dtype=float32)"
      ]
     },
     "metadata": {},
     "output_type": "display_data"
    },
    {
     "name": "stdout",
     "output_type": "stream",
     "text": [
      "Epoch 1/5\n",
      "27/27 [==============================] - 0s 17ms/step - loss: 4.6490e-04 - mean_squared_error: 4.6490e-04\n",
      "Epoch 2/5\n",
      "27/27 [==============================] - 0s 17ms/step - loss: 4.1397e-04 - mean_squared_error: 4.1397e-04\n",
      "Epoch 3/5\n",
      "27/27 [==============================] - 0s 17ms/step - loss: 4.2237e-04 - mean_squared_error: 4.2237e-04\n",
      "Epoch 4/5\n",
      "27/27 [==============================] - 0s 17ms/step - loss: 3.8357e-04 - mean_squared_error: 3.8357e-04\n",
      "Epoch 5/5\n",
      "27/27 [==============================] - 0s 17ms/step - loss: 7.0372e-04 - mean_squared_error: 7.0372e-04\n",
      "1/1 [==============================] - 0s 22ms/step\n"
     ]
    },
    {
     "data": {
      "text/plain": [
       "array([[47352.418]], dtype=float32)"
      ]
     },
     "metadata": {},
     "output_type": "display_data"
    },
    {
     "name": "stdout",
     "output_type": "stream",
     "text": [
      "Epoch 1/5\n",
      "27/27 [==============================] - 0s 17ms/step - loss: 4.7153e-04 - mean_squared_error: 4.7153e-04\n",
      "Epoch 2/5\n",
      "27/27 [==============================] - 0s 17ms/step - loss: 3.9189e-04 - mean_squared_error: 3.9189e-04\n",
      "Epoch 3/5\n",
      "27/27 [==============================] - 0s 17ms/step - loss: 4.1669e-04 - mean_squared_error: 4.1669e-04\n",
      "Epoch 4/5\n",
      "27/27 [==============================] - 0s 17ms/step - loss: 4.4073e-04 - mean_squared_error: 4.4073e-04\n",
      "Epoch 5/5\n",
      "27/27 [==============================] - 0s 17ms/step - loss: 4.1692e-04 - mean_squared_error: 4.1692e-04\n",
      "1/1 [==============================] - 0s 23ms/step\n"
     ]
    },
    {
     "data": {
      "text/plain": [
       "array([[47624.13]], dtype=float32)"
      ]
     },
     "metadata": {},
     "output_type": "display_data"
    },
    {
     "name": "stdout",
     "output_type": "stream",
     "text": [
      "Epoch 1/5\n",
      "27/27 [==============================] - 0s 17ms/step - loss: 4.0276e-04 - mean_squared_error: 4.0276e-04\n",
      "Epoch 2/5\n",
      "27/27 [==============================] - 0s 16ms/step - loss: 4.2431e-04 - mean_squared_error: 4.2431e-04\n",
      "Epoch 3/5\n",
      "27/27 [==============================] - 0s 17ms/step - loss: 4.0822e-04 - mean_squared_error: 4.0822e-04\n",
      "Epoch 4/5\n",
      "27/27 [==============================] - 0s 17ms/step - loss: 4.9751e-04 - mean_squared_error: 4.9751e-04\n",
      "Epoch 5/5\n",
      "27/27 [==============================] - 0s 17ms/step - loss: 3.9824e-04 - mean_squared_error: 3.9824e-04\n",
      "1/1 [==============================] - 0s 22ms/step\n"
     ]
    },
    {
     "data": {
      "text/plain": [
       "array([[47498.29]], dtype=float32)"
      ]
     },
     "metadata": {},
     "output_type": "display_data"
    },
    {
     "name": "stdout",
     "output_type": "stream",
     "text": [
      "Epoch 1/5\n",
      "27/27 [==============================] - 0s 17ms/step - loss: 4.2545e-04 - mean_squared_error: 4.2545e-04\n",
      "Epoch 2/5\n",
      "27/27 [==============================] - 0s 17ms/step - loss: 4.1198e-04 - mean_squared_error: 4.1198e-04\n",
      "Epoch 3/5\n",
      "27/27 [==============================] - 0s 17ms/step - loss: 4.3553e-04 - mean_squared_error: 4.3553e-04\n",
      "Epoch 4/5\n",
      "27/27 [==============================] - 0s 17ms/step - loss: 4.2391e-04 - mean_squared_error: 4.2391e-04\n",
      "Epoch 5/5\n",
      "27/27 [==============================] - 0s 17ms/step - loss: 4.8429e-04 - mean_squared_error: 4.8429e-04\n",
      "1/1 [==============================] - 0s 22ms/step\n"
     ]
    },
    {
     "data": {
      "text/plain": [
       "array([[47209.66]], dtype=float32)"
      ]
     },
     "metadata": {},
     "output_type": "display_data"
    },
    {
     "name": "stdout",
     "output_type": "stream",
     "text": [
      "Epoch 1/5\n",
      "27/27 [==============================] - 0s 18ms/step - loss: 3.9133e-04 - mean_squared_error: 3.9133e-04\n",
      "Epoch 2/5\n",
      "27/27 [==============================] - 0s 17ms/step - loss: 3.9243e-04 - mean_squared_error: 3.9243e-04\n",
      "Epoch 3/5\n",
      "27/27 [==============================] - 0s 17ms/step - loss: 4.3494e-04 - mean_squared_error: 4.3494e-04\n",
      "Epoch 4/5\n",
      "27/27 [==============================] - 0s 17ms/step - loss: 4.2099e-04 - mean_squared_error: 4.2099e-04\n",
      "Epoch 5/5\n",
      "27/27 [==============================] - 0s 17ms/step - loss: 4.1622e-04 - mean_squared_error: 4.1622e-04\n",
      "1/1 [==============================] - 0s 23ms/step\n"
     ]
    },
    {
     "data": {
      "text/plain": [
       "array([[47173.484]], dtype=float32)"
      ]
     },
     "metadata": {},
     "output_type": "display_data"
    },
    {
     "name": "stdout",
     "output_type": "stream",
     "text": [
      "Epoch 1/5\n",
      "27/27 [==============================] - 0s 17ms/step - loss: 4.4463e-04 - mean_squared_error: 4.4463e-04\n",
      "Epoch 2/5\n",
      "27/27 [==============================] - 0s 17ms/step - loss: 4.2478e-04 - mean_squared_error: 4.2478e-04\n",
      "Epoch 3/5\n",
      "27/27 [==============================] - 0s 17ms/step - loss: 3.8804e-04 - mean_squared_error: 3.8804e-04\n",
      "Epoch 4/5\n",
      "27/27 [==============================] - 0s 16ms/step - loss: 3.9121e-04 - mean_squared_error: 3.9121e-04\n",
      "Epoch 5/5\n",
      "27/27 [==============================] - 0s 18ms/step - loss: 4.4066e-04 - mean_squared_error: 4.4066e-04\n",
      "1/1 [==============================] - 0s 22ms/step\n"
     ]
    },
    {
     "data": {
      "text/plain": [
       "array([[47224.543]], dtype=float32)"
      ]
     },
     "metadata": {},
     "output_type": "display_data"
    },
    {
     "name": "stdout",
     "output_type": "stream",
     "text": [
      "Epoch 1/5\n",
      "27/27 [==============================] - 0s 17ms/step - loss: 4.9361e-04 - mean_squared_error: 4.9361e-04\n",
      "Epoch 2/5\n",
      "27/27 [==============================] - 0s 17ms/step - loss: 4.2899e-04 - mean_squared_error: 4.2899e-04\n",
      "Epoch 3/5\n",
      "27/27 [==============================] - 0s 17ms/step - loss: 4.9669e-04 - mean_squared_error: 4.9669e-04\n",
      "Epoch 4/5\n",
      "27/27 [==============================] - 0s 17ms/step - loss: 4.6926e-04 - mean_squared_error: 4.6926e-04\n",
      "Epoch 5/5\n",
      "27/27 [==============================] - 0s 16ms/step - loss: 4.0852e-04 - mean_squared_error: 4.0852e-04\n",
      "1/1 [==============================] - 0s 22ms/step\n"
     ]
    },
    {
     "data": {
      "text/plain": [
       "array([[46695.867]], dtype=float32)"
      ]
     },
     "metadata": {},
     "output_type": "display_data"
    },
    {
     "name": "stdout",
     "output_type": "stream",
     "text": [
      "Epoch 1/5\n",
      "27/27 [==============================] - 0s 17ms/step - loss: 3.7727e-04 - mean_squared_error: 3.7727e-04\n",
      "Epoch 2/5\n",
      "27/27 [==============================] - 0s 17ms/step - loss: 4.8248e-04 - mean_squared_error: 4.8248e-04\n",
      "Epoch 3/5\n",
      "27/27 [==============================] - 0s 17ms/step - loss: 4.4093e-04 - mean_squared_error: 4.4093e-04\n",
      "Epoch 4/5\n",
      "27/27 [==============================] - 0s 17ms/step - loss: 4.0067e-04 - mean_squared_error: 4.0067e-04\n",
      "Epoch 5/5\n",
      "27/27 [==============================] - 0s 17ms/step - loss: 3.8008e-04 - mean_squared_error: 3.8008e-04\n",
      "1/1 [==============================] - 0s 23ms/step\n"
     ]
    },
    {
     "data": {
      "text/plain": [
       "array([[47318.227]], dtype=float32)"
      ]
     },
     "metadata": {},
     "output_type": "display_data"
    },
    {
     "name": "stdout",
     "output_type": "stream",
     "text": [
      "Epoch 1/5\n",
      "27/27 [==============================] - 0s 17ms/step - loss: 3.9203e-04 - mean_squared_error: 3.9203e-04\n",
      "Epoch 2/5\n",
      "27/27 [==============================] - 0s 17ms/step - loss: 4.3890e-04 - mean_squared_error: 4.3890e-04\n",
      "Epoch 3/5\n",
      "27/27 [==============================] - 1s 19ms/step - loss: 4.7686e-04 - mean_squared_error: 4.7686e-04\n",
      "Epoch 4/5\n",
      "27/27 [==============================] - 1s 19ms/step - loss: 4.2692e-04 - mean_squared_error: 4.2692e-04\n",
      "Epoch 5/5\n",
      "27/27 [==============================] - 1s 19ms/step - loss: 4.3740e-04 - mean_squared_error: 4.3740e-04\n",
      "1/1 [==============================] - 0s 27ms/step\n"
     ]
    },
    {
     "data": {
      "text/plain": [
       "array([[47590.754]], dtype=float32)"
      ]
     },
     "metadata": {},
     "output_type": "display_data"
    },
    {
     "name": "stdout",
     "output_type": "stream",
     "text": [
      "Epoch 1/5\n",
      "27/27 [==============================] - 0s 17ms/step - loss: 4.0059e-04 - mean_squared_error: 4.0059e-04\n",
      "Epoch 2/5\n",
      "27/27 [==============================] - 0s 17ms/step - loss: 3.7588e-04 - mean_squared_error: 3.7588e-04\n",
      "Epoch 3/5\n",
      "27/27 [==============================] - 0s 17ms/step - loss: 3.7972e-04 - mean_squared_error: 3.7972e-04\n",
      "Epoch 4/5\n",
      "27/27 [==============================] - 0s 17ms/step - loss: 3.7724e-04 - mean_squared_error: 3.7724e-04\n",
      "Epoch 5/5\n",
      "27/27 [==============================] - 0s 17ms/step - loss: 4.7920e-04 - mean_squared_error: 4.7920e-04\n",
      "1/1 [==============================] - 0s 23ms/step\n"
     ]
    },
    {
     "data": {
      "text/plain": [
       "array([[47891.832]], dtype=float32)"
      ]
     },
     "metadata": {},
     "output_type": "display_data"
    },
    {
     "name": "stdout",
     "output_type": "stream",
     "text": [
      "Epoch 1/5\n",
      "27/27 [==============================] - 0s 17ms/step - loss: 4.4484e-04 - mean_squared_error: 4.4484e-04\n",
      "Epoch 2/5\n",
      "27/27 [==============================] - 0s 17ms/step - loss: 4.0705e-04 - mean_squared_error: 4.0705e-04\n",
      "Epoch 3/5\n",
      "27/27 [==============================] - 1s 19ms/step - loss: 5.3096e-04 - mean_squared_error: 5.3096e-04\n",
      "Epoch 4/5\n",
      "27/27 [==============================] - 1s 21ms/step - loss: 4.6130e-04 - mean_squared_error: 4.6130e-04\n",
      "Epoch 5/5\n",
      "27/27 [==============================] - 1s 20ms/step - loss: 3.9103e-04 - mean_squared_error: 3.9103e-04\n",
      "1/1 [==============================] - 0s 23ms/step\n"
     ]
    },
    {
     "data": {
      "text/plain": [
       "array([[48747.438]], dtype=float32)"
      ]
     },
     "metadata": {},
     "output_type": "display_data"
    },
    {
     "name": "stdout",
     "output_type": "stream",
     "text": [
      "Epoch 1/5\n",
      "27/27 [==============================] - 0s 17ms/step - loss: 3.7944e-04 - mean_squared_error: 3.7944e-04\n",
      "Epoch 2/5\n",
      "27/27 [==============================] - 0s 17ms/step - loss: 3.6197e-04 - mean_squared_error: 3.6197e-04\n",
      "Epoch 3/5\n",
      "27/27 [==============================] - 0s 17ms/step - loss: 3.9077e-04 - mean_squared_error: 3.9077e-04\n",
      "Epoch 4/5\n",
      "27/27 [==============================] - 0s 17ms/step - loss: 4.9149e-04 - mean_squared_error: 4.9149e-04\n",
      "Epoch 5/5\n",
      "27/27 [==============================] - 0s 17ms/step - loss: 3.8538e-04 - mean_squared_error: 3.8538e-04\n",
      "1/1 [==============================] - 0s 24ms/step\n"
     ]
    },
    {
     "data": {
      "text/plain": [
       "array([[48976.336]], dtype=float32)"
      ]
     },
     "metadata": {},
     "output_type": "display_data"
    },
    {
     "name": "stdout",
     "output_type": "stream",
     "text": [
      "Epoch 1/5\n",
      "27/27 [==============================] - 0s 17ms/step - loss: 4.0865e-04 - mean_squared_error: 4.0865e-04\n",
      "Epoch 2/5\n",
      "27/27 [==============================] - 0s 17ms/step - loss: 3.9715e-04 - mean_squared_error: 3.9715e-04\n",
      "Epoch 3/5\n",
      "27/27 [==============================] - 0s 17ms/step - loss: 4.0064e-04 - mean_squared_error: 4.0064e-04\n",
      "Epoch 4/5\n",
      "27/27 [==============================] - 0s 17ms/step - loss: 5.0142e-04 - mean_squared_error: 5.0142e-04\n",
      "Epoch 5/5\n",
      "27/27 [==============================] - 0s 17ms/step - loss: 4.1295e-04 - mean_squared_error: 4.1295e-04\n",
      "1/1 [==============================] - 0s 22ms/step\n"
     ]
    },
    {
     "data": {
      "text/plain": [
       "array([[49866.016]], dtype=float32)"
      ]
     },
     "metadata": {},
     "output_type": "display_data"
    },
    {
     "name": "stdout",
     "output_type": "stream",
     "text": [
      "Epoch 1/5\n",
      "27/27 [==============================] - 0s 17ms/step - loss: 4.2016e-04 - mean_squared_error: 4.2016e-04\n",
      "Epoch 2/5\n",
      "27/27 [==============================] - 0s 16ms/step - loss: 4.6968e-04 - mean_squared_error: 4.6968e-04\n",
      "Epoch 3/5\n",
      "27/27 [==============================] - 0s 16ms/step - loss: 3.8006e-04 - mean_squared_error: 3.8006e-04\n",
      "Epoch 4/5\n",
      "27/27 [==============================] - 0s 17ms/step - loss: 4.1406e-04 - mean_squared_error: 4.1406e-04\n",
      "Epoch 5/5\n",
      "27/27 [==============================] - 0s 17ms/step - loss: 3.7714e-04 - mean_squared_error: 3.7714e-04\n",
      "1/1 [==============================] - 0s 105ms/step\n"
     ]
    },
    {
     "data": {
      "text/plain": [
       "array([[49611.535]], dtype=float32)"
      ]
     },
     "metadata": {},
     "output_type": "display_data"
    },
    {
     "name": "stdout",
     "output_type": "stream",
     "text": [
      "Epoch 1/5\n",
      "27/27 [==============================] - 0s 17ms/step - loss: 3.8962e-04 - mean_squared_error: 3.8962e-04\n",
      "Epoch 2/5\n",
      "27/27 [==============================] - 0s 16ms/step - loss: 3.9790e-04 - mean_squared_error: 3.9790e-04\n",
      "Epoch 3/5\n",
      "27/27 [==============================] - 0s 18ms/step - loss: 4.2336e-04 - mean_squared_error: 4.2336e-04\n",
      "Epoch 4/5\n",
      "27/27 [==============================] - 0s 18ms/step - loss: 3.8864e-04 - mean_squared_error: 3.8864e-04\n",
      "Epoch 5/5\n",
      "27/27 [==============================] - 0s 18ms/step - loss: 3.8817e-04 - mean_squared_error: 3.8817e-04\n",
      "1/1 [==============================] - 0s 29ms/step\n"
     ]
    },
    {
     "data": {
      "text/plain": [
       "array([[50276.09]], dtype=float32)"
      ]
     },
     "metadata": {},
     "output_type": "display_data"
    },
    {
     "name": "stdout",
     "output_type": "stream",
     "text": [
      "Epoch 1/5\n",
      "27/27 [==============================] - 1s 31ms/step - loss: 3.9462e-04 - mean_squared_error: 3.9462e-04\n",
      "Epoch 2/5\n",
      "27/27 [==============================] - 1s 20ms/step - loss: 3.6674e-04 - mean_squared_error: 3.6674e-04\n",
      "Epoch 3/5\n",
      "27/27 [==============================] - 1s 20ms/step - loss: 4.1332e-04 - mean_squared_error: 4.1332e-04\n",
      "Epoch 4/5\n",
      "27/27 [==============================] - 0s 17ms/step - loss: 3.6231e-04 - mean_squared_error: 3.6231e-04\n",
      "Epoch 5/5\n",
      "27/27 [==============================] - 0s 17ms/step - loss: 4.0070e-04 - mean_squared_error: 4.0070e-04\n",
      "1/1 [==============================] - 0s 23ms/step\n"
     ]
    },
    {
     "data": {
      "text/plain": [
       "array([[50014.938]], dtype=float32)"
      ]
     },
     "metadata": {},
     "output_type": "display_data"
    },
    {
     "name": "stdout",
     "output_type": "stream",
     "text": [
      "Epoch 1/5\n",
      "27/27 [==============================] - 0s 17ms/step - loss: 4.7744e-04 - mean_squared_error: 4.7744e-04\n",
      "Epoch 2/5\n",
      "27/27 [==============================] - 0s 16ms/step - loss: 4.3413e-04 - mean_squared_error: 4.3413e-04\n",
      "Epoch 3/5\n",
      "27/27 [==============================] - 0s 16ms/step - loss: 4.0932e-04 - mean_squared_error: 4.0932e-04\n",
      "Epoch 4/5\n",
      "27/27 [==============================] - 0s 17ms/step - loss: 3.7082e-04 - mean_squared_error: 3.7082e-04\n",
      "Epoch 5/5\n",
      "27/27 [==============================] - 0s 17ms/step - loss: 4.0084e-04 - mean_squared_error: 4.0084e-04\n",
      "1/1 [==============================] - 0s 23ms/step\n"
     ]
    },
    {
     "data": {
      "text/plain": [
       "array([[49723.68]], dtype=float32)"
      ]
     },
     "metadata": {},
     "output_type": "display_data"
    },
    {
     "name": "stdout",
     "output_type": "stream",
     "text": [
      "Epoch 1/5\n",
      "27/27 [==============================] - 0s 17ms/step - loss: 4.1564e-04 - mean_squared_error: 4.1564e-04\n",
      "Epoch 2/5\n",
      "27/27 [==============================] - 0s 17ms/step - loss: 3.5036e-04 - mean_squared_error: 3.5036e-04\n",
      "Epoch 3/5\n",
      "27/27 [==============================] - 0s 17ms/step - loss: 3.9421e-04 - mean_squared_error: 3.9421e-04\n",
      "Epoch 4/5\n",
      "27/27 [==============================] - 0s 17ms/step - loss: 4.2794e-04 - mean_squared_error: 4.2794e-04\n",
      "Epoch 5/5\n",
      "27/27 [==============================] - 0s 17ms/step - loss: 4.3520e-04 - mean_squared_error: 4.3520e-04\n",
      "1/1 [==============================] - 0s 23ms/step\n"
     ]
    },
    {
     "data": {
      "text/plain": [
       "array([[48838.918]], dtype=float32)"
      ]
     },
     "metadata": {},
     "output_type": "display_data"
    },
    {
     "name": "stdout",
     "output_type": "stream",
     "text": [
      "Epoch 1/5\n",
      "27/27 [==============================] - 0s 17ms/step - loss: 4.6458e-04 - mean_squared_error: 4.6458e-04\n",
      "Epoch 2/5\n",
      "27/27 [==============================] - 0s 17ms/step - loss: 3.8803e-04 - mean_squared_error: 3.8803e-04\n",
      "Epoch 3/5\n",
      "27/27 [==============================] - 0s 17ms/step - loss: 3.7891e-04 - mean_squared_error: 3.7891e-04\n",
      "Epoch 4/5\n",
      "27/27 [==============================] - 0s 17ms/step - loss: 4.1677e-04 - mean_squared_error: 4.1677e-04\n",
      "Epoch 5/5\n",
      "27/27 [==============================] - 0s 17ms/step - loss: 3.8373e-04 - mean_squared_error: 3.8373e-04\n",
      "1/1 [==============================] - 0s 23ms/step\n"
     ]
    },
    {
     "data": {
      "text/plain": [
       "array([[48733.387]], dtype=float32)"
      ]
     },
     "metadata": {},
     "output_type": "display_data"
    },
    {
     "name": "stdout",
     "output_type": "stream",
     "text": [
      "Epoch 1/5\n",
      "27/27 [==============================] - 0s 17ms/step - loss: 4.4713e-04 - mean_squared_error: 4.4713e-04\n",
      "Epoch 2/5\n",
      "27/27 [==============================] - 0s 17ms/step - loss: 4.0803e-04 - mean_squared_error: 4.0803e-04\n",
      "Epoch 3/5\n",
      "27/27 [==============================] - 0s 17ms/step - loss: 3.7213e-04 - mean_squared_error: 3.7213e-04\n",
      "Epoch 4/5\n",
      "27/27 [==============================] - 0s 17ms/step - loss: 3.9658e-04 - mean_squared_error: 3.9658e-04\n",
      "Epoch 5/5\n",
      "27/27 [==============================] - 0s 17ms/step - loss: 4.2122e-04 - mean_squared_error: 4.2122e-04\n",
      "1/1 [==============================] - 0s 22ms/step\n"
     ]
    },
    {
     "data": {
      "text/plain": [
       "array([[49630.96]], dtype=float32)"
      ]
     },
     "metadata": {},
     "output_type": "display_data"
    },
    {
     "name": "stdout",
     "output_type": "stream",
     "text": [
      "Epoch 1/5\n",
      "27/27 [==============================] - 0s 17ms/step - loss: 3.8432e-04 - mean_squared_error: 3.8432e-04\n",
      "Epoch 2/5\n",
      "27/27 [==============================] - 0s 17ms/step - loss: 3.8816e-04 - mean_squared_error: 3.8816e-04\n",
      "Epoch 3/5\n",
      "27/27 [==============================] - 0s 17ms/step - loss: 3.7194e-04 - mean_squared_error: 3.7194e-04\n",
      "Epoch 4/5\n",
      "27/27 [==============================] - 0s 17ms/step - loss: 3.7570e-04 - mean_squared_error: 3.7570e-04\n",
      "Epoch 5/5\n",
      "27/27 [==============================] - 0s 17ms/step - loss: 3.9116e-04 - mean_squared_error: 3.9116e-04\n",
      "1/1 [==============================] - 0s 22ms/step\n"
     ]
    },
    {
     "data": {
      "text/plain": [
       "array([[49693.66]], dtype=float32)"
      ]
     },
     "metadata": {},
     "output_type": "display_data"
    },
    {
     "name": "stdout",
     "output_type": "stream",
     "text": [
      "Epoch 1/5\n",
      "27/27 [==============================] - 0s 17ms/step - loss: 3.7114e-04 - mean_squared_error: 3.7114e-04\n",
      "Epoch 2/5\n",
      "27/27 [==============================] - 0s 17ms/step - loss: 4.5743e-04 - mean_squared_error: 4.5743e-04\n",
      "Epoch 3/5\n",
      "27/27 [==============================] - 0s 17ms/step - loss: 3.9412e-04 - mean_squared_error: 3.9412e-04\n",
      "Epoch 4/5\n",
      "27/27 [==============================] - 0s 17ms/step - loss: 3.9857e-04 - mean_squared_error: 3.9857e-04\n",
      "Epoch 5/5\n",
      "27/27 [==============================] - 0s 17ms/step - loss: 3.7703e-04 - mean_squared_error: 3.7703e-04\n",
      "1/1 [==============================] - 0s 24ms/step\n"
     ]
    },
    {
     "data": {
      "text/plain": [
       "array([[50158.965]], dtype=float32)"
      ]
     },
     "metadata": {},
     "output_type": "display_data"
    },
    {
     "name": "stdout",
     "output_type": "stream",
     "text": [
      "Epoch 1/5\n",
      "27/27 [==============================] - 0s 17ms/step - loss: 4.7148e-04 - mean_squared_error: 4.7148e-04\n",
      "Epoch 2/5\n",
      "27/27 [==============================] - 0s 17ms/step - loss: 4.1221e-04 - mean_squared_error: 4.1221e-04\n",
      "Epoch 3/5\n",
      "27/27 [==============================] - 0s 17ms/step - loss: 3.8887e-04 - mean_squared_error: 3.8887e-04\n",
      "Epoch 4/5\n",
      "27/27 [==============================] - 0s 17ms/step - loss: 4.3709e-04 - mean_squared_error: 4.3709e-04\n",
      "Epoch 5/5\n",
      "27/27 [==============================] - 0s 17ms/step - loss: 3.9935e-04 - mean_squared_error: 3.9935e-04\n",
      "1/1 [==============================] - 0s 22ms/step\n"
     ]
    },
    {
     "data": {
      "text/plain": [
       "array([[50051.18]], dtype=float32)"
      ]
     },
     "metadata": {},
     "output_type": "display_data"
    },
    {
     "name": "stdout",
     "output_type": "stream",
     "text": [
      "Epoch 1/5\n",
      "27/27 [==============================] - 0s 17ms/step - loss: 3.4420e-04 - mean_squared_error: 3.4420e-04\n",
      "Epoch 2/5\n",
      "27/27 [==============================] - 0s 17ms/step - loss: 3.8279e-04 - mean_squared_error: 3.8279e-04\n",
      "Epoch 3/5\n",
      "27/27 [==============================] - 0s 16ms/step - loss: 3.8535e-04 - mean_squared_error: 3.8535e-04\n",
      "Epoch 4/5\n",
      "27/27 [==============================] - 0s 17ms/step - loss: 3.9848e-04 - mean_squared_error: 3.9848e-04\n",
      "Epoch 5/5\n",
      "27/27 [==============================] - 0s 16ms/step - loss: 3.9029e-04 - mean_squared_error: 3.9029e-04\n",
      "1/1 [==============================] - 0s 22ms/step\n"
     ]
    },
    {
     "data": {
      "text/plain": [
       "array([[50637.36]], dtype=float32)"
      ]
     },
     "metadata": {},
     "output_type": "display_data"
    },
    {
     "name": "stdout",
     "output_type": "stream",
     "text": [
      "Epoch 1/5\n",
      "27/27 [==============================] - 0s 16ms/step - loss: 4.0752e-04 - mean_squared_error: 4.0752e-04\n",
      "Epoch 2/5\n",
      "27/27 [==============================] - 0s 17ms/step - loss: 3.4626e-04 - mean_squared_error: 3.4626e-04\n",
      "Epoch 3/5\n",
      "27/27 [==============================] - 0s 17ms/step - loss: 4.0044e-04 - mean_squared_error: 4.0044e-04\n",
      "Epoch 4/5\n",
      "27/27 [==============================] - 0s 17ms/step - loss: 4.0380e-04 - mean_squared_error: 4.0380e-04\n",
      "Epoch 5/5\n",
      "27/27 [==============================] - 0s 17ms/step - loss: 3.7501e-04 - mean_squared_error: 3.7501e-04\n",
      "1/1 [==============================] - 0s 22ms/step\n"
     ]
    },
    {
     "data": {
      "text/plain": [
       "array([[50569.652]], dtype=float32)"
      ]
     },
     "metadata": {},
     "output_type": "display_data"
    },
    {
     "name": "stdout",
     "output_type": "stream",
     "text": [
      "Epoch 1/5\n",
      "27/27 [==============================] - 0s 16ms/step - loss: 4.0123e-04 - mean_squared_error: 4.0123e-04\n",
      "Epoch 2/5\n",
      "27/27 [==============================] - 0s 17ms/step - loss: 3.8577e-04 - mean_squared_error: 3.8577e-04\n",
      "Epoch 3/5\n",
      "27/27 [==============================] - 0s 16ms/step - loss: 4.0294e-04 - mean_squared_error: 4.0294e-04\n",
      "Epoch 4/5\n",
      "27/27 [==============================] - 0s 17ms/step - loss: 3.4806e-04 - mean_squared_error: 3.4806e-04\n",
      "Epoch 5/5\n",
      "27/27 [==============================] - 0s 17ms/step - loss: 4.1380e-04 - mean_squared_error: 4.1380e-04\n",
      "1/1 [==============================] - 0s 22ms/step\n"
     ]
    },
    {
     "data": {
      "text/plain": [
       "array([[51809.6]], dtype=float32)"
      ]
     },
     "metadata": {},
     "output_type": "display_data"
    },
    {
     "name": "stdout",
     "output_type": "stream",
     "text": [
      "Epoch 1/5\n",
      "27/27 [==============================] - 0s 17ms/step - loss: 4.0465e-04 - mean_squared_error: 4.0465e-04\n",
      "Epoch 2/5\n",
      "27/27 [==============================] - 0s 17ms/step - loss: 4.4295e-04 - mean_squared_error: 4.4295e-04\n",
      "Epoch 3/5\n",
      "27/27 [==============================] - 0s 17ms/step - loss: 4.0336e-04 - mean_squared_error: 4.0336e-04\n",
      "Epoch 4/5\n",
      "27/27 [==============================] - 0s 17ms/step - loss: 3.7557e-04 - mean_squared_error: 3.7557e-04\n",
      "Epoch 5/5\n",
      "27/27 [==============================] - 0s 17ms/step - loss: 3.8330e-04 - mean_squared_error: 3.8330e-04\n",
      "1/1 [==============================] - 0s 24ms/step\n"
     ]
    },
    {
     "data": {
      "text/plain": [
       "array([[52338.508]], dtype=float32)"
      ]
     },
     "metadata": {},
     "output_type": "display_data"
    },
    {
     "name": "stdout",
     "output_type": "stream",
     "text": [
      "Epoch 1/5\n",
      "27/27 [==============================] - 0s 17ms/step - loss: 3.7579e-04 - mean_squared_error: 3.7579e-04\n",
      "Epoch 2/5\n",
      "27/27 [==============================] - 0s 17ms/step - loss: 4.0014e-04 - mean_squared_error: 4.0014e-04\n",
      "Epoch 3/5\n",
      "27/27 [==============================] - 0s 17ms/step - loss: 3.5563e-04 - mean_squared_error: 3.5563e-04\n",
      "Epoch 4/5\n",
      "27/27 [==============================] - 0s 17ms/step - loss: 4.1465e-04 - mean_squared_error: 4.1465e-04\n",
      "Epoch 5/5\n",
      "27/27 [==============================] - 0s 17ms/step - loss: 3.6939e-04 - mean_squared_error: 3.6939e-04\n",
      "1/1 [==============================] - 0s 23ms/step\n"
     ]
    },
    {
     "data": {
      "text/plain": [
       "array([[51960.113]], dtype=float32)"
      ]
     },
     "metadata": {},
     "output_type": "display_data"
    },
    {
     "name": "stdout",
     "output_type": "stream",
     "text": [
      "Epoch 1/5\n",
      "27/27 [==============================] - 0s 17ms/step - loss: 3.6233e-04 - mean_squared_error: 3.6233e-04\n",
      "Epoch 2/5\n",
      "27/27 [==============================] - 0s 17ms/step - loss: 3.7733e-04 - mean_squared_error: 3.7733e-04\n",
      "Epoch 3/5\n",
      "27/27 [==============================] - 0s 17ms/step - loss: 3.9653e-04 - mean_squared_error: 3.9653e-04\n",
      "Epoch 4/5\n",
      "27/27 [==============================] - 0s 17ms/step - loss: 4.0375e-04 - mean_squared_error: 4.0375e-04\n",
      "Epoch 5/5\n",
      "27/27 [==============================] - 0s 17ms/step - loss: 3.8870e-04 - mean_squared_error: 3.8870e-04\n",
      "1/1 [==============================] - 0s 23ms/step\n"
     ]
    },
    {
     "data": {
      "text/plain": [
       "array([[52553.367]], dtype=float32)"
      ]
     },
     "metadata": {},
     "output_type": "display_data"
    },
    {
     "name": "stdout",
     "output_type": "stream",
     "text": [
      "Epoch 1/5\n",
      "27/27 [==============================] - 0s 17ms/step - loss: 3.6421e-04 - mean_squared_error: 3.6421e-04\n",
      "Epoch 2/5\n",
      "27/27 [==============================] - 0s 17ms/step - loss: 4.4696e-04 - mean_squared_error: 4.4696e-04\n",
      "Epoch 3/5\n",
      "27/27 [==============================] - 0s 16ms/step - loss: 4.0182e-04 - mean_squared_error: 4.0182e-04\n",
      "Epoch 4/5\n",
      "27/27 [==============================] - 0s 17ms/step - loss: 3.7475e-04 - mean_squared_error: 3.7475e-04\n",
      "Epoch 5/5\n",
      "27/27 [==============================] - 0s 17ms/step - loss: 3.7451e-04 - mean_squared_error: 3.7451e-04\n",
      "1/1 [==============================] - 0s 25ms/step\n"
     ]
    },
    {
     "data": {
      "text/plain": [
       "array([[53266.004]], dtype=float32)"
      ]
     },
     "metadata": {},
     "output_type": "display_data"
    },
    {
     "name": "stdout",
     "output_type": "stream",
     "text": [
      "Epoch 1/5\n",
      "27/27 [==============================] - 0s 17ms/step - loss: 4.0797e-04 - mean_squared_error: 4.0797e-04\n",
      "Epoch 2/5\n",
      "27/27 [==============================] - 0s 17ms/step - loss: 4.1822e-04 - mean_squared_error: 4.1822e-04\n",
      "Epoch 3/5\n",
      "27/27 [==============================] - 0s 17ms/step - loss: 4.0572e-04 - mean_squared_error: 4.0572e-04\n",
      "Epoch 4/5\n",
      "27/27 [==============================] - 0s 17ms/step - loss: 3.6125e-04 - mean_squared_error: 3.6125e-04\n",
      "Epoch 5/5\n",
      "27/27 [==============================] - 0s 17ms/step - loss: 3.9940e-04 - mean_squared_error: 3.9940e-04\n",
      "1/1 [==============================] - 0s 25ms/step\n"
     ]
    },
    {
     "data": {
      "text/plain": [
       "array([[54155.348]], dtype=float32)"
      ]
     },
     "metadata": {},
     "output_type": "display_data"
    },
    {
     "name": "stdout",
     "output_type": "stream",
     "text": [
      "Epoch 1/5\n",
      "27/27 [==============================] - 0s 17ms/step - loss: 3.8483e-04 - mean_squared_error: 3.8483e-04\n",
      "Epoch 2/5\n",
      "27/27 [==============================] - 0s 18ms/step - loss: 3.4671e-04 - mean_squared_error: 3.4671e-04\n",
      "Epoch 3/5\n",
      "27/27 [==============================] - 1s 21ms/step - loss: 3.5471e-04 - mean_squared_error: 3.5471e-04\n",
      "Epoch 4/5\n",
      "27/27 [==============================] - 1s 20ms/step - loss: 4.5520e-04 - mean_squared_error: 4.5520e-04\n",
      "Epoch 5/5\n",
      "27/27 [==============================] - 1s 20ms/step - loss: 3.6432e-04 - mean_squared_error: 3.6432e-04\n",
      "1/1 [==============================] - 0s 25ms/step\n"
     ]
    },
    {
     "data": {
      "text/plain": [
       "array([[54497.195]], dtype=float32)"
      ]
     },
     "metadata": {},
     "output_type": "display_data"
    },
    {
     "name": "stdout",
     "output_type": "stream",
     "text": [
      "Epoch 1/5\n",
      "28/28 [==============================] - 1s 20ms/step - loss: 3.4540e-04 - mean_squared_error: 3.4540e-04\n",
      "Epoch 2/5\n",
      "28/28 [==============================] - 0s 17ms/step - loss: 4.8793e-04 - mean_squared_error: 4.8793e-04\n",
      "Epoch 3/5\n",
      "28/28 [==============================] - 0s 17ms/step - loss: 3.7597e-04 - mean_squared_error: 3.7597e-04\n",
      "Epoch 4/5\n",
      "28/28 [==============================] - 0s 17ms/step - loss: 3.8787e-04 - mean_squared_error: 3.8787e-04\n",
      "Epoch 5/5\n",
      "28/28 [==============================] - 1s 19ms/step - loss: 4.0301e-04 - mean_squared_error: 4.0301e-04\n",
      "1/1 [==============================] - 0s 27ms/step\n"
     ]
    },
    {
     "data": {
      "text/plain": [
       "array([[54371.89]], dtype=float32)"
      ]
     },
     "metadata": {},
     "output_type": "display_data"
    },
    {
     "name": "stdout",
     "output_type": "stream",
     "text": [
      "Epoch 1/5\n",
      "28/28 [==============================] - 1s 20ms/step - loss: 3.6954e-04 - mean_squared_error: 3.6954e-04\n",
      "Epoch 2/5\n",
      "28/28 [==============================] - 1s 20ms/step - loss: 3.9910e-04 - mean_squared_error: 3.9910e-04\n",
      "Epoch 3/5\n",
      "28/28 [==============================] - 0s 17ms/step - loss: 4.3484e-04 - mean_squared_error: 4.3484e-04\n",
      "Epoch 4/5\n",
      "28/28 [==============================] - 1s 19ms/step - loss: 4.4055e-04 - mean_squared_error: 4.4055e-04\n",
      "Epoch 5/5\n",
      "28/28 [==============================] - 1s 25ms/step - loss: 4.4743e-04 - mean_squared_error: 4.4743e-04\n",
      "1/1 [==============================] - 0s 22ms/step\n"
     ]
    },
    {
     "data": {
      "text/plain": [
       "array([[54316.05]], dtype=float32)"
      ]
     },
     "metadata": {},
     "output_type": "display_data"
    },
    {
     "name": "stdout",
     "output_type": "stream",
     "text": [
      "Epoch 1/5\n",
      "28/28 [==============================] - 0s 17ms/step - loss: 4.0085e-04 - mean_squared_error: 4.0085e-04\n",
      "Epoch 2/5\n",
      "28/28 [==============================] - 0s 17ms/step - loss: 4.9630e-04 - mean_squared_error: 4.9630e-04\n",
      "Epoch 3/5\n",
      "28/28 [==============================] - 0s 17ms/step - loss: 3.8456e-04 - mean_squared_error: 3.8456e-04\n",
      "Epoch 4/5\n",
      "28/28 [==============================] - 0s 17ms/step - loss: 4.2924e-04 - mean_squared_error: 4.2924e-04\n",
      "Epoch 5/5\n",
      "28/28 [==============================] - 0s 17ms/step - loss: 3.8015e-04 - mean_squared_error: 3.8015e-04\n",
      "1/1 [==============================] - 0s 23ms/step\n"
     ]
    },
    {
     "data": {
      "text/plain": [
       "array([[55773.652]], dtype=float32)"
      ]
     },
     "metadata": {},
     "output_type": "display_data"
    },
    {
     "name": "stdout",
     "output_type": "stream",
     "text": [
      "Epoch 1/5\n",
      "28/28 [==============================] - 0s 16ms/step - loss: 4.6161e-04 - mean_squared_error: 4.6161e-04\n",
      "Epoch 2/5\n",
      "28/28 [==============================] - 0s 16ms/step - loss: 4.8340e-04 - mean_squared_error: 4.8340e-04\n",
      "Epoch 3/5\n",
      "28/28 [==============================] - 0s 17ms/step - loss: 4.0232e-04 - mean_squared_error: 4.0232e-04\n",
      "Epoch 4/5\n",
      "28/28 [==============================] - 0s 17ms/step - loss: 3.5857e-04 - mean_squared_error: 3.5857e-04\n",
      "Epoch 5/5\n",
      "28/28 [==============================] - 0s 16ms/step - loss: 3.4018e-04 - mean_squared_error: 3.4018e-04\n",
      "1/1 [==============================] - 0s 22ms/step\n"
     ]
    },
    {
     "data": {
      "text/plain": [
       "array([[55722.92]], dtype=float32)"
      ]
     },
     "metadata": {},
     "output_type": "display_data"
    },
    {
     "name": "stdout",
     "output_type": "stream",
     "text": [
      "Epoch 1/5\n",
      "28/28 [==============================] - 0s 17ms/step - loss: 3.4619e-04 - mean_squared_error: 3.4619e-04\n",
      "Epoch 2/5\n",
      "28/28 [==============================] - 0s 17ms/step - loss: 3.7303e-04 - mean_squared_error: 3.7303e-04\n",
      "Epoch 3/5\n",
      "28/28 [==============================] - 0s 17ms/step - loss: 3.9374e-04 - mean_squared_error: 3.9374e-04\n",
      "Epoch 4/5\n",
      "28/28 [==============================] - 0s 17ms/step - loss: 3.6347e-04 - mean_squared_error: 3.6347e-04\n",
      "Epoch 5/5\n",
      "28/28 [==============================] - 1s 21ms/step - loss: 3.6512e-04 - mean_squared_error: 3.6512e-04\n",
      "1/1 [==============================] - 0s 27ms/step\n"
     ]
    },
    {
     "data": {
      "text/plain": [
       "array([[56200.117]], dtype=float32)"
      ]
     },
     "metadata": {},
     "output_type": "display_data"
    },
    {
     "name": "stdout",
     "output_type": "stream",
     "text": [
      "Epoch 1/5\n",
      "28/28 [==============================] - 1s 18ms/step - loss: 3.5786e-04 - mean_squared_error: 3.5786e-04\n",
      "Epoch 2/5\n",
      "28/28 [==============================] - 0s 17ms/step - loss: 3.6475e-04 - mean_squared_error: 3.6475e-04\n",
      "Epoch 3/5\n",
      "28/28 [==============================] - 1s 19ms/step - loss: 3.6934e-04 - mean_squared_error: 3.6934e-04\n",
      "Epoch 4/5\n",
      "28/28 [==============================] - 1s 19ms/step - loss: 3.8526e-04 - mean_squared_error: 3.8526e-04\n",
      "Epoch 5/5\n",
      "28/28 [==============================] - 1s 19ms/step - loss: 3.5098e-04 - mean_squared_error: 3.5098e-04\n",
      "1/1 [==============================] - 0s 23ms/step\n"
     ]
    },
    {
     "data": {
      "text/plain": [
       "array([[56837.68]], dtype=float32)"
      ]
     },
     "metadata": {},
     "output_type": "display_data"
    },
    {
     "name": "stdout",
     "output_type": "stream",
     "text": [
      "Epoch 1/5\n",
      "28/28 [==============================] - 0s 17ms/step - loss: 3.8430e-04 - mean_squared_error: 3.8430e-04\n",
      "Epoch 2/5\n",
      "28/28 [==============================] - 1s 18ms/step - loss: 3.5182e-04 - mean_squared_error: 3.5182e-04\n",
      "Epoch 3/5\n",
      "28/28 [==============================] - 1s 19ms/step - loss: 3.4908e-04 - mean_squared_error: 3.4908e-04\n",
      "Epoch 4/5\n",
      "28/28 [==============================] - 1s 20ms/step - loss: 3.8295e-04 - mean_squared_error: 3.8295e-04\n",
      "Epoch 5/5\n",
      "28/28 [==============================] - 0s 17ms/step - loss: 3.8386e-04 - mean_squared_error: 3.8386e-04\n",
      "1/1 [==============================] - 0s 22ms/step\n"
     ]
    },
    {
     "data": {
      "text/plain": [
       "array([[58229.348]], dtype=float32)"
      ]
     },
     "metadata": {},
     "output_type": "display_data"
    },
    {
     "name": "stdout",
     "output_type": "stream",
     "text": [
      "Epoch 1/5\n",
      "28/28 [==============================] - 0s 17ms/step - loss: 3.7027e-04 - mean_squared_error: 3.7027e-04\n",
      "Epoch 2/5\n",
      "28/28 [==============================] - 0s 17ms/step - loss: 4.1580e-04 - mean_squared_error: 4.1580e-04\n",
      "Epoch 3/5\n",
      "28/28 [==============================] - 0s 17ms/step - loss: 3.8484e-04 - mean_squared_error: 3.8484e-04\n",
      "Epoch 4/5\n",
      "28/28 [==============================] - 0s 17ms/step - loss: 3.6227e-04 - mean_squared_error: 3.6227e-04\n",
      "Epoch 5/5\n",
      "28/28 [==============================] - 0s 16ms/step - loss: 3.4842e-04 - mean_squared_error: 3.4842e-04\n",
      "1/1 [==============================] - 0s 22ms/step\n"
     ]
    },
    {
     "data": {
      "text/plain": [
       "array([[57648.914]], dtype=float32)"
      ]
     },
     "metadata": {},
     "output_type": "display_data"
    },
    {
     "name": "stdout",
     "output_type": "stream",
     "text": [
      "Epoch 1/5\n",
      "28/28 [==============================] - 0s 17ms/step - loss: 3.4840e-04 - mean_squared_error: 3.4840e-04\n",
      "Epoch 2/5\n",
      "28/28 [==============================] - 0s 17ms/step - loss: 3.6541e-04 - mean_squared_error: 3.6541e-04\n",
      "Epoch 3/5\n",
      "28/28 [==============================] - 0s 17ms/step - loss: 3.8376e-04 - mean_squared_error: 3.8376e-04\n",
      "Epoch 4/5\n",
      "28/28 [==============================] - 0s 16ms/step - loss: 3.5902e-04 - mean_squared_error: 3.5902e-04\n",
      "Epoch 5/5\n",
      "28/28 [==============================] - 0s 17ms/step - loss: 4.4310e-04 - mean_squared_error: 4.4310e-04\n",
      "1/1 [==============================] - 0s 23ms/step\n"
     ]
    },
    {
     "data": {
      "text/plain": [
       "array([[58481.133]], dtype=float32)"
      ]
     },
     "metadata": {},
     "output_type": "display_data"
    },
    {
     "name": "stdout",
     "output_type": "stream",
     "text": [
      "Epoch 1/5\n",
      "28/28 [==============================] - 0s 17ms/step - loss: 3.6024e-04 - mean_squared_error: 3.6024e-04\n",
      "Epoch 2/5\n",
      "28/28 [==============================] - 0s 17ms/step - loss: 3.3445e-04 - mean_squared_error: 3.3445e-04\n",
      "Epoch 3/5\n",
      "28/28 [==============================] - 0s 17ms/step - loss: 3.6299e-04 - mean_squared_error: 3.6299e-04\n",
      "Epoch 4/5\n",
      "28/28 [==============================] - 0s 16ms/step - loss: 3.9646e-04 - mean_squared_error: 3.9646e-04\n",
      "Epoch 5/5\n",
      "28/28 [==============================] - 0s 16ms/step - loss: 3.5474e-04 - mean_squared_error: 3.5474e-04\n",
      "1/1 [==============================] - 0s 23ms/step\n"
     ]
    },
    {
     "data": {
      "text/plain": [
       "array([[58352.28]], dtype=float32)"
      ]
     },
     "metadata": {},
     "output_type": "display_data"
    },
    {
     "name": "stdout",
     "output_type": "stream",
     "text": [
      "Epoch 1/5\n",
      "28/28 [==============================] - 0s 17ms/step - loss: 3.5340e-04 - mean_squared_error: 3.5340e-04\n",
      "Epoch 2/5\n",
      "28/28 [==============================] - 0s 17ms/step - loss: 3.6718e-04 - mean_squared_error: 3.6718e-04\n",
      "Epoch 3/5\n",
      "28/28 [==============================] - 0s 17ms/step - loss: 3.5836e-04 - mean_squared_error: 3.5836e-04\n",
      "Epoch 4/5\n",
      "28/28 [==============================] - 0s 17ms/step - loss: 3.4313e-04 - mean_squared_error: 3.4313e-04\n",
      "Epoch 5/5\n",
      "28/28 [==============================] - 0s 16ms/step - loss: 3.6280e-04 - mean_squared_error: 3.6280e-04\n",
      "1/1 [==============================] - 0s 23ms/step\n"
     ]
    },
    {
     "data": {
      "text/plain": [
       "array([[58445.8]], dtype=float32)"
      ]
     },
     "metadata": {},
     "output_type": "display_data"
    },
    {
     "name": "stdout",
     "output_type": "stream",
     "text": [
      "Epoch 1/5\n",
      "28/28 [==============================] - 0s 17ms/step - loss: 3.8447e-04 - mean_squared_error: 3.8447e-04\n",
      "Epoch 2/5\n",
      "28/28 [==============================] - 0s 17ms/step - loss: 3.7917e-04 - mean_squared_error: 3.7917e-04\n",
      "Epoch 3/5\n",
      "28/28 [==============================] - 0s 17ms/step - loss: 3.7779e-04 - mean_squared_error: 3.7779e-04\n",
      "Epoch 4/5\n",
      "28/28 [==============================] - 0s 17ms/step - loss: 4.3009e-04 - mean_squared_error: 4.3009e-04\n",
      "Epoch 5/5\n",
      "28/28 [==============================] - 0s 17ms/step - loss: 4.6315e-04 - mean_squared_error: 4.6315e-04\n",
      "1/1 [==============================] - 0s 22ms/step\n"
     ]
    },
    {
     "data": {
      "text/plain": [
       "array([[58020.38]], dtype=float32)"
      ]
     },
     "metadata": {},
     "output_type": "display_data"
    },
    {
     "name": "stdout",
     "output_type": "stream",
     "text": [
      "Epoch 1/5\n",
      "28/28 [==============================] - 0s 17ms/step - loss: 3.5829e-04 - mean_squared_error: 3.5829e-04\n",
      "Epoch 2/5\n",
      "28/28 [==============================] - 0s 16ms/step - loss: 3.8320e-04 - mean_squared_error: 3.8320e-04\n",
      "Epoch 3/5\n",
      "28/28 [==============================] - 0s 17ms/step - loss: 4.0409e-04 - mean_squared_error: 4.0409e-04\n",
      "Epoch 4/5\n",
      "28/28 [==============================] - 0s 17ms/step - loss: 4.3799e-04 - mean_squared_error: 4.3799e-04\n",
      "Epoch 5/5\n",
      "28/28 [==============================] - 0s 17ms/step - loss: 3.8442e-04 - mean_squared_error: 3.8442e-04\n",
      "1/1 [==============================] - 0s 28ms/step\n"
     ]
    },
    {
     "data": {
      "text/plain": [
       "array([[56598.543]], dtype=float32)"
      ]
     },
     "metadata": {},
     "output_type": "display_data"
    },
    {
     "name": "stdout",
     "output_type": "stream",
     "text": [
      "Epoch 1/5\n",
      "28/28 [==============================] - 1s 18ms/step - loss: 4.1972e-04 - mean_squared_error: 4.1972e-04\n",
      "Epoch 2/5\n",
      "28/28 [==============================] - 1s 18ms/step - loss: 3.8105e-04 - mean_squared_error: 3.8105e-04\n",
      "Epoch 3/5\n",
      "28/28 [==============================] - 1s 20ms/step - loss: 3.5453e-04 - mean_squared_error: 3.5453e-04\n",
      "Epoch 4/5\n",
      "28/28 [==============================] - 1s 20ms/step - loss: 3.8458e-04 - mean_squared_error: 3.8458e-04\n",
      "Epoch 5/5\n",
      "28/28 [==============================] - 1s 20ms/step - loss: 4.0804e-04 - mean_squared_error: 4.0804e-04\n",
      "1/1 [==============================] - 0s 28ms/step\n"
     ]
    },
    {
     "data": {
      "text/plain": [
       "array([[56272.23]], dtype=float32)"
      ]
     },
     "metadata": {},
     "output_type": "display_data"
    },
    {
     "name": "stdout",
     "output_type": "stream",
     "text": [
      "Epoch 1/5\n",
      "28/28 [==============================] - 1s 20ms/step - loss: 3.7601e-04 - mean_squared_error: 3.7601e-04\n",
      "Epoch 2/5\n",
      "28/28 [==============================] - 1s 19ms/step - loss: 4.0280e-04 - mean_squared_error: 4.0280e-04\n",
      "Epoch 3/5\n",
      "28/28 [==============================] - 0s 17ms/step - loss: 3.7102e-04 - mean_squared_error: 3.7102e-04\n",
      "Epoch 4/5\n",
      "28/28 [==============================] - 0s 17ms/step - loss: 3.7283e-04 - mean_squared_error: 3.7283e-04\n",
      "Epoch 5/5\n",
      "28/28 [==============================] - 0s 17ms/step - loss: 3.9472e-04 - mean_squared_error: 3.9472e-04\n",
      "1/1 [==============================] - 0s 22ms/step\n"
     ]
    },
    {
     "data": {
      "text/plain": [
       "array([[56528.29]], dtype=float32)"
      ]
     },
     "metadata": {},
     "output_type": "display_data"
    },
    {
     "name": "stdout",
     "output_type": "stream",
     "text": [
      "Epoch 1/5\n",
      "28/28 [==============================] - 0s 17ms/step - loss: 3.7235e-04 - mean_squared_error: 3.7235e-04\n",
      "Epoch 2/5\n",
      "28/28 [==============================] - 0s 17ms/step - loss: 4.0342e-04 - mean_squared_error: 4.0342e-04\n",
      "Epoch 3/5\n",
      "28/28 [==============================] - 0s 17ms/step - loss: 3.6788e-04 - mean_squared_error: 3.6788e-04\n",
      "Epoch 4/5\n",
      "28/28 [==============================] - 0s 17ms/step - loss: 3.6345e-04 - mean_squared_error: 3.6345e-04\n",
      "Epoch 5/5\n",
      "28/28 [==============================] - 0s 16ms/step - loss: 3.3961e-04 - mean_squared_error: 3.3961e-04\n",
      "1/1 [==============================] - 0s 22ms/step\n"
     ]
    },
    {
     "data": {
      "text/plain": [
       "array([[56263.11]], dtype=float32)"
      ]
     },
     "metadata": {},
     "output_type": "display_data"
    },
    {
     "name": "stdout",
     "output_type": "stream",
     "text": [
      "Epoch 1/5\n",
      "28/28 [==============================] - 0s 17ms/step - loss: 3.9526e-04 - mean_squared_error: 3.9526e-04\n",
      "Epoch 2/5\n",
      "28/28 [==============================] - 0s 17ms/step - loss: 4.0465e-04 - mean_squared_error: 4.0465e-04\n",
      "Epoch 3/5\n",
      "28/28 [==============================] - 0s 17ms/step - loss: 3.2674e-04 - mean_squared_error: 3.2674e-04\n",
      "Epoch 4/5\n",
      "28/28 [==============================] - 0s 17ms/step - loss: 3.7765e-04 - mean_squared_error: 3.7765e-04\n",
      "Epoch 5/5\n",
      "28/28 [==============================] - 1s 20ms/step - loss: 3.3392e-04 - mean_squared_error: 3.3392e-04\n",
      "1/1 [==============================] - 0s 27ms/step\n"
     ]
    },
    {
     "data": {
      "text/plain": [
       "array([[55816.625]], dtype=float32)"
      ]
     },
     "metadata": {},
     "output_type": "display_data"
    },
    {
     "name": "stdout",
     "output_type": "stream",
     "text": [
      "Epoch 1/5\n",
      "28/28 [==============================] - 1s 20ms/step - loss: 3.6199e-04 - mean_squared_error: 3.6199e-04\n",
      "Epoch 2/5\n",
      "28/28 [==============================] - 0s 17ms/step - loss: 3.7120e-04 - mean_squared_error: 3.7120e-04\n",
      "Epoch 3/5\n",
      "28/28 [==============================] - 0s 17ms/step - loss: 3.6015e-04 - mean_squared_error: 3.6015e-04\n",
      "Epoch 4/5\n",
      "28/28 [==============================] - 0s 16ms/step - loss: 3.6756e-04 - mean_squared_error: 3.6756e-04\n",
      "Epoch 5/5\n",
      "28/28 [==============================] - 1s 18ms/step - loss: 3.4925e-04 - mean_squared_error: 3.4925e-04\n",
      "1/1 [==============================] - 0s 25ms/step\n"
     ]
    },
    {
     "data": {
      "text/plain": [
       "array([[55497.07]], dtype=float32)"
      ]
     },
     "metadata": {},
     "output_type": "display_data"
    },
    {
     "name": "stdout",
     "output_type": "stream",
     "text": [
      "Epoch 1/5\n",
      "28/28 [==============================] - 1s 19ms/step - loss: 3.8397e-04 - mean_squared_error: 3.8397e-04\n",
      "Epoch 2/5\n",
      "28/28 [==============================] - 1s 19ms/step - loss: 3.7099e-04 - mean_squared_error: 3.7099e-04\n",
      "Epoch 3/5\n",
      "28/28 [==============================] - 0s 17ms/step - loss: 3.7370e-04 - mean_squared_error: 3.7370e-04\n",
      "Epoch 4/5\n",
      "28/28 [==============================] - 0s 16ms/step - loss: 3.5916e-04 - mean_squared_error: 3.5916e-04\n",
      "Epoch 5/5\n",
      "28/28 [==============================] - 0s 16ms/step - loss: 3.6286e-04 - mean_squared_error: 3.6286e-04\n",
      "1/1 [==============================] - 0s 23ms/step\n"
     ]
    },
    {
     "data": {
      "text/plain": [
       "array([[55408.516]], dtype=float32)"
      ]
     },
     "metadata": {},
     "output_type": "display_data"
    },
    {
     "name": "stdout",
     "output_type": "stream",
     "text": [
      "Epoch 1/5\n",
      "28/28 [==============================] - 0s 17ms/step - loss: 3.5102e-04 - mean_squared_error: 3.5102e-04\n",
      "Epoch 2/5\n",
      "28/28 [==============================] - 0s 17ms/step - loss: 3.4147e-04 - mean_squared_error: 3.4147e-04\n",
      "Epoch 3/5\n",
      "28/28 [==============================] - 0s 17ms/step - loss: 3.4552e-04 - mean_squared_error: 3.4552e-04\n",
      "Epoch 4/5\n",
      "28/28 [==============================] - 0s 17ms/step - loss: 3.3989e-04 - mean_squared_error: 3.3989e-04\n",
      "Epoch 5/5\n",
      "28/28 [==============================] - 0s 17ms/step - loss: 3.6324e-04 - mean_squared_error: 3.6324e-04\n",
      "1/1 [==============================] - 0s 29ms/step\n"
     ]
    },
    {
     "data": {
      "text/plain": [
       "array([[55299.086]], dtype=float32)"
      ]
     },
     "metadata": {},
     "output_type": "display_data"
    },
    {
     "name": "stdout",
     "output_type": "stream",
     "text": [
      "Epoch 1/5\n",
      "28/28 [==============================] - 0s 17ms/step - loss: 3.5713e-04 - mean_squared_error: 3.5713e-04\n",
      "Epoch 2/5\n",
      "28/28 [==============================] - 0s 17ms/step - loss: 3.6610e-04 - mean_squared_error: 3.6610e-04\n",
      "Epoch 3/5\n",
      "28/28 [==============================] - 0s 17ms/step - loss: 3.7097e-04 - mean_squared_error: 3.7097e-04\n",
      "Epoch 4/5\n",
      "28/28 [==============================] - 0s 17ms/step - loss: 3.4653e-04 - mean_squared_error: 3.4653e-04\n",
      "Epoch 5/5\n",
      "28/28 [==============================] - 0s 17ms/step - loss: 3.6417e-04 - mean_squared_error: 3.6417e-04\n",
      "1/1 [==============================] - 0s 22ms/step\n"
     ]
    },
    {
     "data": {
      "text/plain": [
       "array([[54998.426]], dtype=float32)"
      ]
     },
     "metadata": {},
     "output_type": "display_data"
    },
    {
     "name": "stdout",
     "output_type": "stream",
     "text": [
      "Epoch 1/5\n",
      "28/28 [==============================] - 0s 17ms/step - loss: 3.8399e-04 - mean_squared_error: 3.8399e-04\n",
      "Epoch 2/5\n",
      "28/28 [==============================] - 0s 17ms/step - loss: 4.0135e-04 - mean_squared_error: 4.0135e-04\n",
      "Epoch 3/5\n",
      "28/28 [==============================] - 1s 19ms/step - loss: 3.7226e-04 - mean_squared_error: 3.7226e-04\n",
      "Epoch 4/5\n",
      "28/28 [==============================] - 0s 16ms/step - loss: 3.5947e-04 - mean_squared_error: 3.5947e-04\n",
      "Epoch 5/5\n",
      "28/28 [==============================] - 0s 17ms/step - loss: 3.5910e-04 - mean_squared_error: 3.5910e-04\n",
      "1/1 [==============================] - 0s 26ms/step\n"
     ]
    },
    {
     "data": {
      "text/plain": [
       "array([[54872.367]], dtype=float32)"
      ]
     },
     "metadata": {},
     "output_type": "display_data"
    },
    {
     "name": "stdout",
     "output_type": "stream",
     "text": [
      "Epoch 1/5\n",
      "28/28 [==============================] - 0s 17ms/step - loss: 3.3869e-04 - mean_squared_error: 3.3869e-04\n",
      "Epoch 2/5\n",
      "28/28 [==============================] - 0s 16ms/step - loss: 3.2583e-04 - mean_squared_error: 3.2583e-04\n",
      "Epoch 3/5\n",
      "28/28 [==============================] - 0s 17ms/step - loss: 3.5992e-04 - mean_squared_error: 3.5992e-04\n",
      "Epoch 4/5\n",
      "28/28 [==============================] - 0s 17ms/step - loss: 3.3696e-04 - mean_squared_error: 3.3696e-04\n",
      "Epoch 5/5\n",
      "28/28 [==============================] - 0s 17ms/step - loss: 3.4245e-04 - mean_squared_error: 3.4245e-04\n",
      "1/1 [==============================] - 0s 22ms/step\n"
     ]
    },
    {
     "data": {
      "text/plain": [
       "array([[55317.207]], dtype=float32)"
      ]
     },
     "metadata": {},
     "output_type": "display_data"
    },
    {
     "name": "stdout",
     "output_type": "stream",
     "text": [
      "Epoch 1/5\n",
      "28/28 [==============================] - 0s 17ms/step - loss: 3.5205e-04 - mean_squared_error: 3.5205e-04\n",
      "Epoch 2/5\n",
      "28/28 [==============================] - 0s 17ms/step - loss: 3.5657e-04 - mean_squared_error: 3.5657e-04\n",
      "Epoch 3/5\n",
      "28/28 [==============================] - 0s 18ms/step - loss: 3.6009e-04 - mean_squared_error: 3.6009e-04\n",
      "Epoch 4/5\n",
      "28/28 [==============================] - 0s 17ms/step - loss: 3.4383e-04 - mean_squared_error: 3.4383e-04\n",
      "Epoch 5/5\n",
      "28/28 [==============================] - 0s 17ms/step - loss: 3.5161e-04 - mean_squared_error: 3.5161e-04\n",
      "1/1 [==============================] - 0s 23ms/step\n"
     ]
    },
    {
     "data": {
      "text/plain": [
       "array([[56040.066]], dtype=float32)"
      ]
     },
     "metadata": {},
     "output_type": "display_data"
    },
    {
     "name": "stdout",
     "output_type": "stream",
     "text": [
      "Epoch 1/5\n",
      "28/28 [==============================] - 0s 17ms/step - loss: 3.3670e-04 - mean_squared_error: 3.3670e-04\n",
      "Epoch 2/5\n",
      "28/28 [==============================] - 0s 17ms/step - loss: 3.4929e-04 - mean_squared_error: 3.4929e-04\n",
      "Epoch 3/5\n",
      "28/28 [==============================] - 0s 17ms/step - loss: 3.5196e-04 - mean_squared_error: 3.5196e-04\n",
      "Epoch 4/5\n",
      "28/28 [==============================] - 0s 17ms/step - loss: 3.9535e-04 - mean_squared_error: 3.9535e-04\n",
      "Epoch 5/5\n",
      "28/28 [==============================] - 0s 17ms/step - loss: 3.5098e-04 - mean_squared_error: 3.5098e-04\n",
      "1/1 [==============================] - 0s 22ms/step\n"
     ]
    },
    {
     "data": {
      "text/plain": [
       "array([[55622.855]], dtype=float32)"
      ]
     },
     "metadata": {},
     "output_type": "display_data"
    },
    {
     "name": "stdout",
     "output_type": "stream",
     "text": [
      "Epoch 1/5\n",
      "28/28 [==============================] - 0s 17ms/step - loss: 3.5731e-04 - mean_squared_error: 3.5731e-04\n",
      "Epoch 2/5\n",
      "28/28 [==============================] - 0s 17ms/step - loss: 3.5960e-04 - mean_squared_error: 3.5960e-04\n",
      "Epoch 3/5\n",
      "28/28 [==============================] - 0s 17ms/step - loss: 3.4899e-04 - mean_squared_error: 3.4899e-04\n",
      "Epoch 4/5\n",
      "28/28 [==============================] - 0s 17ms/step - loss: 3.9088e-04 - mean_squared_error: 3.9088e-04\n",
      "Epoch 5/5\n",
      "28/28 [==============================] - 0s 17ms/step - loss: 4.0102e-04 - mean_squared_error: 4.0102e-04\n",
      "1/1 [==============================] - 0s 23ms/step\n"
     ]
    },
    {
     "data": {
      "text/plain": [
       "array([[56431.71]], dtype=float32)"
      ]
     },
     "metadata": {},
     "output_type": "display_data"
    },
    {
     "name": "stdout",
     "output_type": "stream",
     "text": [
      "Epoch 1/5\n",
      "28/28 [==============================] - 0s 17ms/step - loss: 3.7917e-04 - mean_squared_error: 3.7917e-04\n",
      "Epoch 2/5\n",
      "28/28 [==============================] - 1s 19ms/step - loss: 3.6307e-04 - mean_squared_error: 3.6307e-04\n",
      "Epoch 3/5\n",
      "28/28 [==============================] - 1s 19ms/step - loss: 3.9868e-04 - mean_squared_error: 3.9868e-04\n",
      "Epoch 4/5\n",
      "28/28 [==============================] - 1s 18ms/step - loss: 3.8587e-04 - mean_squared_error: 3.8587e-04\n",
      "Epoch 5/5\n",
      "28/28 [==============================] - 0s 17ms/step - loss: 3.3135e-04 - mean_squared_error: 3.3135e-04\n",
      "1/1 [==============================] - 0s 22ms/step\n"
     ]
    },
    {
     "data": {
      "text/plain": [
       "array([[56118.47]], dtype=float32)"
      ]
     },
     "metadata": {},
     "output_type": "display_data"
    },
    {
     "name": "stdout",
     "output_type": "stream",
     "text": [
      "Epoch 1/5\n",
      "28/28 [==============================] - 1s 20ms/step - loss: 3.6413e-04 - mean_squared_error: 3.6413e-04\n",
      "Epoch 2/5\n",
      "28/28 [==============================] - 1s 20ms/step - loss: 3.3422e-04 - mean_squared_error: 3.3422e-04\n",
      "Epoch 3/5\n",
      "28/28 [==============================] - 1s 19ms/step - loss: 3.2654e-04 - mean_squared_error: 3.2654e-04\n",
      "Epoch 4/5\n",
      "28/28 [==============================] - 1s 18ms/step - loss: 3.3307e-04 - mean_squared_error: 3.3307e-04\n",
      "Epoch 5/5\n",
      "28/28 [==============================] - 0s 17ms/step - loss: 3.2556e-04 - mean_squared_error: 3.2556e-04\n",
      "1/1 [==============================] - 0s 22ms/step\n"
     ]
    },
    {
     "data": {
      "text/plain": [
       "array([[56521.906]], dtype=float32)"
      ]
     },
     "metadata": {},
     "output_type": "display_data"
    },
    {
     "name": "stdout",
     "output_type": "stream",
     "text": [
      "Epoch 1/5\n",
      "28/28 [==============================] - 0s 17ms/step - loss: 3.7301e-04 - mean_squared_error: 3.7301e-04\n",
      "Epoch 2/5\n",
      "28/28 [==============================] - 0s 16ms/step - loss: 3.4661e-04 - mean_squared_error: 3.4661e-04\n",
      "Epoch 3/5\n",
      "28/28 [==============================] - 0s 17ms/step - loss: 3.8789e-04 - mean_squared_error: 3.8789e-04\n",
      "Epoch 4/5\n",
      "28/28 [==============================] - 0s 17ms/step - loss: 4.3217e-04 - mean_squared_error: 4.3217e-04\n",
      "Epoch 5/5\n",
      "28/28 [==============================] - 0s 17ms/step - loss: 4.3012e-04 - mean_squared_error: 4.3012e-04\n",
      "1/1 [==============================] - 0s 23ms/step\n"
     ]
    },
    {
     "data": {
      "text/plain": [
       "array([[57263.562]], dtype=float32)"
      ]
     },
     "metadata": {},
     "output_type": "display_data"
    },
    {
     "name": "stdout",
     "output_type": "stream",
     "text": [
      "Epoch 1/5\n",
      "28/28 [==============================] - 0s 17ms/step - loss: 3.4630e-04 - mean_squared_error: 3.4630e-04\n",
      "Epoch 2/5\n",
      "28/28 [==============================] - 1s 17ms/step - loss: 3.4342e-04 - mean_squared_error: 3.4342e-04\n",
      "Epoch 3/5\n",
      "28/28 [==============================] - 0s 17ms/step - loss: 3.1801e-04 - mean_squared_error: 3.1801e-04\n",
      "Epoch 4/5\n",
      "28/28 [==============================] - 0s 17ms/step - loss: 3.4217e-04 - mean_squared_error: 3.4217e-04\n",
      "Epoch 5/5\n",
      "28/28 [==============================] - 0s 17ms/step - loss: 3.3665e-04 - mean_squared_error: 3.3665e-04\n",
      "1/1 [==============================] - 0s 22ms/step\n"
     ]
    },
    {
     "data": {
      "text/plain": [
       "array([[57113.35]], dtype=float32)"
      ]
     },
     "metadata": {},
     "output_type": "display_data"
    },
    {
     "name": "stdout",
     "output_type": "stream",
     "text": [
      "Epoch 1/5\n",
      "28/28 [==============================] - 0s 17ms/step - loss: 3.6500e-04 - mean_squared_error: 3.6500e-04\n",
      "Epoch 2/5\n",
      "28/28 [==============================] - 0s 17ms/step - loss: 3.5059e-04 - mean_squared_error: 3.5059e-04\n",
      "Epoch 3/5\n",
      "28/28 [==============================] - 0s 17ms/step - loss: 3.8313e-04 - mean_squared_error: 3.8313e-04\n",
      "Epoch 4/5\n",
      "28/28 [==============================] - 0s 17ms/step - loss: 4.1222e-04 - mean_squared_error: 4.1222e-04\n",
      "Epoch 5/5\n",
      "28/28 [==============================] - 0s 17ms/step - loss: 3.8219e-04 - mean_squared_error: 3.8219e-04\n",
      "1/1 [==============================] - 0s 22ms/step\n"
     ]
    },
    {
     "data": {
      "text/plain": [
       "array([[57467.37]], dtype=float32)"
      ]
     },
     "metadata": {},
     "output_type": "display_data"
    },
    {
     "name": "stdout",
     "output_type": "stream",
     "text": [
      "Epoch 1/5\n",
      "28/28 [==============================] - 0s 17ms/step - loss: 3.2525e-04 - mean_squared_error: 3.2525e-04\n",
      "Epoch 2/5\n",
      "28/28 [==============================] - 0s 17ms/step - loss: 3.7832e-04 - mean_squared_error: 3.7832e-04\n",
      "Epoch 3/5\n",
      "28/28 [==============================] - 0s 17ms/step - loss: 3.7500e-04 - mean_squared_error: 3.7500e-04\n",
      "Epoch 4/5\n",
      "28/28 [==============================] - 0s 17ms/step - loss: 3.4109e-04 - mean_squared_error: 3.4109e-04\n",
      "Epoch 5/5\n",
      "28/28 [==============================] - 0s 17ms/step - loss: 3.5446e-04 - mean_squared_error: 3.5446e-04\n",
      "1/1 [==============================] - 0s 22ms/step\n"
     ]
    },
    {
     "data": {
      "text/plain": [
       "array([[58006.797]], dtype=float32)"
      ]
     },
     "metadata": {},
     "output_type": "display_data"
    },
    {
     "name": "stdout",
     "output_type": "stream",
     "text": [
      "Epoch 1/5\n",
      "29/29 [==============================] - 0s 17ms/step - loss: 3.1010e-04 - mean_squared_error: 3.1010e-04\n",
      "Epoch 2/5\n",
      "29/29 [==============================] - 0s 17ms/step - loss: 3.1430e-04 - mean_squared_error: 3.1430e-04\n",
      "Epoch 3/5\n",
      "29/29 [==============================] - 0s 17ms/step - loss: 3.8433e-04 - mean_squared_error: 3.8433e-04\n",
      "Epoch 4/5\n",
      "29/29 [==============================] - 0s 17ms/step - loss: 3.4572e-04 - mean_squared_error: 3.4572e-04\n",
      "Epoch 5/5\n",
      "29/29 [==============================] - 0s 16ms/step - loss: 3.4330e-04 - mean_squared_error: 3.4330e-04\n",
      "1/1 [==============================] - 0s 23ms/step\n"
     ]
    },
    {
     "data": {
      "text/plain": [
       "array([[58372.348]], dtype=float32)"
      ]
     },
     "metadata": {},
     "output_type": "display_data"
    },
    {
     "name": "stdout",
     "output_type": "stream",
     "text": [
      "Epoch 1/5\n",
      "29/29 [==============================] - 1s 19ms/step - loss: 3.4228e-04 - mean_squared_error: 3.4228e-04\n",
      "Epoch 2/5\n",
      "29/29 [==============================] - 1s 19ms/step - loss: 3.2549e-04 - mean_squared_error: 3.2549e-04\n",
      "Epoch 3/5\n",
      "29/29 [==============================] - 1s 18ms/step - loss: 3.6264e-04 - mean_squared_error: 3.6264e-04\n",
      "Epoch 4/5\n",
      "29/29 [==============================] - 0s 17ms/step - loss: 3.3484e-04 - mean_squared_error: 3.3484e-04\n",
      "Epoch 5/5\n",
      "29/29 [==============================] - 1s 18ms/step - loss: 3.4636e-04 - mean_squared_error: 3.4636e-04\n",
      "1/1 [==============================] - 0s 28ms/step\n"
     ]
    },
    {
     "data": {
      "text/plain": [
       "array([[57454.305]], dtype=float32)"
      ]
     },
     "metadata": {},
     "output_type": "display_data"
    },
    {
     "name": "stdout",
     "output_type": "stream",
     "text": [
      "Epoch 1/5\n",
      "29/29 [==============================] - 1s 19ms/step - loss: 3.4436e-04 - mean_squared_error: 3.4436e-04\n",
      "Epoch 2/5\n",
      "29/29 [==============================] - 1s 19ms/step - loss: 3.7073e-04 - mean_squared_error: 3.7073e-04\n",
      "Epoch 3/5\n",
      "29/29 [==============================] - 1s 17ms/step - loss: 3.6252e-04 - mean_squared_error: 3.6252e-04\n",
      "Epoch 4/5\n",
      "29/29 [==============================] - 0s 17ms/step - loss: 3.4001e-04 - mean_squared_error: 3.4001e-04\n",
      "Epoch 5/5\n",
      "29/29 [==============================] - 0s 17ms/step - loss: 3.2982e-04 - mean_squared_error: 3.2982e-04\n",
      "1/1 [==============================] - 0s 22ms/step\n"
     ]
    },
    {
     "data": {
      "text/plain": [
       "array([[57430.625]], dtype=float32)"
      ]
     },
     "metadata": {},
     "output_type": "display_data"
    },
    {
     "name": "stdout",
     "output_type": "stream",
     "text": [
      "Epoch 1/5\n",
      "29/29 [==============================] - 0s 17ms/step - loss: 3.6218e-04 - mean_squared_error: 3.6218e-04\n",
      "Epoch 2/5\n",
      "29/29 [==============================] - 1s 20ms/step - loss: 3.7047e-04 - mean_squared_error: 3.7047e-04\n",
      "Epoch 3/5\n",
      "29/29 [==============================] - 1s 19ms/step - loss: 3.7831e-04 - mean_squared_error: 3.7831e-04\n",
      "Epoch 4/5\n",
      "29/29 [==============================] - 1s 18ms/step - loss: 3.5594e-04 - mean_squared_error: 3.5594e-04\n",
      "Epoch 5/5\n",
      "29/29 [==============================] - 0s 17ms/step - loss: 3.7463e-04 - mean_squared_error: 3.7463e-04\n",
      "1/1 [==============================] - 0s 24ms/step\n"
     ]
    },
    {
     "data": {
      "text/plain": [
       "array([[57328.492]], dtype=float32)"
      ]
     },
     "metadata": {},
     "output_type": "display_data"
    },
    {
     "name": "stdout",
     "output_type": "stream",
     "text": [
      "Epoch 1/5\n",
      "29/29 [==============================] - 1s 20ms/step - loss: 3.5854e-04 - mean_squared_error: 3.5854e-04\n",
      "Epoch 2/5\n",
      "29/29 [==============================] - 1s 20ms/step - loss: 3.3186e-04 - mean_squared_error: 3.3186e-04\n",
      "Epoch 3/5\n",
      "29/29 [==============================] - 1s 18ms/step - loss: 3.1102e-04 - mean_squared_error: 3.1102e-04\n",
      "Epoch 4/5\n",
      "29/29 [==============================] - 0s 17ms/step - loss: 3.8833e-04 - mean_squared_error: 3.8833e-04\n",
      "Epoch 5/5\n",
      "29/29 [==============================] - 0s 16ms/step - loss: 3.5651e-04 - mean_squared_error: 3.5651e-04\n",
      "1/1 [==============================] - 0s 23ms/step\n"
     ]
    },
    {
     "data": {
      "text/plain": [
       "array([[57754.84]], dtype=float32)"
      ]
     },
     "metadata": {},
     "output_type": "display_data"
    },
    {
     "name": "stdout",
     "output_type": "stream",
     "text": [
      "Epoch 1/5\n",
      "29/29 [==============================] - 0s 17ms/step - loss: 3.5653e-04 - mean_squared_error: 3.5653e-04\n",
      "Epoch 2/5\n",
      "29/29 [==============================] - 0s 17ms/step - loss: 3.9529e-04 - mean_squared_error: 3.9529e-04\n",
      "Epoch 3/5\n",
      "29/29 [==============================] - 0s 17ms/step - loss: 3.4544e-04 - mean_squared_error: 3.4544e-04\n",
      "Epoch 4/5\n",
      "29/29 [==============================] - 0s 16ms/step - loss: 3.3678e-04 - mean_squared_error: 3.3678e-04\n",
      "Epoch 5/5\n",
      "29/29 [==============================] - 0s 17ms/step - loss: 4.0479e-04 - mean_squared_error: 4.0479e-04\n",
      "1/1 [==============================] - 0s 22ms/step\n"
     ]
    },
    {
     "data": {
      "text/plain": [
       "array([[57166.22]], dtype=float32)"
      ]
     },
     "metadata": {},
     "output_type": "display_data"
    },
    {
     "name": "stdout",
     "output_type": "stream",
     "text": [
      "Epoch 1/5\n",
      "29/29 [==============================] - 0s 17ms/step - loss: 3.4032e-04 - mean_squared_error: 3.4032e-04\n",
      "Epoch 2/5\n",
      "29/29 [==============================] - 0s 17ms/step - loss: 3.1838e-04 - mean_squared_error: 3.1838e-04\n",
      "Epoch 3/5\n",
      "29/29 [==============================] - 0s 17ms/step - loss: 3.5594e-04 - mean_squared_error: 3.5594e-04\n",
      "Epoch 4/5\n",
      "29/29 [==============================] - 0s 17ms/step - loss: 3.2762e-04 - mean_squared_error: 3.2762e-04\n",
      "Epoch 5/5\n",
      "29/29 [==============================] - 0s 17ms/step - loss: 3.1229e-04 - mean_squared_error: 3.1229e-04\n",
      "1/1 [==============================] - 0s 22ms/step\n"
     ]
    },
    {
     "data": {
      "text/plain": [
       "array([[56866.754]], dtype=float32)"
      ]
     },
     "metadata": {},
     "output_type": "display_data"
    },
    {
     "name": "stdout",
     "output_type": "stream",
     "text": [
      "Epoch 1/5\n",
      "29/29 [==============================] - 0s 17ms/step - loss: 3.4816e-04 - mean_squared_error: 3.4816e-04\n",
      "Epoch 2/5\n",
      "29/29 [==============================] - 0s 17ms/step - loss: 3.6303e-04 - mean_squared_error: 3.6303e-04\n",
      "Epoch 3/5\n",
      "29/29 [==============================] - 0s 17ms/step - loss: 3.1735e-04 - mean_squared_error: 3.1735e-04\n",
      "Epoch 4/5\n",
      "29/29 [==============================] - 0s 16ms/step - loss: 3.6085e-04 - mean_squared_error: 3.6085e-04\n",
      "Epoch 5/5\n",
      "29/29 [==============================] - 0s 17ms/step - loss: 3.5760e-04 - mean_squared_error: 3.5760e-04\n",
      "1/1 [==============================] - 0s 23ms/step\n"
     ]
    },
    {
     "data": {
      "text/plain": [
       "array([[56239.54]], dtype=float32)"
      ]
     },
     "metadata": {},
     "output_type": "display_data"
    },
    {
     "name": "stdout",
     "output_type": "stream",
     "text": [
      "Epoch 1/5\n",
      "29/29 [==============================] - 0s 17ms/step - loss: 3.4827e-04 - mean_squared_error: 3.4827e-04\n",
      "Epoch 2/5\n",
      "29/29 [==============================] - 0s 17ms/step - loss: 3.4673e-04 - mean_squared_error: 3.4673e-04\n",
      "Epoch 3/5\n",
      "29/29 [==============================] - 0s 17ms/step - loss: 3.3191e-04 - mean_squared_error: 3.3191e-04\n",
      "Epoch 4/5\n",
      "29/29 [==============================] - 0s 16ms/step - loss: 3.2733e-04 - mean_squared_error: 3.2733e-04\n",
      "Epoch 5/5\n",
      "29/29 [==============================] - 0s 17ms/step - loss: 3.6408e-04 - mean_squared_error: 3.6408e-04\n",
      "1/1 [==============================] - 0s 24ms/step\n"
     ]
    },
    {
     "data": {
      "text/plain": [
       "array([[56729.586]], dtype=float32)"
      ]
     },
     "metadata": {},
     "output_type": "display_data"
    },
    {
     "name": "stdout",
     "output_type": "stream",
     "text": [
      "Epoch 1/5\n",
      "29/29 [==============================] - 0s 17ms/step - loss: 3.1188e-04 - mean_squared_error: 3.1188e-04\n",
      "Epoch 2/5\n",
      "29/29 [==============================] - 0s 16ms/step - loss: 3.2177e-04 - mean_squared_error: 3.2177e-04\n",
      "Epoch 3/5\n",
      "29/29 [==============================] - 1s 22ms/step - loss: 3.3663e-04 - mean_squared_error: 3.3663e-04\n",
      "Epoch 4/5\n",
      "29/29 [==============================] - 0s 16ms/step - loss: 3.5958e-04 - mean_squared_error: 3.5958e-04\n",
      "Epoch 5/5\n",
      "29/29 [==============================] - 0s 17ms/step - loss: 3.6434e-04 - mean_squared_error: 3.6434e-04\n",
      "1/1 [==============================] - 0s 22ms/step\n"
     ]
    },
    {
     "data": {
      "text/plain": [
       "array([[56099.297]], dtype=float32)"
      ]
     },
     "metadata": {},
     "output_type": "display_data"
    },
    {
     "name": "stdout",
     "output_type": "stream",
     "text": [
      "Epoch 1/5\n",
      "29/29 [==============================] - 0s 17ms/step - loss: 3.4368e-04 - mean_squared_error: 3.4368e-04\n",
      "Epoch 2/5\n",
      "29/29 [==============================] - 0s 17ms/step - loss: 3.5754e-04 - mean_squared_error: 3.5754e-04\n",
      "Epoch 3/5\n",
      "29/29 [==============================] - 0s 16ms/step - loss: 3.3762e-04 - mean_squared_error: 3.3762e-04\n",
      "Epoch 4/5\n",
      "29/29 [==============================] - 0s 16ms/step - loss: 3.4565e-04 - mean_squared_error: 3.4565e-04\n",
      "Epoch 5/5\n",
      "29/29 [==============================] - 0s 17ms/step - loss: 3.2452e-04 - mean_squared_error: 3.2452e-04\n",
      "1/1 [==============================] - 0s 22ms/step\n"
     ]
    },
    {
     "data": {
      "text/plain": [
       "array([[56066.125]], dtype=float32)"
      ]
     },
     "metadata": {},
     "output_type": "display_data"
    },
    {
     "name": "stdout",
     "output_type": "stream",
     "text": [
      "Epoch 1/5\n",
      "29/29 [==============================] - 0s 17ms/step - loss: 3.5292e-04 - mean_squared_error: 3.5292e-04\n",
      "Epoch 2/5\n",
      "29/29 [==============================] - 0s 17ms/step - loss: 3.3266e-04 - mean_squared_error: 3.3266e-04\n",
      "Epoch 3/5\n",
      "29/29 [==============================] - 0s 16ms/step - loss: 3.5260e-04 - mean_squared_error: 3.5260e-04\n",
      "Epoch 4/5\n",
      "29/29 [==============================] - 0s 17ms/step - loss: 3.4819e-04 - mean_squared_error: 3.4819e-04\n",
      "Epoch 5/5\n",
      "29/29 [==============================] - 0s 16ms/step - loss: 3.4083e-04 - mean_squared_error: 3.4083e-04\n",
      "1/1 [==============================] - 0s 22ms/step\n"
     ]
    },
    {
     "data": {
      "text/plain": [
       "array([[56173.19]], dtype=float32)"
      ]
     },
     "metadata": {},
     "output_type": "display_data"
    },
    {
     "name": "stdout",
     "output_type": "stream",
     "text": [
      "Epoch 1/5\n",
      "29/29 [==============================] - 0s 17ms/step - loss: 3.3096e-04 - mean_squared_error: 3.3096e-04\n",
      "Epoch 2/5\n",
      "29/29 [==============================] - 0s 17ms/step - loss: 3.2120e-04 - mean_squared_error: 3.2120e-04\n",
      "Epoch 3/5\n",
      "29/29 [==============================] - 0s 17ms/step - loss: 3.6071e-04 - mean_squared_error: 3.6071e-04\n",
      "Epoch 4/5\n",
      "29/29 [==============================] - 1s 20ms/step - loss: 3.3639e-04 - mean_squared_error: 3.3639e-04\n",
      "Epoch 5/5\n",
      "29/29 [==============================] - 1s 19ms/step - loss: 3.4064e-04 - mean_squared_error: 3.4064e-04\n",
      "1/1 [==============================] - 0s 27ms/step\n"
     ]
    },
    {
     "data": {
      "text/plain": [
       "array([[55863.637]], dtype=float32)"
      ]
     },
     "metadata": {},
     "output_type": "display_data"
    },
    {
     "name": "stdout",
     "output_type": "stream",
     "text": [
      "Epoch 1/5\n",
      "29/29 [==============================] - 1s 20ms/step - loss: 3.4613e-04 - mean_squared_error: 3.4613e-04\n",
      "Epoch 2/5\n",
      "29/29 [==============================] - 1s 19ms/step - loss: 3.2378e-04 - mean_squared_error: 3.2378e-04\n",
      "Epoch 3/5\n",
      "29/29 [==============================] - 1s 19ms/step - loss: 3.2188e-04 - mean_squared_error: 3.2188e-04\n",
      "Epoch 4/5\n",
      "29/29 [==============================] - 0s 17ms/step - loss: 3.3235e-04 - mean_squared_error: 3.3235e-04\n",
      "Epoch 5/5\n",
      "29/29 [==============================] - 1s 17ms/step - loss: 3.2137e-04 - mean_squared_error: 3.2137e-04\n",
      "1/1 [==============================] - 0s 22ms/step\n"
     ]
    },
    {
     "data": {
      "text/plain": [
       "array([[55254.65]], dtype=float32)"
      ]
     },
     "metadata": {},
     "output_type": "display_data"
    },
    {
     "name": "stdout",
     "output_type": "stream",
     "text": [
      "Epoch 1/5\n",
      "29/29 [==============================] - 0s 17ms/step - loss: 3.5693e-04 - mean_squared_error: 3.5693e-04\n",
      "Epoch 2/5\n",
      "29/29 [==============================] - 0s 17ms/step - loss: 3.3008e-04 - mean_squared_error: 3.3008e-04\n",
      "Epoch 3/5\n",
      "29/29 [==============================] - 0s 17ms/step - loss: 3.3598e-04 - mean_squared_error: 3.3598e-04\n",
      "Epoch 4/5\n",
      "29/29 [==============================] - 0s 16ms/step - loss: 3.1825e-04 - mean_squared_error: 3.1825e-04\n",
      "Epoch 5/5\n",
      "29/29 [==============================] - 0s 16ms/step - loss: 3.7501e-04 - mean_squared_error: 3.7501e-04\n",
      "1/1 [==============================] - 0s 22ms/step\n"
     ]
    },
    {
     "data": {
      "text/plain": [
       "array([[55234.83]], dtype=float32)"
      ]
     },
     "metadata": {},
     "output_type": "display_data"
    },
    {
     "name": "stdout",
     "output_type": "stream",
     "text": [
      "Epoch 1/5\n",
      "29/29 [==============================] - 0s 17ms/step - loss: 3.2787e-04 - mean_squared_error: 3.2787e-04\n",
      "Epoch 2/5\n",
      "29/29 [==============================] - 0s 16ms/step - loss: 3.3007e-04 - mean_squared_error: 3.3007e-04\n",
      "Epoch 3/5\n",
      "29/29 [==============================] - 0s 17ms/step - loss: 3.8369e-04 - mean_squared_error: 3.8369e-04\n",
      "Epoch 4/5\n",
      "29/29 [==============================] - 0s 17ms/step - loss: 3.2052e-04 - mean_squared_error: 3.2052e-04\n",
      "Epoch 5/5\n",
      "29/29 [==============================] - 0s 17ms/step - loss: 3.4591e-04 - mean_squared_error: 3.4591e-04\n",
      "1/1 [==============================] - 0s 23ms/step\n"
     ]
    },
    {
     "data": {
      "text/plain": [
       "array([[55341.35]], dtype=float32)"
      ]
     },
     "metadata": {},
     "output_type": "display_data"
    },
    {
     "name": "stdout",
     "output_type": "stream",
     "text": [
      "Epoch 1/5\n",
      "29/29 [==============================] - 0s 17ms/step - loss: 3.4479e-04 - mean_squared_error: 3.4479e-04\n",
      "Epoch 2/5\n",
      "29/29 [==============================] - 0s 17ms/step - loss: 3.3377e-04 - mean_squared_error: 3.3377e-04\n",
      "Epoch 3/5\n",
      "29/29 [==============================] - 0s 17ms/step - loss: 3.2404e-04 - mean_squared_error: 3.2404e-04\n",
      "Epoch 4/5\n",
      "29/29 [==============================] - 0s 16ms/step - loss: 3.2188e-04 - mean_squared_error: 3.2188e-04\n",
      "Epoch 5/5\n",
      "29/29 [==============================] - 1s 19ms/step - loss: 3.2797e-04 - mean_squared_error: 3.2797e-04\n",
      "1/1 [==============================] - 0s 23ms/step\n"
     ]
    },
    {
     "data": {
      "text/plain": [
       "array([[56071.504]], dtype=float32)"
      ]
     },
     "metadata": {},
     "output_type": "display_data"
    },
    {
     "name": "stdout",
     "output_type": "stream",
     "text": [
      "Epoch 1/5\n",
      "29/29 [==============================] - 0s 17ms/step - loss: 3.0882e-04 - mean_squared_error: 3.0882e-04\n",
      "Epoch 2/5\n",
      "29/29 [==============================] - 0s 17ms/step - loss: 3.2229e-04 - mean_squared_error: 3.2229e-04\n",
      "Epoch 3/5\n",
      "29/29 [==============================] - 1s 17ms/step - loss: 3.3885e-04 - mean_squared_error: 3.3885e-04\n",
      "Epoch 4/5\n",
      "29/29 [==============================] - 1s 17ms/step - loss: 3.6869e-04 - mean_squared_error: 3.6869e-04\n",
      "Epoch 5/5\n",
      "29/29 [==============================] - 0s 16ms/step - loss: 3.7013e-04 - mean_squared_error: 3.7013e-04\n",
      "1/1 [==============================] - 0s 22ms/step\n"
     ]
    },
    {
     "data": {
      "text/plain": [
       "array([[56135.117]], dtype=float32)"
      ]
     },
     "metadata": {},
     "output_type": "display_data"
    },
    {
     "name": "stdout",
     "output_type": "stream",
     "text": [
      "Epoch 1/5\n",
      "29/29 [==============================] - 0s 17ms/step - loss: 3.3551e-04 - mean_squared_error: 3.3551e-04\n",
      "Epoch 2/5\n",
      "29/29 [==============================] - 1s 17ms/step - loss: 3.5430e-04 - mean_squared_error: 3.5430e-04\n",
      "Epoch 3/5\n",
      "29/29 [==============================] - 0s 17ms/step - loss: 3.1878e-04 - mean_squared_error: 3.1878e-04\n",
      "Epoch 4/5\n",
      "29/29 [==============================] - 0s 16ms/step - loss: 3.3845e-04 - mean_squared_error: 3.3845e-04\n",
      "Epoch 5/5\n",
      "29/29 [==============================] - 0s 16ms/step - loss: 3.1313e-04 - mean_squared_error: 3.1313e-04\n",
      "1/1 [==============================] - 0s 23ms/step\n"
     ]
    },
    {
     "data": {
      "text/plain": [
       "array([[56501.38]], dtype=float32)"
      ]
     },
     "metadata": {},
     "output_type": "display_data"
    },
    {
     "name": "stdout",
     "output_type": "stream",
     "text": [
      "Epoch 1/5\n",
      "29/29 [==============================] - 0s 16ms/step - loss: 3.2206e-04 - mean_squared_error: 3.2206e-04\n",
      "Epoch 2/5\n",
      "29/29 [==============================] - 1s 17ms/step - loss: 3.1929e-04 - mean_squared_error: 3.1929e-04\n",
      "Epoch 3/5\n",
      "29/29 [==============================] - 0s 17ms/step - loss: 3.0528e-04 - mean_squared_error: 3.0528e-04\n",
      "Epoch 4/5\n",
      "29/29 [==============================] - 0s 16ms/step - loss: 3.2916e-04 - mean_squared_error: 3.2916e-04\n",
      "Epoch 5/5\n",
      "29/29 [==============================] - 0s 17ms/step - loss: 3.2476e-04 - mean_squared_error: 3.2476e-04\n",
      "1/1 [==============================] - 0s 24ms/step\n"
     ]
    },
    {
     "data": {
      "text/plain": [
       "array([[56057.926]], dtype=float32)"
      ]
     },
     "metadata": {},
     "output_type": "display_data"
    },
    {
     "name": "stdout",
     "output_type": "stream",
     "text": [
      "Epoch 1/5\n",
      "29/29 [==============================] - 0s 17ms/step - loss: 3.1110e-04 - mean_squared_error: 3.1110e-04\n",
      "Epoch 2/5\n",
      "29/29 [==============================] - 0s 17ms/step - loss: 3.1756e-04 - mean_squared_error: 3.1756e-04\n",
      "Epoch 3/5\n",
      "29/29 [==============================] - 0s 17ms/step - loss: 3.9086e-04 - mean_squared_error: 3.9086e-04\n",
      "Epoch 4/5\n",
      "29/29 [==============================] - 0s 17ms/step - loss: 3.3487e-04 - mean_squared_error: 3.3487e-04\n",
      "Epoch 5/5\n",
      "29/29 [==============================] - 0s 17ms/step - loss: 3.2109e-04 - mean_squared_error: 3.2109e-04\n",
      "1/1 [==============================] - 0s 23ms/step\n"
     ]
    },
    {
     "data": {
      "text/plain": [
       "array([[56383.938]], dtype=float32)"
      ]
     },
     "metadata": {},
     "output_type": "display_data"
    },
    {
     "name": "stdout",
     "output_type": "stream",
     "text": [
      "Epoch 1/5\n",
      "29/29 [==============================] - 0s 17ms/step - loss: 3.4339e-04 - mean_squared_error: 3.4339e-04\n",
      "Epoch 2/5\n",
      "29/29 [==============================] - 0s 17ms/step - loss: 3.2933e-04 - mean_squared_error: 3.2933e-04\n",
      "Epoch 3/5\n",
      "29/29 [==============================] - 0s 17ms/step - loss: 3.6261e-04 - mean_squared_error: 3.6261e-04\n",
      "Epoch 4/5\n",
      "29/29 [==============================] - 0s 17ms/step - loss: 3.4460e-04 - mean_squared_error: 3.4460e-04\n",
      "Epoch 5/5\n",
      "29/29 [==============================] - 0s 17ms/step - loss: 3.1353e-04 - mean_squared_error: 3.1353e-04\n",
      "1/1 [==============================] - 0s 22ms/step\n"
     ]
    },
    {
     "data": {
      "text/plain": [
       "array([[56131.535]], dtype=float32)"
      ]
     },
     "metadata": {},
     "output_type": "display_data"
    },
    {
     "name": "stdout",
     "output_type": "stream",
     "text": [
      "Epoch 1/5\n",
      "29/29 [==============================] - 0s 17ms/step - loss: 3.1846e-04 - mean_squared_error: 3.1846e-04\n",
      "Epoch 2/5\n",
      "29/29 [==============================] - 1s 17ms/step - loss: 3.2138e-04 - mean_squared_error: 3.2138e-04\n",
      "Epoch 3/5\n",
      "29/29 [==============================] - 1s 20ms/step - loss: 3.3748e-04 - mean_squared_error: 3.3748e-04\n",
      "Epoch 4/5\n",
      "29/29 [==============================] - 1s 20ms/step - loss: 3.1856e-04 - mean_squared_error: 3.1856e-04\n",
      "Epoch 5/5\n",
      "29/29 [==============================] - 1s 20ms/step - loss: 3.0737e-04 - mean_squared_error: 3.0737e-04\n",
      "1/1 [==============================] - 0s 27ms/step\n"
     ]
    },
    {
     "data": {
      "text/plain": [
       "array([[55849.246]], dtype=float32)"
      ]
     },
     "metadata": {},
     "output_type": "display_data"
    },
    {
     "name": "stdout",
     "output_type": "stream",
     "text": [
      "Epoch 1/5\n",
      "29/29 [==============================] - 1s 17ms/step - loss: 3.1005e-04 - mean_squared_error: 3.1005e-04\n",
      "Epoch 2/5\n",
      "29/29 [==============================] - 0s 17ms/step - loss: 3.5180e-04 - mean_squared_error: 3.5180e-04\n",
      "Epoch 3/5\n",
      "29/29 [==============================] - 1s 17ms/step - loss: 3.2301e-04 - mean_squared_error: 3.2301e-04\n",
      "Epoch 4/5\n",
      "29/29 [==============================] - 1s 17ms/step - loss: 3.1140e-04 - mean_squared_error: 3.1140e-04\n",
      "Epoch 5/5\n",
      "29/29 [==============================] - 0s 17ms/step - loss: 3.1431e-04 - mean_squared_error: 3.1431e-04\n",
      "1/1 [==============================] - 0s 23ms/step\n"
     ]
    },
    {
     "data": {
      "text/plain": [
       "array([[55558.363]], dtype=float32)"
      ]
     },
     "metadata": {},
     "output_type": "display_data"
    },
    {
     "name": "stdout",
     "output_type": "stream",
     "text": [
      "Epoch 1/5\n",
      "29/29 [==============================] - 0s 17ms/step - loss: 3.1958e-04 - mean_squared_error: 3.1958e-04\n",
      "Epoch 2/5\n",
      "29/29 [==============================] - 0s 17ms/step - loss: 3.1770e-04 - mean_squared_error: 3.1770e-04\n",
      "Epoch 3/5\n",
      "29/29 [==============================] - 0s 17ms/step - loss: 3.0871e-04 - mean_squared_error: 3.0871e-04\n",
      "Epoch 4/5\n",
      "29/29 [==============================] - 0s 17ms/step - loss: 3.0715e-04 - mean_squared_error: 3.0715e-04\n",
      "Epoch 5/5\n",
      "29/29 [==============================] - 0s 17ms/step - loss: 3.2815e-04 - mean_squared_error: 3.2815e-04\n",
      "1/1 [==============================] - 0s 23ms/step\n"
     ]
    },
    {
     "data": {
      "text/plain": [
       "array([[55781.375]], dtype=float32)"
      ]
     },
     "metadata": {},
     "output_type": "display_data"
    },
    {
     "name": "stdout",
     "output_type": "stream",
     "text": [
      "Epoch 1/5\n",
      "29/29 [==============================] - 0s 17ms/step - loss: 3.3001e-04 - mean_squared_error: 3.3001e-04\n",
      "Epoch 2/5\n",
      "29/29 [==============================] - 0s 17ms/step - loss: 3.0570e-04 - mean_squared_error: 3.0570e-04\n",
      "Epoch 3/5\n",
      "29/29 [==============================] - 0s 17ms/step - loss: 3.1922e-04 - mean_squared_error: 3.1922e-04\n",
      "Epoch 4/5\n",
      "29/29 [==============================] - 1s 18ms/step - loss: 3.0772e-04 - mean_squared_error: 3.0772e-04\n",
      "Epoch 5/5\n",
      "29/29 [==============================] - 1s 18ms/step - loss: 3.6799e-04 - mean_squared_error: 3.6799e-04\n",
      "1/1 [==============================] - 0s 22ms/step\n"
     ]
    },
    {
     "data": {
      "text/plain": [
       "array([[56019.94]], dtype=float32)"
      ]
     },
     "metadata": {},
     "output_type": "display_data"
    },
    {
     "name": "stdout",
     "output_type": "stream",
     "text": [
      "Epoch 1/5\n",
      "29/29 [==============================] - 0s 17ms/step - loss: 3.2932e-04 - mean_squared_error: 3.2932e-04\n",
      "Epoch 2/5\n",
      "29/29 [==============================] - 1s 17ms/step - loss: 3.0688e-04 - mean_squared_error: 3.0688e-04\n",
      "Epoch 3/5\n",
      "29/29 [==============================] - 0s 17ms/step - loss: 3.4335e-04 - mean_squared_error: 3.4335e-04\n",
      "Epoch 4/5\n",
      "29/29 [==============================] - 0s 17ms/step - loss: 3.1505e-04 - mean_squared_error: 3.1505e-04\n",
      "Epoch 5/5\n",
      "29/29 [==============================] - 1s 17ms/step - loss: 3.1082e-04 - mean_squared_error: 3.1082e-04\n",
      "1/1 [==============================] - 0s 23ms/step\n"
     ]
    },
    {
     "data": {
      "text/plain": [
       "array([[56082.117]], dtype=float32)"
      ]
     },
     "metadata": {},
     "output_type": "display_data"
    },
    {
     "name": "stdout",
     "output_type": "stream",
     "text": [
      "Epoch 1/5\n",
      "29/29 [==============================] - 1s 19ms/step - loss: 2.9622e-04 - mean_squared_error: 2.9622e-04\n",
      "Epoch 2/5\n",
      "29/29 [==============================] - 1s 18ms/step - loss: 3.2328e-04 - mean_squared_error: 3.2328e-04\n",
      "Epoch 3/5\n",
      "29/29 [==============================] - 0s 17ms/step - loss: 3.1153e-04 - mean_squared_error: 3.1153e-04\n",
      "Epoch 4/5\n",
      "29/29 [==============================] - 0s 17ms/step - loss: 3.1746e-04 - mean_squared_error: 3.1746e-04\n",
      "Epoch 5/5\n",
      "29/29 [==============================] - 1s 17ms/step - loss: 3.0511e-04 - mean_squared_error: 3.0511e-04\n",
      "1/1 [==============================] - 0s 24ms/step\n"
     ]
    },
    {
     "data": {
      "text/plain": [
       "array([[55122.04]], dtype=float32)"
      ]
     },
     "metadata": {},
     "output_type": "display_data"
    },
    {
     "name": "stdout",
     "output_type": "stream",
     "text": [
      "Epoch 1/5\n",
      "29/29 [==============================] - 1s 17ms/step - loss: 3.4046e-04 - mean_squared_error: 3.4046e-04\n",
      "Epoch 2/5\n",
      "29/29 [==============================] - 0s 17ms/step - loss: 3.3717e-04 - mean_squared_error: 3.3717e-04\n",
      "Epoch 3/5\n",
      "29/29 [==============================] - 0s 17ms/step - loss: 3.0184e-04 - mean_squared_error: 3.0184e-04\n",
      "Epoch 4/5\n",
      "29/29 [==============================] - 0s 17ms/step - loss: 3.1405e-04 - mean_squared_error: 3.1405e-04\n",
      "Epoch 5/5\n",
      "29/29 [==============================] - 1s 17ms/step - loss: 2.9063e-04 - mean_squared_error: 2.9063e-04\n",
      "1/1 [==============================] - 0s 23ms/step\n"
     ]
    },
    {
     "data": {
      "text/plain": [
       "array([[55272.28]], dtype=float32)"
      ]
     },
     "metadata": {},
     "output_type": "display_data"
    },
    {
     "name": "stdout",
     "output_type": "stream",
     "text": [
      "Epoch 1/5\n",
      "29/29 [==============================] - 1s 17ms/step - loss: 3.2404e-04 - mean_squared_error: 3.2404e-04\n",
      "Epoch 2/5\n",
      "29/29 [==============================] - 0s 17ms/step - loss: 3.2837e-04 - mean_squared_error: 3.2837e-04\n",
      "Epoch 3/5\n",
      "29/29 [==============================] - 1s 17ms/step - loss: 3.2905e-04 - mean_squared_error: 3.2905e-04\n",
      "Epoch 4/5\n",
      "29/29 [==============================] - 1s 17ms/step - loss: 3.0562e-04 - mean_squared_error: 3.0562e-04\n",
      "Epoch 5/5\n",
      "29/29 [==============================] - 0s 17ms/step - loss: 3.1384e-04 - mean_squared_error: 3.1384e-04\n",
      "1/1 [==============================] - 0s 23ms/step\n"
     ]
    },
    {
     "data": {
      "text/plain": [
       "array([[55720.266]], dtype=float32)"
      ]
     },
     "metadata": {},
     "output_type": "display_data"
    },
    {
     "name": "stdout",
     "output_type": "stream",
     "text": [
      "Epoch 1/5\n",
      "29/29 [==============================] - 0s 17ms/step - loss: 3.2100e-04 - mean_squared_error: 3.2100e-04\n",
      "Epoch 2/5\n",
      "29/29 [==============================] - 0s 17ms/step - loss: 2.7637e-04 - mean_squared_error: 2.7637e-04\n",
      "Epoch 3/5\n",
      "29/29 [==============================] - 0s 17ms/step - loss: 3.0403e-04 - mean_squared_error: 3.0403e-04\n",
      "Epoch 4/5\n",
      "29/29 [==============================] - 0s 17ms/step - loss: 3.3129e-04 - mean_squared_error: 3.3129e-04\n",
      "Epoch 5/5\n",
      "29/29 [==============================] - 0s 17ms/step - loss: 3.0423e-04 - mean_squared_error: 3.0423e-04\n",
      "1/1 [==============================] - 0s 22ms/step\n"
     ]
    },
    {
     "data": {
      "text/plain": [
       "array([[55905.14]], dtype=float32)"
      ]
     },
     "metadata": {},
     "output_type": "display_data"
    },
    {
     "name": "stdout",
     "output_type": "stream",
     "text": [
      "Epoch 1/5\n",
      "29/29 [==============================] - 1s 17ms/step - loss: 3.2662e-04 - mean_squared_error: 3.2662e-04\n",
      "Epoch 2/5\n",
      "29/29 [==============================] - 0s 17ms/step - loss: 3.3355e-04 - mean_squared_error: 3.3355e-04\n",
      "Epoch 3/5\n",
      "29/29 [==============================] - 1s 17ms/step - loss: 3.0536e-04 - mean_squared_error: 3.0536e-04\n",
      "Epoch 4/5\n",
      "29/29 [==============================] - 0s 17ms/step - loss: 3.5691e-04 - mean_squared_error: 3.5691e-04\n",
      "Epoch 5/5\n",
      "29/29 [==============================] - 0s 17ms/step - loss: 3.9017e-04 - mean_squared_error: 3.9017e-04\n",
      "1/1 [==============================] - 0s 25ms/step\n"
     ]
    },
    {
     "data": {
      "text/plain": [
       "array([[56956.652]], dtype=float32)"
      ]
     },
     "metadata": {},
     "output_type": "display_data"
    },
    {
     "name": "stdout",
     "output_type": "stream",
     "text": [
      "Epoch 1/5\n",
      "30/30 [==============================] - 1s 17ms/step - loss: 3.1857e-04 - mean_squared_error: 3.1857e-04\n",
      "Epoch 2/5\n",
      "30/30 [==============================] - 1s 17ms/step - loss: 3.8935e-04 - mean_squared_error: 3.8935e-04\n",
      "Epoch 3/5\n",
      "30/30 [==============================] - 1s 17ms/step - loss: 3.8413e-04 - mean_squared_error: 3.8413e-04\n",
      "Epoch 4/5\n",
      "30/30 [==============================] - 1s 17ms/step - loss: 3.1883e-04 - mean_squared_error: 3.1883e-04\n",
      "Epoch 5/5\n",
      "30/30 [==============================] - 0s 16ms/step - loss: 3.6579e-04 - mean_squared_error: 3.6579e-04\n",
      "1/1 [==============================] - 0s 22ms/step\n"
     ]
    },
    {
     "data": {
      "text/plain": [
       "array([[57419.94]], dtype=float32)"
      ]
     },
     "metadata": {},
     "output_type": "display_data"
    },
    {
     "name": "stdout",
     "output_type": "stream",
     "text": [
      "Epoch 1/5\n",
      "30/30 [==============================] - 1s 17ms/step - loss: 3.4053e-04 - mean_squared_error: 3.4053e-04\n",
      "Epoch 2/5\n",
      "30/30 [==============================] - 1s 17ms/step - loss: 3.2079e-04 - mean_squared_error: 3.2079e-04\n",
      "Epoch 3/5\n",
      "30/30 [==============================] - 1s 17ms/step - loss: 3.4548e-04 - mean_squared_error: 3.4548e-04\n",
      "Epoch 4/5\n",
      "30/30 [==============================] - 1s 17ms/step - loss: 3.1709e-04 - mean_squared_error: 3.1709e-04\n",
      "Epoch 5/5\n",
      "30/30 [==============================] - 1s 18ms/step - loss: 3.3152e-04 - mean_squared_error: 3.3152e-04\n",
      "1/1 [==============================] - 0s 22ms/step\n"
     ]
    },
    {
     "data": {
      "text/plain": [
       "array([[58124.94]], dtype=float32)"
      ]
     },
     "metadata": {},
     "output_type": "display_data"
    },
    {
     "name": "stdout",
     "output_type": "stream",
     "text": [
      "Epoch 1/5\n",
      "30/30 [==============================] - 1s 17ms/step - loss: 3.2163e-04 - mean_squared_error: 3.2163e-04\n",
      "Epoch 2/5\n",
      "30/30 [==============================] - 0s 16ms/step - loss: 3.4941e-04 - mean_squared_error: 3.4941e-04\n",
      "Epoch 3/5\n",
      "30/30 [==============================] - 0s 17ms/step - loss: 4.3056e-04 - mean_squared_error: 4.3056e-04\n",
      "Epoch 4/5\n",
      "30/30 [==============================] - 1s 22ms/step - loss: 3.1503e-04 - mean_squared_error: 3.1503e-04\n",
      "Epoch 5/5\n",
      "30/30 [==============================] - 1s 18ms/step - loss: 3.2630e-04 - mean_squared_error: 3.2630e-04\n",
      "1/1 [==============================] - 0s 23ms/step\n"
     ]
    },
    {
     "data": {
      "text/plain": [
       "array([[57980.43]], dtype=float32)"
      ]
     },
     "metadata": {},
     "output_type": "display_data"
    },
    {
     "name": "stdout",
     "output_type": "stream",
     "text": [
      "Epoch 1/5\n",
      "30/30 [==============================] - 1s 22ms/step - loss: 3.1610e-04 - mean_squared_error: 3.1610e-04\n",
      "Epoch 2/5\n",
      "30/30 [==============================] - 1s 21ms/step - loss: 3.2418e-04 - mean_squared_error: 3.2418e-04\n",
      "Epoch 3/5\n",
      "30/30 [==============================] - 1s 17ms/step - loss: 3.1455e-04 - mean_squared_error: 3.1455e-04\n",
      "Epoch 4/5\n",
      "30/30 [==============================] - 1s 19ms/step - loss: 3.4041e-04 - mean_squared_error: 3.4041e-04\n",
      "Epoch 5/5\n",
      "30/30 [==============================] - 1s 17ms/step - loss: 3.2380e-04 - mean_squared_error: 3.2380e-04\n",
      "1/1 [==============================] - 0s 23ms/step\n"
     ]
    },
    {
     "data": {
      "text/plain": [
       "array([[57670.434]], dtype=float32)"
      ]
     },
     "metadata": {},
     "output_type": "display_data"
    },
    {
     "name": "stdout",
     "output_type": "stream",
     "text": [
      "Epoch 1/5\n",
      "30/30 [==============================] - 1s 18ms/step - loss: 3.1017e-04 - mean_squared_error: 3.1017e-04\n",
      "Epoch 2/5\n",
      "30/30 [==============================] - 1s 18ms/step - loss: 3.1041e-04 - mean_squared_error: 3.1041e-04\n",
      "Epoch 3/5\n",
      "30/30 [==============================] - 1s 18ms/step - loss: 3.0658e-04 - mean_squared_error: 3.0658e-04\n",
      "Epoch 4/5\n",
      "30/30 [==============================] - 1s 17ms/step - loss: 3.4007e-04 - mean_squared_error: 3.4007e-04\n",
      "Epoch 5/5\n",
      "30/30 [==============================] - 1s 21ms/step - loss: 3.2020e-04 - mean_squared_error: 3.2020e-04\n",
      "1/1 [==============================] - 0s 30ms/step\n"
     ]
    },
    {
     "data": {
      "text/plain": [
       "array([[56968.75]], dtype=float32)"
      ]
     },
     "metadata": {},
     "output_type": "display_data"
    },
    {
     "name": "stdout",
     "output_type": "stream",
     "text": [
      "Epoch 1/5\n",
      "30/30 [==============================] - 1s 17ms/step - loss: 3.1790e-04 - mean_squared_error: 3.1790e-04\n",
      "Epoch 2/5\n",
      "30/30 [==============================] - 1s 18ms/step - loss: 2.8354e-04 - mean_squared_error: 2.8354e-04\n",
      "Epoch 3/5\n",
      "30/30 [==============================] - 1s 21ms/step - loss: 3.1939e-04 - mean_squared_error: 3.1939e-04\n",
      "Epoch 4/5\n",
      "30/30 [==============================] - 1s 20ms/step - loss: 3.0676e-04 - mean_squared_error: 3.0676e-04\n",
      "Epoch 5/5\n",
      "30/30 [==============================] - 1s 20ms/step - loss: 3.3473e-04 - mean_squared_error: 3.3473e-04\n",
      "1/1 [==============================] - 0s 27ms/step\n"
     ]
    },
    {
     "data": {
      "text/plain": [
       "array([[57482.574]], dtype=float32)"
      ]
     },
     "metadata": {},
     "output_type": "display_data"
    },
    {
     "name": "stdout",
     "output_type": "stream",
     "text": [
      "Epoch 1/5\n",
      "30/30 [==============================] - 1s 23ms/step - loss: 3.4405e-04 - mean_squared_error: 3.4405e-04\n",
      "Epoch 2/5\n",
      "30/30 [==============================] - 1s 18ms/step - loss: 3.2364e-04 - mean_squared_error: 3.2364e-04\n",
      "Epoch 3/5\n",
      "30/30 [==============================] - 1s 17ms/step - loss: 3.0015e-04 - mean_squared_error: 3.0015e-04\n",
      "Epoch 4/5\n",
      "30/30 [==============================] - 1s 17ms/step - loss: 3.0793e-04 - mean_squared_error: 3.0793e-04\n",
      "Epoch 5/5\n",
      "30/30 [==============================] - 1s 22ms/step - loss: 3.1271e-04 - mean_squared_error: 3.1271e-04\n",
      "1/1 [==============================] - 0s 24ms/step\n"
     ]
    },
    {
     "data": {
      "text/plain": [
       "array([[57443.43]], dtype=float32)"
      ]
     },
     "metadata": {},
     "output_type": "display_data"
    },
    {
     "name": "stdout",
     "output_type": "stream",
     "text": [
      "Epoch 1/5\n",
      "30/30 [==============================] - 1s 17ms/step - loss: 2.9622e-04 - mean_squared_error: 2.9622e-04\n",
      "Epoch 2/5\n",
      "30/30 [==============================] - 1s 18ms/step - loss: 3.8988e-04 - mean_squared_error: 3.8988e-04\n",
      "Epoch 3/5\n",
      "30/30 [==============================] - 1s 21ms/step - loss: 3.3239e-04 - mean_squared_error: 3.3239e-04\n",
      "Epoch 4/5\n",
      "30/30 [==============================] - 1s 21ms/step - loss: 2.9327e-04 - mean_squared_error: 2.9327e-04\n",
      "Epoch 5/5\n",
      "30/30 [==============================] - 1s 23ms/step - loss: 3.2283e-04 - mean_squared_error: 3.2283e-04\n",
      "1/1 [==============================] - 0s 28ms/step\n"
     ]
    },
    {
     "data": {
      "text/plain": [
       "array([[56655.79]], dtype=float32)"
      ]
     },
     "metadata": {},
     "output_type": "display_data"
    },
    {
     "name": "stdout",
     "output_type": "stream",
     "text": [
      "Epoch 1/5\n",
      "30/30 [==============================] - 1s 18ms/step - loss: 3.2924e-04 - mean_squared_error: 3.2924e-04\n",
      "Epoch 2/5\n",
      "30/30 [==============================] - 1s 22ms/step - loss: 3.0354e-04 - mean_squared_error: 3.0354e-04\n",
      "Epoch 3/5\n",
      "30/30 [==============================] - 1s 17ms/step - loss: 2.8346e-04 - mean_squared_error: 2.8346e-04\n",
      "Epoch 4/5\n",
      "30/30 [==============================] - 1s 17ms/step - loss: 2.9154e-04 - mean_squared_error: 2.9154e-04\n",
      "Epoch 5/5\n",
      "30/30 [==============================] - 1s 17ms/step - loss: 3.0754e-04 - mean_squared_error: 3.0754e-04\n",
      "1/1 [==============================] - 0s 34ms/step\n"
     ]
    },
    {
     "data": {
      "text/plain": [
       "array([[57288.16]], dtype=float32)"
      ]
     },
     "metadata": {},
     "output_type": "display_data"
    },
    {
     "name": "stdout",
     "output_type": "stream",
     "text": [
      "Epoch 1/5\n",
      "30/30 [==============================] - 1s 20ms/step - loss: 3.0983e-04 - mean_squared_error: 3.0983e-04\n",
      "Epoch 2/5\n",
      "30/30 [==============================] - 1s 20ms/step - loss: 3.0596e-04 - mean_squared_error: 3.0596e-04\n",
      "Epoch 3/5\n",
      "30/30 [==============================] - 1s 19ms/step - loss: 3.4767e-04 - mean_squared_error: 3.4767e-04\n",
      "Epoch 4/5\n",
      "30/30 [==============================] - 1s 17ms/step - loss: 2.9910e-04 - mean_squared_error: 2.9910e-04\n",
      "Epoch 5/5\n",
      "30/30 [==============================] - 1s 17ms/step - loss: 2.9339e-04 - mean_squared_error: 2.9339e-04\n",
      "1/1 [==============================] - 0s 23ms/step\n"
     ]
    },
    {
     "data": {
      "text/plain": [
       "array([[57245.305]], dtype=float32)"
      ]
     },
     "metadata": {},
     "output_type": "display_data"
    },
    {
     "name": "stdout",
     "output_type": "stream",
     "text": [
      "Epoch 1/5\n",
      "30/30 [==============================] - 1s 17ms/step - loss: 3.1736e-04 - mean_squared_error: 3.1736e-04\n",
      "Epoch 2/5\n",
      "30/30 [==============================] - 1s 17ms/step - loss: 3.2124e-04 - mean_squared_error: 3.2124e-04\n",
      "Epoch 3/5\n",
      "30/30 [==============================] - 1s 17ms/step - loss: 3.2353e-04 - mean_squared_error: 3.2353e-04\n",
      "Epoch 4/5\n",
      "30/30 [==============================] - 1s 17ms/step - loss: 3.2005e-04 - mean_squared_error: 3.2005e-04\n",
      "Epoch 5/5\n",
      "30/30 [==============================] - 1s 17ms/step - loss: 3.4891e-04 - mean_squared_error: 3.4891e-04\n",
      "1/1 [==============================] - 0s 23ms/step\n"
     ]
    },
    {
     "data": {
      "text/plain": [
       "array([[57145.797]], dtype=float32)"
      ]
     },
     "metadata": {},
     "output_type": "display_data"
    },
    {
     "name": "stdout",
     "output_type": "stream",
     "text": [
      "Epoch 1/5\n",
      "30/30 [==============================] - 1s 17ms/step - loss: 3.0173e-04 - mean_squared_error: 3.0173e-04\n",
      "Epoch 2/5\n",
      "30/30 [==============================] - 1s 17ms/step - loss: 2.9946e-04 - mean_squared_error: 2.9946e-04\n",
      "Epoch 3/5\n",
      "30/30 [==============================] - 1s 17ms/step - loss: 3.3745e-04 - mean_squared_error: 3.3745e-04\n",
      "Epoch 4/5\n",
      "30/30 [==============================] - 1s 17ms/step - loss: 2.8795e-04 - mean_squared_error: 2.8795e-04\n",
      "Epoch 5/5\n",
      "30/30 [==============================] - 1s 17ms/step - loss: 2.9687e-04 - mean_squared_error: 2.9687e-04\n",
      "1/1 [==============================] - 0s 25ms/step\n"
     ]
    },
    {
     "data": {
      "text/plain": [
       "array([[57353.61]], dtype=float32)"
      ]
     },
     "metadata": {},
     "output_type": "display_data"
    },
    {
     "name": "stdout",
     "output_type": "stream",
     "text": [
      "Epoch 1/5\n",
      "30/30 [==============================] - 0s 16ms/step - loss: 3.0871e-04 - mean_squared_error: 3.0871e-04\n",
      "Epoch 2/5\n",
      "30/30 [==============================] - 1s 17ms/step - loss: 2.8249e-04 - mean_squared_error: 2.8249e-04\n",
      "Epoch 3/5\n",
      "30/30 [==============================] - 0s 16ms/step - loss: 2.9442e-04 - mean_squared_error: 2.9442e-04\n",
      "Epoch 4/5\n",
      "30/30 [==============================] - 1s 17ms/step - loss: 2.8145e-04 - mean_squared_error: 2.8145e-04\n",
      "Epoch 5/5\n",
      "30/30 [==============================] - 1s 17ms/step - loss: 2.8815e-04 - mean_squared_error: 2.8815e-04\n",
      "1/1 [==============================] - 0s 24ms/step\n"
     ]
    },
    {
     "data": {
      "text/plain": [
       "array([[57727.938]], dtype=float32)"
      ]
     },
     "metadata": {},
     "output_type": "display_data"
    },
    {
     "name": "stdout",
     "output_type": "stream",
     "text": [
      "Epoch 1/5\n",
      "30/30 [==============================] - 1s 17ms/step - loss: 2.8501e-04 - mean_squared_error: 2.8501e-04\n",
      "Epoch 2/5\n",
      "30/30 [==============================] - 1s 17ms/step - loss: 2.9081e-04 - mean_squared_error: 2.9081e-04\n",
      "Epoch 3/5\n",
      "30/30 [==============================] - 1s 17ms/step - loss: 3.0653e-04 - mean_squared_error: 3.0653e-04\n",
      "Epoch 4/5\n",
      "30/30 [==============================] - 1s 18ms/step - loss: 2.9953e-04 - mean_squared_error: 2.9953e-04\n",
      "Epoch 5/5\n",
      "30/30 [==============================] - 1s 17ms/step - loss: 3.4355e-04 - mean_squared_error: 3.4355e-04\n",
      "1/1 [==============================] - 0s 23ms/step\n"
     ]
    },
    {
     "data": {
      "text/plain": [
       "array([[58055.926]], dtype=float32)"
      ]
     },
     "metadata": {},
     "output_type": "display_data"
    },
    {
     "name": "stdout",
     "output_type": "stream",
     "text": [
      "Epoch 1/5\n",
      "30/30 [==============================] - 1s 17ms/step - loss: 3.3332e-04 - mean_squared_error: 3.3332e-04\n",
      "Epoch 2/5\n",
      "30/30 [==============================] - 1s 17ms/step - loss: 3.2666e-04 - mean_squared_error: 3.2666e-04\n",
      "Epoch 3/5\n",
      "30/30 [==============================] - 1s 17ms/step - loss: 3.3880e-04 - mean_squared_error: 3.3880e-04\n",
      "Epoch 4/5\n",
      "30/30 [==============================] - 1s 17ms/step - loss: 3.2304e-04 - mean_squared_error: 3.2304e-04\n",
      "Epoch 5/5\n",
      "30/30 [==============================] - 1s 17ms/step - loss: 3.4539e-04 - mean_squared_error: 3.4539e-04\n",
      "1/1 [==============================] - 0s 24ms/step\n"
     ]
    },
    {
     "data": {
      "text/plain": [
       "array([[57987.4]], dtype=float32)"
      ]
     },
     "metadata": {},
     "output_type": "display_data"
    },
    {
     "name": "stdout",
     "output_type": "stream",
     "text": [
      "Epoch 1/5\n",
      "30/30 [==============================] - 1s 17ms/step - loss: 3.2398e-04 - mean_squared_error: 3.2398e-04\n",
      "Epoch 2/5\n",
      "30/30 [==============================] - 1s 17ms/step - loss: 3.2350e-04 - mean_squared_error: 3.2350e-04\n",
      "Epoch 3/5\n",
      "30/30 [==============================] - 1s 20ms/step - loss: 2.9937e-04 - mean_squared_error: 2.9937e-04\n",
      "Epoch 4/5\n",
      "30/30 [==============================] - 1s 22ms/step - loss: 2.8845e-04 - mean_squared_error: 2.8845e-04\n",
      "Epoch 5/5\n",
      "30/30 [==============================] - 1s 18ms/step - loss: 3.0002e-04 - mean_squared_error: 3.0002e-04\n",
      "1/1 [==============================] - 0s 23ms/step\n"
     ]
    },
    {
     "data": {
      "text/plain": [
       "array([[57253.35]], dtype=float32)"
      ]
     },
     "metadata": {},
     "output_type": "display_data"
    },
    {
     "name": "stdout",
     "output_type": "stream",
     "text": [
      "Epoch 1/5\n",
      "30/30 [==============================] - 1s 17ms/step - loss: 3.3867e-04 - mean_squared_error: 3.3867e-04\n",
      "Epoch 2/5\n",
      "30/30 [==============================] - 1s 17ms/step - loss: 3.0904e-04 - mean_squared_error: 3.0904e-04\n",
      "Epoch 3/5\n",
      "30/30 [==============================] - 1s 17ms/step - loss: 3.1193e-04 - mean_squared_error: 3.1193e-04\n",
      "Epoch 4/5\n",
      "30/30 [==============================] - 1s 17ms/step - loss: 2.8015e-04 - mean_squared_error: 2.8015e-04\n",
      "Epoch 5/5\n",
      "30/30 [==============================] - 1s 17ms/step - loss: 3.1866e-04 - mean_squared_error: 3.1866e-04\n",
      "1/1 [==============================] - 0s 23ms/step\n"
     ]
    },
    {
     "data": {
      "text/plain": [
       "array([[57332.48]], dtype=float32)"
      ]
     },
     "metadata": {},
     "output_type": "display_data"
    },
    {
     "name": "stdout",
     "output_type": "stream",
     "text": [
      "Epoch 1/5\n",
      "30/30 [==============================] - 1s 21ms/step - loss: 3.3780e-04 - mean_squared_error: 3.3780e-04\n",
      "Epoch 2/5\n",
      "30/30 [==============================] - 1s 21ms/step - loss: 3.6746e-04 - mean_squared_error: 3.6746e-04\n",
      "Epoch 3/5\n",
      "30/30 [==============================] - 1s 17ms/step - loss: 3.2015e-04 - mean_squared_error: 3.2015e-04\n",
      "Epoch 4/5\n",
      "30/30 [==============================] - 1s 19ms/step - loss: 3.3880e-04 - mean_squared_error: 3.3880e-04\n",
      "Epoch 5/5\n",
      "30/30 [==============================] - 1s 20ms/step - loss: 3.1027e-04 - mean_squared_error: 3.1027e-04\n",
      "1/1 [==============================] - 0s 29ms/step\n"
     ]
    },
    {
     "data": {
      "text/plain": [
       "array([[57184.727]], dtype=float32)"
      ]
     },
     "metadata": {},
     "output_type": "display_data"
    },
    {
     "name": "stdout",
     "output_type": "stream",
     "text": [
      "Epoch 1/5\n",
      "30/30 [==============================] - 1s 21ms/step - loss: 2.8828e-04 - mean_squared_error: 2.8828e-04\n",
      "Epoch 2/5\n",
      "30/30 [==============================] - 1s 17ms/step - loss: 2.8545e-04 - mean_squared_error: 2.8545e-04\n",
      "Epoch 3/5\n",
      "30/30 [==============================] - 1s 17ms/step - loss: 3.0156e-04 - mean_squared_error: 3.0156e-04\n",
      "Epoch 4/5\n",
      "30/30 [==============================] - 1s 17ms/step - loss: 2.9280e-04 - mean_squared_error: 2.9280e-04\n",
      "Epoch 5/5\n",
      "30/30 [==============================] - 1s 17ms/step - loss: 3.1947e-04 - mean_squared_error: 3.1947e-04\n",
      "1/1 [==============================] - 0s 24ms/step\n"
     ]
    },
    {
     "data": {
      "text/plain": [
       "array([[56892.71]], dtype=float32)"
      ]
     },
     "metadata": {},
     "output_type": "display_data"
    },
    {
     "name": "stdout",
     "output_type": "stream",
     "text": [
      "Epoch 1/5\n",
      "30/30 [==============================] - 1s 17ms/step - loss: 3.2571e-04 - mean_squared_error: 3.2571e-04\n",
      "Epoch 2/5\n",
      "30/30 [==============================] - 1s 17ms/step - loss: 3.0660e-04 - mean_squared_error: 3.0660e-04\n",
      "Epoch 3/5\n",
      "30/30 [==============================] - 1s 17ms/step - loss: 2.9139e-04 - mean_squared_error: 2.9139e-04\n",
      "Epoch 4/5\n",
      "30/30 [==============================] - 0s 16ms/step - loss: 3.2207e-04 - mean_squared_error: 3.2207e-04\n",
      "Epoch 5/5\n",
      "30/30 [==============================] - 1s 17ms/step - loss: 3.0814e-04 - mean_squared_error: 3.0814e-04\n",
      "1/1 [==============================] - 0s 23ms/step\n"
     ]
    },
    {
     "data": {
      "text/plain": [
       "array([[57225.734]], dtype=float32)"
      ]
     },
     "metadata": {},
     "output_type": "display_data"
    },
    {
     "name": "stdout",
     "output_type": "stream",
     "text": [
      "Epoch 1/5\n",
      "30/30 [==============================] - 1s 17ms/step - loss: 2.7804e-04 - mean_squared_error: 2.7804e-04\n",
      "Epoch 2/5\n",
      "30/30 [==============================] - 1s 17ms/step - loss: 2.9858e-04 - mean_squared_error: 2.9858e-04\n",
      "Epoch 3/5\n",
      "30/30 [==============================] - 1s 17ms/step - loss: 2.9535e-04 - mean_squared_error: 2.9535e-04\n",
      "Epoch 4/5\n",
      "30/30 [==============================] - 1s 17ms/step - loss: 2.9234e-04 - mean_squared_error: 2.9234e-04\n",
      "Epoch 5/5\n",
      "30/30 [==============================] - 1s 17ms/step - loss: 3.1545e-04 - mean_squared_error: 3.1545e-04\n",
      "1/1 [==============================] - 0s 22ms/step\n"
     ]
    },
    {
     "data": {
      "text/plain": [
       "array([[57546.324]], dtype=float32)"
      ]
     },
     "metadata": {},
     "output_type": "display_data"
    },
    {
     "name": "stdout",
     "output_type": "stream",
     "text": [
      "Epoch 1/5\n",
      "30/30 [==============================] - 1s 17ms/step - loss: 2.9538e-04 - mean_squared_error: 2.9538e-04\n",
      "Epoch 2/5\n",
      "30/30 [==============================] - 1s 17ms/step - loss: 2.9628e-04 - mean_squared_error: 2.9628e-04\n",
      "Epoch 3/5\n",
      "30/30 [==============================] - 1s 17ms/step - loss: 3.0632e-04 - mean_squared_error: 3.0632e-04\n",
      "Epoch 4/5\n",
      "30/30 [==============================] - 1s 17ms/step - loss: 3.0718e-04 - mean_squared_error: 3.0718e-04\n",
      "Epoch 5/5\n",
      "30/30 [==============================] - 1s 17ms/step - loss: 3.1822e-04 - mean_squared_error: 3.1822e-04\n",
      "1/1 [==============================] - 0s 23ms/step\n"
     ]
    },
    {
     "data": {
      "text/plain": [
       "array([[58972.375]], dtype=float32)"
      ]
     },
     "metadata": {},
     "output_type": "display_data"
    },
    {
     "name": "stdout",
     "output_type": "stream",
     "text": [
      "Epoch 1/5\n",
      "30/30 [==============================] - 1s 17ms/step - loss: 3.1296e-04 - mean_squared_error: 3.1296e-04\n",
      "Epoch 2/5\n",
      "30/30 [==============================] - 1s 17ms/step - loss: 2.9128e-04 - mean_squared_error: 2.9128e-04\n",
      "Epoch 3/5\n",
      "30/30 [==============================] - 0s 17ms/step - loss: 2.7427e-04 - mean_squared_error: 2.7427e-04\n",
      "Epoch 4/5\n",
      "30/30 [==============================] - 1s 17ms/step - loss: 2.8633e-04 - mean_squared_error: 2.8633e-04\n",
      "Epoch 5/5\n",
      "30/30 [==============================] - 1s 17ms/step - loss: 3.0638e-04 - mean_squared_error: 3.0638e-04\n",
      "1/1 [==============================] - 0s 22ms/step\n"
     ]
    },
    {
     "data": {
      "text/plain": [
       "array([[58751.863]], dtype=float32)"
      ]
     },
     "metadata": {},
     "output_type": "display_data"
    },
    {
     "name": "stdout",
     "output_type": "stream",
     "text": [
      "Epoch 1/5\n",
      "30/30 [==============================] - 1s 17ms/step - loss: 2.9973e-04 - mean_squared_error: 2.9973e-04\n",
      "Epoch 2/5\n",
      "30/30 [==============================] - 1s 17ms/step - loss: 2.9755e-04 - mean_squared_error: 2.9755e-04\n",
      "Epoch 3/5\n",
      "30/30 [==============================] - 1s 19ms/step - loss: 2.9411e-04 - mean_squared_error: 2.9411e-04\n",
      "Epoch 4/5\n",
      "30/30 [==============================] - 1s 21ms/step - loss: 3.4840e-04 - mean_squared_error: 3.4840e-04\n",
      "Epoch 5/5\n",
      "30/30 [==============================] - 1s 20ms/step - loss: 2.9051e-04 - mean_squared_error: 2.9051e-04\n",
      "1/1 [==============================] - 0s 29ms/step\n"
     ]
    },
    {
     "data": {
      "text/plain": [
       "array([[58465.92]], dtype=float32)"
      ]
     },
     "metadata": {},
     "output_type": "display_data"
    },
    {
     "name": "stdout",
     "output_type": "stream",
     "text": [
      "Epoch 1/5\n",
      "30/30 [==============================] - 1s 18ms/step - loss: 2.9392e-04 - mean_squared_error: 2.9392e-04\n",
      "Epoch 2/5\n",
      "30/30 [==============================] - 1s 17ms/step - loss: 3.0181e-04 - mean_squared_error: 3.0181e-04\n",
      "Epoch 3/5\n",
      "30/30 [==============================] - 1s 17ms/step - loss: 3.2685e-04 - mean_squared_error: 3.2685e-04\n",
      "Epoch 4/5\n",
      "30/30 [==============================] - 1s 17ms/step - loss: 2.8812e-04 - mean_squared_error: 2.8812e-04\n",
      "Epoch 5/5\n",
      "30/30 [==============================] - 1s 17ms/step - loss: 2.8715e-04 - mean_squared_error: 2.8715e-04\n",
      "1/1 [==============================] - 0s 22ms/step\n"
     ]
    },
    {
     "data": {
      "text/plain": [
       "array([[57927.375]], dtype=float32)"
      ]
     },
     "metadata": {},
     "output_type": "display_data"
    },
    {
     "name": "stdout",
     "output_type": "stream",
     "text": [
      "Epoch 1/5\n",
      "30/30 [==============================] - 1s 17ms/step - loss: 2.9634e-04 - mean_squared_error: 2.9634e-04\n",
      "Epoch 2/5\n",
      "30/30 [==============================] - 0s 16ms/step - loss: 2.9288e-04 - mean_squared_error: 2.9288e-04\n",
      "Epoch 3/5\n",
      "30/30 [==============================] - 1s 17ms/step - loss: 3.0472e-04 - mean_squared_error: 3.0472e-04\n",
      "Epoch 4/5\n",
      "30/30 [==============================] - 1s 21ms/step - loss: 2.7391e-04 - mean_squared_error: 2.7391e-04\n",
      "Epoch 5/5\n",
      "30/30 [==============================] - 1s 20ms/step - loss: 2.9052e-04 - mean_squared_error: 2.9052e-04\n",
      "1/1 [==============================] - 0s 29ms/step\n"
     ]
    },
    {
     "data": {
      "text/plain": [
       "array([[57866.656]], dtype=float32)"
      ]
     },
     "metadata": {},
     "output_type": "display_data"
    },
    {
     "name": "stdout",
     "output_type": "stream",
     "text": [
      "Epoch 1/5\n",
      "30/30 [==============================] - 1s 20ms/step - loss: 3.1923e-04 - mean_squared_error: 3.1923e-04\n",
      "Epoch 2/5\n",
      "30/30 [==============================] - 1s 17ms/step - loss: 3.2315e-04 - mean_squared_error: 3.2315e-04\n",
      "Epoch 3/5\n",
      "30/30 [==============================] - 1s 18ms/step - loss: 3.2290e-04 - mean_squared_error: 3.2290e-04\n",
      "Epoch 4/5\n",
      "30/30 [==============================] - 1s 20ms/step - loss: 3.0457e-04 - mean_squared_error: 3.0457e-04\n",
      "Epoch 5/5\n",
      "30/30 [==============================] - 1s 21ms/step - loss: 2.9699e-04 - mean_squared_error: 2.9699e-04\n",
      "1/1 [==============================] - 0s 29ms/step\n"
     ]
    },
    {
     "data": {
      "text/plain": [
       "array([[57313.535]], dtype=float32)"
      ]
     },
     "metadata": {},
     "output_type": "display_data"
    },
    {
     "name": "stdout",
     "output_type": "stream",
     "text": [
      "Epoch 1/5\n",
      "30/30 [==============================] - 1s 17ms/step - loss: 2.8843e-04 - mean_squared_error: 2.8843e-04\n",
      "Epoch 2/5\n",
      "30/30 [==============================] - 1s 17ms/step - loss: 2.7824e-04 - mean_squared_error: 2.7824e-04\n",
      "Epoch 3/5\n",
      "30/30 [==============================] - 0s 16ms/step - loss: 3.0801e-04 - mean_squared_error: 3.0801e-04\n",
      "Epoch 4/5\n",
      "30/30 [==============================] - 1s 17ms/step - loss: 2.9426e-04 - mean_squared_error: 2.9426e-04\n",
      "Epoch 5/5\n",
      "30/30 [==============================] - 1s 18ms/step - loss: 2.6959e-04 - mean_squared_error: 2.6959e-04\n",
      "1/1 [==============================] - 0s 23ms/step\n"
     ]
    },
    {
     "data": {
      "text/plain": [
       "array([[56721.35]], dtype=float32)"
      ]
     },
     "metadata": {},
     "output_type": "display_data"
    },
    {
     "name": "stdout",
     "output_type": "stream",
     "text": [
      "Epoch 1/5\n",
      "30/30 [==============================] - 1s 17ms/step - loss: 3.0311e-04 - mean_squared_error: 3.0311e-04\n",
      "Epoch 2/5\n",
      "30/30 [==============================] - 1s 17ms/step - loss: 2.9589e-04 - mean_squared_error: 2.9589e-04\n",
      "Epoch 3/5\n",
      "30/30 [==============================] - 1s 17ms/step - loss: 2.9195e-04 - mean_squared_error: 2.9195e-04\n",
      "Epoch 4/5\n",
      "30/30 [==============================] - 1s 17ms/step - loss: 3.1262e-04 - mean_squared_error: 3.1262e-04\n",
      "Epoch 5/5\n",
      "30/30 [==============================] - 1s 19ms/step - loss: 2.8055e-04 - mean_squared_error: 2.8055e-04\n",
      "1/1 [==============================] - 0s 29ms/step\n"
     ]
    },
    {
     "data": {
      "text/plain": [
       "array([[57316.574]], dtype=float32)"
      ]
     },
     "metadata": {},
     "output_type": "display_data"
    },
    {
     "name": "stdout",
     "output_type": "stream",
     "text": [
      "Epoch 1/5\n",
      "30/30 [==============================] - 1s 20ms/step - loss: 3.0981e-04 - mean_squared_error: 3.0981e-04\n",
      "Epoch 2/5\n",
      "30/30 [==============================] - 1s 19ms/step - loss: 2.8130e-04 - mean_squared_error: 2.8130e-04\n",
      "Epoch 3/5\n",
      "30/30 [==============================] - 1s 17ms/step - loss: 2.7771e-04 - mean_squared_error: 2.7771e-04\n",
      "Epoch 4/5\n",
      "30/30 [==============================] - 1s 18ms/step - loss: 3.1105e-04 - mean_squared_error: 3.1105e-04\n",
      "Epoch 5/5\n",
      "30/30 [==============================] - 1s 20ms/step - loss: 2.8537e-04 - mean_squared_error: 2.8537e-04\n",
      "1/1 [==============================] - 0s 28ms/step\n"
     ]
    },
    {
     "data": {
      "text/plain": [
       "array([[56893.598]], dtype=float32)"
      ]
     },
     "metadata": {},
     "output_type": "display_data"
    },
    {
     "name": "stdout",
     "output_type": "stream",
     "text": [
      "Epoch 1/5\n",
      "30/30 [==============================] - 1s 20ms/step - loss: 3.1585e-04 - mean_squared_error: 3.1585e-04\n",
      "Epoch 2/5\n",
      "30/30 [==============================] - 1s 19ms/step - loss: 2.7038e-04 - mean_squared_error: 2.7038e-04\n",
      "Epoch 3/5\n",
      "30/30 [==============================] - 1s 21ms/step - loss: 2.7957e-04 - mean_squared_error: 2.7957e-04\n",
      "Epoch 4/5\n",
      "30/30 [==============================] - 1s 20ms/step - loss: 2.9831e-04 - mean_squared_error: 2.9831e-04\n",
      "Epoch 5/5\n",
      "30/30 [==============================] - 1s 20ms/step - loss: 2.8265e-04 - mean_squared_error: 2.8265e-04\n",
      "1/1 [==============================] - 0s 28ms/step\n"
     ]
    },
    {
     "data": {
      "text/plain": [
       "array([[57248.973]], dtype=float32)"
      ]
     },
     "metadata": {},
     "output_type": "display_data"
    },
    {
     "name": "stdout",
     "output_type": "stream",
     "text": [
      "Epoch 1/5\n",
      "30/30 [==============================] - 1s 20ms/step - loss: 3.0891e-04 - mean_squared_error: 3.0891e-04\n",
      "Epoch 2/5\n",
      "30/30 [==============================] - 1s 20ms/step - loss: 3.1418e-04 - mean_squared_error: 3.1418e-04\n",
      "Epoch 3/5\n",
      "30/30 [==============================] - 1s 18ms/step - loss: 2.8522e-04 - mean_squared_error: 2.8522e-04\n",
      "Epoch 4/5\n",
      "30/30 [==============================] - 1s 17ms/step - loss: 2.9427e-04 - mean_squared_error: 2.9427e-04\n",
      "Epoch 5/5\n",
      "30/30 [==============================] - 1s 18ms/step - loss: 3.2013e-04 - mean_squared_error: 3.2013e-04\n",
      "1/1 [==============================] - 0s 28ms/step\n"
     ]
    },
    {
     "data": {
      "text/plain": [
       "array([[58058.234]], dtype=float32)"
      ]
     },
     "metadata": {},
     "output_type": "display_data"
    },
    {
     "name": "stdout",
     "output_type": "stream",
     "text": [
      "Epoch 1/5\n",
      "31/31 [==============================] - 1s 20ms/step - loss: 2.8452e-04 - mean_squared_error: 2.8452e-04\n",
      "Epoch 2/5\n",
      "31/31 [==============================] - 1s 20ms/step - loss: 2.9308e-04 - mean_squared_error: 2.9308e-04\n",
      "Epoch 3/5\n",
      "31/31 [==============================] - 1s 20ms/step - loss: 3.7215e-04 - mean_squared_error: 3.7215e-04\n",
      "Epoch 4/5\n",
      "31/31 [==============================] - 1s 18ms/step - loss: 3.1774e-04 - mean_squared_error: 3.1774e-04\n",
      "Epoch 5/5\n",
      "31/31 [==============================] - 1s 18ms/step - loss: 4.1349e-04 - mean_squared_error: 4.1349e-04\n",
      "1/1 [==============================] - 0s 24ms/step\n"
     ]
    },
    {
     "data": {
      "text/plain": [
       "array([[55944.176]], dtype=float32)"
      ]
     },
     "metadata": {},
     "output_type": "display_data"
    },
    {
     "name": "stdout",
     "output_type": "stream",
     "text": [
      "Epoch 1/5\n",
      "31/31 [==============================] - 1s 18ms/step - loss: 7.5929e-04 - mean_squared_error: 7.5929e-04\n",
      "Epoch 2/5\n",
      "31/31 [==============================] - 1s 17ms/step - loss: 3.2932e-04 - mean_squared_error: 3.2932e-04\n",
      "Epoch 3/5\n",
      "31/31 [==============================] - 1s 18ms/step - loss: 3.0923e-04 - mean_squared_error: 3.0923e-04\n",
      "Epoch 4/5\n",
      "31/31 [==============================] - 1s 20ms/step - loss: 3.3137e-04 - mean_squared_error: 3.3137e-04\n",
      "Epoch 5/5\n",
      "31/31 [==============================] - 1s 20ms/step - loss: 3.0151e-04 - mean_squared_error: 3.0151e-04\n",
      "1/1 [==============================] - 0s 29ms/step\n"
     ]
    },
    {
     "data": {
      "text/plain": [
       "array([[57119.73]], dtype=float32)"
      ]
     },
     "metadata": {},
     "output_type": "display_data"
    },
    {
     "name": "stdout",
     "output_type": "stream",
     "text": [
      "Epoch 1/5\n",
      "31/31 [==============================] - 1s 20ms/step - loss: 2.9903e-04 - mean_squared_error: 2.9903e-04\n",
      "Epoch 2/5\n",
      "31/31 [==============================] - 1s 20ms/step - loss: 2.9382e-04 - mean_squared_error: 2.9382e-04\n",
      "Epoch 3/5\n",
      "31/31 [==============================] - 1s 20ms/step - loss: 2.8488e-04 - mean_squared_error: 2.8488e-04\n",
      "Epoch 4/5\n",
      "31/31 [==============================] - 1s 20ms/step - loss: 3.2482e-04 - mean_squared_error: 3.2482e-04\n",
      "Epoch 5/5\n",
      "31/31 [==============================] - 1s 20ms/step - loss: 2.8148e-04 - mean_squared_error: 2.8148e-04\n",
      "1/1 [==============================] - 0s 28ms/step\n"
     ]
    },
    {
     "data": {
      "text/plain": [
       "array([[57421.547]], dtype=float32)"
      ]
     },
     "metadata": {},
     "output_type": "display_data"
    },
    {
     "name": "stdout",
     "output_type": "stream",
     "text": [
      "Epoch 1/5\n",
      "31/31 [==============================] - 1s 20ms/step - loss: 3.0705e-04 - mean_squared_error: 3.0705e-04\n",
      "Epoch 2/5\n",
      "31/31 [==============================] - 1s 19ms/step - loss: 2.7954e-04 - mean_squared_error: 2.7954e-04\n",
      "Epoch 3/5\n",
      "31/31 [==============================] - 1s 19ms/step - loss: 2.8086e-04 - mean_squared_error: 2.8086e-04\n",
      "Epoch 4/5\n",
      "31/31 [==============================] - 1s 20ms/step - loss: 3.4588e-04 - mean_squared_error: 3.4588e-04\n",
      "Epoch 5/5\n",
      "31/31 [==============================] - 1s 20ms/step - loss: 2.7787e-04 - mean_squared_error: 2.7787e-04\n",
      "1/1 [==============================] - 0s 30ms/step\n"
     ]
    },
    {
     "data": {
      "text/plain": [
       "array([[57093.34]], dtype=float32)"
      ]
     },
     "metadata": {},
     "output_type": "display_data"
    },
    {
     "name": "stdout",
     "output_type": "stream",
     "text": [
      "Epoch 1/5\n",
      "31/31 [==============================] - 1s 20ms/step - loss: 3.0283e-04 - mean_squared_error: 3.0283e-04\n",
      "Epoch 2/5\n",
      "31/31 [==============================] - 1s 19ms/step - loss: 2.8308e-04 - mean_squared_error: 2.8308e-04\n",
      "Epoch 3/5\n",
      "31/31 [==============================] - 1s 17ms/step - loss: 3.0147e-04 - mean_squared_error: 3.0147e-04\n",
      "Epoch 4/5\n",
      "31/31 [==============================] - 1s 17ms/step - loss: 2.9974e-04 - mean_squared_error: 2.9974e-04\n",
      "Epoch 5/5\n",
      "31/31 [==============================] - 1s 16ms/step - loss: 2.9824e-04 - mean_squared_error: 2.9824e-04\n",
      "1/1 [==============================] - 0s 23ms/step\n"
     ]
    },
    {
     "data": {
      "text/plain": [
       "array([[57056.48]], dtype=float32)"
      ]
     },
     "metadata": {},
     "output_type": "display_data"
    },
    {
     "name": "stdout",
     "output_type": "stream",
     "text": [
      "Epoch 1/5\n",
      "31/31 [==============================] - 1s 17ms/step - loss: 2.7434e-04 - mean_squared_error: 2.7434e-04\n",
      "Epoch 2/5\n",
      "31/31 [==============================] - 1s 17ms/step - loss: 2.9229e-04 - mean_squared_error: 2.9229e-04\n",
      "Epoch 3/5\n",
      "31/31 [==============================] - 1s 17ms/step - loss: 3.2901e-04 - mean_squared_error: 3.2901e-04\n",
      "Epoch 4/5\n",
      "31/31 [==============================] - 1s 17ms/step - loss: 2.6498e-04 - mean_squared_error: 2.6498e-04\n",
      "Epoch 5/5\n",
      "31/31 [==============================] - 1s 17ms/step - loss: 2.6919e-04 - mean_squared_error: 2.6919e-04\n",
      "1/1 [==============================] - 0s 26ms/step\n"
     ]
    },
    {
     "data": {
      "text/plain": [
       "array([[56311.297]], dtype=float32)"
      ]
     },
     "metadata": {},
     "output_type": "display_data"
    },
    {
     "name": "stdout",
     "output_type": "stream",
     "text": [
      "Epoch 1/5\n",
      "31/31 [==============================] - 1s 21ms/step - loss: 2.8530e-04 - mean_squared_error: 2.8530e-04\n",
      "Epoch 2/5\n",
      "31/31 [==============================] - 1s 18ms/step - loss: 2.6179e-04 - mean_squared_error: 2.6179e-04\n",
      "Epoch 3/5\n",
      "31/31 [==============================] - 1s 17ms/step - loss: 2.3734e-04 - mean_squared_error: 2.3734e-04\n",
      "Epoch 4/5\n",
      "31/31 [==============================] - 1s 17ms/step - loss: 2.7793e-04 - mean_squared_error: 2.7793e-04\n",
      "Epoch 5/5\n",
      "31/31 [==============================] - 1s 17ms/step - loss: 3.0998e-04 - mean_squared_error: 3.0998e-04\n",
      "1/1 [==============================] - 0s 23ms/step\n"
     ]
    },
    {
     "data": {
      "text/plain": [
       "array([[56802.117]], dtype=float32)"
      ]
     },
     "metadata": {},
     "output_type": "display_data"
    },
    {
     "name": "stdout",
     "output_type": "stream",
     "text": [
      "Epoch 1/5\n",
      "31/31 [==============================] - 1s 17ms/step - loss: 3.0266e-04 - mean_squared_error: 3.0266e-04\n",
      "Epoch 2/5\n",
      "31/31 [==============================] - 1s 22ms/step - loss: 2.8377e-04 - mean_squared_error: 2.8377e-04\n",
      "Epoch 3/5\n",
      "31/31 [==============================] - 1s 24ms/step - loss: 2.7213e-04 - mean_squared_error: 2.7213e-04\n",
      "Epoch 4/5\n",
      "31/31 [==============================] - 1s 21ms/step - loss: 2.6884e-04 - mean_squared_error: 2.6884e-04\n",
      "Epoch 5/5\n",
      "31/31 [==============================] - 1s 21ms/step - loss: 2.8743e-04 - mean_squared_error: 2.8743e-04\n",
      "1/1 [==============================] - 0s 27ms/step\n"
     ]
    },
    {
     "data": {
      "text/plain": [
       "array([[56351.688]], dtype=float32)"
      ]
     },
     "metadata": {},
     "output_type": "display_data"
    },
    {
     "name": "stdout",
     "output_type": "stream",
     "text": [
      "Epoch 1/5\n",
      "31/31 [==============================] - 1s 18ms/step - loss: 2.6837e-04 - mean_squared_error: 2.6837e-04\n",
      "Epoch 2/5\n",
      "31/31 [==============================] - 1s 17ms/step - loss: 2.8237e-04 - mean_squared_error: 2.8237e-04\n",
      "Epoch 3/5\n",
      "31/31 [==============================] - 1s 18ms/step - loss: 3.1389e-04 - mean_squared_error: 3.1389e-04\n",
      "Epoch 4/5\n",
      "31/31 [==============================] - 1s 20ms/step - loss: 3.0645e-04 - mean_squared_error: 3.0645e-04\n",
      "Epoch 5/5\n",
      "31/31 [==============================] - 1s 18ms/step - loss: 2.8985e-04 - mean_squared_error: 2.8985e-04\n",
      "1/1 [==============================] - 0s 24ms/step\n"
     ]
    },
    {
     "data": {
      "text/plain": [
       "array([[57028.645]], dtype=float32)"
      ]
     },
     "metadata": {},
     "output_type": "display_data"
    },
    {
     "name": "stdout",
     "output_type": "stream",
     "text": [
      "Epoch 1/5\n",
      "31/31 [==============================] - 1s 17ms/step - loss: 3.0418e-04 - mean_squared_error: 3.0418e-04\n",
      "Epoch 2/5\n",
      "31/31 [==============================] - 1s 17ms/step - loss: 2.8051e-04 - mean_squared_error: 2.8051e-04\n",
      "Epoch 3/5\n",
      "31/31 [==============================] - 1s 18ms/step - loss: 2.8614e-04 - mean_squared_error: 2.8614e-04\n",
      "Epoch 4/5\n",
      "31/31 [==============================] - 1s 18ms/step - loss: 2.8735e-04 - mean_squared_error: 2.8735e-04\n",
      "Epoch 5/5\n",
      "31/31 [==============================] - 1s 18ms/step - loss: 3.0159e-04 - mean_squared_error: 3.0159e-04\n",
      "1/1 [==============================] - 0s 31ms/step\n"
     ]
    },
    {
     "data": {
      "text/plain": [
       "array([[56423.03]], dtype=float32)"
      ]
     },
     "metadata": {},
     "output_type": "display_data"
    },
    {
     "name": "stdout",
     "output_type": "stream",
     "text": [
      "Epoch 1/5\n",
      "31/31 [==============================] - 1s 22ms/step - loss: 2.8316e-04 - mean_squared_error: 2.8316e-04\n",
      "Epoch 2/5\n",
      "31/31 [==============================] - 1s 31ms/step - loss: 2.5506e-04 - mean_squared_error: 2.5506e-04\n",
      "Epoch 3/5\n",
      "31/31 [==============================] - 1s 18ms/step - loss: 2.7577e-04 - mean_squared_error: 2.7577e-04\n",
      "Epoch 4/5\n",
      "31/31 [==============================] - 1s 17ms/step - loss: 2.5882e-04 - mean_squared_error: 2.5882e-04\n",
      "Epoch 5/5\n",
      "31/31 [==============================] - 1s 20ms/step - loss: 3.0014e-04 - mean_squared_error: 3.0014e-04\n",
      "1/1 [==============================] - 0s 23ms/step\n"
     ]
    },
    {
     "data": {
      "text/plain": [
       "array([[56991.703]], dtype=float32)"
      ]
     },
     "metadata": {},
     "output_type": "display_data"
    },
    {
     "name": "stdout",
     "output_type": "stream",
     "text": [
      "Epoch 1/5\n",
      "31/31 [==============================] - 1s 23ms/step - loss: 2.9653e-04 - mean_squared_error: 2.9653e-04\n",
      "Epoch 2/5\n",
      "31/31 [==============================] - 1s 20ms/step - loss: 2.7243e-04 - mean_squared_error: 2.7243e-04\n",
      "Epoch 3/5\n",
      "31/31 [==============================] - 1s 17ms/step - loss: 2.6597e-04 - mean_squared_error: 2.6597e-04\n",
      "Epoch 4/5\n",
      "31/31 [==============================] - 1s 18ms/step - loss: 2.6731e-04 - mean_squared_error: 2.6731e-04\n",
      "Epoch 5/5\n",
      "31/31 [==============================] - 1s 23ms/step - loss: 3.0632e-04 - mean_squared_error: 3.0632e-04\n",
      "1/1 [==============================] - 0s 30ms/step\n"
     ]
    },
    {
     "data": {
      "text/plain": [
       "array([[57094.59]], dtype=float32)"
      ]
     },
     "metadata": {},
     "output_type": "display_data"
    },
    {
     "name": "stdout",
     "output_type": "stream",
     "text": [
      "Epoch 1/5\n",
      "31/31 [==============================] - 1s 20ms/step - loss: 2.6465e-04 - mean_squared_error: 2.6465e-04\n",
      "Epoch 2/5\n",
      "31/31 [==============================] - 1s 17ms/step - loss: 2.7835e-04 - mean_squared_error: 2.7835e-04\n",
      "Epoch 3/5\n",
      "31/31 [==============================] - 1s 17ms/step - loss: 2.7306e-04 - mean_squared_error: 2.7306e-04\n",
      "Epoch 4/5\n",
      "31/31 [==============================] - 1s 17ms/step - loss: 2.9130e-04 - mean_squared_error: 2.9130e-04\n",
      "Epoch 5/5\n",
      "31/31 [==============================] - 1s 17ms/step - loss: 2.6262e-04 - mean_squared_error: 2.6262e-04\n",
      "1/1 [==============================] - 0s 24ms/step\n"
     ]
    },
    {
     "data": {
      "text/plain": [
       "array([[56871.547]], dtype=float32)"
      ]
     },
     "metadata": {},
     "output_type": "display_data"
    },
    {
     "name": "stdout",
     "output_type": "stream",
     "text": [
      "Epoch 1/5\n",
      "31/31 [==============================] - 1s 17ms/step - loss: 2.7651e-04 - mean_squared_error: 2.7651e-04\n",
      "Epoch 2/5\n",
      "31/31 [==============================] - 1s 19ms/step - loss: 2.7702e-04 - mean_squared_error: 2.7702e-04\n",
      "Epoch 3/5\n",
      "31/31 [==============================] - 1s 18ms/step - loss: 2.9186e-04 - mean_squared_error: 2.9186e-04\n",
      "Epoch 4/5\n",
      "31/31 [==============================] - 1s 17ms/step - loss: 2.7708e-04 - mean_squared_error: 2.7708e-04\n",
      "Epoch 5/5\n",
      "31/31 [==============================] - 1s 22ms/step - loss: 2.7254e-04 - mean_squared_error: 2.7254e-04\n",
      "1/1 [==============================] - 0s 23ms/step\n"
     ]
    },
    {
     "data": {
      "text/plain": [
       "array([[57400.21]], dtype=float32)"
      ]
     },
     "metadata": {},
     "output_type": "display_data"
    },
    {
     "name": "stdout",
     "output_type": "stream",
     "text": [
      "Epoch 1/5\n",
      "31/31 [==============================] - 1s 17ms/step - loss: 2.9337e-04 - mean_squared_error: 2.9337e-04\n",
      "Epoch 2/5\n",
      "31/31 [==============================] - 1s 17ms/step - loss: 2.6731e-04 - mean_squared_error: 2.6731e-04\n",
      "Epoch 3/5\n",
      "31/31 [==============================] - 1s 17ms/step - loss: 2.8758e-04 - mean_squared_error: 2.8758e-04\n",
      "Epoch 4/5\n",
      "31/31 [==============================] - 1s 17ms/step - loss: 2.9051e-04 - mean_squared_error: 2.9051e-04\n",
      "Epoch 5/5\n",
      "31/31 [==============================] - 1s 17ms/step - loss: 2.9322e-04 - mean_squared_error: 2.9322e-04\n",
      "1/1 [==============================] - 0s 24ms/step\n"
     ]
    },
    {
     "data": {
      "text/plain": [
       "array([[57743.895]], dtype=float32)"
      ]
     },
     "metadata": {},
     "output_type": "display_data"
    },
    {
     "name": "stdout",
     "output_type": "stream",
     "text": [
      "Epoch 1/5\n",
      "31/31 [==============================] - 1s 17ms/step - loss: 2.7461e-04 - mean_squared_error: 2.7461e-04\n",
      "Epoch 2/5\n",
      "31/31 [==============================] - 1s 17ms/step - loss: 2.9338e-04 - mean_squared_error: 2.9338e-04\n",
      "Epoch 3/5\n",
      "31/31 [==============================] - 1s 17ms/step - loss: 2.5886e-04 - mean_squared_error: 2.5886e-04\n",
      "Epoch 4/5\n",
      "31/31 [==============================] - 1s 18ms/step - loss: 2.5774e-04 - mean_squared_error: 2.5774e-04\n",
      "Epoch 5/5\n",
      "31/31 [==============================] - 1s 18ms/step - loss: 2.7059e-04 - mean_squared_error: 2.7059e-04\n",
      "1/1 [==============================] - 0s 23ms/step\n"
     ]
    },
    {
     "data": {
      "text/plain": [
       "array([[57502.18]], dtype=float32)"
      ]
     },
     "metadata": {},
     "output_type": "display_data"
    },
    {
     "name": "stdout",
     "output_type": "stream",
     "text": [
      "Epoch 1/5\n",
      "31/31 [==============================] - 1s 18ms/step - loss: 2.8933e-04 - mean_squared_error: 2.8933e-04\n",
      "Epoch 2/5\n",
      "31/31 [==============================] - 1s 17ms/step - loss: 3.0174e-04 - mean_squared_error: 3.0174e-04\n",
      "Epoch 3/5\n",
      "31/31 [==============================] - 1s 17ms/step - loss: 2.5697e-04 - mean_squared_error: 2.5697e-04\n",
      "Epoch 4/5\n",
      "31/31 [==============================] - 1s 22ms/step - loss: 2.6677e-04 - mean_squared_error: 2.6677e-04\n",
      "Epoch 5/5\n",
      "31/31 [==============================] - 1s 22ms/step - loss: 2.9438e-04 - mean_squared_error: 2.9438e-04\n",
      "1/1 [==============================] - 0s 26ms/step\n"
     ]
    },
    {
     "data": {
      "text/plain": [
       "array([[57954.062]], dtype=float32)"
      ]
     },
     "metadata": {},
     "output_type": "display_data"
    },
    {
     "name": "stdout",
     "output_type": "stream",
     "text": [
      "Epoch 1/5\n",
      "31/31 [==============================] - 1s 18ms/step - loss: 2.7924e-04 - mean_squared_error: 2.7924e-04\n",
      "Epoch 2/5\n",
      "31/31 [==============================] - 1s 20ms/step - loss: 2.9633e-04 - mean_squared_error: 2.9633e-04\n",
      "Epoch 3/5\n",
      "31/31 [==============================] - 1s 18ms/step - loss: 2.7989e-04 - mean_squared_error: 2.7989e-04\n",
      "Epoch 4/5\n",
      "31/31 [==============================] - 1s 20ms/step - loss: 2.6059e-04 - mean_squared_error: 2.6059e-04\n",
      "Epoch 5/5\n",
      "31/31 [==============================] - 1s 17ms/step - loss: 2.7630e-04 - mean_squared_error: 2.7630e-04\n",
      "1/1 [==============================] - 0s 22ms/step\n"
     ]
    },
    {
     "data": {
      "text/plain": [
       "array([[58266.387]], dtype=float32)"
      ]
     },
     "metadata": {},
     "output_type": "display_data"
    },
    {
     "name": "stdout",
     "output_type": "stream",
     "text": [
      "Epoch 1/5\n",
      "31/31 [==============================] - 1s 17ms/step - loss: 2.8944e-04 - mean_squared_error: 2.8944e-04\n",
      "Epoch 2/5\n",
      "31/31 [==============================] - 1s 18ms/step - loss: 2.6464e-04 - mean_squared_error: 2.6464e-04\n",
      "Epoch 3/5\n",
      "31/31 [==============================] - 1s 17ms/step - loss: 2.8771e-04 - mean_squared_error: 2.8771e-04\n",
      "Epoch 4/5\n",
      "31/31 [==============================] - 1s 18ms/step - loss: 2.7927e-04 - mean_squared_error: 2.7927e-04\n",
      "Epoch 5/5\n",
      "31/31 [==============================] - 1s 18ms/step - loss: 2.7767e-04 - mean_squared_error: 2.7767e-04\n",
      "1/1 [==============================] - 0s 23ms/step\n"
     ]
    },
    {
     "data": {
      "text/plain": [
       "array([[58549.51]], dtype=float32)"
      ]
     },
     "metadata": {},
     "output_type": "display_data"
    },
    {
     "name": "stdout",
     "output_type": "stream",
     "text": [
      "Epoch 1/5\n",
      "31/31 [==============================] - 1s 18ms/step - loss: 2.5573e-04 - mean_squared_error: 2.5573e-04\n",
      "Epoch 2/5\n",
      "31/31 [==============================] - 1s 20ms/step - loss: 2.8430e-04 - mean_squared_error: 2.8430e-04\n",
      "Epoch 3/5\n",
      "31/31 [==============================] - 1s 20ms/step - loss: 2.8946e-04 - mean_squared_error: 2.8946e-04\n",
      "Epoch 4/5\n",
      "31/31 [==============================] - 1s 20ms/step - loss: 2.6740e-04 - mean_squared_error: 2.6740e-04\n",
      "Epoch 5/5\n",
      "31/31 [==============================] - 1s 20ms/step - loss: 2.5153e-04 - mean_squared_error: 2.5153e-04\n",
      "1/1 [==============================] - 0s 30ms/step\n"
     ]
    },
    {
     "data": {
      "text/plain": [
       "array([[58550.71]], dtype=float32)"
      ]
     },
     "metadata": {},
     "output_type": "display_data"
    },
    {
     "name": "stdout",
     "output_type": "stream",
     "text": [
      "Epoch 1/5\n",
      "31/31 [==============================] - 1s 17ms/step - loss: 2.9363e-04 - mean_squared_error: 2.9363e-04\n",
      "Epoch 2/5\n",
      "31/31 [==============================] - 1s 17ms/step - loss: 2.8818e-04 - mean_squared_error: 2.8818e-04\n",
      "Epoch 3/5\n",
      "31/31 [==============================] - 1s 17ms/step - loss: 2.4469e-04 - mean_squared_error: 2.4469e-04\n",
      "Epoch 4/5\n",
      "31/31 [==============================] - 1s 17ms/step - loss: 2.8440e-04 - mean_squared_error: 2.8440e-04\n",
      "Epoch 5/5\n",
      "31/31 [==============================] - 1s 17ms/step - loss: 2.9967e-04 - mean_squared_error: 2.9967e-04\n",
      "1/1 [==============================] - 0s 24ms/step\n"
     ]
    },
    {
     "data": {
      "text/plain": [
       "array([[58362.117]], dtype=float32)"
      ]
     },
     "metadata": {},
     "output_type": "display_data"
    },
    {
     "name": "stdout",
     "output_type": "stream",
     "text": [
      "Epoch 1/5\n",
      "31/31 [==============================] - 1s 17ms/step - loss: 2.7511e-04 - mean_squared_error: 2.7511e-04\n",
      "Epoch 2/5\n",
      "31/31 [==============================] - 1s 17ms/step - loss: 2.8093e-04 - mean_squared_error: 2.8093e-04\n",
      "Epoch 3/5\n",
      "31/31 [==============================] - 1s 17ms/step - loss: 2.4952e-04 - mean_squared_error: 2.4952e-04\n",
      "Epoch 4/5\n",
      "31/31 [==============================] - 1s 17ms/step - loss: 2.6036e-04 - mean_squared_error: 2.6036e-04\n",
      "Epoch 5/5\n",
      "31/31 [==============================] - 1s 17ms/step - loss: 2.7683e-04 - mean_squared_error: 2.7683e-04\n",
      "1/1 [==============================] - 0s 23ms/step\n"
     ]
    },
    {
     "data": {
      "text/plain": [
       "array([[58378.812]], dtype=float32)"
      ]
     },
     "metadata": {},
     "output_type": "display_data"
    },
    {
     "name": "stdout",
     "output_type": "stream",
     "text": [
      "Epoch 1/5\n",
      "31/31 [==============================] - 1s 17ms/step - loss: 2.5927e-04 - mean_squared_error: 2.5927e-04\n",
      "Epoch 2/5\n",
      "31/31 [==============================] - 1s 17ms/step - loss: 2.9170e-04 - mean_squared_error: 2.9170e-04\n",
      "Epoch 3/5\n",
      "31/31 [==============================] - 1s 17ms/step - loss: 2.6892e-04 - mean_squared_error: 2.6892e-04\n",
      "Epoch 4/5\n",
      "31/31 [==============================] - 1s 17ms/step - loss: 2.9060e-04 - mean_squared_error: 2.9060e-04\n",
      "Epoch 5/5\n",
      "31/31 [==============================] - 1s 17ms/step - loss: 2.7249e-04 - mean_squared_error: 2.7249e-04\n",
      "1/1 [==============================] - 0s 23ms/step\n"
     ]
    },
    {
     "data": {
      "text/plain": [
       "array([[58378.02]], dtype=float32)"
      ]
     },
     "metadata": {},
     "output_type": "display_data"
    },
    {
     "name": "stdout",
     "output_type": "stream",
     "text": [
      "Epoch 1/5\n",
      "31/31 [==============================] - 1s 17ms/step - loss: 2.6789e-04 - mean_squared_error: 2.6789e-04\n",
      "Epoch 2/5\n",
      "31/31 [==============================] - 1s 17ms/step - loss: 3.0869e-04 - mean_squared_error: 3.0869e-04\n",
      "Epoch 3/5\n",
      "31/31 [==============================] - 1s 17ms/step - loss: 2.9116e-04 - mean_squared_error: 2.9116e-04\n",
      "Epoch 4/5\n",
      "31/31 [==============================] - 1s 17ms/step - loss: 2.9310e-04 - mean_squared_error: 2.9310e-04\n",
      "Epoch 5/5\n",
      "31/31 [==============================] - 1s 17ms/step - loss: 2.9617e-04 - mean_squared_error: 2.9617e-04\n",
      "1/1 [==============================] - 0s 22ms/step\n"
     ]
    },
    {
     "data": {
      "text/plain": [
       "array([[57555.414]], dtype=float32)"
      ]
     },
     "metadata": {},
     "output_type": "display_data"
    },
    {
     "name": "stdout",
     "output_type": "stream",
     "text": [
      "Epoch 1/5\n",
      "31/31 [==============================] - 1s 17ms/step - loss: 2.7052e-04 - mean_squared_error: 2.7052e-04\n",
      "Epoch 2/5\n",
      "31/31 [==============================] - 1s 17ms/step - loss: 2.6786e-04 - mean_squared_error: 2.6786e-04\n",
      "Epoch 3/5\n",
      "31/31 [==============================] - 1s 17ms/step - loss: 2.6725e-04 - mean_squared_error: 2.6725e-04\n",
      "Epoch 4/5\n",
      "31/31 [==============================] - 1s 17ms/step - loss: 3.0883e-04 - mean_squared_error: 3.0883e-04\n",
      "Epoch 5/5\n",
      "31/31 [==============================] - 1s 17ms/step - loss: 3.0460e-04 - mean_squared_error: 3.0460e-04\n",
      "1/1 [==============================] - 0s 23ms/step\n"
     ]
    },
    {
     "data": {
      "text/plain": [
       "array([[57481.98]], dtype=float32)"
      ]
     },
     "metadata": {},
     "output_type": "display_data"
    },
    {
     "name": "stdout",
     "output_type": "stream",
     "text": [
      "Epoch 1/5\n",
      "31/31 [==============================] - 1s 17ms/step - loss: 2.6600e-04 - mean_squared_error: 2.6600e-04\n",
      "Epoch 2/5\n",
      "31/31 [==============================] - 1s 17ms/step - loss: 2.7701e-04 - mean_squared_error: 2.7701e-04\n",
      "Epoch 3/5\n",
      "31/31 [==============================] - 1s 17ms/step - loss: 2.8142e-04 - mean_squared_error: 2.8142e-04\n",
      "Epoch 4/5\n",
      "31/31 [==============================] - 1s 17ms/step - loss: 2.8062e-04 - mean_squared_error: 2.8062e-04\n",
      "Epoch 5/5\n",
      "31/31 [==============================] - 1s 17ms/step - loss: 2.5901e-04 - mean_squared_error: 2.5901e-04\n",
      "1/1 [==============================] - 0s 22ms/step\n"
     ]
    },
    {
     "data": {
      "text/plain": [
       "array([[56903.47]], dtype=float32)"
      ]
     },
     "metadata": {},
     "output_type": "display_data"
    },
    {
     "name": "stdout",
     "output_type": "stream",
     "text": [
      "Epoch 1/5\n",
      "31/31 [==============================] - 1s 17ms/step - loss: 2.7422e-04 - mean_squared_error: 2.7422e-04\n",
      "Epoch 2/5\n",
      "31/31 [==============================] - 1s 17ms/step - loss: 2.9420e-04 - mean_squared_error: 2.9420e-04\n",
      "Epoch 3/5\n",
      "31/31 [==============================] - 1s 17ms/step - loss: 2.5654e-04 - mean_squared_error: 2.5654e-04\n",
      "Epoch 4/5\n",
      "31/31 [==============================] - 1s 17ms/step - loss: 2.7812e-04 - mean_squared_error: 2.7812e-04\n",
      "Epoch 5/5\n",
      "31/31 [==============================] - 1s 17ms/step - loss: 2.7874e-04 - mean_squared_error: 2.7874e-04\n",
      "1/1 [==============================] - 0s 26ms/step\n"
     ]
    },
    {
     "data": {
      "text/plain": [
       "array([[56284.7]], dtype=float32)"
      ]
     },
     "metadata": {},
     "output_type": "display_data"
    },
    {
     "name": "stdout",
     "output_type": "stream",
     "text": [
      "Epoch 1/5\n",
      "31/31 [==============================] - 1s 17ms/step - loss: 2.9208e-04 - mean_squared_error: 2.9208e-04\n",
      "Epoch 2/5\n",
      "31/31 [==============================] - 1s 17ms/step - loss: 2.5244e-04 - mean_squared_error: 2.5244e-04\n",
      "Epoch 3/5\n",
      "31/31 [==============================] - 1s 17ms/step - loss: 2.5780e-04 - mean_squared_error: 2.5780e-04\n",
      "Epoch 4/5\n",
      "31/31 [==============================] - 1s 16ms/step - loss: 2.7602e-04 - mean_squared_error: 2.7602e-04\n",
      "Epoch 5/5\n",
      "31/31 [==============================] - 1s 17ms/step - loss: 2.6502e-04 - mean_squared_error: 2.6502e-04\n",
      "1/1 [==============================] - 0s 23ms/step\n"
     ]
    },
    {
     "data": {
      "text/plain": [
       "array([[56500.566]], dtype=float32)"
      ]
     },
     "metadata": {},
     "output_type": "display_data"
    },
    {
     "name": "stdout",
     "output_type": "stream",
     "text": [
      "Epoch 1/5\n",
      "31/31 [==============================] - 1s 18ms/step - loss: 2.8138e-04 - mean_squared_error: 2.8138e-04\n",
      "Epoch 2/5\n",
      "31/31 [==============================] - 1s 17ms/step - loss: 2.7384e-04 - mean_squared_error: 2.7384e-04\n",
      "Epoch 3/5\n",
      "31/31 [==============================] - 1s 17ms/step - loss: 2.6526e-04 - mean_squared_error: 2.6526e-04\n",
      "Epoch 4/5\n",
      "31/31 [==============================] - 1s 17ms/step - loss: 3.0475e-04 - mean_squared_error: 3.0475e-04\n",
      "Epoch 5/5\n",
      "31/31 [==============================] - 1s 17ms/step - loss: 3.0214e-04 - mean_squared_error: 3.0214e-04\n",
      "1/1 [==============================] - 0s 22ms/step\n"
     ]
    },
    {
     "data": {
      "text/plain": [
       "array([[56504.574]], dtype=float32)"
      ]
     },
     "metadata": {},
     "output_type": "display_data"
    },
    {
     "name": "stdout",
     "output_type": "stream",
     "text": [
      "Epoch 1/5\n",
      "31/31 [==============================] - 1s 17ms/step - loss: 2.4978e-04 - mean_squared_error: 2.4978e-04\n",
      "Epoch 2/5\n",
      "31/31 [==============================] - 1s 17ms/step - loss: 2.5783e-04 - mean_squared_error: 2.5783e-04\n",
      "Epoch 3/5\n",
      "31/31 [==============================] - 1s 18ms/step - loss: 2.5495e-04 - mean_squared_error: 2.5495e-04\n",
      "Epoch 4/5\n",
      "31/31 [==============================] - 1s 17ms/step - loss: 2.7089e-04 - mean_squared_error: 2.7089e-04\n",
      "Epoch 5/5\n",
      "31/31 [==============================] - 1s 17ms/step - loss: 2.6204e-04 - mean_squared_error: 2.6204e-04\n",
      "1/1 [==============================] - 0s 22ms/step\n"
     ]
    },
    {
     "data": {
      "text/plain": [
       "array([[56616.742]], dtype=float32)"
      ]
     },
     "metadata": {},
     "output_type": "display_data"
    },
    {
     "name": "stdout",
     "output_type": "stream",
     "text": [
      "Epoch 1/5\n",
      "31/31 [==============================] - 1s 21ms/step - loss: 2.6197e-04 - mean_squared_error: 2.6197e-04\n",
      "Epoch 2/5\n",
      "31/31 [==============================] - 1s 17ms/step - loss: 2.5626e-04 - mean_squared_error: 2.5626e-04\n",
      "Epoch 3/5\n",
      "31/31 [==============================] - 1s 17ms/step - loss: 2.4915e-04 - mean_squared_error: 2.4915e-04\n",
      "Epoch 4/5\n",
      "31/31 [==============================] - 1s 17ms/step - loss: 2.4858e-04 - mean_squared_error: 2.4858e-04\n",
      "Epoch 5/5\n",
      "31/31 [==============================] - 1s 16ms/step - loss: 2.7659e-04 - mean_squared_error: 2.7659e-04\n",
      "1/1 [==============================] - 0s 22ms/step\n"
     ]
    },
    {
     "data": {
      "text/plain": [
       "array([[56617.902]], dtype=float32)"
      ]
     },
     "metadata": {},
     "output_type": "display_data"
    },
    {
     "name": "stdout",
     "output_type": "stream",
     "text": [
      "Epoch 1/5\n",
      "31/31 [==============================] - 1s 17ms/step - loss: 2.6570e-04 - mean_squared_error: 2.6570e-04\n",
      "Epoch 2/5\n",
      "31/31 [==============================] - 1s 17ms/step - loss: 2.6473e-04 - mean_squared_error: 2.6473e-04\n",
      "Epoch 3/5\n",
      "31/31 [==============================] - 1s 17ms/step - loss: 2.4291e-04 - mean_squared_error: 2.4291e-04\n",
      "Epoch 4/5\n",
      "31/31 [==============================] - 1s 17ms/step - loss: 3.1330e-04 - mean_squared_error: 3.1330e-04\n",
      "Epoch 5/5\n",
      "31/31 [==============================] - 1s 18ms/step - loss: 2.7085e-04 - mean_squared_error: 2.7085e-04\n",
      "1/1 [==============================] - 0s 23ms/step\n"
     ]
    },
    {
     "data": {
      "text/plain": [
       "array([[56643.83]], dtype=float32)"
      ]
     },
     "metadata": {},
     "output_type": "display_data"
    },
    {
     "name": "stdout",
     "output_type": "stream",
     "text": [
      "Epoch 1/5\n",
      "32/32 [==============================] - 1s 17ms/step - loss: 2.5408e-04 - mean_squared_error: 2.5408e-04\n",
      "Epoch 2/5\n",
      "32/32 [==============================] - 1s 17ms/step - loss: 2.4643e-04 - mean_squared_error: 2.4643e-04\n",
      "Epoch 3/5\n",
      "32/32 [==============================] - 1s 17ms/step - loss: 3.2116e-04 - mean_squared_error: 3.2116e-04\n",
      "Epoch 4/5\n",
      "32/32 [==============================] - 1s 17ms/step - loss: 3.1754e-04 - mean_squared_error: 3.1754e-04\n",
      "Epoch 5/5\n",
      "32/32 [==============================] - 1s 17ms/step - loss: 2.9840e-04 - mean_squared_error: 2.9840e-04\n",
      "1/1 [==============================] - 0s 23ms/step\n"
     ]
    },
    {
     "data": {
      "text/plain": [
       "array([[56333.53]], dtype=float32)"
      ]
     },
     "metadata": {},
     "output_type": "display_data"
    },
    {
     "name": "stdout",
     "output_type": "stream",
     "text": [
      "Epoch 1/5\n",
      "32/32 [==============================] - 1s 17ms/step - loss: 2.7355e-04 - mean_squared_error: 2.7355e-04\n",
      "Epoch 2/5\n",
      "32/32 [==============================] - 1s 17ms/step - loss: 2.6495e-04 - mean_squared_error: 2.6495e-04\n",
      "Epoch 3/5\n",
      "32/32 [==============================] - 1s 17ms/step - loss: 3.0180e-04 - mean_squared_error: 3.0180e-04\n",
      "Epoch 4/5\n",
      "32/32 [==============================] - 1s 17ms/step - loss: 2.4385e-04 - mean_squared_error: 2.4385e-04\n",
      "Epoch 5/5\n",
      "32/32 [==============================] - 1s 16ms/step - loss: 2.3692e-04 - mean_squared_error: 2.3692e-04\n",
      "1/1 [==============================] - 0s 23ms/step\n"
     ]
    },
    {
     "data": {
      "text/plain": [
       "array([[57132.27]], dtype=float32)"
      ]
     },
     "metadata": {},
     "output_type": "display_data"
    },
    {
     "name": "stdout",
     "output_type": "stream",
     "text": [
      "Epoch 1/5\n",
      "32/32 [==============================] - 1s 17ms/step - loss: 2.6613e-04 - mean_squared_error: 2.6613e-04\n",
      "Epoch 2/5\n",
      "32/32 [==============================] - 1s 17ms/step - loss: 2.4885e-04 - mean_squared_error: 2.4885e-04\n",
      "Epoch 3/5\n",
      "32/32 [==============================] - 1s 17ms/step - loss: 2.4927e-04 - mean_squared_error: 2.4927e-04\n",
      "Epoch 4/5\n",
      "32/32 [==============================] - 1s 17ms/step - loss: 2.4135e-04 - mean_squared_error: 2.4135e-04\n",
      "Epoch 5/5\n",
      "32/32 [==============================] - 1s 17ms/step - loss: 2.6589e-04 - mean_squared_error: 2.6589e-04\n",
      "1/1 [==============================] - 0s 23ms/step\n"
     ]
    },
    {
     "data": {
      "text/plain": [
       "array([[56259.824]], dtype=float32)"
      ]
     },
     "metadata": {},
     "output_type": "display_data"
    },
    {
     "name": "stdout",
     "output_type": "stream",
     "text": [
      "Epoch 1/5\n",
      "32/32 [==============================] - 1s 17ms/step - loss: 2.5612e-04 - mean_squared_error: 2.5612e-04\n",
      "Epoch 2/5\n",
      "32/32 [==============================] - 1s 17ms/step - loss: 2.4240e-04 - mean_squared_error: 2.4240e-04\n",
      "Epoch 3/5\n",
      "32/32 [==============================] - 1s 17ms/step - loss: 2.5416e-04 - mean_squared_error: 2.5416e-04\n",
      "Epoch 4/5\n",
      "32/32 [==============================] - 1s 17ms/step - loss: 2.6542e-04 - mean_squared_error: 2.6542e-04\n",
      "Epoch 5/5\n",
      "32/32 [==============================] - 1s 17ms/step - loss: 2.4905e-04 - mean_squared_error: 2.4905e-04\n",
      "1/1 [==============================] - 0s 23ms/step\n"
     ]
    },
    {
     "data": {
      "text/plain": [
       "array([[56465.54]], dtype=float32)"
      ]
     },
     "metadata": {},
     "output_type": "display_data"
    },
    {
     "name": "stdout",
     "output_type": "stream",
     "text": [
      "Epoch 1/5\n",
      "32/32 [==============================] - 1s 17ms/step - loss: 2.4026e-04 - mean_squared_error: 2.4026e-04\n",
      "Epoch 2/5\n",
      "32/32 [==============================] - 1s 17ms/step - loss: 2.3262e-04 - mean_squared_error: 2.3262e-04\n",
      "Epoch 3/5\n",
      "32/32 [==============================] - 1s 17ms/step - loss: 2.5473e-04 - mean_squared_error: 2.5473e-04\n",
      "Epoch 4/5\n",
      "32/32 [==============================] - 1s 17ms/step - loss: 2.6003e-04 - mean_squared_error: 2.6003e-04\n",
      "Epoch 5/5\n",
      "32/32 [==============================] - 1s 17ms/step - loss: 2.4462e-04 - mean_squared_error: 2.4462e-04\n",
      "1/1 [==============================] - 0s 27ms/step\n"
     ]
    },
    {
     "data": {
      "text/plain": [
       "array([[55847.27]], dtype=float32)"
      ]
     },
     "metadata": {},
     "output_type": "display_data"
    },
    {
     "name": "stdout",
     "output_type": "stream",
     "text": [
      "Epoch 1/5\n",
      "32/32 [==============================] - 1s 18ms/step - loss: 2.5645e-04 - mean_squared_error: 2.5645e-04\n",
      "Epoch 2/5\n",
      "32/32 [==============================] - 1s 19ms/step - loss: 2.4878e-04 - mean_squared_error: 2.4878e-04\n",
      "Epoch 3/5\n",
      "32/32 [==============================] - 1s 20ms/step - loss: 2.6781e-04 - mean_squared_error: 2.6781e-04\n",
      "Epoch 4/5\n",
      "32/32 [==============================] - 1s 18ms/step - loss: 2.7751e-04 - mean_squared_error: 2.7751e-04\n",
      "Epoch 5/5\n",
      "32/32 [==============================] - 1s 20ms/step - loss: 2.3796e-04 - mean_squared_error: 2.3796e-04\n",
      "1/1 [==============================] - 0s 27ms/step\n"
     ]
    },
    {
     "data": {
      "text/plain": [
       "array([[55911.67]], dtype=float32)"
      ]
     },
     "metadata": {},
     "output_type": "display_data"
    },
    {
     "name": "stdout",
     "output_type": "stream",
     "text": [
      "Epoch 1/5\n",
      "32/32 [==============================] - 1s 17ms/step - loss: 2.7989e-04 - mean_squared_error: 2.7989e-04\n",
      "Epoch 2/5\n",
      "32/32 [==============================] - 1s 17ms/step - loss: 2.4410e-04 - mean_squared_error: 2.4410e-04\n",
      "Epoch 3/5\n",
      "32/32 [==============================] - 1s 17ms/step - loss: 2.3814e-04 - mean_squared_error: 2.3814e-04\n",
      "Epoch 4/5\n",
      "32/32 [==============================] - 1s 17ms/step - loss: 2.7950e-04 - mean_squared_error: 2.7950e-04\n",
      "Epoch 5/5\n",
      "32/32 [==============================] - 1s 17ms/step - loss: 2.6257e-04 - mean_squared_error: 2.6257e-04\n",
      "1/1 [==============================] - 0s 24ms/step\n"
     ]
    },
    {
     "data": {
      "text/plain": [
       "array([[55956.746]], dtype=float32)"
      ]
     },
     "metadata": {},
     "output_type": "display_data"
    },
    {
     "name": "stdout",
     "output_type": "stream",
     "text": [
      "Epoch 1/5\n",
      "32/32 [==============================] - 1s 17ms/step - loss: 2.6529e-04 - mean_squared_error: 2.6529e-04\n",
      "Epoch 2/5\n",
      "32/32 [==============================] - 1s 17ms/step - loss: 2.8425e-04 - mean_squared_error: 2.8425e-04\n",
      "Epoch 3/5\n",
      "32/32 [==============================] - 1s 18ms/step - loss: 2.7282e-04 - mean_squared_error: 2.7282e-04\n",
      "Epoch 4/5\n",
      "32/32 [==============================] - 1s 17ms/step - loss: 2.7487e-04 - mean_squared_error: 2.7487e-04\n",
      "Epoch 5/5\n",
      "32/32 [==============================] - 1s 17ms/step - loss: 2.3317e-04 - mean_squared_error: 2.3317e-04\n",
      "1/1 [==============================] - 0s 24ms/step\n"
     ]
    },
    {
     "data": {
      "text/plain": [
       "array([[55619.676]], dtype=float32)"
      ]
     },
     "metadata": {},
     "output_type": "display_data"
    },
    {
     "name": "stdout",
     "output_type": "stream",
     "text": [
      "Epoch 1/5\n",
      "32/32 [==============================] - 1s 17ms/step - loss: 2.4530e-04 - mean_squared_error: 2.4530e-04\n",
      "Epoch 2/5\n",
      "32/32 [==============================] - 1s 17ms/step - loss: 2.7124e-04 - mean_squared_error: 2.7124e-04\n",
      "Epoch 3/5\n",
      "32/32 [==============================] - 1s 17ms/step - loss: 3.0200e-04 - mean_squared_error: 3.0200e-04\n",
      "Epoch 4/5\n",
      "32/32 [==============================] - 1s 17ms/step - loss: 2.3968e-04 - mean_squared_error: 2.3968e-04\n",
      "Epoch 5/5\n",
      "32/32 [==============================] - 1s 17ms/step - loss: 2.7120e-04 - mean_squared_error: 2.7120e-04\n",
      "1/1 [==============================] - 0s 23ms/step\n"
     ]
    },
    {
     "data": {
      "text/plain": [
       "array([[56420.582]], dtype=float32)"
      ]
     },
     "metadata": {},
     "output_type": "display_data"
    },
    {
     "name": "stdout",
     "output_type": "stream",
     "text": [
      "Epoch 1/5\n",
      "32/32 [==============================] - 1s 17ms/step - loss: 2.5410e-04 - mean_squared_error: 2.5410e-04\n",
      "Epoch 2/5\n",
      "32/32 [==============================] - 1s 17ms/step - loss: 2.5994e-04 - mean_squared_error: 2.5994e-04\n",
      "Epoch 3/5\n",
      "32/32 [==============================] - 1s 17ms/step - loss: 2.7586e-04 - mean_squared_error: 2.7586e-04\n",
      "Epoch 4/5\n",
      "32/32 [==============================] - 1s 16ms/step - loss: 2.5588e-04 - mean_squared_error: 2.5588e-04\n",
      "Epoch 5/5\n",
      "32/32 [==============================] - 1s 18ms/step - loss: 2.5236e-04 - mean_squared_error: 2.5236e-04\n",
      "1/1 [==============================] - 0s 22ms/step\n"
     ]
    },
    {
     "data": {
      "text/plain": [
       "array([[56772.6]], dtype=float32)"
      ]
     },
     "metadata": {},
     "output_type": "display_data"
    },
    {
     "name": "stdout",
     "output_type": "stream",
     "text": [
      "Epoch 1/5\n",
      "32/32 [==============================] - 1s 17ms/step - loss: 2.6616e-04 - mean_squared_error: 2.6616e-04\n",
      "Epoch 2/5\n",
      "32/32 [==============================] - 1s 17ms/step - loss: 2.7738e-04 - mean_squared_error: 2.7738e-04\n",
      "Epoch 3/5\n",
      "32/32 [==============================] - 1s 17ms/step - loss: 2.4833e-04 - mean_squared_error: 2.4833e-04\n",
      "Epoch 4/5\n",
      "32/32 [==============================] - 1s 17ms/step - loss: 2.4393e-04 - mean_squared_error: 2.4393e-04\n",
      "Epoch 5/5\n",
      "32/32 [==============================] - 1s 17ms/step - loss: 2.5555e-04 - mean_squared_error: 2.5555e-04\n",
      "1/1 [==============================] - 0s 24ms/step\n"
     ]
    },
    {
     "data": {
      "text/plain": [
       "array([[57367.652]], dtype=float32)"
      ]
     },
     "metadata": {},
     "output_type": "display_data"
    },
    {
     "name": "stdout",
     "output_type": "stream",
     "text": [
      "Epoch 1/5\n",
      "32/32 [==============================] - 1s 17ms/step - loss: 2.6954e-04 - mean_squared_error: 2.6954e-04\n",
      "Epoch 2/5\n",
      "32/32 [==============================] - 1s 17ms/step - loss: 2.4417e-04 - mean_squared_error: 2.4417e-04\n",
      "Epoch 3/5\n",
      "32/32 [==============================] - 1s 17ms/step - loss: 2.5756e-04 - mean_squared_error: 2.5756e-04\n",
      "Epoch 4/5\n",
      "32/32 [==============================] - 1s 17ms/step - loss: 2.5799e-04 - mean_squared_error: 2.5799e-04\n",
      "Epoch 5/5\n",
      "32/32 [==============================] - 1s 17ms/step - loss: 2.3606e-04 - mean_squared_error: 2.3606e-04\n",
      "1/1 [==============================] - 0s 23ms/step\n"
     ]
    },
    {
     "data": {
      "text/plain": [
       "array([[57602.16]], dtype=float32)"
      ]
     },
     "metadata": {},
     "output_type": "display_data"
    },
    {
     "name": "stdout",
     "output_type": "stream",
     "text": [
      "Epoch 1/5\n",
      "32/32 [==============================] - 1s 17ms/step - loss: 2.6313e-04 - mean_squared_error: 2.6313e-04\n",
      "Epoch 2/5\n",
      "32/32 [==============================] - 1s 17ms/step - loss: 2.4249e-04 - mean_squared_error: 2.4249e-04\n",
      "Epoch 3/5\n",
      "32/32 [==============================] - 1s 17ms/step - loss: 2.4608e-04 - mean_squared_error: 2.4608e-04\n",
      "Epoch 4/5\n",
      "32/32 [==============================] - 1s 18ms/step - loss: 2.7794e-04 - mean_squared_error: 2.7794e-04\n",
      "Epoch 5/5\n",
      "32/32 [==============================] - 1s 17ms/step - loss: 2.7907e-04 - mean_squared_error: 2.7907e-04\n",
      "1/1 [==============================] - 0s 23ms/step\n"
     ]
    },
    {
     "data": {
      "text/plain": [
       "array([[57945.293]], dtype=float32)"
      ]
     },
     "metadata": {},
     "output_type": "display_data"
    },
    {
     "name": "stdout",
     "output_type": "stream",
     "text": [
      "Epoch 1/5\n",
      "32/32 [==============================] - 1s 17ms/step - loss: 2.5863e-04 - mean_squared_error: 2.5863e-04\n",
      "Epoch 2/5\n",
      "32/32 [==============================] - 1s 17ms/step - loss: 2.5859e-04 - mean_squared_error: 2.5859e-04\n",
      "Epoch 3/5\n",
      "32/32 [==============================] - 1s 17ms/step - loss: 2.4921e-04 - mean_squared_error: 2.4921e-04\n",
      "Epoch 4/5\n",
      "32/32 [==============================] - 1s 18ms/step - loss: 2.5570e-04 - mean_squared_error: 2.5570e-04\n",
      "Epoch 5/5\n",
      "32/32 [==============================] - 1s 17ms/step - loss: 2.2797e-04 - mean_squared_error: 2.2797e-04\n",
      "1/1 [==============================] - 0s 25ms/step\n"
     ]
    },
    {
     "data": {
      "text/plain": [
       "array([[58035.6]], dtype=float32)"
      ]
     },
     "metadata": {},
     "output_type": "display_data"
    },
    {
     "name": "stdout",
     "output_type": "stream",
     "text": [
      "Epoch 1/5\n",
      "32/32 [==============================] - 1s 17ms/step - loss: 2.6724e-04 - mean_squared_error: 2.6724e-04\n",
      "Epoch 2/5\n",
      "32/32 [==============================] - 1s 17ms/step - loss: 2.6292e-04 - mean_squared_error: 2.6292e-04\n",
      "Epoch 3/5\n",
      "32/32 [==============================] - 1s 17ms/step - loss: 2.6497e-04 - mean_squared_error: 2.6497e-04\n",
      "Epoch 4/5\n",
      "32/32 [==============================] - 1s 17ms/step - loss: 2.4509e-04 - mean_squared_error: 2.4509e-04\n",
      "Epoch 5/5\n",
      "32/32 [==============================] - 1s 17ms/step - loss: 2.8408e-04 - mean_squared_error: 2.8408e-04\n",
      "1/1 [==============================] - 0s 30ms/step\n"
     ]
    },
    {
     "data": {
      "text/plain": [
       "array([[58075.348]], dtype=float32)"
      ]
     },
     "metadata": {},
     "output_type": "display_data"
    },
    {
     "name": "stdout",
     "output_type": "stream",
     "text": [
      "Epoch 1/5\n",
      "32/32 [==============================] - 1s 17ms/step - loss: 2.5254e-04 - mean_squared_error: 2.5254e-04\n",
      "Epoch 2/5\n",
      "32/32 [==============================] - 1s 17ms/step - loss: 2.2948e-04 - mean_squared_error: 2.2948e-04\n",
      "Epoch 3/5\n",
      "32/32 [==============================] - 1s 17ms/step - loss: 2.2876e-04 - mean_squared_error: 2.2876e-04\n",
      "Epoch 4/5\n",
      "32/32 [==============================] - 1s 17ms/step - loss: 2.7263e-04 - mean_squared_error: 2.7263e-04\n",
      "Epoch 5/5\n",
      "32/32 [==============================] - 1s 17ms/step - loss: 2.8241e-04 - mean_squared_error: 2.8241e-04\n",
      "1/1 [==============================] - 0s 24ms/step\n"
     ]
    },
    {
     "data": {
      "text/plain": [
       "array([[58257.395]], dtype=float32)"
      ]
     },
     "metadata": {},
     "output_type": "display_data"
    },
    {
     "name": "stdout",
     "output_type": "stream",
     "text": [
      "Epoch 1/5\n",
      "32/32 [==============================] - 1s 17ms/step - loss: 2.7840e-04 - mean_squared_error: 2.7840e-04\n",
      "Epoch 2/5\n",
      "32/32 [==============================] - 1s 17ms/step - loss: 2.3316e-04 - mean_squared_error: 2.3316e-04\n",
      "Epoch 3/5\n",
      "32/32 [==============================] - 1s 17ms/step - loss: 2.3876e-04 - mean_squared_error: 2.3876e-04\n",
      "Epoch 4/5\n",
      "32/32 [==============================] - 1s 17ms/step - loss: 2.5072e-04 - mean_squared_error: 2.5072e-04\n",
      "Epoch 5/5\n",
      "32/32 [==============================] - 1s 17ms/step - loss: 2.3702e-04 - mean_squared_error: 2.3702e-04\n",
      "1/1 [==============================] - 0s 24ms/step\n"
     ]
    },
    {
     "data": {
      "text/plain": [
       "array([[58173.824]], dtype=float32)"
      ]
     },
     "metadata": {},
     "output_type": "display_data"
    },
    {
     "name": "stdout",
     "output_type": "stream",
     "text": [
      "Epoch 1/5\n",
      "32/32 [==============================] - 1s 17ms/step - loss: 2.4248e-04 - mean_squared_error: 2.4248e-04\n",
      "Epoch 2/5\n",
      "32/32 [==============================] - 1s 17ms/step - loss: 2.7135e-04 - mean_squared_error: 2.7135e-04\n",
      "Epoch 3/5\n",
      "32/32 [==============================] - 1s 17ms/step - loss: 2.3976e-04 - mean_squared_error: 2.3976e-04\n",
      "Epoch 4/5\n",
      "32/32 [==============================] - 1s 17ms/step - loss: 2.3921e-04 - mean_squared_error: 2.3921e-04\n",
      "Epoch 5/5\n",
      "32/32 [==============================] - 1s 19ms/step - loss: 2.5642e-04 - mean_squared_error: 2.5642e-04\n",
      "1/1 [==============================] - 0s 24ms/step\n"
     ]
    },
    {
     "data": {
      "text/plain": [
       "array([[59500.094]], dtype=float32)"
      ]
     },
     "metadata": {},
     "output_type": "display_data"
    },
    {
     "name": "stdout",
     "output_type": "stream",
     "text": [
      "Epoch 1/5\n",
      "32/32 [==============================] - 1s 20ms/step - loss: 2.5463e-04 - mean_squared_error: 2.5463e-04\n",
      "Epoch 2/5\n",
      "32/32 [==============================] - 1s 20ms/step - loss: 2.4265e-04 - mean_squared_error: 2.4265e-04\n",
      "Epoch 3/5\n",
      "32/32 [==============================] - 1s 20ms/step - loss: 2.4429e-04 - mean_squared_error: 2.4429e-04\n",
      "Epoch 4/5\n",
      "32/32 [==============================] - 1s 19ms/step - loss: 2.6077e-04 - mean_squared_error: 2.6077e-04\n",
      "Epoch 5/5\n",
      "32/32 [==============================] - 1s 17ms/step - loss: 2.6670e-04 - mean_squared_error: 2.6670e-04\n",
      "1/1 [==============================] - 0s 24ms/step\n"
     ]
    },
    {
     "data": {
      "text/plain": [
       "array([[58878.812]], dtype=float32)"
      ]
     },
     "metadata": {},
     "output_type": "display_data"
    },
    {
     "name": "stdout",
     "output_type": "stream",
     "text": [
      "Epoch 1/5\n",
      "32/32 [==============================] - 1s 24ms/step - loss: 2.3664e-04 - mean_squared_error: 2.3664e-04\n",
      "Epoch 2/5\n",
      "32/32 [==============================] - 1s 17ms/step - loss: 2.4687e-04 - mean_squared_error: 2.4687e-04\n",
      "Epoch 3/5\n",
      "32/32 [==============================] - 1s 17ms/step - loss: 2.4270e-04 - mean_squared_error: 2.4270e-04\n",
      "Epoch 4/5\n",
      "32/32 [==============================] - 1s 17ms/step - loss: 2.4028e-04 - mean_squared_error: 2.4028e-04\n",
      "Epoch 5/5\n",
      "32/32 [==============================] - 1s 17ms/step - loss: 2.3388e-04 - mean_squared_error: 2.3388e-04\n",
      "1/1 [==============================] - 0s 23ms/step\n"
     ]
    },
    {
     "data": {
      "text/plain": [
       "array([[59092.094]], dtype=float32)"
      ]
     },
     "metadata": {},
     "output_type": "display_data"
    },
    {
     "name": "stdout",
     "output_type": "stream",
     "text": [
      "Epoch 1/5\n",
      "32/32 [==============================] - 1s 17ms/step - loss: 2.2081e-04 - mean_squared_error: 2.2081e-04\n",
      "Epoch 2/5\n",
      "32/32 [==============================] - 1s 17ms/step - loss: 2.1333e-04 - mean_squared_error: 2.1333e-04\n",
      "Epoch 3/5\n",
      "32/32 [==============================] - 1s 21ms/step - loss: 2.2762e-04 - mean_squared_error: 2.2762e-04\n",
      "Epoch 4/5\n",
      "32/32 [==============================] - 1s 16ms/step - loss: 2.3626e-04 - mean_squared_error: 2.3626e-04\n",
      "Epoch 5/5\n",
      "32/32 [==============================] - 1s 17ms/step - loss: 2.1942e-04 - mean_squared_error: 2.1942e-04\n",
      "1/1 [==============================] - 0s 22ms/step\n"
     ]
    },
    {
     "data": {
      "text/plain": [
       "array([[58926.562]], dtype=float32)"
      ]
     },
     "metadata": {},
     "output_type": "display_data"
    },
    {
     "name": "stdout",
     "output_type": "stream",
     "text": [
      "Epoch 1/5\n",
      "32/32 [==============================] - 1s 17ms/step - loss: 2.3103e-04 - mean_squared_error: 2.3103e-04\n",
      "Epoch 2/5\n",
      "32/32 [==============================] - 1s 17ms/step - loss: 2.2760e-04 - mean_squared_error: 2.2760e-04\n",
      "Epoch 3/5\n",
      "32/32 [==============================] - 1s 17ms/step - loss: 2.1478e-04 - mean_squared_error: 2.1478e-04\n",
      "Epoch 4/5\n",
      "32/32 [==============================] - 1s 17ms/step - loss: 2.3946e-04 - mean_squared_error: 2.3946e-04\n",
      "Epoch 5/5\n",
      "32/32 [==============================] - 1s 17ms/step - loss: 2.2173e-04 - mean_squared_error: 2.2173e-04\n",
      "1/1 [==============================] - 0s 23ms/step\n"
     ]
    },
    {
     "data": {
      "text/plain": [
       "array([[58889.613]], dtype=float32)"
      ]
     },
     "metadata": {},
     "output_type": "display_data"
    },
    {
     "name": "stdout",
     "output_type": "stream",
     "text": [
      "Epoch 1/5\n",
      "32/32 [==============================] - 1s 17ms/step - loss: 2.5240e-04 - mean_squared_error: 2.5240e-04\n",
      "Epoch 2/5\n",
      "32/32 [==============================] - 1s 17ms/step - loss: 2.2477e-04 - mean_squared_error: 2.2477e-04\n",
      "Epoch 3/5\n",
      "32/32 [==============================] - 1s 17ms/step - loss: 2.4368e-04 - mean_squared_error: 2.4368e-04\n",
      "Epoch 4/5\n",
      "32/32 [==============================] - 1s 17ms/step - loss: 2.3347e-04 - mean_squared_error: 2.3347e-04\n",
      "Epoch 5/5\n",
      "32/32 [==============================] - 1s 17ms/step - loss: 2.5964e-04 - mean_squared_error: 2.5964e-04\n",
      "1/1 [==============================] - 0s 23ms/step\n"
     ]
    },
    {
     "data": {
      "text/plain": [
       "array([[57243.71]], dtype=float32)"
      ]
     },
     "metadata": {},
     "output_type": "display_data"
    },
    {
     "name": "stdout",
     "output_type": "stream",
     "text": [
      "Epoch 1/5\n",
      "32/32 [==============================] - 1s 20ms/step - loss: 2.2738e-04 - mean_squared_error: 2.2738e-04\n",
      "Epoch 2/5\n",
      "32/32 [==============================] - 1s 20ms/step - loss: 2.4110e-04 - mean_squared_error: 2.4110e-04\n",
      "Epoch 3/5\n",
      "32/32 [==============================] - 1s 18ms/step - loss: 2.2891e-04 - mean_squared_error: 2.2891e-04\n",
      "Epoch 4/5\n",
      "32/32 [==============================] - 1s 20ms/step - loss: 2.3112e-04 - mean_squared_error: 2.3112e-04\n",
      "Epoch 5/5\n",
      "32/32 [==============================] - 1s 20ms/step - loss: 2.1546e-04 - mean_squared_error: 2.1546e-04\n",
      "1/1 [==============================] - 0s 29ms/step\n"
     ]
    },
    {
     "data": {
      "text/plain": [
       "array([[58119.8]], dtype=float32)"
      ]
     },
     "metadata": {},
     "output_type": "display_data"
    },
    {
     "name": "stdout",
     "output_type": "stream",
     "text": [
      "Epoch 1/5\n",
      "32/32 [==============================] - 1s 17ms/step - loss: 2.9348e-04 - mean_squared_error: 2.9348e-04\n",
      "Epoch 2/5\n",
      "32/32 [==============================] - 1s 17ms/step - loss: 2.3079e-04 - mean_squared_error: 2.3079e-04\n",
      "Epoch 3/5\n",
      "32/32 [==============================] - 1s 16ms/step - loss: 2.4083e-04 - mean_squared_error: 2.4083e-04\n",
      "Epoch 4/5\n",
      "32/32 [==============================] - 1s 17ms/step - loss: 2.6218e-04 - mean_squared_error: 2.6218e-04\n",
      "Epoch 5/5\n",
      "32/32 [==============================] - 1s 17ms/step - loss: 2.3093e-04 - mean_squared_error: 2.3093e-04\n",
      "1/1 [==============================] - 0s 23ms/step\n"
     ]
    },
    {
     "data": {
      "text/plain": [
       "array([[56643.117]], dtype=float32)"
      ]
     },
     "metadata": {},
     "output_type": "display_data"
    },
    {
     "name": "stdout",
     "output_type": "stream",
     "text": [
      "Epoch 1/5\n",
      "32/32 [==============================] - 1s 17ms/step - loss: 2.3856e-04 - mean_squared_error: 2.3856e-04\n",
      "Epoch 2/5\n",
      "32/32 [==============================] - 1s 17ms/step - loss: 2.2763e-04 - mean_squared_error: 2.2763e-04\n",
      "Epoch 3/5\n",
      "32/32 [==============================] - 1s 17ms/step - loss: 2.4329e-04 - mean_squared_error: 2.4329e-04\n",
      "Epoch 4/5\n",
      "32/32 [==============================] - 1s 17ms/step - loss: 2.3938e-04 - mean_squared_error: 2.3938e-04\n",
      "Epoch 5/5\n",
      "32/32 [==============================] - 1s 17ms/step - loss: 2.2755e-04 - mean_squared_error: 2.2755e-04\n",
      "1/1 [==============================] - 0s 23ms/step\n"
     ]
    },
    {
     "data": {
      "text/plain": [
       "array([[57131.547]], dtype=float32)"
      ]
     },
     "metadata": {},
     "output_type": "display_data"
    },
    {
     "name": "stdout",
     "output_type": "stream",
     "text": [
      "Epoch 1/5\n",
      "32/32 [==============================] - 1s 17ms/step - loss: 2.2883e-04 - mean_squared_error: 2.2883e-04\n",
      "Epoch 2/5\n",
      "32/32 [==============================] - 1s 17ms/step - loss: 2.1481e-04 - mean_squared_error: 2.1481e-04\n",
      "Epoch 3/5\n",
      "32/32 [==============================] - 1s 17ms/step - loss: 2.2622e-04 - mean_squared_error: 2.2622e-04\n",
      "Epoch 4/5\n",
      "32/32 [==============================] - 1s 17ms/step - loss: 2.3310e-04 - mean_squared_error: 2.3310e-04\n",
      "Epoch 5/5\n",
      "32/32 [==============================] - 1s 17ms/step - loss: 2.3287e-04 - mean_squared_error: 2.3287e-04\n",
      "1/1 [==============================] - 0s 23ms/step\n"
     ]
    },
    {
     "data": {
      "text/plain": [
       "array([[56737.258]], dtype=float32)"
      ]
     },
     "metadata": {},
     "output_type": "display_data"
    },
    {
     "name": "stdout",
     "output_type": "stream",
     "text": [
      "Epoch 1/5\n",
      "32/32 [==============================] - 1s 17ms/step - loss: 2.3821e-04 - mean_squared_error: 2.3821e-04\n",
      "Epoch 2/5\n",
      "32/32 [==============================] - 1s 18ms/step - loss: 2.1803e-04 - mean_squared_error: 2.1803e-04\n",
      "Epoch 3/5\n",
      "32/32 [==============================] - 1s 18ms/step - loss: 2.2527e-04 - mean_squared_error: 2.2527e-04\n",
      "Epoch 4/5\n",
      "32/32 [==============================] - 1s 17ms/step - loss: 2.2070e-04 - mean_squared_error: 2.2070e-04\n",
      "Epoch 5/5\n",
      "32/32 [==============================] - 1s 17ms/step - loss: 2.2350e-04 - mean_squared_error: 2.2350e-04\n",
      "1/1 [==============================] - 0s 26ms/step\n"
     ]
    },
    {
     "data": {
      "text/plain": [
       "array([[56255.08]], dtype=float32)"
      ]
     },
     "metadata": {},
     "output_type": "display_data"
    },
    {
     "name": "stdout",
     "output_type": "stream",
     "text": [
      "Epoch 1/5\n",
      "32/32 [==============================] - 1s 18ms/step - loss: 2.4275e-04 - mean_squared_error: 2.4275e-04\n",
      "Epoch 2/5\n",
      "32/32 [==============================] - 1s 17ms/step - loss: 2.2066e-04 - mean_squared_error: 2.2066e-04\n",
      "Epoch 3/5\n",
      "32/32 [==============================] - 1s 17ms/step - loss: 2.0969e-04 - mean_squared_error: 2.0969e-04\n",
      "Epoch 4/5\n",
      "32/32 [==============================] - 1s 17ms/step - loss: 2.1528e-04 - mean_squared_error: 2.1528e-04\n",
      "Epoch 5/5\n",
      "32/32 [==============================] - 1s 17ms/step - loss: 2.3034e-04 - mean_squared_error: 2.3034e-04\n",
      "1/1 [==============================] - 0s 23ms/step\n"
     ]
    },
    {
     "data": {
      "text/plain": [
       "array([[56120.934]], dtype=float32)"
      ]
     },
     "metadata": {},
     "output_type": "display_data"
    },
    {
     "name": "stdout",
     "output_type": "stream",
     "text": [
      "Epoch 1/5\n",
      "32/32 [==============================] - 1s 17ms/step - loss: 2.3285e-04 - mean_squared_error: 2.3285e-04\n",
      "Epoch 2/5\n",
      "32/32 [==============================] - 1s 17ms/step - loss: 2.3719e-04 - mean_squared_error: 2.3719e-04\n",
      "Epoch 3/5\n",
      "32/32 [==============================] - 1s 17ms/step - loss: 2.2660e-04 - mean_squared_error: 2.2660e-04\n",
      "Epoch 4/5\n",
      "32/32 [==============================] - 1s 17ms/step - loss: 2.0876e-04 - mean_squared_error: 2.0876e-04\n",
      "Epoch 5/5\n",
      "32/32 [==============================] - 1s 17ms/step - loss: 2.3822e-04 - mean_squared_error: 2.3822e-04\n",
      "1/1 [==============================] - 0s 22ms/step\n"
     ]
    },
    {
     "data": {
      "text/plain": [
       "array([[55773.992]], dtype=float32)"
      ]
     },
     "metadata": {},
     "output_type": "display_data"
    },
    {
     "name": "stdout",
     "output_type": "stream",
     "text": [
      "Epoch 1/5\n",
      "32/32 [==============================] - 1s 17ms/step - loss: 2.1940e-04 - mean_squared_error: 2.1940e-04\n",
      "Epoch 2/5\n",
      "32/32 [==============================] - 1s 17ms/step - loss: 2.4635e-04 - mean_squared_error: 2.4635e-04\n",
      "Epoch 3/5\n",
      "32/32 [==============================] - 1s 17ms/step - loss: 2.5059e-04 - mean_squared_error: 2.5059e-04\n",
      "Epoch 4/5\n",
      "32/32 [==============================] - 1s 17ms/step - loss: 2.1709e-04 - mean_squared_error: 2.1709e-04\n",
      "Epoch 5/5\n",
      "32/32 [==============================] - 1s 17ms/step - loss: 2.7999e-04 - mean_squared_error: 2.7999e-04\n",
      "1/1 [==============================] - 0s 22ms/step\n"
     ]
    },
    {
     "data": {
      "text/plain": [
       "array([[55334.637]], dtype=float32)"
      ]
     },
     "metadata": {},
     "output_type": "display_data"
    },
    {
     "name": "stdout",
     "output_type": "stream",
     "text": [
      "Epoch 1/5\n",
      "32/32 [==============================] - 1s 17ms/step - loss: 2.3236e-04 - mean_squared_error: 2.3236e-04\n",
      "Epoch 2/5\n",
      "32/32 [==============================] - 1s 17ms/step - loss: 2.1964e-04 - mean_squared_error: 2.1964e-04\n",
      "Epoch 3/5\n",
      "32/32 [==============================] - 1s 17ms/step - loss: 2.4446e-04 - mean_squared_error: 2.4446e-04\n",
      "Epoch 4/5\n",
      "32/32 [==============================] - 1s 17ms/step - loss: 2.3315e-04 - mean_squared_error: 2.3315e-04\n",
      "Epoch 5/5\n",
      "32/32 [==============================] - 1s 17ms/step - loss: 2.3453e-04 - mean_squared_error: 2.3453e-04\n",
      "1/1 [==============================] - 0s 22ms/step\n"
     ]
    },
    {
     "data": {
      "text/plain": [
       "array([[55429.98]], dtype=float32)"
      ]
     },
     "metadata": {},
     "output_type": "display_data"
    },
    {
     "name": "stdout",
     "output_type": "stream",
     "text": [
      "Epoch 1/5\n",
      "33/33 [==============================] - 1s 17ms/step - loss: 2.2748e-04 - mean_squared_error: 2.2748e-04\n",
      "Epoch 2/5\n",
      "33/33 [==============================] - 1s 17ms/step - loss: 2.2606e-04 - mean_squared_error: 2.2606e-04\n",
      "Epoch 3/5\n",
      "33/33 [==============================] - 1s 16ms/step - loss: 2.2610e-04 - mean_squared_error: 2.2610e-04\n",
      "Epoch 4/5\n",
      "33/33 [==============================] - 1s 17ms/step - loss: 2.3548e-04 - mean_squared_error: 2.3548e-04\n",
      "Epoch 5/5\n",
      "33/33 [==============================] - 1s 17ms/step - loss: 2.6566e-04 - mean_squared_error: 2.6566e-04\n",
      "1/1 [==============================] - 0s 23ms/step\n"
     ]
    },
    {
     "data": {
      "text/plain": [
       "array([[55741.957]], dtype=float32)"
      ]
     },
     "metadata": {},
     "output_type": "display_data"
    },
    {
     "name": "stdout",
     "output_type": "stream",
     "text": [
      "Epoch 1/5\n",
      "33/33 [==============================] - 1s 17ms/step - loss: 2.5771e-04 - mean_squared_error: 2.5771e-04\n",
      "Epoch 2/5\n",
      "33/33 [==============================] - 1s 17ms/step - loss: 2.4046e-04 - mean_squared_error: 2.4046e-04\n",
      "Epoch 3/5\n",
      "33/33 [==============================] - 1s 17ms/step - loss: 2.3915e-04 - mean_squared_error: 2.3915e-04\n",
      "Epoch 4/5\n",
      "33/33 [==============================] - 1s 17ms/step - loss: 2.2956e-04 - mean_squared_error: 2.2956e-04\n",
      "Epoch 5/5\n",
      "33/33 [==============================] - 1s 17ms/step - loss: 2.1080e-04 - mean_squared_error: 2.1080e-04\n",
      "1/1 [==============================] - 0s 23ms/step\n"
     ]
    },
    {
     "data": {
      "text/plain": [
       "array([[56453.71]], dtype=float32)"
      ]
     },
     "metadata": {},
     "output_type": "display_data"
    },
    {
     "name": "stdout",
     "output_type": "stream",
     "text": [
      "Epoch 1/5\n",
      "33/33 [==============================] - 1s 17ms/step - loss: 2.2940e-04 - mean_squared_error: 2.2940e-04\n",
      "Epoch 2/5\n",
      "33/33 [==============================] - 1s 17ms/step - loss: 2.7532e-04 - mean_squared_error: 2.7532e-04\n",
      "Epoch 3/5\n",
      "33/33 [==============================] - 1s 17ms/step - loss: 2.5826e-04 - mean_squared_error: 2.5826e-04\n",
      "Epoch 4/5\n",
      "33/33 [==============================] - 1s 17ms/step - loss: 2.2214e-04 - mean_squared_error: 2.2214e-04\n",
      "Epoch 5/5\n",
      "33/33 [==============================] - 1s 17ms/step - loss: 2.4214e-04 - mean_squared_error: 2.4214e-04\n",
      "1/1 [==============================] - 0s 23ms/step\n"
     ]
    },
    {
     "data": {
      "text/plain": [
       "array([[56740.9]], dtype=float32)"
      ]
     },
     "metadata": {},
     "output_type": "display_data"
    },
    {
     "name": "stdout",
     "output_type": "stream",
     "text": [
      "Epoch 1/5\n",
      "33/33 [==============================] - 1s 17ms/step - loss: 2.7339e-04 - mean_squared_error: 2.7339e-04\n",
      "Epoch 2/5\n",
      "33/33 [==============================] - 1s 17ms/step - loss: 2.2636e-04 - mean_squared_error: 2.2636e-04\n",
      "Epoch 3/5\n",
      "33/33 [==============================] - 1s 17ms/step - loss: 2.3411e-04 - mean_squared_error: 2.3411e-04\n",
      "Epoch 4/5\n",
      "33/33 [==============================] - 1s 17ms/step - loss: 2.1737e-04 - mean_squared_error: 2.1737e-04\n",
      "Epoch 5/5\n",
      "33/33 [==============================] - 1s 17ms/step - loss: 2.1967e-04 - mean_squared_error: 2.1967e-04\n",
      "1/1 [==============================] - 0s 23ms/step\n"
     ]
    },
    {
     "data": {
      "text/plain": [
       "array([[56677.76]], dtype=float32)"
      ]
     },
     "metadata": {},
     "output_type": "display_data"
    },
    {
     "name": "stdout",
     "output_type": "stream",
     "text": [
      "Epoch 1/5\n",
      "33/33 [==============================] - 1s 17ms/step - loss: 2.1268e-04 - mean_squared_error: 2.1268e-04\n",
      "Epoch 2/5\n",
      "33/33 [==============================] - 1s 17ms/step - loss: 2.1708e-04 - mean_squared_error: 2.1708e-04\n",
      "Epoch 3/5\n",
      "33/33 [==============================] - 1s 17ms/step - loss: 2.1073e-04 - mean_squared_error: 2.1073e-04\n",
      "Epoch 4/5\n",
      "33/33 [==============================] - 1s 19ms/step - loss: 2.4882e-04 - mean_squared_error: 2.4882e-04\n",
      "Epoch 5/5\n",
      "33/33 [==============================] - 1s 17ms/step - loss: 2.2188e-04 - mean_squared_error: 2.2188e-04\n",
      "1/1 [==============================] - 0s 24ms/step\n"
     ]
    },
    {
     "data": {
      "text/plain": [
       "array([[56933.2]], dtype=float32)"
      ]
     },
     "metadata": {},
     "output_type": "display_data"
    },
    {
     "name": "stdout",
     "output_type": "stream",
     "text": [
      "Epoch 1/5\n",
      "33/33 [==============================] - 1s 17ms/step - loss: 2.1721e-04 - mean_squared_error: 2.1721e-04\n",
      "Epoch 2/5\n",
      "33/33 [==============================] - 1s 17ms/step - loss: 2.5197e-04 - mean_squared_error: 2.5197e-04\n",
      "Epoch 3/5\n",
      "33/33 [==============================] - 1s 17ms/step - loss: 2.8256e-04 - mean_squared_error: 2.8256e-04\n",
      "Epoch 4/5\n",
      "33/33 [==============================] - 1s 17ms/step - loss: 2.0835e-04 - mean_squared_error: 2.0835e-04\n",
      "Epoch 5/5\n",
      "33/33 [==============================] - 1s 17ms/step - loss: 2.1820e-04 - mean_squared_error: 2.1820e-04\n",
      "1/1 [==============================] - 0s 27ms/step\n"
     ]
    },
    {
     "data": {
      "text/plain": [
       "array([[56093.99]], dtype=float32)"
      ]
     },
     "metadata": {},
     "output_type": "display_data"
    },
    {
     "name": "stdout",
     "output_type": "stream",
     "text": [
      "Epoch 1/5\n",
      "33/33 [==============================] - 1s 17ms/step - loss: 2.0946e-04 - mean_squared_error: 2.0946e-04\n",
      "Epoch 2/5\n",
      "33/33 [==============================] - 1s 17ms/step - loss: 2.2869e-04 - mean_squared_error: 2.2869e-04\n",
      "Epoch 3/5\n",
      "33/33 [==============================] - 1s 17ms/step - loss: 2.1823e-04 - mean_squared_error: 2.1823e-04\n",
      "Epoch 4/5\n",
      "33/33 [==============================] - 1s 17ms/step - loss: 2.3478e-04 - mean_squared_error: 2.3478e-04\n",
      "Epoch 5/5\n",
      "33/33 [==============================] - 1s 16ms/step - loss: 2.2678e-04 - mean_squared_error: 2.2678e-04\n",
      "1/1 [==============================] - 0s 22ms/step\n"
     ]
    },
    {
     "data": {
      "text/plain": [
       "array([[57041.605]], dtype=float32)"
      ]
     },
     "metadata": {},
     "output_type": "display_data"
    },
    {
     "name": "stdout",
     "output_type": "stream",
     "text": [
      "Epoch 1/5\n",
      "33/33 [==============================] - 1s 17ms/step - loss: 2.0857e-04 - mean_squared_error: 2.0857e-04\n",
      "Epoch 2/5\n",
      "33/33 [==============================] - 1s 17ms/step - loss: 2.0242e-04 - mean_squared_error: 2.0242e-04\n",
      "Epoch 3/5\n",
      "33/33 [==============================] - 1s 17ms/step - loss: 2.5099e-04 - mean_squared_error: 2.5099e-04\n",
      "Epoch 4/5\n",
      "33/33 [==============================] - 1s 17ms/step - loss: 1.9550e-04 - mean_squared_error: 1.9550e-04\n",
      "Epoch 5/5\n",
      "33/33 [==============================] - 1s 17ms/step - loss: 2.2143e-04 - mean_squared_error: 2.2143e-04\n",
      "1/1 [==============================] - 0s 22ms/step\n"
     ]
    },
    {
     "data": {
      "text/plain": [
       "array([[56940.81]], dtype=float32)"
      ]
     },
     "metadata": {},
     "output_type": "display_data"
    },
    {
     "name": "stdout",
     "output_type": "stream",
     "text": [
      "Epoch 1/5\n",
      "33/33 [==============================] - 1s 17ms/step - loss: 2.1544e-04 - mean_squared_error: 2.1544e-04\n",
      "Epoch 2/5\n",
      "33/33 [==============================] - 1s 17ms/step - loss: 2.1505e-04 - mean_squared_error: 2.1505e-04\n",
      "Epoch 3/5\n",
      "33/33 [==============================] - 1s 17ms/step - loss: 1.9950e-04 - mean_squared_error: 1.9950e-04\n",
      "Epoch 4/5\n",
      "33/33 [==============================] - 1s 17ms/step - loss: 2.1696e-04 - mean_squared_error: 2.1696e-04\n",
      "Epoch 5/5\n",
      "33/33 [==============================] - 1s 17ms/step - loss: 1.9713e-04 - mean_squared_error: 1.9713e-04\n",
      "1/1 [==============================] - 0s 23ms/step\n"
     ]
    },
    {
     "data": {
      "text/plain": [
       "array([[56474.227]], dtype=float32)"
      ]
     },
     "metadata": {},
     "output_type": "display_data"
    },
    {
     "name": "stdout",
     "output_type": "stream",
     "text": [
      "Epoch 1/5\n",
      "33/33 [==============================] - 1s 17ms/step - loss: 1.9135e-04 - mean_squared_error: 1.9135e-04\n",
      "Epoch 2/5\n",
      "33/33 [==============================] - 1s 18ms/step - loss: 2.1567e-04 - mean_squared_error: 2.1567e-04\n",
      "Epoch 3/5\n",
      "33/33 [==============================] - 1s 20ms/step - loss: 2.5419e-04 - mean_squared_error: 2.5419e-04\n",
      "Epoch 4/5\n",
      "33/33 [==============================] - 1s 25ms/step - loss: 2.2870e-04 - mean_squared_error: 2.2870e-04\n",
      "Epoch 5/5\n",
      "33/33 [==============================] - 1s 20ms/step - loss: 2.1830e-04 - mean_squared_error: 2.1830e-04\n",
      "1/1 [==============================] - 0s 24ms/step\n"
     ]
    },
    {
     "data": {
      "text/plain": [
       "array([[57021.73]], dtype=float32)"
      ]
     },
     "metadata": {},
     "output_type": "display_data"
    },
    {
     "name": "stdout",
     "output_type": "stream",
     "text": [
      "Epoch 1/5\n",
      "33/33 [==============================] - 1s 18ms/step - loss: 2.0942e-04 - mean_squared_error: 2.0942e-04\n",
      "Epoch 2/5\n",
      "33/33 [==============================] - 1s 17ms/step - loss: 2.3023e-04 - mean_squared_error: 2.3023e-04\n",
      "Epoch 3/5\n",
      "33/33 [==============================] - 1s 18ms/step - loss: 2.2050e-04 - mean_squared_error: 2.2050e-04\n",
      "Epoch 4/5\n",
      "33/33 [==============================] - 1s 18ms/step - loss: 1.9992e-04 - mean_squared_error: 1.9992e-04\n",
      "Epoch 5/5\n",
      "33/33 [==============================] - 1s 18ms/step - loss: 2.2062e-04 - mean_squared_error: 2.2062e-04\n",
      "1/1 [==============================] - 0s 23ms/step\n"
     ]
    },
    {
     "data": {
      "text/plain": [
       "array([[56960.527]], dtype=float32)"
      ]
     },
     "metadata": {},
     "output_type": "display_data"
    },
    {
     "name": "stdout",
     "output_type": "stream",
     "text": [
      "Epoch 1/5\n",
      "33/33 [==============================] - 1s 17ms/step - loss: 2.0444e-04 - mean_squared_error: 2.0444e-04\n",
      "Epoch 2/5\n",
      "33/33 [==============================] - 1s 17ms/step - loss: 2.2484e-04 - mean_squared_error: 2.2484e-04\n",
      "Epoch 3/5\n",
      "33/33 [==============================] - 1s 17ms/step - loss: 2.2446e-04 - mean_squared_error: 2.2446e-04\n",
      "Epoch 4/5\n",
      "33/33 [==============================] - 1s 18ms/step - loss: 2.3295e-04 - mean_squared_error: 2.3295e-04\n",
      "Epoch 5/5\n",
      "33/33 [==============================] - 1s 18ms/step - loss: 2.0380e-04 - mean_squared_error: 2.0380e-04\n",
      "1/1 [==============================] - 0s 22ms/step\n"
     ]
    },
    {
     "data": {
      "text/plain": [
       "array([[56696.]], dtype=float32)"
      ]
     },
     "metadata": {},
     "output_type": "display_data"
    },
    {
     "name": "stdout",
     "output_type": "stream",
     "text": [
      "Epoch 1/5\n",
      "33/33 [==============================] - 1s 17ms/step - loss: 2.0269e-04 - mean_squared_error: 2.0269e-04\n",
      "Epoch 2/5\n",
      "33/33 [==============================] - 1s 18ms/step - loss: 2.2210e-04 - mean_squared_error: 2.2210e-04\n",
      "Epoch 3/5\n",
      "33/33 [==============================] - 1s 17ms/step - loss: 2.1441e-04 - mean_squared_error: 2.1441e-04\n",
      "Epoch 4/5\n",
      "33/33 [==============================] - 1s 18ms/step - loss: 2.2810e-04 - mean_squared_error: 2.2810e-04\n",
      "Epoch 5/5\n",
      "33/33 [==============================] - 1s 19ms/step - loss: 2.0151e-04 - mean_squared_error: 2.0151e-04\n",
      "1/1 [==============================] - 0s 31ms/step\n"
     ]
    },
    {
     "data": {
      "text/plain": [
       "array([[56901.793]], dtype=float32)"
      ]
     },
     "metadata": {},
     "output_type": "display_data"
    },
    {
     "name": "stdout",
     "output_type": "stream",
     "text": [
      "Epoch 1/5\n",
      "33/33 [==============================] - 1s 19ms/step - loss: 1.9234e-04 - mean_squared_error: 1.9234e-04\n",
      "Epoch 2/5\n",
      "33/33 [==============================] - 1s 18ms/step - loss: 2.2826e-04 - mean_squared_error: 2.2826e-04\n",
      "Epoch 3/5\n",
      "33/33 [==============================] - 1s 19ms/step - loss: 2.0954e-04 - mean_squared_error: 2.0954e-04\n",
      "Epoch 4/5\n",
      "33/33 [==============================] - 1s 18ms/step - loss: 2.3147e-04 - mean_squared_error: 2.3147e-04\n",
      "Epoch 5/5\n",
      "33/33 [==============================] - 1s 18ms/step - loss: 1.9914e-04 - mean_squared_error: 1.9914e-04\n",
      "1/1 [==============================] - 0s 27ms/step\n"
     ]
    },
    {
     "data": {
      "text/plain": [
       "array([[56973.06]], dtype=float32)"
      ]
     },
     "metadata": {},
     "output_type": "display_data"
    },
    {
     "name": "stdout",
     "output_type": "stream",
     "text": [
      "Epoch 1/5\n",
      "33/33 [==============================] - 1s 18ms/step - loss: 2.0723e-04 - mean_squared_error: 2.0723e-04\n",
      "Epoch 2/5\n",
      "33/33 [==============================] - 1s 18ms/step - loss: 2.2131e-04 - mean_squared_error: 2.2131e-04\n",
      "Epoch 3/5\n",
      "33/33 [==============================] - 1s 17ms/step - loss: 2.1153e-04 - mean_squared_error: 2.1153e-04\n",
      "Epoch 4/5\n",
      "33/33 [==============================] - 1s 17ms/step - loss: 2.0640e-04 - mean_squared_error: 2.0640e-04\n",
      "Epoch 5/5\n",
      "33/33 [==============================] - 1s 17ms/step - loss: 2.1771e-04 - mean_squared_error: 2.1771e-04\n",
      "1/1 [==============================] - 0s 23ms/step\n"
     ]
    },
    {
     "data": {
      "text/plain": [
       "array([[56875.83]], dtype=float32)"
      ]
     },
     "metadata": {},
     "output_type": "display_data"
    },
    {
     "name": "stdout",
     "output_type": "stream",
     "text": [
      "Epoch 1/5\n",
      "33/33 [==============================] - 1s 18ms/step - loss: 2.1164e-04 - mean_squared_error: 2.1164e-04\n",
      "Epoch 2/5\n",
      "33/33 [==============================] - 1s 17ms/step - loss: 2.4825e-04 - mean_squared_error: 2.4825e-04\n",
      "Epoch 3/5\n",
      "33/33 [==============================] - 1s 17ms/step - loss: 2.0015e-04 - mean_squared_error: 2.0015e-04\n",
      "Epoch 4/5\n",
      "33/33 [==============================] - 1s 17ms/step - loss: 2.0085e-04 - mean_squared_error: 2.0085e-04\n",
      "Epoch 5/5\n",
      "33/33 [==============================] - 1s 17ms/step - loss: 1.9391e-04 - mean_squared_error: 1.9391e-04\n",
      "1/1 [==============================] - 0s 24ms/step\n"
     ]
    },
    {
     "data": {
      "text/plain": [
       "array([[56664.11]], dtype=float32)"
      ]
     },
     "metadata": {},
     "output_type": "display_data"
    },
    {
     "name": "stdout",
     "output_type": "stream",
     "text": [
      "Epoch 1/5\n",
      "33/33 [==============================] - 1s 17ms/step - loss: 2.1449e-04 - mean_squared_error: 2.1449e-04\n",
      "Epoch 2/5\n",
      "33/33 [==============================] - 1s 17ms/step - loss: 2.1878e-04 - mean_squared_error: 2.1878e-04\n",
      "Epoch 3/5\n",
      "33/33 [==============================] - 1s 18ms/step - loss: 2.0595e-04 - mean_squared_error: 2.0595e-04\n",
      "Epoch 4/5\n",
      "33/33 [==============================] - 1s 18ms/step - loss: 1.9972e-04 - mean_squared_error: 1.9972e-04\n",
      "Epoch 5/5\n",
      "33/33 [==============================] - 1s 17ms/step - loss: 1.8979e-04 - mean_squared_error: 1.8979e-04\n",
      "1/1 [==============================] - 0s 24ms/step\n"
     ]
    },
    {
     "data": {
      "text/plain": [
       "array([[56928.57]], dtype=float32)"
      ]
     },
     "metadata": {},
     "output_type": "display_data"
    },
    {
     "name": "stdout",
     "output_type": "stream",
     "text": [
      "Epoch 1/5\n",
      "33/33 [==============================] - 1s 17ms/step - loss: 2.0024e-04 - mean_squared_error: 2.0024e-04\n",
      "Epoch 2/5\n",
      "33/33 [==============================] - 1s 17ms/step - loss: 2.2363e-04 - mean_squared_error: 2.2363e-04\n",
      "Epoch 3/5\n",
      "33/33 [==============================] - 1s 17ms/step - loss: 2.0746e-04 - mean_squared_error: 2.0746e-04\n",
      "Epoch 4/5\n",
      "33/33 [==============================] - 1s 18ms/step - loss: 2.1451e-04 - mean_squared_error: 2.1451e-04\n",
      "Epoch 5/5\n",
      "33/33 [==============================] - 1s 17ms/step - loss: 2.0872e-04 - mean_squared_error: 2.0872e-04\n",
      "1/1 [==============================] - 0s 23ms/step\n"
     ]
    },
    {
     "data": {
      "text/plain": [
       "array([[56924.215]], dtype=float32)"
      ]
     },
     "metadata": {},
     "output_type": "display_data"
    },
    {
     "name": "stdout",
     "output_type": "stream",
     "text": [
      "Epoch 1/5\n",
      "33/33 [==============================] - 1s 18ms/step - loss: 2.2803e-04 - mean_squared_error: 2.2803e-04\n",
      "Epoch 2/5\n",
      "33/33 [==============================] - 1s 18ms/step - loss: 1.9823e-04 - mean_squared_error: 1.9823e-04\n",
      "Epoch 3/5\n",
      "33/33 [==============================] - 1s 19ms/step - loss: 2.0518e-04 - mean_squared_error: 2.0518e-04\n",
      "Epoch 4/5\n",
      "33/33 [==============================] - 1s 20ms/step - loss: 2.3611e-04 - mean_squared_error: 2.3611e-04\n",
      "Epoch 5/5\n",
      "33/33 [==============================] - 1s 19ms/step - loss: 1.9443e-04 - mean_squared_error: 1.9443e-04\n",
      "1/1 [==============================] - 0s 23ms/step\n"
     ]
    },
    {
     "data": {
      "text/plain": [
       "array([[56549.684]], dtype=float32)"
      ]
     },
     "metadata": {},
     "output_type": "display_data"
    },
    {
     "name": "stdout",
     "output_type": "stream",
     "text": [
      "Epoch 1/5\n",
      "33/33 [==============================] - 1s 21ms/step - loss: 2.0025e-04 - mean_squared_error: 2.0025e-04\n",
      "Epoch 2/5\n",
      "33/33 [==============================] - 1s 18ms/step - loss: 2.1000e-04 - mean_squared_error: 2.1000e-04\n",
      "Epoch 3/5\n",
      "33/33 [==============================] - 1s 18ms/step - loss: 2.1310e-04 - mean_squared_error: 2.1310e-04\n",
      "Epoch 4/5\n",
      "33/33 [==============================] - 1s 18ms/step - loss: 1.8162e-04 - mean_squared_error: 1.8162e-04\n",
      "Epoch 5/5\n",
      "33/33 [==============================] - 1s 17ms/step - loss: 2.0059e-04 - mean_squared_error: 2.0059e-04\n",
      "1/1 [==============================] - 0s 23ms/step\n"
     ]
    },
    {
     "data": {
      "text/plain": [
       "array([[57119.574]], dtype=float32)"
      ]
     },
     "metadata": {},
     "output_type": "display_data"
    },
    {
     "name": "stdout",
     "output_type": "stream",
     "text": [
      "Epoch 1/5\n",
      "33/33 [==============================] - 1s 17ms/step - loss: 1.9415e-04 - mean_squared_error: 1.9415e-04\n",
      "Epoch 2/5\n",
      "33/33 [==============================] - 1s 18ms/step - loss: 2.1568e-04 - mean_squared_error: 2.1568e-04\n",
      "Epoch 3/5\n",
      "33/33 [==============================] - 1s 17ms/step - loss: 2.4765e-04 - mean_squared_error: 2.4765e-04\n",
      "Epoch 4/5\n",
      "33/33 [==============================] - 1s 18ms/step - loss: 2.0058e-04 - mean_squared_error: 2.0058e-04\n",
      "Epoch 5/5\n",
      "33/33 [==============================] - 1s 18ms/step - loss: 1.9624e-04 - mean_squared_error: 1.9624e-04\n",
      "1/1 [==============================] - 0s 25ms/step\n"
     ]
    },
    {
     "data": {
      "text/plain": [
       "array([[57335.29]], dtype=float32)"
      ]
     },
     "metadata": {},
     "output_type": "display_data"
    },
    {
     "name": "stdout",
     "output_type": "stream",
     "text": [
      "Epoch 1/5\n",
      "33/33 [==============================] - 1s 17ms/step - loss: 2.3492e-04 - mean_squared_error: 2.3492e-04\n",
      "Epoch 2/5\n",
      "33/33 [==============================] - 1s 19ms/step - loss: 2.1274e-04 - mean_squared_error: 2.1274e-04\n",
      "Epoch 3/5\n",
      "33/33 [==============================] - 1s 18ms/step - loss: 2.0032e-04 - mean_squared_error: 2.0032e-04\n",
      "Epoch 4/5\n",
      "33/33 [==============================] - 1s 18ms/step - loss: 1.8879e-04 - mean_squared_error: 1.8879e-04\n",
      "Epoch 5/5\n",
      "33/33 [==============================] - 1s 17ms/step - loss: 2.0193e-04 - mean_squared_error: 2.0193e-04\n",
      "1/1 [==============================] - 0s 24ms/step\n"
     ]
    },
    {
     "data": {
      "text/plain": [
       "array([[57108.543]], dtype=float32)"
      ]
     },
     "metadata": {},
     "output_type": "display_data"
    },
    {
     "name": "stdout",
     "output_type": "stream",
     "text": [
      "Epoch 1/5\n",
      "33/33 [==============================] - 1s 17ms/step - loss: 2.2237e-04 - mean_squared_error: 2.2237e-04\n",
      "Epoch 2/5\n",
      "33/33 [==============================] - 1s 17ms/step - loss: 2.1227e-04 - mean_squared_error: 2.1227e-04\n",
      "Epoch 3/5\n",
      "33/33 [==============================] - 1s 19ms/step - loss: 2.0132e-04 - mean_squared_error: 2.0132e-04\n",
      "Epoch 4/5\n",
      "33/33 [==============================] - 1s 17ms/step - loss: 2.0574e-04 - mean_squared_error: 2.0574e-04\n",
      "Epoch 5/5\n",
      "33/33 [==============================] - 1s 17ms/step - loss: 2.0881e-04 - mean_squared_error: 2.0881e-04\n",
      "1/1 [==============================] - 0s 23ms/step\n"
     ]
    },
    {
     "data": {
      "text/plain": [
       "array([[56954.105]], dtype=float32)"
      ]
     },
     "metadata": {},
     "output_type": "display_data"
    },
    {
     "name": "stdout",
     "output_type": "stream",
     "text": [
      "Epoch 1/5\n",
      "33/33 [==============================] - 1s 18ms/step - loss: 2.0253e-04 - mean_squared_error: 2.0253e-04\n",
      "Epoch 2/5\n",
      "33/33 [==============================] - 1s 18ms/step - loss: 1.9923e-04 - mean_squared_error: 1.9923e-04\n",
      "Epoch 3/5\n",
      "33/33 [==============================] - 1s 18ms/step - loss: 1.9938e-04 - mean_squared_error: 1.9938e-04\n",
      "Epoch 4/5\n",
      "33/33 [==============================] - 1s 18ms/step - loss: 2.1081e-04 - mean_squared_error: 2.1081e-04\n",
      "Epoch 5/5\n",
      "33/33 [==============================] - 1s 22ms/step - loss: 2.1542e-04 - mean_squared_error: 2.1542e-04\n",
      "1/1 [==============================] - 0s 102ms/step\n"
     ]
    },
    {
     "data": {
      "text/plain": [
       "array([[57553.445]], dtype=float32)"
      ]
     },
     "metadata": {},
     "output_type": "display_data"
    },
    {
     "name": "stdout",
     "output_type": "stream",
     "text": [
      "Epoch 1/5\n",
      "33/33 [==============================] - 1s 21ms/step - loss: 1.8816e-04 - mean_squared_error: 1.8816e-04\n",
      "Epoch 2/5\n",
      "33/33 [==============================] - 1s 21ms/step - loss: 2.2760e-04 - mean_squared_error: 2.2760e-04\n",
      "Epoch 3/5\n",
      "33/33 [==============================] - 1s 28ms/step - loss: 2.1727e-04 - mean_squared_error: 2.1727e-04\n",
      "Epoch 4/5\n",
      "33/33 [==============================] - 1s 17ms/step - loss: 2.0027e-04 - mean_squared_error: 2.0027e-04\n",
      "Epoch 5/5\n",
      "33/33 [==============================] - 1s 19ms/step - loss: 2.4083e-04 - mean_squared_error: 2.4083e-04\n",
      "1/1 [==============================] - 0s 25ms/step\n"
     ]
    },
    {
     "data": {
      "text/plain": [
       "array([[56989.93]], dtype=float32)"
      ]
     },
     "metadata": {},
     "output_type": "display_data"
    },
    {
     "name": "stdout",
     "output_type": "stream",
     "text": [
      "Epoch 1/5\n",
      "33/33 [==============================] - 1s 17ms/step - loss: 2.1069e-04 - mean_squared_error: 2.1069e-04\n",
      "Epoch 2/5\n",
      "33/33 [==============================] - 1s 18ms/step - loss: 2.0117e-04 - mean_squared_error: 2.0117e-04\n",
      "Epoch 3/5\n",
      "33/33 [==============================] - 1s 17ms/step - loss: 2.0218e-04 - mean_squared_error: 2.0218e-04\n",
      "Epoch 4/5\n",
      "33/33 [==============================] - 1s 18ms/step - loss: 1.9766e-04 - mean_squared_error: 1.9766e-04\n",
      "Epoch 5/5\n",
      "33/33 [==============================] - 1s 17ms/step - loss: 1.9105e-04 - mean_squared_error: 1.9105e-04\n",
      "1/1 [==============================] - 0s 22ms/step\n"
     ]
    },
    {
     "data": {
      "text/plain": [
       "array([[57053.973]], dtype=float32)"
      ]
     },
     "metadata": {},
     "output_type": "display_data"
    },
    {
     "name": "stdout",
     "output_type": "stream",
     "text": [
      "Epoch 1/5\n",
      "33/33 [==============================] - 1s 18ms/step - loss: 2.0731e-04 - mean_squared_error: 2.0731e-04\n",
      "Epoch 2/5\n",
      "33/33 [==============================] - 1s 18ms/step - loss: 1.9702e-04 - mean_squared_error: 1.9702e-04\n",
      "Epoch 3/5\n",
      "33/33 [==============================] - 1s 18ms/step - loss: 2.0024e-04 - mean_squared_error: 2.0024e-04\n",
      "Epoch 4/5\n",
      "33/33 [==============================] - 1s 17ms/step - loss: 2.0415e-04 - mean_squared_error: 2.0415e-04\n",
      "Epoch 5/5\n",
      "33/33 [==============================] - 1s 17ms/step - loss: 2.0881e-04 - mean_squared_error: 2.0881e-04\n",
      "1/1 [==============================] - 0s 26ms/step\n"
     ]
    },
    {
     "data": {
      "text/plain": [
       "array([[57479.96]], dtype=float32)"
      ]
     },
     "metadata": {},
     "output_type": "display_data"
    },
    {
     "name": "stdout",
     "output_type": "stream",
     "text": [
      "Epoch 1/5\n",
      "33/33 [==============================] - 1s 17ms/step - loss: 1.9043e-04 - mean_squared_error: 1.9043e-04\n",
      "Epoch 2/5\n",
      "33/33 [==============================] - 1s 18ms/step - loss: 2.1922e-04 - mean_squared_error: 2.1922e-04\n",
      "Epoch 3/5\n",
      "33/33 [==============================] - 1s 18ms/step - loss: 2.1889e-04 - mean_squared_error: 2.1889e-04\n",
      "Epoch 4/5\n",
      "33/33 [==============================] - 1s 18ms/step - loss: 2.0776e-04 - mean_squared_error: 2.0776e-04\n",
      "Epoch 5/5\n",
      "33/33 [==============================] - 1s 17ms/step - loss: 1.8908e-04 - mean_squared_error: 1.8908e-04\n",
      "1/1 [==============================] - 0s 25ms/step\n"
     ]
    },
    {
     "data": {
      "text/plain": [
       "array([[57367.42]], dtype=float32)"
      ]
     },
     "metadata": {},
     "output_type": "display_data"
    },
    {
     "name": "stdout",
     "output_type": "stream",
     "text": [
      "Epoch 1/5\n",
      "33/33 [==============================] - 1s 18ms/step - loss: 1.9597e-04 - mean_squared_error: 1.9597e-04\n",
      "Epoch 2/5\n",
      "33/33 [==============================] - 1s 18ms/step - loss: 1.8824e-04 - mean_squared_error: 1.8824e-04\n",
      "Epoch 3/5\n",
      "33/33 [==============================] - 1s 18ms/step - loss: 1.9905e-04 - mean_squared_error: 1.9905e-04\n",
      "Epoch 4/5\n",
      "33/33 [==============================] - 1s 18ms/step - loss: 1.7242e-04 - mean_squared_error: 1.7242e-04\n",
      "Epoch 5/5\n",
      "33/33 [==============================] - 1s 18ms/step - loss: 1.9475e-04 - mean_squared_error: 1.9475e-04\n",
      "1/1 [==============================] - 0s 24ms/step\n"
     ]
    },
    {
     "data": {
      "text/plain": [
       "array([[57976.742]], dtype=float32)"
      ]
     },
     "metadata": {},
     "output_type": "display_data"
    },
    {
     "name": "stdout",
     "output_type": "stream",
     "text": [
      "Epoch 1/5\n",
      "33/33 [==============================] - 1s 18ms/step - loss: 1.9806e-04 - mean_squared_error: 1.9806e-04\n",
      "Epoch 2/5\n",
      "33/33 [==============================] - 1s 18ms/step - loss: 1.9978e-04 - mean_squared_error: 1.9978e-04\n",
      "Epoch 3/5\n",
      "33/33 [==============================] - 1s 17ms/step - loss: 2.2791e-04 - mean_squared_error: 2.2791e-04\n",
      "Epoch 4/5\n",
      "33/33 [==============================] - 1s 18ms/step - loss: 2.0046e-04 - mean_squared_error: 2.0046e-04\n",
      "Epoch 5/5\n",
      "33/33 [==============================] - 1s 18ms/step - loss: 2.0393e-04 - mean_squared_error: 2.0393e-04\n",
      "1/1 [==============================] - 0s 25ms/step\n"
     ]
    },
    {
     "data": {
      "text/plain": [
       "array([[57897.97]], dtype=float32)"
      ]
     },
     "metadata": {},
     "output_type": "display_data"
    },
    {
     "name": "stdout",
     "output_type": "stream",
     "text": [
      "Epoch 1/5\n",
      "33/33 [==============================] - 1s 18ms/step - loss: 1.9705e-04 - mean_squared_error: 1.9705e-04\n",
      "Epoch 2/5\n",
      "33/33 [==============================] - 1s 18ms/step - loss: 2.0216e-04 - mean_squared_error: 2.0216e-04\n",
      "Epoch 3/5\n",
      "33/33 [==============================] - 1s 17ms/step - loss: 2.0343e-04 - mean_squared_error: 2.0343e-04\n",
      "Epoch 4/5\n",
      "33/33 [==============================] - 1s 18ms/step - loss: 2.0813e-04 - mean_squared_error: 2.0813e-04\n",
      "Epoch 5/5\n",
      "33/33 [==============================] - 1s 18ms/step - loss: 1.8735e-04 - mean_squared_error: 1.8735e-04\n",
      "1/1 [==============================] - 0s 23ms/step\n"
     ]
    },
    {
     "data": {
      "text/plain": [
       "array([[58201.33]], dtype=float32)"
      ]
     },
     "metadata": {},
     "output_type": "display_data"
    },
    {
     "name": "stdout",
     "output_type": "stream",
     "text": [
      "Epoch 1/5\n",
      "33/33 [==============================] - 1s 18ms/step - loss: 1.7918e-04 - mean_squared_error: 1.7918e-04\n",
      "Epoch 2/5\n",
      "33/33 [==============================] - 1s 17ms/step - loss: 1.8510e-04 - mean_squared_error: 1.8510e-04\n",
      "Epoch 3/5\n",
      "33/33 [==============================] - 1s 17ms/step - loss: 2.0209e-04 - mean_squared_error: 2.0209e-04\n",
      "Epoch 4/5\n",
      "33/33 [==============================] - 1s 17ms/step - loss: 2.1424e-04 - mean_squared_error: 2.1424e-04\n",
      "Epoch 5/5\n",
      "33/33 [==============================] - 1s 21ms/step - loss: 1.9178e-04 - mean_squared_error: 1.9178e-04\n",
      "1/1 [==============================] - 0s 23ms/step\n"
     ]
    },
    {
     "data": {
      "text/plain": [
       "array([[58111.746]], dtype=float32)"
      ]
     },
     "metadata": {},
     "output_type": "display_data"
    },
    {
     "name": "stdout",
     "output_type": "stream",
     "text": [
      "Epoch 1/5\n",
      "34/34 [==============================] - 1s 17ms/step - loss: 1.9659e-04 - mean_squared_error: 1.9659e-04\n",
      "Epoch 2/5\n",
      "34/34 [==============================] - 1s 17ms/step - loss: 1.9255e-04 - mean_squared_error: 1.9255e-04\n",
      "Epoch 3/5\n",
      "34/34 [==============================] - 1s 18ms/step - loss: 1.9601e-04 - mean_squared_error: 1.9601e-04\n",
      "Epoch 4/5\n",
      "34/34 [==============================] - 1s 17ms/step - loss: 1.8768e-04 - mean_squared_error: 1.8768e-04\n",
      "Epoch 5/5\n",
      "34/34 [==============================] - 1s 17ms/step - loss: 2.0381e-04 - mean_squared_error: 2.0381e-04\n",
      "1/1 [==============================] - 0s 22ms/step\n"
     ]
    },
    {
     "data": {
      "text/plain": [
       "array([[58445.258]], dtype=float32)"
      ]
     },
     "metadata": {},
     "output_type": "display_data"
    },
    {
     "name": "stdout",
     "output_type": "stream",
     "text": [
      "Epoch 1/5\n",
      "34/34 [==============================] - 1s 19ms/step - loss: 2.3172e-04 - mean_squared_error: 2.3172e-04\n",
      "Epoch 2/5\n",
      "34/34 [==============================] - 1s 17ms/step - loss: 2.7091e-04 - mean_squared_error: 2.7091e-04\n",
      "Epoch 3/5\n",
      "34/34 [==============================] - 1s 17ms/step - loss: 2.4971e-04 - mean_squared_error: 2.4971e-04\n",
      "Epoch 4/5\n",
      "34/34 [==============================] - 1s 17ms/step - loss: 2.1518e-04 - mean_squared_error: 2.1518e-04\n",
      "Epoch 5/5\n",
      "34/34 [==============================] - 1s 17ms/step - loss: 2.4661e-04 - mean_squared_error: 2.4661e-04\n",
      "1/1 [==============================] - 0s 23ms/step\n"
     ]
    },
    {
     "data": {
      "text/plain": [
       "array([[58610.54]], dtype=float32)"
      ]
     },
     "metadata": {},
     "output_type": "display_data"
    },
    {
     "name": "stdout",
     "output_type": "stream",
     "text": [
      "Epoch 1/5\n",
      "34/34 [==============================] - 1s 19ms/step - loss: 2.0748e-04 - mean_squared_error: 2.0748e-04\n",
      "Epoch 2/5\n",
      "34/34 [==============================] - 1s 18ms/step - loss: 2.0164e-04 - mean_squared_error: 2.0164e-04\n",
      "Epoch 3/5\n",
      "34/34 [==============================] - 1s 18ms/step - loss: 1.7794e-04 - mean_squared_error: 1.7794e-04\n",
      "Epoch 4/5\n",
      "34/34 [==============================] - 1s 19ms/step - loss: 2.0500e-04 - mean_squared_error: 2.0500e-04\n",
      "Epoch 5/5\n",
      "34/34 [==============================] - 1s 18ms/step - loss: 1.9130e-04 - mean_squared_error: 1.9130e-04\n",
      "1/1 [==============================] - 0s 23ms/step\n"
     ]
    },
    {
     "data": {
      "text/plain": [
       "array([[58584.12]], dtype=float32)"
      ]
     },
     "metadata": {},
     "output_type": "display_data"
    },
    {
     "name": "stdout",
     "output_type": "stream",
     "text": [
      "Epoch 1/5\n",
      "34/34 [==============================] - 1s 17ms/step - loss: 1.9477e-04 - mean_squared_error: 1.9477e-04\n",
      "Epoch 2/5\n",
      "34/34 [==============================] - 1s 18ms/step - loss: 2.0400e-04 - mean_squared_error: 2.0400e-04\n",
      "Epoch 3/5\n",
      "34/34 [==============================] - 1s 20ms/step - loss: 1.8549e-04 - mean_squared_error: 1.8549e-04\n",
      "Epoch 4/5\n",
      "34/34 [==============================] - 1s 18ms/step - loss: 2.1356e-04 - mean_squared_error: 2.1356e-04\n",
      "Epoch 5/5\n",
      "34/34 [==============================] - 1s 21ms/step - loss: 2.0963e-04 - mean_squared_error: 2.0963e-04\n",
      "1/1 [==============================] - 0s 27ms/step\n"
     ]
    },
    {
     "data": {
      "text/plain": [
       "array([[58439.59]], dtype=float32)"
      ]
     },
     "metadata": {},
     "output_type": "display_data"
    },
    {
     "name": "stdout",
     "output_type": "stream",
     "text": [
      "Epoch 1/5\n",
      "34/34 [==============================] - 1s 20ms/step - loss: 1.7077e-04 - mean_squared_error: 1.7077e-04\n",
      "Epoch 2/5\n",
      "34/34 [==============================] - 1s 19ms/step - loss: 1.7162e-04 - mean_squared_error: 1.7162e-04\n",
      "Epoch 3/5\n",
      "34/34 [==============================] - 1s 18ms/step - loss: 1.8488e-04 - mean_squared_error: 1.8488e-04\n",
      "Epoch 4/5\n",
      "34/34 [==============================] - 1s 19ms/step - loss: 2.0621e-04 - mean_squared_error: 2.0621e-04\n",
      "Epoch 5/5\n",
      "34/34 [==============================] - 1s 19ms/step - loss: 1.8314e-04 - mean_squared_error: 1.8314e-04\n",
      "1/1 [==============================] - 0s 24ms/step\n"
     ]
    },
    {
     "data": {
      "text/plain": [
       "array([[58207.684]], dtype=float32)"
      ]
     },
     "metadata": {},
     "output_type": "display_data"
    },
    {
     "name": "stdout",
     "output_type": "stream",
     "text": [
      "Epoch 1/5\n",
      "34/34 [==============================] - 1s 18ms/step - loss: 1.8829e-04 - mean_squared_error: 1.8829e-04\n",
      "Epoch 2/5\n",
      "34/34 [==============================] - 1s 20ms/step - loss: 1.7763e-04 - mean_squared_error: 1.7763e-04\n",
      "Epoch 3/5\n",
      "34/34 [==============================] - 1s 21ms/step - loss: 1.8478e-04 - mean_squared_error: 1.8478e-04\n",
      "Epoch 4/5\n",
      "34/34 [==============================] - 1s 20ms/step - loss: 1.8951e-04 - mean_squared_error: 1.8951e-04\n",
      "Epoch 5/5\n",
      "34/34 [==============================] - 1s 21ms/step - loss: 1.9719e-04 - mean_squared_error: 1.9719e-04\n",
      "1/1 [==============================] - 0s 23ms/step\n"
     ]
    },
    {
     "data": {
      "text/plain": [
       "array([[57692.48]], dtype=float32)"
      ]
     },
     "metadata": {},
     "output_type": "display_data"
    },
    {
     "name": "stdout",
     "output_type": "stream",
     "text": [
      "Epoch 1/5\n",
      "34/34 [==============================] - 1s 18ms/step - loss: 1.9851e-04 - mean_squared_error: 1.9851e-04\n",
      "Epoch 2/5\n",
      "34/34 [==============================] - 1s 17ms/step - loss: 2.1069e-04 - mean_squared_error: 2.1069e-04\n",
      "Epoch 3/5\n",
      "34/34 [==============================] - 1s 17ms/step - loss: 1.7263e-04 - mean_squared_error: 1.7263e-04\n",
      "Epoch 4/5\n",
      "34/34 [==============================] - 1s 17ms/step - loss: 1.7944e-04 - mean_squared_error: 1.7944e-04\n",
      "Epoch 5/5\n",
      "34/34 [==============================] - 1s 17ms/step - loss: 2.0061e-04 - mean_squared_error: 2.0061e-04\n",
      "1/1 [==============================] - 0s 23ms/step\n"
     ]
    },
    {
     "data": {
      "text/plain": [
       "array([[56900.965]], dtype=float32)"
      ]
     },
     "metadata": {},
     "output_type": "display_data"
    },
    {
     "name": "stdout",
     "output_type": "stream",
     "text": [
      "Epoch 1/5\n",
      "34/34 [==============================] - 1s 17ms/step - loss: 1.6860e-04 - mean_squared_error: 1.6860e-04\n",
      "Epoch 2/5\n",
      "34/34 [==============================] - 1s 20ms/step - loss: 1.8321e-04 - mean_squared_error: 1.8321e-04\n",
      "Epoch 3/5\n",
      "34/34 [==============================] - 1s 17ms/step - loss: 1.8430e-04 - mean_squared_error: 1.8430e-04\n",
      "Epoch 4/5\n",
      "34/34 [==============================] - 1s 17ms/step - loss: 1.8840e-04 - mean_squared_error: 1.8840e-04\n",
      "Epoch 5/5\n",
      "34/34 [==============================] - 1s 17ms/step - loss: 1.7971e-04 - mean_squared_error: 1.7971e-04\n",
      "1/1 [==============================] - 0s 27ms/step\n"
     ]
    },
    {
     "data": {
      "text/plain": [
       "array([[57021.168]], dtype=float32)"
      ]
     },
     "metadata": {},
     "output_type": "display_data"
    },
    {
     "name": "stdout",
     "output_type": "stream",
     "text": [
      "Epoch 1/5\n",
      "34/34 [==============================] - 1s 18ms/step - loss: 1.8540e-04 - mean_squared_error: 1.8540e-04\n",
      "Epoch 2/5\n",
      "34/34 [==============================] - 1s 17ms/step - loss: 1.8079e-04 - mean_squared_error: 1.8079e-04\n",
      "Epoch 3/5\n",
      "34/34 [==============================] - 1s 17ms/step - loss: 1.7782e-04 - mean_squared_error: 1.7782e-04\n",
      "Epoch 4/5\n",
      "34/34 [==============================] - 1s 18ms/step - loss: 1.6723e-04 - mean_squared_error: 1.6723e-04\n",
      "Epoch 5/5\n",
      "34/34 [==============================] - 1s 17ms/step - loss: 1.9187e-04 - mean_squared_error: 1.9187e-04\n",
      "1/1 [==============================] - 0s 25ms/step\n"
     ]
    },
    {
     "data": {
      "text/plain": [
       "array([[56505.2]], dtype=float32)"
      ]
     },
     "metadata": {},
     "output_type": "display_data"
    },
    {
     "name": "stdout",
     "output_type": "stream",
     "text": [
      "Epoch 1/5\n",
      "34/34 [==============================] - 1s 17ms/step - loss: 1.9561e-04 - mean_squared_error: 1.9561e-04\n",
      "Epoch 2/5\n",
      "34/34 [==============================] - 1s 19ms/step - loss: 1.8542e-04 - mean_squared_error: 1.8542e-04\n",
      "Epoch 3/5\n",
      "34/34 [==============================] - 1s 17ms/step - loss: 1.6635e-04 - mean_squared_error: 1.6635e-04\n",
      "Epoch 4/5\n",
      "34/34 [==============================] - 1s 18ms/step - loss: 1.8343e-04 - mean_squared_error: 1.8343e-04\n",
      "Epoch 5/5\n",
      "34/34 [==============================] - 1s 17ms/step - loss: 1.8337e-04 - mean_squared_error: 1.8337e-04\n",
      "1/1 [==============================] - 0s 27ms/step\n"
     ]
    },
    {
     "data": {
      "text/plain": [
       "array([[56893.3]], dtype=float32)"
      ]
     },
     "metadata": {},
     "output_type": "display_data"
    },
    {
     "name": "stdout",
     "output_type": "stream",
     "text": [
      "Epoch 1/5\n",
      "34/34 [==============================] - 1s 18ms/step - loss: 1.8733e-04 - mean_squared_error: 1.8733e-04\n",
      "Epoch 2/5\n",
      "34/34 [==============================] - 1s 17ms/step - loss: 1.8528e-04 - mean_squared_error: 1.8528e-04\n",
      "Epoch 3/5\n",
      "34/34 [==============================] - 1s 17ms/step - loss: 1.7694e-04 - mean_squared_error: 1.7694e-04\n",
      "Epoch 4/5\n",
      "34/34 [==============================] - 1s 17ms/step - loss: 1.8017e-04 - mean_squared_error: 1.8017e-04\n",
      "Epoch 5/5\n",
      "34/34 [==============================] - 1s 17ms/step - loss: 1.7775e-04 - mean_squared_error: 1.7775e-04\n",
      "1/1 [==============================] - 0s 23ms/step\n"
     ]
    },
    {
     "data": {
      "text/plain": [
       "array([[56947.46]], dtype=float32)"
      ]
     },
     "metadata": {},
     "output_type": "display_data"
    },
    {
     "name": "stdout",
     "output_type": "stream",
     "text": [
      "Epoch 1/5\n",
      "34/34 [==============================] - 1s 17ms/step - loss: 1.6193e-04 - mean_squared_error: 1.6193e-04\n",
      "Epoch 2/5\n",
      "34/34 [==============================] - 1s 17ms/step - loss: 1.9820e-04 - mean_squared_error: 1.9820e-04\n",
      "Epoch 3/5\n",
      "34/34 [==============================] - 1s 17ms/step - loss: 1.9097e-04 - mean_squared_error: 1.9097e-04\n",
      "Epoch 4/5\n",
      "34/34 [==============================] - 1s 17ms/step - loss: 1.8177e-04 - mean_squared_error: 1.8177e-04\n",
      "Epoch 5/5\n",
      "34/34 [==============================] - 1s 17ms/step - loss: 1.7812e-04 - mean_squared_error: 1.7812e-04\n",
      "1/1 [==============================] - 0s 23ms/step\n"
     ]
    },
    {
     "data": {
      "text/plain": [
       "array([[56850.527]], dtype=float32)"
      ]
     },
     "metadata": {},
     "output_type": "display_data"
    },
    {
     "name": "stdout",
     "output_type": "stream",
     "text": [
      "Epoch 1/5\n",
      "34/34 [==============================] - 1s 17ms/step - loss: 1.8432e-04 - mean_squared_error: 1.8432e-04\n",
      "Epoch 2/5\n",
      "34/34 [==============================] - 1s 17ms/step - loss: 1.8418e-04 - mean_squared_error: 1.8418e-04\n",
      "Epoch 3/5\n",
      "34/34 [==============================] - 1s 17ms/step - loss: 1.8248e-04 - mean_squared_error: 1.8248e-04\n",
      "Epoch 4/5\n",
      "34/34 [==============================] - 1s 17ms/step - loss: 1.9601e-04 - mean_squared_error: 1.9601e-04\n",
      "Epoch 5/5\n",
      "34/34 [==============================] - 1s 17ms/step - loss: 2.0841e-04 - mean_squared_error: 2.0841e-04\n",
      "1/1 [==============================] - 0s 23ms/step\n"
     ]
    },
    {
     "data": {
      "text/plain": [
       "array([[56727.47]], dtype=float32)"
      ]
     },
     "metadata": {},
     "output_type": "display_data"
    },
    {
     "name": "stdout",
     "output_type": "stream",
     "text": [
      "Epoch 1/5\n",
      "34/34 [==============================] - 1s 17ms/step - loss: 1.9282e-04 - mean_squared_error: 1.9282e-04\n",
      "Epoch 2/5\n",
      "34/34 [==============================] - 1s 17ms/step - loss: 1.8974e-04 - mean_squared_error: 1.8974e-04\n",
      "Epoch 3/5\n",
      "34/34 [==============================] - 1s 17ms/step - loss: 2.1136e-04 - mean_squared_error: 2.1136e-04\n",
      "Epoch 4/5\n",
      "34/34 [==============================] - 1s 17ms/step - loss: 1.7806e-04 - mean_squared_error: 1.7806e-04\n",
      "Epoch 5/5\n",
      "34/34 [==============================] - 1s 17ms/step - loss: 1.8783e-04 - mean_squared_error: 1.8783e-04\n",
      "1/1 [==============================] - 0s 22ms/step\n"
     ]
    },
    {
     "data": {
      "text/plain": [
       "array([[57283.363]], dtype=float32)"
      ]
     },
     "metadata": {},
     "output_type": "display_data"
    },
    {
     "name": "stdout",
     "output_type": "stream",
     "text": [
      "Epoch 1/5\n",
      "34/34 [==============================] - 1s 17ms/step - loss: 2.2186e-04 - mean_squared_error: 2.2186e-04\n",
      "Epoch 2/5\n",
      "34/34 [==============================] - 1s 17ms/step - loss: 1.9708e-04 - mean_squared_error: 1.9708e-04\n",
      "Epoch 3/5\n",
      "34/34 [==============================] - 1s 17ms/step - loss: 2.0557e-04 - mean_squared_error: 2.0557e-04\n",
      "Epoch 4/5\n",
      "34/34 [==============================] - 1s 17ms/step - loss: 1.9956e-04 - mean_squared_error: 1.9956e-04\n",
      "Epoch 5/5\n",
      "34/34 [==============================] - 1s 17ms/step - loss: 1.8849e-04 - mean_squared_error: 1.8849e-04\n",
      "1/1 [==============================] - 0s 24ms/step\n"
     ]
    },
    {
     "data": {
      "text/plain": [
       "array([[57395.98]], dtype=float32)"
      ]
     },
     "metadata": {},
     "output_type": "display_data"
    },
    {
     "name": "stdout",
     "output_type": "stream",
     "text": [
      "Epoch 1/5\n",
      "34/34 [==============================] - 1s 18ms/step - loss: 1.8574e-04 - mean_squared_error: 1.8574e-04\n",
      "Epoch 2/5\n",
      "34/34 [==============================] - 1s 17ms/step - loss: 1.8847e-04 - mean_squared_error: 1.8847e-04\n",
      "Epoch 3/5\n",
      "34/34 [==============================] - 1s 17ms/step - loss: 1.7611e-04 - mean_squared_error: 1.7611e-04\n",
      "Epoch 4/5\n",
      "34/34 [==============================] - 1s 17ms/step - loss: 1.7002e-04 - mean_squared_error: 1.7002e-04\n",
      "Epoch 5/5\n",
      "34/34 [==============================] - 1s 17ms/step - loss: 1.9063e-04 - mean_squared_error: 1.9063e-04\n",
      "1/1 [==============================] - 0s 25ms/step\n"
     ]
    },
    {
     "data": {
      "text/plain": [
       "array([[57340.84]], dtype=float32)"
      ]
     },
     "metadata": {},
     "output_type": "display_data"
    },
    {
     "name": "stdout",
     "output_type": "stream",
     "text": [
      "Epoch 1/5\n",
      "34/34 [==============================] - 1s 17ms/step - loss: 1.8705e-04 - mean_squared_error: 1.8705e-04\n",
      "Epoch 2/5\n",
      "34/34 [==============================] - 1s 17ms/step - loss: 2.1781e-04 - mean_squared_error: 2.1781e-04\n",
      "Epoch 3/5\n",
      "34/34 [==============================] - 1s 17ms/step - loss: 1.7725e-04 - mean_squared_error: 1.7725e-04\n",
      "Epoch 4/5\n",
      "34/34 [==============================] - 1s 18ms/step - loss: 1.7726e-04 - mean_squared_error: 1.7726e-04\n",
      "Epoch 5/5\n",
      "34/34 [==============================] - 1s 17ms/step - loss: 1.7999e-04 - mean_squared_error: 1.7999e-04\n",
      "1/1 [==============================] - 0s 22ms/step\n"
     ]
    },
    {
     "data": {
      "text/plain": [
       "array([[57137.297]], dtype=float32)"
      ]
     },
     "metadata": {},
     "output_type": "display_data"
    },
    {
     "name": "stdout",
     "output_type": "stream",
     "text": [
      "Epoch 1/5\n",
      "34/34 [==============================] - 1s 24ms/step - loss: 1.8202e-04 - mean_squared_error: 1.8202e-04\n",
      "Epoch 2/5\n",
      "34/34 [==============================] - 1s 21ms/step - loss: 1.8697e-04 - mean_squared_error: 1.8697e-04\n",
      "Epoch 3/5\n",
      "34/34 [==============================] - 1s 22ms/step - loss: 1.7815e-04 - mean_squared_error: 1.7815e-04\n",
      "Epoch 4/5\n",
      "34/34 [==============================] - 1s 21ms/step - loss: 1.7961e-04 - mean_squared_error: 1.7961e-04\n",
      "Epoch 5/5\n",
      "34/34 [==============================] - 1s 19ms/step - loss: 1.8579e-04 - mean_squared_error: 1.8579e-04\n",
      "1/1 [==============================] - 0s 26ms/step\n"
     ]
    },
    {
     "data": {
      "text/plain": [
       "array([[56818.695]], dtype=float32)"
      ]
     },
     "metadata": {},
     "output_type": "display_data"
    },
    {
     "name": "stdout",
     "output_type": "stream",
     "text": [
      "Epoch 1/5\n",
      "34/34 [==============================] - 1s 23ms/step - loss: 1.8138e-04 - mean_squared_error: 1.8138e-04\n",
      "Epoch 2/5\n",
      "34/34 [==============================] - 1s 26ms/step - loss: 1.6437e-04 - mean_squared_error: 1.6437e-04\n",
      "Epoch 3/5\n",
      "34/34 [==============================] - 1s 21ms/step - loss: 1.9178e-04 - mean_squared_error: 1.9178e-04\n",
      "Epoch 4/5\n",
      "34/34 [==============================] - 1s 19ms/step - loss: 1.6294e-04 - mean_squared_error: 1.6294e-04\n",
      "Epoch 5/5\n",
      "34/34 [==============================] - 1s 19ms/step - loss: 1.8362e-04 - mean_squared_error: 1.8362e-04\n",
      "1/1 [==============================] - 0s 26ms/step\n"
     ]
    },
    {
     "data": {
      "text/plain": [
       "array([[56468.44]], dtype=float32)"
      ]
     },
     "metadata": {},
     "output_type": "display_data"
    },
    {
     "name": "stdout",
     "output_type": "stream",
     "text": [
      "Epoch 1/5\n",
      "34/34 [==============================] - 1s 19ms/step - loss: 1.6813e-04 - mean_squared_error: 1.6813e-04\n",
      "Epoch 2/5\n",
      "34/34 [==============================] - 1s 21ms/step - loss: 1.8409e-04 - mean_squared_error: 1.8409e-04\n",
      "Epoch 3/5\n",
      "34/34 [==============================] - 1s 22ms/step - loss: 1.7259e-04 - mean_squared_error: 1.7259e-04\n",
      "Epoch 4/5\n",
      "34/34 [==============================] - 1s 21ms/step - loss: 1.9147e-04 - mean_squared_error: 1.9147e-04\n",
      "Epoch 5/5\n",
      "34/34 [==============================] - 1s 23ms/step - loss: 1.7224e-04 - mean_squared_error: 1.7224e-04\n",
      "1/1 [==============================] - 0s 30ms/step\n"
     ]
    },
    {
     "data": {
      "text/plain": [
       "array([[56728.7]], dtype=float32)"
      ]
     },
     "metadata": {},
     "output_type": "display_data"
    },
    {
     "name": "stdout",
     "output_type": "stream",
     "text": [
      "Epoch 1/5\n",
      "34/34 [==============================] - 1s 25ms/step - loss: 1.7820e-04 - mean_squared_error: 1.7820e-04\n",
      "Epoch 2/5\n",
      "34/34 [==============================] - 1s 28ms/step - loss: 1.7768e-04 - mean_squared_error: 1.7768e-04\n",
      "Epoch 3/5\n",
      "34/34 [==============================] - 1s 30ms/step - loss: 1.7917e-04 - mean_squared_error: 1.7917e-04\n",
      "Epoch 4/5\n",
      "34/34 [==============================] - 1s 18ms/step - loss: 1.9036e-04 - mean_squared_error: 1.9036e-04\n",
      "Epoch 5/5\n",
      "34/34 [==============================] - 1s 18ms/step - loss: 1.8958e-04 - mean_squared_error: 1.8958e-04\n",
      "1/1 [==============================] - 0s 24ms/step\n"
     ]
    },
    {
     "data": {
      "text/plain": [
       "array([[56635.996]], dtype=float32)"
      ]
     },
     "metadata": {},
     "output_type": "display_data"
    },
    {
     "name": "stdout",
     "output_type": "stream",
     "text": [
      "Epoch 1/5\n",
      "34/34 [==============================] - 1s 25ms/step - loss: 1.8272e-04 - mean_squared_error: 1.8272e-04\n",
      "Epoch 2/5\n",
      "34/34 [==============================] - 1s 28ms/step - loss: 1.7757e-04 - mean_squared_error: 1.7757e-04\n",
      "Epoch 3/5\n",
      "34/34 [==============================] - 1s 21ms/step - loss: 1.6453e-04 - mean_squared_error: 1.6453e-04\n",
      "Epoch 4/5\n",
      "34/34 [==============================] - 1s 19ms/step - loss: 1.7990e-04 - mean_squared_error: 1.7990e-04\n",
      "Epoch 5/5\n",
      "34/34 [==============================] - 1s 23ms/step - loss: 1.8447e-04 - mean_squared_error: 1.8447e-04\n",
      "1/1 [==============================] - 0s 27ms/step\n"
     ]
    },
    {
     "data": {
      "text/plain": [
       "array([[55954.832]], dtype=float32)"
      ]
     },
     "metadata": {},
     "output_type": "display_data"
    },
    {
     "name": "stdout",
     "output_type": "stream",
     "text": [
      "Epoch 1/5\n",
      "34/34 [==============================] - 1s 17ms/step - loss: 2.0661e-04 - mean_squared_error: 2.0661e-04\n",
      "Epoch 2/5\n",
      "34/34 [==============================] - 1s 17ms/step - loss: 1.7935e-04 - mean_squared_error: 1.7935e-04\n",
      "Epoch 3/5\n",
      "34/34 [==============================] - 1s 22ms/step - loss: 1.8127e-04 - mean_squared_error: 1.8127e-04\n",
      "Epoch 4/5\n",
      "34/34 [==============================] - 1s 27ms/step - loss: 1.6474e-04 - mean_squared_error: 1.6474e-04\n",
      "Epoch 5/5\n",
      "34/34 [==============================] - 1s 30ms/step - loss: 1.6035e-04 - mean_squared_error: 1.6035e-04\n",
      "1/1 [==============================] - 0s 71ms/step\n"
     ]
    },
    {
     "data": {
      "text/plain": [
       "array([[56087.582]], dtype=float32)"
      ]
     },
     "metadata": {},
     "output_type": "display_data"
    },
    {
     "name": "stdout",
     "output_type": "stream",
     "text": [
      "Epoch 1/5\n",
      "34/34 [==============================] - 1s 27ms/step - loss: 1.6722e-04 - mean_squared_error: 1.6722e-04\n",
      "Epoch 2/5\n",
      "34/34 [==============================] - 1s 18ms/step - loss: 1.7405e-04 - mean_squared_error: 1.7405e-04\n",
      "Epoch 3/5\n",
      "34/34 [==============================] - 1s 17ms/step - loss: 1.7435e-04 - mean_squared_error: 1.7435e-04\n",
      "Epoch 4/5\n",
      "34/34 [==============================] - 1s 16ms/step - loss: 1.7532e-04 - mean_squared_error: 1.7532e-04\n",
      "Epoch 5/5\n",
      "34/34 [==============================] - 1s 17ms/step - loss: 1.7102e-04 - mean_squared_error: 1.7102e-04\n",
      "1/1 [==============================] - 0s 23ms/step\n"
     ]
    },
    {
     "data": {
      "text/plain": [
       "array([[55485.105]], dtype=float32)"
      ]
     },
     "metadata": {},
     "output_type": "display_data"
    },
    {
     "name": "stdout",
     "output_type": "stream",
     "text": [
      "Epoch 1/5\n",
      "34/34 [==============================] - 1s 17ms/step - loss: 1.8673e-04 - mean_squared_error: 1.8673e-04\n",
      "Epoch 2/5\n",
      "34/34 [==============================] - 1s 17ms/step - loss: 2.0278e-04 - mean_squared_error: 2.0278e-04\n",
      "Epoch 3/5\n",
      "34/34 [==============================] - 1s 17ms/step - loss: 1.7463e-04 - mean_squared_error: 1.7463e-04\n",
      "Epoch 4/5\n",
      "34/34 [==============================] - 1s 17ms/step - loss: 1.8075e-04 - mean_squared_error: 1.8075e-04\n",
      "Epoch 5/5\n",
      "34/34 [==============================] - 1s 17ms/step - loss: 1.7595e-04 - mean_squared_error: 1.7595e-04\n",
      "1/1 [==============================] - 0s 22ms/step\n"
     ]
    },
    {
     "data": {
      "text/plain": [
       "array([[55723.32]], dtype=float32)"
      ]
     },
     "metadata": {},
     "output_type": "display_data"
    },
    {
     "name": "stdout",
     "output_type": "stream",
     "text": [
      "Epoch 1/5\n",
      "34/34 [==============================] - 1s 17ms/step - loss: 1.9312e-04 - mean_squared_error: 1.9312e-04\n",
      "Epoch 2/5\n",
      "34/34 [==============================] - 1s 17ms/step - loss: 1.7743e-04 - mean_squared_error: 1.7743e-04\n",
      "Epoch 3/5\n",
      "34/34 [==============================] - 1s 17ms/step - loss: 1.6302e-04 - mean_squared_error: 1.6302e-04\n",
      "Epoch 4/5\n",
      "34/34 [==============================] - 1s 17ms/step - loss: 1.6880e-04 - mean_squared_error: 1.6880e-04\n",
      "Epoch 5/5\n",
      "34/34 [==============================] - 1s 17ms/step - loss: 1.7338e-04 - mean_squared_error: 1.7338e-04\n",
      "1/1 [==============================] - 0s 23ms/step\n"
     ]
    },
    {
     "data": {
      "text/plain": [
       "array([[55998.184]], dtype=float32)"
      ]
     },
     "metadata": {},
     "output_type": "display_data"
    },
    {
     "name": "stdout",
     "output_type": "stream",
     "text": [
      "Epoch 1/5\n",
      "34/34 [==============================] - 1s 16ms/step - loss: 1.8460e-04 - mean_squared_error: 1.8460e-04\n",
      "Epoch 2/5\n",
      "34/34 [==============================] - 1s 17ms/step - loss: 1.7470e-04 - mean_squared_error: 1.7470e-04\n",
      "Epoch 3/5\n",
      "34/34 [==============================] - 1s 17ms/step - loss: 1.5920e-04 - mean_squared_error: 1.5920e-04\n",
      "Epoch 4/5\n",
      "34/34 [==============================] - 1s 17ms/step - loss: 1.7071e-04 - mean_squared_error: 1.7071e-04\n",
      "Epoch 5/5\n",
      "34/34 [==============================] - 1s 17ms/step - loss: 1.6719e-04 - mean_squared_error: 1.6719e-04\n",
      "1/1 [==============================] - 0s 22ms/step\n"
     ]
    },
    {
     "data": {
      "text/plain": [
       "array([[56275.02]], dtype=float32)"
      ]
     },
     "metadata": {},
     "output_type": "display_data"
    },
    {
     "name": "stdout",
     "output_type": "stream",
     "text": [
      "Epoch 1/5\n",
      "34/34 [==============================] - 1s 17ms/step - loss: 1.8247e-04 - mean_squared_error: 1.8247e-04\n",
      "Epoch 2/5\n",
      "34/34 [==============================] - 1s 16ms/step - loss: 1.6369e-04 - mean_squared_error: 1.6369e-04\n",
      "Epoch 3/5\n",
      "34/34 [==============================] - 1s 17ms/step - loss: 1.7009e-04 - mean_squared_error: 1.7009e-04\n",
      "Epoch 4/5\n",
      "34/34 [==============================] - 1s 20ms/step - loss: 1.7040e-04 - mean_squared_error: 1.7040e-04\n",
      "Epoch 5/5\n",
      "34/34 [==============================] - 1s 20ms/step - loss: 1.6106e-04 - mean_squared_error: 1.6106e-04\n",
      "1/1 [==============================] - 0s 23ms/step\n"
     ]
    },
    {
     "data": {
      "text/plain": [
       "array([[56256.973]], dtype=float32)"
      ]
     },
     "metadata": {},
     "output_type": "display_data"
    },
    {
     "name": "stdout",
     "output_type": "stream",
     "text": [
      "Epoch 1/5\n",
      "34/34 [==============================] - 1s 24ms/step - loss: 1.6826e-04 - mean_squared_error: 1.6826e-04\n",
      "Epoch 2/5\n",
      "34/34 [==============================] - 1s 16ms/step - loss: 1.5431e-04 - mean_squared_error: 1.5431e-04\n",
      "Epoch 3/5\n",
      "34/34 [==============================] - 1s 17ms/step - loss: 1.7059e-04 - mean_squared_error: 1.7059e-04\n",
      "Epoch 4/5\n",
      "34/34 [==============================] - 1s 17ms/step - loss: 1.8191e-04 - mean_squared_error: 1.8191e-04\n",
      "Epoch 5/5\n",
      "34/34 [==============================] - 1s 17ms/step - loss: 1.6068e-04 - mean_squared_error: 1.6068e-04\n",
      "1/1 [==============================] - 0s 22ms/step\n"
     ]
    },
    {
     "data": {
      "text/plain": [
       "array([[56222.98]], dtype=float32)"
      ]
     },
     "metadata": {},
     "output_type": "display_data"
    },
    {
     "name": "stdout",
     "output_type": "stream",
     "text": [
      "Epoch 1/5\n",
      "34/34 [==============================] - 1s 17ms/step - loss: 1.7475e-04 - mean_squared_error: 1.7475e-04\n",
      "Epoch 2/5\n",
      "34/34 [==============================] - 1s 18ms/step - loss: 1.5880e-04 - mean_squared_error: 1.5880e-04\n",
      "Epoch 3/5\n",
      "34/34 [==============================] - 1s 20ms/step - loss: 1.6204e-04 - mean_squared_error: 1.6204e-04\n",
      "Epoch 4/5\n",
      "34/34 [==============================] - 1s 19ms/step - loss: 1.7764e-04 - mean_squared_error: 1.7764e-04\n",
      "Epoch 5/5\n",
      "34/34 [==============================] - 1s 18ms/step - loss: 1.6093e-04 - mean_squared_error: 1.6093e-04\n"
     ]
    }
   ],
   "source": [
    "# Projects future data by using model to predict next close and then uses that value to retrain \n",
    "# the model before making next prediction\n",
    "for i in range(326): \n",
    "    # predicts next close value and reshapes it\n",
    "    prediction_scaled=model_btc.predict(X_train[-1].reshape(1, window_size, 1))\n",
    "    # transforms prediction back to original scale\n",
    "    next_prediction=y_scaler.inverse_transform(prediction_scaled)\n",
    "    # displays predicted close value\n",
    "    display(next_prediction)\n",
    "    # adds predicted close value to list\n",
    "    new_train_sample=np.append(X_train[-1], prediction_scaled)[1:].reshape(1, window_size, 1)\n",
    "    # adds new list entry of predicted close to X train\n",
    "    X_train=np.append(X_train, new_train_sample, axis=0)\n",
    "    # adds new list entry of predicted close to y train\n",
    "    y_train=np.append(y_train, prediction_scaled, axis=0)\n",
    "    # refits model with new close value\n",
    "    model_btc.fit(X_train, y_train, epochs=5)"
   ]
  },
  {
   "cell_type": "code",
   "execution_count": 15,
   "id": "5f56a9c9-96b1-4e17-8514-46d59c132ca2",
   "metadata": {},
   "outputs": [
    {
     "name": "stdout",
     "output_type": "stream",
     "text": [
      "11/11 [==============================] - 0s 6ms/step\n"
     ]
    }
   ],
   "source": [
    "# predicts next close values\n",
    "prediction = model_btc.predict(X_test)\n",
    "# rescales predicted values to original scale\n",
    "y_predicted=y_scaler.inverse_transform(prediction)"
   ]
  },
  {
   "cell_type": "code",
   "execution_count": 20,
   "id": "b63e03e2-d0da-4169-b262-c734ec5a0ef2",
   "metadata": {},
   "outputs": [
    {
     "data": {
      "text/html": [
       "<div>\n",
       "<style scoped>\n",
       "    .dataframe tbody tr th:only-of-type {\n",
       "        vertical-align: middle;\n",
       "    }\n",
       "\n",
       "    .dataframe tbody tr th {\n",
       "        vertical-align: top;\n",
       "    }\n",
       "\n",
       "    .dataframe thead th {\n",
       "        text-align: right;\n",
       "    }\n",
       "</style>\n",
       "<table border=\"1\" class=\"dataframe\">\n",
       "  <thead>\n",
       "    <tr style=\"text-align: right;\">\n",
       "      <th></th>\n",
       "      <th>predictions</th>\n",
       "      <th>actual</th>\n",
       "    </tr>\n",
       "  </thead>\n",
       "  <tbody>\n",
       "    <tr>\n",
       "      <th>2021-08-09</th>\n",
       "      <td>44584.402344</td>\n",
       "      <td>46365.402344</td>\n",
       "    </tr>\n",
       "    <tr>\n",
       "      <th>2021-08-10</th>\n",
       "      <td>44472.339844</td>\n",
       "      <td>45585.031250</td>\n",
       "    </tr>\n",
       "    <tr>\n",
       "      <th>2021-08-11</th>\n",
       "      <td>46610.445312</td>\n",
       "      <td>45593.636719</td>\n",
       "    </tr>\n",
       "    <tr>\n",
       "      <th>2021-08-12</th>\n",
       "      <td>45750.523438</td>\n",
       "      <td>44428.289062</td>\n",
       "    </tr>\n",
       "    <tr>\n",
       "      <th>2021-08-13</th>\n",
       "      <td>46188.000000</td>\n",
       "      <td>47793.320312</td>\n",
       "    </tr>\n",
       "    <tr>\n",
       "      <th>...</th>\n",
       "      <td>...</td>\n",
       "      <td>...</td>\n",
       "    </tr>\n",
       "    <tr>\n",
       "      <th>2022-06-26</th>\n",
       "      <td>21968.787109</td>\n",
       "      <td>21027.294922</td>\n",
       "    </tr>\n",
       "    <tr>\n",
       "      <th>2022-06-27</th>\n",
       "      <td>22290.015625</td>\n",
       "      <td>20735.478516</td>\n",
       "    </tr>\n",
       "    <tr>\n",
       "      <th>2022-06-28</th>\n",
       "      <td>21857.136719</td>\n",
       "      <td>20280.634766</td>\n",
       "    </tr>\n",
       "    <tr>\n",
       "      <th>2022-06-29</th>\n",
       "      <td>21774.943359</td>\n",
       "      <td>20104.023438</td>\n",
       "    </tr>\n",
       "    <tr>\n",
       "      <th>2022-06-30</th>\n",
       "      <td>21449.474609</td>\n",
       "      <td>19784.726562</td>\n",
       "    </tr>\n",
       "  </tbody>\n",
       "</table>\n",
       "<p>326 rows × 2 columns</p>\n",
       "</div>"
      ],
      "text/plain": [
       "             predictions        actual\n",
       "2021-08-09  44584.402344  46365.402344\n",
       "2021-08-10  44472.339844  45585.031250\n",
       "2021-08-11  46610.445312  45593.636719\n",
       "2021-08-12  45750.523438  44428.289062\n",
       "2021-08-13  46188.000000  47793.320312\n",
       "...                  ...           ...\n",
       "2022-06-26  21968.787109  21027.294922\n",
       "2022-06-27  22290.015625  20735.478516\n",
       "2022-06-28  21857.136719  20280.634766\n",
       "2022-06-29  21774.943359  20104.023438\n",
       "2022-06-30  21449.474609  19784.726562\n",
       "\n",
       "[326 rows x 2 columns]"
      ]
     },
     "execution_count": 20,
     "metadata": {},
     "output_type": "execute_result"
    }
   ],
   "source": [
    "# Creates df comparing predictions to actual values\n",
    "comparison_df = pd.DataFrame({'predictions':y_predicted.ravel(),'actual':df.iloc[771:]['close']})\n",
    "comparison_df\n",
    "#display(y_predicted)\n",
    "#display(df.iloc[760:]['close'])"
   ]
  },
  {
   "cell_type": "code",
   "execution_count": 21,
   "id": "7f8c4b76-378b-424c-af97-c7b60db7c4e5",
   "metadata": {},
   "outputs": [
    {
     "data": {
      "text/plain": [
       "[<matplotlib.lines.Line2D at 0x1558f3dd0>]"
      ]
     },
     "execution_count": 21,
     "metadata": {},
     "output_type": "execute_result"
    },
    {
     "data": {
      "image/png": "[encoded data removed]",
      "text/plain": [
       "<Figure size 432x288 with 1 Axes>"
      ]
     },
     "metadata": {
      "needs_background": "light"
     },
     "output_type": "display_data"
    }
   ],
   "source": [
    "# Plots the predicted test values\n",
    "plt.plot(y_predicted)"
   ]
  },
  {
   "cell_type": "code",
   "execution_count": 22,
   "id": "d0cb5b07-4c3e-4e34-bfb9-1785d69480b9",
   "metadata": {},
   "outputs": [
    {
     "data": {
      "text/plain": [
       "[<matplotlib.lines.Line2D at 0x155862390>]"
      ]
     },
     "execution_count": 22,
     "metadata": {},
     "output_type": "execute_result"
    },
    {
     "data": {
      "image/png": "[encoded data removed]",
      "text/plain": [
       "<Figure size 432x288 with 1 Axes>"
      ]
     },
     "metadata": {
      "needs_background": "light"
     },
     "output_type": "display_data"
    }
   ],
   "source": [
    "# Plots the true historic close values\n",
    "plt.plot(df.iloc[760:]['close'])"
   ]
  },
  {
   "cell_type": "code",
   "execution_count": null,
   "id": "1cd691d1-e6da-40e1-a7e5-d4dd1f92e3b9",
   "metadata": {},
   "outputs": [],
   "source": [
    "# Begins Future Projections Section"
   ]
  },
  {
   "cell_type": "code",
   "execution_count": 25,
   "id": "db9af18a-4e44-476f-bbfe-c30fc6e9338e",
   "metadata": {},
   "outputs": [],
   "source": [
    "# Creates neural network\n",
    "model_prediction_btc=Sequential()\n",
    "# Defines and adds LSTM layer\n",
    "first_lstm_layer=LSTM(units=30, return_sequences=True, input_shape=(window_size, 1))\n",
    "model_prediction_btc.add(first_lstm_layer)\n",
    "# Randomly drops 20% of defined nodes\n",
    "first_dropout_layer=Dropout(0.2)\n",
    "# Defines and adds LSTM layer\n",
    "model_prediction_btc.add(first_dropout_layer)\n",
    "second_lstm_layer=LSTM(units=30, return_sequences=True)\n",
    "model_prediction_btc.add(second_lstm_layer)\n",
    "# Randomly drops 20% of defined nodes\n",
    "second_dropout_layer=Dropout(0.2)\n",
    "# Defines and adds LSTM layer\n",
    "model_prediction_btc.add(second_dropout_layer)\n",
    "third_lstm_layer=LSTM(units=30)\n",
    "model_prediction_btc.add(third_lstm_layer)\n",
    "# Defines and adds output layer with linear activation\n",
    "output_layer=Dense(units=1, activation='linear')\n",
    "model_prediction_btc.add(output_layer)"
   ]
  },
  {
   "cell_type": "code",
   "execution_count": 26,
   "id": "d0d45528-969b-47f4-b227-be65a998d9a2",
   "metadata": {},
   "outputs": [],
   "source": [
    "# Compiles model\n",
    "model_prediction_btc.compile(loss='mean_squared_error', optimizer='adam', metrics='mean_squared_error')"
   ]
  },
  {
   "cell_type": "code",
   "execution_count": 27,
   "id": "d9876527-108a-4858-bb6c-4d0106ad1f11",
   "metadata": {},
   "outputs": [
    {
     "name": "stdout",
     "output_type": "stream",
     "text": [
      "Model: \"sequential_2\"\n",
      "_________________________________________________________________\n",
      " Layer (type)                Output Shape              Param #   \n",
      "=================================================================\n",
      " lstm_3 (LSTM)               (None, 10, 30)            3840      \n",
      "                                                                 \n",
      " dropout_2 (Dropout)         (None, 10, 30)            0         \n",
      "                                                                 \n",
      " lstm_4 (LSTM)               (None, 10, 30)            7320      \n",
      "                                                                 \n",
      " dropout_3 (Dropout)         (None, 10, 30)            0         \n",
      "                                                                 \n",
      " lstm_5 (LSTM)               (None, 30)                7320      \n",
      "                                                                 \n",
      " dense_1 (Dense)             (None, 1)                 31        \n",
      "                                                                 \n",
      "=================================================================\n",
      "Total params: 18,511\n",
      "Trainable params: 18,511\n",
      "Non-trainable params: 0\n",
      "_________________________________________________________________\n"
     ]
    }
   ],
   "source": [
    "# Provides summary of model\n",
    "model_prediction_btc.summary()"
   ]
  },
  {
   "cell_type": "code",
   "execution_count": 29,
   "id": "109354d8-eef5-4fbc-bd4b-2f5d9c220917",
   "metadata": {},
   "outputs": [
    {
     "data": {
      "text/plain": [
       "(1086, 10)"
      ]
     },
     "metadata": {},
     "output_type": "display_data"
    }
   ],
   "source": [
    "X_scaled=X_scaled.reshape(X_scaled.shape[0], X_scaled.shape[1], 1)\n",
    "display(X.shape)"
   ]
  },
  {
   "cell_type": "code",
   "execution_count": 30,
   "id": "2ab594ae-33a2-46e6-90cb-b8e9f8fbc718",
   "metadata": {},
   "outputs": [
    {
     "name": "stdout",
     "output_type": "stream",
     "text": [
      "Epoch 1/50\n",
      "34/34 [==============================] - 1s 33ms/step - loss: 0.0022 - mean_squared_error: 0.0022\n",
      "Epoch 2/50\n",
      "34/34 [==============================] - 1s 28ms/step - loss: 0.0019 - mean_squared_error: 0.0019\n",
      "Epoch 3/50\n",
      "34/34 [==============================] - 1s 29ms/step - loss: 0.0018 - mean_squared_error: 0.0018\n",
      "Epoch 4/50\n",
      "34/34 [==============================] - 1s 25ms/step - loss: 0.0019 - mean_squared_error: 0.0019\n",
      "Epoch 5/50\n",
      "34/34 [==============================] - 1s 25ms/step - loss: 0.0019 - mean_squared_error: 0.0019\n",
      "Epoch 6/50\n",
      "34/34 [==============================] - 1s 25ms/step - loss: 0.0020 - mean_squared_error: 0.0020\n",
      "Epoch 7/50\n",
      "34/34 [==============================] - 1s 26ms/step - loss: 0.0018 - mean_squared_error: 0.0018\n",
      "Epoch 8/50\n",
      "34/34 [==============================] - 1s 23ms/step - loss: 0.0017 - mean_squared_error: 0.0017\n",
      "Epoch 9/50\n",
      "34/34 [==============================] - 1s 24ms/step - loss: 0.0015 - mean_squared_error: 0.0015\n",
      "Epoch 10/50\n",
      "34/34 [==============================] - 1s 24ms/step - loss: 0.0016 - mean_squared_error: 0.0016\n",
      "Epoch 11/50\n",
      "34/34 [==============================] - 1s 26ms/step - loss: 0.0015 - mean_squared_error: 0.0015\n",
      "Epoch 12/50\n",
      "34/34 [==============================] - 1s 24ms/step - loss: 0.0016 - mean_squared_error: 0.0016\n",
      "Epoch 13/50\n",
      "34/34 [==============================] - 1s 24ms/step - loss: 0.0015 - mean_squared_error: 0.0015\n",
      "Epoch 14/50\n",
      "34/34 [==============================] - 1s 25ms/step - loss: 0.0016 - mean_squared_error: 0.0016\n",
      "Epoch 15/50\n",
      "34/34 [==============================] - 1s 23ms/step - loss: 0.0016 - mean_squared_error: 0.0016\n",
      "Epoch 16/50\n",
      "34/34 [==============================] - 1s 26ms/step - loss: 0.0016 - mean_squared_error: 0.0016\n",
      "Epoch 17/50\n",
      "34/34 [==============================] - 1s 29ms/step - loss: 0.0015 - mean_squared_error: 0.0015\n",
      "Epoch 18/50\n",
      "34/34 [==============================] - 1s 25ms/step - loss: 0.0015 - mean_squared_error: 0.0015\n",
      "Epoch 19/50\n",
      "34/34 [==============================] - 1s 25ms/step - loss: 0.0015 - mean_squared_error: 0.0015\n",
      "Epoch 20/50\n",
      "34/34 [==============================] - 1s 25ms/step - loss: 0.0013 - mean_squared_error: 0.0013\n",
      "Epoch 21/50\n",
      "34/34 [==============================] - 1s 25ms/step - loss: 0.0014 - mean_squared_error: 0.0014\n",
      "Epoch 22/50\n",
      "34/34 [==============================] - 1s 24ms/step - loss: 0.0013 - mean_squared_error: 0.0013\n",
      "Epoch 23/50\n",
      "34/34 [==============================] - 1s 27ms/step - loss: 0.0013 - mean_squared_error: 0.0013\n",
      "Epoch 24/50\n",
      "34/34 [==============================] - 1s 24ms/step - loss: 0.0015 - mean_squared_error: 0.0015\n",
      "Epoch 25/50\n",
      "34/34 [==============================] - 1s 24ms/step - loss: 0.0013 - mean_squared_error: 0.0013\n",
      "Epoch 26/50\n",
      "34/34 [==============================] - 1s 24ms/step - loss: 0.0014 - mean_squared_error: 0.0014\n",
      "Epoch 27/50\n",
      "34/34 [==============================] - 1s 25ms/step - loss: 0.0015 - mean_squared_error: 0.0015\n",
      "Epoch 28/50\n",
      "34/34 [==============================] - 1s 24ms/step - loss: 0.0019 - mean_squared_error: 0.0019\n",
      "Epoch 29/50\n",
      "34/34 [==============================] - 1s 27ms/step - loss: 0.0015 - mean_squared_error: 0.0015\n",
      "Epoch 30/50\n",
      "34/34 [==============================] - 1s 24ms/step - loss: 0.0014 - mean_squared_error: 0.0014\n",
      "Epoch 31/50\n",
      "34/34 [==============================] - 1s 23ms/step - loss: 0.0012 - mean_squared_error: 0.0012\n",
      "Epoch 32/50\n",
      "34/34 [==============================] - 1s 25ms/step - loss: 0.0014 - mean_squared_error: 0.0014\n",
      "Epoch 33/50\n",
      "34/34 [==============================] - 1s 24ms/step - loss: 0.0013 - mean_squared_error: 0.0013\n",
      "Epoch 34/50\n",
      "34/34 [==============================] - 1s 24ms/step - loss: 0.0013 - mean_squared_error: 0.0013\n",
      "Epoch 35/50\n",
      "34/34 [==============================] - 1s 24ms/step - loss: 0.0011 - mean_squared_error: 0.0011\n",
      "Epoch 36/50\n",
      "34/34 [==============================] - 1s 24ms/step - loss: 0.0013 - mean_squared_error: 0.0013\n",
      "Epoch 37/50\n",
      "34/34 [==============================] - 1s 23ms/step - loss: 0.0014 - mean_squared_error: 0.0014\n",
      "Epoch 38/50\n",
      "34/34 [==============================] - 1s 24ms/step - loss: 0.0014 - mean_squared_error: 0.0014\n",
      "Epoch 39/50\n",
      "34/34 [==============================] - 1s 27ms/step - loss: 0.0016 - mean_squared_error: 0.0016\n",
      "Epoch 40/50\n",
      "34/34 [==============================] - 1s 28ms/step - loss: 0.0011 - mean_squared_error: 0.0011\n",
      "Epoch 41/50\n",
      "34/34 [==============================] - 1s 23ms/step - loss: 0.0013 - mean_squared_error: 0.0013\n",
      "Epoch 42/50\n",
      "34/34 [==============================] - 1s 25ms/step - loss: 0.0013 - mean_squared_error: 0.0013\n",
      "Epoch 43/50\n",
      "34/34 [==============================] - 1s 25ms/step - loss: 0.0010 - mean_squared_error: 0.0010\n",
      "Epoch 44/50\n",
      "34/34 [==============================] - 1s 24ms/step - loss: 0.0011 - mean_squared_error: 0.0011\n",
      "Epoch 45/50\n",
      "34/34 [==============================] - 1s 24ms/step - loss: 0.0013 - mean_squared_error: 0.0013\n",
      "Epoch 46/50\n",
      "34/34 [==============================] - 1s 25ms/step - loss: 0.0013 - mean_squared_error: 0.0013\n",
      "Epoch 47/50\n",
      "34/34 [==============================] - 1s 29ms/step - loss: 0.0011 - mean_squared_error: 0.0011\n",
      "Epoch 48/50\n",
      "34/34 [==============================] - 1s 32ms/step - loss: 0.0011 - mean_squared_error: 0.0011\n",
      "Epoch 49/50\n",
      "34/34 [==============================] - 1s 34ms/step - loss: 0.0010 - mean_squared_error: 0.0010   \n",
      "Epoch 50/50\n",
      "34/34 [==============================] - 1s 37ms/step - loss: 0.0011 - mean_squared_error: 0.0011\n"
     ]
    },
    {
     "data": {
      "text/plain": [
       "<keras.callbacks.History at 0x154c48d50>"
      ]
     },
     "execution_count": 30,
     "metadata": {},
     "output_type": "execute_result"
    }
   ],
   "source": [
    "# Initially fits model using training data\n",
    "model_prediction_btc.fit(X_scaled, y_scaled, epochs=50)"
   ]
  },
  {
   "cell_type": "code",
   "execution_count": 31,
   "id": "d958103f-6a56-438d-ab53-0c2f23c77e0e",
   "metadata": {},
   "outputs": [
    {
     "data": {
      "text/plain": [
       "array([[0.28120072],\n",
       "       [0.24619548],\n",
       "       [0.24763059],\n",
       "       [0.22440484],\n",
       "       [0.24893721],\n",
       "       [0.24967632],\n",
       "       [0.25145056],\n",
       "       [0.23989123],\n",
       "       [0.25744582],\n",
       "       [0.25977471]])"
      ]
     },
     "execution_count": 31,
     "metadata": {},
     "output_type": "execute_result"
    }
   ],
   "source": [
    "X_scaled[-5]"
   ]
  },
  {
   "cell_type": "code",
   "execution_count": 32,
   "id": "116a34de-ca50-4d1d-a2a7-9c2b6d343a7b",
   "metadata": {},
   "outputs": [
    {
     "name": "stdout",
     "output_type": "stream",
     "text": [
      "1/1 [==============================] - 2s 2s/step\n"
     ]
    },
    {
     "data": {
      "text/plain": [
       "array([[20606.951]], dtype=float32)"
      ]
     },
     "metadata": {},
     "output_type": "display_data"
    },
    {
     "name": "stdout",
     "output_type": "stream",
     "text": [
      "Epoch 1/5\n",
      "34/34 [==============================] - 1s 27ms/step - loss: 0.0011 - mean_squared_error: 0.0011\n",
      "Epoch 2/5\n",
      "34/34 [==============================] - 1s 34ms/step - loss: 0.0011 - mean_squared_error: 0.0011\n",
      "Epoch 3/5\n",
      "34/34 [==============================] - 1s 36ms/step - loss: 0.0012 - mean_squared_error: 0.0012\n",
      "Epoch 4/5\n",
      "34/34 [==============================] - 1s 29ms/step - loss: 0.0010 - mean_squared_error: 0.0010\n",
      "Epoch 5/5\n",
      "34/34 [==============================] - 1s 29ms/step - loss: 0.0011 - mean_squared_error: 0.0011\n",
      "1/1 [==============================] - 0s 31ms/step\n"
     ]
    },
    {
     "data": {
      "text/plain": [
       "array([[21630.023]], dtype=float32)"
      ]
     },
     "metadata": {},
     "output_type": "display_data"
    },
    {
     "name": "stdout",
     "output_type": "stream",
     "text": [
      "Epoch 1/5\n",
      "34/34 [==============================] - 1s 29ms/step - loss: 0.0011 - mean_squared_error: 0.0011\n",
      "Epoch 2/5\n",
      "34/34 [==============================] - 1s 29ms/step - loss: 0.0010 - mean_squared_error: 0.0010\n",
      "Epoch 3/5\n",
      "34/34 [==============================] - 1s 29ms/step - loss: 9.8176e-04 - mean_squared_error: 9.8176e-04\n",
      "Epoch 4/5\n",
      "34/34 [==============================] - 1s 34ms/step - loss: 0.0010 - mean_squared_error: 0.0010\n",
      "Epoch 5/5\n",
      "34/34 [==============================] - 1s 36ms/step - loss: 9.9568e-04 - mean_squared_error: 9.9568e-04\n",
      "1/1 [==============================] - 0s 54ms/step\n"
     ]
    },
    {
     "data": {
      "text/plain": [
       "array([[20648.508]], dtype=float32)"
      ]
     },
     "metadata": {},
     "output_type": "display_data"
    },
    {
     "name": "stdout",
     "output_type": "stream",
     "text": [
      "Epoch 1/5\n",
      "35/35 [==============================] - 1s 36ms/step - loss: 9.6060e-04 - mean_squared_error: 9.6060e-04\n",
      "Epoch 2/5\n",
      "35/35 [==============================] - 1s 27ms/step - loss: 0.0010 - mean_squared_error: 0.0010\n",
      "Epoch 3/5\n",
      "35/35 [==============================] - 1s 42ms/step - loss: 9.6282e-04 - mean_squared_error: 9.6282e-04\n",
      "Epoch 4/5\n",
      "35/35 [==============================] - 1s 33ms/step - loss: 0.0010 - mean_squared_error: 0.0010\n",
      "Epoch 5/5\n",
      "35/35 [==============================] - 1s 33ms/step - loss: 9.4744e-04 - mean_squared_error: 9.4744e-04\n",
      "1/1 [==============================] - 0s 29ms/step\n"
     ]
    },
    {
     "data": {
      "text/plain": [
       "array([[20867.297]], dtype=float32)"
      ]
     },
     "metadata": {},
     "output_type": "display_data"
    },
    {
     "name": "stdout",
     "output_type": "stream",
     "text": [
      "Epoch 1/5\n",
      "35/35 [==============================] - 1s 34ms/step - loss: 0.0010 - mean_squared_error: 0.0010\n",
      "Epoch 2/5\n",
      "35/35 [==============================] - 1s 26ms/step - loss: 9.7212e-04 - mean_squared_error: 9.7212e-04\n",
      "Epoch 3/5\n",
      "35/35 [==============================] - 1s 29ms/step - loss: 9.8734e-04 - mean_squared_error: 9.8734e-04\n",
      "Epoch 4/5\n",
      "35/35 [==============================] - 1s 29ms/step - loss: 0.0011 - mean_squared_error: 0.0011\n",
      "Epoch 5/5\n",
      "35/35 [==============================] - 1s 29ms/step - loss: 0.0014 - mean_squared_error: 0.0014\n",
      "1/1 [==============================] - 0s 30ms/step\n"
     ]
    },
    {
     "data": {
      "text/plain": [
       "array([[20636.848]], dtype=float32)"
      ]
     },
     "metadata": {},
     "output_type": "display_data"
    },
    {
     "name": "stdout",
     "output_type": "stream",
     "text": [
      "Epoch 1/5\n",
      "35/35 [==============================] - 1s 26ms/step - loss: 0.0016 - mean_squared_error: 0.0016\n",
      "Epoch 2/5\n",
      "35/35 [==============================] - 1s 28ms/step - loss: 8.8892e-04 - mean_squared_error: 8.8892e-04\n",
      "Epoch 3/5\n",
      "35/35 [==============================] - 1s 29ms/step - loss: 8.7761e-04 - mean_squared_error: 8.7761e-04\n",
      "Epoch 4/5\n",
      "35/35 [==============================] - 1s 30ms/step - loss: 0.0011 - mean_squared_error: 0.0011\n",
      "Epoch 5/5\n",
      "35/35 [==============================] - 1s 28ms/step - loss: 9.2534e-04 - mean_squared_error: 9.2534e-04\n",
      "1/1 [==============================] - 0s 30ms/step\n"
     ]
    },
    {
     "data": {
      "text/plain": [
       "array([[21408.277]], dtype=float32)"
      ]
     },
     "metadata": {},
     "output_type": "display_data"
    },
    {
     "name": "stdout",
     "output_type": "stream",
     "text": [
      "Epoch 1/5\n",
      "35/35 [==============================] - 1s 32ms/step - loss: 8.3544e-04 - mean_squared_error: 8.3544e-04\n",
      "Epoch 2/5\n",
      "35/35 [==============================] - 1s 27ms/step - loss: 9.3962e-04 - mean_squared_error: 9.3962e-04\n",
      "Epoch 3/5\n",
      "35/35 [==============================] - 1s 31ms/step - loss: 9.0997e-04 - mean_squared_error: 9.0997e-04\n",
      "Epoch 4/5\n",
      "35/35 [==============================] - 1s 29ms/step - loss: 9.0318e-04 - mean_squared_error: 9.0318e-04\n",
      "Epoch 5/5\n",
      "35/35 [==============================] - 1s 27ms/step - loss: 9.4456e-04 - mean_squared_error: 9.4456e-04\n",
      "1/1 [==============================] - 0s 27ms/step\n"
     ]
    },
    {
     "data": {
      "text/plain": [
       "array([[21192.56]], dtype=float32)"
      ]
     },
     "metadata": {},
     "output_type": "display_data"
    },
    {
     "name": "stdout",
     "output_type": "stream",
     "text": [
      "Epoch 1/5\n",
      "35/35 [==============================] - 1s 30ms/step - loss: 9.3293e-04 - mean_squared_error: 9.3293e-04\n",
      "Epoch 2/5\n",
      "35/35 [==============================] - 1s 30ms/step - loss: 8.6285e-04 - mean_squared_error: 8.6285e-04\n",
      "Epoch 3/5\n",
      "35/35 [==============================] - 1s 23ms/step - loss: 8.7499e-04 - mean_squared_error: 8.7499e-04\n",
      "Epoch 4/5\n",
      "35/35 [==============================] - 1s 24ms/step - loss: 8.1646e-04 - mean_squared_error: 8.1646e-04\n",
      "Epoch 5/5\n",
      "35/35 [==============================] - 1s 26ms/step - loss: 8.2051e-04 - mean_squared_error: 8.2051e-04\n",
      "1/1 [==============================] - 0s 38ms/step\n"
     ]
    },
    {
     "data": {
      "text/plain": [
       "array([[21315.62]], dtype=float32)"
      ]
     },
     "metadata": {},
     "output_type": "display_data"
    },
    {
     "name": "stdout",
     "output_type": "stream",
     "text": [
      "Epoch 1/5\n",
      "35/35 [==============================] - 1s 29ms/step - loss: 9.1420e-04 - mean_squared_error: 9.1420e-04\n",
      "Epoch 2/5\n",
      "35/35 [==============================] - 1s 35ms/step - loss: 8.5814e-04 - mean_squared_error: 8.5814e-04\n",
      "Epoch 3/5\n",
      "35/35 [==============================] - 1s 35ms/step - loss: 8.2915e-04 - mean_squared_error: 8.2915e-04\n",
      "Epoch 4/5\n",
      "35/35 [==============================] - 1s 32ms/step - loss: 7.5937e-04 - mean_squared_error: 7.5937e-04\n",
      "Epoch 5/5\n",
      "35/35 [==============================] - 1s 24ms/step - loss: 8.7643e-04 - mean_squared_error: 8.7643e-04\n",
      "1/1 [==============================] - 0s 29ms/step\n"
     ]
    },
    {
     "data": {
      "text/plain": [
       "array([[21092.457]], dtype=float32)"
      ]
     },
     "metadata": {},
     "output_type": "display_data"
    },
    {
     "name": "stdout",
     "output_type": "stream",
     "text": [
      "Epoch 1/5\n",
      "35/35 [==============================] - 1s 28ms/step - loss: 8.3988e-04 - mean_squared_error: 8.3988e-04\n",
      "Epoch 2/5\n",
      "35/35 [==============================] - 1s 30ms/step - loss: 7.7649e-04 - mean_squared_error: 7.7649e-04\n",
      "Epoch 3/5\n",
      "35/35 [==============================] - 1s 32ms/step - loss: 8.2435e-04 - mean_squared_error: 8.2435e-04\n",
      "Epoch 4/5\n",
      "35/35 [==============================] - 1s 30ms/step - loss: 8.6104e-04 - mean_squared_error: 8.6104e-04\n",
      "Epoch 5/5\n",
      "35/35 [==============================] - 1s 31ms/step - loss: 9.1607e-04 - mean_squared_error: 9.1607e-04\n",
      "1/1 [==============================] - 0s 39ms/step\n"
     ]
    },
    {
     "data": {
      "text/plain": [
       "array([[21392.586]], dtype=float32)"
      ]
     },
     "metadata": {},
     "output_type": "display_data"
    },
    {
     "name": "stdout",
     "output_type": "stream",
     "text": [
      "Epoch 1/5\n",
      "35/35 [==============================] - 1s 29ms/step - loss: 8.7401e-04 - mean_squared_error: 8.7401e-04\n",
      "Epoch 2/5\n",
      "35/35 [==============================] - 1s 40ms/step - loss: 8.2587e-04 - mean_squared_error: 8.2587e-04\n",
      "Epoch 3/5\n",
      "35/35 [==============================] - 1s 33ms/step - loss: 8.4747e-04 - mean_squared_error: 8.4747e-04\n",
      "Epoch 4/5\n",
      "35/35 [==============================] - 1s 28ms/step - loss: 8.0464e-04 - mean_squared_error: 8.0464e-04\n",
      "Epoch 5/5\n",
      "35/35 [==============================] - 1s 30ms/step - loss: 7.8403e-04 - mean_squared_error: 7.8403e-04\n",
      "1/1 [==============================] - 0s 38ms/step\n"
     ]
    },
    {
     "data": {
      "text/plain": [
       "array([[21088.31]], dtype=float32)"
      ]
     },
     "metadata": {},
     "output_type": "display_data"
    },
    {
     "name": "stdout",
     "output_type": "stream",
     "text": [
      "Epoch 1/5\n",
      "35/35 [==============================] - 1s 30ms/step - loss: 8.1885e-04 - mean_squared_error: 8.1885e-04\n",
      "Epoch 2/5\n",
      "35/35 [==============================] - 1s 29ms/step - loss: 9.3764e-04 - mean_squared_error: 9.3764e-04\n",
      "Epoch 3/5\n",
      "35/35 [==============================] - 1s 29ms/step - loss: 7.7661e-04 - mean_squared_error: 7.7661e-04\n",
      "Epoch 4/5\n",
      "35/35 [==============================] - 1s 29ms/step - loss: 8.5101e-04 - mean_squared_error: 8.5101e-04\n",
      "Epoch 5/5\n",
      "35/35 [==============================] - 1s 26ms/step - loss: 8.6221e-04 - mean_squared_error: 8.6221e-04\n",
      "1/1 [==============================] - 0s 33ms/step\n"
     ]
    },
    {
     "data": {
      "text/plain": [
       "array([[21549.697]], dtype=float32)"
      ]
     },
     "metadata": {},
     "output_type": "display_data"
    },
    {
     "name": "stdout",
     "output_type": "stream",
     "text": [
      "Epoch 1/5\n",
      "35/35 [==============================] - 1s 28ms/step - loss: 7.7551e-04 - mean_squared_error: 7.7551e-04\n",
      "Epoch 2/5\n",
      "35/35 [==============================] - 1s 29ms/step - loss: 8.4907e-04 - mean_squared_error: 8.4907e-04\n",
      "Epoch 3/5\n",
      "35/35 [==============================] - 1s 26ms/step - loss: 7.9633e-04 - mean_squared_error: 7.9633e-04\n",
      "Epoch 4/5\n",
      "35/35 [==============================] - 1s 30ms/step - loss: 7.3831e-04 - mean_squared_error: 7.3831e-04\n",
      "Epoch 5/5\n",
      "35/35 [==============================] - 1s 32ms/step - loss: 7.6321e-04 - mean_squared_error: 7.6321e-04\n",
      "1/1 [==============================] - 0s 29ms/step\n"
     ]
    },
    {
     "data": {
      "text/plain": [
       "array([[21762.695]], dtype=float32)"
      ]
     },
     "metadata": {},
     "output_type": "display_data"
    },
    {
     "name": "stdout",
     "output_type": "stream",
     "text": [
      "Epoch 1/5\n",
      "35/35 [==============================] - 1s 27ms/step - loss: 7.7537e-04 - mean_squared_error: 7.7537e-04\n",
      "Epoch 2/5\n",
      "35/35 [==============================] - 1s 26ms/step - loss: 7.6257e-04 - mean_squared_error: 7.6257e-04\n",
      "Epoch 3/5\n",
      "35/35 [==============================] - 1s 28ms/step - loss: 9.4906e-04 - mean_squared_error: 9.4906e-04\n",
      "Epoch 4/5\n",
      "35/35 [==============================] - 1s 27ms/step - loss: 7.3330e-04 - mean_squared_error: 7.3330e-04\n",
      "Epoch 5/5\n",
      "35/35 [==============================] - 1s 31ms/step - loss: 7.5096e-04 - mean_squared_error: 7.5096e-04\n",
      "1/1 [==============================] - 0s 49ms/step\n"
     ]
    },
    {
     "data": {
      "text/plain": [
       "array([[21804.744]], dtype=float32)"
      ]
     },
     "metadata": {},
     "output_type": "display_data"
    },
    {
     "name": "stdout",
     "output_type": "stream",
     "text": [
      "Epoch 1/5\n",
      "35/35 [==============================] - 1s 24ms/step - loss: 7.8132e-04 - mean_squared_error: 7.8132e-04\n",
      "Epoch 2/5\n",
      "35/35 [==============================] - 1s 29ms/step - loss: 7.7335e-04 - mean_squared_error: 7.7335e-04\n",
      "Epoch 3/5\n",
      "35/35 [==============================] - 1s 32ms/step - loss: 8.6082e-04 - mean_squared_error: 8.6082e-04\n",
      "Epoch 4/5\n",
      "35/35 [==============================] - 1s 30ms/step - loss: 7.5891e-04 - mean_squared_error: 7.5891e-04\n",
      "Epoch 5/5\n",
      "35/35 [==============================] - 1s 29ms/step - loss: 8.1124e-04 - mean_squared_error: 8.1124e-04\n",
      "1/1 [==============================] - 0s 37ms/step\n"
     ]
    },
    {
     "data": {
      "text/plain": [
       "array([[21641.33]], dtype=float32)"
      ]
     },
     "metadata": {},
     "output_type": "display_data"
    },
    {
     "name": "stdout",
     "output_type": "stream",
     "text": [
      "Epoch 1/5\n",
      "35/35 [==============================] - 1s 33ms/step - loss: 7.6066e-04 - mean_squared_error: 7.6066e-04\n",
      "Epoch 2/5\n",
      "35/35 [==============================] - 1s 38ms/step - loss: 7.5267e-04 - mean_squared_error: 7.5267e-04\n",
      "Epoch 3/5\n",
      "35/35 [==============================] - 1s 35ms/step - loss: 6.8012e-04 - mean_squared_error: 6.8012e-04\n",
      "Epoch 4/5\n",
      "35/35 [==============================] - 1s 40ms/step - loss: 8.8546e-04 - mean_squared_error: 8.8546e-04\n",
      "Epoch 5/5\n",
      "35/35 [==============================] - 1s 31ms/step - loss: 7.7097e-04 - mean_squared_error: 7.7097e-04\n",
      "1/1 [==============================] - 0s 40ms/step\n"
     ]
    },
    {
     "data": {
      "text/plain": [
       "array([[22175.69]], dtype=float32)"
      ]
     },
     "metadata": {},
     "output_type": "display_data"
    },
    {
     "name": "stdout",
     "output_type": "stream",
     "text": [
      "Epoch 1/5\n",
      "35/35 [==============================] - 1s 34ms/step - loss: 7.6644e-04 - mean_squared_error: 7.6644e-04\n",
      "Epoch 2/5\n",
      "35/35 [==============================] - 1s 33ms/step - loss: 6.9288e-04 - mean_squared_error: 6.9288e-04\n",
      "Epoch 3/5\n",
      "35/35 [==============================] - 1s 26ms/step - loss: 8.4010e-04 - mean_squared_error: 8.4010e-04\n",
      "Epoch 4/5\n",
      "35/35 [==============================] - 1s 27ms/step - loss: 7.8574e-04 - mean_squared_error: 7.8574e-04\n",
      "Epoch 5/5\n",
      "35/35 [==============================] - 1s 30ms/step - loss: 8.0977e-04 - mean_squared_error: 8.0977e-04\n",
      "1/1 [==============================] - 0s 33ms/step\n"
     ]
    },
    {
     "data": {
      "text/plain": [
       "array([[21082.775]], dtype=float32)"
      ]
     },
     "metadata": {},
     "output_type": "display_data"
    },
    {
     "name": "stdout",
     "output_type": "stream",
     "text": [
      "Epoch 1/5\n",
      "35/35 [==============================] - 1s 34ms/step - loss: 8.1376e-04 - mean_squared_error: 8.1376e-04\n",
      "Epoch 2/5\n",
      "35/35 [==============================] - 1s 24ms/step - loss: 7.1366e-04 - mean_squared_error: 7.1366e-04\n",
      "Epoch 3/5\n",
      "35/35 [==============================] - 1s 25ms/step - loss: 7.9491e-04 - mean_squared_error: 7.9491e-04\n",
      "Epoch 4/5\n",
      "35/35 [==============================] - 1s 31ms/step - loss: 7.6479e-04 - mean_squared_error: 7.6479e-04\n",
      "Epoch 5/5\n",
      "35/35 [==============================] - 1s 26ms/step - loss: 6.8108e-04 - mean_squared_error: 6.8108e-04\n",
      "1/1 [==============================] - 0s 29ms/step\n"
     ]
    },
    {
     "data": {
      "text/plain": [
       "array([[22031.068]], dtype=float32)"
      ]
     },
     "metadata": {},
     "output_type": "display_data"
    },
    {
     "name": "stdout",
     "output_type": "stream",
     "text": [
      "Epoch 1/5\n",
      "35/35 [==============================] - 1s 32ms/step - loss: 7.1058e-04 - mean_squared_error: 7.1058e-04\n",
      "Epoch 2/5\n",
      "35/35 [==============================] - 1s 30ms/step - loss: 7.1949e-04 - mean_squared_error: 7.1949e-04\n",
      "Epoch 3/5\n",
      "35/35 [==============================] - 1s 28ms/step - loss: 7.3684e-04 - mean_squared_error: 7.3684e-04\n",
      "Epoch 4/5\n",
      "35/35 [==============================] - 1s 34ms/step - loss: 7.2229e-04 - mean_squared_error: 7.2229e-04\n",
      "Epoch 5/5\n",
      "35/35 [==============================] - 1s 29ms/step - loss: 6.8705e-04 - mean_squared_error: 6.8705e-04\n",
      "1/1 [==============================] - 0s 44ms/step\n"
     ]
    },
    {
     "data": {
      "text/plain": [
       "array([[21961.994]], dtype=float32)"
      ]
     },
     "metadata": {},
     "output_type": "display_data"
    },
    {
     "name": "stdout",
     "output_type": "stream",
     "text": [
      "Epoch 1/5\n",
      "35/35 [==============================] - 1s 27ms/step - loss: 6.6265e-04 - mean_squared_error: 6.6265e-04\n",
      "Epoch 2/5\n",
      "35/35 [==============================] - 1s 32ms/step - loss: 6.7332e-04 - mean_squared_error: 6.7332e-04\n",
      "Epoch 3/5\n",
      "35/35 [==============================] - 1s 29ms/step - loss: 7.3793e-04 - mean_squared_error: 7.3793e-04\n",
      "Epoch 4/5\n",
      "35/35 [==============================] - 1s 34ms/step - loss: 6.7978e-04 - mean_squared_error: 6.7978e-04\n",
      "Epoch 5/5\n",
      "35/35 [==============================] - 1s 34ms/step - loss: 6.7683e-04 - mean_squared_error: 6.7683e-04\n",
      "1/1 [==============================] - 0s 45ms/step\n"
     ]
    },
    {
     "data": {
      "text/plain": [
       "array([[23017.447]], dtype=float32)"
      ]
     },
     "metadata": {},
     "output_type": "display_data"
    },
    {
     "name": "stdout",
     "output_type": "stream",
     "text": [
      "Epoch 1/5\n",
      "35/35 [==============================] - 1s 30ms/step - loss: 7.6991e-04 - mean_squared_error: 7.6991e-04\n",
      "Epoch 2/5\n",
      "35/35 [==============================] - 1s 25ms/step - loss: 7.2688e-04 - mean_squared_error: 7.2688e-04\n",
      "Epoch 3/5\n",
      "35/35 [==============================] - 1s 26ms/step - loss: 7.4558e-04 - mean_squared_error: 7.4558e-04\n",
      "Epoch 4/5\n",
      "35/35 [==============================] - 1s 27ms/step - loss: 7.4375e-04 - mean_squared_error: 7.4375e-04\n",
      "Epoch 5/5\n",
      "35/35 [==============================] - 1s 23ms/step - loss: 6.3867e-04 - mean_squared_error: 6.3867e-04\n",
      "1/1 [==============================] - 0s 28ms/step\n"
     ]
    },
    {
     "data": {
      "text/plain": [
       "array([[21876.154]], dtype=float32)"
      ]
     },
     "metadata": {},
     "output_type": "display_data"
    },
    {
     "name": "stdout",
     "output_type": "stream",
     "text": [
      "Epoch 1/5\n",
      "35/35 [==============================] - 1s 26ms/step - loss: 6.6626e-04 - mean_squared_error: 6.6626e-04\n",
      "Epoch 2/5\n",
      "35/35 [==============================] - 1s 27ms/step - loss: 6.8551e-04 - mean_squared_error: 6.8551e-04\n",
      "Epoch 3/5\n",
      "35/35 [==============================] - 1s 33ms/step - loss: 7.1761e-04 - mean_squared_error: 7.1761e-04\n",
      "Epoch 4/5\n",
      "35/35 [==============================] - 1s 26ms/step - loss: 6.8310e-04 - mean_squared_error: 6.8310e-04\n",
      "Epoch 5/5\n",
      "35/35 [==============================] - 2s 45ms/step - loss: 6.4078e-04 - mean_squared_error: 6.4078e-04\n",
      "1/1 [==============================] - 0s 33ms/step\n"
     ]
    },
    {
     "data": {
      "text/plain": [
       "array([[22754.875]], dtype=float32)"
      ]
     },
     "metadata": {},
     "output_type": "display_data"
    },
    {
     "name": "stdout",
     "output_type": "stream",
     "text": [
      "Epoch 1/5\n",
      "35/35 [==============================] - 1s 31ms/step - loss: 7.4247e-04 - mean_squared_error: 7.4247e-04\n",
      "Epoch 2/5\n",
      "35/35 [==============================] - 1s 32ms/step - loss: 7.7565e-04 - mean_squared_error: 7.7565e-04\n",
      "Epoch 3/5\n",
      "35/35 [==============================] - 1s 38ms/step - loss: 6.8176e-04 - mean_squared_error: 6.8176e-04\n",
      "Epoch 4/5\n",
      "35/35 [==============================] - 1s 34ms/step - loss: 6.3782e-04 - mean_squared_error: 6.3782e-04\n",
      "Epoch 5/5\n",
      "35/35 [==============================] - 1s 37ms/step - loss: 7.0964e-04 - mean_squared_error: 7.0964e-04\n",
      "1/1 [==============================] - 0s 29ms/step\n"
     ]
    },
    {
     "data": {
      "text/plain": [
       "array([[22262.885]], dtype=float32)"
      ]
     },
     "metadata": {},
     "output_type": "display_data"
    },
    {
     "name": "stdout",
     "output_type": "stream",
     "text": [
      "Epoch 1/5\n",
      "35/35 [==============================] - 1s 29ms/step - loss: 7.5439e-04 - mean_squared_error: 7.5439e-04\n",
      "Epoch 2/5\n",
      "35/35 [==============================] - 1s 37ms/step - loss: 6.7213e-04 - mean_squared_error: 6.7213e-04\n",
      "Epoch 3/5\n",
      "35/35 [==============================] - 1s 30ms/step - loss: 6.2646e-04 - mean_squared_error: 6.2646e-04\n",
      "Epoch 4/5\n",
      "35/35 [==============================] - 1s 33ms/step - loss: 6.8286e-04 - mean_squared_error: 6.8286e-04\n",
      "Epoch 5/5\n",
      "35/35 [==============================] - 1s 30ms/step - loss: 6.7322e-04 - mean_squared_error: 6.7322e-04\n",
      "1/1 [==============================] - 0s 30ms/step\n"
     ]
    },
    {
     "data": {
      "text/plain": [
       "array([[21580.041]], dtype=float32)"
      ]
     },
     "metadata": {},
     "output_type": "display_data"
    },
    {
     "name": "stdout",
     "output_type": "stream",
     "text": [
      "Epoch 1/5\n",
      "35/35 [==============================] - 1s 34ms/step - loss: 7.7384e-04 - mean_squared_error: 7.7384e-04\n",
      "Epoch 2/5\n",
      "35/35 [==============================] - 1s 32ms/step - loss: 6.9845e-04 - mean_squared_error: 6.9845e-04\n",
      "Epoch 3/5\n",
      "35/35 [==============================] - 1s 34ms/step - loss: 6.7646e-04 - mean_squared_error: 6.7646e-04\n",
      "Epoch 4/5\n",
      "35/35 [==============================] - 1s 33ms/step - loss: 6.9982e-04 - mean_squared_error: 6.9982e-04\n",
      "Epoch 5/5\n",
      "35/35 [==============================] - 1s 35ms/step - loss: 6.9094e-04 - mean_squared_error: 6.9094e-04\n",
      "1/1 [==============================] - 0s 50ms/step\n"
     ]
    },
    {
     "data": {
      "text/plain": [
       "array([[22115.719]], dtype=float32)"
      ]
     },
     "metadata": {},
     "output_type": "display_data"
    },
    {
     "name": "stdout",
     "output_type": "stream",
     "text": [
      "Epoch 1/5\n",
      "35/35 [==============================] - 1s 36ms/step - loss: 7.0874e-04 - mean_squared_error: 7.0874e-04\n",
      "Epoch 2/5\n",
      "35/35 [==============================] - 1s 30ms/step - loss: 6.6280e-04 - mean_squared_error: 6.6280e-04\n",
      "Epoch 3/5\n",
      "35/35 [==============================] - 1s 31ms/step - loss: 5.9538e-04 - mean_squared_error: 5.9538e-04\n",
      "Epoch 4/5\n",
      "35/35 [==============================] - 1s 34ms/step - loss: 6.2816e-04 - mean_squared_error: 6.2816e-04\n",
      "Epoch 5/5\n",
      "35/35 [==============================] - 1s 38ms/step - loss: 6.6133e-04 - mean_squared_error: 6.6133e-04\n",
      "1/1 [==============================] - 0s 38ms/step\n"
     ]
    },
    {
     "data": {
      "text/plain": [
       "array([[22034.871]], dtype=float32)"
      ]
     },
     "metadata": {},
     "output_type": "display_data"
    },
    {
     "name": "stdout",
     "output_type": "stream",
     "text": [
      "Epoch 1/5\n",
      "35/35 [==============================] - 1s 24ms/step - loss: 5.8883e-04 - mean_squared_error: 5.8883e-04\n",
      "Epoch 2/5\n",
      "35/35 [==============================] - 1s 25ms/step - loss: 6.6409e-04 - mean_squared_error: 6.6409e-04\n",
      "Epoch 3/5\n",
      "35/35 [==============================] - 1s 25ms/step - loss: 6.3728e-04 - mean_squared_error: 6.3728e-04\n",
      "Epoch 4/5\n",
      "35/35 [==============================] - 1s 26ms/step - loss: 6.2881e-04 - mean_squared_error: 6.2881e-04\n",
      "Epoch 5/5\n",
      "35/35 [==============================] - 1s 24ms/step - loss: 6.6634e-04 - mean_squared_error: 6.6634e-04\n",
      "1/1 [==============================] - 0s 69ms/step\n"
     ]
    },
    {
     "data": {
      "text/plain": [
       "array([[22105.662]], dtype=float32)"
      ]
     },
     "metadata": {},
     "output_type": "display_data"
    },
    {
     "name": "stdout",
     "output_type": "stream",
     "text": [
      "Epoch 1/5\n",
      "35/35 [==============================] - 1s 33ms/step - loss: 6.9191e-04 - mean_squared_error: 6.9191e-04\n",
      "Epoch 2/5\n",
      "35/35 [==============================] - 1s 33ms/step - loss: 6.2238e-04 - mean_squared_error: 6.2238e-04\n",
      "Epoch 3/5\n",
      "35/35 [==============================] - 1s 29ms/step - loss: 6.0334e-04 - mean_squared_error: 6.0334e-04\n",
      "Epoch 4/5\n",
      "35/35 [==============================] - 1s 25ms/step - loss: 6.6180e-04 - mean_squared_error: 6.6180e-04\n",
      "Epoch 5/5\n",
      "35/35 [==============================] - 1s 22ms/step - loss: 6.4557e-04 - mean_squared_error: 6.4557e-04\n",
      "1/1 [==============================] - 0s 29ms/step\n"
     ]
    },
    {
     "data": {
      "text/plain": [
       "array([[21500.062]], dtype=float32)"
      ]
     },
     "metadata": {},
     "output_type": "display_data"
    },
    {
     "name": "stdout",
     "output_type": "stream",
     "text": [
      "Epoch 1/5\n",
      "35/35 [==============================] - 1s 30ms/step - loss: 6.0131e-04 - mean_squared_error: 6.0131e-04\n",
      "Epoch 2/5\n",
      "35/35 [==============================] - 1s 31ms/step - loss: 6.0503e-04 - mean_squared_error: 6.0503e-04\n",
      "Epoch 3/5\n",
      "35/35 [==============================] - 1s 32ms/step - loss: 6.1000e-04 - mean_squared_error: 6.1000e-04\n",
      "Epoch 4/5\n",
      "35/35 [==============================] - 1s 24ms/step - loss: 6.4999e-04 - mean_squared_error: 6.4999e-04\n",
      "Epoch 5/5\n",
      "35/35 [==============================] - 1s 31ms/step - loss: 6.5382e-04 - mean_squared_error: 6.5382e-04\n",
      "1/1 [==============================] - 0s 29ms/step\n"
     ]
    },
    {
     "data": {
      "text/plain": [
       "array([[22032.326]], dtype=float32)"
      ]
     },
     "metadata": {},
     "output_type": "display_data"
    },
    {
     "name": "stdout",
     "output_type": "stream",
     "text": [
      "Epoch 1/5\n",
      "35/35 [==============================] - 1s 24ms/step - loss: 6.1613e-04 - mean_squared_error: 6.1613e-04\n",
      "Epoch 2/5\n",
      "35/35 [==============================] - 1s 30ms/step - loss: 5.7102e-04 - mean_squared_error: 5.7102e-04\n",
      "Epoch 3/5\n",
      "35/35 [==============================] - 1s 28ms/step - loss: 6.3959e-04 - mean_squared_error: 6.3959e-04\n",
      "Epoch 4/5\n",
      "35/35 [==============================] - 1s 27ms/step - loss: 5.7199e-04 - mean_squared_error: 5.7199e-04\n",
      "Epoch 5/5\n",
      "35/35 [==============================] - 1s 25ms/step - loss: 5.9985e-04 - mean_squared_error: 5.9985e-04\n",
      "1/1 [==============================] - 0s 41ms/step\n"
     ]
    },
    {
     "data": {
      "text/plain": [
       "array([[22053.08]], dtype=float32)"
      ]
     },
     "metadata": {},
     "output_type": "display_data"
    },
    {
     "name": "stdout",
     "output_type": "stream",
     "text": [
      "Epoch 1/5\n",
      "35/35 [==============================] - 1s 41ms/step - loss: 6.7166e-04 - mean_squared_error: 6.7166e-04\n",
      "Epoch 2/5\n",
      "35/35 [==============================] - 1s 35ms/step - loss: 6.8551e-04 - mean_squared_error: 6.8551e-04\n",
      "Epoch 3/5\n",
      "35/35 [==============================] - 1s 41ms/step - loss: 6.4268e-04 - mean_squared_error: 6.4268e-04\n",
      "Epoch 4/5\n",
      "35/35 [==============================] - 1s 30ms/step - loss: 6.3632e-04 - mean_squared_error: 6.3632e-04\n",
      "Epoch 5/5\n",
      "35/35 [==============================] - 1s 36ms/step - loss: 5.9465e-04 - mean_squared_error: 5.9465e-04\n",
      "1/1 [==============================] - 0s 32ms/step\n"
     ]
    },
    {
     "data": {
      "text/plain": [
       "array([[22348.193]], dtype=float32)"
      ]
     },
     "metadata": {},
     "output_type": "display_data"
    },
    {
     "name": "stdout",
     "output_type": "stream",
     "text": [
      "Epoch 1/5\n",
      "35/35 [==============================] - 1s 26ms/step - loss: 6.4683e-04 - mean_squared_error: 6.4683e-04\n",
      "Epoch 2/5\n",
      "35/35 [==============================] - 1s 23ms/step - loss: 5.6544e-04 - mean_squared_error: 5.6544e-04\n",
      "Epoch 3/5\n",
      "35/35 [==============================] - 1s 27ms/step - loss: 6.4338e-04 - mean_squared_error: 6.4338e-04\n",
      "Epoch 4/5\n",
      "35/35 [==============================] - 1s 23ms/step - loss: 7.3614e-04 - mean_squared_error: 7.3614e-04\n",
      "Epoch 5/5\n",
      "35/35 [==============================] - 1s 23ms/step - loss: 6.2062e-04 - mean_squared_error: 6.2062e-04\n",
      "1/1 [==============================] - 0s 26ms/step\n"
     ]
    },
    {
     "data": {
      "text/plain": [
       "array([[22528.607]], dtype=float32)"
      ]
     },
     "metadata": {},
     "output_type": "display_data"
    },
    {
     "name": "stdout",
     "output_type": "stream",
     "text": [
      "Epoch 1/5\n",
      "35/35 [==============================] - 1s 22ms/step - loss: 6.3756e-04 - mean_squared_error: 6.3756e-04\n",
      "Epoch 2/5\n",
      "35/35 [==============================] - 1s 22ms/step - loss: 6.6822e-04 - mean_squared_error: 6.6822e-04\n",
      "Epoch 3/5\n",
      "35/35 [==============================] - 1s 25ms/step - loss: 6.2448e-04 - mean_squared_error: 6.2448e-04\n",
      "Epoch 4/5\n",
      "35/35 [==============================] - 1s 22ms/step - loss: 6.4775e-04 - mean_squared_error: 6.4775e-04\n",
      "Epoch 5/5\n",
      "35/35 [==============================] - 1s 22ms/step - loss: 6.4360e-04 - mean_squared_error: 6.4360e-04\n",
      "1/1 [==============================] - 0s 28ms/step\n"
     ]
    },
    {
     "data": {
      "text/plain": [
       "array([[22383.455]], dtype=float32)"
      ]
     },
     "metadata": {},
     "output_type": "display_data"
    },
    {
     "name": "stdout",
     "output_type": "stream",
     "text": [
      "Epoch 1/5\n",
      "35/35 [==============================] - 1s 22ms/step - loss: 5.9762e-04 - mean_squared_error: 5.9762e-04\n",
      "Epoch 2/5\n",
      "35/35 [==============================] - 1s 22ms/step - loss: 6.1156e-04 - mean_squared_error: 6.1156e-04\n",
      "Epoch 3/5\n",
      "35/35 [==============================] - 1s 23ms/step - loss: 6.5834e-04 - mean_squared_error: 6.5834e-04\n",
      "Epoch 4/5\n",
      "35/35 [==============================] - 1s 22ms/step - loss: 6.3637e-04 - mean_squared_error: 6.3637e-04\n",
      "Epoch 5/5\n",
      "35/35 [==============================] - 1s 22ms/step - loss: 6.0611e-04 - mean_squared_error: 6.0611e-04\n",
      "1/1 [==============================] - 0s 28ms/step\n"
     ]
    },
    {
     "data": {
      "text/plain": [
       "array([[22461.578]], dtype=float32)"
      ]
     },
     "metadata": {},
     "output_type": "display_data"
    },
    {
     "name": "stdout",
     "output_type": "stream",
     "text": [
      "Epoch 1/5\n",
      "35/35 [==============================] - 1s 23ms/step - loss: 5.8850e-04 - mean_squared_error: 5.8850e-04\n",
      "Epoch 2/5\n",
      "35/35 [==============================] - 1s 23ms/step - loss: 5.9216e-04 - mean_squared_error: 5.9216e-04\n",
      "Epoch 3/5\n",
      "35/35 [==============================] - 1s 23ms/step - loss: 5.7857e-04 - mean_squared_error: 5.7857e-04\n",
      "Epoch 4/5\n",
      "35/35 [==============================] - 1s 23ms/step - loss: 5.5844e-04 - mean_squared_error: 5.5844e-04\n",
      "Epoch 5/5\n",
      "35/35 [==============================] - 1s 23ms/step - loss: 5.7815e-04 - mean_squared_error: 5.7815e-04\n",
      "1/1 [==============================] - 0s 30ms/step\n"
     ]
    },
    {
     "data": {
      "text/plain": [
       "array([[22735.9]], dtype=float32)"
      ]
     },
     "metadata": {},
     "output_type": "display_data"
    },
    {
     "name": "stdout",
     "output_type": "stream",
     "text": [
      "Epoch 1/5\n",
      "36/36 [==============================] - 1s 23ms/step - loss: 6.4470e-04 - mean_squared_error: 6.4470e-04\n",
      "Epoch 2/5\n",
      "36/36 [==============================] - 1s 22ms/step - loss: 6.3656e-04 - mean_squared_error: 6.3656e-04\n",
      "Epoch 3/5\n",
      "36/36 [==============================] - 1s 22ms/step - loss: 6.5082e-04 - mean_squared_error: 6.5082e-04\n",
      "Epoch 4/5\n",
      "36/36 [==============================] - 1s 22ms/step - loss: 0.0017 - mean_squared_error: 0.0017\n",
      "Epoch 5/5\n",
      "36/36 [==============================] - 1s 23ms/step - loss: 6.5080e-04 - mean_squared_error: 6.5080e-04\n",
      "1/1 [==============================] - 0s 31ms/step\n"
     ]
    },
    {
     "data": {
      "text/plain": [
       "array([[22509.398]], dtype=float32)"
      ]
     },
     "metadata": {},
     "output_type": "display_data"
    },
    {
     "name": "stdout",
     "output_type": "stream",
     "text": [
      "Epoch 1/5\n",
      "36/36 [==============================] - 1s 23ms/step - loss: 6.5790e-04 - mean_squared_error: 6.5790e-04\n",
      "Epoch 2/5\n",
      "36/36 [==============================] - 1s 25ms/step - loss: 6.1600e-04 - mean_squared_error: 6.1600e-04\n",
      "Epoch 3/5\n",
      "36/36 [==============================] - 1s 22ms/step - loss: 6.0330e-04 - mean_squared_error: 6.0330e-04\n",
      "Epoch 4/5\n",
      "36/36 [==============================] - 1s 23ms/step - loss: 5.7418e-04 - mean_squared_error: 5.7418e-04\n",
      "Epoch 5/5\n",
      "36/36 [==============================] - 1s 22ms/step - loss: 6.4519e-04 - mean_squared_error: 6.4519e-04\n",
      "1/1 [==============================] - 0s 30ms/step\n"
     ]
    },
    {
     "data": {
      "text/plain": [
       "array([[22881.621]], dtype=float32)"
      ]
     },
     "metadata": {},
     "output_type": "display_data"
    },
    {
     "name": "stdout",
     "output_type": "stream",
     "text": [
      "Epoch 1/5\n",
      "36/36 [==============================] - 1s 23ms/step - loss: 6.8927e-04 - mean_squared_error: 6.8927e-04\n",
      "Epoch 2/5\n",
      "36/36 [==============================] - 1s 23ms/step - loss: 7.5023e-04 - mean_squared_error: 7.5023e-04\n",
      "Epoch 3/5\n",
      "36/36 [==============================] - 1s 22ms/step - loss: 6.6249e-04 - mean_squared_error: 6.6249e-04\n",
      "Epoch 4/5\n",
      "36/36 [==============================] - 1s 24ms/step - loss: 6.2296e-04 - mean_squared_error: 6.2296e-04\n",
      "Epoch 5/5\n",
      "36/36 [==============================] - 1s 24ms/step - loss: 6.0792e-04 - mean_squared_error: 6.0792e-04\n",
      "1/1 [==============================] - 0s 32ms/step\n"
     ]
    },
    {
     "data": {
      "text/plain": [
       "array([[24203.7]], dtype=float32)"
      ]
     },
     "metadata": {},
     "output_type": "display_data"
    },
    {
     "name": "stdout",
     "output_type": "stream",
     "text": [
      "Epoch 1/5\n",
      "36/36 [==============================] - 1s 24ms/step - loss: 6.3074e-04 - mean_squared_error: 6.3074e-04\n",
      "Epoch 2/5\n",
      "36/36 [==============================] - 1s 23ms/step - loss: 5.8159e-04 - mean_squared_error: 5.8159e-04\n",
      "Epoch 3/5\n",
      "36/36 [==============================] - 1s 23ms/step - loss: 5.8832e-04 - mean_squared_error: 5.8832e-04\n",
      "Epoch 4/5\n",
      "36/36 [==============================] - 1s 22ms/step - loss: 5.6101e-04 - mean_squared_error: 5.6101e-04\n",
      "Epoch 5/5\n",
      "36/36 [==============================] - 1s 23ms/step - loss: 6.4382e-04 - mean_squared_error: 6.4382e-04\n",
      "1/1 [==============================] - 0s 30ms/step\n"
     ]
    },
    {
     "data": {
      "text/plain": [
       "array([[23668.873]], dtype=float32)"
      ]
     },
     "metadata": {},
     "output_type": "display_data"
    },
    {
     "name": "stdout",
     "output_type": "stream",
     "text": [
      "Epoch 1/5\n",
      "36/36 [==============================] - 1s 22ms/step - loss: 5.8187e-04 - mean_squared_error: 5.8187e-04\n",
      "Epoch 2/5\n",
      "36/36 [==============================] - 1s 22ms/step - loss: 5.7660e-04 - mean_squared_error: 5.7660e-04\n",
      "Epoch 3/5\n",
      "36/36 [==============================] - 1s 24ms/step - loss: 5.8875e-04 - mean_squared_error: 5.8875e-04\n",
      "Epoch 4/5\n",
      "36/36 [==============================] - 1s 22ms/step - loss: 5.5540e-04 - mean_squared_error: 5.5540e-04\n",
      "Epoch 5/5\n",
      "36/36 [==============================] - 1s 22ms/step - loss: 5.9907e-04 - mean_squared_error: 5.9907e-04\n",
      "1/1 [==============================] - 0s 31ms/step\n"
     ]
    },
    {
     "data": {
      "text/plain": [
       "array([[23334.12]], dtype=float32)"
      ]
     },
     "metadata": {},
     "output_type": "display_data"
    },
    {
     "name": "stdout",
     "output_type": "stream",
     "text": [
      "Epoch 1/5\n",
      "36/36 [==============================] - 1s 22ms/step - loss: 6.2580e-04 - mean_squared_error: 6.2580e-04\n",
      "Epoch 2/5\n",
      "36/36 [==============================] - 1s 22ms/step - loss: 6.1908e-04 - mean_squared_error: 6.1908e-04\n",
      "Epoch 3/5\n",
      "36/36 [==============================] - 1s 23ms/step - loss: 6.3281e-04 - mean_squared_error: 6.3281e-04\n",
      "Epoch 4/5\n",
      "36/36 [==============================] - 1s 23ms/step - loss: 5.9262e-04 - mean_squared_error: 5.9262e-04\n",
      "Epoch 5/5\n",
      "36/36 [==============================] - 1s 22ms/step - loss: 5.7477e-04 - mean_squared_error: 5.7477e-04\n",
      "1/1 [==============================] - 0s 28ms/step\n"
     ]
    },
    {
     "data": {
      "text/plain": [
       "array([[24402.508]], dtype=float32)"
      ]
     },
     "metadata": {},
     "output_type": "display_data"
    },
    {
     "name": "stdout",
     "output_type": "stream",
     "text": [
      "Epoch 1/5\n",
      "36/36 [==============================] - 1s 22ms/step - loss: 6.5215e-04 - mean_squared_error: 6.5215e-04\n",
      "Epoch 2/5\n",
      "36/36 [==============================] - 1s 23ms/step - loss: 6.8192e-04 - mean_squared_error: 6.8192e-04\n",
      "Epoch 3/5\n",
      "36/36 [==============================] - 1s 23ms/step - loss: 5.8188e-04 - mean_squared_error: 5.8188e-04\n",
      "Epoch 4/5\n",
      "36/36 [==============================] - 1s 23ms/step - loss: 5.8795e-04 - mean_squared_error: 5.8795e-04\n",
      "Epoch 5/5\n",
      "36/36 [==============================] - 1s 22ms/step - loss: 5.7314e-04 - mean_squared_error: 5.7314e-04\n",
      "1/1 [==============================] - 0s 26ms/step\n"
     ]
    },
    {
     "data": {
      "text/plain": [
       "array([[24447.998]], dtype=float32)"
      ]
     },
     "metadata": {},
     "output_type": "display_data"
    },
    {
     "name": "stdout",
     "output_type": "stream",
     "text": [
      "Epoch 1/5\n",
      "36/36 [==============================] - 1s 22ms/step - loss: 5.6848e-04 - mean_squared_error: 5.6848e-04\n",
      "Epoch 2/5\n",
      "36/36 [==============================] - 1s 23ms/step - loss: 5.7660e-04 - mean_squared_error: 5.7660e-04\n",
      "Epoch 3/5\n",
      "36/36 [==============================] - 1s 23ms/step - loss: 5.3467e-04 - mean_squared_error: 5.3467e-04\n",
      "Epoch 4/5\n",
      "36/36 [==============================] - 1s 22ms/step - loss: 6.0870e-04 - mean_squared_error: 6.0870e-04\n",
      "Epoch 5/5\n",
      "36/36 [==============================] - 1s 23ms/step - loss: 5.8644e-04 - mean_squared_error: 5.8644e-04\n",
      "1/1 [==============================] - 0s 29ms/step\n"
     ]
    },
    {
     "data": {
      "text/plain": [
       "array([[24825.48]], dtype=float32)"
      ]
     },
     "metadata": {},
     "output_type": "display_data"
    },
    {
     "name": "stdout",
     "output_type": "stream",
     "text": [
      "Epoch 1/5\n",
      "36/36 [==============================] - 1s 22ms/step - loss: 5.4403e-04 - mean_squared_error: 5.4403e-04\n",
      "Epoch 2/5\n",
      "36/36 [==============================] - 1s 23ms/step - loss: 5.8355e-04 - mean_squared_error: 5.8355e-04\n",
      "Epoch 3/5\n",
      "36/36 [==============================] - 1s 22ms/step - loss: 5.9425e-04 - mean_squared_error: 5.9425e-04\n",
      "Epoch 4/5\n",
      "36/36 [==============================] - 1s 22ms/step - loss: 5.6598e-04 - mean_squared_error: 5.6598e-04\n",
      "Epoch 5/5\n",
      "36/36 [==============================] - 1s 23ms/step - loss: 6.1396e-04 - mean_squared_error: 6.1396e-04\n",
      "1/1 [==============================] - 0s 31ms/step\n"
     ]
    },
    {
     "data": {
      "text/plain": [
       "array([[24868.76]], dtype=float32)"
      ]
     },
     "metadata": {},
     "output_type": "display_data"
    },
    {
     "name": "stdout",
     "output_type": "stream",
     "text": [
      "Epoch 1/5\n",
      "36/36 [==============================] - 1s 22ms/step - loss: 5.9457e-04 - mean_squared_error: 5.9457e-04\n",
      "Epoch 2/5\n",
      "36/36 [==============================] - 1s 23ms/step - loss: 5.9665e-04 - mean_squared_error: 5.9665e-04\n",
      "Epoch 3/5\n",
      "36/36 [==============================] - 1s 23ms/step - loss: 6.5291e-04 - mean_squared_error: 6.5291e-04\n",
      "Epoch 4/5\n",
      "36/36 [==============================] - 1s 22ms/step - loss: 6.2549e-04 - mean_squared_error: 6.2549e-04\n",
      "Epoch 5/5\n",
      "36/36 [==============================] - 1s 23ms/step - loss: 5.7157e-04 - mean_squared_error: 5.7157e-04\n",
      "1/1 [==============================] - 0s 29ms/step\n"
     ]
    },
    {
     "data": {
      "text/plain": [
       "array([[24599.186]], dtype=float32)"
      ]
     },
     "metadata": {},
     "output_type": "display_data"
    },
    {
     "name": "stdout",
     "output_type": "stream",
     "text": [
      "Epoch 1/5\n",
      "36/36 [==============================] - 1s 30ms/step - loss: 6.6208e-04 - mean_squared_error: 6.6208e-04\n",
      "Epoch 2/5\n",
      "36/36 [==============================] - 1s 24ms/step - loss: 6.0760e-04 - mean_squared_error: 6.0760e-04\n",
      "Epoch 3/5\n",
      "36/36 [==============================] - 1s 22ms/step - loss: 5.8376e-04 - mean_squared_error: 5.8376e-04\n",
      "Epoch 4/5\n",
      "36/36 [==============================] - 1s 34ms/step - loss: 5.8046e-04 - mean_squared_error: 5.8046e-04\n",
      "Epoch 5/5\n",
      "36/36 [==============================] - 1s 27ms/step - loss: 5.6718e-04 - mean_squared_error: 5.6718e-04\n",
      "1/1 [==============================] - 0s 76ms/step\n"
     ]
    },
    {
     "data": {
      "text/plain": [
       "array([[25150.1]], dtype=float32)"
      ]
     },
     "metadata": {},
     "output_type": "display_data"
    },
    {
     "name": "stdout",
     "output_type": "stream",
     "text": [
      "Epoch 1/5\n",
      "36/36 [==============================] - 1s 24ms/step - loss: 5.8869e-04 - mean_squared_error: 5.8869e-04\n",
      "Epoch 2/5\n",
      "36/36 [==============================] - 1s 23ms/step - loss: 6.1528e-04 - mean_squared_error: 6.1528e-04\n",
      "Epoch 3/5\n",
      "36/36 [==============================] - 1s 26ms/step - loss: 5.9214e-04 - mean_squared_error: 5.9214e-04\n",
      "Epoch 4/5\n",
      "36/36 [==============================] - 1s 24ms/step - loss: 5.7552e-04 - mean_squared_error: 5.7552e-04\n",
      "Epoch 5/5\n",
      "36/36 [==============================] - 1s 27ms/step - loss: 5.8649e-04 - mean_squared_error: 5.8649e-04\n",
      "1/1 [==============================] - 0s 39ms/step\n"
     ]
    },
    {
     "data": {
      "text/plain": [
       "array([[25362.39]], dtype=float32)"
      ]
     },
     "metadata": {},
     "output_type": "display_data"
    },
    {
     "name": "stdout",
     "output_type": "stream",
     "text": [
      "Epoch 1/5\n",
      "36/36 [==============================] - 1s 28ms/step - loss: 5.8272e-04 - mean_squared_error: 5.8272e-04\n",
      "Epoch 2/5\n",
      "36/36 [==============================] - 1s 25ms/step - loss: 5.8796e-04 - mean_squared_error: 5.8796e-04\n",
      "Epoch 3/5\n",
      "36/36 [==============================] - 1s 25ms/step - loss: 6.1022e-04 - mean_squared_error: 6.1022e-04\n",
      "Epoch 4/5\n",
      "36/36 [==============================] - 1s 23ms/step - loss: 5.4102e-04 - mean_squared_error: 5.4102e-04\n",
      "Epoch 5/5\n",
      "36/36 [==============================] - 1s 24ms/step - loss: 5.3034e-04 - mean_squared_error: 5.3034e-04\n",
      "1/1 [==============================] - 0s 27ms/step\n"
     ]
    },
    {
     "data": {
      "text/plain": [
       "array([[25509.322]], dtype=float32)"
      ]
     },
     "metadata": {},
     "output_type": "display_data"
    },
    {
     "name": "stdout",
     "output_type": "stream",
     "text": [
      "Epoch 1/5\n",
      "36/36 [==============================] - 1s 23ms/step - loss: 5.8923e-04 - mean_squared_error: 5.8923e-04\n",
      "Epoch 2/5\n",
      "36/36 [==============================] - 1s 24ms/step - loss: 6.2217e-04 - mean_squared_error: 6.2217e-04\n",
      "Epoch 3/5\n",
      "36/36 [==============================] - 1s 23ms/step - loss: 5.4778e-04 - mean_squared_error: 5.4778e-04\n",
      "Epoch 4/5\n",
      "36/36 [==============================] - 1s 24ms/step - loss: 5.6338e-04 - mean_squared_error: 5.6338e-04\n",
      "Epoch 5/5\n",
      "36/36 [==============================] - 1s 24ms/step - loss: 5.8258e-04 - mean_squared_error: 5.8258e-04\n",
      "1/1 [==============================] - 0s 25ms/step\n"
     ]
    },
    {
     "data": {
      "text/plain": [
       "array([[26006.9]], dtype=float32)"
      ]
     },
     "metadata": {},
     "output_type": "display_data"
    },
    {
     "name": "stdout",
     "output_type": "stream",
     "text": [
      "Epoch 1/5\n",
      "36/36 [==============================] - 1s 22ms/step - loss: 5.6755e-04 - mean_squared_error: 5.6755e-04\n",
      "Epoch 2/5\n",
      "36/36 [==============================] - 1s 27ms/step - loss: 5.9940e-04 - mean_squared_error: 5.9940e-04\n",
      "Epoch 3/5\n",
      "36/36 [==============================] - 1s 23ms/step - loss: 5.9034e-04 - mean_squared_error: 5.9034e-04\n",
      "Epoch 4/5\n",
      "36/36 [==============================] - 1s 22ms/step - loss: 5.7408e-04 - mean_squared_error: 5.7408e-04\n",
      "Epoch 5/5\n",
      "36/36 [==============================] - 1s 26ms/step - loss: 5.7495e-04 - mean_squared_error: 5.7495e-04\n",
      "1/1 [==============================] - 0s 27ms/step\n"
     ]
    },
    {
     "data": {
      "text/plain": [
       "array([[25657.934]], dtype=float32)"
      ]
     },
     "metadata": {},
     "output_type": "display_data"
    },
    {
     "name": "stdout",
     "output_type": "stream",
     "text": [
      "Epoch 1/5\n",
      "36/36 [==============================] - 1s 28ms/step - loss: 5.5406e-04 - mean_squared_error: 5.5406e-04\n",
      "Epoch 2/5\n",
      "36/36 [==============================] - 1s 28ms/step - loss: 6.3656e-04 - mean_squared_error: 6.3656e-04\n",
      "Epoch 3/5\n",
      "36/36 [==============================] - 1s 25ms/step - loss: 5.8857e-04 - mean_squared_error: 5.8857e-04\n",
      "Epoch 4/5\n",
      "36/36 [==============================] - 1s 24ms/step - loss: 6.0803e-04 - mean_squared_error: 6.0803e-04\n",
      "Epoch 5/5\n",
      "36/36 [==============================] - 1s 26ms/step - loss: 6.2604e-04 - mean_squared_error: 6.2604e-04\n",
      "1/1 [==============================] - 0s 30ms/step\n"
     ]
    },
    {
     "data": {
      "text/plain": [
       "array([[26387.904]], dtype=float32)"
      ]
     },
     "metadata": {},
     "output_type": "display_data"
    },
    {
     "name": "stdout",
     "output_type": "stream",
     "text": [
      "Epoch 1/5\n",
      "36/36 [==============================] - 1s 26ms/step - loss: 5.7067e-04 - mean_squared_error: 5.7067e-04\n",
      "Epoch 2/5\n",
      "36/36 [==============================] - 1s 27ms/step - loss: 6.0889e-04 - mean_squared_error: 6.0889e-04\n",
      "Epoch 3/5\n",
      "36/36 [==============================] - 1s 23ms/step - loss: 5.7054e-04 - mean_squared_error: 5.7054e-04\n",
      "Epoch 4/5\n",
      "36/36 [==============================] - 1s 23ms/step - loss: 5.9444e-04 - mean_squared_error: 5.9444e-04\n",
      "Epoch 5/5\n",
      "36/36 [==============================] - 1s 24ms/step - loss: 5.6624e-04 - mean_squared_error: 5.6624e-04\n",
      "1/1 [==============================] - 0s 25ms/step\n"
     ]
    },
    {
     "data": {
      "text/plain": [
       "array([[26668.38]], dtype=float32)"
      ]
     },
     "metadata": {},
     "output_type": "display_data"
    },
    {
     "name": "stdout",
     "output_type": "stream",
     "text": [
      "Epoch 1/5\n",
      "36/36 [==============================] - 1s 23ms/step - loss: 5.5528e-04 - mean_squared_error: 5.5528e-04\n",
      "Epoch 2/5\n",
      "36/36 [==============================] - 1s 23ms/step - loss: 6.2282e-04 - mean_squared_error: 6.2282e-04\n",
      "Epoch 3/5\n",
      "36/36 [==============================] - 1s 24ms/step - loss: 5.7787e-04 - mean_squared_error: 5.7787e-04\n",
      "Epoch 4/5\n",
      "36/36 [==============================] - 1s 24ms/step - loss: 5.4951e-04 - mean_squared_error: 5.4951e-04\n",
      "Epoch 5/5\n",
      "36/36 [==============================] - 1s 27ms/step - loss: 5.5268e-04 - mean_squared_error: 5.5268e-04\n",
      "1/1 [==============================] - 0s 45ms/step\n"
     ]
    },
    {
     "data": {
      "text/plain": [
       "array([[26749.564]], dtype=float32)"
      ]
     },
     "metadata": {},
     "output_type": "display_data"
    },
    {
     "name": "stdout",
     "output_type": "stream",
     "text": [
      "Epoch 1/5\n",
      "36/36 [==============================] - 1s 28ms/step - loss: 5.4640e-04 - mean_squared_error: 5.4640e-04\n",
      "Epoch 2/5\n",
      "36/36 [==============================] - 1s 24ms/step - loss: 5.4309e-04 - mean_squared_error: 5.4309e-04\n",
      "Epoch 3/5\n",
      "36/36 [==============================] - 1s 30ms/step - loss: 5.6753e-04 - mean_squared_error: 5.6753e-04\n",
      "Epoch 4/5\n",
      "36/36 [==============================] - 1s 29ms/step - loss: 5.9151e-04 - mean_squared_error: 5.9151e-04\n",
      "Epoch 5/5\n",
      "36/36 [==============================] - 1s 25ms/step - loss: 5.4465e-04 - mean_squared_error: 5.4465e-04\n",
      "1/1 [==============================] - 0s 33ms/step\n"
     ]
    },
    {
     "data": {
      "text/plain": [
       "array([[27282.148]], dtype=float32)"
      ]
     },
     "metadata": {},
     "output_type": "display_data"
    },
    {
     "name": "stdout",
     "output_type": "stream",
     "text": [
      "Epoch 1/5\n",
      "36/36 [==============================] - 1s 25ms/step - loss: 6.0825e-04 - mean_squared_error: 6.0825e-04\n",
      "Epoch 2/5\n",
      "36/36 [==============================] - 1s 24ms/step - loss: 5.7737e-04 - mean_squared_error: 5.7737e-04\n",
      "Epoch 3/5\n",
      "36/36 [==============================] - 1s 24ms/step - loss: 5.5021e-04 - mean_squared_error: 5.5021e-04\n",
      "Epoch 4/5\n",
      "36/36 [==============================] - 1s 33ms/step - loss: 5.3716e-04 - mean_squared_error: 5.3716e-04\n",
      "Epoch 5/5\n",
      "36/36 [==============================] - 1s 25ms/step - loss: 5.0454e-04 - mean_squared_error: 5.0454e-04\n",
      "1/1 [==============================] - 0s 28ms/step\n"
     ]
    },
    {
     "data": {
      "text/plain": [
       "array([[27639.11]], dtype=float32)"
      ]
     },
     "metadata": {},
     "output_type": "display_data"
    },
    {
     "name": "stdout",
     "output_type": "stream",
     "text": [
      "Epoch 1/5\n",
      "36/36 [==============================] - 1s 24ms/step - loss: 6.0626e-04 - mean_squared_error: 6.0626e-04\n",
      "Epoch 2/5\n",
      "36/36 [==============================] - 1s 23ms/step - loss: 5.3181e-04 - mean_squared_error: 5.3181e-04\n",
      "Epoch 3/5\n",
      "36/36 [==============================] - 1s 24ms/step - loss: 5.6064e-04 - mean_squared_error: 5.6064e-04\n",
      "Epoch 4/5\n",
      "36/36 [==============================] - 1s 23ms/step - loss: 5.4743e-04 - mean_squared_error: 5.4743e-04\n",
      "Epoch 5/5\n",
      "36/36 [==============================] - 1s 27ms/step - loss: 5.5146e-04 - mean_squared_error: 5.5146e-04\n",
      "1/1 [==============================] - 0s 31ms/step\n"
     ]
    },
    {
     "data": {
      "text/plain": [
       "array([[28526.709]], dtype=float32)"
      ]
     },
     "metadata": {},
     "output_type": "display_data"
    },
    {
     "name": "stdout",
     "output_type": "stream",
     "text": [
      "Epoch 1/5\n",
      "36/36 [==============================] - 1s 25ms/step - loss: 5.3086e-04 - mean_squared_error: 5.3086e-04\n",
      "Epoch 2/5\n",
      "36/36 [==============================] - 1s 24ms/step - loss: 5.4000e-04 - mean_squared_error: 5.4000e-04\n",
      "Epoch 3/5\n",
      "36/36 [==============================] - 1s 24ms/step - loss: 6.0433e-04 - mean_squared_error: 6.0433e-04\n",
      "Epoch 4/5\n",
      "36/36 [==============================] - 1s 24ms/step - loss: 6.4492e-04 - mean_squared_error: 6.4492e-04\n",
      "Epoch 5/5\n",
      "36/36 [==============================] - 1s 32ms/step - loss: 5.6368e-04 - mean_squared_error: 5.6368e-04\n",
      "1/1 [==============================] - 0s 28ms/step\n"
     ]
    },
    {
     "data": {
      "text/plain": [
       "array([[28510.594]], dtype=float32)"
      ]
     },
     "metadata": {},
     "output_type": "display_data"
    },
    {
     "name": "stdout",
     "output_type": "stream",
     "text": [
      "Epoch 1/5\n",
      "36/36 [==============================] - 1s 24ms/step - loss: 5.3868e-04 - mean_squared_error: 5.3868e-04\n",
      "Epoch 2/5\n",
      "36/36 [==============================] - 1s 25ms/step - loss: 6.7052e-04 - mean_squared_error: 6.7052e-04\n",
      "Epoch 3/5\n",
      "36/36 [==============================] - 1s 24ms/step - loss: 6.2621e-04 - mean_squared_error: 6.2621e-04\n",
      "Epoch 4/5\n",
      "36/36 [==============================] - 1s 24ms/step - loss: 5.8966e-04 - mean_squared_error: 5.8966e-04\n",
      "Epoch 5/5\n",
      "36/36 [==============================] - 1s 23ms/step - loss: 5.2093e-04 - mean_squared_error: 5.2093e-04\n",
      "1/1 [==============================] - 0s 35ms/step\n"
     ]
    },
    {
     "data": {
      "text/plain": [
       "array([[28494.906]], dtype=float32)"
      ]
     },
     "metadata": {},
     "output_type": "display_data"
    },
    {
     "name": "stdout",
     "output_type": "stream",
     "text": [
      "Epoch 1/5\n",
      "36/36 [==============================] - 1s 28ms/step - loss: 5.0950e-04 - mean_squared_error: 5.0950e-04\n",
      "Epoch 2/5\n",
      "36/36 [==============================] - 1s 24ms/step - loss: 5.5759e-04 - mean_squared_error: 5.5759e-04\n",
      "Epoch 3/5\n",
      "36/36 [==============================] - 1s 24ms/step - loss: 5.1232e-04 - mean_squared_error: 5.1232e-04\n",
      "Epoch 4/5\n",
      "36/36 [==============================] - 1s 25ms/step - loss: 5.5610e-04 - mean_squared_error: 5.5610e-04\n",
      "Epoch 5/5\n",
      "36/36 [==============================] - 1s 24ms/step - loss: 5.4363e-04 - mean_squared_error: 5.4363e-04\n",
      "1/1 [==============================] - 0s 32ms/step\n"
     ]
    },
    {
     "data": {
      "text/plain": [
       "array([[29459.91]], dtype=float32)"
      ]
     },
     "metadata": {},
     "output_type": "display_data"
    },
    {
     "name": "stdout",
     "output_type": "stream",
     "text": [
      "Epoch 1/5\n",
      "36/36 [==============================] - 1s 25ms/step - loss: 5.4426e-04 - mean_squared_error: 5.4426e-04\n",
      "Epoch 2/5\n",
      "36/36 [==============================] - 1s 26ms/step - loss: 5.4362e-04 - mean_squared_error: 5.4362e-04\n",
      "Epoch 3/5\n",
      "36/36 [==============================] - 1s 23ms/step - loss: 5.2249e-04 - mean_squared_error: 5.2249e-04\n",
      "Epoch 4/5\n",
      "36/36 [==============================] - 1s 24ms/step - loss: 5.6587e-04 - mean_squared_error: 5.6587e-04\n",
      "Epoch 5/5\n",
      "36/36 [==============================] - 1s 27ms/step - loss: 5.4859e-04 - mean_squared_error: 5.4859e-04\n",
      "1/1 [==============================] - 0s 32ms/step\n"
     ]
    },
    {
     "data": {
      "text/plain": [
       "array([[29930.375]], dtype=float32)"
      ]
     },
     "metadata": {},
     "output_type": "display_data"
    },
    {
     "name": "stdout",
     "output_type": "stream",
     "text": [
      "Epoch 1/5\n",
      "36/36 [==============================] - 1s 24ms/step - loss: 5.1654e-04 - mean_squared_error: 5.1654e-04\n",
      "Epoch 2/5\n",
      "36/36 [==============================] - 1s 25ms/step - loss: 5.8041e-04 - mean_squared_error: 5.8041e-04\n",
      "Epoch 3/5\n",
      "36/36 [==============================] - 1s 25ms/step - loss: 5.4396e-04 - mean_squared_error: 5.4396e-04\n",
      "Epoch 4/5\n",
      "36/36 [==============================] - 1s 31ms/step - loss: 5.2050e-04 - mean_squared_error: 5.2050e-04\n",
      "Epoch 5/5\n",
      "36/36 [==============================] - 1s 28ms/step - loss: 5.3816e-04 - mean_squared_error: 5.3816e-04\n",
      "1/1 [==============================] - 0s 49ms/step\n"
     ]
    },
    {
     "data": {
      "text/plain": [
       "array([[29414.66]], dtype=float32)"
      ]
     },
     "metadata": {},
     "output_type": "display_data"
    },
    {
     "name": "stdout",
     "output_type": "stream",
     "text": [
      "Epoch 1/5\n",
      "36/36 [==============================] - 1s 30ms/step - loss: 5.6962e-04 - mean_squared_error: 5.6962e-04\n",
      "Epoch 2/5\n",
      "36/36 [==============================] - 1s 28ms/step - loss: 5.2241e-04 - mean_squared_error: 5.2241e-04\n",
      "Epoch 3/5\n",
      "36/36 [==============================] - 1s 25ms/step - loss: 5.6377e-04 - mean_squared_error: 5.6377e-04\n",
      "Epoch 4/5\n",
      "36/36 [==============================] - 1s 26ms/step - loss: 5.8369e-04 - mean_squared_error: 5.8369e-04\n",
      "Epoch 5/5\n",
      "36/36 [==============================] - 1s 33ms/step - loss: 5.1378e-04 - mean_squared_error: 5.1378e-04\n",
      "1/1 [==============================] - 0s 31ms/step\n"
     ]
    },
    {
     "data": {
      "text/plain": [
       "array([[29982.654]], dtype=float32)"
      ]
     },
     "metadata": {},
     "output_type": "display_data"
    },
    {
     "name": "stdout",
     "output_type": "stream",
     "text": [
      "Epoch 1/5\n",
      "36/36 [==============================] - 1s 24ms/step - loss: 5.3812e-04 - mean_squared_error: 5.3812e-04\n",
      "Epoch 2/5\n",
      "36/36 [==============================] - 1s 25ms/step - loss: 5.6311e-04 - mean_squared_error: 5.6311e-04\n",
      "Epoch 3/5\n",
      "36/36 [==============================] - 1s 25ms/step - loss: 5.7246e-04 - mean_squared_error: 5.7246e-04\n",
      "Epoch 4/5\n",
      "36/36 [==============================] - 1s 25ms/step - loss: 5.6258e-04 - mean_squared_error: 5.6258e-04\n",
      "Epoch 5/5\n",
      "36/36 [==============================] - 1s 25ms/step - loss: 6.0830e-04 - mean_squared_error: 6.0830e-04\n",
      "1/1 [==============================] - 0s 34ms/step\n"
     ]
    },
    {
     "data": {
      "text/plain": [
       "array([[30521.012]], dtype=float32)"
      ]
     },
     "metadata": {},
     "output_type": "display_data"
    },
    {
     "name": "stdout",
     "output_type": "stream",
     "text": [
      "Epoch 1/5\n",
      "36/36 [==============================] - 1s 26ms/step - loss: 5.5024e-04 - mean_squared_error: 5.5024e-04\n",
      "Epoch 2/5\n",
      "36/36 [==============================] - 1s 25ms/step - loss: 5.2727e-04 - mean_squared_error: 5.2727e-04\n",
      "Epoch 3/5\n",
      "36/36 [==============================] - 1s 25ms/step - loss: 6.2496e-04 - mean_squared_error: 6.2496e-04\n",
      "Epoch 4/5\n",
      "36/36 [==============================] - 1s 24ms/step - loss: 5.2994e-04 - mean_squared_error: 5.2994e-04\n",
      "Epoch 5/5\n",
      "36/36 [==============================] - 1s 24ms/step - loss: 5.1661e-04 - mean_squared_error: 5.1661e-04\n",
      "1/1 [==============================] - 0s 33ms/step\n"
     ]
    },
    {
     "data": {
      "text/plain": [
       "array([[30741.361]], dtype=float32)"
      ]
     },
     "metadata": {},
     "output_type": "display_data"
    },
    {
     "name": "stdout",
     "output_type": "stream",
     "text": [
      "Epoch 1/5\n",
      "36/36 [==============================] - 1s 24ms/step - loss: 5.3767e-04 - mean_squared_error: 5.3767e-04\n",
      "Epoch 2/5\n",
      "36/36 [==============================] - 1s 22ms/step - loss: 4.9126e-04 - mean_squared_error: 4.9126e-04\n",
      "Epoch 3/5\n",
      "36/36 [==============================] - 1s 23ms/step - loss: 5.7432e-04 - mean_squared_error: 5.7432e-04\n",
      "Epoch 4/5\n",
      "36/36 [==============================] - 1s 22ms/step - loss: 5.8198e-04 - mean_squared_error: 5.8198e-04\n",
      "Epoch 5/5\n",
      "36/36 [==============================] - 1s 24ms/step - loss: 5.7112e-04 - mean_squared_error: 5.7112e-04\n",
      "1/1 [==============================] - 0s 28ms/step\n"
     ]
    },
    {
     "data": {
      "text/plain": [
       "array([[31693.455]], dtype=float32)"
      ]
     },
     "metadata": {},
     "output_type": "display_data"
    },
    {
     "name": "stdout",
     "output_type": "stream",
     "text": [
      "Epoch 1/5\n",
      "36/36 [==============================] - 1s 24ms/step - loss: 5.6881e-04 - mean_squared_error: 5.6881e-04\n",
      "Epoch 2/5\n",
      "36/36 [==============================] - 1s 24ms/step - loss: 6.0179e-04 - mean_squared_error: 6.0179e-04\n",
      "Epoch 3/5\n",
      "36/36 [==============================] - 1s 24ms/step - loss: 5.3800e-04 - mean_squared_error: 5.3800e-04\n",
      "Epoch 4/5\n",
      "36/36 [==============================] - 1s 24ms/step - loss: 5.3063e-04 - mean_squared_error: 5.3063e-04\n",
      "Epoch 5/5\n",
      "36/36 [==============================] - 1s 23ms/step - loss: 5.3924e-04 - mean_squared_error: 5.3924e-04\n",
      "1/1 [==============================] - 0s 29ms/step\n"
     ]
    },
    {
     "data": {
      "text/plain": [
       "array([[31741.385]], dtype=float32)"
      ]
     },
     "metadata": {},
     "output_type": "display_data"
    },
    {
     "name": "stdout",
     "output_type": "stream",
     "text": [
      "Epoch 1/5\n",
      "36/36 [==============================] - 1s 24ms/step - loss: 5.4926e-04 - mean_squared_error: 5.4926e-04\n",
      "Epoch 2/5\n",
      "36/36 [==============================] - 1s 23ms/step - loss: 5.5738e-04 - mean_squared_error: 5.5738e-04\n",
      "Epoch 3/5\n",
      "36/36 [==============================] - 1s 23ms/step - loss: 5.7637e-04 - mean_squared_error: 5.7637e-04\n",
      "Epoch 4/5\n",
      "36/36 [==============================] - 1s 24ms/step - loss: 5.1130e-04 - mean_squared_error: 5.1130e-04\n",
      "Epoch 5/5\n",
      "36/36 [==============================] - 1s 24ms/step - loss: 5.0395e-04 - mean_squared_error: 5.0395e-04\n",
      "1/1 [==============================] - 0s 30ms/step\n"
     ]
    },
    {
     "data": {
      "text/plain": [
       "array([[31539.488]], dtype=float32)"
      ]
     },
     "metadata": {},
     "output_type": "display_data"
    },
    {
     "name": "stdout",
     "output_type": "stream",
     "text": [
      "Epoch 1/5\n",
      "37/37 [==============================] - 1s 23ms/step - loss: 5.0305e-04 - mean_squared_error: 5.0305e-04\n",
      "Epoch 2/5\n",
      "37/37 [==============================] - 1s 34ms/step - loss: 5.5149e-04 - mean_squared_error: 5.5149e-04\n",
      "Epoch 3/5\n",
      "37/37 [==============================] - 1s 24ms/step - loss: 5.4091e-04 - mean_squared_error: 5.4091e-04\n",
      "Epoch 4/5\n",
      "37/37 [==============================] - 1s 24ms/step - loss: 5.2139e-04 - mean_squared_error: 5.2139e-04\n",
      "Epoch 5/5\n",
      "37/37 [==============================] - 1s 23ms/step - loss: 6.2409e-04 - mean_squared_error: 6.2409e-04\n",
      "1/1 [==============================] - 0s 28ms/step\n"
     ]
    },
    {
     "data": {
      "text/plain": [
       "array([[31446.574]], dtype=float32)"
      ]
     },
     "metadata": {},
     "output_type": "display_data"
    },
    {
     "name": "stdout",
     "output_type": "stream",
     "text": [
      "Epoch 1/5\n",
      "37/37 [==============================] - 1s 23ms/step - loss: 5.3518e-04 - mean_squared_error: 5.3518e-04\n",
      "Epoch 2/5\n",
      "37/37 [==============================] - 1s 24ms/step - loss: 5.5756e-04 - mean_squared_error: 5.5756e-04\n",
      "Epoch 3/5\n",
      "37/37 [==============================] - 1s 27ms/step - loss: 6.6035e-04 - mean_squared_error: 6.6035e-04\n",
      "Epoch 4/5\n",
      "37/37 [==============================] - 1s 23ms/step - loss: 5.3029e-04 - mean_squared_error: 5.3029e-04\n",
      "Epoch 5/5\n",
      "37/37 [==============================] - 1s 24ms/step - loss: 5.5297e-04 - mean_squared_error: 5.5297e-04\n",
      "1/1 [==============================] - 0s 35ms/step\n"
     ]
    },
    {
     "data": {
      "text/plain": [
       "array([[31467.4]], dtype=float32)"
      ]
     },
     "metadata": {},
     "output_type": "display_data"
    },
    {
     "name": "stdout",
     "output_type": "stream",
     "text": [
      "Epoch 1/5\n",
      "37/37 [==============================] - 1s 25ms/step - loss: 5.3137e-04 - mean_squared_error: 5.3137e-04\n",
      "Epoch 2/5\n",
      "37/37 [==============================] - 1s 26ms/step - loss: 5.5936e-04 - mean_squared_error: 5.5936e-04\n",
      "Epoch 3/5\n",
      "37/37 [==============================] - 1s 29ms/step - loss: 5.2797e-04 - mean_squared_error: 5.2797e-04\n",
      "Epoch 4/5\n",
      "37/37 [==============================] - 1s 32ms/step - loss: 6.5484e-04 - mean_squared_error: 6.5484e-04\n",
      "Epoch 5/5\n",
      "37/37 [==============================] - 1s 26ms/step - loss: 5.0415e-04 - mean_squared_error: 5.0415e-04\n",
      "1/1 [==============================] - 0s 29ms/step\n"
     ]
    },
    {
     "data": {
      "text/plain": [
       "array([[32849.13]], dtype=float32)"
      ]
     },
     "metadata": {},
     "output_type": "display_data"
    },
    {
     "name": "stdout",
     "output_type": "stream",
     "text": [
      "Epoch 1/5\n",
      "37/37 [==============================] - 1s 24ms/step - loss: 5.9167e-04 - mean_squared_error: 5.9167e-04\n",
      "Epoch 2/5\n",
      "37/37 [==============================] - 1s 24ms/step - loss: 5.3126e-04 - mean_squared_error: 5.3126e-04\n",
      "Epoch 3/5\n",
      "37/37 [==============================] - 1s 22ms/step - loss: 5.3423e-04 - mean_squared_error: 5.3423e-04\n",
      "Epoch 4/5\n",
      "37/37 [==============================] - 1s 23ms/step - loss: 5.4702e-04 - mean_squared_error: 5.4702e-04\n",
      "Epoch 5/5\n",
      "37/37 [==============================] - 1s 23ms/step - loss: 5.7793e-04 - mean_squared_error: 5.7793e-04\n",
      "1/1 [==============================] - 0s 29ms/step\n"
     ]
    },
    {
     "data": {
      "text/plain": [
       "array([[32789.09]], dtype=float32)"
      ]
     },
     "metadata": {},
     "output_type": "display_data"
    },
    {
     "name": "stdout",
     "output_type": "stream",
     "text": [
      "Epoch 1/5\n",
      "37/37 [==============================] - 1s 23ms/step - loss: 5.6010e-04 - mean_squared_error: 5.6010e-04\n",
      "Epoch 2/5\n",
      "37/37 [==============================] - 1s 23ms/step - loss: 5.1448e-04 - mean_squared_error: 5.1448e-04\n",
      "Epoch 3/5\n",
      "37/37 [==============================] - 1s 23ms/step - loss: 5.5616e-04 - mean_squared_error: 5.5616e-04\n",
      "Epoch 4/5\n",
      "37/37 [==============================] - 1s 23ms/step - loss: 5.6465e-04 - mean_squared_error: 5.6465e-04\n",
      "Epoch 5/5\n",
      "37/37 [==============================] - 1s 24ms/step - loss: 5.4070e-04 - mean_squared_error: 5.4070e-04\n",
      "1/1 [==============================] - 0s 29ms/step\n"
     ]
    },
    {
     "data": {
      "text/plain": [
       "array([[32866.844]], dtype=float32)"
      ]
     },
     "metadata": {},
     "output_type": "display_data"
    },
    {
     "name": "stdout",
     "output_type": "stream",
     "text": [
      "Epoch 1/5\n",
      "37/37 [==============================] - 1s 24ms/step - loss: 5.1330e-04 - mean_squared_error: 5.1330e-04\n",
      "Epoch 2/5\n",
      "37/37 [==============================] - 1s 24ms/step - loss: 5.3267e-04 - mean_squared_error: 5.3267e-04\n",
      "Epoch 3/5\n",
      "37/37 [==============================] - 1s 23ms/step - loss: 5.4130e-04 - mean_squared_error: 5.4130e-04\n",
      "Epoch 4/5\n",
      "37/37 [==============================] - 1s 30ms/step - loss: 5.7780e-04 - mean_squared_error: 5.7780e-04\n",
      "Epoch 5/5\n",
      "37/37 [==============================] - 1s 28ms/step - loss: 5.5188e-04 - mean_squared_error: 5.5188e-04\n",
      "1/1 [==============================] - 0s 30ms/step\n"
     ]
    },
    {
     "data": {
      "text/plain": [
       "array([[32625.734]], dtype=float32)"
      ]
     },
     "metadata": {},
     "output_type": "display_data"
    },
    {
     "name": "stdout",
     "output_type": "stream",
     "text": [
      "Epoch 1/5\n",
      "37/37 [==============================] - 1s 25ms/step - loss: 5.5242e-04 - mean_squared_error: 5.5242e-04\n",
      "Epoch 2/5\n",
      "37/37 [==============================] - 1s 23ms/step - loss: 5.2447e-04 - mean_squared_error: 5.2447e-04\n",
      "Epoch 3/5\n",
      "37/37 [==============================] - 1s 23ms/step - loss: 4.9950e-04 - mean_squared_error: 4.9950e-04\n",
      "Epoch 4/5\n",
      "37/37 [==============================] - 1s 23ms/step - loss: 5.1650e-04 - mean_squared_error: 5.1650e-04\n",
      "Epoch 5/5\n",
      "37/37 [==============================] - 1s 25ms/step - loss: 5.2457e-04 - mean_squared_error: 5.2457e-04\n",
      "1/1 [==============================] - 0s 28ms/step\n"
     ]
    },
    {
     "data": {
      "text/plain": [
       "array([[33729.883]], dtype=float32)"
      ]
     },
     "metadata": {},
     "output_type": "display_data"
    },
    {
     "name": "stdout",
     "output_type": "stream",
     "text": [
      "Epoch 1/5\n",
      "37/37 [==============================] - 1s 23ms/step - loss: 5.6174e-04 - mean_squared_error: 5.6174e-04\n",
      "Epoch 2/5\n",
      "37/37 [==============================] - 1s 23ms/step - loss: 5.7527e-04 - mean_squared_error: 5.7527e-04\n",
      "Epoch 3/5\n",
      "37/37 [==============================] - 1s 23ms/step - loss: 5.8749e-04 - mean_squared_error: 5.8749e-04\n",
      "Epoch 4/5\n",
      "37/37 [==============================] - 1s 24ms/step - loss: 5.3556e-04 - mean_squared_error: 5.3556e-04\n",
      "Epoch 5/5\n",
      "37/37 [==============================] - 1s 23ms/step - loss: 5.5091e-04 - mean_squared_error: 5.5091e-04\n",
      "1/1 [==============================] - 0s 29ms/step\n"
     ]
    },
    {
     "data": {
      "text/plain": [
       "array([[33562.08]], dtype=float32)"
      ]
     },
     "metadata": {},
     "output_type": "display_data"
    },
    {
     "name": "stdout",
     "output_type": "stream",
     "text": [
      "Epoch 1/5\n",
      "37/37 [==============================] - 1s 25ms/step - loss: 5.1699e-04 - mean_squared_error: 5.1699e-04\n",
      "Epoch 2/5\n",
      "37/37 [==============================] - 1s 23ms/step - loss: 5.1114e-04 - mean_squared_error: 5.1114e-04\n",
      "Epoch 3/5\n",
      "37/37 [==============================] - 1s 24ms/step - loss: 5.2295e-04 - mean_squared_error: 5.2295e-04\n",
      "Epoch 4/5\n",
      "37/37 [==============================] - 1s 25ms/step - loss: 5.2345e-04 - mean_squared_error: 5.2345e-04\n",
      "Epoch 5/5\n",
      "37/37 [==============================] - 1s 26ms/step - loss: 5.5288e-04 - mean_squared_error: 5.5288e-04\n",
      "1/1 [==============================] - 0s 30ms/step\n"
     ]
    },
    {
     "data": {
      "text/plain": [
       "array([[33453.676]], dtype=float32)"
      ]
     },
     "metadata": {},
     "output_type": "display_data"
    },
    {
     "name": "stdout",
     "output_type": "stream",
     "text": [
      "Epoch 1/5\n",
      "37/37 [==============================] - 1s 25ms/step - loss: 5.5077e-04 - mean_squared_error: 5.5077e-04\n",
      "Epoch 2/5\n",
      "37/37 [==============================] - 1s 25ms/step - loss: 5.9312e-04 - mean_squared_error: 5.9312e-04\n",
      "Epoch 3/5\n",
      "37/37 [==============================] - 1s 22ms/step - loss: 5.6554e-04 - mean_squared_error: 5.6554e-04\n",
      "Epoch 4/5\n",
      "37/37 [==============================] - 1s 24ms/step - loss: 5.5860e-04 - mean_squared_error: 5.5860e-04\n",
      "Epoch 5/5\n",
      "37/37 [==============================] - 1s 24ms/step - loss: 5.2499e-04 - mean_squared_error: 5.2499e-04\n",
      "1/1 [==============================] - 0s 30ms/step\n"
     ]
    },
    {
     "data": {
      "text/plain": [
       "array([[34283.332]], dtype=float32)"
      ]
     },
     "metadata": {},
     "output_type": "display_data"
    },
    {
     "name": "stdout",
     "output_type": "stream",
     "text": [
      "Epoch 1/5\n",
      "37/37 [==============================] - 1s 24ms/step - loss: 5.8345e-04 - mean_squared_error: 5.8345e-04\n",
      "Epoch 2/5\n",
      "37/37 [==============================] - 1s 24ms/step - loss: 5.6984e-04 - mean_squared_error: 5.6984e-04\n",
      "Epoch 3/5\n",
      "37/37 [==============================] - 1s 24ms/step - loss: 5.0406e-04 - mean_squared_error: 5.0406e-04\n",
      "Epoch 4/5\n",
      "37/37 [==============================] - 1s 23ms/step - loss: 4.9301e-04 - mean_squared_error: 4.9301e-04\n",
      "Epoch 5/5\n",
      "37/37 [==============================] - 1s 23ms/step - loss: 5.2703e-04 - mean_squared_error: 5.2703e-04\n",
      "1/1 [==============================] - 0s 33ms/step\n"
     ]
    },
    {
     "data": {
      "text/plain": [
       "array([[33539.047]], dtype=float32)"
      ]
     },
     "metadata": {},
     "output_type": "display_data"
    },
    {
     "name": "stdout",
     "output_type": "stream",
     "text": [
      "Epoch 1/5\n",
      "37/37 [==============================] - 1s 25ms/step - loss: 5.2234e-04 - mean_squared_error: 5.2234e-04\n",
      "Epoch 2/5\n",
      "37/37 [==============================] - 1s 23ms/step - loss: 5.2262e-04 - mean_squared_error: 5.2262e-04\n",
      "Epoch 3/5\n",
      "37/37 [==============================] - 1s 23ms/step - loss: 6.4394e-04 - mean_squared_error: 6.4394e-04\n",
      "Epoch 4/5\n",
      "37/37 [==============================] - 1s 23ms/step - loss: 5.2890e-04 - mean_squared_error: 5.2890e-04\n",
      "Epoch 5/5\n",
      "37/37 [==============================] - 1s 24ms/step - loss: 5.3935e-04 - mean_squared_error: 5.3935e-04\n",
      "1/1 [==============================] - 0s 32ms/step\n"
     ]
    },
    {
     "data": {
      "text/plain": [
       "array([[33545.848]], dtype=float32)"
      ]
     },
     "metadata": {},
     "output_type": "display_data"
    },
    {
     "name": "stdout",
     "output_type": "stream",
     "text": [
      "Epoch 1/5\n",
      "37/37 [==============================] - 1s 24ms/step - loss: 5.2720e-04 - mean_squared_error: 5.2720e-04\n",
      "Epoch 2/5\n",
      "37/37 [==============================] - 1s 24ms/step - loss: 5.0188e-04 - mean_squared_error: 5.0188e-04\n",
      "Epoch 3/5\n",
      "37/37 [==============================] - 1s 23ms/step - loss: 4.9184e-04 - mean_squared_error: 4.9184e-04\n",
      "Epoch 4/5\n",
      "37/37 [==============================] - 1s 26ms/step - loss: 5.0104e-04 - mean_squared_error: 5.0104e-04\n",
      "Epoch 5/5\n",
      "37/37 [==============================] - 1s 23ms/step - loss: 5.1480e-04 - mean_squared_error: 5.1480e-04\n",
      "1/1 [==============================] - 0s 30ms/step\n"
     ]
    },
    {
     "data": {
      "text/plain": [
       "array([[32889.99]], dtype=float32)"
      ]
     },
     "metadata": {},
     "output_type": "display_data"
    },
    {
     "name": "stdout",
     "output_type": "stream",
     "text": [
      "Epoch 1/5\n",
      "37/37 [==============================] - 1s 23ms/step - loss: 5.2040e-04 - mean_squared_error: 5.2040e-04\n",
      "Epoch 2/5\n",
      "37/37 [==============================] - 1s 23ms/step - loss: 5.3449e-04 - mean_squared_error: 5.3449e-04\n",
      "Epoch 3/5\n",
      "37/37 [==============================] - 1s 22ms/step - loss: 5.5867e-04 - mean_squared_error: 5.5867e-04\n",
      "Epoch 4/5\n",
      "37/37 [==============================] - 1s 23ms/step - loss: 5.2806e-04 - mean_squared_error: 5.2806e-04\n",
      "Epoch 5/5\n",
      "37/37 [==============================] - 1s 23ms/step - loss: 5.0503e-04 - mean_squared_error: 5.0503e-04\n",
      "1/1 [==============================] - 0s 47ms/step\n"
     ]
    },
    {
     "data": {
      "text/plain": [
       "array([[32647.047]], dtype=float32)"
      ]
     },
     "metadata": {},
     "output_type": "display_data"
    },
    {
     "name": "stdout",
     "output_type": "stream",
     "text": [
      "Epoch 1/5\n",
      "37/37 [==============================] - 1s 23ms/step - loss: 4.9337e-04 - mean_squared_error: 4.9337e-04\n",
      "Epoch 2/5\n",
      "37/37 [==============================] - 1s 23ms/step - loss: 5.4230e-04 - mean_squared_error: 5.4230e-04\n",
      "Epoch 3/5\n",
      "37/37 [==============================] - 1s 23ms/step - loss: 5.2388e-04 - mean_squared_error: 5.2388e-04\n",
      "Epoch 4/5\n",
      "37/37 [==============================] - 1s 25ms/step - loss: 5.1280e-04 - mean_squared_error: 5.1280e-04\n",
      "Epoch 5/5\n",
      "37/37 [==============================] - 1s 23ms/step - loss: 5.6603e-04 - mean_squared_error: 5.6603e-04\n",
      "1/1 [==============================] - 0s 27ms/step\n"
     ]
    },
    {
     "data": {
      "text/plain": [
       "array([[33153.8]], dtype=float32)"
      ]
     },
     "metadata": {},
     "output_type": "display_data"
    },
    {
     "name": "stdout",
     "output_type": "stream",
     "text": [
      "Epoch 1/5\n",
      "37/37 [==============================] - 1s 24ms/step - loss: 5.5321e-04 - mean_squared_error: 5.5321e-04\n",
      "Epoch 2/5\n",
      "37/37 [==============================] - 1s 23ms/step - loss: 5.1004e-04 - mean_squared_error: 5.1004e-04\n",
      "Epoch 3/5\n",
      "37/37 [==============================] - 1s 24ms/step - loss: 5.2076e-04 - mean_squared_error: 5.2076e-04\n",
      "Epoch 4/5\n",
      "37/37 [==============================] - 1s 23ms/step - loss: 5.0094e-04 - mean_squared_error: 5.0094e-04\n",
      "Epoch 5/5\n",
      "37/37 [==============================] - 1s 22ms/step - loss: 5.7019e-04 - mean_squared_error: 5.7019e-04\n",
      "1/1 [==============================] - 0s 27ms/step\n"
     ]
    },
    {
     "data": {
      "text/plain": [
       "array([[33287.062]], dtype=float32)"
      ]
     },
     "metadata": {},
     "output_type": "display_data"
    },
    {
     "name": "stdout",
     "output_type": "stream",
     "text": [
      "Epoch 1/5\n",
      "37/37 [==============================] - 1s 23ms/step - loss: 5.3593e-04 - mean_squared_error: 5.3593e-04\n",
      "Epoch 2/5\n",
      "37/37 [==============================] - 1s 21ms/step - loss: 5.1471e-04 - mean_squared_error: 5.1471e-04\n",
      "Epoch 3/5\n",
      "37/37 [==============================] - 1s 22ms/step - loss: 4.8803e-04 - mean_squared_error: 4.8803e-04\n",
      "Epoch 4/5\n",
      "37/37 [==============================] - 1s 22ms/step - loss: 5.6080e-04 - mean_squared_error: 5.6080e-04\n",
      "Epoch 5/5\n",
      "37/37 [==============================] - 1s 22ms/step - loss: 4.9293e-04 - mean_squared_error: 4.9293e-04\n",
      "1/1 [==============================] - 0s 35ms/step\n"
     ]
    },
    {
     "data": {
      "text/plain": [
       "array([[33522.38]], dtype=float32)"
      ]
     },
     "metadata": {},
     "output_type": "display_data"
    },
    {
     "name": "stdout",
     "output_type": "stream",
     "text": [
      "Epoch 1/5\n",
      "37/37 [==============================] - 1s 23ms/step - loss: 5.0012e-04 - mean_squared_error: 5.0012e-04\n",
      "Epoch 2/5\n",
      "37/37 [==============================] - 1s 22ms/step - loss: 5.2078e-04 - mean_squared_error: 5.2078e-04\n",
      "Epoch 3/5\n",
      "37/37 [==============================] - 1s 24ms/step - loss: 4.8797e-04 - mean_squared_error: 4.8797e-04\n",
      "Epoch 4/5\n",
      "37/37 [==============================] - 1s 25ms/step - loss: 4.7777e-04 - mean_squared_error: 4.7777e-04\n",
      "Epoch 5/5\n",
      "37/37 [==============================] - 1s 22ms/step - loss: 5.1730e-04 - mean_squared_error: 5.1730e-04\n",
      "1/1 [==============================] - 0s 26ms/step\n"
     ]
    },
    {
     "data": {
      "text/plain": [
       "array([[33857.727]], dtype=float32)"
      ]
     },
     "metadata": {},
     "output_type": "display_data"
    },
    {
     "name": "stdout",
     "output_type": "stream",
     "text": [
      "Epoch 1/5\n",
      "37/37 [==============================] - 1s 23ms/step - loss: 5.4581e-04 - mean_squared_error: 5.4581e-04\n",
      "Epoch 2/5\n",
      "37/37 [==============================] - 1s 23ms/step - loss: 5.0167e-04 - mean_squared_error: 5.0167e-04\n",
      "Epoch 3/5\n",
      "37/37 [==============================] - 1s 23ms/step - loss: 4.8836e-04 - mean_squared_error: 4.8836e-04\n",
      "Epoch 4/5\n",
      "37/37 [==============================] - 1s 22ms/step - loss: 5.2984e-04 - mean_squared_error: 5.2984e-04\n",
      "Epoch 5/5\n",
      "37/37 [==============================] - 1s 22ms/step - loss: 5.2083e-04 - mean_squared_error: 5.2083e-04\n",
      "1/1 [==============================] - 0s 30ms/step\n"
     ]
    },
    {
     "data": {
      "text/plain": [
       "array([[34126.273]], dtype=float32)"
      ]
     },
     "metadata": {},
     "output_type": "display_data"
    },
    {
     "name": "stdout",
     "output_type": "stream",
     "text": [
      "Epoch 1/5\n",
      "37/37 [==============================] - 1s 22ms/step - loss: 4.8716e-04 - mean_squared_error: 4.8716e-04\n",
      "Epoch 2/5\n",
      "37/37 [==============================] - 1s 22ms/step - loss: 5.2287e-04 - mean_squared_error: 5.2287e-04\n",
      "Epoch 3/5\n",
      "37/37 [==============================] - 1s 22ms/step - loss: 4.9226e-04 - mean_squared_error: 4.9226e-04\n",
      "Epoch 4/5\n",
      "37/37 [==============================] - 1s 23ms/step - loss: 5.5127e-04 - mean_squared_error: 5.5127e-04\n",
      "Epoch 5/5\n",
      "37/37 [==============================] - 1s 24ms/step - loss: 5.2077e-04 - mean_squared_error: 5.2077e-04\n",
      "1/1 [==============================] - 0s 26ms/step\n"
     ]
    },
    {
     "data": {
      "text/plain": [
       "array([[33211.05]], dtype=float32)"
      ]
     },
     "metadata": {},
     "output_type": "display_data"
    },
    {
     "name": "stdout",
     "output_type": "stream",
     "text": [
      "Epoch 1/5\n",
      "37/37 [==============================] - 1s 22ms/step - loss: 5.1282e-04 - mean_squared_error: 5.1282e-04\n",
      "Epoch 2/5\n",
      "37/37 [==============================] - 1s 23ms/step - loss: 5.2738e-04 - mean_squared_error: 5.2738e-04\n",
      "Epoch 3/5\n",
      "37/37 [==============================] - 1s 23ms/step - loss: 5.1687e-04 - mean_squared_error: 5.1687e-04\n",
      "Epoch 4/5\n",
      "37/37 [==============================] - 1s 22ms/step - loss: 5.3334e-04 - mean_squared_error: 5.3334e-04\n",
      "Epoch 5/5\n",
      "37/37 [==============================] - 1s 23ms/step - loss: 5.1057e-04 - mean_squared_error: 5.1057e-04\n",
      "1/1 [==============================] - 0s 29ms/step\n"
     ]
    },
    {
     "data": {
      "text/plain": [
       "array([[33501.008]], dtype=float32)"
      ]
     },
     "metadata": {},
     "output_type": "display_data"
    },
    {
     "name": "stdout",
     "output_type": "stream",
     "text": [
      "Epoch 1/5\n",
      "37/37 [==============================] - 1s 22ms/step - loss: 4.7560e-04 - mean_squared_error: 4.7560e-04\n",
      "Epoch 2/5\n",
      "37/37 [==============================] - 1s 23ms/step - loss: 5.0605e-04 - mean_squared_error: 5.0605e-04\n",
      "Epoch 3/5\n",
      "37/37 [==============================] - 1s 23ms/step - loss: 4.7812e-04 - mean_squared_error: 4.7812e-04\n",
      "Epoch 4/5\n",
      "37/37 [==============================] - 1s 22ms/step - loss: 4.8949e-04 - mean_squared_error: 4.8949e-04\n",
      "Epoch 5/5\n",
      "37/37 [==============================] - 1s 23ms/step - loss: 5.1552e-04 - mean_squared_error: 5.1552e-04\n",
      "1/1 [==============================] - 0s 31ms/step\n"
     ]
    },
    {
     "data": {
      "text/plain": [
       "array([[33639.46]], dtype=float32)"
      ]
     },
     "metadata": {},
     "output_type": "display_data"
    },
    {
     "name": "stdout",
     "output_type": "stream",
     "text": [
      "Epoch 1/5\n",
      "37/37 [==============================] - 1s 25ms/step - loss: 5.4780e-04 - mean_squared_error: 5.4780e-04\n",
      "Epoch 2/5\n",
      "37/37 [==============================] - 1s 22ms/step - loss: 5.3951e-04 - mean_squared_error: 5.3951e-04\n",
      "Epoch 3/5\n",
      "37/37 [==============================] - 1s 23ms/step - loss: 5.0908e-04 - mean_squared_error: 5.0908e-04\n",
      "Epoch 4/5\n",
      "37/37 [==============================] - 1s 22ms/step - loss: 4.7883e-04 - mean_squared_error: 4.7883e-04\n",
      "Epoch 5/5\n",
      "37/37 [==============================] - 1s 23ms/step - loss: 5.4086e-04 - mean_squared_error: 5.4086e-04\n",
      "1/1 [==============================] - 0s 27ms/step\n"
     ]
    },
    {
     "data": {
      "text/plain": [
       "array([[32718.16]], dtype=float32)"
      ]
     },
     "metadata": {},
     "output_type": "display_data"
    },
    {
     "name": "stdout",
     "output_type": "stream",
     "text": [
      "Epoch 1/5\n",
      "37/37 [==============================] - 1s 23ms/step - loss: 5.2042e-04 - mean_squared_error: 5.2042e-04\n",
      "Epoch 2/5\n",
      "37/37 [==============================] - 1s 22ms/step - loss: 5.3506e-04 - mean_squared_error: 5.3506e-04\n",
      "Epoch 3/5\n",
      "37/37 [==============================] - 1s 22ms/step - loss: 5.2106e-04 - mean_squared_error: 5.2106e-04\n",
      "Epoch 4/5\n",
      "37/37 [==============================] - 1s 23ms/step - loss: 5.2428e-04 - mean_squared_error: 5.2428e-04\n",
      "Epoch 5/5\n",
      "37/37 [==============================] - 1s 22ms/step - loss: 5.2348e-04 - mean_squared_error: 5.2348e-04\n",
      "1/1 [==============================] - 0s 29ms/step\n"
     ]
    },
    {
     "data": {
      "text/plain": [
       "array([[33116.05]], dtype=float32)"
      ]
     },
     "metadata": {},
     "output_type": "display_data"
    },
    {
     "name": "stdout",
     "output_type": "stream",
     "text": [
      "Epoch 1/5\n",
      "37/37 [==============================] - 1s 23ms/step - loss: 5.2800e-04 - mean_squared_error: 5.2800e-04\n",
      "Epoch 2/5\n",
      "37/37 [==============================] - 1s 24ms/step - loss: 5.1158e-04 - mean_squared_error: 5.1158e-04\n",
      "Epoch 3/5\n",
      "37/37 [==============================] - 1s 23ms/step - loss: 5.1070e-04 - mean_squared_error: 5.1070e-04\n",
      "Epoch 4/5\n",
      "37/37 [==============================] - 1s 22ms/step - loss: 4.9914e-04 - mean_squared_error: 4.9914e-04\n",
      "Epoch 5/5\n",
      "37/37 [==============================] - 1s 22ms/step - loss: 5.3644e-04 - mean_squared_error: 5.3644e-04\n",
      "1/1 [==============================] - 0s 30ms/step\n"
     ]
    },
    {
     "data": {
      "text/plain": [
       "array([[33418.676]], dtype=float32)"
      ]
     },
     "metadata": {},
     "output_type": "display_data"
    },
    {
     "name": "stdout",
     "output_type": "stream",
     "text": [
      "Epoch 1/5\n",
      "37/37 [==============================] - 1s 23ms/step - loss: 4.8243e-04 - mean_squared_error: 4.8243e-04\n",
      "Epoch 2/5\n",
      "37/37 [==============================] - 1s 22ms/step - loss: 4.7990e-04 - mean_squared_error: 4.7990e-04\n",
      "Epoch 3/5\n",
      "37/37 [==============================] - 1s 22ms/step - loss: 4.8528e-04 - mean_squared_error: 4.8528e-04\n",
      "Epoch 4/5\n",
      "37/37 [==============================] - 1s 23ms/step - loss: 4.9193e-04 - mean_squared_error: 4.9193e-04\n",
      "Epoch 5/5\n",
      "37/37 [==============================] - 1s 23ms/step - loss: 4.9695e-04 - mean_squared_error: 4.9695e-04\n",
      "1/1 [==============================] - 0s 29ms/step\n"
     ]
    },
    {
     "data": {
      "text/plain": [
       "array([[32892.72]], dtype=float32)"
      ]
     },
     "metadata": {},
     "output_type": "display_data"
    },
    {
     "name": "stdout",
     "output_type": "stream",
     "text": [
      "Epoch 1/5\n",
      "37/37 [==============================] - 1s 23ms/step - loss: 5.0687e-04 - mean_squared_error: 5.0687e-04\n",
      "Epoch 2/5\n",
      "37/37 [==============================] - 1s 23ms/step - loss: 5.2183e-04 - mean_squared_error: 5.2183e-04\n",
      "Epoch 3/5\n",
      "37/37 [==============================] - 1s 23ms/step - loss: 5.3040e-04 - mean_squared_error: 5.3040e-04\n",
      "Epoch 4/5\n",
      "37/37 [==============================] - 1s 23ms/step - loss: 5.0290e-04 - mean_squared_error: 5.0290e-04\n",
      "Epoch 5/5\n",
      "37/37 [==============================] - 1s 22ms/step - loss: 4.7171e-04 - mean_squared_error: 4.7171e-04\n",
      "1/1 [==============================] - 0s 30ms/step\n"
     ]
    },
    {
     "data": {
      "text/plain": [
       "array([[33323.45]], dtype=float32)"
      ]
     },
     "metadata": {},
     "output_type": "display_data"
    },
    {
     "name": "stdout",
     "output_type": "stream",
     "text": [
      "Epoch 1/5\n",
      "37/37 [==============================] - 1s 23ms/step - loss: 4.7078e-04 - mean_squared_error: 4.7078e-04\n",
      "Epoch 2/5\n",
      "37/37 [==============================] - 1s 26ms/step - loss: 5.2197e-04 - mean_squared_error: 5.2197e-04\n",
      "Epoch 3/5\n",
      "37/37 [==============================] - 1s 23ms/step - loss: 4.7714e-04 - mean_squared_error: 4.7714e-04\n",
      "Epoch 4/5\n",
      "37/37 [==============================] - 1s 23ms/step - loss: 5.4978e-04 - mean_squared_error: 5.4978e-04\n",
      "Epoch 5/5\n",
      "37/37 [==============================] - 1s 23ms/step - loss: 4.9943e-04 - mean_squared_error: 4.9943e-04\n",
      "1/1 [==============================] - 0s 30ms/step\n"
     ]
    },
    {
     "data": {
      "text/plain": [
       "array([[33039.83]], dtype=float32)"
      ]
     },
     "metadata": {},
     "output_type": "display_data"
    },
    {
     "name": "stdout",
     "output_type": "stream",
     "text": [
      "Epoch 1/5\n",
      "37/37 [==============================] - 1s 24ms/step - loss: 5.2234e-04 - mean_squared_error: 5.2234e-04\n",
      "Epoch 2/5\n",
      "37/37 [==============================] - 1s 22ms/step - loss: 4.5983e-04 - mean_squared_error: 4.5983e-04\n",
      "Epoch 3/5\n",
      "37/37 [==============================] - 1s 23ms/step - loss: 5.4460e-04 - mean_squared_error: 5.4460e-04\n",
      "Epoch 4/5\n",
      "37/37 [==============================] - 1s 24ms/step - loss: 4.8501e-04 - mean_squared_error: 4.8501e-04\n",
      "Epoch 5/5\n",
      "37/37 [==============================] - 1s 26ms/step - loss: 5.0845e-04 - mean_squared_error: 5.0845e-04\n",
      "1/1 [==============================] - 0s 49ms/step\n"
     ]
    },
    {
     "data": {
      "text/plain": [
       "array([[33384.4]], dtype=float32)"
      ]
     },
     "metadata": {},
     "output_type": "display_data"
    },
    {
     "name": "stdout",
     "output_type": "stream",
     "text": [
      "Epoch 1/5\n",
      "37/37 [==============================] - 1s 27ms/step - loss: 4.8750e-04 - mean_squared_error: 4.8750e-04\n",
      "Epoch 2/5\n",
      "37/37 [==============================] - 1s 23ms/step - loss: 4.5701e-04 - mean_squared_error: 4.5701e-04\n",
      "Epoch 3/5\n",
      "37/37 [==============================] - 1s 23ms/step - loss: 4.9238e-04 - mean_squared_error: 4.9238e-04\n",
      "Epoch 4/5\n",
      "37/37 [==============================] - 1s 23ms/step - loss: 4.8995e-04 - mean_squared_error: 4.8995e-04\n",
      "Epoch 5/5\n",
      "37/37 [==============================] - 1s 22ms/step - loss: 5.1421e-04 - mean_squared_error: 5.1421e-04\n",
      "1/1 [==============================] - 0s 30ms/step\n"
     ]
    },
    {
     "data": {
      "text/plain": [
       "array([[33758.824]], dtype=float32)"
      ]
     },
     "metadata": {},
     "output_type": "display_data"
    },
    {
     "name": "stdout",
     "output_type": "stream",
     "text": [
      "Epoch 1/5\n",
      "37/37 [==============================] - 1s 22ms/step - loss: 4.9565e-04 - mean_squared_error: 4.9565e-04\n",
      "Epoch 2/5\n",
      "37/37 [==============================] - 1s 23ms/step - loss: 5.9425e-04 - mean_squared_error: 5.9425e-04\n",
      "Epoch 3/5\n",
      "37/37 [==============================] - 1s 22ms/step - loss: 4.9233e-04 - mean_squared_error: 4.9233e-04\n",
      "Epoch 4/5\n",
      "37/37 [==============================] - 1s 22ms/step - loss: 5.2926e-04 - mean_squared_error: 5.2926e-04\n",
      "Epoch 5/5\n",
      "37/37 [==============================] - 1s 22ms/step - loss: 4.7867e-04 - mean_squared_error: 4.7867e-04\n",
      "1/1 [==============================] - 0s 29ms/step\n"
     ]
    },
    {
     "data": {
      "text/plain": [
       "array([[33651.17]], dtype=float32)"
      ]
     },
     "metadata": {},
     "output_type": "display_data"
    },
    {
     "name": "stdout",
     "output_type": "stream",
     "text": [
      "Epoch 1/5\n",
      "37/37 [==============================] - 1s 23ms/step - loss: 5.2598e-04 - mean_squared_error: 5.2598e-04\n",
      "Epoch 2/5\n",
      "37/37 [==============================] - 1s 24ms/step - loss: 4.8235e-04 - mean_squared_error: 4.8235e-04\n",
      "Epoch 3/5\n",
      "37/37 [==============================] - 1s 22ms/step - loss: 4.5052e-04 - mean_squared_error: 4.5052e-04\n",
      "Epoch 4/5\n",
      "37/37 [==============================] - 1s 23ms/step - loss: 5.4219e-04 - mean_squared_error: 5.4219e-04\n",
      "Epoch 5/5\n",
      "37/37 [==============================] - 1s 25ms/step - loss: 5.5201e-04 - mean_squared_error: 5.5201e-04\n",
      "1/1 [==============================] - 0s 30ms/step\n"
     ]
    },
    {
     "data": {
      "text/plain": [
       "array([[34428.254]], dtype=float32)"
      ]
     },
     "metadata": {},
     "output_type": "display_data"
    },
    {
     "name": "stdout",
     "output_type": "stream",
     "text": [
      "Epoch 1/5\n",
      "38/38 [==============================] - 1s 23ms/step - loss: 4.7846e-04 - mean_squared_error: 4.7846e-04\n",
      "Epoch 2/5\n",
      "38/38 [==============================] - 1s 23ms/step - loss: 5.2723e-04 - mean_squared_error: 5.2723e-04\n",
      "Epoch 3/5\n",
      "38/38 [==============================] - 1s 23ms/step - loss: 4.9397e-04 - mean_squared_error: 4.9397e-04\n",
      "Epoch 4/5\n",
      "38/38 [==============================] - 1s 22ms/step - loss: 5.4249e-04 - mean_squared_error: 5.4249e-04\n",
      "Epoch 5/5\n",
      "38/38 [==============================] - 1s 21ms/step - loss: 5.1162e-04 - mean_squared_error: 5.1162e-04\n",
      "1/1 [==============================] - 0s 31ms/step\n"
     ]
    },
    {
     "data": {
      "text/plain": [
       "array([[35447.195]], dtype=float32)"
      ]
     },
     "metadata": {},
     "output_type": "display_data"
    },
    {
     "name": "stdout",
     "output_type": "stream",
     "text": [
      "Epoch 1/5\n",
      "38/38 [==============================] - 1s 22ms/step - loss: 5.2150e-04 - mean_squared_error: 5.2150e-04\n",
      "Epoch 2/5\n",
      "38/38 [==============================] - 1s 23ms/step - loss: 4.8228e-04 - mean_squared_error: 4.8228e-04\n",
      "Epoch 3/5\n",
      "38/38 [==============================] - 1s 22ms/step - loss: 4.8141e-04 - mean_squared_error: 4.8141e-04\n",
      "Epoch 4/5\n",
      "38/38 [==============================] - 1s 22ms/step - loss: 5.0350e-04 - mean_squared_error: 5.0350e-04\n",
      "Epoch 5/5\n",
      "38/38 [==============================] - 1s 23ms/step - loss: 4.9267e-04 - mean_squared_error: 4.9267e-04\n",
      "1/1 [==============================] - 0s 28ms/step\n"
     ]
    },
    {
     "data": {
      "text/plain": [
       "array([[35829.992]], dtype=float32)"
      ]
     },
     "metadata": {},
     "output_type": "display_data"
    },
    {
     "name": "stdout",
     "output_type": "stream",
     "text": [
      "Epoch 1/5\n",
      "38/38 [==============================] - 1s 23ms/step - loss: 4.7025e-04 - mean_squared_error: 4.7025e-04\n",
      "Epoch 2/5\n",
      "38/38 [==============================] - 1s 22ms/step - loss: 5.9536e-04 - mean_squared_error: 5.9536e-04\n",
      "Epoch 3/5\n",
      "38/38 [==============================] - 1s 22ms/step - loss: 5.3873e-04 - mean_squared_error: 5.3873e-04\n",
      "Epoch 4/5\n",
      "38/38 [==============================] - 1s 23ms/step - loss: 5.3592e-04 - mean_squared_error: 5.3592e-04\n",
      "Epoch 5/5\n",
      "38/38 [==============================] - 1s 22ms/step - loss: 5.0756e-04 - mean_squared_error: 5.0756e-04\n",
      "1/1 [==============================] - 0s 33ms/step\n"
     ]
    },
    {
     "data": {
      "text/plain": [
       "array([[35216.91]], dtype=float32)"
      ]
     },
     "metadata": {},
     "output_type": "display_data"
    },
    {
     "name": "stdout",
     "output_type": "stream",
     "text": [
      "Epoch 1/5\n",
      "38/38 [==============================] - 1s 22ms/step - loss: 5.2123e-04 - mean_squared_error: 5.2123e-04\n",
      "Epoch 2/5\n",
      "38/38 [==============================] - 1s 23ms/step - loss: 4.8948e-04 - mean_squared_error: 4.8948e-04\n",
      "Epoch 3/5\n",
      "38/38 [==============================] - 1s 24ms/step - loss: 4.7441e-04 - mean_squared_error: 4.7441e-04\n",
      "Epoch 4/5\n",
      "38/38 [==============================] - 1s 22ms/step - loss: 4.6987e-04 - mean_squared_error: 4.6987e-04\n",
      "Epoch 5/5\n",
      "38/38 [==============================] - 1s 23ms/step - loss: 5.0572e-04 - mean_squared_error: 5.0572e-04\n",
      "1/1 [==============================] - 0s 28ms/step\n"
     ]
    },
    {
     "data": {
      "text/plain": [
       "array([[35289.098]], dtype=float32)"
      ]
     },
     "metadata": {},
     "output_type": "display_data"
    },
    {
     "name": "stdout",
     "output_type": "stream",
     "text": [
      "Epoch 1/5\n",
      "38/38 [==============================] - 1s 23ms/step - loss: 4.8736e-04 - mean_squared_error: 4.8736e-04\n",
      "Epoch 2/5\n",
      "38/38 [==============================] - 1s 22ms/step - loss: 4.9323e-04 - mean_squared_error: 4.9323e-04\n",
      "Epoch 3/5\n",
      "38/38 [==============================] - 1s 23ms/step - loss: 4.9505e-04 - mean_squared_error: 4.9505e-04\n",
      "Epoch 4/5\n",
      "38/38 [==============================] - 1s 23ms/step - loss: 5.2273e-04 - mean_squared_error: 5.2273e-04\n",
      "Epoch 5/5\n",
      "38/38 [==============================] - 1s 22ms/step - loss: 5.1795e-04 - mean_squared_error: 5.1795e-04\n",
      "1/1 [==============================] - 0s 31ms/step\n"
     ]
    },
    {
     "data": {
      "text/plain": [
       "array([[34793.613]], dtype=float32)"
      ]
     },
     "metadata": {},
     "output_type": "display_data"
    },
    {
     "name": "stdout",
     "output_type": "stream",
     "text": [
      "Epoch 1/5\n",
      "38/38 [==============================] - 1s 22ms/step - loss: 4.7220e-04 - mean_squared_error: 4.7220e-04\n",
      "Epoch 2/5\n",
      "38/38 [==============================] - 1s 23ms/step - loss: 5.0340e-04 - mean_squared_error: 5.0340e-04\n",
      "Epoch 3/5\n",
      "38/38 [==============================] - 1s 23ms/step - loss: 5.3880e-04 - mean_squared_error: 5.3880e-04\n",
      "Epoch 4/5\n",
      "38/38 [==============================] - 1s 23ms/step - loss: 4.6657e-04 - mean_squared_error: 4.6657e-04\n",
      "Epoch 5/5\n",
      "38/38 [==============================] - 1s 22ms/step - loss: 4.8684e-04 - mean_squared_error: 4.8684e-04\n",
      "1/1 [==============================] - 0s 27ms/step\n"
     ]
    },
    {
     "data": {
      "text/plain": [
       "array([[35297.125]], dtype=float32)"
      ]
     },
     "metadata": {},
     "output_type": "display_data"
    },
    {
     "name": "stdout",
     "output_type": "stream",
     "text": [
      "Epoch 1/5\n",
      "38/38 [==============================] - 1s 22ms/step - loss: 5.1202e-04 - mean_squared_error: 5.1202e-04\n",
      "Epoch 2/5\n",
      "38/38 [==============================] - 1s 22ms/step - loss: 4.5460e-04 - mean_squared_error: 4.5460e-04\n",
      "Epoch 3/5\n",
      "38/38 [==============================] - 1s 22ms/step - loss: 4.9068e-04 - mean_squared_error: 4.9068e-04\n",
      "Epoch 4/5\n",
      "38/38 [==============================] - 1s 22ms/step - loss: 4.9199e-04 - mean_squared_error: 4.9199e-04\n",
      "Epoch 5/5\n",
      "38/38 [==============================] - 1s 23ms/step - loss: 4.7474e-04 - mean_squared_error: 4.7474e-04\n",
      "1/1 [==============================] - 0s 27ms/step\n"
     ]
    },
    {
     "data": {
      "text/plain": [
       "array([[35111.867]], dtype=float32)"
      ]
     },
     "metadata": {},
     "output_type": "display_data"
    },
    {
     "name": "stdout",
     "output_type": "stream",
     "text": [
      "Epoch 1/5\n",
      "38/38 [==============================] - 1s 31ms/step - loss: 4.9213e-04 - mean_squared_error: 4.9213e-04\n",
      "Epoch 2/5\n",
      "38/38 [==============================] - 2s 41ms/step - loss: 4.7823e-04 - mean_squared_error: 4.7823e-04\n",
      "Epoch 3/5\n",
      "38/38 [==============================] - 2s 44ms/step - loss: 4.9979e-04 - mean_squared_error: 4.9979e-04\n",
      "Epoch 4/5\n",
      "38/38 [==============================] - 2s 41ms/step - loss: 4.6934e-04 - mean_squared_error: 4.6934e-04\n",
      "Epoch 5/5\n",
      "38/38 [==============================] - 2s 40ms/step - loss: 4.9985e-04 - mean_squared_error: 4.9985e-04\n",
      "1/1 [==============================] - 0s 30ms/step\n"
     ]
    },
    {
     "data": {
      "text/plain": [
       "array([[34930.855]], dtype=float32)"
      ]
     },
     "metadata": {},
     "output_type": "display_data"
    },
    {
     "name": "stdout",
     "output_type": "stream",
     "text": [
      "Epoch 1/5\n",
      "38/38 [==============================] - 1s 22ms/step - loss: 4.7991e-04 - mean_squared_error: 4.7991e-04\n",
      "Epoch 2/5\n",
      "38/38 [==============================] - 1s 27ms/step - loss: 5.3039e-04 - mean_squared_error: 5.3039e-04\n",
      "Epoch 3/5\n",
      "38/38 [==============================] - 1s 22ms/step - loss: 4.9619e-04 - mean_squared_error: 4.9619e-04\n",
      "Epoch 4/5\n",
      "38/38 [==============================] - 1s 24ms/step - loss: 4.8460e-04 - mean_squared_error: 4.8460e-04\n",
      "Epoch 5/5\n",
      "38/38 [==============================] - 1s 23ms/step - loss: 4.6986e-04 - mean_squared_error: 4.6986e-04\n",
      "1/1 [==============================] - 0s 28ms/step\n"
     ]
    },
    {
     "data": {
      "text/plain": [
       "array([[35009.65]], dtype=float32)"
      ]
     },
     "metadata": {},
     "output_type": "display_data"
    },
    {
     "name": "stdout",
     "output_type": "stream",
     "text": [
      "Epoch 1/5\n",
      "38/38 [==============================] - 1s 22ms/step - loss: 4.8583e-04 - mean_squared_error: 4.8583e-04\n",
      "Epoch 2/5\n",
      "38/38 [==============================] - 1s 22ms/step - loss: 5.1899e-04 - mean_squared_error: 5.1899e-04\n",
      "Epoch 3/5\n",
      "38/38 [==============================] - 1s 22ms/step - loss: 4.9191e-04 - mean_squared_error: 4.9191e-04\n",
      "Epoch 4/5\n",
      "38/38 [==============================] - 1s 23ms/step - loss: 4.6596e-04 - mean_squared_error: 4.6596e-04\n",
      "Epoch 5/5\n",
      "38/38 [==============================] - 1s 22ms/step - loss: 4.8760e-04 - mean_squared_error: 4.8760e-04\n",
      "1/1 [==============================] - 0s 29ms/step\n"
     ]
    },
    {
     "data": {
      "text/plain": [
       "array([[35647.11]], dtype=float32)"
      ]
     },
     "metadata": {},
     "output_type": "display_data"
    },
    {
     "name": "stdout",
     "output_type": "stream",
     "text": [
      "Epoch 1/5\n",
      "38/38 [==============================] - 1s 23ms/step - loss: 4.8417e-04 - mean_squared_error: 4.8417e-04\n",
      "Epoch 2/5\n",
      "38/38 [==============================] - 1s 22ms/step - loss: 4.5158e-04 - mean_squared_error: 4.5158e-04\n",
      "Epoch 3/5\n",
      "38/38 [==============================] - 1s 22ms/step - loss: 5.0411e-04 - mean_squared_error: 5.0411e-04\n",
      "Epoch 4/5\n",
      "38/38 [==============================] - 1s 23ms/step - loss: 4.8700e-04 - mean_squared_error: 4.8700e-04\n",
      "Epoch 5/5\n",
      "38/38 [==============================] - 1s 22ms/step - loss: 5.1273e-04 - mean_squared_error: 5.1273e-04\n",
      "1/1 [==============================] - 0s 28ms/step\n"
     ]
    },
    {
     "data": {
      "text/plain": [
       "array([[35374.492]], dtype=float32)"
      ]
     },
     "metadata": {},
     "output_type": "display_data"
    },
    {
     "name": "stdout",
     "output_type": "stream",
     "text": [
      "Epoch 1/5\n",
      "38/38 [==============================] - 1s 23ms/step - loss: 4.9425e-04 - mean_squared_error: 4.9425e-04\n",
      "Epoch 2/5\n",
      "38/38 [==============================] - 1s 28ms/step - loss: 5.2098e-04 - mean_squared_error: 5.2098e-04\n",
      "Epoch 3/5\n",
      "38/38 [==============================] - 1s 36ms/step - loss: 4.7382e-04 - mean_squared_error: 4.7382e-04\n",
      "Epoch 4/5\n",
      "38/38 [==============================] - 1s 36ms/step - loss: 4.8183e-04 - mean_squared_error: 4.8183e-04\n",
      "Epoch 5/5\n",
      "38/38 [==============================] - 1s 30ms/step - loss: 4.8731e-04 - mean_squared_error: 4.8731e-04\n",
      "1/1 [==============================] - 0s 30ms/step\n"
     ]
    },
    {
     "data": {
      "text/plain": [
       "array([[35285.99]], dtype=float32)"
      ]
     },
     "metadata": {},
     "output_type": "display_data"
    },
    {
     "name": "stdout",
     "output_type": "stream",
     "text": [
      "Epoch 1/5\n",
      "38/38 [==============================] - 1s 23ms/step - loss: 4.8940e-04 - mean_squared_error: 4.8940e-04\n",
      "Epoch 2/5\n",
      "38/38 [==============================] - 1s 23ms/step - loss: 4.7910e-04 - mean_squared_error: 4.7910e-04\n",
      "Epoch 3/5\n",
      "38/38 [==============================] - 1s 23ms/step - loss: 4.9414e-04 - mean_squared_error: 4.9414e-04\n",
      "Epoch 4/5\n",
      "38/38 [==============================] - 1s 23ms/step - loss: 4.6727e-04 - mean_squared_error: 4.6727e-04\n",
      "Epoch 5/5\n",
      "38/38 [==============================] - 1s 22ms/step - loss: 5.2208e-04 - mean_squared_error: 5.2208e-04\n",
      "1/1 [==============================] - 0s 31ms/step\n"
     ]
    },
    {
     "data": {
      "text/plain": [
       "array([[34988.582]], dtype=float32)"
      ]
     },
     "metadata": {},
     "output_type": "display_data"
    },
    {
     "name": "stdout",
     "output_type": "stream",
     "text": [
      "Epoch 1/5\n",
      "38/38 [==============================] - 1s 26ms/step - loss: 4.6564e-04 - mean_squared_error: 4.6564e-04\n",
      "Epoch 2/5\n",
      "38/38 [==============================] - 1s 22ms/step - loss: 5.1732e-04 - mean_squared_error: 5.1732e-04\n",
      "Epoch 3/5\n",
      "38/38 [==============================] - 1s 22ms/step - loss: 5.1789e-04 - mean_squared_error: 5.1789e-04\n",
      "Epoch 4/5\n",
      "38/38 [==============================] - 1s 22ms/step - loss: 4.5924e-04 - mean_squared_error: 4.5924e-04\n",
      "Epoch 5/5\n",
      "38/38 [==============================] - 1s 23ms/step - loss: 4.7799e-04 - mean_squared_error: 4.7799e-04\n",
      "1/1 [==============================] - 0s 31ms/step\n"
     ]
    },
    {
     "data": {
      "text/plain": [
       "array([[35126.492]], dtype=float32)"
      ]
     },
     "metadata": {},
     "output_type": "display_data"
    },
    {
     "name": "stdout",
     "output_type": "stream",
     "text": [
      "Epoch 1/5\n",
      "38/38 [==============================] - 1s 24ms/step - loss: 4.6306e-04 - mean_squared_error: 4.6306e-04\n",
      "Epoch 2/5\n",
      "38/38 [==============================] - 1s 23ms/step - loss: 4.8017e-04 - mean_squared_error: 4.8017e-04\n",
      "Epoch 3/5\n",
      "38/38 [==============================] - 1s 24ms/step - loss: 4.4947e-04 - mean_squared_error: 4.4947e-04\n",
      "Epoch 4/5\n",
      "38/38 [==============================] - 1s 23ms/step - loss: 4.7274e-04 - mean_squared_error: 4.7274e-04\n",
      "Epoch 5/5\n",
      "38/38 [==============================] - 1s 22ms/step - loss: 4.7494e-04 - mean_squared_error: 4.7494e-04\n",
      "1/1 [==============================] - 0s 27ms/step\n"
     ]
    },
    {
     "data": {
      "text/plain": [
       "array([[35824.63]], dtype=float32)"
      ]
     },
     "metadata": {},
     "output_type": "display_data"
    },
    {
     "name": "stdout",
     "output_type": "stream",
     "text": [
      "Epoch 1/5\n",
      "38/38 [==============================] - 1s 23ms/step - loss: 4.6306e-04 - mean_squared_error: 4.6306e-04\n",
      "Epoch 2/5\n",
      "38/38 [==============================] - 1s 23ms/step - loss: 4.6478e-04 - mean_squared_error: 4.6478e-04\n",
      "Epoch 3/5\n",
      "38/38 [==============================] - 1s 23ms/step - loss: 4.7130e-04 - mean_squared_error: 4.7130e-04\n",
      "Epoch 4/5\n",
      "38/38 [==============================] - 1s 23ms/step - loss: 4.8764e-04 - mean_squared_error: 4.8764e-04\n",
      "Epoch 5/5\n",
      "38/38 [==============================] - 1s 22ms/step - loss: 4.7665e-04 - mean_squared_error: 4.7665e-04\n",
      "1/1 [==============================] - 0s 28ms/step\n"
     ]
    },
    {
     "data": {
      "text/plain": [
       "array([[36105.05]], dtype=float32)"
      ]
     },
     "metadata": {},
     "output_type": "display_data"
    },
    {
     "name": "stdout",
     "output_type": "stream",
     "text": [
      "Epoch 1/5\n",
      "38/38 [==============================] - 1s 22ms/step - loss: 4.7820e-04 - mean_squared_error: 4.7820e-04\n",
      "Epoch 2/5\n",
      "38/38 [==============================] - 1s 24ms/step - loss: 5.2559e-04 - mean_squared_error: 5.2559e-04\n",
      "Epoch 3/5\n",
      "38/38 [==============================] - 1s 25ms/step - loss: 4.8386e-04 - mean_squared_error: 4.8386e-04\n",
      "Epoch 4/5\n",
      "38/38 [==============================] - 1s 24ms/step - loss: 4.7113e-04 - mean_squared_error: 4.7113e-04\n",
      "Epoch 5/5\n",
      "38/38 [==============================] - 1s 22ms/step - loss: 5.0029e-04 - mean_squared_error: 5.0029e-04\n",
      "1/1 [==============================] - 0s 32ms/step\n"
     ]
    },
    {
     "data": {
      "text/plain": [
       "array([[35654.305]], dtype=float32)"
      ]
     },
     "metadata": {},
     "output_type": "display_data"
    },
    {
     "name": "stdout",
     "output_type": "stream",
     "text": [
      "Epoch 1/5\n",
      "38/38 [==============================] - 1s 24ms/step - loss: 5.0012e-04 - mean_squared_error: 5.0012e-04\n",
      "Epoch 2/5\n",
      "38/38 [==============================] - 1s 22ms/step - loss: 4.6704e-04 - mean_squared_error: 4.6704e-04\n",
      "Epoch 3/5\n",
      "38/38 [==============================] - 1s 23ms/step - loss: 4.9114e-04 - mean_squared_error: 4.9114e-04\n",
      "Epoch 4/5\n",
      "38/38 [==============================] - 1s 23ms/step - loss: 4.7773e-04 - mean_squared_error: 4.7773e-04\n",
      "Epoch 5/5\n",
      "38/38 [==============================] - 1s 22ms/step - loss: 4.8614e-04 - mean_squared_error: 4.8614e-04\n",
      "1/1 [==============================] - 0s 28ms/step\n"
     ]
    },
    {
     "data": {
      "text/plain": [
       "array([[35936.965]], dtype=float32)"
      ]
     },
     "metadata": {},
     "output_type": "display_data"
    },
    {
     "name": "stdout",
     "output_type": "stream",
     "text": [
      "Epoch 1/5\n",
      "38/38 [==============================] - 1s 23ms/step - loss: 4.4823e-04 - mean_squared_error: 4.4823e-04\n",
      "Epoch 2/5\n",
      "38/38 [==============================] - 1s 24ms/step - loss: 4.6583e-04 - mean_squared_error: 4.6583e-04\n",
      "Epoch 3/5\n",
      "38/38 [==============================] - 1s 22ms/step - loss: 4.8247e-04 - mean_squared_error: 4.8247e-04\n",
      "Epoch 4/5\n",
      "38/38 [==============================] - 1s 24ms/step - loss: 4.7633e-04 - mean_squared_error: 4.7633e-04\n",
      "Epoch 5/5\n",
      "38/38 [==============================] - 1s 23ms/step - loss: 4.8352e-04 - mean_squared_error: 4.8352e-04\n",
      "1/1 [==============================] - 0s 29ms/step\n"
     ]
    },
    {
     "data": {
      "text/plain": [
       "array([[36407.934]], dtype=float32)"
      ]
     },
     "metadata": {},
     "output_type": "display_data"
    },
    {
     "name": "stdout",
     "output_type": "stream",
     "text": [
      "Epoch 1/5\n",
      "38/38 [==============================] - 1s 25ms/step - loss: 4.7237e-04 - mean_squared_error: 4.7237e-04\n",
      "Epoch 2/5\n",
      "38/38 [==============================] - 1s 30ms/step - loss: 4.7238e-04 - mean_squared_error: 4.7238e-04\n",
      "Epoch 3/5\n",
      "38/38 [==============================] - 1s 30ms/step - loss: 4.6986e-04 - mean_squared_error: 4.6986e-04\n",
      "Epoch 4/5\n",
      "38/38 [==============================] - 1s 23ms/step - loss: 4.7229e-04 - mean_squared_error: 4.7229e-04\n",
      "Epoch 5/5\n",
      "38/38 [==============================] - 1s 22ms/step - loss: 4.3266e-04 - mean_squared_error: 4.3266e-04\n",
      "1/1 [==============================] - 0s 31ms/step\n"
     ]
    },
    {
     "data": {
      "text/plain": [
       "array([[35680.95]], dtype=float32)"
      ]
     },
     "metadata": {},
     "output_type": "display_data"
    },
    {
     "name": "stdout",
     "output_type": "stream",
     "text": [
      "Epoch 1/5\n",
      "38/38 [==============================] - 1s 24ms/step - loss: 4.5768e-04 - mean_squared_error: 4.5768e-04\n",
      "Epoch 2/5\n",
      "38/38 [==============================] - 1s 27ms/step - loss: 4.5540e-04 - mean_squared_error: 4.5540e-04\n",
      "Epoch 3/5\n",
      "38/38 [==============================] - 1s 29ms/step - loss: 4.8140e-04 - mean_squared_error: 4.8140e-04\n",
      "Epoch 4/5\n",
      "38/38 [==============================] - 1s 23ms/step - loss: 4.6768e-04 - mean_squared_error: 4.6768e-04\n",
      "Epoch 5/5\n",
      "38/38 [==============================] - 1s 23ms/step - loss: 4.4624e-04 - mean_squared_error: 4.4624e-04\n",
      "1/1 [==============================] - 0s 28ms/step\n"
     ]
    },
    {
     "data": {
      "text/plain": [
       "array([[35797.094]], dtype=float32)"
      ]
     },
     "metadata": {},
     "output_type": "display_data"
    },
    {
     "name": "stdout",
     "output_type": "stream",
     "text": [
      "Epoch 1/5\n",
      "38/38 [==============================] - 1s 24ms/step - loss: 4.8090e-04 - mean_squared_error: 4.8090e-04\n",
      "Epoch 2/5\n",
      "38/38 [==============================] - 1s 27ms/step - loss: 4.5736e-04 - mean_squared_error: 4.5736e-04\n",
      "Epoch 3/5\n",
      "38/38 [==============================] - 1s 23ms/step - loss: 4.4700e-04 - mean_squared_error: 4.4700e-04\n",
      "Epoch 4/5\n",
      "38/38 [==============================] - 1s 22ms/step - loss: 5.1581e-04 - mean_squared_error: 5.1581e-04\n",
      "Epoch 5/5\n",
      "38/38 [==============================] - 1s 23ms/step - loss: 4.6430e-04 - mean_squared_error: 4.6430e-04\n",
      "1/1 [==============================] - 0s 29ms/step\n"
     ]
    },
    {
     "data": {
      "text/plain": [
       "array([[35463.582]], dtype=float32)"
      ]
     },
     "metadata": {},
     "output_type": "display_data"
    },
    {
     "name": "stdout",
     "output_type": "stream",
     "text": [
      "Epoch 1/5\n",
      "38/38 [==============================] - 1s 23ms/step - loss: 4.5249e-04 - mean_squared_error: 4.5249e-04\n",
      "Epoch 2/5\n",
      "38/38 [==============================] - 1s 23ms/step - loss: 4.7567e-04 - mean_squared_error: 4.7567e-04\n",
      "Epoch 3/5\n",
      "38/38 [==============================] - 1s 25ms/step - loss: 4.5362e-04 - mean_squared_error: 4.5362e-04\n",
      "Epoch 4/5\n",
      "38/38 [==============================] - 1s 26ms/step - loss: 4.6699e-04 - mean_squared_error: 4.6699e-04\n",
      "Epoch 5/5\n",
      "38/38 [==============================] - 1s 25ms/step - loss: 4.6383e-04 - mean_squared_error: 4.6383e-04\n",
      "1/1 [==============================] - 0s 29ms/step\n"
     ]
    },
    {
     "data": {
      "text/plain": [
       "array([[35116.098]], dtype=float32)"
      ]
     },
     "metadata": {},
     "output_type": "display_data"
    },
    {
     "name": "stdout",
     "output_type": "stream",
     "text": [
      "Epoch 1/5\n",
      "38/38 [==============================] - 1s 23ms/step - loss: 4.5513e-04 - mean_squared_error: 4.5513e-04\n",
      "Epoch 2/5\n",
      "38/38 [==============================] - 1s 22ms/step - loss: 4.7541e-04 - mean_squared_error: 4.7541e-04\n",
      "Epoch 3/5\n",
      "38/38 [==============================] - 1s 22ms/step - loss: 4.6387e-04 - mean_squared_error: 4.6387e-04\n",
      "Epoch 4/5\n",
      "38/38 [==============================] - 1s 22ms/step - loss: 4.4146e-04 - mean_squared_error: 4.4146e-04\n",
      "Epoch 5/5\n",
      "38/38 [==============================] - 1s 22ms/step - loss: 4.3426e-04 - mean_squared_error: 4.3426e-04\n",
      "1/1 [==============================] - 0s 30ms/step\n"
     ]
    },
    {
     "data": {
      "text/plain": [
       "array([[34978.32]], dtype=float32)"
      ]
     },
     "metadata": {},
     "output_type": "display_data"
    },
    {
     "name": "stdout",
     "output_type": "stream",
     "text": [
      "Epoch 1/5\n",
      "38/38 [==============================] - 1s 24ms/step - loss: 4.4063e-04 - mean_squared_error: 4.4063e-04\n",
      "Epoch 2/5\n",
      "38/38 [==============================] - 1s 22ms/step - loss: 4.8153e-04 - mean_squared_error: 4.8153e-04\n",
      "Epoch 3/5\n",
      "38/38 [==============================] - 1s 22ms/step - loss: 4.6172e-04 - mean_squared_error: 4.6172e-04\n",
      "Epoch 4/5\n",
      "38/38 [==============================] - 1s 24ms/step - loss: 4.4681e-04 - mean_squared_error: 4.4681e-04\n",
      "Epoch 5/5\n",
      "38/38 [==============================] - 1s 23ms/step - loss: 4.8533e-04 - mean_squared_error: 4.8533e-04\n",
      "1/1 [==============================] - 0s 28ms/step\n"
     ]
    },
    {
     "data": {
      "text/plain": [
       "array([[34640.062]], dtype=float32)"
      ]
     },
     "metadata": {},
     "output_type": "display_data"
    },
    {
     "name": "stdout",
     "output_type": "stream",
     "text": [
      "Epoch 1/5\n",
      "38/38 [==============================] - 1s 24ms/step - loss: 4.4994e-04 - mean_squared_error: 4.4994e-04\n",
      "Epoch 2/5\n",
      "38/38 [==============================] - 1s 25ms/step - loss: 4.3998e-04 - mean_squared_error: 4.3998e-04\n",
      "Epoch 3/5\n",
      "38/38 [==============================] - 1s 22ms/step - loss: 4.7765e-04 - mean_squared_error: 4.7765e-04\n",
      "Epoch 4/5\n",
      "38/38 [==============================] - 1s 23ms/step - loss: 4.7949e-04 - mean_squared_error: 4.7949e-04\n",
      "Epoch 5/5\n",
      "38/38 [==============================] - 1s 23ms/step - loss: 4.7197e-04 - mean_squared_error: 4.7197e-04\n",
      "1/1 [==============================] - 0s 29ms/step\n"
     ]
    },
    {
     "data": {
      "text/plain": [
       "array([[34623.29]], dtype=float32)"
      ]
     },
     "metadata": {},
     "output_type": "display_data"
    },
    {
     "name": "stdout",
     "output_type": "stream",
     "text": [
      "Epoch 1/5\n",
      "38/38 [==============================] - 1s 23ms/step - loss: 4.8009e-04 - mean_squared_error: 4.8009e-04\n",
      "Epoch 2/5\n",
      "38/38 [==============================] - 1s 23ms/step - loss: 4.8668e-04 - mean_squared_error: 4.8668e-04\n",
      "Epoch 3/5\n",
      "38/38 [==============================] - 1s 23ms/step - loss: 4.8073e-04 - mean_squared_error: 4.8073e-04\n",
      "Epoch 4/5\n",
      "38/38 [==============================] - 1s 27ms/step - loss: 4.8000e-04 - mean_squared_error: 4.8000e-04\n",
      "Epoch 5/5\n",
      "38/38 [==============================] - 1s 24ms/step - loss: 4.5892e-04 - mean_squared_error: 4.5892e-04\n",
      "1/1 [==============================] - 0s 31ms/step\n"
     ]
    },
    {
     "data": {
      "text/plain": [
       "array([[34153.504]], dtype=float32)"
      ]
     },
     "metadata": {},
     "output_type": "display_data"
    },
    {
     "name": "stdout",
     "output_type": "stream",
     "text": [
      "Epoch 1/5\n",
      "38/38 [==============================] - 1s 22ms/step - loss: 4.5325e-04 - mean_squared_error: 4.5325e-04\n",
      "Epoch 2/5\n",
      "38/38 [==============================] - 1s 25ms/step - loss: 5.0517e-04 - mean_squared_error: 5.0517e-04\n",
      "Epoch 3/5\n",
      "38/38 [==============================] - 1s 23ms/step - loss: 4.5654e-04 - mean_squared_error: 4.5654e-04\n",
      "Epoch 4/5\n",
      "38/38 [==============================] - 1s 33ms/step - loss: 4.6290e-04 - mean_squared_error: 4.6290e-04\n",
      "Epoch 5/5\n",
      "38/38 [==============================] - 1s 22ms/step - loss: 4.5380e-04 - mean_squared_error: 4.5380e-04\n",
      "1/1 [==============================] - 0s 27ms/step\n"
     ]
    },
    {
     "data": {
      "text/plain": [
       "array([[34030.57]], dtype=float32)"
      ]
     },
     "metadata": {},
     "output_type": "display_data"
    },
    {
     "name": "stdout",
     "output_type": "stream",
     "text": [
      "Epoch 1/5\n",
      "38/38 [==============================] - 1s 23ms/step - loss: 4.8262e-04 - mean_squared_error: 4.8262e-04\n",
      "Epoch 2/5\n",
      "38/38 [==============================] - 1s 22ms/step - loss: 4.7525e-04 - mean_squared_error: 4.7525e-04\n",
      "Epoch 3/5\n",
      "38/38 [==============================] - 1s 23ms/step - loss: 4.5161e-04 - mean_squared_error: 4.5161e-04\n",
      "Epoch 4/5\n",
      "38/38 [==============================] - 1s 23ms/step - loss: 4.6691e-04 - mean_squared_error: 4.6691e-04\n",
      "Epoch 5/5\n",
      "38/38 [==============================] - 1s 24ms/step - loss: 4.9159e-04 - mean_squared_error: 4.9159e-04\n",
      "1/1 [==============================] - 0s 31ms/step\n"
     ]
    },
    {
     "data": {
      "text/plain": [
       "array([[34044.543]], dtype=float32)"
      ]
     },
     "metadata": {},
     "output_type": "display_data"
    },
    {
     "name": "stdout",
     "output_type": "stream",
     "text": [
      "Epoch 1/5\n",
      "38/38 [==============================] - 1s 22ms/step - loss: 4.5771e-04 - mean_squared_error: 4.5771e-04\n",
      "Epoch 2/5\n",
      "38/38 [==============================] - 1s 24ms/step - loss: 4.7850e-04 - mean_squared_error: 4.7850e-04\n",
      "Epoch 3/5\n",
      "38/38 [==============================] - 1s 22ms/step - loss: 4.8366e-04 - mean_squared_error: 4.8366e-04\n",
      "Epoch 4/5\n",
      "38/38 [==============================] - 1s 22ms/step - loss: 4.6215e-04 - mean_squared_error: 4.6215e-04\n",
      "Epoch 5/5\n",
      "38/38 [==============================] - 1s 23ms/step - loss: 4.4544e-04 - mean_squared_error: 4.4544e-04\n",
      "1/1 [==============================] - 0s 30ms/step\n"
     ]
    },
    {
     "data": {
      "text/plain": [
       "array([[33914.11]], dtype=float32)"
      ]
     },
     "metadata": {},
     "output_type": "display_data"
    },
    {
     "name": "stdout",
     "output_type": "stream",
     "text": [
      "Epoch 1/5\n",
      "38/38 [==============================] - 1s 22ms/step - loss: 4.6754e-04 - mean_squared_error: 4.6754e-04\n",
      "Epoch 2/5\n",
      "38/38 [==============================] - 1s 22ms/step - loss: 4.7286e-04 - mean_squared_error: 4.7286e-04\n",
      "Epoch 3/5\n",
      "38/38 [==============================] - 1s 23ms/step - loss: 4.8324e-04 - mean_squared_error: 4.8324e-04\n",
      "Epoch 4/5\n",
      "38/38 [==============================] - 1s 23ms/step - loss: 4.4977e-04 - mean_squared_error: 4.4977e-04\n",
      "Epoch 5/5\n",
      "38/38 [==============================] - 1s 22ms/step - loss: 4.5399e-04 - mean_squared_error: 4.5399e-04\n",
      "1/1 [==============================] - 0s 31ms/step\n"
     ]
    },
    {
     "data": {
      "text/plain": [
       "array([[34381.625]], dtype=float32)"
      ]
     },
     "metadata": {},
     "output_type": "display_data"
    },
    {
     "name": "stdout",
     "output_type": "stream",
     "text": [
      "Epoch 1/5\n",
      "38/38 [==============================] - 1s 27ms/step - loss: 4.5545e-04 - mean_squared_error: 4.5545e-04\n",
      "Epoch 2/5\n",
      "38/38 [==============================] - 1s 23ms/step - loss: 4.2209e-04 - mean_squared_error: 4.2209e-04\n",
      "Epoch 3/5\n",
      "38/38 [==============================] - 1s 25ms/step - loss: 4.4833e-04 - mean_squared_error: 4.4833e-04\n",
      "Epoch 4/5\n",
      "38/38 [==============================] - 1s 24ms/step - loss: 4.4091e-04 - mean_squared_error: 4.4091e-04\n",
      "Epoch 5/5\n",
      "38/38 [==============================] - 1s 25ms/step - loss: 4.4274e-04 - mean_squared_error: 4.4274e-04\n",
      "1/1 [==============================] - 0s 28ms/step\n"
     ]
    },
    {
     "data": {
      "text/plain": [
       "array([[34235.395]], dtype=float32)"
      ]
     },
     "metadata": {},
     "output_type": "display_data"
    },
    {
     "name": "stdout",
     "output_type": "stream",
     "text": [
      "Epoch 1/5\n",
      "39/39 [==============================] - 1s 23ms/step - loss: 4.5839e-04 - mean_squared_error: 4.5839e-04\n",
      "Epoch 2/5\n",
      "39/39 [==============================] - 1s 22ms/step - loss: 6.4478e-04 - mean_squared_error: 6.4478e-04\n",
      "Epoch 3/5\n",
      "39/39 [==============================] - 1s 22ms/step - loss: 4.9864e-04 - mean_squared_error: 4.9864e-04\n",
      "Epoch 4/5\n",
      "39/39 [==============================] - 1s 22ms/step - loss: 4.5480e-04 - mean_squared_error: 4.5480e-04\n",
      "Epoch 5/5\n",
      "39/39 [==============================] - 1s 22ms/step - loss: 4.6787e-04 - mean_squared_error: 4.6787e-04\n",
      "1/1 [==============================] - 0s 31ms/step\n"
     ]
    },
    {
     "data": {
      "text/plain": [
       "array([[35080.67]], dtype=float32)"
      ]
     },
     "metadata": {},
     "output_type": "display_data"
    },
    {
     "name": "stdout",
     "output_type": "stream",
     "text": [
      "Epoch 1/5\n",
      "39/39 [==============================] - 1s 22ms/step - loss: 4.8821e-04 - mean_squared_error: 4.8821e-04\n",
      "Epoch 2/5\n",
      "39/39 [==============================] - 1s 23ms/step - loss: 5.8487e-04 - mean_squared_error: 5.8487e-04\n",
      "Epoch 3/5\n",
      "39/39 [==============================] - 1s 22ms/step - loss: 4.6384e-04 - mean_squared_error: 4.6384e-04\n",
      "Epoch 4/5\n",
      "39/39 [==============================] - 1s 22ms/step - loss: 4.5967e-04 - mean_squared_error: 4.5967e-04\n",
      "Epoch 5/5\n",
      "39/39 [==============================] - 1s 22ms/step - loss: 4.3775e-04 - mean_squared_error: 4.3775e-04\n",
      "1/1 [==============================] - 0s 28ms/step\n"
     ]
    },
    {
     "data": {
      "text/plain": [
       "array([[36072.34]], dtype=float32)"
      ]
     },
     "metadata": {},
     "output_type": "display_data"
    },
    {
     "name": "stdout",
     "output_type": "stream",
     "text": [
      "Epoch 1/5\n",
      "39/39 [==============================] - 1s 23ms/step - loss: 4.7273e-04 - mean_squared_error: 4.7273e-04\n",
      "Epoch 2/5\n",
      "39/39 [==============================] - 1s 23ms/step - loss: 4.7064e-04 - mean_squared_error: 4.7064e-04\n",
      "Epoch 3/5\n",
      "39/39 [==============================] - 1s 22ms/step - loss: 4.3319e-04 - mean_squared_error: 4.3319e-04\n",
      "Epoch 4/5\n",
      "39/39 [==============================] - 1s 23ms/step - loss: 4.6086e-04 - mean_squared_error: 4.6086e-04\n",
      "Epoch 5/5\n",
      "39/39 [==============================] - 1s 28ms/step - loss: 5.1928e-04 - mean_squared_error: 5.1928e-04\n",
      "1/1 [==============================] - 0s 27ms/step\n"
     ]
    },
    {
     "data": {
      "text/plain": [
       "array([[36589.387]], dtype=float32)"
      ]
     },
     "metadata": {},
     "output_type": "display_data"
    },
    {
     "name": "stdout",
     "output_type": "stream",
     "text": [
      "Epoch 1/5\n",
      "39/39 [==============================] - 1s 23ms/step - loss: 4.5040e-04 - mean_squared_error: 4.5040e-04\n",
      "Epoch 2/5\n",
      "39/39 [==============================] - 1s 22ms/step - loss: 4.5793e-04 - mean_squared_error: 4.5793e-04\n",
      "Epoch 3/5\n",
      "39/39 [==============================] - 1s 23ms/step - loss: 4.2644e-04 - mean_squared_error: 4.2644e-04\n",
      "Epoch 4/5\n",
      "39/39 [==============================] - 1s 24ms/step - loss: 4.5245e-04 - mean_squared_error: 4.5245e-04\n",
      "Epoch 5/5\n",
      "39/39 [==============================] - 1s 24ms/step - loss: 4.7966e-04 - mean_squared_error: 4.7966e-04\n",
      "1/1 [==============================] - 0s 34ms/step\n"
     ]
    },
    {
     "data": {
      "text/plain": [
       "array([[36883.523]], dtype=float32)"
      ]
     },
     "metadata": {},
     "output_type": "display_data"
    },
    {
     "name": "stdout",
     "output_type": "stream",
     "text": [
      "Epoch 1/5\n",
      "39/39 [==============================] - 1s 27ms/step - loss: 4.6108e-04 - mean_squared_error: 4.6108e-04\n",
      "Epoch 2/5\n",
      "39/39 [==============================] - 1s 25ms/step - loss: 4.6044e-04 - mean_squared_error: 4.6044e-04\n",
      "Epoch 3/5\n",
      "39/39 [==============================] - 1s 28ms/step - loss: 4.7296e-04 - mean_squared_error: 4.7296e-04\n",
      "Epoch 4/5\n",
      "39/39 [==============================] - 1s 33ms/step - loss: 4.2758e-04 - mean_squared_error: 4.2758e-04\n",
      "Epoch 5/5\n",
      "39/39 [==============================] - 1s 25ms/step - loss: 4.5756e-04 - mean_squared_error: 4.5756e-04\n",
      "1/1 [==============================] - 0s 27ms/step\n"
     ]
    },
    {
     "data": {
      "text/plain": [
       "array([[36298.004]], dtype=float32)"
      ]
     },
     "metadata": {},
     "output_type": "display_data"
    },
    {
     "name": "stdout",
     "output_type": "stream",
     "text": [
      "Epoch 1/5\n",
      "39/39 [==============================] - 1s 26ms/step - loss: 4.6145e-04 - mean_squared_error: 4.6145e-04\n",
      "Epoch 2/5\n",
      "39/39 [==============================] - 1s 23ms/step - loss: 4.6512e-04 - mean_squared_error: 4.6512e-04\n",
      "Epoch 3/5\n",
      "39/39 [==============================] - 1s 23ms/step - loss: 4.3875e-04 - mean_squared_error: 4.3875e-04\n",
      "Epoch 4/5\n",
      "39/39 [==============================] - 1s 25ms/step - loss: 4.3661e-04 - mean_squared_error: 4.3661e-04\n",
      "Epoch 5/5\n",
      "39/39 [==============================] - 2s 39ms/step - loss: 4.5381e-04 - mean_squared_error: 4.5381e-04\n",
      "1/1 [==============================] - 0s 30ms/step\n"
     ]
    },
    {
     "data": {
      "text/plain": [
       "array([[36412.426]], dtype=float32)"
      ]
     },
     "metadata": {},
     "output_type": "display_data"
    },
    {
     "name": "stdout",
     "output_type": "stream",
     "text": [
      "Epoch 1/5\n",
      "39/39 [==============================] - 1s 27ms/step - loss: 4.5147e-04 - mean_squared_error: 4.5147e-04\n",
      "Epoch 2/5\n",
      "39/39 [==============================] - 1s 27ms/step - loss: 4.7416e-04 - mean_squared_error: 4.7416e-04\n",
      "Epoch 3/5\n",
      "39/39 [==============================] - 1s 24ms/step - loss: 4.6396e-04 - mean_squared_error: 4.6396e-04\n",
      "Epoch 4/5\n",
      "39/39 [==============================] - 1s 23ms/step - loss: 4.4838e-04 - mean_squared_error: 4.4838e-04\n",
      "Epoch 5/5\n",
      "39/39 [==============================] - 1s 23ms/step - loss: 4.4819e-04 - mean_squared_error: 4.4819e-04\n",
      "1/1 [==============================] - 0s 36ms/step\n"
     ]
    },
    {
     "data": {
      "text/plain": [
       "array([[36279.16]], dtype=float32)"
      ]
     },
     "metadata": {},
     "output_type": "display_data"
    },
    {
     "name": "stdout",
     "output_type": "stream",
     "text": [
      "Epoch 1/5\n",
      "39/39 [==============================] - 1s 26ms/step - loss: 4.3263e-04 - mean_squared_error: 4.3263e-04\n",
      "Epoch 2/5\n",
      "39/39 [==============================] - 1s 29ms/step - loss: 4.4329e-04 - mean_squared_error: 4.4329e-04\n",
      "Epoch 3/5\n",
      "39/39 [==============================] - 1s 25ms/step - loss: 4.5195e-04 - mean_squared_error: 4.5195e-04\n",
      "Epoch 4/5\n",
      "39/39 [==============================] - 1s 25ms/step - loss: 4.6397e-04 - mean_squared_error: 4.6397e-04\n",
      "Epoch 5/5\n",
      "39/39 [==============================] - 1s 24ms/step - loss: 4.6411e-04 - mean_squared_error: 4.6411e-04\n",
      "1/1 [==============================] - 0s 30ms/step\n"
     ]
    },
    {
     "data": {
      "text/plain": [
       "array([[36582.297]], dtype=float32)"
      ]
     },
     "metadata": {},
     "output_type": "display_data"
    },
    {
     "name": "stdout",
     "output_type": "stream",
     "text": [
      "Epoch 1/5\n",
      "39/39 [==============================] - 1s 25ms/step - loss: 4.0939e-04 - mean_squared_error: 4.0939e-04\n",
      "Epoch 2/5\n",
      "39/39 [==============================] - 1s 25ms/step - loss: 4.6619e-04 - mean_squared_error: 4.6619e-04\n",
      "Epoch 3/5\n",
      "39/39 [==============================] - 1s 23ms/step - loss: 4.4337e-04 - mean_squared_error: 4.4337e-04\n",
      "Epoch 4/5\n",
      "39/39 [==============================] - 1s 23ms/step - loss: 4.3615e-04 - mean_squared_error: 4.3615e-04\n",
      "Epoch 5/5\n",
      "39/39 [==============================] - 1s 25ms/step - loss: 4.5542e-04 - mean_squared_error: 4.5542e-04\n",
      "1/1 [==============================] - 0s 29ms/step\n"
     ]
    },
    {
     "data": {
      "text/plain": [
       "array([[36684.703]], dtype=float32)"
      ]
     },
     "metadata": {},
     "output_type": "display_data"
    },
    {
     "name": "stdout",
     "output_type": "stream",
     "text": [
      "Epoch 1/5\n",
      "39/39 [==============================] - 1s 23ms/step - loss: 4.2460e-04 - mean_squared_error: 4.2460e-04\n",
      "Epoch 2/5\n",
      "39/39 [==============================] - 1s 22ms/step - loss: 4.3201e-04 - mean_squared_error: 4.3201e-04\n",
      "Epoch 3/5\n",
      "39/39 [==============================] - 1s 24ms/step - loss: 4.3520e-04 - mean_squared_error: 4.3520e-04\n",
      "Epoch 4/5\n",
      "39/39 [==============================] - 1s 23ms/step - loss: 4.2548e-04 - mean_squared_error: 4.2548e-04\n",
      "Epoch 5/5\n",
      "39/39 [==============================] - 1s 27ms/step - loss: 4.5383e-04 - mean_squared_error: 4.5383e-04\n",
      "1/1 [==============================] - 0s 29ms/step\n"
     ]
    },
    {
     "data": {
      "text/plain": [
       "array([[36969.227]], dtype=float32)"
      ]
     },
     "metadata": {},
     "output_type": "display_data"
    },
    {
     "name": "stdout",
     "output_type": "stream",
     "text": [
      "Epoch 1/5\n",
      "39/39 [==============================] - 1s 23ms/step - loss: 4.1257e-04 - mean_squared_error: 4.1257e-04\n",
      "Epoch 2/5\n",
      "39/39 [==============================] - 1s 23ms/step - loss: 4.2936e-04 - mean_squared_error: 4.2936e-04\n",
      "Epoch 3/5\n",
      "39/39 [==============================] - 1s 23ms/step - loss: 4.7016e-04 - mean_squared_error: 4.7016e-04\n",
      "Epoch 4/5\n",
      "39/39 [==============================] - 1s 22ms/step - loss: 4.5512e-04 - mean_squared_error: 4.5512e-04\n",
      "Epoch 5/5\n",
      "39/39 [==============================] - 1s 22ms/step - loss: 4.7508e-04 - mean_squared_error: 4.7508e-04\n",
      "1/1 [==============================] - 0s 29ms/step\n"
     ]
    },
    {
     "data": {
      "text/plain": [
       "array([[37509.953]], dtype=float32)"
      ]
     },
     "metadata": {},
     "output_type": "display_data"
    },
    {
     "name": "stdout",
     "output_type": "stream",
     "text": [
      "Epoch 1/5\n",
      "39/39 [==============================] - 1s 23ms/step - loss: 4.4850e-04 - mean_squared_error: 4.4850e-04\n",
      "Epoch 2/5\n",
      "39/39 [==============================] - 1s 22ms/step - loss: 4.5766e-04 - mean_squared_error: 4.5766e-04\n",
      "Epoch 3/5\n",
      "39/39 [==============================] - 1s 22ms/step - loss: 4.2885e-04 - mean_squared_error: 4.2885e-04\n",
      "Epoch 4/5\n",
      "39/39 [==============================] - 1s 23ms/step - loss: 4.3839e-04 - mean_squared_error: 4.3839e-04\n",
      "Epoch 5/5\n",
      "39/39 [==============================] - 1s 23ms/step - loss: 4.5792e-04 - mean_squared_error: 4.5792e-04\n",
      "1/1 [==============================] - 0s 58ms/step\n"
     ]
    },
    {
     "data": {
      "text/plain": [
       "array([[37316.484]], dtype=float32)"
      ]
     },
     "metadata": {},
     "output_type": "display_data"
    },
    {
     "name": "stdout",
     "output_type": "stream",
     "text": [
      "Epoch 1/5\n",
      "39/39 [==============================] - 1s 26ms/step - loss: 4.4352e-04 - mean_squared_error: 4.4352e-04\n",
      "Epoch 2/5\n",
      "39/39 [==============================] - 1s 30ms/step - loss: 4.5659e-04 - mean_squared_error: 4.5659e-04\n",
      "Epoch 3/5\n",
      "39/39 [==============================] - 1s 22ms/step - loss: 4.7317e-04 - mean_squared_error: 4.7317e-04\n",
      "Epoch 4/5\n",
      "39/39 [==============================] - 1s 24ms/step - loss: 4.2543e-04 - mean_squared_error: 4.2543e-04\n",
      "Epoch 5/5\n",
      "39/39 [==============================] - 1s 24ms/step - loss: 4.5349e-04 - mean_squared_error: 4.5349e-04\n",
      "1/1 [==============================] - 0s 29ms/step\n"
     ]
    },
    {
     "data": {
      "text/plain": [
       "array([[37230.625]], dtype=float32)"
      ]
     },
     "metadata": {},
     "output_type": "display_data"
    },
    {
     "name": "stdout",
     "output_type": "stream",
     "text": [
      "Epoch 1/5\n",
      "39/39 [==============================] - 1s 27ms/step - loss: 4.3683e-04 - mean_squared_error: 4.3683e-04\n",
      "Epoch 2/5\n",
      "39/39 [==============================] - 1s 27ms/step - loss: 4.5340e-04 - mean_squared_error: 4.5340e-04\n",
      "Epoch 3/5\n",
      "39/39 [==============================] - 2s 38ms/step - loss: 4.7112e-04 - mean_squared_error: 4.7112e-04\n",
      "Epoch 4/5\n",
      "39/39 [==============================] - 1s 26ms/step - loss: 4.4330e-04 - mean_squared_error: 4.4330e-04\n",
      "Epoch 5/5\n",
      "39/39 [==============================] - 2s 40ms/step - loss: 4.5534e-04 - mean_squared_error: 4.5534e-04\n",
      "1/1 [==============================] - 0s 52ms/step\n"
     ]
    },
    {
     "data": {
      "text/plain": [
       "array([[37487.156]], dtype=float32)"
      ]
     },
     "metadata": {},
     "output_type": "display_data"
    },
    {
     "name": "stdout",
     "output_type": "stream",
     "text": [
      "Epoch 1/5\n",
      "39/39 [==============================] - 1s 30ms/step - loss: 4.2812e-04 - mean_squared_error: 4.2812e-04\n",
      "Epoch 2/5\n",
      "39/39 [==============================] - 2s 46ms/step - loss: 4.4815e-04 - mean_squared_error: 4.4815e-04\n",
      "Epoch 3/5\n",
      "39/39 [==============================] - 2s 43ms/step - loss: 5.0108e-04 - mean_squared_error: 5.0108e-04\n",
      "Epoch 4/5\n",
      "39/39 [==============================] - 1s 38ms/step - loss: 4.4276e-04 - mean_squared_error: 4.4276e-04\n",
      "Epoch 5/5\n",
      "39/39 [==============================] - 1s 24ms/step - loss: 4.9033e-04 - mean_squared_error: 4.9033e-04\n",
      "1/1 [==============================] - 0s 32ms/step\n"
     ]
    },
    {
     "data": {
      "text/plain": [
       "array([[37513.895]], dtype=float32)"
      ]
     },
     "metadata": {},
     "output_type": "display_data"
    },
    {
     "name": "stdout",
     "output_type": "stream",
     "text": [
      "Epoch 1/5\n",
      "39/39 [==============================] - 1s 24ms/step - loss: 4.2420e-04 - mean_squared_error: 4.2420e-04\n",
      "Epoch 2/5\n",
      "39/39 [==============================] - 1s 23ms/step - loss: 4.2033e-04 - mean_squared_error: 4.2033e-04\n",
      "Epoch 3/5\n",
      "39/39 [==============================] - 1s 25ms/step - loss: 4.5663e-04 - mean_squared_error: 4.5663e-04\n",
      "Epoch 4/5\n",
      "39/39 [==============================] - 1s 34ms/step - loss: 4.2489e-04 - mean_squared_error: 4.2489e-04\n",
      "Epoch 5/5\n",
      "39/39 [==============================] - 1s 29ms/step - loss: 5.0498e-04 - mean_squared_error: 5.0498e-04\n",
      "1/1 [==============================] - 0s 27ms/step\n"
     ]
    },
    {
     "data": {
      "text/plain": [
       "array([[37106.383]], dtype=float32)"
      ]
     },
     "metadata": {},
     "output_type": "display_data"
    },
    {
     "name": "stdout",
     "output_type": "stream",
     "text": [
      "Epoch 1/5\n",
      "39/39 [==============================] - 1s 23ms/step - loss: 4.3730e-04 - mean_squared_error: 4.3730e-04\n",
      "Epoch 2/5\n",
      "39/39 [==============================] - 1s 22ms/step - loss: 4.2890e-04 - mean_squared_error: 4.2890e-04\n",
      "Epoch 3/5\n",
      "39/39 [==============================] - 1s 23ms/step - loss: 3.9819e-04 - mean_squared_error: 3.9819e-04\n",
      "Epoch 4/5\n",
      "39/39 [==============================] - 1s 23ms/step - loss: 4.3612e-04 - mean_squared_error: 4.3612e-04\n",
      "Epoch 5/5\n",
      "39/39 [==============================] - 1s 25ms/step - loss: 4.6892e-04 - mean_squared_error: 4.6892e-04\n",
      "1/1 [==============================] - 0s 30ms/step\n"
     ]
    },
    {
     "data": {
      "text/plain": [
       "array([[36672.727]], dtype=float32)"
      ]
     },
     "metadata": {},
     "output_type": "display_data"
    },
    {
     "name": "stdout",
     "output_type": "stream",
     "text": [
      "Epoch 1/5\n",
      "39/39 [==============================] - 1s 23ms/step - loss: 4.5060e-04 - mean_squared_error: 4.5060e-04\n",
      "Epoch 2/5\n",
      "39/39 [==============================] - 1s 30ms/step - loss: 4.5077e-04 - mean_squared_error: 4.5077e-04\n",
      "Epoch 3/5\n",
      "39/39 [==============================] - 1s 24ms/step - loss: 4.3143e-04 - mean_squared_error: 4.3143e-04\n",
      "Epoch 4/5\n",
      "39/39 [==============================] - 1s 23ms/step - loss: 4.1749e-04 - mean_squared_error: 4.1749e-04\n",
      "Epoch 5/5\n",
      "39/39 [==============================] - 1s 22ms/step - loss: 4.4129e-04 - mean_squared_error: 4.4129e-04\n",
      "1/1 [==============================] - 0s 28ms/step\n"
     ]
    },
    {
     "data": {
      "text/plain": [
       "array([[36399.727]], dtype=float32)"
      ]
     },
     "metadata": {},
     "output_type": "display_data"
    },
    {
     "name": "stdout",
     "output_type": "stream",
     "text": [
      "Epoch 1/5\n",
      "39/39 [==============================] - 1s 23ms/step - loss: 4.3146e-04 - mean_squared_error: 4.3146e-04\n",
      "Epoch 2/5\n",
      "39/39 [==============================] - 1s 23ms/step - loss: 4.4826e-04 - mean_squared_error: 4.4826e-04\n",
      "Epoch 3/5\n",
      "39/39 [==============================] - 1s 30ms/step - loss: 4.6348e-04 - mean_squared_error: 4.6348e-04\n",
      "Epoch 4/5\n",
      "39/39 [==============================] - 1s 23ms/step - loss: 4.5437e-04 - mean_squared_error: 4.5437e-04\n",
      "Epoch 5/5\n",
      "39/39 [==============================] - 1s 22ms/step - loss: 4.4463e-04 - mean_squared_error: 4.4463e-04\n",
      "1/1 [==============================] - 0s 26ms/step\n"
     ]
    },
    {
     "data": {
      "text/plain": [
       "array([[37084.074]], dtype=float32)"
      ]
     },
     "metadata": {},
     "output_type": "display_data"
    },
    {
     "name": "stdout",
     "output_type": "stream",
     "text": [
      "Epoch 1/5\n",
      "39/39 [==============================] - 1s 23ms/step - loss: 4.2157e-04 - mean_squared_error: 4.2157e-04\n",
      "Epoch 2/5\n",
      "39/39 [==============================] - 1s 24ms/step - loss: 4.3288e-04 - mean_squared_error: 4.3288e-04\n",
      "Epoch 3/5\n",
      "39/39 [==============================] - 1s 22ms/step - loss: 4.3542e-04 - mean_squared_error: 4.3542e-04\n",
      "Epoch 4/5\n",
      "39/39 [==============================] - 1s 23ms/step - loss: 4.1410e-04 - mean_squared_error: 4.1410e-04\n",
      "Epoch 5/5\n",
      "39/39 [==============================] - 1s 23ms/step - loss: 4.7608e-04 - mean_squared_error: 4.7608e-04\n",
      "1/1 [==============================] - 0s 29ms/step\n"
     ]
    },
    {
     "data": {
      "text/plain": [
       "array([[37976.105]], dtype=float32)"
      ]
     },
     "metadata": {},
     "output_type": "display_data"
    },
    {
     "name": "stdout",
     "output_type": "stream",
     "text": [
      "Epoch 1/5\n",
      "39/39 [==============================] - 1s 26ms/step - loss: 4.7493e-04 - mean_squared_error: 4.7493e-04\n",
      "Epoch 2/5\n",
      "39/39 [==============================] - 1s 22ms/step - loss: 4.2081e-04 - mean_squared_error: 4.2081e-04\n",
      "Epoch 3/5\n",
      "39/39 [==============================] - 1s 24ms/step - loss: 4.4526e-04 - mean_squared_error: 4.4526e-04\n",
      "Epoch 4/5\n",
      "39/39 [==============================] - 1s 23ms/step - loss: 4.4484e-04 - mean_squared_error: 4.4484e-04\n",
      "Epoch 5/5\n",
      "39/39 [==============================] - 1s 23ms/step - loss: 4.5825e-04 - mean_squared_error: 4.5825e-04\n",
      "1/1 [==============================] - 0s 26ms/step\n"
     ]
    },
    {
     "data": {
      "text/plain": [
       "array([[37860.047]], dtype=float32)"
      ]
     },
     "metadata": {},
     "output_type": "display_data"
    },
    {
     "name": "stdout",
     "output_type": "stream",
     "text": [
      "Epoch 1/5\n",
      "39/39 [==============================] - 1s 23ms/step - loss: 4.7059e-04 - mean_squared_error: 4.7059e-04\n",
      "Epoch 2/5\n",
      "39/39 [==============================] - 1s 23ms/step - loss: 4.7382e-04 - mean_squared_error: 4.7382e-04\n",
      "Epoch 3/5\n",
      "39/39 [==============================] - 1s 22ms/step - loss: 4.1389e-04 - mean_squared_error: 4.1389e-04\n",
      "Epoch 4/5\n",
      "39/39 [==============================] - 1s 22ms/step - loss: 4.3352e-04 - mean_squared_error: 4.3352e-04\n",
      "Epoch 5/5\n",
      "39/39 [==============================] - 1s 23ms/step - loss: 4.7484e-04 - mean_squared_error: 4.7484e-04\n",
      "1/1 [==============================] - 0s 30ms/step\n"
     ]
    },
    {
     "data": {
      "text/plain": [
       "array([[38269.254]], dtype=float32)"
      ]
     },
     "metadata": {},
     "output_type": "display_data"
    },
    {
     "name": "stdout",
     "output_type": "stream",
     "text": [
      "Epoch 1/5\n",
      "39/39 [==============================] - 1s 23ms/step - loss: 4.3702e-04 - mean_squared_error: 4.3702e-04\n",
      "Epoch 2/5\n",
      "39/39 [==============================] - 1s 23ms/step - loss: 4.5878e-04 - mean_squared_error: 4.5878e-04\n",
      "Epoch 3/5\n",
      "39/39 [==============================] - 1s 24ms/step - loss: 4.6168e-04 - mean_squared_error: 4.6168e-04\n",
      "Epoch 4/5\n",
      "39/39 [==============================] - 1s 23ms/step - loss: 4.3653e-04 - mean_squared_error: 4.3653e-04\n",
      "Epoch 5/5\n",
      "39/39 [==============================] - 1s 23ms/step - loss: 4.1611e-04 - mean_squared_error: 4.1611e-04\n",
      "1/1 [==============================] - 0s 29ms/step\n"
     ]
    },
    {
     "data": {
      "text/plain": [
       "array([[38727.87]], dtype=float32)"
      ]
     },
     "metadata": {},
     "output_type": "display_data"
    },
    {
     "name": "stdout",
     "output_type": "stream",
     "text": [
      "Epoch 1/5\n",
      "39/39 [==============================] - 1s 23ms/step - loss: 4.0141e-04 - mean_squared_error: 4.0141e-04\n",
      "Epoch 2/5\n",
      "39/39 [==============================] - 1s 23ms/step - loss: 4.1786e-04 - mean_squared_error: 4.1786e-04\n",
      "Epoch 3/5\n",
      "39/39 [==============================] - 1s 23ms/step - loss: 4.1909e-04 - mean_squared_error: 4.1909e-04\n",
      "Epoch 4/5\n",
      "39/39 [==============================] - 1s 23ms/step - loss: 4.2459e-04 - mean_squared_error: 4.2459e-04\n",
      "Epoch 5/5\n",
      "39/39 [==============================] - 1s 22ms/step - loss: 4.4394e-04 - mean_squared_error: 4.4394e-04\n",
      "1/1 [==============================] - 0s 30ms/step\n"
     ]
    },
    {
     "data": {
      "text/plain": [
       "array([[38394.332]], dtype=float32)"
      ]
     },
     "metadata": {},
     "output_type": "display_data"
    },
    {
     "name": "stdout",
     "output_type": "stream",
     "text": [
      "Epoch 1/5\n",
      "39/39 [==============================] - 1s 23ms/step - loss: 4.2134e-04 - mean_squared_error: 4.2134e-04\n",
      "Epoch 2/5\n",
      "39/39 [==============================] - 1s 23ms/step - loss: 4.4230e-04 - mean_squared_error: 4.4230e-04\n",
      "Epoch 3/5\n",
      "39/39 [==============================] - 1s 23ms/step - loss: 4.0427e-04 - mean_squared_error: 4.0427e-04\n",
      "Epoch 4/5\n",
      "39/39 [==============================] - 1s 23ms/step - loss: 4.3999e-04 - mean_squared_error: 4.3999e-04\n",
      "Epoch 5/5\n",
      "39/39 [==============================] - 1s 22ms/step - loss: 4.2361e-04 - mean_squared_error: 4.2361e-04\n",
      "1/1 [==============================] - 0s 29ms/step\n"
     ]
    },
    {
     "data": {
      "text/plain": [
       "array([[38683.78]], dtype=float32)"
      ]
     },
     "metadata": {},
     "output_type": "display_data"
    },
    {
     "name": "stdout",
     "output_type": "stream",
     "text": [
      "Epoch 1/5\n",
      "39/39 [==============================] - 1s 23ms/step - loss: 4.2712e-04 - mean_squared_error: 4.2712e-04\n",
      "Epoch 2/5\n",
      "39/39 [==============================] - 1s 23ms/step - loss: 4.6479e-04 - mean_squared_error: 4.6479e-04\n",
      "Epoch 3/5\n",
      "39/39 [==============================] - 1s 22ms/step - loss: 4.2490e-04 - mean_squared_error: 4.2490e-04\n",
      "Epoch 4/5\n",
      "39/39 [==============================] - 1s 23ms/step - loss: 5.1892e-04 - mean_squared_error: 5.1892e-04\n",
      "Epoch 5/5\n",
      "39/39 [==============================] - 1s 22ms/step - loss: 4.7765e-04 - mean_squared_error: 4.7765e-04\n",
      "1/1 [==============================] - 0s 30ms/step\n"
     ]
    },
    {
     "data": {
      "text/plain": [
       "array([[38900.5]], dtype=float32)"
      ]
     },
     "metadata": {},
     "output_type": "display_data"
    },
    {
     "name": "stdout",
     "output_type": "stream",
     "text": [
      "Epoch 1/5\n",
      "39/39 [==============================] - 1s 23ms/step - loss: 4.1293e-04 - mean_squared_error: 4.1293e-04\n",
      "Epoch 2/5\n",
      "39/39 [==============================] - 1s 23ms/step - loss: 4.0107e-04 - mean_squared_error: 4.0107e-04\n",
      "Epoch 3/5\n",
      "39/39 [==============================] - 1s 23ms/step - loss: 4.1775e-04 - mean_squared_error: 4.1775e-04\n",
      "Epoch 4/5\n",
      "39/39 [==============================] - 1s 24ms/step - loss: 4.5995e-04 - mean_squared_error: 4.5995e-04\n",
      "Epoch 5/5\n",
      "39/39 [==============================] - 1s 23ms/step - loss: 4.4863e-04 - mean_squared_error: 4.4863e-04\n",
      "1/1 [==============================] - 0s 30ms/step\n"
     ]
    },
    {
     "data": {
      "text/plain": [
       "array([[38392.12]], dtype=float32)"
      ]
     },
     "metadata": {},
     "output_type": "display_data"
    },
    {
     "name": "stdout",
     "output_type": "stream",
     "text": [
      "Epoch 1/5\n",
      "39/39 [==============================] - 1s 23ms/step - loss: 4.4062e-04 - mean_squared_error: 4.4062e-04\n",
      "Epoch 2/5\n",
      "39/39 [==============================] - 1s 23ms/step - loss: 4.2292e-04 - mean_squared_error: 4.2292e-04\n",
      "Epoch 3/5\n",
      "39/39 [==============================] - 1s 23ms/step - loss: 4.3858e-04 - mean_squared_error: 4.3858e-04\n",
      "Epoch 4/5\n",
      "39/39 [==============================] - 1s 23ms/step - loss: 4.3137e-04 - mean_squared_error: 4.3137e-04\n",
      "Epoch 5/5\n",
      "39/39 [==============================] - 1s 24ms/step - loss: 4.0305e-04 - mean_squared_error: 4.0305e-04\n",
      "1/1 [==============================] - 0s 28ms/step\n"
     ]
    },
    {
     "data": {
      "text/plain": [
       "array([[38407.84]], dtype=float32)"
      ]
     },
     "metadata": {},
     "output_type": "display_data"
    },
    {
     "name": "stdout",
     "output_type": "stream",
     "text": [
      "Epoch 1/5\n",
      "39/39 [==============================] - 1s 28ms/step - loss: 4.1453e-04 - mean_squared_error: 4.1453e-04\n",
      "Epoch 2/5\n",
      "39/39 [==============================] - 1s 23ms/step - loss: 4.1375e-04 - mean_squared_error: 4.1375e-04\n",
      "Epoch 3/5\n",
      "39/39 [==============================] - 1s 22ms/step - loss: 4.5740e-04 - mean_squared_error: 4.5740e-04\n",
      "Epoch 4/5\n",
      "39/39 [==============================] - 1s 24ms/step - loss: 4.1311e-04 - mean_squared_error: 4.1311e-04\n",
      "Epoch 5/5\n",
      "39/39 [==============================] - 1s 23ms/step - loss: 4.3902e-04 - mean_squared_error: 4.3902e-04\n",
      "1/1 [==============================] - 0s 29ms/step\n"
     ]
    },
    {
     "data": {
      "text/plain": [
       "array([[38690.918]], dtype=float32)"
      ]
     },
     "metadata": {},
     "output_type": "display_data"
    },
    {
     "name": "stdout",
     "output_type": "stream",
     "text": [
      "Epoch 1/5\n",
      "39/39 [==============================] - 1s 24ms/step - loss: 4.2031e-04 - mean_squared_error: 4.2031e-04\n",
      "Epoch 2/5\n",
      "39/39 [==============================] - 1s 25ms/step - loss: 4.4956e-04 - mean_squared_error: 4.4956e-04\n",
      "Epoch 3/5\n",
      "39/39 [==============================] - 1s 31ms/step - loss: 4.0481e-04 - mean_squared_error: 4.0481e-04\n",
      "Epoch 4/5\n",
      "39/39 [==============================] - 1s 31ms/step - loss: 4.2383e-04 - mean_squared_error: 4.2383e-04\n",
      "Epoch 5/5\n",
      "39/39 [==============================] - 1s 26ms/step - loss: 4.3144e-04 - mean_squared_error: 4.3144e-04\n",
      "1/1 [==============================] - 0s 44ms/step\n"
     ]
    },
    {
     "data": {
      "text/plain": [
       "array([[39117.305]], dtype=float32)"
      ]
     },
     "metadata": {},
     "output_type": "display_data"
    },
    {
     "name": "stdout",
     "output_type": "stream",
     "text": [
      "Epoch 1/5\n",
      "39/39 [==============================] - 1s 28ms/step - loss: 4.5554e-04 - mean_squared_error: 4.5554e-04\n",
      "Epoch 2/5\n",
      "39/39 [==============================] - 1s 26ms/step - loss: 4.4644e-04 - mean_squared_error: 4.4644e-04\n",
      "Epoch 3/5\n",
      "39/39 [==============================] - 1s 25ms/step - loss: 4.3967e-04 - mean_squared_error: 4.3967e-04\n",
      "Epoch 4/5\n",
      "39/39 [==============================] - 1s 25ms/step - loss: 4.2260e-04 - mean_squared_error: 4.2260e-04\n",
      "Epoch 5/5\n",
      "39/39 [==============================] - 1s 22ms/step - loss: 4.1378e-04 - mean_squared_error: 4.1378e-04\n",
      "1/1 [==============================] - 0s 30ms/step\n"
     ]
    },
    {
     "data": {
      "text/plain": [
       "array([[39521.574]], dtype=float32)"
      ]
     },
     "metadata": {},
     "output_type": "display_data"
    },
    {
     "name": "stdout",
     "output_type": "stream",
     "text": [
      "Epoch 1/5\n",
      "39/39 [==============================] - 1s 24ms/step - loss: 4.3086e-04 - mean_squared_error: 4.3086e-04\n",
      "Epoch 2/5\n",
      "39/39 [==============================] - 1s 31ms/step - loss: 4.4051e-04 - mean_squared_error: 4.4051e-04\n",
      "Epoch 3/5\n",
      "39/39 [==============================] - 1s 25ms/step - loss: 3.9675e-04 - mean_squared_error: 3.9675e-04\n",
      "Epoch 4/5\n",
      "39/39 [==============================] - 1s 23ms/step - loss: 4.1581e-04 - mean_squared_error: 4.1581e-04\n",
      "Epoch 5/5\n",
      "39/39 [==============================] - 1s 23ms/step - loss: 4.1863e-04 - mean_squared_error: 4.1863e-04\n",
      "1/1 [==============================] - 0s 31ms/step\n"
     ]
    },
    {
     "data": {
      "text/plain": [
       "array([[39648.08]], dtype=float32)"
      ]
     },
     "metadata": {},
     "output_type": "display_data"
    },
    {
     "name": "stdout",
     "output_type": "stream",
     "text": [
      "Epoch 1/5\n",
      "40/40 [==============================] - 1s 24ms/step - loss: 4.2467e-04 - mean_squared_error: 4.2467e-04\n",
      "Epoch 2/5\n",
      "40/40 [==============================] - 1s 28ms/step - loss: 4.7386e-04 - mean_squared_error: 4.7386e-04\n",
      "Epoch 3/5\n",
      "40/40 [==============================] - 1s 26ms/step - loss: 4.0967e-04 - mean_squared_error: 4.0967e-04\n",
      "Epoch 4/5\n",
      "40/40 [==============================] - 1s 24ms/step - loss: 4.2024e-04 - mean_squared_error: 4.2024e-04\n",
      "Epoch 5/5\n",
      "40/40 [==============================] - 1s 23ms/step - loss: 4.1820e-04 - mean_squared_error: 4.1820e-04\n",
      "1/1 [==============================] - 0s 29ms/step\n"
     ]
    },
    {
     "data": {
      "text/plain": [
       "array([[38843.82]], dtype=float32)"
      ]
     },
     "metadata": {},
     "output_type": "display_data"
    },
    {
     "name": "stdout",
     "output_type": "stream",
     "text": [
      "Epoch 1/5\n",
      "40/40 [==============================] - 1s 23ms/step - loss: 4.2712e-04 - mean_squared_error: 4.2712e-04\n",
      "Epoch 2/5\n",
      "40/40 [==============================] - 1s 23ms/step - loss: 4.1204e-04 - mean_squared_error: 4.1204e-04\n",
      "Epoch 3/5\n",
      "40/40 [==============================] - 1s 22ms/step - loss: 4.0307e-04 - mean_squared_error: 4.0307e-04\n",
      "Epoch 4/5\n",
      "40/40 [==============================] - 1s 22ms/step - loss: 5.2291e-04 - mean_squared_error: 5.2291e-04\n",
      "Epoch 5/5\n",
      "40/40 [==============================] - 1s 23ms/step - loss: 5.9609e-04 - mean_squared_error: 5.9609e-04\n",
      "1/1 [==============================] - 0s 29ms/step\n"
     ]
    },
    {
     "data": {
      "text/plain": [
       "array([[38330.03]], dtype=float32)"
      ]
     },
     "metadata": {},
     "output_type": "display_data"
    },
    {
     "name": "stdout",
     "output_type": "stream",
     "text": [
      "Epoch 1/5\n",
      "40/40 [==============================] - 1s 22ms/step - loss: 4.0472e-04 - mean_squared_error: 4.0472e-04\n",
      "Epoch 2/5\n",
      "40/40 [==============================] - 1s 22ms/step - loss: 4.0704e-04 - mean_squared_error: 4.0704e-04\n",
      "Epoch 3/5\n",
      "40/40 [==============================] - 1s 24ms/step - loss: 4.6163e-04 - mean_squared_error: 4.6163e-04\n",
      "Epoch 4/5\n",
      "40/40 [==============================] - 1s 25ms/step - loss: 4.3355e-04 - mean_squared_error: 4.3355e-04\n",
      "Epoch 5/5\n",
      "40/40 [==============================] - 1s 33ms/step - loss: 4.3057e-04 - mean_squared_error: 4.3057e-04\n",
      "1/1 [==============================] - 0s 32ms/step\n"
     ]
    },
    {
     "data": {
      "text/plain": [
       "array([[38582.277]], dtype=float32)"
      ]
     },
     "metadata": {},
     "output_type": "display_data"
    },
    {
     "name": "stdout",
     "output_type": "stream",
     "text": [
      "Epoch 1/5\n",
      "40/40 [==============================] - 1s 23ms/step - loss: 4.0244e-04 - mean_squared_error: 4.0244e-04\n",
      "Epoch 2/5\n",
      "40/40 [==============================] - 1s 23ms/step - loss: 4.1265e-04 - mean_squared_error: 4.1265e-04\n",
      "Epoch 3/5\n",
      "40/40 [==============================] - 1s 24ms/step - loss: 4.1814e-04 - mean_squared_error: 4.1814e-04\n",
      "Epoch 4/5\n",
      "40/40 [==============================] - 1s 22ms/step - loss: 4.2368e-04 - mean_squared_error: 4.2368e-04\n",
      "Epoch 5/5\n",
      "40/40 [==============================] - 1s 22ms/step - loss: 4.2505e-04 - mean_squared_error: 4.2505e-04\n",
      "1/1 [==============================] - 0s 46ms/step\n"
     ]
    },
    {
     "data": {
      "text/plain": [
       "array([[38089.664]], dtype=float32)"
      ]
     },
     "metadata": {},
     "output_type": "display_data"
    },
    {
     "name": "stdout",
     "output_type": "stream",
     "text": [
      "Epoch 1/5\n",
      "40/40 [==============================] - 1s 28ms/step - loss: 4.3274e-04 - mean_squared_error: 4.3274e-04\n",
      "Epoch 2/5\n",
      "40/40 [==============================] - 1s 22ms/step - loss: 4.0437e-04 - mean_squared_error: 4.0437e-04\n",
      "Epoch 3/5\n",
      "40/40 [==============================] - 1s 23ms/step - loss: 3.9052e-04 - mean_squared_error: 3.9052e-04\n",
      "Epoch 4/5\n",
      "40/40 [==============================] - 1s 22ms/step - loss: 4.2779e-04 - mean_squared_error: 4.2779e-04\n",
      "Epoch 5/5\n",
      "40/40 [==============================] - 1s 24ms/step - loss: 4.1569e-04 - mean_squared_error: 4.1569e-04\n",
      "1/1 [==============================] - 0s 30ms/step\n"
     ]
    },
    {
     "data": {
      "text/plain": [
       "array([[37339.883]], dtype=float32)"
      ]
     },
     "metadata": {},
     "output_type": "display_data"
    },
    {
     "name": "stdout",
     "output_type": "stream",
     "text": [
      "Epoch 1/5\n",
      "40/40 [==============================] - 1s 31ms/step - loss: 4.0870e-04 - mean_squared_error: 4.0870e-04\n",
      "Epoch 2/5\n",
      "40/40 [==============================] - 1s 34ms/step - loss: 4.4236e-04 - mean_squared_error: 4.4236e-04\n",
      "Epoch 3/5\n",
      "40/40 [==============================] - 2s 43ms/step - loss: 4.3402e-04 - mean_squared_error: 4.3402e-04\n",
      "Epoch 4/5\n",
      "40/40 [==============================] - 2s 43ms/step - loss: 3.8440e-04 - mean_squared_error: 3.8440e-04\n",
      "Epoch 5/5\n",
      "40/40 [==============================] - 1s 24ms/step - loss: 4.0921e-04 - mean_squared_error: 4.0921e-04\n",
      "1/1 [==============================] - 0s 61ms/step\n"
     ]
    },
    {
     "data": {
      "text/plain": [
       "array([[36998.195]], dtype=float32)"
      ]
     },
     "metadata": {},
     "output_type": "display_data"
    },
    {
     "name": "stdout",
     "output_type": "stream",
     "text": [
      "Epoch 1/5\n",
      "40/40 [==============================] - 1s 36ms/step - loss: 4.2888e-04 - mean_squared_error: 4.2888e-04\n",
      "Epoch 2/5\n",
      "40/40 [==============================] - 1s 35ms/step - loss: 4.1374e-04 - mean_squared_error: 4.1374e-04\n",
      "Epoch 3/5\n",
      "40/40 [==============================] - 1s 29ms/step - loss: 4.2669e-04 - mean_squared_error: 4.2669e-04\n",
      "Epoch 4/5\n",
      "40/40 [==============================] - 1s 30ms/step - loss: 4.3438e-04 - mean_squared_error: 4.3438e-04\n",
      "Epoch 5/5\n",
      "40/40 [==============================] - 1s 26ms/step - loss: 4.2247e-04 - mean_squared_error: 4.2247e-04\n",
      "1/1 [==============================] - 0s 28ms/step\n"
     ]
    },
    {
     "data": {
      "text/plain": [
       "array([[37665.992]], dtype=float32)"
      ]
     },
     "metadata": {},
     "output_type": "display_data"
    },
    {
     "name": "stdout",
     "output_type": "stream",
     "text": [
      "Epoch 1/5\n",
      "40/40 [==============================] - 1s 23ms/step - loss: 4.2527e-04 - mean_squared_error: 4.2527e-04\n",
      "Epoch 2/5\n",
      "40/40 [==============================] - 1s 22ms/step - loss: 3.9582e-04 - mean_squared_error: 3.9582e-04\n",
      "Epoch 3/5\n",
      "40/40 [==============================] - 1s 23ms/step - loss: 4.7011e-04 - mean_squared_error: 4.7011e-04\n",
      "Epoch 4/5\n",
      "40/40 [==============================] - 1s 22ms/step - loss: 4.6118e-04 - mean_squared_error: 4.6118e-04\n",
      "Epoch 5/5\n",
      "40/40 [==============================] - 1s 22ms/step - loss: 4.0409e-04 - mean_squared_error: 4.0409e-04\n",
      "1/1 [==============================] - 0s 30ms/step\n"
     ]
    },
    {
     "data": {
      "text/plain": [
       "array([[37676.926]], dtype=float32)"
      ]
     },
     "metadata": {},
     "output_type": "display_data"
    },
    {
     "name": "stdout",
     "output_type": "stream",
     "text": [
      "Epoch 1/5\n",
      "40/40 [==============================] - 1s 24ms/step - loss: 4.0016e-04 - mean_squared_error: 4.0016e-04\n",
      "Epoch 2/5\n",
      "40/40 [==============================] - 1s 23ms/step - loss: 4.1618e-04 - mean_squared_error: 4.1618e-04\n",
      "Epoch 3/5\n",
      "40/40 [==============================] - 1s 24ms/step - loss: 4.7468e-04 - mean_squared_error: 4.7468e-04\n",
      "Epoch 4/5\n",
      "40/40 [==============================] - 1s 25ms/step - loss: 4.5746e-04 - mean_squared_error: 4.5746e-04\n",
      "Epoch 5/5\n",
      "40/40 [==============================] - 1s 29ms/step - loss: 4.0978e-04 - mean_squared_error: 4.0978e-04\n",
      "1/1 [==============================] - 0s 31ms/step\n"
     ]
    },
    {
     "data": {
      "text/plain": [
       "array([[36979.88]], dtype=float32)"
      ]
     },
     "metadata": {},
     "output_type": "display_data"
    },
    {
     "name": "stdout",
     "output_type": "stream",
     "text": [
      "Epoch 1/5\n",
      "40/40 [==============================] - 1s 27ms/step - loss: 4.2546e-04 - mean_squared_error: 4.2546e-04\n",
      "Epoch 2/5\n",
      "40/40 [==============================] - 1s 28ms/step - loss: 4.0760e-04 - mean_squared_error: 4.0760e-04\n",
      "Epoch 3/5\n",
      "40/40 [==============================] - 1s 24ms/step - loss: 4.3199e-04 - mean_squared_error: 4.3199e-04\n",
      "Epoch 4/5\n",
      "40/40 [==============================] - 1s 24ms/step - loss: 4.1929e-04 - mean_squared_error: 4.1929e-04\n",
      "Epoch 5/5\n",
      "40/40 [==============================] - 1s 25ms/step - loss: 4.3170e-04 - mean_squared_error: 4.3170e-04\n",
      "1/1 [==============================] - 0s 38ms/step\n"
     ]
    },
    {
     "data": {
      "text/plain": [
       "array([[36905.613]], dtype=float32)"
      ]
     },
     "metadata": {},
     "output_type": "display_data"
    },
    {
     "name": "stdout",
     "output_type": "stream",
     "text": [
      "Epoch 1/5\n",
      "40/40 [==============================] - 1s 28ms/step - loss: 4.1308e-04 - mean_squared_error: 4.1308e-04\n",
      "Epoch 2/5\n",
      "40/40 [==============================] - 1s 25ms/step - loss: 4.2166e-04 - mean_squared_error: 4.2166e-04\n",
      "Epoch 3/5\n",
      "40/40 [==============================] - 1s 25ms/step - loss: 4.3705e-04 - mean_squared_error: 4.3705e-04\n",
      "Epoch 4/5\n",
      "40/40 [==============================] - 1s 28ms/step - loss: 3.9197e-04 - mean_squared_error: 3.9197e-04\n",
      "Epoch 5/5\n",
      "40/40 [==============================] - 1s 35ms/step - loss: 4.0562e-04 - mean_squared_error: 4.0562e-04\n",
      "1/1 [==============================] - 0s 40ms/step\n"
     ]
    },
    {
     "data": {
      "text/plain": [
       "array([[36781.766]], dtype=float32)"
      ]
     },
     "metadata": {},
     "output_type": "display_data"
    },
    {
     "name": "stdout",
     "output_type": "stream",
     "text": [
      "Epoch 1/5\n",
      "40/40 [==============================] - 2s 38ms/step - loss: 3.9740e-04 - mean_squared_error: 3.9740e-04\n",
      "Epoch 2/5\n",
      "40/40 [==============================] - 1s 24ms/step - loss: 4.0256e-04 - mean_squared_error: 4.0256e-04\n",
      "Epoch 3/5\n",
      "40/40 [==============================] - 1s 23ms/step - loss: 4.2352e-04 - mean_squared_error: 4.2352e-04\n",
      "Epoch 4/5\n",
      "40/40 [==============================] - 1s 24ms/step - loss: 4.2615e-04 - mean_squared_error: 4.2615e-04\n",
      "Epoch 5/5\n",
      "40/40 [==============================] - 1s 35ms/step - loss: 4.7915e-04 - mean_squared_error: 4.7915e-04\n",
      "1/1 [==============================] - 0s 50ms/step\n"
     ]
    },
    {
     "data": {
      "text/plain": [
       "array([[37563.668]], dtype=float32)"
      ]
     },
     "metadata": {},
     "output_type": "display_data"
    },
    {
     "name": "stdout",
     "output_type": "stream",
     "text": [
      "Epoch 1/5\n",
      "40/40 [==============================] - 1s 29ms/step - loss: 4.4673e-04 - mean_squared_error: 4.4673e-04\n",
      "Epoch 2/5\n",
      "40/40 [==============================] - 1s 29ms/step - loss: 4.2233e-04 - mean_squared_error: 4.2233e-04\n",
      "Epoch 3/5\n",
      "40/40 [==============================] - 1s 22ms/step - loss: 4.0787e-04 - mean_squared_error: 4.0787e-04\n",
      "Epoch 4/5\n",
      "40/40 [==============================] - 1s 22ms/step - loss: 3.7011e-04 - mean_squared_error: 3.7011e-04\n",
      "Epoch 5/5\n",
      "40/40 [==============================] - 1s 23ms/step - loss: 4.1643e-04 - mean_squared_error: 4.1643e-04\n",
      "1/1 [==============================] - 0s 30ms/step\n"
     ]
    },
    {
     "data": {
      "text/plain": [
       "array([[36842.71]], dtype=float32)"
      ]
     },
     "metadata": {},
     "output_type": "display_data"
    },
    {
     "name": "stdout",
     "output_type": "stream",
     "text": [
      "Epoch 1/5\n",
      "40/40 [==============================] - 1s 23ms/step - loss: 4.1927e-04 - mean_squared_error: 4.1927e-04\n",
      "Epoch 2/5\n",
      "40/40 [==============================] - 1s 22ms/step - loss: 4.1978e-04 - mean_squared_error: 4.1978e-04\n",
      "Epoch 3/5\n",
      "40/40 [==============================] - 1s 23ms/step - loss: 4.1419e-04 - mean_squared_error: 4.1419e-04\n",
      "Epoch 4/5\n",
      "40/40 [==============================] - 1s 24ms/step - loss: 4.1935e-04 - mean_squared_error: 4.1935e-04\n",
      "Epoch 5/5\n",
      "40/40 [==============================] - 1s 24ms/step - loss: 4.1398e-04 - mean_squared_error: 4.1398e-04\n",
      "1/1 [==============================] - 0s 29ms/step\n"
     ]
    },
    {
     "data": {
      "text/plain": [
       "array([[36415.727]], dtype=float32)"
      ]
     },
     "metadata": {},
     "output_type": "display_data"
    },
    {
     "name": "stdout",
     "output_type": "stream",
     "text": [
      "Epoch 1/5\n",
      "40/40 [==============================] - 1s 23ms/step - loss: 3.8432e-04 - mean_squared_error: 3.8432e-04\n",
      "Epoch 2/5\n",
      "40/40 [==============================] - 1s 22ms/step - loss: 4.0457e-04 - mean_squared_error: 4.0457e-04\n",
      "Epoch 3/5\n",
      "40/40 [==============================] - 1s 22ms/step - loss: 4.1355e-04 - mean_squared_error: 4.1355e-04\n",
      "Epoch 4/5\n",
      "40/40 [==============================] - 1s 22ms/step - loss: 4.1067e-04 - mean_squared_error: 4.1067e-04\n",
      "Epoch 5/5\n",
      "40/40 [==============================] - 1s 22ms/step - loss: 3.9843e-04 - mean_squared_error: 3.9843e-04\n",
      "1/1 [==============================] - 0s 29ms/step\n"
     ]
    },
    {
     "data": {
      "text/plain": [
       "array([[35738.254]], dtype=float32)"
      ]
     },
     "metadata": {},
     "output_type": "display_data"
    },
    {
     "name": "stdout",
     "output_type": "stream",
     "text": [
      "Epoch 1/5\n",
      "40/40 [==============================] - 1s 23ms/step - loss: 4.0344e-04 - mean_squared_error: 4.0344e-04\n",
      "Epoch 2/5\n",
      "40/40 [==============================] - 1s 23ms/step - loss: 4.2352e-04 - mean_squared_error: 4.2352e-04\n",
      "Epoch 3/5\n",
      "40/40 [==============================] - 1s 22ms/step - loss: 4.2774e-04 - mean_squared_error: 4.2774e-04\n",
      "Epoch 4/5\n",
      "40/40 [==============================] - 1s 22ms/step - loss: 4.1800e-04 - mean_squared_error: 4.1800e-04\n",
      "Epoch 5/5\n",
      "40/40 [==============================] - 1s 24ms/step - loss: 4.1936e-04 - mean_squared_error: 4.1936e-04\n",
      "1/1 [==============================] - 0s 26ms/step\n"
     ]
    },
    {
     "data": {
      "text/plain": [
       "array([[35542.004]], dtype=float32)"
      ]
     },
     "metadata": {},
     "output_type": "display_data"
    },
    {
     "name": "stdout",
     "output_type": "stream",
     "text": [
      "Epoch 1/5\n",
      "40/40 [==============================] - 1s 23ms/step - loss: 3.9456e-04 - mean_squared_error: 3.9456e-04\n",
      "Epoch 2/5\n",
      "40/40 [==============================] - 1s 23ms/step - loss: 4.3115e-04 - mean_squared_error: 4.3115e-04\n",
      "Epoch 3/5\n",
      "40/40 [==============================] - 1s 24ms/step - loss: 4.2717e-04 - mean_squared_error: 4.2717e-04\n",
      "Epoch 4/5\n",
      "40/40 [==============================] - 1s 23ms/step - loss: 4.1485e-04 - mean_squared_error: 4.1485e-04\n",
      "Epoch 5/5\n",
      "40/40 [==============================] - 1s 23ms/step - loss: 3.9948e-04 - mean_squared_error: 3.9948e-04\n",
      "1/1 [==============================] - 0s 29ms/step\n"
     ]
    },
    {
     "data": {
      "text/plain": [
       "array([[35174.13]], dtype=float32)"
      ]
     },
     "metadata": {},
     "output_type": "display_data"
    },
    {
     "name": "stdout",
     "output_type": "stream",
     "text": [
      "Epoch 1/5\n",
      "40/40 [==============================] - 1s 24ms/step - loss: 4.0527e-04 - mean_squared_error: 4.0527e-04\n",
      "Epoch 2/5\n",
      "40/40 [==============================] - 1s 22ms/step - loss: 3.9419e-04 - mean_squared_error: 3.9419e-04\n",
      "Epoch 3/5\n",
      "40/40 [==============================] - 1s 23ms/step - loss: 4.2701e-04 - mean_squared_error: 4.2701e-04\n",
      "Epoch 4/5\n",
      "40/40 [==============================] - 1s 22ms/step - loss: 4.0161e-04 - mean_squared_error: 4.0161e-04\n",
      "Epoch 5/5\n",
      "40/40 [==============================] - 1s 23ms/step - loss: 4.2723e-04 - mean_squared_error: 4.2723e-04\n",
      "1/1 [==============================] - 0s 28ms/step\n"
     ]
    },
    {
     "data": {
      "text/plain": [
       "array([[34989.426]], dtype=float32)"
      ]
     },
     "metadata": {},
     "output_type": "display_data"
    },
    {
     "name": "stdout",
     "output_type": "stream",
     "text": [
      "Epoch 1/5\n",
      "40/40 [==============================] - 1s 22ms/step - loss: 4.1853e-04 - mean_squared_error: 4.1853e-04\n",
      "Epoch 2/5\n",
      "40/40 [==============================] - 1s 24ms/step - loss: 4.0613e-04 - mean_squared_error: 4.0613e-04\n",
      "Epoch 3/5\n",
      "40/40 [==============================] - 1s 23ms/step - loss: 4.0160e-04 - mean_squared_error: 4.0160e-04\n",
      "Epoch 4/5\n",
      "40/40 [==============================] - 1s 26ms/step - loss: 4.0393e-04 - mean_squared_error: 4.0393e-04\n",
      "Epoch 5/5\n",
      "40/40 [==============================] - 1s 26ms/step - loss: 3.8082e-04 - mean_squared_error: 3.8082e-04\n",
      "1/1 [==============================] - 0s 36ms/step\n"
     ]
    },
    {
     "data": {
      "text/plain": [
       "array([[34465.69]], dtype=float32)"
      ]
     },
     "metadata": {},
     "output_type": "display_data"
    },
    {
     "name": "stdout",
     "output_type": "stream",
     "text": [
      "Epoch 1/5\n",
      "40/40 [==============================] - 1s 31ms/step - loss: 3.9621e-04 - mean_squared_error: 3.9621e-04\n",
      "Epoch 2/5\n",
      "40/40 [==============================] - 1s 24ms/step - loss: 3.9884e-04 - mean_squared_error: 3.9884e-04\n",
      "Epoch 3/5\n",
      "40/40 [==============================] - 1s 25ms/step - loss: 4.2710e-04 - mean_squared_error: 4.2710e-04\n",
      "Epoch 4/5\n",
      "40/40 [==============================] - 1s 24ms/step - loss: 4.3242e-04 - mean_squared_error: 4.3242e-04\n",
      "Epoch 5/5\n",
      "40/40 [==============================] - 1s 27ms/step - loss: 4.1138e-04 - mean_squared_error: 4.1138e-04\n",
      "1/1 [==============================] - 0s 33ms/step\n"
     ]
    },
    {
     "data": {
      "text/plain": [
       "array([[34463.684]], dtype=float32)"
      ]
     },
     "metadata": {},
     "output_type": "display_data"
    },
    {
     "name": "stdout",
     "output_type": "stream",
     "text": [
      "Epoch 1/5\n",
      "40/40 [==============================] - 1s 27ms/step - loss: 4.2414e-04 - mean_squared_error: 4.2414e-04\n",
      "Epoch 2/5\n",
      "40/40 [==============================] - 1s 27ms/step - loss: 4.3870e-04 - mean_squared_error: 4.3870e-04\n",
      "Epoch 3/5\n",
      "40/40 [==============================] - 1s 28ms/step - loss: 4.5038e-04 - mean_squared_error: 4.5038e-04\n",
      "Epoch 4/5\n",
      "40/40 [==============================] - 1s 28ms/step - loss: 3.9615e-04 - mean_squared_error: 3.9615e-04\n",
      "Epoch 5/5\n",
      "40/40 [==============================] - 1s 22ms/step - loss: 4.2501e-04 - mean_squared_error: 4.2501e-04\n",
      "1/1 [==============================] - 0s 27ms/step\n"
     ]
    },
    {
     "data": {
      "text/plain": [
       "array([[34043.527]], dtype=float32)"
      ]
     },
     "metadata": {},
     "output_type": "display_data"
    },
    {
     "name": "stdout",
     "output_type": "stream",
     "text": [
      "Epoch 1/5\n",
      "40/40 [==============================] - 1s 23ms/step - loss: 4.2533e-04 - mean_squared_error: 4.2533e-04\n",
      "Epoch 2/5\n",
      "40/40 [==============================] - 1s 22ms/step - loss: 4.1442e-04 - mean_squared_error: 4.1442e-04\n",
      "Epoch 3/5\n",
      "40/40 [==============================] - 1s 27ms/step - loss: 3.8979e-04 - mean_squared_error: 3.8979e-04\n",
      "Epoch 4/5\n",
      "40/40 [==============================] - 1s 23ms/step - loss: 4.1727e-04 - mean_squared_error: 4.1727e-04\n",
      "Epoch 5/5\n",
      "40/40 [==============================] - 1s 23ms/step - loss: 4.1691e-04 - mean_squared_error: 4.1691e-04\n",
      "1/1 [==============================] - 0s 29ms/step\n"
     ]
    },
    {
     "data": {
      "text/plain": [
       "array([[34662.05]], dtype=float32)"
      ]
     },
     "metadata": {},
     "output_type": "display_data"
    },
    {
     "name": "stdout",
     "output_type": "stream",
     "text": [
      "Epoch 1/5\n",
      "40/40 [==============================] - 1s 23ms/step - loss: 3.8635e-04 - mean_squared_error: 3.8635e-04\n",
      "Epoch 2/5\n",
      "40/40 [==============================] - 1s 23ms/step - loss: 4.1657e-04 - mean_squared_error: 4.1657e-04\n",
      "Epoch 3/5\n",
      "40/40 [==============================] - 1s 23ms/step - loss: 4.1687e-04 - mean_squared_error: 4.1687e-04\n",
      "Epoch 4/5\n",
      "40/40 [==============================] - 1s 22ms/step - loss: 4.9737e-04 - mean_squared_error: 4.9737e-04\n",
      "Epoch 5/5\n",
      "40/40 [==============================] - 1s 22ms/step - loss: 4.0619e-04 - mean_squared_error: 4.0619e-04\n",
      "1/1 [==============================] - 0s 28ms/step\n"
     ]
    },
    {
     "data": {
      "text/plain": [
       "array([[34836.703]], dtype=float32)"
      ]
     },
     "metadata": {},
     "output_type": "display_data"
    },
    {
     "name": "stdout",
     "output_type": "stream",
     "text": [
      "Epoch 1/5\n",
      "40/40 [==============================] - 1s 23ms/step - loss: 3.8416e-04 - mean_squared_error: 3.8416e-04\n",
      "Epoch 2/5\n",
      "40/40 [==============================] - 1s 24ms/step - loss: 3.9748e-04 - mean_squared_error: 3.9748e-04\n",
      "Epoch 3/5\n",
      "40/40 [==============================] - 1s 23ms/step - loss: 4.0470e-04 - mean_squared_error: 4.0470e-04\n",
      "Epoch 4/5\n",
      "40/40 [==============================] - 1s 22ms/step - loss: 4.2122e-04 - mean_squared_error: 4.2122e-04\n",
      "Epoch 5/5\n",
      "40/40 [==============================] - 1s 24ms/step - loss: 3.9900e-04 - mean_squared_error: 3.9900e-04\n",
      "1/1 [==============================] - 0s 28ms/step\n"
     ]
    },
    {
     "data": {
      "text/plain": [
       "array([[34615.453]], dtype=float32)"
      ]
     },
     "metadata": {},
     "output_type": "display_data"
    },
    {
     "name": "stdout",
     "output_type": "stream",
     "text": [
      "Epoch 1/5\n",
      "40/40 [==============================] - 1s 24ms/step - loss: 4.0184e-04 - mean_squared_error: 4.0184e-04\n",
      "Epoch 2/5\n",
      "40/40 [==============================] - 1s 27ms/step - loss: 4.0155e-04 - mean_squared_error: 4.0155e-04\n",
      "Epoch 3/5\n",
      "40/40 [==============================] - 1s 26ms/step - loss: 3.9653e-04 - mean_squared_error: 3.9653e-04\n",
      "Epoch 4/5\n",
      "40/40 [==============================] - 1s 30ms/step - loss: 4.1367e-04 - mean_squared_error: 4.1367e-04\n",
      "Epoch 5/5\n",
      "40/40 [==============================] - 1s 23ms/step - loss: 4.1772e-04 - mean_squared_error: 4.1772e-04\n",
      "1/1 [==============================] - 0s 29ms/step\n"
     ]
    },
    {
     "data": {
      "text/plain": [
       "array([[34821.59]], dtype=float32)"
      ]
     },
     "metadata": {},
     "output_type": "display_data"
    },
    {
     "name": "stdout",
     "output_type": "stream",
     "text": [
      "Epoch 1/5\n",
      "40/40 [==============================] - 1s 23ms/step - loss: 3.9846e-04 - mean_squared_error: 3.9846e-04\n",
      "Epoch 2/5\n",
      "40/40 [==============================] - 1s 25ms/step - loss: 3.8169e-04 - mean_squared_error: 3.8169e-04\n",
      "Epoch 3/5\n",
      "40/40 [==============================] - 1s 23ms/step - loss: 3.9171e-04 - mean_squared_error: 3.9171e-04\n",
      "Epoch 4/5\n",
      "40/40 [==============================] - 1s 22ms/step - loss: 3.8087e-04 - mean_squared_error: 3.8087e-04\n",
      "Epoch 5/5\n",
      "40/40 [==============================] - 1s 22ms/step - loss: 3.8070e-04 - mean_squared_error: 3.8070e-04\n",
      "1/1 [==============================] - 0s 25ms/step\n"
     ]
    },
    {
     "data": {
      "text/plain": [
       "array([[34767.027]], dtype=float32)"
      ]
     },
     "metadata": {},
     "output_type": "display_data"
    },
    {
     "name": "stdout",
     "output_type": "stream",
     "text": [
      "Epoch 1/5\n",
      "40/40 [==============================] - 1s 23ms/step - loss: 4.0223e-04 - mean_squared_error: 4.0223e-04\n",
      "Epoch 2/5\n",
      "40/40 [==============================] - 1s 22ms/step - loss: 3.9009e-04 - mean_squared_error: 3.9009e-04\n",
      "Epoch 3/5\n",
      "40/40 [==============================] - 1s 22ms/step - loss: 4.2881e-04 - mean_squared_error: 4.2881e-04\n",
      "Epoch 4/5\n",
      "40/40 [==============================] - 1s 23ms/step - loss: 4.0083e-04 - mean_squared_error: 4.0083e-04\n",
      "Epoch 5/5\n",
      "40/40 [==============================] - 1s 22ms/step - loss: 3.8632e-04 - mean_squared_error: 3.8632e-04\n",
      "1/1 [==============================] - 0s 30ms/step\n"
     ]
    },
    {
     "data": {
      "text/plain": [
       "array([[34408.21]], dtype=float32)"
      ]
     },
     "metadata": {},
     "output_type": "display_data"
    },
    {
     "name": "stdout",
     "output_type": "stream",
     "text": [
      "Epoch 1/5\n",
      "40/40 [==============================] - 1s 30ms/step - loss: 3.8957e-04 - mean_squared_error: 3.8957e-04\n",
      "Epoch 2/5\n",
      "40/40 [==============================] - 1s 26ms/step - loss: 3.8351e-04 - mean_squared_error: 3.8351e-04\n",
      "Epoch 3/5\n",
      "40/40 [==============================] - 1s 24ms/step - loss: 4.0120e-04 - mean_squared_error: 4.0120e-04\n",
      "Epoch 4/5\n",
      "40/40 [==============================] - 1s 24ms/step - loss: 3.7166e-04 - mean_squared_error: 3.7166e-04\n",
      "Epoch 5/5\n",
      "40/40 [==============================] - 2s 38ms/step - loss: 4.0215e-04 - mean_squared_error: 4.0215e-04\n",
      "1/1 [==============================] - 0s 30ms/step\n"
     ]
    },
    {
     "data": {
      "text/plain": [
       "array([[34932.168]], dtype=float32)"
      ]
     },
     "metadata": {},
     "output_type": "display_data"
    },
    {
     "name": "stdout",
     "output_type": "stream",
     "text": [
      "Epoch 1/5\n",
      "40/40 [==============================] - 1s 23ms/step - loss: 3.9513e-04 - mean_squared_error: 3.9513e-04\n",
      "Epoch 2/5\n",
      "40/40 [==============================] - 1s 25ms/step - loss: 3.6254e-04 - mean_squared_error: 3.6254e-04\n",
      "Epoch 3/5\n",
      "40/40 [==============================] - 2s 44ms/step - loss: 3.8290e-04 - mean_squared_error: 3.8290e-04\n",
      "Epoch 4/5\n",
      "40/40 [==============================] - 1s 31ms/step - loss: 4.2249e-04 - mean_squared_error: 4.2249e-04\n",
      "Epoch 5/5\n",
      "40/40 [==============================] - 1s 27ms/step - loss: 4.0787e-04 - mean_squared_error: 4.0787e-04\n",
      "1/1 [==============================] - 0s 27ms/step\n"
     ]
    },
    {
     "data": {
      "text/plain": [
       "array([[34891.094]], dtype=float32)"
      ]
     },
     "metadata": {},
     "output_type": "display_data"
    },
    {
     "name": "stdout",
     "output_type": "stream",
     "text": [
      "Epoch 1/5\n",
      "40/40 [==============================] - 1s 24ms/step - loss: 3.9965e-04 - mean_squared_error: 3.9965e-04\n",
      "Epoch 2/5\n",
      "40/40 [==============================] - 1s 24ms/step - loss: 3.7635e-04 - mean_squared_error: 3.7635e-04\n",
      "Epoch 3/5\n",
      "40/40 [==============================] - 1s 25ms/step - loss: 4.0128e-04 - mean_squared_error: 4.0128e-04\n",
      "Epoch 4/5\n",
      "40/40 [==============================] - 1s 29ms/step - loss: 3.8374e-04 - mean_squared_error: 3.8374e-04\n",
      "Epoch 5/5\n",
      "40/40 [==============================] - 1s 25ms/step - loss: 3.8175e-04 - mean_squared_error: 3.8175e-04\n",
      "1/1 [==============================] - 0s 28ms/step\n"
     ]
    },
    {
     "data": {
      "text/plain": [
       "array([[34534.516]], dtype=float32)"
      ]
     },
     "metadata": {},
     "output_type": "display_data"
    },
    {
     "name": "stdout",
     "output_type": "stream",
     "text": [
      "Epoch 1/5\n",
      "40/40 [==============================] - 1s 23ms/step - loss: 3.9953e-04 - mean_squared_error: 3.9953e-04\n",
      "Epoch 2/5\n",
      "40/40 [==============================] - 1s 22ms/step - loss: 4.0972e-04 - mean_squared_error: 4.0972e-04\n",
      "Epoch 3/5\n",
      "40/40 [==============================] - 1s 22ms/step - loss: 3.9641e-04 - mean_squared_error: 3.9641e-04\n",
      "Epoch 4/5\n",
      "40/40 [==============================] - 1s 23ms/step - loss: 3.7731e-04 - mean_squared_error: 3.7731e-04\n",
      "Epoch 5/5\n",
      "40/40 [==============================] - 1s 22ms/step - loss: 4.1361e-04 - mean_squared_error: 4.1361e-04\n",
      "1/1 [==============================] - 0s 30ms/step\n"
     ]
    },
    {
     "data": {
      "text/plain": [
       "array([[35083.82]], dtype=float32)"
      ]
     },
     "metadata": {},
     "output_type": "display_data"
    },
    {
     "name": "stdout",
     "output_type": "stream",
     "text": [
      "Epoch 1/5\n",
      "40/40 [==============================] - 1s 23ms/step - loss: 4.0618e-04 - mean_squared_error: 4.0618e-04\n",
      "Epoch 2/5\n",
      "40/40 [==============================] - 1s 24ms/step - loss: 3.9088e-04 - mean_squared_error: 3.9088e-04\n",
      "Epoch 3/5\n",
      "40/40 [==============================] - 1s 23ms/step - loss: 4.0360e-04 - mean_squared_error: 4.0360e-04\n",
      "Epoch 4/5\n",
      "40/40 [==============================] - 1s 23ms/step - loss: 4.3576e-04 - mean_squared_error: 4.3576e-04\n",
      "Epoch 5/5\n",
      "40/40 [==============================] - 1s 23ms/step - loss: 3.9094e-04 - mean_squared_error: 3.9094e-04\n",
      "1/1 [==============================] - 0s 27ms/step\n"
     ]
    },
    {
     "data": {
      "text/plain": [
       "array([[35089.53]], dtype=float32)"
      ]
     },
     "metadata": {},
     "output_type": "display_data"
    },
    {
     "name": "stdout",
     "output_type": "stream",
     "text": [
      "Epoch 1/5\n",
      "41/41 [==============================] - 1s 27ms/step - loss: 3.8591e-04 - mean_squared_error: 3.8591e-04\n",
      "Epoch 2/5\n",
      "41/41 [==============================] - 1s 23ms/step - loss: 4.2547e-04 - mean_squared_error: 4.2547e-04\n",
      "Epoch 3/5\n",
      "41/41 [==============================] - 1s 22ms/step - loss: 3.9731e-04 - mean_squared_error: 3.9731e-04\n",
      "Epoch 4/5\n",
      "41/41 [==============================] - 1s 22ms/step - loss: 3.9174e-04 - mean_squared_error: 3.9174e-04\n",
      "Epoch 5/5\n",
      "41/41 [==============================] - 1s 25ms/step - loss: 4.1503e-04 - mean_squared_error: 4.1503e-04\n",
      "1/1 [==============================] - 0s 62ms/step\n"
     ]
    },
    {
     "data": {
      "text/plain": [
       "array([[34515.78]], dtype=float32)"
      ]
     },
     "metadata": {},
     "output_type": "display_data"
    },
    {
     "name": "stdout",
     "output_type": "stream",
     "text": [
      "Epoch 1/5\n",
      "41/41 [==============================] - 1s 23ms/step - loss: 3.9173e-04 - mean_squared_error: 3.9173e-04\n",
      "Epoch 2/5\n",
      "41/41 [==============================] - 1s 23ms/step - loss: 3.7664e-04 - mean_squared_error: 3.7664e-04\n",
      "Epoch 3/5\n",
      "41/41 [==============================] - 1s 23ms/step - loss: 4.1608e-04 - mean_squared_error: 4.1608e-04\n",
      "Epoch 4/5\n",
      "41/41 [==============================] - 1s 26ms/step - loss: 4.0913e-04 - mean_squared_error: 4.0913e-04\n",
      "Epoch 5/5\n",
      "41/41 [==============================] - 1s 26ms/step - loss: 3.8288e-04 - mean_squared_error: 3.8288e-04\n",
      "1/1 [==============================] - 0s 27ms/step\n"
     ]
    },
    {
     "data": {
      "text/plain": [
       "array([[34081.527]], dtype=float32)"
      ]
     },
     "metadata": {},
     "output_type": "display_data"
    },
    {
     "name": "stdout",
     "output_type": "stream",
     "text": [
      "Epoch 1/5\n",
      "41/41 [==============================] - 1s 23ms/step - loss: 3.7244e-04 - mean_squared_error: 3.7244e-04\n",
      "Epoch 2/5\n",
      "41/41 [==============================] - 1s 23ms/step - loss: 4.4493e-04 - mean_squared_error: 4.4493e-04\n",
      "Epoch 3/5\n",
      "41/41 [==============================] - 1s 22ms/step - loss: 4.1370e-04 - mean_squared_error: 4.1370e-04\n",
      "Epoch 4/5\n",
      "41/41 [==============================] - 1s 24ms/step - loss: 3.9919e-04 - mean_squared_error: 3.9919e-04\n",
      "Epoch 5/5\n",
      "41/41 [==============================] - 1s 22ms/step - loss: 3.9059e-04 - mean_squared_error: 3.9059e-04\n",
      "1/1 [==============================] - 0s 28ms/step\n"
     ]
    },
    {
     "data": {
      "text/plain": [
       "array([[34246.234]], dtype=float32)"
      ]
     },
     "metadata": {},
     "output_type": "display_data"
    },
    {
     "name": "stdout",
     "output_type": "stream",
     "text": [
      "Epoch 1/5\n",
      "41/41 [==============================] - 1s 24ms/step - loss: 3.8073e-04 - mean_squared_error: 3.8073e-04\n",
      "Epoch 2/5\n",
      "41/41 [==============================] - 1s 23ms/step - loss: 4.2279e-04 - mean_squared_error: 4.2279e-04\n",
      "Epoch 3/5\n",
      "41/41 [==============================] - 1s 23ms/step - loss: 3.8308e-04 - mean_squared_error: 3.8308e-04\n",
      "Epoch 4/5\n",
      "41/41 [==============================] - 1s 23ms/step - loss: 3.9286e-04 - mean_squared_error: 3.9286e-04\n",
      "Epoch 5/5\n",
      "41/41 [==============================] - 1s 23ms/step - loss: 3.8305e-04 - mean_squared_error: 3.8305e-04\n",
      "1/1 [==============================] - 0s 26ms/step\n"
     ]
    },
    {
     "data": {
      "text/plain": [
       "array([[34202.777]], dtype=float32)"
      ]
     },
     "metadata": {},
     "output_type": "display_data"
    },
    {
     "name": "stdout",
     "output_type": "stream",
     "text": [
      "Epoch 1/5\n",
      "41/41 [==============================] - 1s 23ms/step - loss: 4.1720e-04 - mean_squared_error: 4.1720e-04\n",
      "Epoch 2/5\n",
      "41/41 [==============================] - 1s 25ms/step - loss: 3.7974e-04 - mean_squared_error: 3.7974e-04\n",
      "Epoch 3/5\n",
      "41/41 [==============================] - 1s 28ms/step - loss: 4.3747e-04 - mean_squared_error: 4.3747e-04\n",
      "Epoch 4/5\n",
      "41/41 [==============================] - 1s 22ms/step - loss: 3.7389e-04 - mean_squared_error: 3.7389e-04\n",
      "Epoch 5/5\n",
      "41/41 [==============================] - 1s 22ms/step - loss: 4.0766e-04 - mean_squared_error: 4.0766e-04\n",
      "1/1 [==============================] - 0s 27ms/step\n"
     ]
    },
    {
     "data": {
      "text/plain": [
       "array([[34419.277]], dtype=float32)"
      ]
     },
     "metadata": {},
     "output_type": "display_data"
    },
    {
     "name": "stdout",
     "output_type": "stream",
     "text": [
      "Epoch 1/5\n",
      "41/41 [==============================] - 1s 23ms/step - loss: 3.6240e-04 - mean_squared_error: 3.6240e-04\n",
      "Epoch 2/5\n",
      "41/41 [==============================] - 1s 22ms/step - loss: 3.6026e-04 - mean_squared_error: 3.6026e-04\n",
      "Epoch 3/5\n",
      "41/41 [==============================] - 1s 22ms/step - loss: 4.2561e-04 - mean_squared_error: 4.2561e-04\n",
      "Epoch 4/5\n",
      "41/41 [==============================] - 1s 29ms/step - loss: 3.9772e-04 - mean_squared_error: 3.9772e-04\n",
      "Epoch 5/5\n",
      "41/41 [==============================] - 1s 23ms/step - loss: 4.1575e-04 - mean_squared_error: 4.1575e-04\n",
      "1/1 [==============================] - 0s 28ms/step\n"
     ]
    },
    {
     "data": {
      "text/plain": [
       "array([[34623.863]], dtype=float32)"
      ]
     },
     "metadata": {},
     "output_type": "display_data"
    },
    {
     "name": "stdout",
     "output_type": "stream",
     "text": [
      "Epoch 1/5\n",
      "41/41 [==============================] - 1s 25ms/step - loss: 4.3272e-04 - mean_squared_error: 4.3272e-04\n",
      "Epoch 2/5\n",
      "41/41 [==============================] - 1s 23ms/step - loss: 3.9272e-04 - mean_squared_error: 3.9272e-04\n",
      "Epoch 3/5\n",
      "41/41 [==============================] - 1s 23ms/step - loss: 3.7494e-04 - mean_squared_error: 3.7494e-04\n",
      "Epoch 4/5\n",
      "41/41 [==============================] - 1s 22ms/step - loss: 3.9039e-04 - mean_squared_error: 3.9039e-04\n",
      "Epoch 5/5\n",
      "41/41 [==============================] - 1s 22ms/step - loss: 3.8461e-04 - mean_squared_error: 3.8461e-04\n",
      "1/1 [==============================] - 0s 27ms/step\n"
     ]
    },
    {
     "data": {
      "text/plain": [
       "array([[34970.844]], dtype=float32)"
      ]
     },
     "metadata": {},
     "output_type": "display_data"
    },
    {
     "name": "stdout",
     "output_type": "stream",
     "text": [
      "Epoch 1/5\n",
      "41/41 [==============================] - 1s 23ms/step - loss: 3.8919e-04 - mean_squared_error: 3.8919e-04\n",
      "Epoch 2/5\n",
      "41/41 [==============================] - 1s 23ms/step - loss: 4.1319e-04 - mean_squared_error: 4.1319e-04\n",
      "Epoch 3/5\n",
      "41/41 [==============================] - 1s 25ms/step - loss: 3.7961e-04 - mean_squared_error: 3.7961e-04\n",
      "Epoch 4/5\n",
      "41/41 [==============================] - 1s 23ms/step - loss: 3.6879e-04 - mean_squared_error: 3.6879e-04\n",
      "Epoch 5/5\n",
      "41/41 [==============================] - 1s 22ms/step - loss: 3.9104e-04 - mean_squared_error: 3.9104e-04\n",
      "1/1 [==============================] - 0s 28ms/step\n"
     ]
    },
    {
     "data": {
      "text/plain": [
       "array([[35371.21]], dtype=float32)"
      ]
     },
     "metadata": {},
     "output_type": "display_data"
    },
    {
     "name": "stdout",
     "output_type": "stream",
     "text": [
      "Epoch 1/5\n",
      "41/41 [==============================] - 1s 23ms/step - loss: 4.1117e-04 - mean_squared_error: 4.1117e-04\n",
      "Epoch 2/5\n",
      "41/41 [==============================] - 1s 23ms/step - loss: 3.7979e-04 - mean_squared_error: 3.7979e-04\n",
      "Epoch 3/5\n",
      "41/41 [==============================] - 1s 22ms/step - loss: 3.6890e-04 - mean_squared_error: 3.6890e-04\n",
      "Epoch 4/5\n",
      "41/41 [==============================] - 1s 24ms/step - loss: 4.1448e-04 - mean_squared_error: 4.1448e-04\n",
      "Epoch 5/5\n",
      "41/41 [==============================] - 1s 23ms/step - loss: 4.0479e-04 - mean_squared_error: 4.0479e-04\n",
      "1/1 [==============================] - 0s 28ms/step\n"
     ]
    },
    {
     "data": {
      "text/plain": [
       "array([[35728.008]], dtype=float32)"
      ]
     },
     "metadata": {},
     "output_type": "display_data"
    },
    {
     "name": "stdout",
     "output_type": "stream",
     "text": [
      "Epoch 1/5\n",
      "41/41 [==============================] - 1s 32ms/step - loss: 3.8569e-04 - mean_squared_error: 3.8569e-04\n",
      "Epoch 2/5\n",
      "41/41 [==============================] - 1s 31ms/step - loss: 3.7532e-04 - mean_squared_error: 3.7532e-04\n",
      "Epoch 3/5\n",
      "41/41 [==============================] - 1s 31ms/step - loss: 3.7865e-04 - mean_squared_error: 3.7865e-04\n",
      "Epoch 4/5\n",
      "41/41 [==============================] - 1s 29ms/step - loss: 3.9257e-04 - mean_squared_error: 3.9257e-04\n",
      "Epoch 5/5\n",
      "41/41 [==============================] - 1s 22ms/step - loss: 3.5620e-04 - mean_squared_error: 3.5620e-04\n",
      "1/1 [==============================] - 0s 25ms/step\n"
     ]
    },
    {
     "data": {
      "text/plain": [
       "array([[35546.55]], dtype=float32)"
      ]
     },
     "metadata": {},
     "output_type": "display_data"
    },
    {
     "name": "stdout",
     "output_type": "stream",
     "text": [
      "Epoch 1/5\n",
      "41/41 [==============================] - 1s 23ms/step - loss: 3.7675e-04 - mean_squared_error: 3.7675e-04\n",
      "Epoch 2/5\n",
      "41/41 [==============================] - 1s 27ms/step - loss: 3.9274e-04 - mean_squared_error: 3.9274e-04\n",
      "Epoch 3/5\n",
      "41/41 [==============================] - 1s 23ms/step - loss: 3.9483e-04 - mean_squared_error: 3.9483e-04\n",
      "Epoch 4/5\n",
      "41/41 [==============================] - 1s 22ms/step - loss: 3.9402e-04 - mean_squared_error: 3.9402e-04\n",
      "Epoch 5/5\n",
      "41/41 [==============================] - 1s 25ms/step - loss: 3.7106e-04 - mean_squared_error: 3.7106e-04\n",
      "1/1 [==============================] - 0s 32ms/step\n"
     ]
    },
    {
     "data": {
      "text/plain": [
       "array([[35718.773]], dtype=float32)"
      ]
     },
     "metadata": {},
     "output_type": "display_data"
    },
    {
     "name": "stdout",
     "output_type": "stream",
     "text": [
      "Epoch 1/5\n",
      "41/41 [==============================] - 1s 31ms/step - loss: 3.7973e-04 - mean_squared_error: 3.7973e-04\n",
      "Epoch 2/5\n",
      "41/41 [==============================] - 1s 29ms/step - loss: 3.7332e-04 - mean_squared_error: 3.7332e-04\n",
      "Epoch 3/5\n",
      "41/41 [==============================] - 1s 30ms/step - loss: 4.1842e-04 - mean_squared_error: 4.1842e-04\n",
      "Epoch 4/5\n",
      "41/41 [==============================] - 1s 24ms/step - loss: 4.2370e-04 - mean_squared_error: 4.2370e-04\n",
      "Epoch 5/5\n",
      "41/41 [==============================] - 1s 26ms/step - loss: 3.9240e-04 - mean_squared_error: 3.9240e-04\n",
      "1/1 [==============================] - 0s 29ms/step\n"
     ]
    },
    {
     "data": {
      "text/plain": [
       "array([[36517.02]], dtype=float32)"
      ]
     },
     "metadata": {},
     "output_type": "display_data"
    },
    {
     "name": "stdout",
     "output_type": "stream",
     "text": [
      "Epoch 1/5\n",
      "41/41 [==============================] - 1s 28ms/step - loss: 4.0585e-04 - mean_squared_error: 4.0585e-04\n",
      "Epoch 2/5\n",
      "41/41 [==============================] - 1s 32ms/step - loss: 3.6799e-04 - mean_squared_error: 3.6799e-04\n",
      "Epoch 3/5\n",
      "41/41 [==============================] - 2s 38ms/step - loss: 3.8774e-04 - mean_squared_error: 3.8774e-04\n",
      "Epoch 4/5\n",
      "41/41 [==============================] - 1s 35ms/step - loss: 3.5973e-04 - mean_squared_error: 3.5973e-04\n",
      "Epoch 5/5\n",
      "41/41 [==============================] - 1s 32ms/step - loss: 3.9488e-04 - mean_squared_error: 3.9488e-04\n",
      "1/1 [==============================] - 0s 29ms/step\n"
     ]
    },
    {
     "data": {
      "text/plain": [
       "array([[36276.824]], dtype=float32)"
      ]
     },
     "metadata": {},
     "output_type": "display_data"
    },
    {
     "name": "stdout",
     "output_type": "stream",
     "text": [
      "Epoch 1/5\n",
      "41/41 [==============================] - 1s 27ms/step - loss: 3.9133e-04 - mean_squared_error: 3.9133e-04\n",
      "Epoch 2/5\n",
      "41/41 [==============================] - 1s 24ms/step - loss: 3.8205e-04 - mean_squared_error: 3.8205e-04\n",
      "Epoch 3/5\n",
      "41/41 [==============================] - 1s 28ms/step - loss: 3.9761e-04 - mean_squared_error: 3.9761e-04\n",
      "Epoch 4/5\n",
      "41/41 [==============================] - 1s 31ms/step - loss: 3.9414e-04 - mean_squared_error: 3.9414e-04\n",
      "Epoch 5/5\n",
      "41/41 [==============================] - 1s 26ms/step - loss: 3.7920e-04 - mean_squared_error: 3.7920e-04\n",
      "1/1 [==============================] - 0s 27ms/step\n"
     ]
    },
    {
     "data": {
      "text/plain": [
       "array([[35941.93]], dtype=float32)"
      ]
     },
     "metadata": {},
     "output_type": "display_data"
    },
    {
     "name": "stdout",
     "output_type": "stream",
     "text": [
      "Epoch 1/5\n",
      "41/41 [==============================] - 1s 23ms/step - loss: 3.8080e-04 - mean_squared_error: 3.8080e-04\n",
      "Epoch 2/5\n",
      "41/41 [==============================] - 1s 23ms/step - loss: 3.5920e-04 - mean_squared_error: 3.5920e-04\n",
      "Epoch 3/5\n",
      "41/41 [==============================] - 1s 23ms/step - loss: 3.7309e-04 - mean_squared_error: 3.7309e-04\n",
      "Epoch 4/5\n",
      "41/41 [==============================] - 1s 22ms/step - loss: 4.0617e-04 - mean_squared_error: 4.0617e-04\n",
      "Epoch 5/5\n",
      "41/41 [==============================] - 1s 23ms/step - loss: 3.8077e-04 - mean_squared_error: 3.8077e-04\n",
      "1/1 [==============================] - 0s 32ms/step\n"
     ]
    },
    {
     "data": {
      "text/plain": [
       "array([[35930.15]], dtype=float32)"
      ]
     },
     "metadata": {},
     "output_type": "display_data"
    },
    {
     "name": "stdout",
     "output_type": "stream",
     "text": [
      "Epoch 1/5\n",
      "41/41 [==============================] - 1s 22ms/step - loss: 4.0037e-04 - mean_squared_error: 4.0037e-04\n",
      "Epoch 2/5\n",
      "41/41 [==============================] - 1s 22ms/step - loss: 4.0488e-04 - mean_squared_error: 4.0488e-04\n",
      "Epoch 3/5\n",
      "41/41 [==============================] - 1s 23ms/step - loss: 4.0309e-04 - mean_squared_error: 4.0309e-04\n",
      "Epoch 4/5\n",
      "41/41 [==============================] - 1s 25ms/step - loss: 3.7780e-04 - mean_squared_error: 3.7780e-04\n",
      "Epoch 5/5\n",
      "41/41 [==============================] - 1s 24ms/step - loss: 3.6695e-04 - mean_squared_error: 3.6695e-04\n",
      "1/1 [==============================] - 0s 31ms/step\n"
     ]
    },
    {
     "data": {
      "text/plain": [
       "array([[35865.082]], dtype=float32)"
      ]
     },
     "metadata": {},
     "output_type": "display_data"
    },
    {
     "name": "stdout",
     "output_type": "stream",
     "text": [
      "Epoch 1/5\n",
      "41/41 [==============================] - 1s 24ms/step - loss: 3.7398e-04 - mean_squared_error: 3.7398e-04\n",
      "Epoch 2/5\n",
      "41/41 [==============================] - 1s 25ms/step - loss: 3.5053e-04 - mean_squared_error: 3.5053e-04\n",
      "Epoch 3/5\n",
      "41/41 [==============================] - 1s 26ms/step - loss: 3.7175e-04 - mean_squared_error: 3.7175e-04\n",
      "Epoch 4/5\n",
      "41/41 [==============================] - 1s 23ms/step - loss: 3.8016e-04 - mean_squared_error: 3.8016e-04\n",
      "Epoch 5/5\n",
      "41/41 [==============================] - 1s 25ms/step - loss: 3.8278e-04 - mean_squared_error: 3.8278e-04\n",
      "1/1 [==============================] - 0s 30ms/step\n"
     ]
    },
    {
     "data": {
      "text/plain": [
       "array([[35430.01]], dtype=float32)"
      ]
     },
     "metadata": {},
     "output_type": "display_data"
    },
    {
     "name": "stdout",
     "output_type": "stream",
     "text": [
      "Epoch 1/5\n",
      "41/41 [==============================] - 1s 25ms/step - loss: 3.7969e-04 - mean_squared_error: 3.7969e-04\n",
      "Epoch 2/5\n",
      "41/41 [==============================] - 1s 23ms/step - loss: 4.0429e-04 - mean_squared_error: 4.0429e-04\n",
      "Epoch 3/5\n",
      "41/41 [==============================] - 1s 24ms/step - loss: 3.9546e-04 - mean_squared_error: 3.9546e-04\n",
      "Epoch 4/5\n",
      "41/41 [==============================] - 1s 31ms/step - loss: 3.5492e-04 - mean_squared_error: 3.5492e-04\n",
      "Epoch 5/5\n",
      "41/41 [==============================] - 1s 31ms/step - loss: 3.8903e-04 - mean_squared_error: 3.8903e-04\n",
      "1/1 [==============================] - 0s 30ms/step\n"
     ]
    },
    {
     "data": {
      "text/plain": [
       "array([[35499.227]], dtype=float32)"
      ]
     },
     "metadata": {},
     "output_type": "display_data"
    },
    {
     "name": "stdout",
     "output_type": "stream",
     "text": [
      "Epoch 1/5\n",
      "41/41 [==============================] - 1s 26ms/step - loss: 3.8784e-04 - mean_squared_error: 3.8784e-04\n",
      "Epoch 2/5\n",
      "41/41 [==============================] - 1s 23ms/step - loss: 4.0155e-04 - mean_squared_error: 4.0155e-04\n",
      "Epoch 3/5\n",
      "41/41 [==============================] - 1s 26ms/step - loss: 3.7306e-04 - mean_squared_error: 3.7306e-04\n",
      "Epoch 4/5\n",
      "41/41 [==============================] - 1s 23ms/step - loss: 3.9273e-04 - mean_squared_error: 3.9273e-04\n",
      "Epoch 5/5\n",
      "41/41 [==============================] - 1s 24ms/step - loss: 3.8630e-04 - mean_squared_error: 3.8630e-04\n",
      "1/1 [==============================] - 0s 28ms/step\n"
     ]
    },
    {
     "data": {
      "text/plain": [
       "array([[35819.637]], dtype=float32)"
      ]
     },
     "metadata": {},
     "output_type": "display_data"
    },
    {
     "name": "stdout",
     "output_type": "stream",
     "text": [
      "Epoch 1/5\n",
      "41/41 [==============================] - 1s 24ms/step - loss: 3.6436e-04 - mean_squared_error: 3.6436e-04\n",
      "Epoch 2/5\n",
      "41/41 [==============================] - 1s 25ms/step - loss: 3.8725e-04 - mean_squared_error: 3.8725e-04\n",
      "Epoch 3/5\n",
      "41/41 [==============================] - 1s 24ms/step - loss: 3.8464e-04 - mean_squared_error: 3.8464e-04\n",
      "Epoch 4/5\n",
      "41/41 [==============================] - 1s 23ms/step - loss: 3.7965e-04 - mean_squared_error: 3.7965e-04\n",
      "Epoch 5/5\n",
      "41/41 [==============================] - 1s 24ms/step - loss: 3.6118e-04 - mean_squared_error: 3.6118e-04\n",
      "1/1 [==============================] - 0s 31ms/step\n"
     ]
    },
    {
     "data": {
      "text/plain": [
       "array([[35454.88]], dtype=float32)"
      ]
     },
     "metadata": {},
     "output_type": "display_data"
    },
    {
     "name": "stdout",
     "output_type": "stream",
     "text": [
      "Epoch 1/5\n",
      "41/41 [==============================] - 1s 23ms/step - loss: 3.7342e-04 - mean_squared_error: 3.7342e-04\n",
      "Epoch 2/5\n",
      "41/41 [==============================] - 1s 25ms/step - loss: 3.9113e-04 - mean_squared_error: 3.9113e-04\n",
      "Epoch 3/5\n",
      "41/41 [==============================] - 1s 26ms/step - loss: 3.5813e-04 - mean_squared_error: 3.5813e-04\n",
      "Epoch 4/5\n",
      "41/41 [==============================] - 1s 26ms/step - loss: 4.0993e-04 - mean_squared_error: 4.0993e-04\n",
      "Epoch 5/5\n",
      "41/41 [==============================] - 1s 26ms/step - loss: 3.6235e-04 - mean_squared_error: 3.6235e-04\n",
      "1/1 [==============================] - 0s 28ms/step\n"
     ]
    },
    {
     "data": {
      "text/plain": [
       "array([[35627.664]], dtype=float32)"
      ]
     },
     "metadata": {},
     "output_type": "display_data"
    },
    {
     "name": "stdout",
     "output_type": "stream",
     "text": [
      "Epoch 1/5\n",
      "41/41 [==============================] - 1s 34ms/step - loss: 3.7775e-04 - mean_squared_error: 3.7775e-04\n",
      "Epoch 2/5\n",
      "41/41 [==============================] - 1s 25ms/step - loss: 3.5669e-04 - mean_squared_error: 3.5669e-04\n",
      "Epoch 3/5\n",
      "41/41 [==============================] - 1s 23ms/step - loss: 3.6695e-04 - mean_squared_error: 3.6695e-04\n",
      "Epoch 4/5\n",
      "41/41 [==============================] - 1s 23ms/step - loss: 3.6468e-04 - mean_squared_error: 3.6468e-04\n",
      "Epoch 5/5\n",
      "41/41 [==============================] - 1s 23ms/step - loss: 3.8995e-04 - mean_squared_error: 3.8995e-04\n",
      "1/1 [==============================] - 0s 29ms/step\n"
     ]
    },
    {
     "data": {
      "text/plain": [
       "array([[35912.74]], dtype=float32)"
      ]
     },
     "metadata": {},
     "output_type": "display_data"
    },
    {
     "name": "stdout",
     "output_type": "stream",
     "text": [
      "Epoch 1/5\n",
      "41/41 [==============================] - 1s 24ms/step - loss: 3.5621e-04 - mean_squared_error: 3.5621e-04\n",
      "Epoch 2/5\n",
      "41/41 [==============================] - 1s 25ms/step - loss: 3.7413e-04 - mean_squared_error: 3.7413e-04\n",
      "Epoch 3/5\n",
      "41/41 [==============================] - 1s 23ms/step - loss: 3.8598e-04 - mean_squared_error: 3.8598e-04\n",
      "Epoch 4/5\n",
      "41/41 [==============================] - 1s 23ms/step - loss: 3.6581e-04 - mean_squared_error: 3.6581e-04\n",
      "Epoch 5/5\n",
      "41/41 [==============================] - 1s 24ms/step - loss: 3.5928e-04 - mean_squared_error: 3.5928e-04\n",
      "1/1 [==============================] - 0s 30ms/step\n"
     ]
    },
    {
     "data": {
      "text/plain": [
       "array([[35892.246]], dtype=float32)"
      ]
     },
     "metadata": {},
     "output_type": "display_data"
    },
    {
     "name": "stdout",
     "output_type": "stream",
     "text": [
      "Epoch 1/5\n",
      "41/41 [==============================] - 1s 24ms/step - loss: 3.6943e-04 - mean_squared_error: 3.6943e-04\n",
      "Epoch 2/5\n",
      "41/41 [==============================] - 1s 23ms/step - loss: 3.4787e-04 - mean_squared_error: 3.4787e-04\n",
      "Epoch 3/5\n",
      "41/41 [==============================] - 1s 24ms/step - loss: 3.6655e-04 - mean_squared_error: 3.6655e-04\n",
      "Epoch 4/5\n",
      "41/41 [==============================] - 1s 25ms/step - loss: 3.8316e-04 - mean_squared_error: 3.8316e-04\n",
      "Epoch 5/5\n",
      "41/41 [==============================] - 1s 26ms/step - loss: 4.0148e-04 - mean_squared_error: 4.0148e-04\n",
      "1/1 [==============================] - 0s 27ms/step\n"
     ]
    },
    {
     "data": {
      "text/plain": [
       "array([[36123.246]], dtype=float32)"
      ]
     },
     "metadata": {},
     "output_type": "display_data"
    },
    {
     "name": "stdout",
     "output_type": "stream",
     "text": [
      "Epoch 1/5\n",
      "41/41 [==============================] - 1s 24ms/step - loss: 3.9002e-04 - mean_squared_error: 3.9002e-04\n",
      "Epoch 2/5\n",
      "41/41 [==============================] - 1s 24ms/step - loss: 3.7512e-04 - mean_squared_error: 3.7512e-04\n",
      "Epoch 3/5\n",
      "41/41 [==============================] - 1s 24ms/step - loss: 3.7196e-04 - mean_squared_error: 3.7196e-04\n",
      "Epoch 4/5\n",
      "41/41 [==============================] - 1s 24ms/step - loss: 3.6698e-04 - mean_squared_error: 3.6698e-04\n",
      "Epoch 5/5\n",
      "41/41 [==============================] - 1s 23ms/step - loss: 3.7345e-04 - mean_squared_error: 3.7345e-04\n",
      "1/1 [==============================] - 0s 30ms/step\n"
     ]
    },
    {
     "data": {
      "text/plain": [
       "array([[36315.223]], dtype=float32)"
      ]
     },
     "metadata": {},
     "output_type": "display_data"
    },
    {
     "name": "stdout",
     "output_type": "stream",
     "text": [
      "Epoch 1/5\n",
      "41/41 [==============================] - 1s 24ms/step - loss: 3.9125e-04 - mean_squared_error: 3.9125e-04\n",
      "Epoch 2/5\n",
      "41/41 [==============================] - 1s 24ms/step - loss: 3.7254e-04 - mean_squared_error: 3.7254e-04\n",
      "Epoch 3/5\n",
      "41/41 [==============================] - 1s 24ms/step - loss: 3.6009e-04 - mean_squared_error: 3.6009e-04\n",
      "Epoch 4/5\n",
      "41/41 [==============================] - 1s 24ms/step - loss: 3.9448e-04 - mean_squared_error: 3.9448e-04\n",
      "Epoch 5/5\n",
      "41/41 [==============================] - 1s 24ms/step - loss: 3.4767e-04 - mean_squared_error: 3.4767e-04\n",
      "1/1 [==============================] - 0s 32ms/step\n"
     ]
    },
    {
     "data": {
      "text/plain": [
       "array([[36537.56]], dtype=float32)"
      ]
     },
     "metadata": {},
     "output_type": "display_data"
    },
    {
     "name": "stdout",
     "output_type": "stream",
     "text": [
      "Epoch 1/5\n",
      "41/41 [==============================] - 1s 26ms/step - loss: 3.4857e-04 - mean_squared_error: 3.4857e-04\n",
      "Epoch 2/5\n",
      "41/41 [==============================] - 1s 24ms/step - loss: 3.8533e-04 - mean_squared_error: 3.8533e-04\n",
      "Epoch 3/5\n",
      "41/41 [==============================] - 1s 30ms/step - loss: 3.5595e-04 - mean_squared_error: 3.5595e-04\n",
      "Epoch 4/5\n",
      "41/41 [==============================] - 1s 32ms/step - loss: 3.7846e-04 - mean_squared_error: 3.7846e-04\n",
      "Epoch 5/5\n",
      "41/41 [==============================] - 1s 26ms/step - loss: 3.6968e-04 - mean_squared_error: 3.6968e-04\n",
      "1/1 [==============================] - 0s 31ms/step\n"
     ]
    },
    {
     "data": {
      "text/plain": [
       "array([[36246.27]], dtype=float32)"
      ]
     },
     "metadata": {},
     "output_type": "display_data"
    },
    {
     "name": "stdout",
     "output_type": "stream",
     "text": [
      "Epoch 1/5\n",
      "41/41 [==============================] - 1s 25ms/step - loss: 3.6288e-04 - mean_squared_error: 3.6288e-04\n",
      "Epoch 2/5\n",
      "41/41 [==============================] - 1s 23ms/step - loss: 3.7175e-04 - mean_squared_error: 3.7175e-04\n",
      "Epoch 3/5\n",
      "41/41 [==============================] - 1s 23ms/step - loss: 3.5669e-04 - mean_squared_error: 3.5669e-04\n",
      "Epoch 4/5\n",
      "41/41 [==============================] - 1s 24ms/step - loss: 3.6449e-04 - mean_squared_error: 3.6449e-04\n",
      "Epoch 5/5\n",
      "41/41 [==============================] - 1s 25ms/step - loss: 3.6152e-04 - mean_squared_error: 3.6152e-04\n",
      "1/1 [==============================] - 0s 33ms/step\n"
     ]
    },
    {
     "data": {
      "text/plain": [
       "array([[36224.945]], dtype=float32)"
      ]
     },
     "metadata": {},
     "output_type": "display_data"
    },
    {
     "name": "stdout",
     "output_type": "stream",
     "text": [
      "Epoch 1/5\n",
      "41/41 [==============================] - 1s 24ms/step - loss: 3.6600e-04 - mean_squared_error: 3.6600e-04\n",
      "Epoch 2/5\n",
      "41/41 [==============================] - 1s 24ms/step - loss: 3.5113e-04 - mean_squared_error: 3.5113e-04\n",
      "Epoch 3/5\n",
      "41/41 [==============================] - 1s 22ms/step - loss: 3.7208e-04 - mean_squared_error: 3.7208e-04\n",
      "Epoch 4/5\n",
      "41/41 [==============================] - 1s 23ms/step - loss: 3.6298e-04 - mean_squared_error: 3.6298e-04\n",
      "Epoch 5/5\n",
      "41/41 [==============================] - 1s 23ms/step - loss: 3.6830e-04 - mean_squared_error: 3.6830e-04\n",
      "1/1 [==============================] - 0s 28ms/step\n"
     ]
    },
    {
     "data": {
      "text/plain": [
       "array([[35547.023]], dtype=float32)"
      ]
     },
     "metadata": {},
     "output_type": "display_data"
    },
    {
     "name": "stdout",
     "output_type": "stream",
     "text": [
      "Epoch 1/5\n",
      "41/41 [==============================] - 1s 27ms/step - loss: 3.8975e-04 - mean_squared_error: 3.8975e-04\n",
      "Epoch 2/5\n",
      "41/41 [==============================] - 1s 22ms/step - loss: 3.6515e-04 - mean_squared_error: 3.6515e-04\n",
      "Epoch 3/5\n",
      "41/41 [==============================] - 1s 23ms/step - loss: 3.7578e-04 - mean_squared_error: 3.7578e-04\n",
      "Epoch 4/5\n",
      "41/41 [==============================] - 1s 23ms/step - loss: 4.0396e-04 - mean_squared_error: 4.0396e-04\n",
      "Epoch 5/5\n",
      "41/41 [==============================] - 1s 23ms/step - loss: 3.6146e-04 - mean_squared_error: 3.6146e-04\n",
      "1/1 [==============================] - 0s 31ms/step\n"
     ]
    },
    {
     "data": {
      "text/plain": [
       "array([[35473.527]], dtype=float32)"
      ]
     },
     "metadata": {},
     "output_type": "display_data"
    },
    {
     "name": "stdout",
     "output_type": "stream",
     "text": [
      "Epoch 1/5\n",
      "41/41 [==============================] - 1s 25ms/step - loss: 3.7736e-04 - mean_squared_error: 3.7736e-04\n",
      "Epoch 2/5\n",
      "41/41 [==============================] - 1s 22ms/step - loss: 3.8336e-04 - mean_squared_error: 3.8336e-04\n",
      "Epoch 3/5\n",
      "41/41 [==============================] - 1s 23ms/step - loss: 3.6858e-04 - mean_squared_error: 3.6858e-04\n",
      "Epoch 4/5\n",
      "41/41 [==============================] - 1s 31ms/step - loss: 3.4665e-04 - mean_squared_error: 3.4665e-04\n",
      "Epoch 5/5\n",
      "41/41 [==============================] - 1s 26ms/step - loss: 3.9393e-04 - mean_squared_error: 3.9393e-04\n",
      "1/1 [==============================] - 0s 31ms/step\n"
     ]
    },
    {
     "data": {
      "text/plain": [
       "array([[35694.2]], dtype=float32)"
      ]
     },
     "metadata": {},
     "output_type": "display_data"
    },
    {
     "name": "stdout",
     "output_type": "stream",
     "text": [
      "Epoch 1/5\n",
      "41/41 [==============================] - 1s 26ms/step - loss: 3.7723e-04 - mean_squared_error: 3.7723e-04\n",
      "Epoch 2/5\n",
      "41/41 [==============================] - 1s 32ms/step - loss: 3.3686e-04 - mean_squared_error: 3.3686e-04\n",
      "Epoch 3/5\n",
      "41/41 [==============================] - 1s 36ms/step - loss: 3.7455e-04 - mean_squared_error: 3.7455e-04\n",
      "Epoch 4/5\n",
      "41/41 [==============================] - 1s 28ms/step - loss: 3.8305e-04 - mean_squared_error: 3.8305e-04\n",
      "Epoch 5/5\n",
      "41/41 [==============================] - 2s 39ms/step - loss: 3.8167e-04 - mean_squared_error: 3.8167e-04\n",
      "1/1 [==============================] - 0s 40ms/step\n"
     ]
    },
    {
     "data": {
      "text/plain": [
       "array([[35648.543]], dtype=float32)"
      ]
     },
     "metadata": {},
     "output_type": "display_data"
    },
    {
     "name": "stdout",
     "output_type": "stream",
     "text": [
      "Epoch 1/5\n",
      "42/42 [==============================] - 1s 34ms/step - loss: 3.7846e-04 - mean_squared_error: 3.7846e-04\n",
      "Epoch 2/5\n",
      "42/42 [==============================] - 2s 39ms/step - loss: 3.7169e-04 - mean_squared_error: 3.7169e-04\n",
      "Epoch 3/5\n",
      "42/42 [==============================] - 1s 24ms/step - loss: 3.8097e-04 - mean_squared_error: 3.8097e-04\n",
      "Epoch 4/5\n",
      "42/42 [==============================] - 1s 23ms/step - loss: 3.7454e-04 - mean_squared_error: 3.7454e-04\n",
      "Epoch 5/5\n",
      "42/42 [==============================] - 1s 23ms/step - loss: 3.6097e-04 - mean_squared_error: 3.6097e-04\n",
      "1/1 [==============================] - 0s 31ms/step\n"
     ]
    },
    {
     "data": {
      "text/plain": [
       "array([[34629.297]], dtype=float32)"
      ]
     },
     "metadata": {},
     "output_type": "display_data"
    },
    {
     "name": "stdout",
     "output_type": "stream",
     "text": [
      "Epoch 1/5\n",
      "42/42 [==============================] - 1s 23ms/step - loss: 3.8107e-04 - mean_squared_error: 3.8107e-04\n",
      "Epoch 2/5\n",
      "42/42 [==============================] - 1s 23ms/step - loss: 3.7793e-04 - mean_squared_error: 3.7793e-04\n",
      "Epoch 3/5\n",
      "42/42 [==============================] - 1s 23ms/step - loss: 3.5887e-04 - mean_squared_error: 3.5887e-04\n",
      "Epoch 4/5\n",
      "42/42 [==============================] - 1s 23ms/step - loss: 3.5155e-04 - mean_squared_error: 3.5155e-04\n",
      "Epoch 5/5\n",
      "42/42 [==============================] - 1s 22ms/step - loss: 3.5232e-04 - mean_squared_error: 3.5232e-04\n",
      "1/1 [==============================] - 0s 26ms/step\n"
     ]
    },
    {
     "data": {
      "text/plain": [
       "array([[34748.773]], dtype=float32)"
      ]
     },
     "metadata": {},
     "output_type": "display_data"
    },
    {
     "name": "stdout",
     "output_type": "stream",
     "text": [
      "Epoch 1/5\n",
      "42/42 [==============================] - 1s 24ms/step - loss: 3.8500e-04 - mean_squared_error: 3.8500e-04\n",
      "Epoch 2/5\n",
      "42/42 [==============================] - 1s 23ms/step - loss: 3.6965e-04 - mean_squared_error: 3.6965e-04\n",
      "Epoch 3/5\n",
      "42/42 [==============================] - 1s 23ms/step - loss: 3.6264e-04 - mean_squared_error: 3.6264e-04\n",
      "Epoch 4/5\n",
      "42/42 [==============================] - 1s 24ms/step - loss: 3.6201e-04 - mean_squared_error: 3.6201e-04\n",
      "Epoch 5/5\n",
      "42/42 [==============================] - 1s 26ms/step - loss: 3.6916e-04 - mean_squared_error: 3.6916e-04\n",
      "1/1 [==============================] - 0s 46ms/step\n"
     ]
    },
    {
     "data": {
      "text/plain": [
       "array([[35244.797]], dtype=float32)"
      ]
     },
     "metadata": {},
     "output_type": "display_data"
    },
    {
     "name": "stdout",
     "output_type": "stream",
     "text": [
      "Epoch 1/5\n",
      "42/42 [==============================] - 1s 29ms/step - loss: 3.5434e-04 - mean_squared_error: 3.5434e-04\n",
      "Epoch 2/5\n",
      "42/42 [==============================] - 1s 33ms/step - loss: 3.8560e-04 - mean_squared_error: 3.8560e-04\n",
      "Epoch 3/5\n",
      "42/42 [==============================] - 1s 24ms/step - loss: 3.9276e-04 - mean_squared_error: 3.9276e-04\n",
      "Epoch 4/5\n",
      "42/42 [==============================] - 1s 23ms/step - loss: 3.6094e-04 - mean_squared_error: 3.6094e-04\n",
      "Epoch 5/5\n",
      "42/42 [==============================] - 1s 23ms/step - loss: 3.8063e-04 - mean_squared_error: 3.8063e-04\n",
      "1/1 [==============================] - 0s 28ms/step\n"
     ]
    },
    {
     "data": {
      "text/plain": [
       "array([[35629.234]], dtype=float32)"
      ]
     },
     "metadata": {},
     "output_type": "display_data"
    },
    {
     "name": "stdout",
     "output_type": "stream",
     "text": [
      "Epoch 1/5\n",
      "42/42 [==============================] - 1s 23ms/step - loss: 4.3782e-04 - mean_squared_error: 4.3782e-04\n",
      "Epoch 2/5\n",
      "42/42 [==============================] - 1s 24ms/step - loss: 3.7303e-04 - mean_squared_error: 3.7303e-04\n",
      "Epoch 3/5\n",
      "42/42 [==============================] - 1s 24ms/step - loss: 3.6153e-04 - mean_squared_error: 3.6153e-04\n",
      "Epoch 4/5\n",
      "42/42 [==============================] - 1s 22ms/step - loss: 3.6157e-04 - mean_squared_error: 3.6157e-04\n",
      "Epoch 5/5\n",
      "42/42 [==============================] - 1s 23ms/step - loss: 3.6288e-04 - mean_squared_error: 3.6288e-04\n",
      "1/1 [==============================] - 0s 34ms/step\n"
     ]
    },
    {
     "data": {
      "text/plain": [
       "array([[35478.1]], dtype=float32)"
      ]
     },
     "metadata": {},
     "output_type": "display_data"
    },
    {
     "name": "stdout",
     "output_type": "stream",
     "text": [
      "Epoch 1/5\n",
      "42/42 [==============================] - 1s 24ms/step - loss: 3.4374e-04 - mean_squared_error: 3.4374e-04\n",
      "Epoch 2/5\n",
      "42/42 [==============================] - 1s 23ms/step - loss: 3.6263e-04 - mean_squared_error: 3.6263e-04\n",
      "Epoch 3/5\n",
      "42/42 [==============================] - 1s 23ms/step - loss: 3.5895e-04 - mean_squared_error: 3.5895e-04\n",
      "Epoch 4/5\n",
      "42/42 [==============================] - 1s 23ms/step - loss: 3.5103e-04 - mean_squared_error: 3.5103e-04\n",
      "Epoch 5/5\n",
      "42/42 [==============================] - 1s 27ms/step - loss: 3.6359e-04 - mean_squared_error: 3.6359e-04\n",
      "1/1 [==============================] - 0s 38ms/step\n"
     ]
    },
    {
     "data": {
      "text/plain": [
       "array([[35978.23]], dtype=float32)"
      ]
     },
     "metadata": {},
     "output_type": "display_data"
    },
    {
     "name": "stdout",
     "output_type": "stream",
     "text": [
      "Epoch 1/5\n",
      "42/42 [==============================] - 1s 33ms/step - loss: 3.8236e-04 - mean_squared_error: 3.8236e-04\n",
      "Epoch 2/5\n",
      "42/42 [==============================] - 1s 26ms/step - loss: 3.4185e-04 - mean_squared_error: 3.4185e-04\n",
      "Epoch 3/5\n",
      "42/42 [==============================] - 1s 33ms/step - loss: 3.7417e-04 - mean_squared_error: 3.7417e-04\n",
      "Epoch 4/5\n",
      "42/42 [==============================] - 1s 34ms/step - loss: 3.8126e-04 - mean_squared_error: 3.8126e-04\n",
      "Epoch 5/5\n",
      "42/42 [==============================] - 1s 28ms/step - loss: 3.6170e-04 - mean_squared_error: 3.6170e-04\n",
      "1/1 [==============================] - 0s 29ms/step\n"
     ]
    },
    {
     "data": {
      "text/plain": [
       "array([[36037.555]], dtype=float32)"
      ]
     },
     "metadata": {},
     "output_type": "display_data"
    },
    {
     "name": "stdout",
     "output_type": "stream",
     "text": [
      "Epoch 1/5\n",
      "42/42 [==============================] - 1s 24ms/step - loss: 3.4528e-04 - mean_squared_error: 3.4528e-04\n",
      "Epoch 2/5\n",
      "42/42 [==============================] - 1s 28ms/step - loss: 3.5168e-04 - mean_squared_error: 3.5168e-04\n",
      "Epoch 3/5\n",
      "42/42 [==============================] - 1s 34ms/step - loss: 3.4741e-04 - mean_squared_error: 3.4741e-04\n",
      "Epoch 4/5\n",
      "42/42 [==============================] - 1s 27ms/step - loss: 3.6925e-04 - mean_squared_error: 3.6925e-04\n",
      "Epoch 5/5\n",
      "42/42 [==============================] - 1s 23ms/step - loss: 3.8498e-04 - mean_squared_error: 3.8498e-04\n",
      "1/1 [==============================] - 0s 32ms/step\n"
     ]
    },
    {
     "data": {
      "text/plain": [
       "array([[36084.766]], dtype=float32)"
      ]
     },
     "metadata": {},
     "output_type": "display_data"
    },
    {
     "name": "stdout",
     "output_type": "stream",
     "text": [
      "Epoch 1/5\n",
      "42/42 [==============================] - 1s 23ms/step - loss: 3.6696e-04 - mean_squared_error: 3.6696e-04\n",
      "Epoch 2/5\n",
      "42/42 [==============================] - 1s 22ms/step - loss: 3.6182e-04 - mean_squared_error: 3.6182e-04\n",
      "Epoch 3/5\n",
      "42/42 [==============================] - 1s 23ms/step - loss: 3.4724e-04 - mean_squared_error: 3.4724e-04\n",
      "Epoch 4/5\n",
      "42/42 [==============================] - 1s 30ms/step - loss: 3.4888e-04 - mean_squared_error: 3.4888e-04\n",
      "Epoch 5/5\n",
      "42/42 [==============================] - 1s 23ms/step - loss: 3.8491e-04 - mean_squared_error: 3.8491e-04\n",
      "1/1 [==============================] - 0s 32ms/step\n"
     ]
    },
    {
     "data": {
      "text/plain": [
       "array([[35734.355]], dtype=float32)"
      ]
     },
     "metadata": {},
     "output_type": "display_data"
    },
    {
     "name": "stdout",
     "output_type": "stream",
     "text": [
      "Epoch 1/5\n",
      "42/42 [==============================] - 1s 31ms/step - loss: 3.5250e-04 - mean_squared_error: 3.5250e-04\n",
      "Epoch 2/5\n",
      "42/42 [==============================] - 1s 22ms/step - loss: 3.9787e-04 - mean_squared_error: 3.9787e-04\n",
      "Epoch 3/5\n",
      "42/42 [==============================] - 1s 23ms/step - loss: 3.6918e-04 - mean_squared_error: 3.6918e-04\n",
      "Epoch 4/5\n",
      "42/42 [==============================] - 1s 23ms/step - loss: 3.8950e-04 - mean_squared_error: 3.8950e-04\n",
      "Epoch 5/5\n",
      "42/42 [==============================] - 1s 23ms/step - loss: 3.9485e-04 - mean_squared_error: 3.9485e-04\n",
      "1/1 [==============================] - 0s 30ms/step\n"
     ]
    },
    {
     "data": {
      "text/plain": [
       "array([[35190.78]], dtype=float32)"
      ]
     },
     "metadata": {},
     "output_type": "display_data"
    },
    {
     "name": "stdout",
     "output_type": "stream",
     "text": [
      "Epoch 1/5\n",
      "42/42 [==============================] - 1s 22ms/step - loss: 3.7447e-04 - mean_squared_error: 3.7447e-04\n",
      "Epoch 2/5\n",
      "42/42 [==============================] - 1s 23ms/step - loss: 3.6942e-04 - mean_squared_error: 3.6942e-04\n",
      "Epoch 3/5\n",
      "42/42 [==============================] - 1s 23ms/step - loss: 3.6787e-04 - mean_squared_error: 3.6787e-04\n",
      "Epoch 4/5\n",
      "42/42 [==============================] - 1s 23ms/step - loss: 3.7293e-04 - mean_squared_error: 3.7293e-04\n",
      "Epoch 5/5\n",
      "42/42 [==============================] - 1s 22ms/step - loss: 3.4613e-04 - mean_squared_error: 3.4613e-04\n",
      "1/1 [==============================] - 0s 27ms/step\n"
     ]
    },
    {
     "data": {
      "text/plain": [
       "array([[35055.242]], dtype=float32)"
      ]
     },
     "metadata": {},
     "output_type": "display_data"
    },
    {
     "name": "stdout",
     "output_type": "stream",
     "text": [
      "Epoch 1/5\n",
      "42/42 [==============================] - 1s 23ms/step - loss: 3.4573e-04 - mean_squared_error: 3.4573e-04\n",
      "Epoch 2/5\n",
      "42/42 [==============================] - 1s 23ms/step - loss: 3.5564e-04 - mean_squared_error: 3.5564e-04\n",
      "Epoch 3/5\n",
      "42/42 [==============================] - 1s 22ms/step - loss: 3.3144e-04 - mean_squared_error: 3.3144e-04\n",
      "Epoch 4/5\n",
      "42/42 [==============================] - 1s 23ms/step - loss: 3.3965e-04 - mean_squared_error: 3.3965e-04\n",
      "Epoch 5/5\n",
      "42/42 [==============================] - 1s 23ms/step - loss: 3.4120e-04 - mean_squared_error: 3.4120e-04\n",
      "1/1 [==============================] - 0s 29ms/step\n"
     ]
    },
    {
     "data": {
      "text/plain": [
       "array([[34852.12]], dtype=float32)"
      ]
     },
     "metadata": {},
     "output_type": "display_data"
    },
    {
     "name": "stdout",
     "output_type": "stream",
     "text": [
      "Epoch 1/5\n",
      "42/42 [==============================] - 1s 31ms/step - loss: 3.4746e-04 - mean_squared_error: 3.4746e-04\n",
      "Epoch 2/5\n",
      "42/42 [==============================] - 1s 24ms/step - loss: 3.7081e-04 - mean_squared_error: 3.7081e-04\n",
      "Epoch 3/5\n",
      "42/42 [==============================] - 1s 22ms/step - loss: 3.3290e-04 - mean_squared_error: 3.3290e-04\n",
      "Epoch 4/5\n",
      "42/42 [==============================] - 1s 24ms/step - loss: 3.4336e-04 - mean_squared_error: 3.4336e-04\n",
      "Epoch 5/5\n",
      "42/42 [==============================] - 1s 22ms/step - loss: 3.4093e-04 - mean_squared_error: 3.4093e-04\n",
      "1/1 [==============================] - 0s 27ms/step\n"
     ]
    },
    {
     "data": {
      "text/plain": [
       "array([[34828.21]], dtype=float32)"
      ]
     },
     "metadata": {},
     "output_type": "display_data"
    },
    {
     "name": "stdout",
     "output_type": "stream",
     "text": [
      "Epoch 1/5\n",
      "42/42 [==============================] - 1s 22ms/step - loss: 3.4542e-04 - mean_squared_error: 3.4542e-04\n",
      "Epoch 2/5\n",
      "42/42 [==============================] - 1s 23ms/step - loss: 3.5381e-04 - mean_squared_error: 3.5381e-04\n",
      "Epoch 3/5\n",
      "42/42 [==============================] - 1s 22ms/step - loss: 3.5540e-04 - mean_squared_error: 3.5540e-04\n",
      "Epoch 4/5\n",
      "42/42 [==============================] - 1s 23ms/step - loss: 3.5984e-04 - mean_squared_error: 3.5984e-04\n",
      "Epoch 5/5\n",
      "42/42 [==============================] - 1s 22ms/step - loss: 3.8271e-04 - mean_squared_error: 3.8271e-04\n",
      "1/1 [==============================] - 0s 27ms/step\n"
     ]
    },
    {
     "data": {
      "text/plain": [
       "array([[34823.28]], dtype=float32)"
      ]
     },
     "metadata": {},
     "output_type": "display_data"
    },
    {
     "name": "stdout",
     "output_type": "stream",
     "text": [
      "Epoch 1/5\n",
      "42/42 [==============================] - 1s 22ms/step - loss: 3.6130e-04 - mean_squared_error: 3.6130e-04\n",
      "Epoch 2/5\n",
      "42/42 [==============================] - 1s 35ms/step - loss: 3.7490e-04 - mean_squared_error: 3.7490e-04\n",
      "Epoch 3/5\n",
      "42/42 [==============================] - 1s 30ms/step - loss: 3.4478e-04 - mean_squared_error: 3.4478e-04\n",
      "Epoch 4/5\n",
      "42/42 [==============================] - 1s 30ms/step - loss: 3.3826e-04 - mean_squared_error: 3.3826e-04\n",
      "Epoch 5/5\n",
      "42/42 [==============================] - 1s 27ms/step - loss: 3.3564e-04 - mean_squared_error: 3.3564e-04\n",
      "1/1 [==============================] - 0s 27ms/step\n"
     ]
    },
    {
     "data": {
      "text/plain": [
       "array([[34860.73]], dtype=float32)"
      ]
     },
     "metadata": {},
     "output_type": "display_data"
    },
    {
     "name": "stdout",
     "output_type": "stream",
     "text": [
      "Epoch 1/5\n",
      "42/42 [==============================] - 1s 32ms/step - loss: 3.5541e-04 - mean_squared_error: 3.5541e-04\n",
      "Epoch 2/5\n",
      "42/42 [==============================] - 1s 27ms/step - loss: 3.9345e-04 - mean_squared_error: 3.9345e-04\n",
      "Epoch 3/5\n",
      "42/42 [==============================] - 1s 25ms/step - loss: 3.6855e-04 - mean_squared_error: 3.6855e-04\n",
      "Epoch 4/5\n",
      "42/42 [==============================] - 1s 29ms/step - loss: 3.4036e-04 - mean_squared_error: 3.4036e-04\n",
      "Epoch 5/5\n",
      "42/42 [==============================] - 1s 27ms/step - loss: 3.7040e-04 - mean_squared_error: 3.7040e-04\n",
      "1/1 [==============================] - 0s 44ms/step\n"
     ]
    },
    {
     "data": {
      "text/plain": [
       "array([[34910.38]], dtype=float32)"
      ]
     },
     "metadata": {},
     "output_type": "display_data"
    },
    {
     "name": "stdout",
     "output_type": "stream",
     "text": [
      "Epoch 1/5\n",
      "42/42 [==============================] - 1s 30ms/step - loss: 3.4391e-04 - mean_squared_error: 3.4391e-04\n",
      "Epoch 2/5\n",
      "42/42 [==============================] - 1s 23ms/step - loss: 3.7052e-04 - mean_squared_error: 3.7052e-04\n",
      "Epoch 3/5\n",
      "42/42 [==============================] - 1s 23ms/step - loss: 3.4933e-04 - mean_squared_error: 3.4933e-04\n",
      "Epoch 4/5\n",
      "42/42 [==============================] - 1s 23ms/step - loss: 3.3594e-04 - mean_squared_error: 3.3594e-04\n",
      "Epoch 5/5\n",
      "42/42 [==============================] - 1s 24ms/step - loss: 3.7610e-04 - mean_squared_error: 3.7610e-04\n",
      "1/1 [==============================] - 0s 33ms/step\n"
     ]
    },
    {
     "data": {
      "text/plain": [
       "array([[35638.37]], dtype=float32)"
      ]
     },
     "metadata": {},
     "output_type": "display_data"
    },
    {
     "name": "stdout",
     "output_type": "stream",
     "text": [
      "Epoch 1/5\n",
      "42/42 [==============================] - 1s 26ms/step - loss: 3.7554e-04 - mean_squared_error: 3.7554e-04\n",
      "Epoch 2/5\n",
      "42/42 [==============================] - 1s 27ms/step - loss: 3.2773e-04 - mean_squared_error: 3.2773e-04\n",
      "Epoch 3/5\n",
      "42/42 [==============================] - 1s 22ms/step - loss: 3.3506e-04 - mean_squared_error: 3.3506e-04\n",
      "Epoch 4/5\n",
      "42/42 [==============================] - 1s 29ms/step - loss: 3.6566e-04 - mean_squared_error: 3.6566e-04\n",
      "Epoch 5/5\n",
      "42/42 [==============================] - 1s 28ms/step - loss: 3.3053e-04 - mean_squared_error: 3.3053e-04\n",
      "1/1 [==============================] - 0s 29ms/step\n"
     ]
    },
    {
     "data": {
      "text/plain": [
       "array([[35320.1]], dtype=float32)"
      ]
     },
     "metadata": {},
     "output_type": "display_data"
    },
    {
     "name": "stdout",
     "output_type": "stream",
     "text": [
      "Epoch 1/5\n",
      "42/42 [==============================] - 1s 23ms/step - loss: 3.3136e-04 - mean_squared_error: 3.3136e-04\n",
      "Epoch 2/5\n",
      "42/42 [==============================] - 1s 22ms/step - loss: 3.3483e-04 - mean_squared_error: 3.3483e-04\n",
      "Epoch 3/5\n",
      "42/42 [==============================] - 1s 23ms/step - loss: 3.2585e-04 - mean_squared_error: 3.2585e-04\n",
      "Epoch 4/5\n",
      "42/42 [==============================] - 1s 23ms/step - loss: 3.5750e-04 - mean_squared_error: 3.5750e-04\n",
      "Epoch 5/5\n",
      "42/42 [==============================] - 1s 25ms/step - loss: 3.4199e-04 - mean_squared_error: 3.4199e-04\n",
      "1/1 [==============================] - 0s 30ms/step\n"
     ]
    },
    {
     "data": {
      "text/plain": [
       "array([[35455.887]], dtype=float32)"
      ]
     },
     "metadata": {},
     "output_type": "display_data"
    },
    {
     "name": "stdout",
     "output_type": "stream",
     "text": [
      "Epoch 1/5\n",
      "42/42 [==============================] - 1s 23ms/step - loss: 3.5057e-04 - mean_squared_error: 3.5057e-04\n",
      "Epoch 2/5\n",
      "42/42 [==============================] - 1s 24ms/step - loss: 3.4070e-04 - mean_squared_error: 3.4070e-04\n",
      "Epoch 3/5\n",
      "42/42 [==============================] - 1s 23ms/step - loss: 3.3099e-04 - mean_squared_error: 3.3099e-04\n",
      "Epoch 4/5\n",
      "42/42 [==============================] - 1s 30ms/step - loss: 3.2770e-04 - mean_squared_error: 3.2770e-04\n",
      "Epoch 5/5\n",
      "42/42 [==============================] - 1s 22ms/step - loss: 3.4255e-04 - mean_squared_error: 3.4255e-04\n",
      "1/1 [==============================] - 0s 30ms/step\n"
     ]
    },
    {
     "data": {
      "text/plain": [
       "array([[35148.707]], dtype=float32)"
      ]
     },
     "metadata": {},
     "output_type": "display_data"
    },
    {
     "name": "stdout",
     "output_type": "stream",
     "text": [
      "Epoch 1/5\n",
      "42/42 [==============================] - 1s 23ms/step - loss: 3.6482e-04 - mean_squared_error: 3.6482e-04\n",
      "Epoch 2/5\n",
      "42/42 [==============================] - 1s 22ms/step - loss: 3.5464e-04 - mean_squared_error: 3.5464e-04\n",
      "Epoch 3/5\n",
      "42/42 [==============================] - 1s 23ms/step - loss: 3.5459e-04 - mean_squared_error: 3.5459e-04\n",
      "Epoch 4/5\n",
      "42/42 [==============================] - 1s 23ms/step - loss: 3.2933e-04 - mean_squared_error: 3.2933e-04\n",
      "Epoch 5/5\n",
      "42/42 [==============================] - 1s 24ms/step - loss: 3.3783e-04 - mean_squared_error: 3.3783e-04\n",
      "1/1 [==============================] - 0s 27ms/step\n"
     ]
    },
    {
     "data": {
      "text/plain": [
       "array([[35010.64]], dtype=float32)"
      ]
     },
     "metadata": {},
     "output_type": "display_data"
    },
    {
     "name": "stdout",
     "output_type": "stream",
     "text": [
      "Epoch 1/5\n",
      "42/42 [==============================] - 1s 23ms/step - loss: 3.5194e-04 - mean_squared_error: 3.5194e-04\n",
      "Epoch 2/5\n",
      "42/42 [==============================] - 1s 23ms/step - loss: 3.5406e-04 - mean_squared_error: 3.5406e-04\n",
      "Epoch 3/5\n",
      "42/42 [==============================] - 1s 23ms/step - loss: 3.4120e-04 - mean_squared_error: 3.4120e-04\n",
      "Epoch 4/5\n",
      "42/42 [==============================] - 1s 25ms/step - loss: 3.6164e-04 - mean_squared_error: 3.6164e-04\n",
      "Epoch 5/5\n",
      "42/42 [==============================] - 1s 22ms/step - loss: 3.2314e-04 - mean_squared_error: 3.2314e-04\n",
      "1/1 [==============================] - 0s 28ms/step\n"
     ]
    },
    {
     "data": {
      "text/plain": [
       "array([[34963.83]], dtype=float32)"
      ]
     },
     "metadata": {},
     "output_type": "display_data"
    },
    {
     "name": "stdout",
     "output_type": "stream",
     "text": [
      "Epoch 1/5\n",
      "42/42 [==============================] - 1s 23ms/step - loss: 3.2941e-04 - mean_squared_error: 3.2941e-04\n",
      "Epoch 2/5\n",
      "42/42 [==============================] - 1s 23ms/step - loss: 3.5502e-04 - mean_squared_error: 3.5502e-04\n",
      "Epoch 3/5\n",
      "42/42 [==============================] - 1s 22ms/step - loss: 3.3721e-04 - mean_squared_error: 3.3721e-04\n",
      "Epoch 4/5\n",
      "42/42 [==============================] - 1s 22ms/step - loss: 3.3395e-04 - mean_squared_error: 3.3395e-04\n",
      "Epoch 5/5\n",
      "42/42 [==============================] - 1s 26ms/step - loss: 3.4303e-04 - mean_squared_error: 3.4303e-04\n",
      "1/1 [==============================] - 0s 35ms/step\n"
     ]
    },
    {
     "data": {
      "text/plain": [
       "array([[34987.67]], dtype=float32)"
      ]
     },
     "metadata": {},
     "output_type": "display_data"
    },
    {
     "name": "stdout",
     "output_type": "stream",
     "text": [
      "Epoch 1/5\n",
      "42/42 [==============================] - 1s 26ms/step - loss: 3.3199e-04 - mean_squared_error: 3.3199e-04\n",
      "Epoch 2/5\n",
      "42/42 [==============================] - 1s 28ms/step - loss: 3.3594e-04 - mean_squared_error: 3.3594e-04\n",
      "Epoch 3/5\n",
      "42/42 [==============================] - 1s 23ms/step - loss: 3.2381e-04 - mean_squared_error: 3.2381e-04\n",
      "Epoch 4/5\n",
      "42/42 [==============================] - 1s 22ms/step - loss: 3.3844e-04 - mean_squared_error: 3.3844e-04\n",
      "Epoch 5/5\n",
      "42/42 [==============================] - 1s 23ms/step - loss: 3.6872e-04 - mean_squared_error: 3.6872e-04\n",
      "1/1 [==============================] - 0s 27ms/step\n"
     ]
    },
    {
     "data": {
      "text/plain": [
       "array([[35048.117]], dtype=float32)"
      ]
     },
     "metadata": {},
     "output_type": "display_data"
    },
    {
     "name": "stdout",
     "output_type": "stream",
     "text": [
      "Epoch 1/5\n",
      "42/42 [==============================] - 1s 22ms/step - loss: 3.6634e-04 - mean_squared_error: 3.6634e-04\n",
      "Epoch 2/5\n",
      "42/42 [==============================] - 1s 25ms/step - loss: 3.2809e-04 - mean_squared_error: 3.2809e-04\n",
      "Epoch 3/5\n",
      "42/42 [==============================] - 1s 23ms/step - loss: 3.3157e-04 - mean_squared_error: 3.3157e-04\n",
      "Epoch 4/5\n",
      "42/42 [==============================] - 1s 23ms/step - loss: 3.4244e-04 - mean_squared_error: 3.4244e-04\n",
      "Epoch 5/5\n",
      "42/42 [==============================] - 1s 24ms/step - loss: 3.4838e-04 - mean_squared_error: 3.4838e-04\n",
      "1/1 [==============================] - 0s 43ms/step\n"
     ]
    },
    {
     "data": {
      "text/plain": [
       "array([[34811.652]], dtype=float32)"
      ]
     },
     "metadata": {},
     "output_type": "display_data"
    },
    {
     "name": "stdout",
     "output_type": "stream",
     "text": [
      "Epoch 1/5\n",
      "42/42 [==============================] - 1s 23ms/step - loss: 3.4903e-04 - mean_squared_error: 3.4903e-04\n",
      "Epoch 2/5\n",
      "42/42 [==============================] - 1s 23ms/step - loss: 3.4167e-04 - mean_squared_error: 3.4167e-04\n",
      "Epoch 3/5\n",
      "42/42 [==============================] - 1s 22ms/step - loss: 3.3854e-04 - mean_squared_error: 3.3854e-04\n",
      "Epoch 4/5\n",
      "42/42 [==============================] - 1s 24ms/step - loss: 3.3922e-04 - mean_squared_error: 3.3922e-04\n",
      "Epoch 5/5\n",
      "42/42 [==============================] - 1s 23ms/step - loss: 3.4313e-04 - mean_squared_error: 3.4313e-04\n",
      "1/1 [==============================] - 0s 27ms/step\n"
     ]
    },
    {
     "data": {
      "text/plain": [
       "array([[34998.74]], dtype=float32)"
      ]
     },
     "metadata": {},
     "output_type": "display_data"
    },
    {
     "name": "stdout",
     "output_type": "stream",
     "text": [
      "Epoch 1/5\n",
      "42/42 [==============================] - 1s 24ms/step - loss: 3.1732e-04 - mean_squared_error: 3.1732e-04\n",
      "Epoch 2/5\n",
      "42/42 [==============================] - 1s 23ms/step - loss: 3.6532e-04 - mean_squared_error: 3.6532e-04\n",
      "Epoch 3/5\n",
      "42/42 [==============================] - 1s 27ms/step - loss: 3.4465e-04 - mean_squared_error: 3.4465e-04\n",
      "Epoch 4/5\n",
      "42/42 [==============================] - 1s 30ms/step - loss: 3.6778e-04 - mean_squared_error: 3.6778e-04\n",
      "Epoch 5/5\n",
      "42/42 [==============================] - 1s 32ms/step - loss: 3.3574e-04 - mean_squared_error: 3.3574e-04\n",
      "1/1 [==============================] - 0s 31ms/step\n"
     ]
    },
    {
     "data": {
      "text/plain": [
       "array([[35097.53]], dtype=float32)"
      ]
     },
     "metadata": {},
     "output_type": "display_data"
    },
    {
     "name": "stdout",
     "output_type": "stream",
     "text": [
      "Epoch 1/5\n",
      "42/42 [==============================] - 1s 28ms/step - loss: 3.3291e-04 - mean_squared_error: 3.3291e-04\n",
      "Epoch 2/5\n",
      "42/42 [==============================] - 2s 42ms/step - loss: 3.3510e-04 - mean_squared_error: 3.3510e-04\n",
      "Epoch 3/5\n",
      "42/42 [==============================] - 1s 30ms/step - loss: 3.6475e-04 - mean_squared_error: 3.6475e-04\n",
      "Epoch 4/5\n",
      "42/42 [==============================] - 1s 32ms/step - loss: 3.5791e-04 - mean_squared_error: 3.5791e-04\n",
      "Epoch 5/5\n",
      "42/42 [==============================] - 2s 39ms/step - loss: 3.5551e-04 - mean_squared_error: 3.5551e-04\n",
      "1/1 [==============================] - 0s 39ms/step\n"
     ]
    },
    {
     "data": {
      "text/plain": [
       "array([[35113.188]], dtype=float32)"
      ]
     },
     "metadata": {},
     "output_type": "display_data"
    },
    {
     "name": "stdout",
     "output_type": "stream",
     "text": [
      "Epoch 1/5\n",
      "42/42 [==============================] - 1s 35ms/step - loss: 3.3009e-04 - mean_squared_error: 3.3009e-04\n",
      "Epoch 2/5\n",
      "42/42 [==============================] - 1s 29ms/step - loss: 3.3256e-04 - mean_squared_error: 3.3256e-04\n",
      "Epoch 3/5\n",
      "42/42 [==============================] - 1s 24ms/step - loss: 3.3052e-04 - mean_squared_error: 3.3052e-04\n",
      "Epoch 4/5\n",
      "42/42 [==============================] - 1s 27ms/step - loss: 3.3724e-04 - mean_squared_error: 3.3724e-04\n",
      "Epoch 5/5\n",
      "42/42 [==============================] - 1s 32ms/step - loss: 3.2345e-04 - mean_squared_error: 3.2345e-04\n",
      "1/1 [==============================] - 0s 31ms/step\n"
     ]
    },
    {
     "data": {
      "text/plain": [
       "array([[35021.734]], dtype=float32)"
      ]
     },
     "metadata": {},
     "output_type": "display_data"
    },
    {
     "name": "stdout",
     "output_type": "stream",
     "text": [
      "Epoch 1/5\n",
      "42/42 [==============================] - 1s 28ms/step - loss: 3.4705e-04 - mean_squared_error: 3.4705e-04\n",
      "Epoch 2/5\n",
      "42/42 [==============================] - 1s 27ms/step - loss: 3.3657e-04 - mean_squared_error: 3.3657e-04\n",
      "Epoch 3/5\n",
      "42/42 [==============================] - 1s 25ms/step - loss: 3.2447e-04 - mean_squared_error: 3.2447e-04\n",
      "Epoch 4/5\n",
      "42/42 [==============================] - 1s 24ms/step - loss: 3.1745e-04 - mean_squared_error: 3.1745e-04\n",
      "Epoch 5/5\n",
      "42/42 [==============================] - 1s 25ms/step - loss: 3.1486e-04 - mean_squared_error: 3.1486e-04\n",
      "1/1 [==============================] - 0s 30ms/step\n"
     ]
    },
    {
     "data": {
      "text/plain": [
       "array([[35049.5]], dtype=float32)"
      ]
     },
     "metadata": {},
     "output_type": "display_data"
    },
    {
     "name": "stdout",
     "output_type": "stream",
     "text": [
      "Epoch 1/5\n",
      "42/42 [==============================] - 1s 24ms/step - loss: 3.3454e-04 - mean_squared_error: 3.3454e-04\n",
      "Epoch 2/5\n",
      "42/42 [==============================] - 1s 24ms/step - loss: 3.5166e-04 - mean_squared_error: 3.5166e-04\n",
      "Epoch 3/5\n",
      "42/42 [==============================] - 1s 24ms/step - loss: 3.7637e-04 - mean_squared_error: 3.7637e-04\n",
      "Epoch 4/5\n",
      "42/42 [==============================] - 1s 24ms/step - loss: 3.4817e-04 - mean_squared_error: 3.4817e-04\n",
      "Epoch 5/5\n",
      "42/42 [==============================] - 1s 23ms/step - loss: 3.3234e-04 - mean_squared_error: 3.3234e-04\n",
      "1/1 [==============================] - 0s 29ms/step\n"
     ]
    },
    {
     "data": {
      "text/plain": [
       "array([[34533.836]], dtype=float32)"
      ]
     },
     "metadata": {},
     "output_type": "display_data"
    },
    {
     "name": "stdout",
     "output_type": "stream",
     "text": [
      "Epoch 1/5\n",
      "42/42 [==============================] - 1s 24ms/step - loss: 3.1227e-04 - mean_squared_error: 3.1227e-04\n",
      "Epoch 2/5\n",
      "42/42 [==============================] - 1s 23ms/step - loss: 3.4675e-04 - mean_squared_error: 3.4675e-04\n",
      "Epoch 3/5\n",
      "42/42 [==============================] - 1s 25ms/step - loss: 3.0666e-04 - mean_squared_error: 3.0666e-04\n",
      "Epoch 4/5\n",
      "42/42 [==============================] - 1s 23ms/step - loss: 3.3577e-04 - mean_squared_error: 3.3577e-04\n",
      "Epoch 5/5\n",
      "42/42 [==============================] - 1s 25ms/step - loss: 3.5399e-04 - mean_squared_error: 3.5399e-04\n",
      "1/1 [==============================] - 0s 28ms/step\n"
     ]
    },
    {
     "data": {
      "text/plain": [
       "array([[34064.414]], dtype=float32)"
      ]
     },
     "metadata": {},
     "output_type": "display_data"
    },
    {
     "name": "stdout",
     "output_type": "stream",
     "text": [
      "Epoch 1/5\n",
      "43/43 [==============================] - 1s 24ms/step - loss: 3.2197e-04 - mean_squared_error: 3.2197e-04\n",
      "Epoch 2/5\n",
      "43/43 [==============================] - 1s 27ms/step - loss: 3.4359e-04 - mean_squared_error: 3.4359e-04\n",
      "Epoch 3/5\n",
      "43/43 [==============================] - 1s 24ms/step - loss: 4.0569e-04 - mean_squared_error: 4.0569e-04\n",
      "Epoch 4/5\n",
      "43/43 [==============================] - 1s 25ms/step - loss: 3.3917e-04 - mean_squared_error: 3.3917e-04\n",
      "Epoch 5/5\n",
      "43/43 [==============================] - 1s 25ms/step - loss: 3.1154e-04 - mean_squared_error: 3.1154e-04\n",
      "1/1 [==============================] - 0s 31ms/step\n"
     ]
    },
    {
     "data": {
      "text/plain": [
       "array([[33688.95]], dtype=float32)"
      ]
     },
     "metadata": {},
     "output_type": "display_data"
    },
    {
     "name": "stdout",
     "output_type": "stream",
     "text": [
      "Epoch 1/5\n",
      "43/43 [==============================] - 1s 31ms/step - loss: 3.3556e-04 - mean_squared_error: 3.3556e-04\n",
      "Epoch 2/5\n",
      "43/43 [==============================] - 1s 28ms/step - loss: 3.2914e-04 - mean_squared_error: 3.2914e-04\n",
      "Epoch 3/5\n",
      "43/43 [==============================] - 2s 38ms/step - loss: 4.6137e-04 - mean_squared_error: 4.6137e-04\n",
      "Epoch 4/5\n",
      "43/43 [==============================] - 1s 24ms/step - loss: 3.3669e-04 - mean_squared_error: 3.3669e-04\n",
      "Epoch 5/5\n",
      "43/43 [==============================] - 1s 24ms/step - loss: 3.2911e-04 - mean_squared_error: 3.2911e-04\n",
      "1/1 [==============================] - 0s 31ms/step\n"
     ]
    },
    {
     "data": {
      "text/plain": [
       "array([[33925.44]], dtype=float32)"
      ]
     },
     "metadata": {},
     "output_type": "display_data"
    },
    {
     "name": "stdout",
     "output_type": "stream",
     "text": [
      "Epoch 1/5\n",
      "43/43 [==============================] - 1s 28ms/step - loss: 3.2297e-04 - mean_squared_error: 3.2297e-04\n",
      "Epoch 2/5\n",
      "43/43 [==============================] - 1s 34ms/step - loss: 3.1473e-04 - mean_squared_error: 3.1473e-04\n",
      "Epoch 3/5\n",
      "43/43 [==============================] - 2s 38ms/step - loss: 3.1756e-04 - mean_squared_error: 3.1756e-04\n",
      "Epoch 4/5\n",
      "43/43 [==============================] - 1s 31ms/step - loss: 3.4052e-04 - mean_squared_error: 3.4052e-04\n",
      "Epoch 5/5\n",
      "43/43 [==============================] - 1s 23ms/step - loss: 3.6272e-04 - mean_squared_error: 3.6272e-04\n",
      "1/1 [==============================] - 0s 33ms/step\n"
     ]
    },
    {
     "data": {
      "text/plain": [
       "array([[34177.22]], dtype=float32)"
      ]
     },
     "metadata": {},
     "output_type": "display_data"
    },
    {
     "name": "stdout",
     "output_type": "stream",
     "text": [
      "Epoch 1/5\n",
      "43/43 [==============================] - 1s 25ms/step - loss: 3.2194e-04 - mean_squared_error: 3.2194e-04\n",
      "Epoch 2/5\n",
      "43/43 [==============================] - 1s 31ms/step - loss: 3.3692e-04 - mean_squared_error: 3.3692e-04\n",
      "Epoch 3/5\n",
      "43/43 [==============================] - 1s 26ms/step - loss: 2.9554e-04 - mean_squared_error: 2.9554e-04\n",
      "Epoch 4/5\n",
      "43/43 [==============================] - 1s 26ms/step - loss: 3.2053e-04 - mean_squared_error: 3.2053e-04\n",
      "Epoch 5/5\n",
      "43/43 [==============================] - 1s 24ms/step - loss: 3.1649e-04 - mean_squared_error: 3.1649e-04\n",
      "1/1 [==============================] - 0s 29ms/step\n"
     ]
    },
    {
     "data": {
      "text/plain": [
       "array([[34526.543]], dtype=float32)"
      ]
     },
     "metadata": {},
     "output_type": "display_data"
    },
    {
     "name": "stdout",
     "output_type": "stream",
     "text": [
      "Epoch 1/5\n",
      "43/43 [==============================] - 1s 26ms/step - loss: 3.2325e-04 - mean_squared_error: 3.2325e-04\n",
      "Epoch 2/5\n",
      "43/43 [==============================] - 1s 26ms/step - loss: 3.3550e-04 - mean_squared_error: 3.3550e-04\n",
      "Epoch 3/5\n",
      "43/43 [==============================] - 1s 24ms/step - loss: 3.2094e-04 - mean_squared_error: 3.2094e-04\n",
      "Epoch 4/5\n",
      "43/43 [==============================] - 1s 24ms/step - loss: 2.9838e-04 - mean_squared_error: 2.9838e-04\n",
      "Epoch 5/5\n",
      "43/43 [==============================] - 1s 25ms/step - loss: 2.9997e-04 - mean_squared_error: 2.9997e-04\n",
      "1/1 [==============================] - 0s 30ms/step\n"
     ]
    },
    {
     "data": {
      "text/plain": [
       "array([[35004.91]], dtype=float32)"
      ]
     },
     "metadata": {},
     "output_type": "display_data"
    },
    {
     "name": "stdout",
     "output_type": "stream",
     "text": [
      "Epoch 1/5\n",
      "43/43 [==============================] - 1s 24ms/step - loss: 3.1457e-04 - mean_squared_error: 3.1457e-04\n",
      "Epoch 2/5\n",
      "43/43 [==============================] - 1s 24ms/step - loss: 3.3091e-04 - mean_squared_error: 3.3091e-04\n",
      "Epoch 3/5\n",
      "43/43 [==============================] - 1s 24ms/step - loss: 3.1116e-04 - mean_squared_error: 3.1116e-04\n",
      "Epoch 4/5\n",
      "43/43 [==============================] - 1s 24ms/step - loss: 3.1063e-04 - mean_squared_error: 3.1063e-04\n",
      "Epoch 5/5\n",
      "43/43 [==============================] - 1s 24ms/step - loss: 3.1290e-04 - mean_squared_error: 3.1290e-04\n",
      "1/1 [==============================] - 0s 28ms/step\n"
     ]
    },
    {
     "data": {
      "text/plain": [
       "array([[34906.32]], dtype=float32)"
      ]
     },
     "metadata": {},
     "output_type": "display_data"
    },
    {
     "name": "stdout",
     "output_type": "stream",
     "text": [
      "Epoch 1/5\n",
      "43/43 [==============================] - 1s 23ms/step - loss: 3.1838e-04 - mean_squared_error: 3.1838e-04\n",
      "Epoch 2/5\n",
      "43/43 [==============================] - 1s 23ms/step - loss: 3.0093e-04 - mean_squared_error: 3.0093e-04\n",
      "Epoch 3/5\n",
      "43/43 [==============================] - 1s 24ms/step - loss: 3.2425e-04 - mean_squared_error: 3.2425e-04\n",
      "Epoch 4/5\n",
      "43/43 [==============================] - 1s 25ms/step - loss: 3.0975e-04 - mean_squared_error: 3.0975e-04\n",
      "Epoch 5/5\n",
      "43/43 [==============================] - 1s 24ms/step - loss: 3.2937e-04 - mean_squared_error: 3.2937e-04\n",
      "1/1 [==============================] - 0s 38ms/step\n"
     ]
    },
    {
     "data": {
      "text/plain": [
       "array([[35168.78]], dtype=float32)"
      ]
     },
     "metadata": {},
     "output_type": "display_data"
    },
    {
     "name": "stdout",
     "output_type": "stream",
     "text": [
      "Epoch 1/5\n",
      "43/43 [==============================] - 2s 40ms/step - loss: 3.2809e-04 - mean_squared_error: 3.2809e-04\n",
      "Epoch 2/5\n",
      "43/43 [==============================] - 1s 34ms/step - loss: 3.1637e-04 - mean_squared_error: 3.1637e-04\n",
      "Epoch 3/5\n",
      "43/43 [==============================] - 2s 38ms/step - loss: 3.3570e-04 - mean_squared_error: 3.3570e-04\n",
      "Epoch 4/5\n",
      "43/43 [==============================] - 1s 34ms/step - loss: 3.1218e-04 - mean_squared_error: 3.1218e-04\n",
      "Epoch 5/5\n",
      "43/43 [==============================] - 1s 26ms/step - loss: 3.2529e-04 - mean_squared_error: 3.2529e-04\n",
      "1/1 [==============================] - 0s 31ms/step\n"
     ]
    },
    {
     "data": {
      "text/plain": [
       "array([[35136.97]], dtype=float32)"
      ]
     },
     "metadata": {},
     "output_type": "display_data"
    },
    {
     "name": "stdout",
     "output_type": "stream",
     "text": [
      "Epoch 1/5\n",
      "43/43 [==============================] - 2s 36ms/step - loss: 3.1850e-04 - mean_squared_error: 3.1850e-04\n",
      "Epoch 2/5\n",
      "43/43 [==============================] - 1s 33ms/step - loss: 3.0032e-04 - mean_squared_error: 3.0032e-04\n",
      "Epoch 3/5\n",
      "43/43 [==============================] - 1s 29ms/step - loss: 3.1326e-04 - mean_squared_error: 3.1326e-04\n",
      "Epoch 4/5\n",
      "43/43 [==============================] - 1s 29ms/step - loss: 3.3700e-04 - mean_squared_error: 3.3700e-04\n",
      "Epoch 5/5\n",
      "43/43 [==============================] - 1s 25ms/step - loss: 3.3492e-04 - mean_squared_error: 3.3492e-04\n",
      "1/1 [==============================] - 0s 35ms/step\n"
     ]
    },
    {
     "data": {
      "text/plain": [
       "array([[34274.727]], dtype=float32)"
      ]
     },
     "metadata": {},
     "output_type": "display_data"
    },
    {
     "name": "stdout",
     "output_type": "stream",
     "text": [
      "Epoch 1/5\n",
      "43/43 [==============================] - 1s 32ms/step - loss: 3.3842e-04 - mean_squared_error: 3.3842e-04\n",
      "Epoch 2/5\n",
      "43/43 [==============================] - 1s 28ms/step - loss: 3.0479e-04 - mean_squared_error: 3.0479e-04\n",
      "Epoch 3/5\n",
      "43/43 [==============================] - 1s 23ms/step - loss: 2.9232e-04 - mean_squared_error: 2.9232e-04\n",
      "Epoch 4/5\n",
      "43/43 [==============================] - 1s 27ms/step - loss: 3.0904e-04 - mean_squared_error: 3.0904e-04\n",
      "Epoch 5/5\n",
      "43/43 [==============================] - 1s 25ms/step - loss: 3.1112e-04 - mean_squared_error: 3.1112e-04\n",
      "1/1 [==============================] - 0s 32ms/step\n"
     ]
    },
    {
     "data": {
      "text/plain": [
       "array([[34120.64]], dtype=float32)"
      ]
     },
     "metadata": {},
     "output_type": "display_data"
    },
    {
     "name": "stdout",
     "output_type": "stream",
     "text": [
      "Epoch 1/5\n",
      "43/43 [==============================] - 1s 30ms/step - loss: 3.1355e-04 - mean_squared_error: 3.1355e-04\n",
      "Epoch 2/5\n",
      "43/43 [==============================] - 1s 30ms/step - loss: 3.3402e-04 - mean_squared_error: 3.3402e-04\n",
      "Epoch 3/5\n",
      "43/43 [==============================] - 1s 25ms/step - loss: 2.9490e-04 - mean_squared_error: 2.9490e-04\n",
      "Epoch 4/5\n",
      "43/43 [==============================] - 1s 24ms/step - loss: 3.0976e-04 - mean_squared_error: 3.0976e-04\n",
      "Epoch 5/5\n",
      "43/43 [==============================] - 1s 33ms/step - loss: 3.1787e-04 - mean_squared_error: 3.1787e-04\n",
      "1/1 [==============================] - 0s 28ms/step\n"
     ]
    },
    {
     "data": {
      "text/plain": [
       "array([[34216.965]], dtype=float32)"
      ]
     },
     "metadata": {},
     "output_type": "display_data"
    },
    {
     "name": "stdout",
     "output_type": "stream",
     "text": [
      "Epoch 1/5\n",
      "43/43 [==============================] - 1s 25ms/step - loss: 3.1418e-04 - mean_squared_error: 3.1418e-04\n",
      "Epoch 2/5\n",
      "43/43 [==============================] - 1s 26ms/step - loss: 2.9162e-04 - mean_squared_error: 2.9162e-04\n",
      "Epoch 3/5\n",
      "43/43 [==============================] - 1s 25ms/step - loss: 3.1509e-04 - mean_squared_error: 3.1509e-04\n",
      "Epoch 4/5\n",
      "43/43 [==============================] - 1s 32ms/step - loss: 3.4444e-04 - mean_squared_error: 3.4444e-04\n",
      "Epoch 5/5\n",
      "43/43 [==============================] - 1s 34ms/step - loss: 2.8817e-04 - mean_squared_error: 2.8817e-04\n",
      "1/1 [==============================] - 0s 25ms/step\n"
     ]
    },
    {
     "data": {
      "text/plain": [
       "array([[34383.754]], dtype=float32)"
      ]
     },
     "metadata": {},
     "output_type": "display_data"
    },
    {
     "name": "stdout",
     "output_type": "stream",
     "text": [
      "Epoch 1/5\n",
      "43/43 [==============================] - 1s 25ms/step - loss: 3.1249e-04 - mean_squared_error: 3.1249e-04\n",
      "Epoch 2/5\n",
      "43/43 [==============================] - 1s 26ms/step - loss: 3.1551e-04 - mean_squared_error: 3.1551e-04\n",
      "Epoch 3/5\n",
      "43/43 [==============================] - 1s 24ms/step - loss: 3.0787e-04 - mean_squared_error: 3.0787e-04\n",
      "Epoch 4/5\n",
      "43/43 [==============================] - 1s 26ms/step - loss: 2.8738e-04 - mean_squared_error: 2.8738e-04\n",
      "Epoch 5/5\n",
      "43/43 [==============================] - 1s 25ms/step - loss: 3.1964e-04 - mean_squared_error: 3.1964e-04\n",
      "1/1 [==============================] - 0s 30ms/step\n"
     ]
    },
    {
     "data": {
      "text/plain": [
       "array([[34443.11]], dtype=float32)"
      ]
     },
     "metadata": {},
     "output_type": "display_data"
    },
    {
     "name": "stdout",
     "output_type": "stream",
     "text": [
      "Epoch 1/5\n",
      "43/43 [==============================] - 1s 24ms/step - loss: 3.1274e-04 - mean_squared_error: 3.1274e-04\n",
      "Epoch 2/5\n",
      "43/43 [==============================] - 1s 24ms/step - loss: 3.0978e-04 - mean_squared_error: 3.0978e-04\n",
      "Epoch 3/5\n",
      "43/43 [==============================] - 1s 25ms/step - loss: 2.9210e-04 - mean_squared_error: 2.9210e-04\n",
      "Epoch 4/5\n",
      "43/43 [==============================] - 1s 24ms/step - loss: 2.8538e-04 - mean_squared_error: 2.8538e-04\n",
      "Epoch 5/5\n",
      "43/43 [==============================] - 1s 25ms/step - loss: 2.9268e-04 - mean_squared_error: 2.9268e-04\n",
      "1/1 [==============================] - 0s 31ms/step\n"
     ]
    },
    {
     "data": {
      "text/plain": [
       "array([[34725.445]], dtype=float32)"
      ]
     },
     "metadata": {},
     "output_type": "display_data"
    },
    {
     "name": "stdout",
     "output_type": "stream",
     "text": [
      "Epoch 1/5\n",
      "43/43 [==============================] - 1s 29ms/step - loss: 2.9840e-04 - mean_squared_error: 2.9840e-04\n",
      "Epoch 2/5\n",
      "43/43 [==============================] - 1s 26ms/step - loss: 3.0263e-04 - mean_squared_error: 3.0263e-04\n",
      "Epoch 3/5\n",
      "43/43 [==============================] - 1s 24ms/step - loss: 2.9237e-04 - mean_squared_error: 2.9237e-04\n",
      "Epoch 4/5\n",
      "43/43 [==============================] - 1s 22ms/step - loss: 3.1480e-04 - mean_squared_error: 3.1480e-04\n",
      "Epoch 5/5\n",
      "43/43 [==============================] - 1s 24ms/step - loss: 2.9160e-04 - mean_squared_error: 2.9160e-04\n",
      "1/1 [==============================] - 0s 26ms/step\n"
     ]
    },
    {
     "data": {
      "text/plain": [
       "array([[34775.766]], dtype=float32)"
      ]
     },
     "metadata": {},
     "output_type": "display_data"
    },
    {
     "name": "stdout",
     "output_type": "stream",
     "text": [
      "Epoch 1/5\n",
      "43/43 [==============================] - 1s 24ms/step - loss: 2.8961e-04 - mean_squared_error: 2.8961e-04\n",
      "Epoch 2/5\n",
      "43/43 [==============================] - 1s 24ms/step - loss: 3.1218e-04 - mean_squared_error: 3.1218e-04\n",
      "Epoch 3/5\n",
      "43/43 [==============================] - 1s 24ms/step - loss: 3.0602e-04 - mean_squared_error: 3.0602e-04\n",
      "Epoch 4/5\n",
      "43/43 [==============================] - 1s 26ms/step - loss: 2.8975e-04 - mean_squared_error: 2.8975e-04\n",
      "Epoch 5/5\n",
      "43/43 [==============================] - 1s 23ms/step - loss: 3.1154e-04 - mean_squared_error: 3.1154e-04\n",
      "1/1 [==============================] - 0s 28ms/step\n"
     ]
    },
    {
     "data": {
      "text/plain": [
       "array([[34482.734]], dtype=float32)"
      ]
     },
     "metadata": {},
     "output_type": "display_data"
    },
    {
     "name": "stdout",
     "output_type": "stream",
     "text": [
      "Epoch 1/5\n",
      "43/43 [==============================] - 1s 25ms/step - loss: 3.0114e-04 - mean_squared_error: 3.0114e-04\n",
      "Epoch 2/5\n",
      "43/43 [==============================] - 1s 25ms/step - loss: 3.0956e-04 - mean_squared_error: 3.0956e-04\n",
      "Epoch 3/5\n",
      "43/43 [==============================] - 1s 24ms/step - loss: 3.1757e-04 - mean_squared_error: 3.1757e-04\n",
      "Epoch 4/5\n",
      "43/43 [==============================] - 1s 24ms/step - loss: 3.2573e-04 - mean_squared_error: 3.2573e-04\n",
      "Epoch 5/5\n",
      "43/43 [==============================] - 1s 25ms/step - loss: 2.9808e-04 - mean_squared_error: 2.9808e-04\n",
      "1/1 [==============================] - 0s 61ms/step\n"
     ]
    },
    {
     "data": {
      "text/plain": [
       "array([[34678.664]], dtype=float32)"
      ]
     },
     "metadata": {},
     "output_type": "display_data"
    },
    {
     "name": "stdout",
     "output_type": "stream",
     "text": [
      "Epoch 1/5\n",
      "43/43 [==============================] - 1s 27ms/step - loss: 2.9352e-04 - mean_squared_error: 2.9352e-04\n",
      "Epoch 2/5\n",
      "43/43 [==============================] - 1s 24ms/step - loss: 2.8619e-04 - mean_squared_error: 2.8619e-04\n",
      "Epoch 3/5\n",
      "43/43 [==============================] - 1s 24ms/step - loss: 3.1667e-04 - mean_squared_error: 3.1667e-04\n",
      "Epoch 4/5\n",
      "43/43 [==============================] - 1s 24ms/step - loss: 2.8992e-04 - mean_squared_error: 2.8992e-04\n",
      "Epoch 5/5\n",
      "43/43 [==============================] - 1s 24ms/step - loss: 2.8906e-04 - mean_squared_error: 2.8906e-04\n",
      "1/1 [==============================] - 0s 29ms/step\n"
     ]
    },
    {
     "data": {
      "text/plain": [
       "array([[35460.215]], dtype=float32)"
      ]
     },
     "metadata": {},
     "output_type": "display_data"
    },
    {
     "name": "stdout",
     "output_type": "stream",
     "text": [
      "Epoch 1/5\n",
      "43/43 [==============================] - 1s 23ms/step - loss: 3.2474e-04 - mean_squared_error: 3.2474e-04\n",
      "Epoch 2/5\n",
      "43/43 [==============================] - 1s 24ms/step - loss: 3.0048e-04 - mean_squared_error: 3.0048e-04\n",
      "Epoch 3/5\n",
      "43/43 [==============================] - 1s 25ms/step - loss: 2.9472e-04 - mean_squared_error: 2.9472e-04\n",
      "Epoch 4/5\n",
      "43/43 [==============================] - 1s 24ms/step - loss: 3.1798e-04 - mean_squared_error: 3.1798e-04\n",
      "Epoch 5/5\n",
      "43/43 [==============================] - 1s 24ms/step - loss: 2.9959e-04 - mean_squared_error: 2.9959e-04\n",
      "1/1 [==============================] - 0s 31ms/step\n"
     ]
    },
    {
     "data": {
      "text/plain": [
       "array([[36023.758]], dtype=float32)"
      ]
     },
     "metadata": {},
     "output_type": "display_data"
    },
    {
     "name": "stdout",
     "output_type": "stream",
     "text": [
      "Epoch 1/5\n",
      "43/43 [==============================] - 1s 24ms/step - loss: 2.8733e-04 - mean_squared_error: 2.8733e-04\n",
      "Epoch 2/5\n",
      "43/43 [==============================] - 1s 24ms/step - loss: 2.9342e-04 - mean_squared_error: 2.9342e-04\n",
      "Epoch 3/5\n",
      "43/43 [==============================] - 1s 24ms/step - loss: 2.9507e-04 - mean_squared_error: 2.9507e-04\n",
      "Epoch 4/5\n",
      "43/43 [==============================] - 1s 25ms/step - loss: 2.8812e-04 - mean_squared_error: 2.8812e-04\n",
      "Epoch 5/5\n",
      "43/43 [==============================] - 1s 26ms/step - loss: 2.9578e-04 - mean_squared_error: 2.9578e-04\n",
      "1/1 [==============================] - 0s 44ms/step\n"
     ]
    },
    {
     "data": {
      "text/plain": [
       "array([[36394.56]], dtype=float32)"
      ]
     },
     "metadata": {},
     "output_type": "display_data"
    },
    {
     "name": "stdout",
     "output_type": "stream",
     "text": [
      "Epoch 1/5\n",
      "43/43 [==============================] - 1s 33ms/step - loss: 2.8780e-04 - mean_squared_error: 2.8780e-04\n",
      "Epoch 2/5\n",
      "43/43 [==============================] - 1s 26ms/step - loss: 2.9223e-04 - mean_squared_error: 2.9223e-04\n",
      "Epoch 3/5\n",
      "43/43 [==============================] - 1s 23ms/step - loss: 2.8470e-04 - mean_squared_error: 2.8470e-04\n",
      "Epoch 4/5\n",
      "43/43 [==============================] - 1s 27ms/step - loss: 3.1124e-04 - mean_squared_error: 3.1124e-04\n",
      "Epoch 5/5\n",
      "43/43 [==============================] - 1s 25ms/step - loss: 3.2859e-04 - mean_squared_error: 3.2859e-04\n",
      "1/1 [==============================] - 0s 28ms/step\n"
     ]
    },
    {
     "data": {
      "text/plain": [
       "array([[36914.176]], dtype=float32)"
      ]
     },
     "metadata": {},
     "output_type": "display_data"
    },
    {
     "name": "stdout",
     "output_type": "stream",
     "text": [
      "Epoch 1/5\n",
      "43/43 [==============================] - 1s 25ms/step - loss: 2.9695e-04 - mean_squared_error: 2.9695e-04\n",
      "Epoch 2/5\n",
      "43/43 [==============================] - 1s 24ms/step - loss: 3.1603e-04 - mean_squared_error: 3.1603e-04\n",
      "Epoch 3/5\n",
      "43/43 [==============================] - 1s 24ms/step - loss: 2.9443e-04 - mean_squared_error: 2.9443e-04\n",
      "Epoch 4/5\n",
      "43/43 [==============================] - 1s 23ms/step - loss: 2.8022e-04 - mean_squared_error: 2.8022e-04\n",
      "Epoch 5/5\n",
      "43/43 [==============================] - 1s 24ms/step - loss: 2.8726e-04 - mean_squared_error: 2.8726e-04\n",
      "1/1 [==============================] - 0s 32ms/step\n"
     ]
    },
    {
     "data": {
      "text/plain": [
       "array([[36834.707]], dtype=float32)"
      ]
     },
     "metadata": {},
     "output_type": "display_data"
    },
    {
     "name": "stdout",
     "output_type": "stream",
     "text": [
      "Epoch 1/5\n",
      "43/43 [==============================] - 1s 29ms/step - loss: 2.9649e-04 - mean_squared_error: 2.9649e-04\n",
      "Epoch 2/5\n",
      "43/43 [==============================] - 1s 34ms/step - loss: 2.9471e-04 - mean_squared_error: 2.9471e-04\n",
      "Epoch 3/5\n",
      "43/43 [==============================] - 1s 32ms/step - loss: 2.7951e-04 - mean_squared_error: 2.7951e-04\n",
      "Epoch 4/5\n",
      "43/43 [==============================] - 1s 25ms/step - loss: 2.7613e-04 - mean_squared_error: 2.7613e-04\n",
      "Epoch 5/5\n",
      "43/43 [==============================] - 1s 26ms/step - loss: 2.9816e-04 - mean_squared_error: 2.9816e-04\n",
      "1/1 [==============================] - 0s 29ms/step\n"
     ]
    },
    {
     "data": {
      "text/plain": [
       "array([[37432.69]], dtype=float32)"
      ]
     },
     "metadata": {},
     "output_type": "display_data"
    },
    {
     "name": "stdout",
     "output_type": "stream",
     "text": [
      "Epoch 1/5\n",
      "43/43 [==============================] - 1s 24ms/step - loss: 2.6915e-04 - mean_squared_error: 2.6915e-04\n",
      "Epoch 2/5\n",
      "43/43 [==============================] - 1s 24ms/step - loss: 2.9065e-04 - mean_squared_error: 2.9065e-04\n",
      "Epoch 3/5\n",
      "43/43 [==============================] - 1s 25ms/step - loss: 2.8314e-04 - mean_squared_error: 2.8314e-04\n",
      "Epoch 4/5\n",
      "43/43 [==============================] - 1s 28ms/step - loss: 2.9417e-04 - mean_squared_error: 2.9417e-04\n",
      "Epoch 5/5\n",
      "43/43 [==============================] - 1s 25ms/step - loss: 2.8772e-04 - mean_squared_error: 2.8772e-04\n",
      "1/1 [==============================] - 0s 35ms/step\n"
     ]
    },
    {
     "data": {
      "text/plain": [
       "array([[37467.016]], dtype=float32)"
      ]
     },
     "metadata": {},
     "output_type": "display_data"
    },
    {
     "name": "stdout",
     "output_type": "stream",
     "text": [
      "Epoch 1/5\n",
      "43/43 [==============================] - 1s 25ms/step - loss: 2.8824e-04 - mean_squared_error: 2.8824e-04\n",
      "Epoch 2/5\n",
      "43/43 [==============================] - 1s 25ms/step - loss: 2.7095e-04 - mean_squared_error: 2.7095e-04\n",
      "Epoch 3/5\n",
      "43/43 [==============================] - 1s 26ms/step - loss: 2.7508e-04 - mean_squared_error: 2.7508e-04\n",
      "Epoch 4/5\n",
      "43/43 [==============================] - 1s 33ms/step - loss: 2.8510e-04 - mean_squared_error: 2.8510e-04\n",
      "Epoch 5/5\n",
      "43/43 [==============================] - 1s 34ms/step - loss: 2.7915e-04 - mean_squared_error: 2.7915e-04\n",
      "1/1 [==============================] - 0s 53ms/step\n"
     ]
    },
    {
     "data": {
      "text/plain": [
       "array([[37782.445]], dtype=float32)"
      ]
     },
     "metadata": {},
     "output_type": "display_data"
    },
    {
     "name": "stdout",
     "output_type": "stream",
     "text": [
      "Epoch 1/5\n",
      "43/43 [==============================] - 1s 30ms/step - loss: 2.6914e-04 - mean_squared_error: 2.6914e-04\n",
      "Epoch 2/5\n",
      "43/43 [==============================] - 2s 42ms/step - loss: 2.8494e-04 - mean_squared_error: 2.8494e-04\n",
      "Epoch 3/5\n",
      "43/43 [==============================] - 1s 28ms/step - loss: 2.8105e-04 - mean_squared_error: 2.8105e-04\n",
      "Epoch 4/5\n",
      "43/43 [==============================] - 2s 36ms/step - loss: 2.7846e-04 - mean_squared_error: 2.7846e-04\n",
      "Epoch 5/5\n",
      "43/43 [==============================] - 2s 42ms/step - loss: 3.0122e-04 - mean_squared_error: 3.0122e-04\n",
      "1/1 [==============================] - 0s 34ms/step\n"
     ]
    },
    {
     "data": {
      "text/plain": [
       "array([[37776.785]], dtype=float32)"
      ]
     },
     "metadata": {},
     "output_type": "display_data"
    },
    {
     "name": "stdout",
     "output_type": "stream",
     "text": [
      "Epoch 1/5\n",
      "43/43 [==============================] - 1s 27ms/step - loss: 2.8630e-04 - mean_squared_error: 2.8630e-04\n",
      "Epoch 2/5\n",
      "43/43 [==============================] - 1s 29ms/step - loss: 3.0794e-04 - mean_squared_error: 3.0794e-04\n",
      "Epoch 3/5\n",
      "43/43 [==============================] - 1s 28ms/step - loss: 2.8895e-04 - mean_squared_error: 2.8895e-04\n",
      "Epoch 4/5\n",
      "43/43 [==============================] - 1s 26ms/step - loss: 3.1976e-04 - mean_squared_error: 3.1976e-04\n",
      "Epoch 5/5\n",
      "43/43 [==============================] - 1s 25ms/step - loss: 2.9982e-04 - mean_squared_error: 2.9982e-04\n",
      "1/1 [==============================] - 0s 30ms/step\n"
     ]
    },
    {
     "data": {
      "text/plain": [
       "array([[37955.836]], dtype=float32)"
      ]
     },
     "metadata": {},
     "output_type": "display_data"
    },
    {
     "name": "stdout",
     "output_type": "stream",
     "text": [
      "Epoch 1/5\n",
      "43/43 [==============================] - 1s 24ms/step - loss: 2.9953e-04 - mean_squared_error: 2.9953e-04\n",
      "Epoch 2/5\n",
      "43/43 [==============================] - 1s 26ms/step - loss: 2.8984e-04 - mean_squared_error: 2.8984e-04\n",
      "Epoch 3/5\n",
      "43/43 [==============================] - 1s 26ms/step - loss: 2.9690e-04 - mean_squared_error: 2.9690e-04\n",
      "Epoch 4/5\n",
      "43/43 [==============================] - 1s 28ms/step - loss: 2.8692e-04 - mean_squared_error: 2.8692e-04\n",
      "Epoch 5/5\n",
      "43/43 [==============================] - 1s 26ms/step - loss: 2.7959e-04 - mean_squared_error: 2.7959e-04\n",
      "1/1 [==============================] - 0s 44ms/step\n"
     ]
    },
    {
     "data": {
      "text/plain": [
       "array([[37924.457]], dtype=float32)"
      ]
     },
     "metadata": {},
     "output_type": "display_data"
    },
    {
     "name": "stdout",
     "output_type": "stream",
     "text": [
      "Epoch 1/5\n",
      "43/43 [==============================] - 1s 29ms/step - loss: 2.8253e-04 - mean_squared_error: 2.8253e-04\n",
      "Epoch 2/5\n",
      "43/43 [==============================] - 1s 25ms/step - loss: 2.8373e-04 - mean_squared_error: 2.8373e-04\n",
      "Epoch 3/5\n",
      "43/43 [==============================] - 2s 41ms/step - loss: 2.8273e-04 - mean_squared_error: 2.8273e-04\n",
      "Epoch 4/5\n",
      "43/43 [==============================] - 1s 34ms/step - loss: 2.8997e-04 - mean_squared_error: 2.8997e-04\n",
      "Epoch 5/5\n",
      "43/43 [==============================] - 2s 36ms/step - loss: 3.0234e-04 - mean_squared_error: 3.0234e-04\n",
      "1/1 [==============================] - 0s 57ms/step\n"
     ]
    },
    {
     "data": {
      "text/plain": [
       "array([[38790.79]], dtype=float32)"
      ]
     },
     "metadata": {},
     "output_type": "display_data"
    },
    {
     "name": "stdout",
     "output_type": "stream",
     "text": [
      "Epoch 1/5\n",
      "43/43 [==============================] - 1s 26ms/step - loss: 2.7756e-04 - mean_squared_error: 2.7756e-04\n",
      "Epoch 2/5\n",
      "43/43 [==============================] - 1s 30ms/step - loss: 2.6276e-04 - mean_squared_error: 2.6276e-04\n",
      "Epoch 3/5\n",
      "43/43 [==============================] - 2s 36ms/step - loss: 2.7526e-04 - mean_squared_error: 2.7526e-04\n",
      "Epoch 4/5\n",
      "43/43 [==============================] - 1s 26ms/step - loss: 3.0251e-04 - mean_squared_error: 3.0251e-04\n",
      "Epoch 5/5\n",
      "43/43 [==============================] - 1s 27ms/step - loss: 2.8316e-04 - mean_squared_error: 2.8316e-04\n",
      "1/1 [==============================] - 0s 33ms/step\n"
     ]
    },
    {
     "data": {
      "text/plain": [
       "array([[39161.676]], dtype=float32)"
      ]
     },
     "metadata": {},
     "output_type": "display_data"
    },
    {
     "name": "stdout",
     "output_type": "stream",
     "text": [
      "Epoch 1/5\n",
      "43/43 [==============================] - 1s 26ms/step - loss: 2.8146e-04 - mean_squared_error: 2.8146e-04\n",
      "Epoch 2/5\n",
      "43/43 [==============================] - 1s 27ms/step - loss: 2.8219e-04 - mean_squared_error: 2.8219e-04\n",
      "Epoch 3/5\n",
      "43/43 [==============================] - 1s 26ms/step - loss: 2.8778e-04 - mean_squared_error: 2.8778e-04\n",
      "Epoch 4/5\n",
      "43/43 [==============================] - 1s 26ms/step - loss: 2.9056e-04 - mean_squared_error: 2.9056e-04\n",
      "Epoch 5/5\n",
      "43/43 [==============================] - 1s 26ms/step - loss: 2.9537e-04 - mean_squared_error: 2.9537e-04\n",
      "1/1 [==============================] - 0s 35ms/step\n"
     ]
    },
    {
     "data": {
      "text/plain": [
       "array([[38988.848]], dtype=float32)"
      ]
     },
     "metadata": {},
     "output_type": "display_data"
    },
    {
     "name": "stdout",
     "output_type": "stream",
     "text": [
      "Epoch 1/5\n",
      "43/43 [==============================] - 1s 26ms/step - loss: 2.7289e-04 - mean_squared_error: 2.7289e-04\n",
      "Epoch 2/5\n",
      "43/43 [==============================] - 1s 25ms/step - loss: 2.6857e-04 - mean_squared_error: 2.6857e-04\n",
      "Epoch 3/5\n",
      "43/43 [==============================] - 1s 27ms/step - loss: 2.9768e-04 - mean_squared_error: 2.9768e-04\n",
      "Epoch 4/5\n",
      "43/43 [==============================] - 2s 35ms/step - loss: 2.7657e-04 - mean_squared_error: 2.7657e-04\n",
      "Epoch 5/5\n",
      "43/43 [==============================] - 1s 33ms/step - loss: 2.7322e-04 - mean_squared_error: 2.7322e-04\n",
      "1/1 [==============================] - 0s 65ms/step\n"
     ]
    },
    {
     "data": {
      "text/plain": [
       "array([[38990.035]], dtype=float32)"
      ]
     },
     "metadata": {},
     "output_type": "display_data"
    },
    {
     "name": "stdout",
     "output_type": "stream",
     "text": [
      "Epoch 1/5\n",
      "44/44 [==============================] - 1s 32ms/step - loss: 3.1234e-04 - mean_squared_error: 3.1234e-04\n",
      "Epoch 2/5\n",
      "44/44 [==============================] - 1s 28ms/step - loss: 2.8633e-04 - mean_squared_error: 2.8633e-04\n",
      "Epoch 3/5\n",
      "44/44 [==============================] - 1s 33ms/step - loss: 3.4574e-04 - mean_squared_error: 3.4574e-04\n",
      "Epoch 4/5\n",
      "44/44 [==============================] - 2s 45ms/step - loss: 2.8816e-04 - mean_squared_error: 2.8816e-04\n",
      "Epoch 5/5\n",
      "44/44 [==============================] - 2s 46ms/step - loss: 2.8873e-04 - mean_squared_error: 2.8873e-04\n",
      "1/1 [==============================] - 0s 52ms/step\n"
     ]
    },
    {
     "data": {
      "text/plain": [
       "array([[38962.29]], dtype=float32)"
      ]
     },
     "metadata": {},
     "output_type": "display_data"
    },
    {
     "name": "stdout",
     "output_type": "stream",
     "text": [
      "Epoch 1/5\n",
      "44/44 [==============================] - 2s 39ms/step - loss: 2.7194e-04 - mean_squared_error: 2.7194e-04\n",
      "Epoch 2/5\n",
      "44/44 [==============================] - 2s 54ms/step - loss: 2.9372e-04 - mean_squared_error: 2.9372e-04\n",
      "Epoch 3/5\n",
      "44/44 [==============================] - 2s 39ms/step - loss: 3.4462e-04 - mean_squared_error: 3.4462e-04\n",
      "Epoch 4/5\n",
      "44/44 [==============================] - 3s 66ms/step - loss: 2.6730e-04 - mean_squared_error: 2.6730e-04\n",
      "Epoch 5/5\n",
      "44/44 [==============================] - 2s 42ms/step - loss: 2.9074e-04 - mean_squared_error: 2.9074e-04\n",
      "1/1 [==============================] - 0s 50ms/step\n"
     ]
    },
    {
     "data": {
      "text/plain": [
       "array([[38500.492]], dtype=float32)"
      ]
     },
     "metadata": {},
     "output_type": "display_data"
    },
    {
     "name": "stdout",
     "output_type": "stream",
     "text": [
      "Epoch 1/5\n",
      "44/44 [==============================] - 2s 52ms/step - loss: 2.8624e-04 - mean_squared_error: 2.8624e-04\n",
      "Epoch 2/5\n",
      "44/44 [==============================] - 2s 37ms/step - loss: 2.7649e-04 - mean_squared_error: 2.7649e-04\n",
      "Epoch 3/5\n",
      "44/44 [==============================] - 2s 35ms/step - loss: 2.8188e-04 - mean_squared_error: 2.8188e-04\n",
      "Epoch 4/5\n",
      "44/44 [==============================] - 1s 29ms/step - loss: 2.6596e-04 - mean_squared_error: 2.6596e-04\n",
      "Epoch 5/5\n",
      "44/44 [==============================] - 1s 29ms/step - loss: 3.4905e-04 - mean_squared_error: 3.4905e-04\n",
      "1/1 [==============================] - 0s 35ms/step\n"
     ]
    },
    {
     "data": {
      "text/plain": [
       "array([[38584.56]], dtype=float32)"
      ]
     },
     "metadata": {},
     "output_type": "display_data"
    },
    {
     "name": "stdout",
     "output_type": "stream",
     "text": [
      "Epoch 1/5\n",
      "44/44 [==============================] - 2s 53ms/step - loss: 2.8558e-04 - mean_squared_error: 2.8558e-04\n",
      "Epoch 2/5\n",
      "44/44 [==============================] - 2s 52ms/step - loss: 2.8221e-04 - mean_squared_error: 2.8221e-04\n",
      "Epoch 3/5\n",
      "44/44 [==============================] - 2s 41ms/step - loss: 2.7440e-04 - mean_squared_error: 2.7440e-04\n",
      "Epoch 4/5\n",
      "44/44 [==============================] - 3s 61ms/step - loss: 2.7628e-04 - mean_squared_error: 2.7628e-04\n",
      "Epoch 5/5\n",
      "44/44 [==============================] - 1s 31ms/step - loss: 2.6294e-04 - mean_squared_error: 2.6294e-04\n",
      "1/1 [==============================] - 0s 37ms/step\n"
     ]
    },
    {
     "data": {
      "text/plain": [
       "array([[38802.168]], dtype=float32)"
      ]
     },
     "metadata": {},
     "output_type": "display_data"
    },
    {
     "name": "stdout",
     "output_type": "stream",
     "text": [
      "Epoch 1/5\n",
      "44/44 [==============================] - 2s 38ms/step - loss: 2.8422e-04 - mean_squared_error: 2.8422e-04\n",
      "Epoch 2/5\n",
      "44/44 [==============================] - 1s 33ms/step - loss: 2.7066e-04 - mean_squared_error: 2.7066e-04\n",
      "Epoch 3/5\n",
      "44/44 [==============================] - 2s 40ms/step - loss: 2.8018e-04 - mean_squared_error: 2.8018e-04\n",
      "Epoch 4/5\n",
      "44/44 [==============================] - 2s 55ms/step - loss: 2.6773e-04 - mean_squared_error: 2.6773e-04\n",
      "Epoch 5/5\n",
      "44/44 [==============================] - 2s 40ms/step - loss: 2.6246e-04 - mean_squared_error: 2.6246e-04\n",
      "1/1 [==============================] - 0s 35ms/step\n"
     ]
    },
    {
     "data": {
      "text/plain": [
       "array([[38350.63]], dtype=float32)"
      ]
     },
     "metadata": {},
     "output_type": "display_data"
    },
    {
     "name": "stdout",
     "output_type": "stream",
     "text": [
      "Epoch 1/5\n",
      "44/44 [==============================] - 2s 39ms/step - loss: 2.7620e-04 - mean_squared_error: 2.7620e-04\n",
      "Epoch 2/5\n",
      "44/44 [==============================] - 1s 28ms/step - loss: 2.6209e-04 - mean_squared_error: 2.6209e-04\n",
      "Epoch 3/5\n",
      "44/44 [==============================] - 1s 25ms/step - loss: 2.9010e-04 - mean_squared_error: 2.9010e-04\n",
      "Epoch 4/5\n",
      "44/44 [==============================] - 1s 27ms/step - loss: 2.7461e-04 - mean_squared_error: 2.7461e-04\n",
      "Epoch 5/5\n",
      "44/44 [==============================] - 1s 28ms/step - loss: 2.6695e-04 - mean_squared_error: 2.6695e-04\n",
      "1/1 [==============================] - 0s 33ms/step\n"
     ]
    },
    {
     "data": {
      "text/plain": [
       "array([[38498.996]], dtype=float32)"
      ]
     },
     "metadata": {},
     "output_type": "display_data"
    },
    {
     "name": "stdout",
     "output_type": "stream",
     "text": [
      "Epoch 1/5\n",
      "44/44 [==============================] - 1s 28ms/step - loss: 2.8641e-04 - mean_squared_error: 2.8641e-04\n",
      "Epoch 2/5\n",
      "44/44 [==============================] - 1s 29ms/step - loss: 2.7434e-04 - mean_squared_error: 2.7434e-04\n",
      "Epoch 3/5\n",
      "44/44 [==============================] - 1s 29ms/step - loss: 2.5739e-04 - mean_squared_error: 2.5739e-04\n",
      "Epoch 4/5\n",
      "44/44 [==============================] - 1s 27ms/step - loss: 2.6661e-04 - mean_squared_error: 2.6661e-04\n",
      "Epoch 5/5\n",
      "44/44 [==============================] - 1s 26ms/step - loss: 2.6603e-04 - mean_squared_error: 2.6603e-04\n",
      "1/1 [==============================] - 0s 28ms/step\n"
     ]
    },
    {
     "data": {
      "text/plain": [
       "array([[38449.285]], dtype=float32)"
      ]
     },
     "metadata": {},
     "output_type": "display_data"
    },
    {
     "name": "stdout",
     "output_type": "stream",
     "text": [
      "Epoch 1/5\n",
      "44/44 [==============================] - 1s 27ms/step - loss: 2.6940e-04 - mean_squared_error: 2.6940e-04\n",
      "Epoch 2/5\n",
      "44/44 [==============================] - 1s 27ms/step - loss: 2.7574e-04 - mean_squared_error: 2.7574e-04\n",
      "Epoch 3/5\n",
      "44/44 [==============================] - 1s 27ms/step - loss: 2.5734e-04 - mean_squared_error: 2.5734e-04\n",
      "Epoch 4/5\n",
      "44/44 [==============================] - 1s 29ms/step - loss: 2.4164e-04 - mean_squared_error: 2.4164e-04\n",
      "Epoch 5/5\n",
      "44/44 [==============================] - 1s 31ms/step - loss: 2.6085e-04 - mean_squared_error: 2.6085e-04\n",
      "1/1 [==============================] - 0s 45ms/step\n"
     ]
    },
    {
     "data": {
      "text/plain": [
       "array([[38556.914]], dtype=float32)"
      ]
     },
     "metadata": {},
     "output_type": "display_data"
    },
    {
     "name": "stdout",
     "output_type": "stream",
     "text": [
      "Epoch 1/5\n",
      "44/44 [==============================] - 1s 33ms/step - loss: 2.6431e-04 - mean_squared_error: 2.6431e-04\n",
      "Epoch 2/5\n",
      "44/44 [==============================] - 2s 35ms/step - loss: 2.6621e-04 - mean_squared_error: 2.6621e-04\n",
      "Epoch 3/5\n",
      "44/44 [==============================] - 1s 29ms/step - loss: 2.5727e-04 - mean_squared_error: 2.5727e-04\n",
      "Epoch 4/5\n",
      "44/44 [==============================] - 1s 27ms/step - loss: 2.5159e-04 - mean_squared_error: 2.5159e-04\n",
      "Epoch 5/5\n",
      "44/44 [==============================] - 1s 26ms/step - loss: 2.8445e-04 - mean_squared_error: 2.8445e-04\n",
      "1/1 [==============================] - 0s 30ms/step\n"
     ]
    },
    {
     "data": {
      "text/plain": [
       "array([[39018.62]], dtype=float32)"
      ]
     },
     "metadata": {},
     "output_type": "display_data"
    },
    {
     "name": "stdout",
     "output_type": "stream",
     "text": [
      "Epoch 1/5\n",
      "44/44 [==============================] - 2s 36ms/step - loss: 2.6517e-04 - mean_squared_error: 2.6517e-04\n",
      "Epoch 2/5\n",
      "44/44 [==============================] - 2s 43ms/step - loss: 2.8580e-04 - mean_squared_error: 2.8580e-04\n",
      "Epoch 3/5\n",
      "44/44 [==============================] - 2s 34ms/step - loss: 2.5041e-04 - mean_squared_error: 2.5041e-04\n",
      "Epoch 4/5\n",
      "44/44 [==============================] - 2s 39ms/step - loss: 2.5577e-04 - mean_squared_error: 2.5577e-04\n",
      "Epoch 5/5\n",
      "44/44 [==============================] - 1s 32ms/step - loss: 2.4726e-04 - mean_squared_error: 2.4726e-04\n",
      "1/1 [==============================] - 0s 32ms/step\n"
     ]
    },
    {
     "data": {
      "text/plain": [
       "array([[39448.12]], dtype=float32)"
      ]
     },
     "metadata": {},
     "output_type": "display_data"
    },
    {
     "name": "stdout",
     "output_type": "stream",
     "text": [
      "Epoch 1/5\n",
      "44/44 [==============================] - 1s 30ms/step - loss: 2.4829e-04 - mean_squared_error: 2.4829e-04\n",
      "Epoch 2/5\n",
      "44/44 [==============================] - 1s 25ms/step - loss: 2.4733e-04 - mean_squared_error: 2.4733e-04\n",
      "Epoch 3/5\n",
      "44/44 [==============================] - 1s 33ms/step - loss: 2.5900e-04 - mean_squared_error: 2.5900e-04\n",
      "Epoch 4/5\n",
      "44/44 [==============================] - 2s 43ms/step - loss: 2.5426e-04 - mean_squared_error: 2.5426e-04\n",
      "Epoch 5/5\n",
      "44/44 [==============================] - 2s 34ms/step - loss: 2.8680e-04 - mean_squared_error: 2.8680e-04\n",
      "1/1 [==============================] - 0s 42ms/step\n"
     ]
    },
    {
     "data": {
      "text/plain": [
       "array([[39297.793]], dtype=float32)"
      ]
     },
     "metadata": {},
     "output_type": "display_data"
    },
    {
     "name": "stdout",
     "output_type": "stream",
     "text": [
      "Epoch 1/5\n",
      "44/44 [==============================] - 1s 33ms/step - loss: 2.5611e-04 - mean_squared_error: 2.5611e-04\n",
      "Epoch 2/5\n",
      "44/44 [==============================] - 1s 25ms/step - loss: 2.5409e-04 - mean_squared_error: 2.5409e-04\n",
      "Epoch 3/5\n",
      "44/44 [==============================] - 1s 29ms/step - loss: 2.5895e-04 - mean_squared_error: 2.5895e-04\n",
      "Epoch 4/5\n",
      "44/44 [==============================] - 1s 25ms/step - loss: 2.5105e-04 - mean_squared_error: 2.5105e-04\n",
      "Epoch 5/5\n",
      "44/44 [==============================] - 1s 25ms/step - loss: 2.6602e-04 - mean_squared_error: 2.6602e-04\n",
      "1/1 [==============================] - 0s 31ms/step\n"
     ]
    },
    {
     "data": {
      "text/plain": [
       "array([[38985.11]], dtype=float32)"
      ]
     },
     "metadata": {},
     "output_type": "display_data"
    },
    {
     "name": "stdout",
     "output_type": "stream",
     "text": [
      "Epoch 1/5\n",
      "44/44 [==============================] - 1s 25ms/step - loss: 2.6017e-04 - mean_squared_error: 2.6017e-04\n",
      "Epoch 2/5\n",
      "44/44 [==============================] - 1s 24ms/step - loss: 2.6010e-04 - mean_squared_error: 2.6010e-04\n",
      "Epoch 3/5\n",
      "44/44 [==============================] - 1s 24ms/step - loss: 2.8073e-04 - mean_squared_error: 2.8073e-04\n",
      "Epoch 4/5\n",
      "44/44 [==============================] - 1s 24ms/step - loss: 2.4794e-04 - mean_squared_error: 2.4794e-04\n",
      "Epoch 5/5\n",
      "44/44 [==============================] - 2s 39ms/step - loss: 2.5841e-04 - mean_squared_error: 2.5841e-04\n",
      "1/1 [==============================] - 0s 35ms/step\n"
     ]
    },
    {
     "data": {
      "text/plain": [
       "array([[39155.895]], dtype=float32)"
      ]
     },
     "metadata": {},
     "output_type": "display_data"
    },
    {
     "name": "stdout",
     "output_type": "stream",
     "text": [
      "Epoch 1/5\n",
      "44/44 [==============================] - 1s 29ms/step - loss: 2.6285e-04 - mean_squared_error: 2.6285e-04\n",
      "Epoch 2/5\n",
      "44/44 [==============================] - 1s 24ms/step - loss: 2.4882e-04 - mean_squared_error: 2.4882e-04\n",
      "Epoch 3/5\n",
      "44/44 [==============================] - 1s 26ms/step - loss: 2.5794e-04 - mean_squared_error: 2.5794e-04\n",
      "Epoch 4/5\n",
      "44/44 [==============================] - 1s 28ms/step - loss: 2.4311e-04 - mean_squared_error: 2.4311e-04\n",
      "Epoch 5/5\n",
      "44/44 [==============================] - 1s 26ms/step - loss: 2.5501e-04 - mean_squared_error: 2.5501e-04\n",
      "1/1 [==============================] - 0s 52ms/step\n"
     ]
    },
    {
     "data": {
      "text/plain": [
       "array([[39278.766]], dtype=float32)"
      ]
     },
     "metadata": {},
     "output_type": "display_data"
    },
    {
     "name": "stdout",
     "output_type": "stream",
     "text": [
      "Epoch 1/5\n",
      "44/44 [==============================] - 2s 41ms/step - loss: 2.7363e-04 - mean_squared_error: 2.7363e-04\n",
      "Epoch 2/5\n",
      "44/44 [==============================] - 1s 30ms/step - loss: 2.4884e-04 - mean_squared_error: 2.4884e-04\n",
      "Epoch 3/5\n",
      "44/44 [==============================] - 1s 25ms/step - loss: 2.4713e-04 - mean_squared_error: 2.4713e-04\n",
      "Epoch 4/5\n",
      "44/44 [==============================] - 1s 25ms/step - loss: 2.4316e-04 - mean_squared_error: 2.4316e-04\n",
      "Epoch 5/5\n",
      "44/44 [==============================] - 1s 26ms/step - loss: 2.5619e-04 - mean_squared_error: 2.5619e-04\n",
      "1/1 [==============================] - 0s 51ms/step\n"
     ]
    },
    {
     "data": {
      "text/plain": [
       "array([[39456.11]], dtype=float32)"
      ]
     },
     "metadata": {},
     "output_type": "display_data"
    },
    {
     "name": "stdout",
     "output_type": "stream",
     "text": [
      "Epoch 1/5\n",
      "44/44 [==============================] - 2s 35ms/step - loss: 2.4346e-04 - mean_squared_error: 2.4346e-04\n",
      "Epoch 2/5\n",
      "44/44 [==============================] - 1s 25ms/step - loss: 2.4022e-04 - mean_squared_error: 2.4022e-04\n",
      "Epoch 3/5\n",
      "44/44 [==============================] - 1s 25ms/step - loss: 2.5557e-04 - mean_squared_error: 2.5557e-04\n",
      "Epoch 4/5\n",
      "44/44 [==============================] - 1s 26ms/step - loss: 2.8092e-04 - mean_squared_error: 2.8092e-04\n",
      "Epoch 5/5\n",
      "44/44 [==============================] - 1s 26ms/step - loss: 2.6228e-04 - mean_squared_error: 2.6228e-04\n",
      "1/1 [==============================] - 0s 28ms/step\n"
     ]
    },
    {
     "data": {
      "text/plain": [
       "array([[39315.625]], dtype=float32)"
      ]
     },
     "metadata": {},
     "output_type": "display_data"
    },
    {
     "name": "stdout",
     "output_type": "stream",
     "text": [
      "Epoch 1/5\n",
      "44/44 [==============================] - 1s 28ms/step - loss: 2.5854e-04 - mean_squared_error: 2.5854e-04\n",
      "Epoch 2/5\n",
      "44/44 [==============================] - 1s 27ms/step - loss: 2.4123e-04 - mean_squared_error: 2.4123e-04\n",
      "Epoch 3/5\n",
      "44/44 [==============================] - 1s 27ms/step - loss: 2.5106e-04 - mean_squared_error: 2.5106e-04\n",
      "Epoch 4/5\n",
      "44/44 [==============================] - 1s 26ms/step - loss: 2.4738e-04 - mean_squared_error: 2.4738e-04\n",
      "Epoch 5/5\n",
      "44/44 [==============================] - 1s 27ms/step - loss: 2.3454e-04 - mean_squared_error: 2.3454e-04\n",
      "1/1 [==============================] - 0s 30ms/step\n"
     ]
    },
    {
     "data": {
      "text/plain": [
       "array([[39516.832]], dtype=float32)"
      ]
     },
     "metadata": {},
     "output_type": "display_data"
    },
    {
     "name": "stdout",
     "output_type": "stream",
     "text": [
      "Epoch 1/5\n",
      "44/44 [==============================] - 1s 25ms/step - loss: 2.4821e-04 - mean_squared_error: 2.4821e-04\n",
      "Epoch 2/5\n",
      "44/44 [==============================] - 1s 28ms/step - loss: 2.4140e-04 - mean_squared_error: 2.4140e-04\n",
      "Epoch 3/5\n",
      "44/44 [==============================] - 1s 33ms/step - loss: 2.4836e-04 - mean_squared_error: 2.4836e-04\n",
      "Epoch 4/5\n",
      "44/44 [==============================] - 1s 33ms/step - loss: 2.4643e-04 - mean_squared_error: 2.4643e-04\n",
      "Epoch 5/5\n",
      "44/44 [==============================] - 2s 38ms/step - loss: 2.5593e-04 - mean_squared_error: 2.5593e-04\n",
      "1/1 [==============================] - 0s 31ms/step\n"
     ]
    },
    {
     "data": {
      "text/plain": [
       "array([[39238.96]], dtype=float32)"
      ]
     },
     "metadata": {},
     "output_type": "display_data"
    },
    {
     "name": "stdout",
     "output_type": "stream",
     "text": [
      "Epoch 1/5\n",
      "44/44 [==============================] - 1s 32ms/step - loss: 2.3562e-04 - mean_squared_error: 2.3562e-04\n",
      "Epoch 2/5\n",
      "44/44 [==============================] - 1s 24ms/step - loss: 2.8210e-04 - mean_squared_error: 2.8210e-04\n",
      "Epoch 3/5\n",
      "44/44 [==============================] - 1s 23ms/step - loss: 2.5827e-04 - mean_squared_error: 2.5827e-04\n",
      "Epoch 4/5\n",
      "44/44 [==============================] - 1s 25ms/step - loss: 2.6866e-04 - mean_squared_error: 2.6866e-04\n",
      "Epoch 5/5\n",
      "44/44 [==============================] - 1s 26ms/step - loss: 2.6217e-04 - mean_squared_error: 2.6217e-04\n",
      "1/1 [==============================] - 0s 29ms/step\n"
     ]
    },
    {
     "data": {
      "text/plain": [
       "array([[39563.684]], dtype=float32)"
      ]
     },
     "metadata": {},
     "output_type": "display_data"
    },
    {
     "name": "stdout",
     "output_type": "stream",
     "text": [
      "Epoch 1/5\n",
      "44/44 [==============================] - 1s 25ms/step - loss: 2.6070e-04 - mean_squared_error: 2.6070e-04\n",
      "Epoch 2/5\n",
      "44/44 [==============================] - 1s 27ms/step - loss: 2.4489e-04 - mean_squared_error: 2.4489e-04\n",
      "Epoch 3/5\n",
      "44/44 [==============================] - 1s 26ms/step - loss: 2.4831e-04 - mean_squared_error: 2.4831e-04\n",
      "Epoch 4/5\n",
      "44/44 [==============================] - 1s 28ms/step - loss: 2.4846e-04 - mean_squared_error: 2.4846e-04\n",
      "Epoch 5/5\n",
      "44/44 [==============================] - 1s 26ms/step - loss: 2.2672e-04 - mean_squared_error: 2.2672e-04\n",
      "1/1 [==============================] - 0s 31ms/step\n"
     ]
    },
    {
     "data": {
      "text/plain": [
       "array([[39316.656]], dtype=float32)"
      ]
     },
     "metadata": {},
     "output_type": "display_data"
    },
    {
     "name": "stdout",
     "output_type": "stream",
     "text": [
      "Epoch 1/5\n",
      "44/44 [==============================] - 1s 27ms/step - loss: 2.4633e-04 - mean_squared_error: 2.4633e-04\n",
      "Epoch 2/5\n",
      "44/44 [==============================] - 1s 26ms/step - loss: 2.5559e-04 - mean_squared_error: 2.5559e-04\n",
      "Epoch 3/5\n",
      "44/44 [==============================] - 1s 26ms/step - loss: 2.3971e-04 - mean_squared_error: 2.3971e-04\n",
      "Epoch 4/5\n",
      "44/44 [==============================] - 1s 28ms/step - loss: 2.2521e-04 - mean_squared_error: 2.2521e-04\n",
      "Epoch 5/5\n",
      "44/44 [==============================] - 1s 31ms/step - loss: 2.4142e-04 - mean_squared_error: 2.4142e-04\n",
      "1/1 [==============================] - 0s 32ms/step\n"
     ]
    },
    {
     "data": {
      "text/plain": [
       "array([[39263.227]], dtype=float32)"
      ]
     },
     "metadata": {},
     "output_type": "display_data"
    },
    {
     "name": "stdout",
     "output_type": "stream",
     "text": [
      "Epoch 1/5\n",
      "44/44 [==============================] - 1s 27ms/step - loss: 2.4111e-04 - mean_squared_error: 2.4111e-04\n",
      "Epoch 2/5\n",
      "44/44 [==============================] - 1s 26ms/step - loss: 2.5966e-04 - mean_squared_error: 2.5966e-04\n",
      "Epoch 3/5\n",
      "44/44 [==============================] - 1s 25ms/step - loss: 2.2335e-04 - mean_squared_error: 2.2335e-04\n",
      "Epoch 4/5\n",
      "44/44 [==============================] - 1s 29ms/step - loss: 2.4371e-04 - mean_squared_error: 2.4371e-04\n",
      "Epoch 5/5\n",
      "44/44 [==============================] - 1s 27ms/step - loss: 2.5005e-04 - mean_squared_error: 2.5005e-04\n",
      "1/1 [==============================] - 0s 31ms/step\n"
     ]
    },
    {
     "data": {
      "text/plain": [
       "array([[38775.043]], dtype=float32)"
      ]
     },
     "metadata": {},
     "output_type": "display_data"
    },
    {
     "name": "stdout",
     "output_type": "stream",
     "text": [
      "Epoch 1/5\n",
      "44/44 [==============================] - 1s 27ms/step - loss: 2.2542e-04 - mean_squared_error: 2.2542e-04\n",
      "Epoch 2/5\n",
      "44/44 [==============================] - 1s 25ms/step - loss: 2.4492e-04 - mean_squared_error: 2.4492e-04\n",
      "Epoch 3/5\n",
      "44/44 [==============================] - 1s 27ms/step - loss: 2.3632e-04 - mean_squared_error: 2.3632e-04\n",
      "Epoch 4/5\n",
      "44/44 [==============================] - 1s 30ms/step - loss: 2.4593e-04 - mean_squared_error: 2.4593e-04\n",
      "Epoch 5/5\n",
      "44/44 [==============================] - 2s 36ms/step - loss: 2.5508e-04 - mean_squared_error: 2.5508e-04\n",
      "1/1 [==============================] - 0s 60ms/step\n"
     ]
    },
    {
     "data": {
      "text/plain": [
       "array([[38926.195]], dtype=float32)"
      ]
     },
     "metadata": {},
     "output_type": "display_data"
    },
    {
     "name": "stdout",
     "output_type": "stream",
     "text": [
      "Epoch 1/5\n",
      "44/44 [==============================] - 2s 41ms/step - loss: 2.2713e-04 - mean_squared_error: 2.2713e-04\n",
      "Epoch 2/5\n",
      "44/44 [==============================] - 1s 33ms/step - loss: 2.3298e-04 - mean_squared_error: 2.3298e-04\n",
      "Epoch 3/5\n",
      "44/44 [==============================] - 1s 31ms/step - loss: 2.2070e-04 - mean_squared_error: 2.2070e-04\n",
      "Epoch 4/5\n",
      "44/44 [==============================] - 1s 31ms/step - loss: 2.2704e-04 - mean_squared_error: 2.2704e-04\n",
      "Epoch 5/5\n",
      "44/44 [==============================] - 1s 26ms/step - loss: 2.3460e-04 - mean_squared_error: 2.3460e-04\n",
      "1/1 [==============================] - 0s 27ms/step\n"
     ]
    },
    {
     "data": {
      "text/plain": [
       "array([[38502.89]], dtype=float32)"
      ]
     },
     "metadata": {},
     "output_type": "display_data"
    },
    {
     "name": "stdout",
     "output_type": "stream",
     "text": [
      "Epoch 1/5\n",
      "44/44 [==============================] - 1s 26ms/step - loss: 2.3240e-04 - mean_squared_error: 2.3240e-04\n",
      "Epoch 2/5\n",
      "44/44 [==============================] - 1s 26ms/step - loss: 2.2215e-04 - mean_squared_error: 2.2215e-04\n",
      "Epoch 3/5\n",
      "44/44 [==============================] - 1s 26ms/step - loss: 2.1222e-04 - mean_squared_error: 2.1222e-04\n",
      "Epoch 4/5\n",
      "44/44 [==============================] - 1s 26ms/step - loss: 2.4030e-04 - mean_squared_error: 2.4030e-04\n",
      "Epoch 5/5\n",
      "44/44 [==============================] - 1s 26ms/step - loss: 2.5219e-04 - mean_squared_error: 2.5219e-04\n",
      "1/1 [==============================] - 0s 30ms/step\n"
     ]
    },
    {
     "data": {
      "text/plain": [
       "array([[38825.85]], dtype=float32)"
      ]
     },
     "metadata": {},
     "output_type": "display_data"
    },
    {
     "name": "stdout",
     "output_type": "stream",
     "text": [
      "Epoch 1/5\n",
      "44/44 [==============================] - 1s 28ms/step - loss: 2.1780e-04 - mean_squared_error: 2.1780e-04\n",
      "Epoch 2/5\n",
      "44/44 [==============================] - 1s 29ms/step - loss: 2.2762e-04 - mean_squared_error: 2.2762e-04\n",
      "Epoch 3/5\n",
      "44/44 [==============================] - 1s 28ms/step - loss: 2.1365e-04 - mean_squared_error: 2.1365e-04\n",
      "Epoch 4/5\n",
      "44/44 [==============================] - 2s 37ms/step - loss: 2.2998e-04 - mean_squared_error: 2.2998e-04\n",
      "Epoch 5/5\n",
      "44/44 [==============================] - 1s 27ms/step - loss: 2.3085e-04 - mean_squared_error: 2.3085e-04\n",
      "1/1 [==============================] - 0s 29ms/step\n"
     ]
    },
    {
     "data": {
      "text/plain": [
       "array([[39095.85]], dtype=float32)"
      ]
     },
     "metadata": {},
     "output_type": "display_data"
    },
    {
     "name": "stdout",
     "output_type": "stream",
     "text": [
      "Epoch 1/5\n",
      "44/44 [==============================] - 1s 27ms/step - loss: 2.4342e-04 - mean_squared_error: 2.4342e-04\n",
      "Epoch 2/5\n",
      "44/44 [==============================] - 1s 26ms/step - loss: 2.1439e-04 - mean_squared_error: 2.1439e-04\n",
      "Epoch 3/5\n",
      "44/44 [==============================] - 1s 26ms/step - loss: 2.0804e-04 - mean_squared_error: 2.0804e-04\n",
      "Epoch 4/5\n",
      "44/44 [==============================] - 1s 25ms/step - loss: 2.2848e-04 - mean_squared_error: 2.2848e-04\n",
      "Epoch 5/5\n",
      "44/44 [==============================] - 1s 25ms/step - loss: 2.2414e-04 - mean_squared_error: 2.2414e-04\n",
      "1/1 [==============================] - 0s 29ms/step\n"
     ]
    },
    {
     "data": {
      "text/plain": [
       "array([[39596.668]], dtype=float32)"
      ]
     },
     "metadata": {},
     "output_type": "display_data"
    },
    {
     "name": "stdout",
     "output_type": "stream",
     "text": [
      "Epoch 1/5\n",
      "44/44 [==============================] - 1s 26ms/step - loss: 2.4327e-04 - mean_squared_error: 2.4327e-04\n",
      "Epoch 2/5\n",
      "44/44 [==============================] - 1s 26ms/step - loss: 2.1820e-04 - mean_squared_error: 2.1820e-04\n",
      "Epoch 3/5\n",
      "44/44 [==============================] - 1s 27ms/step - loss: 2.2754e-04 - mean_squared_error: 2.2754e-04\n",
      "Epoch 4/5\n",
      "44/44 [==============================] - 1s 25ms/step - loss: 2.1701e-04 - mean_squared_error: 2.1701e-04\n",
      "Epoch 5/5\n",
      "44/44 [==============================] - 2s 38ms/step - loss: 2.1229e-04 - mean_squared_error: 2.1229e-04\n",
      "1/1 [==============================] - 0s 64ms/step\n"
     ]
    },
    {
     "data": {
      "text/plain": [
       "array([[39496.547]], dtype=float32)"
      ]
     },
     "metadata": {},
     "output_type": "display_data"
    },
    {
     "name": "stdout",
     "output_type": "stream",
     "text": [
      "Epoch 1/5\n",
      "44/44 [==============================] - 2s 39ms/step - loss: 2.3551e-04 - mean_squared_error: 2.3551e-04\n",
      "Epoch 2/5\n",
      "44/44 [==============================] - 2s 38ms/step - loss: 2.3121e-04 - mean_squared_error: 2.3121e-04\n",
      "Epoch 3/5\n",
      "44/44 [==============================] - 1s 32ms/step - loss: 2.2243e-04 - mean_squared_error: 2.2243e-04\n",
      "Epoch 4/5\n",
      "44/44 [==============================] - 1s 28ms/step - loss: 2.2573e-04 - mean_squared_error: 2.2573e-04\n",
      "Epoch 5/5\n",
      "44/44 [==============================] - 1s 27ms/step - loss: 2.1195e-04 - mean_squared_error: 2.1195e-04\n",
      "1/1 [==============================] - 0s 33ms/step\n"
     ]
    },
    {
     "data": {
      "text/plain": [
       "array([[39397.92]], dtype=float32)"
      ]
     },
     "metadata": {},
     "output_type": "display_data"
    },
    {
     "name": "stdout",
     "output_type": "stream",
     "text": [
      "Epoch 1/5\n",
      "44/44 [==============================] - 1s 27ms/step - loss: 2.1708e-04 - mean_squared_error: 2.1708e-04\n",
      "Epoch 2/5\n",
      "44/44 [==============================] - 1s 30ms/step - loss: 2.2988e-04 - mean_squared_error: 2.2988e-04\n",
      "Epoch 3/5\n",
      "44/44 [==============================] - 1s 27ms/step - loss: 2.1360e-04 - mean_squared_error: 2.1360e-04\n",
      "Epoch 4/5\n",
      "44/44 [==============================] - 1s 27ms/step - loss: 2.3103e-04 - mean_squared_error: 2.3103e-04\n",
      "Epoch 5/5\n",
      "44/44 [==============================] - 1s 26ms/step - loss: 2.3023e-04 - mean_squared_error: 2.3023e-04\n",
      "1/1 [==============================] - 0s 28ms/step\n"
     ]
    },
    {
     "data": {
      "text/plain": [
       "array([[39352.074]], dtype=float32)"
      ]
     },
     "metadata": {},
     "output_type": "display_data"
    },
    {
     "name": "stdout",
     "output_type": "stream",
     "text": [
      "Epoch 1/5\n",
      "44/44 [==============================] - 1s 27ms/step - loss: 2.1397e-04 - mean_squared_error: 2.1397e-04\n",
      "Epoch 2/5\n",
      "44/44 [==============================] - 1s 25ms/step - loss: 2.1962e-04 - mean_squared_error: 2.1962e-04\n",
      "Epoch 3/5\n",
      "44/44 [==============================] - 1s 27ms/step - loss: 2.4624e-04 - mean_squared_error: 2.4624e-04\n",
      "Epoch 4/5\n",
      "44/44 [==============================] - 1s 26ms/step - loss: 2.4144e-04 - mean_squared_error: 2.4144e-04\n",
      "Epoch 5/5\n",
      "44/44 [==============================] - 1s 27ms/step - loss: 2.2557e-04 - mean_squared_error: 2.2557e-04\n",
      "1/1 [==============================] - 0s 31ms/step\n"
     ]
    },
    {
     "data": {
      "text/plain": [
       "array([[39419.387]], dtype=float32)"
      ]
     },
     "metadata": {},
     "output_type": "display_data"
    },
    {
     "name": "stdout",
     "output_type": "stream",
     "text": [
      "Epoch 1/5\n",
      "44/44 [==============================] - 1s 27ms/step - loss: 2.1072e-04 - mean_squared_error: 2.1072e-04\n",
      "Epoch 2/5\n",
      "44/44 [==============================] - 1s 26ms/step - loss: 2.2130e-04 - mean_squared_error: 2.2130e-04\n",
      "Epoch 3/5\n",
      "44/44 [==============================] - 1s 28ms/step - loss: 2.2177e-04 - mean_squared_error: 2.2177e-04\n",
      "Epoch 4/5\n",
      "44/44 [==============================] - 1s 25ms/step - loss: 2.1546e-04 - mean_squared_error: 2.1546e-04\n",
      "Epoch 5/5\n",
      "44/44 [==============================] - 2s 38ms/step - loss: 2.2974e-04 - mean_squared_error: 2.2974e-04\n",
      "1/1 [==============================] - 0s 43ms/step\n"
     ]
    },
    {
     "data": {
      "text/plain": [
       "array([[39273.734]], dtype=float32)"
      ]
     },
     "metadata": {},
     "output_type": "display_data"
    },
    {
     "name": "stdout",
     "output_type": "stream",
     "text": [
      "Epoch 1/5\n",
      "45/45 [==============================] - 2s 37ms/step - loss: 2.2019e-04 - mean_squared_error: 2.2019e-04\n",
      "Epoch 2/5\n",
      "45/45 [==============================] - 2s 33ms/step - loss: 2.3007e-04 - mean_squared_error: 2.3007e-04\n",
      "Epoch 3/5\n",
      "45/45 [==============================] - 1s 32ms/step - loss: 2.3528e-04 - mean_squared_error: 2.3528e-04\n",
      "Epoch 4/5\n",
      "45/45 [==============================] - 1s 24ms/step - loss: 2.9330e-04 - mean_squared_error: 2.9330e-04\n",
      "Epoch 5/5\n",
      "45/45 [==============================] - 1s 28ms/step - loss: 2.3175e-04 - mean_squared_error: 2.3175e-04\n",
      "1/1 [==============================] - 0s 34ms/step\n"
     ]
    },
    {
     "data": {
      "text/plain": [
       "array([[39282.504]], dtype=float32)"
      ]
     },
     "metadata": {},
     "output_type": "display_data"
    },
    {
     "name": "stdout",
     "output_type": "stream",
     "text": [
      "Epoch 1/5\n",
      "45/45 [==============================] - 1s 26ms/step - loss: 2.0556e-04 - mean_squared_error: 2.0556e-04\n",
      "Epoch 2/5\n",
      "45/45 [==============================] - 1s 30ms/step - loss: 2.1300e-04 - mean_squared_error: 2.1300e-04\n",
      "Epoch 3/5\n",
      "45/45 [==============================] - 2s 38ms/step - loss: 2.1031e-04 - mean_squared_error: 2.1031e-04\n",
      "Epoch 4/5\n",
      "45/45 [==============================] - 2s 38ms/step - loss: 2.1385e-04 - mean_squared_error: 2.1385e-04\n",
      "Epoch 5/5\n",
      "45/45 [==============================] - 1s 33ms/step - loss: 2.1701e-04 - mean_squared_error: 2.1701e-04\n",
      "1/1 [==============================] - 0s 31ms/step\n"
     ]
    },
    {
     "data": {
      "text/plain": [
       "array([[38744.527]], dtype=float32)"
      ]
     },
     "metadata": {},
     "output_type": "display_data"
    },
    {
     "name": "stdout",
     "output_type": "stream",
     "text": [
      "Epoch 1/5\n",
      "45/45 [==============================] - 1s 31ms/step - loss: 2.2808e-04 - mean_squared_error: 2.2808e-04\n",
      "Epoch 2/5\n",
      "45/45 [==============================] - 1s 29ms/step - loss: 2.2953e-04 - mean_squared_error: 2.2953e-04\n",
      "Epoch 3/5\n",
      "45/45 [==============================] - 2s 34ms/step - loss: 2.3186e-04 - mean_squared_error: 2.3186e-04\n",
      "Epoch 4/5\n",
      "45/45 [==============================] - 2s 34ms/step - loss: 2.2899e-04 - mean_squared_error: 2.2899e-04\n",
      "Epoch 5/5\n",
      "45/45 [==============================] - 2s 42ms/step - loss: 2.2162e-04 - mean_squared_error: 2.2162e-04\n",
      "1/1 [==============================] - 0s 28ms/step\n"
     ]
    },
    {
     "data": {
      "text/plain": [
       "array([[38633.246]], dtype=float32)"
      ]
     },
     "metadata": {},
     "output_type": "display_data"
    },
    {
     "name": "stdout",
     "output_type": "stream",
     "text": [
      "Epoch 1/5\n",
      "45/45 [==============================] - 1s 30ms/step - loss: 2.2314e-04 - mean_squared_error: 2.2314e-04\n",
      "Epoch 2/5\n",
      "45/45 [==============================] - 1s 25ms/step - loss: 2.1001e-04 - mean_squared_error: 2.1001e-04\n",
      "Epoch 3/5\n",
      "45/45 [==============================] - 1s 29ms/step - loss: 2.2662e-04 - mean_squared_error: 2.2662e-04\n",
      "Epoch 4/5\n",
      "45/45 [==============================] - 1s 24ms/step - loss: 2.0888e-04 - mean_squared_error: 2.0888e-04\n",
      "Epoch 5/5\n",
      "45/45 [==============================] - 1s 24ms/step - loss: 2.1579e-04 - mean_squared_error: 2.1579e-04\n"
     ]
    }
   ],
   "source": [
    "# Projects future data by using model to predict next close and then uses that value to retrain \n",
    "# the model before making next prediction\n",
    "# Creates empty list where future predictions will be added to\n",
    "future_predictions = []\n",
    "for i in range(326): \n",
    "    # predicts next close value and reshapes it\n",
    "    prediction_scaled=model_prediction_btc.predict(X_scaled[-1].reshape(1, window_size, 1))\n",
    "    # transforms prediction back to original scale\n",
    "    next_prediction=y_scaler.inverse_transform(prediction_scaled)\n",
    "    # displays predicted close value\n",
    "    display(next_prediction)\n",
    "    # Adds future predictions to list\n",
    "    future_predictions.append(next_prediction)\n",
    "    # adds predicted close value to list\n",
    "    new_train_sample=np.append(X_scaled[-1], prediction_scaled)[1:].reshape(1, window_size, 1)\n",
    "    # adds new list entry of predicted close to X train\n",
    "    X_scaled=np.append(X_scaled, new_train_sample, axis=0)\n",
    "    # adds new list entry of predicted close to y train\n",
    "    y_scaled=np.append(y_scaled, prediction_scaled, axis=0)\n",
    "    # refits model with new close value\n",
    "    model_prediction_btc.fit(X_scaled, y_scaled, epochs=5)"
   ]
  },
  {
   "cell_type": "code",
   "execution_count": 33,
   "id": "2279fbae-83ac-47bc-9bd3-df9184334d2c",
   "metadata": {
    "scrolled": true,
    "tags": []
   },
   "outputs": [
    {
     "data": {
      "text/plain": [
       "[array([[20606.951]], dtype=float32),\n",
       " array([[21630.023]], dtype=float32),\n",
       " array([[20648.508]], dtype=float32),\n",
       " array([[20867.297]], dtype=float32),\n",
       " array([[20636.848]], dtype=float32),\n",
       " array([[21408.277]], dtype=float32),\n",
       " array([[21192.56]], dtype=float32),\n",
       " array([[21315.62]], dtype=float32),\n",
       " array([[21092.457]], dtype=float32),\n",
       " array([[21392.586]], dtype=float32),\n",
       " array([[21088.31]], dtype=float32),\n",
       " array([[21549.697]], dtype=float32),\n",
       " array([[21762.695]], dtype=float32),\n",
       " array([[21804.744]], dtype=float32),\n",
       " array([[21641.33]], dtype=float32),\n",
       " array([[22175.69]], dtype=float32),\n",
       " array([[21082.775]], dtype=float32),\n",
       " array([[22031.068]], dtype=float32),\n",
       " array([[21961.994]], dtype=float32),\n",
       " array([[23017.447]], dtype=float32),\n",
       " array([[21876.154]], dtype=float32),\n",
       " array([[22754.875]], dtype=float32),\n",
       " array([[22262.885]], dtype=float32),\n",
       " array([[21580.041]], dtype=float32),\n",
       " array([[22115.719]], dtype=float32),\n",
       " array([[22034.871]], dtype=float32),\n",
       " array([[22105.662]], dtype=float32),\n",
       " array([[21500.062]], dtype=float32),\n",
       " array([[22032.326]], dtype=float32),\n",
       " array([[22053.08]], dtype=float32),\n",
       " array([[22348.193]], dtype=float32),\n",
       " array([[22528.607]], dtype=float32),\n",
       " array([[22383.455]], dtype=float32),\n",
       " array([[22461.578]], dtype=float32),\n",
       " array([[22735.9]], dtype=float32),\n",
       " array([[22509.398]], dtype=float32),\n",
       " array([[22881.621]], dtype=float32),\n",
       " array([[24203.7]], dtype=float32),\n",
       " array([[23668.873]], dtype=float32),\n",
       " array([[23334.12]], dtype=float32),\n",
       " array([[24402.508]], dtype=float32),\n",
       " array([[24447.998]], dtype=float32),\n",
       " array([[24825.48]], dtype=float32),\n",
       " array([[24868.76]], dtype=float32),\n",
       " array([[24599.186]], dtype=float32),\n",
       " array([[25150.1]], dtype=float32),\n",
       " array([[25362.39]], dtype=float32),\n",
       " array([[25509.322]], dtype=float32),\n",
       " array([[26006.9]], dtype=float32),\n",
       " array([[25657.934]], dtype=float32),\n",
       " array([[26387.904]], dtype=float32),\n",
       " array([[26668.38]], dtype=float32),\n",
       " array([[26749.564]], dtype=float32),\n",
       " array([[27282.148]], dtype=float32),\n",
       " array([[27639.11]], dtype=float32),\n",
       " array([[28526.709]], dtype=float32),\n",
       " array([[28510.594]], dtype=float32),\n",
       " array([[28494.906]], dtype=float32),\n",
       " array([[29459.91]], dtype=float32),\n",
       " array([[29930.375]], dtype=float32),\n",
       " array([[29414.66]], dtype=float32),\n",
       " array([[29982.654]], dtype=float32),\n",
       " array([[30521.012]], dtype=float32),\n",
       " array([[30741.361]], dtype=float32),\n",
       " array([[31693.455]], dtype=float32),\n",
       " array([[31741.385]], dtype=float32),\n",
       " array([[31539.488]], dtype=float32),\n",
       " array([[31446.574]], dtype=float32),\n",
       " array([[31467.4]], dtype=float32),\n",
       " array([[32849.13]], dtype=float32),\n",
       " array([[32789.09]], dtype=float32),\n",
       " array([[32866.844]], dtype=float32),\n",
       " array([[32625.734]], dtype=float32),\n",
       " array([[33729.883]], dtype=float32),\n",
       " array([[33562.08]], dtype=float32),\n",
       " array([[33453.676]], dtype=float32),\n",
       " array([[34283.332]], dtype=float32),\n",
       " array([[33539.047]], dtype=float32),\n",
       " array([[33545.848]], dtype=float32),\n",
       " array([[32889.99]], dtype=float32),\n",
       " array([[32647.047]], dtype=float32),\n",
       " array([[33153.8]], dtype=float32),\n",
       " array([[33287.062]], dtype=float32),\n",
       " array([[33522.38]], dtype=float32),\n",
       " array([[33857.727]], dtype=float32),\n",
       " array([[34126.273]], dtype=float32),\n",
       " array([[33211.05]], dtype=float32),\n",
       " array([[33501.008]], dtype=float32),\n",
       " array([[33639.46]], dtype=float32),\n",
       " array([[32718.16]], dtype=float32),\n",
       " array([[33116.05]], dtype=float32),\n",
       " array([[33418.676]], dtype=float32),\n",
       " array([[32892.72]], dtype=float32),\n",
       " array([[33323.45]], dtype=float32),\n",
       " array([[33039.83]], dtype=float32),\n",
       " array([[33384.4]], dtype=float32),\n",
       " array([[33758.824]], dtype=float32),\n",
       " array([[33651.17]], dtype=float32),\n",
       " array([[34428.254]], dtype=float32),\n",
       " array([[35447.195]], dtype=float32),\n",
       " array([[35829.992]], dtype=float32),\n",
       " array([[35216.91]], dtype=float32),\n",
       " array([[35289.098]], dtype=float32),\n",
       " array([[34793.613]], dtype=float32),\n",
       " array([[35297.125]], dtype=float32),\n",
       " array([[35111.867]], dtype=float32),\n",
       " array([[34930.855]], dtype=float32),\n",
       " array([[35009.65]], dtype=float32),\n",
       " array([[35647.11]], dtype=float32),\n",
       " array([[35374.492]], dtype=float32),\n",
       " array([[35285.99]], dtype=float32),\n",
       " array([[34988.582]], dtype=float32),\n",
       " array([[35126.492]], dtype=float32),\n",
       " array([[35824.63]], dtype=float32),\n",
       " array([[36105.05]], dtype=float32),\n",
       " array([[35654.305]], dtype=float32),\n",
       " array([[35936.965]], dtype=float32),\n",
       " array([[36407.934]], dtype=float32),\n",
       " array([[35680.95]], dtype=float32),\n",
       " array([[35797.094]], dtype=float32),\n",
       " array([[35463.582]], dtype=float32),\n",
       " array([[35116.098]], dtype=float32),\n",
       " array([[34978.32]], dtype=float32),\n",
       " array([[34640.062]], dtype=float32),\n",
       " array([[34623.29]], dtype=float32),\n",
       " array([[34153.504]], dtype=float32),\n",
       " array([[34030.57]], dtype=float32),\n",
       " array([[34044.543]], dtype=float32),\n",
       " array([[33914.11]], dtype=float32),\n",
       " array([[34381.625]], dtype=float32),\n",
       " array([[34235.395]], dtype=float32),\n",
       " array([[35080.67]], dtype=float32),\n",
       " array([[36072.34]], dtype=float32),\n",
       " array([[36589.387]], dtype=float32),\n",
       " array([[36883.523]], dtype=float32),\n",
       " array([[36298.004]], dtype=float32),\n",
       " array([[36412.426]], dtype=float32),\n",
       " array([[36279.16]], dtype=float32),\n",
       " array([[36582.297]], dtype=float32),\n",
       " array([[36684.703]], dtype=float32),\n",
       " array([[36969.227]], dtype=float32),\n",
       " array([[37509.953]], dtype=float32),\n",
       " array([[37316.484]], dtype=float32),\n",
       " array([[37230.625]], dtype=float32),\n",
       " array([[37487.156]], dtype=float32),\n",
       " array([[37513.895]], dtype=float32),\n",
       " array([[37106.383]], dtype=float32),\n",
       " array([[36672.727]], dtype=float32),\n",
       " array([[36399.727]], dtype=float32),\n",
       " array([[37084.074]], dtype=float32),\n",
       " array([[37976.105]], dtype=float32),\n",
       " array([[37860.047]], dtype=float32),\n",
       " array([[38269.254]], dtype=float32),\n",
       " array([[38727.87]], dtype=float32),\n",
       " array([[38394.332]], dtype=float32),\n",
       " array([[38683.78]], dtype=float32),\n",
       " array([[38900.5]], dtype=float32),\n",
       " array([[38392.12]], dtype=float32),\n",
       " array([[38407.84]], dtype=float32),\n",
       " array([[38690.918]], dtype=float32),\n",
       " array([[39117.305]], dtype=float32),\n",
       " array([[39521.574]], dtype=float32),\n",
       " array([[39648.08]], dtype=float32),\n",
       " array([[38843.82]], dtype=float32),\n",
       " array([[38330.03]], dtype=float32),\n",
       " array([[38582.277]], dtype=float32),\n",
       " array([[38089.664]], dtype=float32),\n",
       " array([[37339.883]], dtype=float32),\n",
       " array([[36998.195]], dtype=float32),\n",
       " array([[37665.992]], dtype=float32),\n",
       " array([[37676.926]], dtype=float32),\n",
       " array([[36979.88]], dtype=float32),\n",
       " array([[36905.613]], dtype=float32),\n",
       " array([[36781.766]], dtype=float32),\n",
       " array([[37563.668]], dtype=float32),\n",
       " array([[36842.71]], dtype=float32),\n",
       " array([[36415.727]], dtype=float32),\n",
       " array([[35738.254]], dtype=float32),\n",
       " array([[35542.004]], dtype=float32),\n",
       " array([[35174.13]], dtype=float32),\n",
       " array([[34989.426]], dtype=float32),\n",
       " array([[34465.69]], dtype=float32),\n",
       " array([[34463.684]], dtype=float32),\n",
       " array([[34043.527]], dtype=float32),\n",
       " array([[34662.05]], dtype=float32),\n",
       " array([[34836.703]], dtype=float32),\n",
       " array([[34615.453]], dtype=float32),\n",
       " array([[34821.59]], dtype=float32),\n",
       " array([[34767.027]], dtype=float32),\n",
       " array([[34408.21]], dtype=float32),\n",
       " array([[34932.168]], dtype=float32),\n",
       " array([[34891.094]], dtype=float32),\n",
       " array([[34534.516]], dtype=float32),\n",
       " array([[35083.82]], dtype=float32),\n",
       " array([[35089.53]], dtype=float32),\n",
       " array([[34515.78]], dtype=float32),\n",
       " array([[34081.527]], dtype=float32),\n",
       " array([[34246.234]], dtype=float32),\n",
       " array([[34202.777]], dtype=float32),\n",
       " array([[34419.277]], dtype=float32),\n",
       " array([[34623.863]], dtype=float32),\n",
       " array([[34970.844]], dtype=float32),\n",
       " array([[35371.21]], dtype=float32),\n",
       " array([[35728.008]], dtype=float32),\n",
       " array([[35546.55]], dtype=float32),\n",
       " array([[35718.773]], dtype=float32),\n",
       " array([[36517.02]], dtype=float32),\n",
       " array([[36276.824]], dtype=float32),\n",
       " array([[35941.93]], dtype=float32),\n",
       " array([[35930.15]], dtype=float32),\n",
       " array([[35865.082]], dtype=float32),\n",
       " array([[35430.01]], dtype=float32),\n",
       " array([[35499.227]], dtype=float32),\n",
       " array([[35819.637]], dtype=float32),\n",
       " array([[35454.88]], dtype=float32),\n",
       " array([[35627.664]], dtype=float32),\n",
       " array([[35912.74]], dtype=float32),\n",
       " array([[35892.246]], dtype=float32),\n",
       " array([[36123.246]], dtype=float32),\n",
       " array([[36315.223]], dtype=float32),\n",
       " array([[36537.56]], dtype=float32),\n",
       " array([[36246.27]], dtype=float32),\n",
       " array([[36224.945]], dtype=float32),\n",
       " array([[35547.023]], dtype=float32),\n",
       " array([[35473.527]], dtype=float32),\n",
       " array([[35694.2]], dtype=float32),\n",
       " array([[35648.543]], dtype=float32),\n",
       " array([[34629.297]], dtype=float32),\n",
       " array([[34748.773]], dtype=float32),\n",
       " array([[35244.797]], dtype=float32),\n",
       " array([[35629.234]], dtype=float32),\n",
       " array([[35478.1]], dtype=float32),\n",
       " array([[35978.23]], dtype=float32),\n",
       " array([[36037.555]], dtype=float32),\n",
       " array([[36084.766]], dtype=float32),\n",
       " array([[35734.355]], dtype=float32),\n",
       " array([[35190.78]], dtype=float32),\n",
       " array([[35055.242]], dtype=float32),\n",
       " array([[34852.12]], dtype=float32),\n",
       " array([[34828.21]], dtype=float32),\n",
       " array([[34823.28]], dtype=float32),\n",
       " array([[34860.73]], dtype=float32),\n",
       " array([[34910.38]], dtype=float32),\n",
       " array([[35638.37]], dtype=float32),\n",
       " array([[35320.1]], dtype=float32),\n",
       " array([[35455.887]], dtype=float32),\n",
       " array([[35148.707]], dtype=float32),\n",
       " array([[35010.64]], dtype=float32),\n",
       " array([[34963.83]], dtype=float32),\n",
       " array([[34987.67]], dtype=float32),\n",
       " array([[35048.117]], dtype=float32),\n",
       " array([[34811.652]], dtype=float32),\n",
       " array([[34998.74]], dtype=float32),\n",
       " array([[35097.53]], dtype=float32),\n",
       " array([[35113.188]], dtype=float32),\n",
       " array([[35021.734]], dtype=float32),\n",
       " array([[35049.5]], dtype=float32),\n",
       " array([[34533.836]], dtype=float32),\n",
       " array([[34064.414]], dtype=float32),\n",
       " array([[33688.95]], dtype=float32),\n",
       " array([[33925.44]], dtype=float32),\n",
       " array([[34177.22]], dtype=float32),\n",
       " array([[34526.543]], dtype=float32),\n",
       " array([[35004.91]], dtype=float32),\n",
       " array([[34906.32]], dtype=float32),\n",
       " array([[35168.78]], dtype=float32),\n",
       " array([[35136.97]], dtype=float32),\n",
       " array([[34274.727]], dtype=float32),\n",
       " array([[34120.64]], dtype=float32),\n",
       " array([[34216.965]], dtype=float32),\n",
       " array([[34383.754]], dtype=float32),\n",
       " array([[34443.11]], dtype=float32),\n",
       " array([[34725.445]], dtype=float32),\n",
       " array([[34775.766]], dtype=float32),\n",
       " array([[34482.734]], dtype=float32),\n",
       " array([[34678.664]], dtype=float32),\n",
       " array([[35460.215]], dtype=float32),\n",
       " array([[36023.758]], dtype=float32),\n",
       " array([[36394.56]], dtype=float32),\n",
       " array([[36914.176]], dtype=float32),\n",
       " array([[36834.707]], dtype=float32),\n",
       " array([[37432.69]], dtype=float32),\n",
       " array([[37467.016]], dtype=float32),\n",
       " array([[37782.445]], dtype=float32),\n",
       " array([[37776.785]], dtype=float32),\n",
       " array([[37955.836]], dtype=float32),\n",
       " array([[37924.457]], dtype=float32),\n",
       " array([[38790.79]], dtype=float32),\n",
       " array([[39161.676]], dtype=float32),\n",
       " array([[38988.848]], dtype=float32),\n",
       " array([[38990.035]], dtype=float32),\n",
       " array([[38962.29]], dtype=float32),\n",
       " array([[38500.492]], dtype=float32),\n",
       " array([[38584.56]], dtype=float32),\n",
       " array([[38802.168]], dtype=float32),\n",
       " array([[38350.63]], dtype=float32),\n",
       " array([[38498.996]], dtype=float32),\n",
       " array([[38449.285]], dtype=float32),\n",
       " array([[38556.914]], dtype=float32),\n",
       " array([[39018.62]], dtype=float32),\n",
       " array([[39448.12]], dtype=float32),\n",
       " array([[39297.793]], dtype=float32),\n",
       " array([[38985.11]], dtype=float32),\n",
       " array([[39155.895]], dtype=float32),\n",
       " array([[39278.766]], dtype=float32),\n",
       " array([[39456.11]], dtype=float32),\n",
       " array([[39315.625]], dtype=float32),\n",
       " array([[39516.832]], dtype=float32),\n",
       " array([[39238.96]], dtype=float32),\n",
       " array([[39563.684]], dtype=float32),\n",
       " array([[39316.656]], dtype=float32),\n",
       " array([[39263.227]], dtype=float32),\n",
       " array([[38775.043]], dtype=float32),\n",
       " array([[38926.195]], dtype=float32),\n",
       " array([[38502.89]], dtype=float32),\n",
       " array([[38825.85]], dtype=float32),\n",
       " array([[39095.85]], dtype=float32),\n",
       " array([[39596.668]], dtype=float32),\n",
       " array([[39496.547]], dtype=float32),\n",
       " array([[39397.92]], dtype=float32),\n",
       " array([[39352.074]], dtype=float32),\n",
       " array([[39419.387]], dtype=float32),\n",
       " array([[39273.734]], dtype=float32),\n",
       " array([[39282.504]], dtype=float32),\n",
       " array([[38744.527]], dtype=float32),\n",
       " array([[38633.246]], dtype=float32)]"
      ]
     },
     "execution_count": 33,
     "metadata": {},
     "output_type": "execute_result"
    }
   ],
   "source": [
    "# Lists future predictions\n",
    "future_predictions"
   ]
  },
  {
   "cell_type": "code",
   "execution_count": 37,
   "id": "87ffad58-ef80-401a-b010-9ad5132ab26e",
   "metadata": {},
   "outputs": [
    {
     "data": {
      "text/plain": [
       "[<matplotlib.lines.Line2D at 0x151214a10>]"
      ]
     },
     "execution_count": 37,
     "metadata": {},
     "output_type": "execute_result"
    },
    {
     "data": {
      "image/png": "[encoded data removed]",
      "text/plain": [
       "<Figure size 432x288 with 1 Axes>"
      ]
     },
     "metadata": {
      "needs_background": "light"
     },
     "output_type": "display_data"
    }
   ],
   "source": [
    "plt.plot([prediction[0] for prediction in future_predictions])"
   ]
  },
  {
   "cell_type": "code",
   "execution_count": 51,
   "id": "1eab5ca9-a409-49fb-9999-21242933f8cd",
   "metadata": {},
   "outputs": [
    {
     "ename": "ValueError",
     "evalue": "operands could not be broadcast together with shapes (1097,) (326,) ",
     "output_type": "error",
     "traceback": [
      "\u001b[0;31m---------------------------------------------------------------------------\u001b[0m",
      "\u001b[0;31mValueError\u001b[0m                                Traceback (most recent call last)",
      "\u001b[0;32m/var/folders/tz/583kdch147x6n91kv4g_xrs80000gn/T/ipykernel_5974/622703609.py\u001b[0m in \u001b[0;36m<module>\u001b[0;34m\u001b[0m\n\u001b[1;32m      1\u001b[0m \u001b[0;32mimport\u001b[0m \u001b[0mnumpy\u001b[0m \u001b[0;32mas\u001b[0m \u001b[0mnp\u001b[0m\u001b[0;34m\u001b[0m\u001b[0;34m\u001b[0m\u001b[0m\n\u001b[0;32m----> 2\u001b[0;31m \u001b[0mnp\u001b[0m\u001b[0;34m.\u001b[0m\u001b[0mappend\u001b[0m\u001b[0;34m(\u001b[0m\u001b[0mdf\u001b[0m\u001b[0;34m[\u001b[0m\u001b[0;34m'close'\u001b[0m\u001b[0;34m]\u001b[0m\u001b[0;34m.\u001b[0m\u001b[0mvalues\u001b[0m\u001b[0;34m+\u001b[0m\u001b[0mnp\u001b[0m\u001b[0;34m.\u001b[0m\u001b[0marray\u001b[0m\u001b[0;34m(\u001b[0m\u001b[0mfuture_predictions\u001b[0m\u001b[0;34m)\u001b[0m\u001b[0;34m.\u001b[0m\u001b[0mravel\u001b[0m\u001b[0;34m(\u001b[0m\u001b[0;34m)\u001b[0m\u001b[0;34m)\u001b[0m\u001b[0;34m\u001b[0m\u001b[0;34m\u001b[0m\u001b[0m\n\u001b[0m",
      "\u001b[0;31mValueError\u001b[0m: operands could not be broadcast together with shapes (1097,) (326,) "
     ]
    }
   ],
   "source": [
    "import numpy as np\n",
    "np.append(df['close'].values+np.array(future_predictions).ravel())"
   ]
  },
  {
   "cell_type": "code",
   "execution_count": 63,
   "id": "d5d782a1-e205-4d37-8ae9-87ddd6228053",
   "metadata": {},
   "outputs": [
    {
     "data": {
      "text/plain": [
       "array(['2019-06-30T00:00:00.000000000', '2019-07-01T00:00:00.000000000',\n",
       "       '2019-07-02T00:00:00.000000000', ...,\n",
       "       '2023-05-19T00:00:00.000000000', '2023-05-20T00:00:00.000000000',\n",
       "       '2023-05-21T00:00:00.000000000'], dtype='datetime64[ns]')"
      ]
     },
     "execution_count": 63,
     "metadata": {},
     "output_type": "execute_result"
    }
   ],
   "source": [
    "# df.index+\n",
    "future_dates=pd.date_range(df.index[-1], periods=326, freq='D')\n",
    "datetime_index=df.index.append(future_dates)\n",
    "datetime_index.values"
   ]
  },
  {
   "cell_type": "code",
   "execution_count": 68,
   "id": "023e24ec-243e-4c35-9e24-5010c7368eb8",
   "metadata": {},
   "outputs": [
    {
     "data": {
      "text/plain": [
       "(array([18078., 18262., 18444., 18628., 18809., 18993., 19174., 19358.,\n",
       "        19539.]),\n",
       " [Text(0, 0, ''),\n",
       "  Text(0, 0, ''),\n",
       "  Text(0, 0, ''),\n",
       "  Text(0, 0, ''),\n",
       "  Text(0, 0, ''),\n",
       "  Text(0, 0, ''),\n",
       "  Text(0, 0, ''),\n",
       "  Text(0, 0, ''),\n",
       "  Text(0, 0, '')])"
      ]
     },
     "execution_count": 68,
     "metadata": {},
     "output_type": "execute_result"
    },
    {
     "data": {
      "image/png": "[encoded data removed]",
      "text/plain": [
       "<Figure size 432x288 with 1 Axes>"
      ]
     },
     "metadata": {
      "needs_background": "light"
     },
     "output_type": "display_data"
    }
   ],
   "source": [
    "plt.plot(datetime_index.values, np.concatenate((df['close'].values, np.array(future_predictions).ravel())))\n",
    "plt.xticks(rotation=90)"
   ]
  },
  {
   "cell_type": "code",
   "execution_count": null,
   "id": "6bbee083-dd2d-4f43-8b00-65147c0e903f",
   "metadata": {},
   "outputs": [],
   "source": [
    "# predicts next close values\n",
    "prediction = model_prediction_btc.predict(X_test)\n",
    "# rescales predicted values to original scale\n",
    "y_predicted=y_scaler.inverse_transform(prediction)"
   ]
  },
  {
   "cell_type": "code",
   "execution_count": null,
   "id": "dca3f406-f06e-4ca8-8fe1-258b5d4e27fe",
   "metadata": {},
   "outputs": [],
   "source": [
    "# Plots the future predicted values\n",
    "plt.plot(y_predicted)"
   ]
  },
  {
   "cell_type": "code",
   "execution_count": null,
   "id": "4cae2217-ab77-4591-81f3-d357ba504b1b",
   "metadata": {},
   "outputs": [],
   "source": []
  }
 ],
 "metadata": {
  "kernelspec": {
   "display_name": "Python 3 (ipykernel)",
   "language": "python",
   "name": "python3"
  },
  "language_info": {
   "codemirror_mode": {
    "name": "ipython",
    "version": 3
   },
   "file_extension": ".py",
   "mimetype": "text/x-python",
   "name": "python",
   "nbconvert_exporter": "python",
   "pygments_lexer": "ipython3",
   "version": "3.7.11"
  }
 },
 "nbformat": 4,
 "nbformat_minor": 5
}
