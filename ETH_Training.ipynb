{
 "cells": [
  {
   "cell_type": "code",
   "execution_count": null,
   "id": "05d5759d-5f2b-4a0a-840f-4947812ec3eb",
   "metadata": {},
   "outputs": [],
   "source": [
    "import tensorflow as tf\n",
    "import yfinance as yf\n",
    "from yahoo_fin.stock_info import get_data\n",
    "import pandas as pd\n",
    "import numpy as np\n",
    "from sklearn.preprocessing import MinMaxScaler\n",
    "from tensorflow.keras.models import Sequential\n",
    "from tensorflow.keras.layers import LSTM, Dense, Dropout\n",
    "import matplotlib.pyplot as plt"
   ]
  },
  {
   "cell_type": "code",
   "execution_count": 4,
   "id": "0ebbba96-f2e6-4e89-a91c-09c3575476d2",
   "metadata": {},
   "outputs": [
    {
     "data": {
      "text/html": [
       "<div>\n",
       "<style scoped>\n",
       "    .dataframe tbody tr th:only-of-type {\n",
       "        vertical-align: middle;\n",
       "    }\n",
       "\n",
       "    .dataframe tbody tr th {\n",
       "        vertical-align: top;\n",
       "    }\n",
       "\n",
       "    .dataframe thead th {\n",
       "        text-align: right;\n",
       "    }\n",
       "</style>\n",
       "<table border=\"1\" class=\"dataframe\">\n",
       "  <thead>\n",
       "    <tr style=\"text-align: right;\">\n",
       "      <th></th>\n",
       "      <th>open</th>\n",
       "      <th>high</th>\n",
       "      <th>low</th>\n",
       "      <th>close</th>\n",
       "      <th>adjclose</th>\n",
       "      <th>volume</th>\n",
       "    </tr>\n",
       "  </thead>\n",
       "  <tbody>\n",
       "    <tr>\n",
       "      <th>2019-06-30</th>\n",
       "      <td>319.584045</td>\n",
       "      <td>322.789581</td>\n",
       "      <td>290.695984</td>\n",
       "      <td>290.695984</td>\n",
       "      <td>290.695984</td>\n",
       "      <td>10303111000</td>\n",
       "    </tr>\n",
       "    <tr>\n",
       "      <th>2019-07-01</th>\n",
       "      <td>290.268494</td>\n",
       "      <td>301.026154</td>\n",
       "      <td>280.022827</td>\n",
       "      <td>293.641113</td>\n",
       "      <td>293.641113</td>\n",
       "      <td>10292223948</td>\n",
       "    </tr>\n",
       "    <tr>\n",
       "      <th>2019-07-02</th>\n",
       "      <td>293.537262</td>\n",
       "      <td>295.655853</td>\n",
       "      <td>272.602570</td>\n",
       "      <td>291.596436</td>\n",
       "      <td>291.596436</td>\n",
       "      <td>10618413952</td>\n",
       "    </tr>\n",
       "    <tr>\n",
       "      <th>2019-07-03</th>\n",
       "      <td>291.764618</td>\n",
       "      <td>303.342041</td>\n",
       "      <td>291.401642</td>\n",
       "      <td>303.099976</td>\n",
       "      <td>303.099976</td>\n",
       "      <td>9926711979</td>\n",
       "    </tr>\n",
       "    <tr>\n",
       "      <th>2019-07-04</th>\n",
       "      <td>303.025085</td>\n",
       "      <td>303.961151</td>\n",
       "      <td>282.765747</td>\n",
       "      <td>284.523224</td>\n",
       "      <td>284.523224</td>\n",
       "      <td>8403513106</td>\n",
       "    </tr>\n",
       "  </tbody>\n",
       "</table>\n",
       "</div>"
      ],
      "text/plain": [
       "                  open        high         low       close    adjclose  \\\n",
       "2019-06-30  319.584045  322.789581  290.695984  290.695984  290.695984   \n",
       "2019-07-01  290.268494  301.026154  280.022827  293.641113  293.641113   \n",
       "2019-07-02  293.537262  295.655853  272.602570  291.596436  291.596436   \n",
       "2019-07-03  291.764618  303.342041  291.401642  303.099976  303.099976   \n",
       "2019-07-04  303.025085  303.961151  282.765747  284.523224  284.523224   \n",
       "\n",
       "                 volume  \n",
       "2019-06-30  10303111000  \n",
       "2019-07-01  10292223948  \n",
       "2019-07-02  10618413952  \n",
       "2019-07-03   9926711979  \n",
       "2019-07-04   8403513106  "
      ]
     },
     "execution_count": 4,
     "metadata": {},
     "output_type": "execute_result"
    }
   ],
   "source": [
    "# Imports 3 years of BTC daily data from yahoo finance\n",
    "ETH_df = get_data(\"ETH-USD\", start_date=\"6/30/2019\", end_date=\"06/30/2022\", index_as_date = True, interval=\"1d\")\n",
    "df = ETH_df.iloc[:,0:-1]\n",
    "df.head()"
   ]
  },
  {
   "cell_type": "code",
   "execution_count": 5,
   "id": "994be8b3-10e4-4359-a6c1-a201caadae39",
   "metadata": {},
   "outputs": [],
   "source": [
    "# Defines function to split X and y data\n",
    "def window_data(df, window, feature_col_number, target_col_number):\n",
    "    # Creates empty X and y list\n",
    "    X = []\n",
    "    y = []\n",
    "    # loops through btc data\n",
    "    for i in range(len(df) - window - 1):\n",
    "        # splits the features by grouping window amount of previous close data\n",
    "        features = df.iloc[i:(i + window), feature_col_number]\n",
    "        # splits target by taking current close values\n",
    "        target = df.iloc[(i + window), target_col_number]\n",
    "        # Adds end of each loops data to respective X and y list\n",
    "        X.append(features)\n",
    "        y.append(target)\n",
    "    # returns X,y as arrays\n",
    "    return np.array(X), np.array(y).reshape(-1, 1)"
   ]
  },
  {
   "cell_type": "code",
   "execution_count": 6,
   "id": "3a7a210a-0d4b-4146-9de1-a3bf42dff4cf",
   "metadata": {},
   "outputs": [],
   "source": [
    "# Defines window size\n",
    "window_size=10"
   ]
  },
  {
   "cell_type": "code",
   "execution_count": 7,
   "id": "a1df5590-9e72-4d3e-809b-093e699d0585",
   "metadata": {},
   "outputs": [
    {
     "data": {
      "text/plain": [
       "array([[ 290.69598389,  293.64111328,  291.59643555, ...,  305.70056152,\n",
       "         313.25140381,  308.88101196],\n",
       "       [ 293.64111328,  291.59643555,  303.09997559, ...,  313.25140381,\n",
       "         308.88101196,  290.00231934],\n",
       "       [ 291.59643555,  303.09997559,  284.52322388, ...,  308.88101196,\n",
       "         290.00231934,  268.70404053],\n",
       "       ...,\n",
       "       [1086.51928711,  993.63677979, 1127.65649414, ..., 1226.84472656,\n",
       "        1243.44689941, 1199.83166504],\n",
       "       [ 993.63677979, 1127.65649414, 1127.64245605, ..., 1243.44689941,\n",
       "        1199.83166504, 1193.68066406],\n",
       "       [1127.65649414, 1127.64245605, 1124.82458496, ..., 1199.83166504,\n",
       "        1193.68066406, 1144.57922363]])"
      ]
     },
     "metadata": {},
     "output_type": "display_data"
    },
    {
     "data": {
      "text/plain": [
       "array([[ 290.00231934],\n",
       "       [ 268.70404053],\n",
       "       [ 276.27670288],\n",
       "       ...,\n",
       "       [1193.68066406],\n",
       "       [1144.57922363],\n",
       "       [1098.94384766]])"
      ]
     },
     "metadata": {},
     "output_type": "display_data"
    }
   ],
   "source": [
    "# Runs function to split X and y data\n",
    "X, y=window_data(df, window_size, 3, 3)\n",
    "# Displays X and y\n",
    "display(X)\n",
    "display(y)"
   ]
  },
  {
   "cell_type": "code",
   "execution_count": 8,
   "id": "0a5f5452-38a4-469c-b0a5-78ec564af751",
   "metadata": {},
   "outputs": [],
   "source": [
    "# Scales X and y data using MinMaxScaler\n",
    "X_scaler=MinMaxScaler()\n",
    "X_scaler.fit(X)\n",
    "X_scaled=X_scaler.transform(X)\n",
    "y_scaler=MinMaxScaler()\n",
    "y_scaler.fit(y)\n",
    "y_scaled=y_scaler.transform(y)"
   ]
  },
  {
   "cell_type": "code",
   "execution_count": 12,
   "id": "c82a4f5a-c8d2-4c4d-9445-b5288dbf4798",
   "metadata": {},
   "outputs": [],
   "source": [
    "# Defines where train and test data will be split (70% is train)\n",
    "split=int(0.7*len(X_scaled))\n",
    "# Splits train and test data\n",
    "X_train=X_scaled[:split]\n",
    "X_test=X_scaled[split:]\n",
    "y_train=y_scaled[:split]\n",
    "y_test=y_scaled[split:]"
   ]
  },
  {
   "cell_type": "code",
   "execution_count": 13,
   "id": "0f47963a-146a-481b-80f4-344034937b7c",
   "metadata": {},
   "outputs": [],
   "source": [
    "#X_scaled=X_scaled.reshape(X_scaled.shape[0], X_scaled.shape[1], 1)\n",
    "#display(X.shape)"
   ]
  },
  {
   "cell_type": "code",
   "execution_count": 14,
   "id": "29086096-c951-4474-8df3-f4157d659326",
   "metadata": {},
   "outputs": [
    {
     "data": {
      "text/plain": [
       "(760, 10, 1)"
      ]
     },
     "metadata": {},
     "output_type": "display_data"
    },
    {
     "data": {
      "text/plain": [
       "(326, 10, 1)"
      ]
     },
     "metadata": {},
     "output_type": "display_data"
    }
   ],
   "source": [
    "# Reshapes data into size LSTM can handle\n",
    "X_train=X_train.reshape(X_train.shape[0], X_train.shape[1], 1)\n",
    "X_test=X_test.reshape(X_test.shape[0], X_test.shape[1], 1)\n",
    "display(X_train.shape)\n",
    "display(X_test.shape)"
   ]
  },
  {
   "cell_type": "code",
   "execution_count": 18,
   "id": "cb038665-a8f6-4eeb-9879-81f689277f34",
   "metadata": {},
   "outputs": [],
   "source": [
    "# Creates neural network\n",
    "model_ETH=Sequential()\n",
    "# Defines and adds LSTM layer\n",
    "first_lstm_layer=LSTM(units=30, return_sequences=True, input_shape=(window_size, 1))\n",
    "model_ETH.add(first_lstm_layer)\n",
    "# Randomly drops 20% of defined nodes\n",
    "first_dropout_layer=Dropout(0.2)\n",
    "# Defines and adds LSTM layer\n",
    "model_ETH.add(first_dropout_layer)\n",
    "second_lstm_layer=LSTM(units=30, return_sequences=True)\n",
    "model_ETH.add(second_lstm_layer)\n",
    "# Randomly drops 20% of defined nodes\n",
    "second_dropout_layer=Dropout(0.2)\n",
    "# Defines and adds LSTM layer\n",
    "model_ETH.add(second_dropout_layer)\n",
    "third_lstm_layer=LSTM(units=30)\n",
    "model_ETH.add(third_lstm_layer)\n",
    "# Defines and adds output layer with linear activation\n",
    "output_layer=Dense(units=1, activation='linear')\n",
    "model_ETH.add(output_layer)"
   ]
  },
  {
   "cell_type": "code",
   "execution_count": 19,
   "id": "2da843a7-f659-47e0-a23d-e68b41a31471",
   "metadata": {},
   "outputs": [],
   "source": [
    "# Compiles model\n",
    "model_ETH.compile(loss='mean_squared_error', optimizer='adam', metrics='mean_squared_error')"
   ]
  },
  {
   "cell_type": "code",
   "execution_count": 20,
   "id": "982b8d17-2e7f-408e-b41f-ab2ad6f03dbd",
   "metadata": {},
   "outputs": [
    {
     "name": "stdout",
     "output_type": "stream",
     "text": [
      "Model: \"sequential_1\"\n",
      "_________________________________________________________________\n",
      " Layer (type)                Output Shape              Param #   \n",
      "=================================================================\n",
      " lstm_3 (LSTM)               (None, 10, 30)            3840      \n",
      "                                                                 \n",
      " dropout_2 (Dropout)         (None, 10, 30)            0         \n",
      "                                                                 \n",
      " lstm_4 (LSTM)               (None, 10, 30)            7320      \n",
      "                                                                 \n",
      " dropout_3 (Dropout)         (None, 10, 30)            0         \n",
      "                                                                 \n",
      " lstm_5 (LSTM)               (None, 30)                7320      \n",
      "                                                                 \n",
      " dense_1 (Dense)             (None, 1)                 31        \n",
      "                                                                 \n",
      "=================================================================\n",
      "Total params: 18,511\n",
      "Trainable params: 18,511\n",
      "Non-trainable params: 0\n",
      "_________________________________________________________________\n"
     ]
    }
   ],
   "source": [
    "# Provides summary of model\n",
    "model_ETH.summary()"
   ]
  },
  {
   "cell_type": "code",
   "execution_count": 21,
   "id": "fa6579b2-ffde-42ea-b911-1c16f3dd4cde",
   "metadata": {},
   "outputs": [
    {
     "name": "stdout",
     "output_type": "stream",
     "text": [
      "Epoch 1/50\n",
      "24/24 [==============================] - 9s 10ms/step - loss: 0.0269 - mean_squared_error: 0.0269\n",
      "Epoch 2/50\n",
      "24/24 [==============================] - 0s 10ms/step - loss: 0.0035 - mean_squared_error: 0.0035\n",
      "Epoch 3/50\n",
      "24/24 [==============================] - 0s 9ms/step - loss: 0.0024 - mean_squared_error: 0.0024\n",
      "Epoch 4/50\n",
      "24/24 [==============================] - 0s 9ms/step - loss: 0.0023 - mean_squared_error: 0.0023\n",
      "Epoch 5/50\n",
      "24/24 [==============================] - 0s 9ms/step - loss: 0.0016 - mean_squared_error: 0.0016\n",
      "Epoch 6/50\n",
      "24/24 [==============================] - 0s 9ms/step - loss: 0.0016 - mean_squared_error: 0.0016\n",
      "Epoch 7/50\n",
      "24/24 [==============================] - 0s 9ms/step - loss: 0.0018 - mean_squared_error: 0.0018\n",
      "Epoch 8/50\n",
      "24/24 [==============================] - 0s 11ms/step - loss: 0.0018 - mean_squared_error: 0.0018\n",
      "Epoch 9/50\n",
      "24/24 [==============================] - 0s 9ms/step - loss: 0.0021 - mean_squared_error: 0.0021\n",
      "Epoch 10/50\n",
      "24/24 [==============================] - 0s 12ms/step - loss: 0.0016 - mean_squared_error: 0.0016\n",
      "Epoch 11/50\n",
      "24/24 [==============================] - 0s 13ms/step - loss: 0.0017 - mean_squared_error: 0.0017\n",
      "Epoch 12/50\n",
      "24/24 [==============================] - 0s 10ms/step - loss: 0.0016 - mean_squared_error: 0.0016\n",
      "Epoch 13/50\n",
      "24/24 [==============================] - 0s 9ms/step - loss: 0.0016 - mean_squared_error: 0.0016\n",
      "Epoch 14/50\n",
      "24/24 [==============================] - 0s 9ms/step - loss: 0.0017 - mean_squared_error: 0.0017\n",
      "Epoch 15/50\n",
      "24/24 [==============================] - 0s 10ms/step - loss: 0.0016 - mean_squared_error: 0.0016\n",
      "Epoch 16/50\n",
      "24/24 [==============================] - 0s 13ms/step - loss: 0.0014 - mean_squared_error: 0.0014\n",
      "Epoch 17/50\n",
      "24/24 [==============================] - 0s 11ms/step - loss: 0.0015 - mean_squared_error: 0.0015\n",
      "Epoch 18/50\n",
      "24/24 [==============================] - 0s 13ms/step - loss: 0.0017 - mean_squared_error: 0.0017\n",
      "Epoch 19/50\n",
      "24/24 [==============================] - 0s 13ms/step - loss: 0.0015 - mean_squared_error: 0.0015\n",
      "Epoch 20/50\n",
      "24/24 [==============================] - 0s 9ms/step - loss: 0.0013 - mean_squared_error: 0.0013\n",
      "Epoch 21/50\n",
      "24/24 [==============================] - 0s 14ms/step - loss: 0.0012 - mean_squared_error: 0.0012\n",
      "Epoch 22/50\n",
      "24/24 [==============================] - 0s 11ms/step - loss: 0.0013 - mean_squared_error: 0.0013\n",
      "Epoch 23/50\n",
      "24/24 [==============================] - 0s 9ms/step - loss: 0.0014 - mean_squared_error: 0.0014\n",
      "Epoch 24/50\n",
      "24/24 [==============================] - 0s 14ms/step - loss: 0.0012 - mean_squared_error: 0.0012\n",
      "Epoch 25/50\n",
      "24/24 [==============================] - 0s 9ms/step - loss: 0.0015 - mean_squared_error: 0.0015\n",
      "Epoch 26/50\n",
      "24/24 [==============================] - 0s 11ms/step - loss: 0.0015 - mean_squared_error: 0.0015\n",
      "Epoch 27/50\n",
      "24/24 [==============================] - 0s 13ms/step - loss: 0.0013 - mean_squared_error: 0.0013\n",
      "Epoch 28/50\n",
      "24/24 [==============================] - 0s 11ms/step - loss: 0.0014 - mean_squared_error: 0.0014\n",
      "Epoch 29/50\n",
      "24/24 [==============================] - 0s 14ms/step - loss: 0.0015 - mean_squared_error: 0.0015\n",
      "Epoch 30/50\n",
      "24/24 [==============================] - 0s 11ms/step - loss: 0.0014 - mean_squared_error: 0.0014\n",
      "Epoch 31/50\n",
      "24/24 [==============================] - 0s 11ms/step - loss: 0.0011 - mean_squared_error: 0.0011\n",
      "Epoch 32/50\n",
      "24/24 [==============================] - 0s 11ms/step - loss: 0.0011 - mean_squared_error: 0.0011 \n",
      "Epoch 33/50\n",
      "24/24 [==============================] - 0s 9ms/step - loss: 0.0013 - mean_squared_error: 0.0013\n",
      "Epoch 34/50\n",
      "24/24 [==============================] - 0s 9ms/step - loss: 0.0011 - mean_squared_error: 0.0011\n",
      "Epoch 35/50\n",
      "24/24 [==============================] - 0s 9ms/step - loss: 0.0012 - mean_squared_error: 0.0012\n",
      "Epoch 36/50\n",
      "24/24 [==============================] - 0s 11ms/step - loss: 0.0012 - mean_squared_error: 0.0012\n",
      "Epoch 37/50\n",
      "24/24 [==============================] - 0s 9ms/step - loss: 0.0010 - mean_squared_error: 0.0010  \n",
      "Epoch 38/50\n",
      "24/24 [==============================] - 0s 9ms/step - loss: 9.5282e-04 - mean_squared_error: 9.5282e-04\n",
      "Epoch 39/50\n",
      "24/24 [==============================] - 0s 9ms/step - loss: 0.0010 - mean_squared_error: 0.0010    \n",
      "Epoch 40/50\n",
      "24/24 [==============================] - 0s 10ms/step - loss: 0.0012 - mean_squared_error: 0.0012\n",
      "Epoch 41/50\n",
      "24/24 [==============================] - 0s 11ms/step - loss: 0.0010 - mean_squared_error: 0.0010\n",
      "Epoch 42/50\n",
      "24/24 [==============================] - 0s 9ms/step - loss: 9.2652e-04 - mean_squared_error: 9.2652e-04\n",
      "Epoch 43/50\n",
      "24/24 [==============================] - 0s 9ms/step - loss: 0.0012 - mean_squared_error: 0.0012\n",
      "Epoch 44/50\n",
      "24/24 [==============================] - 0s 11ms/step - loss: 0.0012 - mean_squared_error: 0.0012\n",
      "Epoch 45/50\n",
      "24/24 [==============================] - 0s 10ms/step - loss: 0.0011 - mean_squared_error: 0.0011 \n",
      "Epoch 46/50\n",
      "24/24 [==============================] - 0s 9ms/step - loss: 8.8236e-04 - mean_squared_error: 8.8236e-04\n",
      "Epoch 47/50\n",
      "24/24 [==============================] - 0s 9ms/step - loss: 8.2943e-04 - mean_squared_error: 8.2943e-04\n",
      "Epoch 48/50\n",
      "24/24 [==============================] - 0s 9ms/step - loss: 8.6224e-04 - mean_squared_error: 8.6224e-04\n",
      "Epoch 49/50\n",
      "24/24 [==============================] - 0s 9ms/step - loss: 8.9592e-04 - mean_squared_error: 8.9592e-04\n",
      "Epoch 50/50\n",
      "24/24 [==============================] - 0s 9ms/step - loss: 7.5439e-04 - mean_squared_error: 7.5439e-04\n"
     ]
    },
    {
     "data": {
      "text/plain": [
       "<keras.callbacks.History at 0x279938fbec8>"
      ]
     },
     "execution_count": 21,
     "metadata": {},
     "output_type": "execute_result"
    }
   ],
   "source": [
    "# Initially fits model using training data\n",
    "model_ETH.fit(X_train, y_train, epochs=50)"
   ]
  },
  {
   "cell_type": "code",
   "execution_count": 22,
   "id": "a462af69-9c45-43ad-913b-c1a0a4b3a09d",
   "metadata": {},
   "outputs": [
    {
     "name": "stdout",
     "output_type": "stream",
     "text": [
      "11/11 [==============================] - 1s 4ms/step\n"
     ]
    }
   ],
   "source": [
    "# predicts next close values\n",
    "prediction = model.predict(X_test)\n",
    "# rescales predicted values to original scale\n",
    "y_predicted=y_scaler.inverse_transform(prediction)"
   ]
  },
  {
   "cell_type": "code",
   "execution_count": 23,
   "id": "13f6866f-9982-4ba1-8cee-81d797129596",
   "metadata": {},
   "outputs": [
    {
     "data": {
      "text/html": [
       "<div>\n",
       "<style scoped>\n",
       "    .dataframe tbody tr th:only-of-type {\n",
       "        vertical-align: middle;\n",
       "    }\n",
       "\n",
       "    .dataframe tbody tr th {\n",
       "        vertical-align: top;\n",
       "    }\n",
       "\n",
       "    .dataframe thead th {\n",
       "        text-align: right;\n",
       "    }\n",
       "</style>\n",
       "<table border=\"1\" class=\"dataframe\">\n",
       "  <thead>\n",
       "    <tr style=\"text-align: right;\">\n",
       "      <th></th>\n",
       "      <th>predictions</th>\n",
       "      <th>actual</th>\n",
       "    </tr>\n",
       "  </thead>\n",
       "  <tbody>\n",
       "    <tr>\n",
       "      <th>2021-08-09</th>\n",
       "      <td>138.273987</td>\n",
       "      <td>3167.856201</td>\n",
       "    </tr>\n",
       "    <tr>\n",
       "      <th>2021-08-10</th>\n",
       "      <td>138.944122</td>\n",
       "      <td>3141.691162</td>\n",
       "    </tr>\n",
       "    <tr>\n",
       "      <th>2021-08-11</th>\n",
       "      <td>139.658875</td>\n",
       "      <td>3164.245117</td>\n",
       "    </tr>\n",
       "    <tr>\n",
       "      <th>2021-08-12</th>\n",
       "      <td>140.381760</td>\n",
       "      <td>3043.414307</td>\n",
       "    </tr>\n",
       "    <tr>\n",
       "      <th>2021-08-13</th>\n",
       "      <td>141.060928</td>\n",
       "      <td>3322.211670</td>\n",
       "    </tr>\n",
       "    <tr>\n",
       "      <th>...</th>\n",
       "      <td>...</td>\n",
       "      <td>...</td>\n",
       "    </tr>\n",
       "    <tr>\n",
       "      <th>2022-06-26</th>\n",
       "      <td>122.392578</td>\n",
       "      <td>1199.831665</td>\n",
       "    </tr>\n",
       "    <tr>\n",
       "      <th>2022-06-27</th>\n",
       "      <td>122.531136</td>\n",
       "      <td>1193.680664</td>\n",
       "    </tr>\n",
       "    <tr>\n",
       "      <th>2022-06-28</th>\n",
       "      <td>122.755333</td>\n",
       "      <td>1144.579224</td>\n",
       "    </tr>\n",
       "    <tr>\n",
       "      <th>2022-06-29</th>\n",
       "      <td>122.981369</td>\n",
       "      <td>1098.943848</td>\n",
       "    </tr>\n",
       "    <tr>\n",
       "      <th>2022-06-30</th>\n",
       "      <td>123.160172</td>\n",
       "      <td>1067.298828</td>\n",
       "    </tr>\n",
       "  </tbody>\n",
       "</table>\n",
       "<p>326 rows × 2 columns</p>\n",
       "</div>"
      ],
      "text/plain": [
       "            predictions       actual\n",
       "2021-08-09   138.273987  3167.856201\n",
       "2021-08-10   138.944122  3141.691162\n",
       "2021-08-11   139.658875  3164.245117\n",
       "2021-08-12   140.381760  3043.414307\n",
       "2021-08-13   141.060928  3322.211670\n",
       "...                 ...          ...\n",
       "2022-06-26   122.392578  1199.831665\n",
       "2022-06-27   122.531136  1193.680664\n",
       "2022-06-28   122.755333  1144.579224\n",
       "2022-06-29   122.981369  1098.943848\n",
       "2022-06-30   123.160172  1067.298828\n",
       "\n",
       "[326 rows x 2 columns]"
      ]
     },
     "execution_count": 23,
     "metadata": {},
     "output_type": "execute_result"
    }
   ],
   "source": [
    "comparison_df = pd.DataFrame({'predictions':y_predicted.ravel(),'actual':df.iloc[771:]['close']})\n",
    "comparison_df\n",
    "#display(y_predicted)\n",
    "#display(df.iloc[760:]['close'])"
   ]
  },
  {
   "cell_type": "code",
   "execution_count": 24,
   "id": "09ffd82a-6254-4114-9781-b54148d0cfe9",
   "metadata": {},
   "outputs": [
    {
     "data": {
      "text/plain": [
       "[<matplotlib.lines.Line2D at 0x2798ac6fd88>]"
      ]
     },
     "execution_count": 24,
     "metadata": {},
     "output_type": "execute_result"
    },
    {
     "data": {
      "image/png": "[encoded data removed]",
      "text/plain": [
       "<Figure size 432x288 with 1 Axes>"
      ]
     },
     "metadata": {
      "needs_background": "light"
     },
     "output_type": "display_data"
    }
   ],
   "source": [
    "# Plots the predicted test values\n",
    "plt.plot(y_predicted)\n",
    "# Plots the true historic close values"
   ]
  },
  {
   "cell_type": "code",
   "execution_count": 25,
   "id": "21b2041e-202c-442a-a1af-d72cabf2fe2d",
   "metadata": {},
   "outputs": [
    {
     "data": {
      "text/plain": [
       "[<matplotlib.lines.Line2D at 0x2799c2749c8>]"
      ]
     },
     "execution_count": 25,
     "metadata": {},
     "output_type": "execute_result"
    },
    {
     "data": {
      "image/png": "[encoded data removed]",
      "text/plain": [
       "<Figure size 432x288 with 1 Axes>"
      ]
     },
     "metadata": {
      "needs_background": "light"
     },
     "output_type": "display_data"
    }
   ],
   "source": [
    "# Plots the true historic close values\n",
    "plt.plot(df.iloc[760:]['close'])"
   ]
  },
  {
   "cell_type": "code",
   "execution_count": 26,
   "id": "df763a84-5377-4722-ae7f-6afe72fa1af1",
   "metadata": {},
   "outputs": [
    {
     "data": {
      "text/plain": [
       "array([3013.73266602])"
      ]
     },
     "execution_count": 26,
     "metadata": {},
     "output_type": "execute_result"
    }
   ],
   "source": [
    "y[-326]"
   ]
  }
 ],
 "metadata": {
  "kernelspec": {
   "display_name": "Python 3 (ipykernel)",
   "language": "python",
   "name": "python3"
  },
  "language_info": {
   "codemirror_mode": {
    "name": "ipython",
    "version": 3
   },
   "file_extension": ".py",
   "mimetype": "text/x-python",
   "name": "python",
   "nbconvert_exporter": "python",
   "pygments_lexer": "ipython3",
   "version": "3.7.11"
  }
 },
 "nbformat": 4,
 "nbformat_minor": 5
}
