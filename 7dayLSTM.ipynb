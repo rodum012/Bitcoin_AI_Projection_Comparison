{
 "cells": [
  {
   "cell_type": "code",
   "execution_count": 1,
   "id": "6f1f7d62-6069-45ca-96fe-5686ac2217e6",
   "metadata": {},
   "outputs": [],
   "source": [
    "import tensorflow as tf\n",
    "import yfinance as yf\n",
    "from yahoo_fin.stock_info import get_data\n",
    "import pandas as pd\n",
    "import numpy as np\n",
    "from sklearn.preprocessing import MinMaxScaler\n",
    "from tensorflow.keras.models import Sequential\n",
    "from tensorflow.keras.layers import LSTM, Dense, Dropout\n",
    "import matplotlib.pyplot as plt"
   ]
  },
  {
   "cell_type": "code",
   "execution_count": 11,
   "id": "e37f5f49-6ce4-47d3-8018-b280f5e5e232",
   "metadata": {},
   "outputs": [
    {
     "data": {
      "text/html": [
       "<div>\n",
       "<style scoped>\n",
       "    .dataframe tbody tr th:only-of-type {\n",
       "        vertical-align: middle;\n",
       "    }\n",
       "\n",
       "    .dataframe tbody tr th {\n",
       "        vertical-align: top;\n",
       "    }\n",
       "\n",
       "    .dataframe thead th {\n",
       "        text-align: right;\n",
       "    }\n",
       "</style>\n",
       "<table border=\"1\" class=\"dataframe\">\n",
       "  <thead>\n",
       "    <tr style=\"text-align: right;\">\n",
       "      <th></th>\n",
       "      <th>open</th>\n",
       "      <th>high</th>\n",
       "      <th>low</th>\n",
       "      <th>close</th>\n",
       "      <th>adjclose</th>\n",
       "      <th>volume</th>\n",
       "    </tr>\n",
       "  </thead>\n",
       "  <tbody>\n",
       "    <tr>\n",
       "      <th>2019-06-24</th>\n",
       "      <td>11931.991211</td>\n",
       "      <td>12178.383789</td>\n",
       "      <td>10799.008789</td>\n",
       "      <td>10817.155273</td>\n",
       "      <td>10817.155273</td>\n",
       "      <td>27256473494</td>\n",
       "    </tr>\n",
       "    <tr>\n",
       "      <th>2019-07-01</th>\n",
       "      <td>10796.930664</td>\n",
       "      <td>12006.075195</td>\n",
       "      <td>9737.884766</td>\n",
       "      <td>11450.846680</td>\n",
       "      <td>11450.846680</td>\n",
       "      <td>181410821667</td>\n",
       "    </tr>\n",
       "    <tr>\n",
       "      <th>2019-07-08</th>\n",
       "      <td>11446.596680</td>\n",
       "      <td>13129.529297</td>\n",
       "      <td>10234.576172</td>\n",
       "      <td>10256.058594</td>\n",
       "      <td>10256.058594</td>\n",
       "      <td>180936684097</td>\n",
       "    </tr>\n",
       "    <tr>\n",
       "      <th>2019-07-15</th>\n",
       "      <td>10257.838867</td>\n",
       "      <td>11052.766602</td>\n",
       "      <td>9163.134766</td>\n",
       "      <td>10599.105469</td>\n",
       "      <td>10599.105469</td>\n",
       "      <td>157356814406</td>\n",
       "    </tr>\n",
       "    <tr>\n",
       "      <th>2019-07-22</th>\n",
       "      <td>10596.948242</td>\n",
       "      <td>10651.791016</td>\n",
       "      <td>9252.296875</td>\n",
       "      <td>9552.860352</td>\n",
       "      <td>9552.860352</td>\n",
       "      <td>112459229432</td>\n",
       "    </tr>\n",
       "  </tbody>\n",
       "</table>\n",
       "</div>"
      ],
      "text/plain": [
       "                    open          high           low         close  \\\n",
       "2019-06-24  11931.991211  12178.383789  10799.008789  10817.155273   \n",
       "2019-07-01  10796.930664  12006.075195   9737.884766  11450.846680   \n",
       "2019-07-08  11446.596680  13129.529297  10234.576172  10256.058594   \n",
       "2019-07-15  10257.838867  11052.766602   9163.134766  10599.105469   \n",
       "2019-07-22  10596.948242  10651.791016   9252.296875   9552.860352   \n",
       "\n",
       "                adjclose        volume  \n",
       "2019-06-24  10817.155273   27256473494  \n",
       "2019-07-01  11450.846680  181410821667  \n",
       "2019-07-08  10256.058594  180936684097  \n",
       "2019-07-15  10599.105469  157356814406  \n",
       "2019-07-22   9552.860352  112459229432  "
      ]
     },
     "execution_count": 11,
     "metadata": {},
     "output_type": "execute_result"
    }
   ],
   "source": [
    "# Imports 3 years of BTC daily data from yahoo finance\n",
    "BTC_df = get_data(\"BTC-USD\", start_date=\"6/30/2019\", end_date=\"06/30/2022\", index_as_date = True, interval=\"1wk\")\n",
    "df = BTC_df.iloc[:,0:-1]\n",
    "df.head()"
   ]
  },
  {
   "cell_type": "code",
   "execution_count": 12,
   "id": "2ea10fb3-a6d1-46ca-9674-f11ce5bc4f63",
   "metadata": {},
   "outputs": [],
   "source": [
    "# Defines function to split X and y data\n",
    "def window_data(df, window, feature_col_number, target_col_number):\n",
    "    # Creates empty X and y list\n",
    "    X = []\n",
    "    y = []\n",
    "    # loops through btc data\n",
    "    for i in range(len(df) - window - 1):\n",
    "        # splits the features by grouping window amount of previous close data\n",
    "        features = df.iloc[i:(i + window), feature_col_number]\n",
    "        # splits target by taking current close values\n",
    "        target = df.iloc[(i + window), target_col_number]\n",
    "        # Adds end of each loops data to respective X and y list\n",
    "        X.append(features)\n",
    "        y.append(target)\n",
    "    # returns X,y as arrays\n",
    "    return np.array(X), np.array(y).reshape(-1, 1)"
   ]
  },
  {
   "cell_type": "code",
   "execution_count": 13,
   "id": "3255b15a-c5a6-4dca-a771-12a7de0c90e8",
   "metadata": {},
   "outputs": [],
   "source": [
    "# Defines window size\n",
    "window_size=10"
   ]
  },
  {
   "cell_type": "code",
   "execution_count": 14,
   "id": "1231efae-0722-455e-99fa-505ece4ee0dd",
   "metadata": {},
   "outputs": [
    {
     "data": {
      "text/plain": [
       "array([[10817.15527344, 11450.84667969, 10256.05859375, ...,\n",
       "        10345.81054688, 10138.51757812,  9757.97070312],\n",
       "       [11450.84667969, 10256.05859375, 10599.10546875, ...,\n",
       "        10138.51757812,  9757.97070312, 10441.27636719],\n",
       "       [10256.05859375, 10599.10546875,  9552.86035156, ...,\n",
       "         9757.97070312, 10441.27636719, 10347.71289062],\n",
       "       ...,\n",
       "       [46453.56640625, 42207.671875  , 39716.953125  , ...,\n",
       "        30323.72265625, 29445.95703125, 29906.66210938],\n",
       "       [42207.671875  , 39716.953125  , 39469.29296875, ...,\n",
       "        29445.95703125, 29906.66210938, 26762.6484375 ],\n",
       "       [39716.953125  , 39469.29296875, 38469.09375   , ...,\n",
       "        29906.66210938, 26762.6484375 , 20553.27148438]])"
      ]
     },
     "metadata": {},
     "output_type": "display_data"
    },
    {
     "data": {
      "text/plain": [
       "array([[10441.27636719],\n",
       "       [10347.71289062],\n",
       "       [10070.39257812],\n",
       "       [ 8104.18554688],\n",
       "       [ 7988.15576172],\n",
       "       [ 8321.00585938],\n",
       "       [ 8222.078125  ],\n",
       "       [ 9551.71484375],\n",
       "       [ 9235.35449219],\n",
       "       [ 9055.52636719],\n",
       "       [ 8577.97558594],\n",
       "       [ 7047.91699219],\n",
       "       [ 7424.29248047],\n",
       "       [ 7564.34521484],\n",
       "       [ 7152.30175781],\n",
       "       [ 7511.58886719],\n",
       "       [ 7422.65283203],\n",
       "       [ 7411.31738281],\n",
       "       [ 8192.49414062],\n",
       "       [ 8706.24511719],\n",
       "       [ 8596.83007812],\n",
       "       [ 9344.36523438],\n",
       "       [10116.67382812],\n",
       "       [ 9934.43359375],\n",
       "       [ 9924.515625  ],\n",
       "       [ 8562.45410156],\n",
       "       [ 8108.11621094],\n",
       "       [ 5392.31494141],\n",
       "       [ 5830.25488281],\n",
       "       [ 5922.04296875],\n",
       "       [ 6791.12939453],\n",
       "       [ 6971.09179688],\n",
       "       [ 7189.42480469],\n",
       "       [ 7679.8671875 ],\n",
       "       [ 8897.46875   ],\n",
       "       [ 8756.43066406],\n",
       "       [ 9670.73925781],\n",
       "       [ 8790.36816406],\n",
       "       [ 9461.05859375],\n",
       "       [ 9758.85253906],\n",
       "       [ 9386.78808594],\n",
       "       [ 9303.62988281],\n",
       "       [ 9143.58203125],\n",
       "       [ 9073.94238281],\n",
       "       [ 9276.5       ],\n",
       "       [ 9185.81738281],\n",
       "       [ 9905.16699219],\n",
       "       [11053.61425781],\n",
       "       [11675.73925781],\n",
       "       [11892.80371094],\n",
       "       [11664.84765625],\n",
       "       [11711.50585938],\n",
       "       [10280.3515625 ],\n",
       "       [10323.75585938],\n",
       "       [10938.27148438],\n",
       "       [10775.26953125],\n",
       "       [10669.58300781],\n",
       "       [11384.18164062],\n",
       "       [11483.359375  ],\n",
       "       [13031.17382812],\n",
       "       [13737.109375  ],\n",
       "       [15479.56738281],\n",
       "       [15955.58789062],\n",
       "       [18370.00195312],\n",
       "       [18177.484375  ],\n",
       "       [19345.12109375],\n",
       "       [19142.3828125 ],\n",
       "       [23477.29492188],\n",
       "       [26272.29492188],\n",
       "       [32782.0234375 ],\n",
       "       [38356.44140625],\n",
       "       [35791.27734375],\n",
       "       [32289.37890625],\n",
       "       [33114.359375  ],\n",
       "       [38903.44140625],\n",
       "       [48717.2890625 ],\n",
       "       [57539.9453125 ],\n",
       "       [45137.76953125],\n",
       "       [51206.69140625],\n",
       "       [59302.31640625],\n",
       "       [57523.421875  ],\n",
       "       [55950.74609375],\n",
       "       [58758.5546875 ],\n",
       "       [60204.96484375],\n",
       "       [56216.18359375],\n",
       "       [49004.25390625],\n",
       "       [56631.078125  ],\n",
       "       [58232.31640625],\n",
       "       [46456.05859375],\n",
       "       [34770.58203125],\n",
       "       [35678.12890625],\n",
       "       [35862.37890625],\n",
       "       [39097.859375  ],\n",
       "       [35698.296875  ],\n",
       "       [34649.64453125],\n",
       "       [35287.78125   ],\n",
       "       [34240.1875    ],\n",
       "       [31796.81054688],\n",
       "       [35350.1875    ],\n",
       "       [39974.89453125],\n",
       "       [43798.1171875 ],\n",
       "       [47047.00390625],\n",
       "       [49321.65234375],\n",
       "       [48829.83203125],\n",
       "       [51753.41015625],\n",
       "       [46063.26953125],\n",
       "       [47260.21875   ],\n",
       "       [43208.5390625 ],\n",
       "       [48199.953125  ],\n",
       "       [54771.578125  ],\n",
       "       [61553.6171875 ],\n",
       "       [60930.8359375 ],\n",
       "       [61318.95703125],\n",
       "       [63326.98828125],\n",
       "       [65466.83984375],\n",
       "       [58730.4765625 ],\n",
       "       [57248.45703125],\n",
       "       [49368.84765625],\n",
       "       [50098.3359375 ],\n",
       "       [46707.015625  ],\n",
       "       [50809.515625  ],\n",
       "       [47345.21875   ],\n",
       "       [41911.6015625 ],\n",
       "       [43113.87890625],\n",
       "       [36276.8046875 ],\n",
       "       [37917.6015625 ],\n",
       "       [42412.43359375],\n",
       "       [42197.515625  ],\n",
       "       [38431.37890625],\n",
       "       [37709.78515625],\n",
       "       [38419.984375  ],\n",
       "       [37849.6640625 ],\n",
       "       [41247.82421875],\n",
       "       [46820.4921875 ],\n",
       "       [46453.56640625],\n",
       "       [42207.671875  ],\n",
       "       [39716.953125  ],\n",
       "       [39469.29296875],\n",
       "       [38469.09375   ],\n",
       "       [34059.265625  ],\n",
       "       [31305.11328125],\n",
       "       [30323.72265625],\n",
       "       [29445.95703125],\n",
       "       [29906.66210938],\n",
       "       [26762.6484375 ],\n",
       "       [20553.27148438],\n",
       "       [21027.29492188]])"
      ]
     },
     "metadata": {},
     "output_type": "display_data"
    }
   ],
   "source": [
    "# Runs function to split X and y data\n",
    "X, y=window_data(df, window_size, 3, 3)\n",
    "# Displays X and y\n",
    "display(X)\n",
    "display(y)"
   ]
  },
  {
   "cell_type": "code",
   "execution_count": 15,
   "id": "a8d65661-ad7c-493b-8233-38f0610494ef",
   "metadata": {},
   "outputs": [],
   "source": [
    "# Scales X and y data using MinMaxScaler\n",
    "X_scaler=MinMaxScaler()\n",
    "X_scaler.fit(X)\n",
    "X_scaled=X_scaler.transform(X)\n",
    "y_scaler=MinMaxScaler()\n",
    "y_scaler.fit(y)\n",
    "y_scaled=y_scaler.transform(y)"
   ]
  },
  {
   "cell_type": "code",
   "execution_count": 16,
   "id": "583bd184-18a2-405e-ae39-ddc3556f2f98",
   "metadata": {},
   "outputs": [],
   "source": [
    "# Defines where train and test data will be split (70% is train)\n",
    "split=int(0.7*len(X_scaled))\n",
    "# Splits train and test data\n",
    "X_train=X_scaled[:split]\n",
    "X_test=X_scaled[split:]\n",
    "y_train=y_scaled[:split]\n",
    "y_test=y_scaled[split:]"
   ]
  },
  {
   "cell_type": "code",
   "execution_count": 17,
   "id": "f920cd12-a39d-4f57-8c84-f439cdaf9e76",
   "metadata": {},
   "outputs": [
    {
     "data": {
      "text/plain": [
       "(102, 10, 1)"
      ]
     },
     "metadata": {},
     "output_type": "display_data"
    },
    {
     "data": {
      "text/plain": [
       "(45, 10, 1)"
      ]
     },
     "metadata": {},
     "output_type": "display_data"
    }
   ],
   "source": [
    "# Reshapes data into size LSTM can handle\n",
    "X_train=X_train.reshape(X_train.shape[0], X_train.shape[1], 1)\n",
    "X_test=X_test.reshape(X_test.shape[0], X_test.shape[1], 1)\n",
    "display(X_train.shape)\n",
    "display(X_test.shape)"
   ]
  },
  {
   "cell_type": "code",
   "execution_count": 18,
   "id": "bf39a900-284a-4351-bf9f-4cbff7a14740",
   "metadata": {},
   "outputs": [
    {
     "name": "stderr",
     "output_type": "stream",
     "text": [
      "2022-07-14 16:06:42.970027: I tensorflow/core/platform/cpu_feature_guard.cc:193] This TensorFlow binary is optimized with oneAPI Deep Neural Network Library (oneDNN) to use the following CPU instructions in performance-critical operations:  AVX2 FMA\n",
      "To enable them in other operations, rebuild TensorFlow with the appropriate compiler flags.\n"
     ]
    }
   ],
   "source": [
    "# Creates neural network\n",
    "model_btc=Sequential()\n",
    "# Defines and adds LSTM layer\n",
    "first_lstm_layer=LSTM(units=30, return_sequences=True, input_shape=(window_size, 1))\n",
    "model_btc.add(first_lstm_layer)\n",
    "# Randomly drops 20% of defined nodes\n",
    "first_dropout_layer=Dropout(0.2)\n",
    "# Defines and adds LSTM layer\n",
    "model_btc.add(first_dropout_layer)\n",
    "second_lstm_layer=LSTM(units=30, return_sequences=True)\n",
    "model_btc.add(second_lstm_layer)\n",
    "# Randomly drops 20% of defined nodes\n",
    "second_dropout_layer=Dropout(0.2)\n",
    "# Defines and adds LSTM layer\n",
    "model_btc.add(second_dropout_layer)\n",
    "third_lstm_layer=LSTM(units=30)\n",
    "model_btc.add(third_lstm_layer)\n",
    "# Defines and adds output layer with linear activation\n",
    "output_layer=Dense(units=1, activation='linear')\n",
    "model_btc.add(output_layer)"
   ]
  },
  {
   "cell_type": "code",
   "execution_count": 19,
   "id": "4ab6a927-6e4d-44c1-9e87-4ff2e4f3e3d8",
   "metadata": {},
   "outputs": [],
   "source": [
    "# Compiles model\n",
    "model_btc.compile(loss='mean_squared_error', optimizer='adam', metrics='mean_squared_error')"
   ]
  },
  {
   "cell_type": "code",
   "execution_count": 20,
   "id": "df661bb5-817b-4631-9b17-d095243fcb9d",
   "metadata": {},
   "outputs": [
    {
     "name": "stdout",
     "output_type": "stream",
     "text": [
      "Model: \"sequential\"\n",
      "_________________________________________________________________\n",
      " Layer (type)                Output Shape              Param #   \n",
      "=================================================================\n",
      " lstm (LSTM)                 (None, 10, 30)            3840      \n",
      "                                                                 \n",
      " dropout (Dropout)           (None, 10, 30)            0         \n",
      "                                                                 \n",
      " lstm_1 (LSTM)               (None, 10, 30)            7320      \n",
      "                                                                 \n",
      " dropout_1 (Dropout)         (None, 10, 30)            0         \n",
      "                                                                 \n",
      " lstm_2 (LSTM)               (None, 30)                7320      \n",
      "                                                                 \n",
      " dense (Dense)               (None, 1)                 31        \n",
      "                                                                 \n",
      "=================================================================\n",
      "Total params: 18,511\n",
      "Trainable params: 18,511\n",
      "Non-trainable params: 0\n",
      "_________________________________________________________________\n"
     ]
    }
   ],
   "source": [
    "# Provides summary of model\n",
    "model_btc.summary()"
   ]
  },
  {
   "cell_type": "code",
   "execution_count": 21,
   "id": "0675a195-6c5f-4ef3-a27d-371a4ba7ce89",
   "metadata": {},
   "outputs": [
    {
     "name": "stdout",
     "output_type": "stream",
     "text": [
      "Epoch 1/50\n",
      "4/4 [==============================] - 4s 15ms/step - loss: 0.1413 - mean_squared_error: 0.1413\n",
      "Epoch 2/50\n",
      "4/4 [==============================] - 0s 16ms/step - loss: 0.0908 - mean_squared_error: 0.0908\n",
      "Epoch 3/50\n",
      "4/4 [==============================] - 0s 12ms/step - loss: 0.0511 - mean_squared_error: 0.0511\n",
      "Epoch 4/50\n",
      "4/4 [==============================] - 0s 10ms/step - loss: 0.0335 - mean_squared_error: 0.0335\n",
      "Epoch 5/50\n",
      "4/4 [==============================] - 0s 11ms/step - loss: 0.0361 - mean_squared_error: 0.0361\n",
      "Epoch 6/50\n",
      "4/4 [==============================] - 0s 10ms/step - loss: 0.0314 - mean_squared_error: 0.0314\n",
      "Epoch 7/50\n",
      "4/4 [==============================] - 0s 9ms/step - loss: 0.0214 - mean_squared_error: 0.0214\n",
      "Epoch 8/50\n",
      "4/4 [==============================] - 0s 11ms/step - loss: 0.0225 - mean_squared_error: 0.0225\n",
      "Epoch 9/50\n",
      "4/4 [==============================] - 0s 9ms/step - loss: 0.0221 - mean_squared_error: 0.0221\n",
      "Epoch 10/50\n",
      "4/4 [==============================] - 0s 10ms/step - loss: 0.0186 - mean_squared_error: 0.0186\n",
      "Epoch 11/50\n",
      "4/4 [==============================] - 0s 9ms/step - loss: 0.0184 - mean_squared_error: 0.0184\n",
      "Epoch 12/50\n",
      "4/4 [==============================] - 0s 10ms/step - loss: 0.0212 - mean_squared_error: 0.0212\n",
      "Epoch 13/50\n",
      "4/4 [==============================] - 0s 9ms/step - loss: 0.0175 - mean_squared_error: 0.0175\n",
      "Epoch 14/50\n",
      "4/4 [==============================] - 0s 11ms/step - loss: 0.0198 - mean_squared_error: 0.0198\n",
      "Epoch 15/50\n",
      "4/4 [==============================] - 0s 8ms/step - loss: 0.0216 - mean_squared_error: 0.0216\n",
      "Epoch 16/50\n",
      "4/4 [==============================] - 0s 9ms/step - loss: 0.0182 - mean_squared_error: 0.0182\n",
      "Epoch 17/50\n",
      "4/4 [==============================] - 0s 10ms/step - loss: 0.0184 - mean_squared_error: 0.0184\n",
      "Epoch 18/50\n",
      "4/4 [==============================] - 0s 9ms/step - loss: 0.0173 - mean_squared_error: 0.0173\n",
      "Epoch 19/50\n",
      "4/4 [==============================] - 0s 10ms/step - loss: 0.0179 - mean_squared_error: 0.0179\n",
      "Epoch 20/50\n",
      "4/4 [==============================] - 0s 10ms/step - loss: 0.0165 - mean_squared_error: 0.0165\n",
      "Epoch 21/50\n",
      "4/4 [==============================] - 0s 10ms/step - loss: 0.0176 - mean_squared_error: 0.0176\n",
      "Epoch 22/50\n",
      "4/4 [==============================] - 0s 9ms/step - loss: 0.0155 - mean_squared_error: 0.0155\n",
      "Epoch 23/50\n",
      "4/4 [==============================] - 0s 10ms/step - loss: 0.0150 - mean_squared_error: 0.0150\n",
      "Epoch 24/50\n",
      "4/4 [==============================] - 0s 8ms/step - loss: 0.0173 - mean_squared_error: 0.0173\n",
      "Epoch 25/50\n",
      "4/4 [==============================] - 0s 8ms/step - loss: 0.0150 - mean_squared_error: 0.0150\n",
      "Epoch 26/50\n",
      "4/4 [==============================] - 0s 8ms/step - loss: 0.0134 - mean_squared_error: 0.0134\n",
      "Epoch 27/50\n",
      "4/4 [==============================] - 0s 9ms/step - loss: 0.0124 - mean_squared_error: 0.0124\n",
      "Epoch 28/50\n",
      "4/4 [==============================] - 0s 9ms/step - loss: 0.0140 - mean_squared_error: 0.0140\n",
      "Epoch 29/50\n",
      "4/4 [==============================] - 0s 9ms/step - loss: 0.0135 - mean_squared_error: 0.0135\n",
      "Epoch 30/50\n",
      "4/4 [==============================] - 0s 9ms/step - loss: 0.0151 - mean_squared_error: 0.0151\n",
      "Epoch 31/50\n",
      "4/4 [==============================] - 0s 9ms/step - loss: 0.0140 - mean_squared_error: 0.0140\n",
      "Epoch 32/50\n",
      "4/4 [==============================] - 0s 8ms/step - loss: 0.0126 - mean_squared_error: 0.0126\n",
      "Epoch 33/50\n",
      "4/4 [==============================] - 0s 9ms/step - loss: 0.0128 - mean_squared_error: 0.0128\n",
      "Epoch 34/50\n",
      "4/4 [==============================] - 0s 9ms/step - loss: 0.0116 - mean_squared_error: 0.0116\n",
      "Epoch 35/50\n",
      "4/4 [==============================] - 0s 9ms/step - loss: 0.0102 - mean_squared_error: 0.0102\n",
      "Epoch 36/50\n",
      "4/4 [==============================] - 0s 10ms/step - loss: 0.0115 - mean_squared_error: 0.0115\n",
      "Epoch 37/50\n",
      "4/4 [==============================] - 0s 9ms/step - loss: 0.0103 - mean_squared_error: 0.0103\n",
      "Epoch 38/50\n",
      "4/4 [==============================] - 0s 9ms/step - loss: 0.0098 - mean_squared_error: 0.0098\n",
      "Epoch 39/50\n",
      "4/4 [==============================] - 0s 8ms/step - loss: 0.0096 - mean_squared_error: 0.0096\n",
      "Epoch 40/50\n",
      "4/4 [==============================] - 0s 9ms/step - loss: 0.0094 - mean_squared_error: 0.0094\n",
      "Epoch 41/50\n",
      "4/4 [==============================] - 0s 9ms/step - loss: 0.0099 - mean_squared_error: 0.0099\n",
      "Epoch 42/50\n",
      "4/4 [==============================] - 0s 8ms/step - loss: 0.0079 - mean_squared_error: 0.0079\n",
      "Epoch 43/50\n",
      "4/4 [==============================] - 0s 8ms/step - loss: 0.0097 - mean_squared_error: 0.0097\n",
      "Epoch 44/50\n",
      "4/4 [==============================] - 0s 9ms/step - loss: 0.0080 - mean_squared_error: 0.0080\n",
      "Epoch 45/50\n",
      "4/4 [==============================] - 0s 9ms/step - loss: 0.0078 - mean_squared_error: 0.0078\n",
      "Epoch 46/50\n",
      "4/4 [==============================] - 0s 9ms/step - loss: 0.0070 - mean_squared_error: 0.0070\n",
      "Epoch 47/50\n",
      "4/4 [==============================] - 0s 9ms/step - loss: 0.0080 - mean_squared_error: 0.0080\n",
      "Epoch 48/50\n",
      "4/4 [==============================] - 0s 9ms/step - loss: 0.0074 - mean_squared_error: 0.0074\n",
      "Epoch 49/50\n",
      "4/4 [==============================] - 0s 25ms/step - loss: 0.0078 - mean_squared_error: 0.0078\n",
      "Epoch 50/50\n",
      "4/4 [==============================] - 0s 17ms/step - loss: 0.0074 - mean_squared_error: 0.0074\n"
     ]
    },
    {
     "data": {
      "text/plain": [
       "<keras.callbacks.History at 0x7f9fb29a9ad0>"
      ]
     },
     "execution_count": 21,
     "metadata": {},
     "output_type": "execute_result"
    }
   ],
   "source": [
    "model_btc.fit(X_train, y_train, epochs=50)"
   ]
  },
  {
   "cell_type": "code",
   "execution_count": 22,
   "id": "849ea271-fd78-46b1-826a-5fde16d24ddf",
   "metadata": {},
   "outputs": [
    {
     "name": "stdout",
     "output_type": "stream",
     "text": [
      "2/2 [==============================] - 1s 4ms/step\n"
     ]
    },
    {
     "data": {
      "text/plain": [
       "[<matplotlib.lines.Line2D at 0x7f9fb4dbbe50>,\n",
       " <matplotlib.lines.Line2D at 0x7f9fb4dae2d0>]"
      ]
     },
     "execution_count": 22,
     "metadata": {},
     "output_type": "execute_result"
    },
    {
     "data": {
      "image/png": "[encoded data removed]",
      "text/plain": [
       "<Figure size 432x288 with 1 Axes>"
      ]
     },
     "metadata": {
      "needs_background": "light"
     },
     "output_type": "display_data"
    }
   ],
   "source": [
    "predictions = model_btc.predict(X_test)\n",
    "results = pd.DataFrame({'predictions':predictions.ravel(),'actual':y_test.ravel()})\n",
    "plt.plot(results)"
   ]
  },
  {
   "cell_type": "code",
   "execution_count": null,
   "id": "b4197b3e-432e-4318-9ca2-f6ced97234cb",
   "metadata": {},
   "outputs": [],
   "source": []
  }
 ],
 "metadata": {
  "kernelspec": {
   "display_name": "Python (dev)",
   "language": "python",
   "name": "dev"
  },
  "language_info": {
   "codemirror_mode": {
    "name": "ipython",
    "version": 3
   },
   "file_extension": ".py",
   "mimetype": "text/x-python",
   "name": "python",
   "nbconvert_exporter": "python",
   "pygments_lexer": "ipython3",
   "version": "3.7.11"
  }
 },
 "nbformat": 4,
 "nbformat_minor": 5
}
