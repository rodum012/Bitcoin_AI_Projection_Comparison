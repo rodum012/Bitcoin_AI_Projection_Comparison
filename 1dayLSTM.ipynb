{
 "cells": [
  {
   "cell_type": "code",
   "execution_count": 1,
   "id": "5e1d3863-0dc5-46e1-920f-072052ddc082",
   "metadata": {},
   "outputs": [],
   "source": [
    "import tensorflow as tf\n",
    "import yfinance as yf\n",
    "from yahoo_fin.stock_info import get_data\n",
    "import pandas as pd\n",
    "import numpy as np\n",
    "from sklearn.preprocessing import MinMaxScaler\n",
    "from tensorflow.keras.models import Sequential\n",
    "from tensorflow.keras.layers import LSTM, Dense, Dropout\n",
    "import matplotlib.pyplot as plt"
   ]
  },
  {
   "cell_type": "markdown",
   "id": "10e5371e-248b-471f-bea4-de5092d0e1cd",
   "metadata": {},
   "source": []
  },
  {
   "cell_type": "code",
   "execution_count": 57,
   "id": "bb76c78e-7b4e-4485-b9f3-d6a8048dd4ea",
   "metadata": {},
   "outputs": [
    {
     "data": {
      "text/html": [
       "<div>\n",
       "<style scoped>\n",
       "    .dataframe tbody tr th:only-of-type {\n",
       "        vertical-align: middle;\n",
       "    }\n",
       "\n",
       "    .dataframe tbody tr th {\n",
       "        vertical-align: top;\n",
       "    }\n",
       "\n",
       "    .dataframe thead th {\n",
       "        text-align: right;\n",
       "    }\n",
       "</style>\n",
       "<table border=\"1\" class=\"dataframe\">\n",
       "  <thead>\n",
       "    <tr style=\"text-align: right;\">\n",
       "      <th></th>\n",
       "      <th>open</th>\n",
       "      <th>high</th>\n",
       "      <th>low</th>\n",
       "      <th>close</th>\n",
       "      <th>adjclose</th>\n",
       "      <th>volume</th>\n",
       "    </tr>\n",
       "  </thead>\n",
       "  <tbody>\n",
       "    <tr>\n",
       "      <th>2019-06-30</th>\n",
       "      <td>11931.991211</td>\n",
       "      <td>12178.383789</td>\n",
       "      <td>10799.008789</td>\n",
       "      <td>10817.155273</td>\n",
       "      <td>10817.155273</td>\n",
       "      <td>27256473494</td>\n",
       "    </tr>\n",
       "    <tr>\n",
       "      <th>2019-07-01</th>\n",
       "      <td>10796.930664</td>\n",
       "      <td>11206.439453</td>\n",
       "      <td>10089.314453</td>\n",
       "      <td>10583.134766</td>\n",
       "      <td>10583.134766</td>\n",
       "      <td>29378589324</td>\n",
       "    </tr>\n",
       "    <tr>\n",
       "      <th>2019-07-02</th>\n",
       "      <td>10588.683594</td>\n",
       "      <td>10912.188477</td>\n",
       "      <td>9737.884766</td>\n",
       "      <td>10801.677734</td>\n",
       "      <td>10801.677734</td>\n",
       "      <td>31015895223</td>\n",
       "    </tr>\n",
       "    <tr>\n",
       "      <th>2019-07-03</th>\n",
       "      <td>10818.156250</td>\n",
       "      <td>11968.078125</td>\n",
       "      <td>10818.156250</td>\n",
       "      <td>11961.269531</td>\n",
       "      <td>11961.269531</td>\n",
       "      <td>30796494294</td>\n",
       "    </tr>\n",
       "    <tr>\n",
       "      <th>2019-07-04</th>\n",
       "      <td>11972.718750</td>\n",
       "      <td>12006.075195</td>\n",
       "      <td>11166.569336</td>\n",
       "      <td>11215.437500</td>\n",
       "      <td>11215.437500</td>\n",
       "      <td>25920294033</td>\n",
       "    </tr>\n",
       "  </tbody>\n",
       "</table>\n",
       "</div>"
      ],
      "text/plain": [
       "                    open          high           low         close  \\\n",
       "2019-06-30  11931.991211  12178.383789  10799.008789  10817.155273   \n",
       "2019-07-01  10796.930664  11206.439453  10089.314453  10583.134766   \n",
       "2019-07-02  10588.683594  10912.188477   9737.884766  10801.677734   \n",
       "2019-07-03  10818.156250  11968.078125  10818.156250  11961.269531   \n",
       "2019-07-04  11972.718750  12006.075195  11166.569336  11215.437500   \n",
       "\n",
       "                adjclose       volume  \n",
       "2019-06-30  10817.155273  27256473494  \n",
       "2019-07-01  10583.134766  29378589324  \n",
       "2019-07-02  10801.677734  31015895223  \n",
       "2019-07-03  11961.269531  30796494294  \n",
       "2019-07-04  11215.437500  25920294033  "
      ]
     },
     "execution_count": 57,
     "metadata": {},
     "output_type": "execute_result"
    }
   ],
   "source": [
    "# Imports 3 years of BTC daily data from yahoo finance\n",
    "BTC_df = get_data(\"BTC-USD\", start_date=\"6/30/2019\", end_date=\"06/30/2022\", index_as_date = True, interval=\"1d\")\n",
    "df = BTC_df.iloc[:,0:-1]\n",
    "df.head()"
   ]
  },
  {
   "cell_type": "code",
   "execution_count": 51,
   "id": "22debb50-6719-417b-9ce2-b7c3a0aef0df",
   "metadata": {},
   "outputs": [],
   "source": [
    "# Defines function to split X and y data\n",
    "def window_data(df, window, feature_col_number, target_col_number):\n",
    "    # Creates empty X and y list\n",
    "    X = []\n",
    "    y = []\n",
    "    # loops through btc data\n",
    "    for i in range(len(df) - window - 1):\n",
    "        # splits the features by grouping window amount of previous close data\n",
    "        features = df.iloc[i:(i + window), feature_col_number]\n",
    "        # splits target by taking current close values\n",
    "        target = df.iloc[(i + window), target_col_number]\n",
    "        # Adds end of each loops data to respective X and y list\n",
    "        X.append(features)\n",
    "        y.append(target)\n",
    "    # returns X,y as arrays\n",
    "    return np.array(X), np.array(y).reshape(-1, 1)"
   ]
  },
  {
   "cell_type": "code",
   "execution_count": 52,
   "id": "238e57d2-e2ff-4e6a-b921-8f7cc551822f",
   "metadata": {},
   "outputs": [],
   "source": [
    "# Defines window size\n",
    "window_size=10"
   ]
  },
  {
   "cell_type": "code",
   "execution_count": 6,
   "id": "4ec020b9-f925-49a5-b9df-e2e786130781",
   "metadata": {},
   "outputs": [
    {
     "data": {
      "text/plain": [
       "array([[10817.15527344, 10583.13476562, 10801.67773438, ...,\n",
       "        11450.84667969, 12285.95800781, 12573.8125    ],\n",
       "       [10583.13476562, 10801.67773438, 11961.26953125, ...,\n",
       "        12285.95800781, 12573.8125    , 12156.51269531],\n",
       "       [10801.67773438, 11961.26953125, 11215.4375    , ...,\n",
       "        12573.8125    , 12156.51269531, 11358.66210938],\n",
       "       ...,\n",
       "       [20471.48242188, 19017.64257812, 20553.27148438, ...,\n",
       "        21231.65625   , 21502.33789062, 21027.29492188],\n",
       "       [19017.64257812, 20553.27148438, 20599.53710938, ...,\n",
       "        21502.33789062, 21027.29492188, 20735.47851562],\n",
       "       [20553.27148438, 20599.53710938, 20710.59765625, ...,\n",
       "        21027.29492188, 20735.47851562, 20280.63476562]])"
      ]
     },
     "metadata": {},
     "output_type": "display_data"
    },
    {
     "data": {
      "text/plain": [
       "array([[12156.51269531],\n",
       "       [11358.66210938],\n",
       "       [11815.98632812],\n",
       "       ...,\n",
       "       [20735.47851562],\n",
       "       [20280.63476562],\n",
       "       [20104.0234375 ]])"
      ]
     },
     "metadata": {},
     "output_type": "display_data"
    }
   ],
   "source": [
    "# Runs function to split X and y data\n",
    "X, y=window_data(df, window_size, 3, 3)\n",
    "# Displays X and y\n",
    "display(X)\n",
    "display(y)"
   ]
  },
  {
   "cell_type": "code",
   "execution_count": 7,
   "id": "12e7ceb5-ddb5-4b79-98fe-261f84a616ba",
   "metadata": {},
   "outputs": [],
   "source": [
    "# Scales X and y data using MinMaxScaler\n",
    "X_scaler=MinMaxScaler()\n",
    "X_scaler.fit(X)\n",
    "X_scaled=X_scaler.transform(X)\n",
    "y_scaler=MinMaxScaler()\n",
    "y_scaler.fit(y)\n",
    "y_scaled=y_scaler.transform(y)"
   ]
  },
  {
   "cell_type": "code",
   "execution_count": 9,
   "id": "e0911ad5-9482-414e-96f6-9f9757f62ea7",
   "metadata": {},
   "outputs": [],
   "source": [
    "# Defines where train and test data will be split (70% is train)\n",
    "split=int(0.7*len(X_scaled))\n",
    "# Splits train and test data\n",
    "X_train=X_scaled[:split]\n",
    "X_test=X_scaled[split:]\n",
    "y_train=y_scaled[:split]\n",
    "y_test=y_scaled[split:]"
   ]
  },
  {
   "cell_type": "code",
   "execution_count": 10,
   "id": "6e36106f-8175-4cae-80c4-12f61430f37d",
   "metadata": {},
   "outputs": [
    {
     "data": {
      "text/plain": [
       "(760, 10, 1)"
      ]
     },
     "metadata": {},
     "output_type": "display_data"
    },
    {
     "data": {
      "text/plain": [
       "(326, 10, 1)"
      ]
     },
     "metadata": {},
     "output_type": "display_data"
    }
   ],
   "source": [
    "# Reshapes data into size LSTM can handle\n",
    "X_train=X_train.reshape(X_train.shape[0], X_train.shape[1], 1)\n",
    "X_test=X_test.reshape(X_test.shape[0], X_test.shape[1], 1)\n",
    "display(X_train.shape)\n",
    "display(X_test.shape)"
   ]
  },
  {
   "cell_type": "code",
   "execution_count": 11,
   "id": "0fa1c82d-3543-46df-aec4-ccf3a7418526",
   "metadata": {},
   "outputs": [
    {
     "name": "stderr",
     "output_type": "stream",
     "text": [
      "2022-07-14 13:40:59.382149: I tensorflow/core/platform/cpu_feature_guard.cc:193] This TensorFlow binary is optimized with oneAPI Deep Neural Network Library (oneDNN) to use the following CPU instructions in performance-critical operations:  AVX2 FMA\n",
      "To enable them in other operations, rebuild TensorFlow with the appropriate compiler flags.\n"
     ]
    }
   ],
   "source": [
    "# Creates neural network\n",
    "model_btc=Sequential()\n",
    "# Defines and adds LSTM layer\n",
    "first_lstm_layer=LSTM(units=30, return_sequences=True, input_shape=(window_size, 1))\n",
    "model_btc.add(first_lstm_layer)\n",
    "# Randomly drops 20% of defined nodes\n",
    "first_dropout_layer=Dropout(0.2)\n",
    "# Defines and adds LSTM layer\n",
    "model_btc.add(first_dropout_layer)\n",
    "second_lstm_layer=LSTM(units=30, return_sequences=True)\n",
    "model_btc.add(second_lstm_layer)\n",
    "# Randomly drops 20% of defined nodes\n",
    "second_dropout_layer=Dropout(0.2)\n",
    "# Defines and adds LSTM layer\n",
    "model_btc.add(second_dropout_layer)\n",
    "third_lstm_layer=LSTM(units=30)\n",
    "model_btc.add(third_lstm_layer)\n",
    "# Defines and adds output layer with linear activation\n",
    "output_layer=Dense(units=1, activation='linear')\n",
    "model_btc.add(output_layer)"
   ]
  },
  {
   "cell_type": "code",
   "execution_count": 16,
   "id": "cffaf750-b82e-4568-aa37-995220624d20",
   "metadata": {},
   "outputs": [],
   "source": [
    "# Compiles model\n",
    "model_btc.compile(loss='mean_squared_error', optimizer='adam', metrics='mean_squared_error')"
   ]
  },
  {
   "cell_type": "code",
   "execution_count": 17,
   "id": "ab8f77cf-e961-42f6-a2d9-201a5eba4344",
   "metadata": {},
   "outputs": [
    {
     "name": "stdout",
     "output_type": "stream",
     "text": [
      "Model: \"sequential\"\n",
      "_________________________________________________________________\n",
      " Layer (type)                Output Shape              Param #   \n",
      "=================================================================\n",
      " lstm (LSTM)                 (None, 10, 30)            3840      \n",
      "                                                                 \n",
      " dropout (Dropout)           (None, 10, 30)            0         \n",
      "                                                                 \n",
      " lstm_1 (LSTM)               (None, 10, 30)            7320      \n",
      "                                                                 \n",
      " dropout_1 (Dropout)         (None, 10, 30)            0         \n",
      "                                                                 \n",
      " lstm_2 (LSTM)               (None, 30)                7320      \n",
      "                                                                 \n",
      " dense (Dense)               (None, 1)                 31        \n",
      "                                                                 \n",
      "=================================================================\n",
      "Total params: 18,511\n",
      "Trainable params: 18,511\n",
      "Non-trainable params: 0\n",
      "_________________________________________________________________\n"
     ]
    }
   ],
   "source": [
    "# Provides summary of model\n",
    "model_btc.summary()"
   ]
  },
  {
   "cell_type": "code",
   "execution_count": 14,
   "id": "f7a3ba65-78ea-4986-8883-fb2a9eb35f90",
   "metadata": {},
   "outputs": [
    {
     "name": "stdout",
     "output_type": "stream",
     "text": [
      "Epoch 1/50\n",
      "24/24 [==============================] - 4s 11ms/step - loss: 0.0619 - mean_squared_error: 0.0619\n",
      "Epoch 2/50\n",
      "24/24 [==============================] - 0s 10ms/step - loss: 0.0078 - mean_squared_error: 0.0078\n",
      "Epoch 3/50\n",
      "24/24 [==============================] - 0s 10ms/step - loss: 0.0035 - mean_squared_error: 0.0035\n",
      "Epoch 4/50\n",
      "24/24 [==============================] - 0s 10ms/step - loss: 0.0027 - mean_squared_error: 0.0027\n",
      "Epoch 5/50\n",
      "24/24 [==============================] - 0s 10ms/step - loss: 0.0026 - mean_squared_error: 0.0026\n",
      "Epoch 6/50\n",
      "24/24 [==============================] - 0s 10ms/step - loss: 0.0026 - mean_squared_error: 0.0026\n",
      "Epoch 7/50\n",
      "24/24 [==============================] - 0s 10ms/step - loss: 0.0023 - mean_squared_error: 0.0023\n",
      "Epoch 8/50\n",
      "24/24 [==============================] - 0s 10ms/step - loss: 0.0024 - mean_squared_error: 0.0024\n",
      "Epoch 9/50\n",
      "24/24 [==============================] - 0s 10ms/step - loss: 0.0023 - mean_squared_error: 0.0023\n",
      "Epoch 10/50\n",
      "24/24 [==============================] - 0s 10ms/step - loss: 0.0021 - mean_squared_error: 0.0021\n",
      "Epoch 11/50\n",
      "24/24 [==============================] - 0s 11ms/step - loss: 0.0022 - mean_squared_error: 0.0022\n",
      "Epoch 12/50\n",
      "24/24 [==============================] - 0s 11ms/step - loss: 0.0023 - mean_squared_error: 0.0023\n",
      "Epoch 13/50\n",
      "24/24 [==============================] - 0s 11ms/step - loss: 0.0026 - mean_squared_error: 0.0026\n",
      "Epoch 14/50\n",
      "24/24 [==============================] - 0s 11ms/step - loss: 0.0024 - mean_squared_error: 0.0024\n",
      "Epoch 15/50\n",
      "24/24 [==============================] - 0s 11ms/step - loss: 0.0023 - mean_squared_error: 0.0023\n",
      "Epoch 16/50\n",
      "24/24 [==============================] - 0s 11ms/step - loss: 0.0020 - mean_squared_error: 0.0020\n",
      "Epoch 17/50\n",
      "24/24 [==============================] - 0s 11ms/step - loss: 0.0020 - mean_squared_error: 0.0020\n",
      "Epoch 18/50\n",
      "24/24 [==============================] - 0s 11ms/step - loss: 0.0022 - mean_squared_error: 0.0022\n",
      "Epoch 19/50\n",
      "24/24 [==============================] - 0s 9ms/step - loss: 0.0019 - mean_squared_error: 0.0019\n",
      "Epoch 20/50\n",
      "24/24 [==============================] - 0s 10ms/step - loss: 0.0021 - mean_squared_error: 0.0021\n",
      "Epoch 21/50\n",
      "24/24 [==============================] - 0s 11ms/step - loss: 0.0022 - mean_squared_error: 0.0022\n",
      "Epoch 22/50\n",
      "24/24 [==============================] - 0s 10ms/step - loss: 0.0022 - mean_squared_error: 0.0022\n",
      "Epoch 23/50\n",
      "24/24 [==============================] - 0s 9ms/step - loss: 0.0021 - mean_squared_error: 0.0021\n",
      "Epoch 24/50\n",
      "24/24 [==============================] - 0s 9ms/step - loss: 0.0019 - mean_squared_error: 0.0019\n",
      "Epoch 25/50\n",
      "24/24 [==============================] - 0s 9ms/step - loss: 0.0019 - mean_squared_error: 0.0019\n",
      "Epoch 26/50\n",
      "24/24 [==============================] - 0s 10ms/step - loss: 0.0018 - mean_squared_error: 0.0018\n",
      "Epoch 27/50\n",
      "24/24 [==============================] - 0s 9ms/step - loss: 0.0020 - mean_squared_error: 0.0020\n",
      "Epoch 28/50\n",
      "24/24 [==============================] - 0s 10ms/step - loss: 0.0020 - mean_squared_error: 0.0020\n",
      "Epoch 29/50\n",
      "24/24 [==============================] - 0s 9ms/step - loss: 0.0018 - mean_squared_error: 0.0018\n",
      "Epoch 30/50\n",
      "24/24 [==============================] - 0s 11ms/step - loss: 0.0017 - mean_squared_error: 0.0017\n",
      "Epoch 31/50\n",
      "24/24 [==============================] - 0s 11ms/step - loss: 0.0024 - mean_squared_error: 0.0024\n",
      "Epoch 32/50\n",
      "24/24 [==============================] - 0s 11ms/step - loss: 0.0018 - mean_squared_error: 0.0018\n",
      "Epoch 33/50\n",
      "24/24 [==============================] - 0s 11ms/step - loss: 0.0018 - mean_squared_error: 0.0018\n",
      "Epoch 34/50\n",
      "24/24 [==============================] - 0s 11ms/step - loss: 0.0019 - mean_squared_error: 0.0019\n",
      "Epoch 35/50\n",
      "24/24 [==============================] - 0s 11ms/step - loss: 0.0017 - mean_squared_error: 0.0017\n",
      "Epoch 36/50\n",
      "24/24 [==============================] - 0s 11ms/step - loss: 0.0017 - mean_squared_error: 0.0017\n",
      "Epoch 37/50\n",
      "24/24 [==============================] - 0s 10ms/step - loss: 0.0016 - mean_squared_error: 0.0016\n",
      "Epoch 38/50\n",
      "24/24 [==============================] - 0s 10ms/step - loss: 0.0016 - mean_squared_error: 0.0016\n",
      "Epoch 39/50\n",
      "24/24 [==============================] - 0s 11ms/step - loss: 0.0018 - mean_squared_error: 0.0018\n",
      "Epoch 40/50\n",
      "24/24 [==============================] - 0s 11ms/step - loss: 0.0015 - mean_squared_error: 0.0015\n",
      "Epoch 41/50\n",
      "24/24 [==============================] - 0s 11ms/step - loss: 0.0016 - mean_squared_error: 0.0016\n",
      "Epoch 42/50\n",
      "24/24 [==============================] - 0s 10ms/step - loss: 0.0015 - mean_squared_error: 0.0015\n",
      "Epoch 43/50\n",
      "24/24 [==============================] - 0s 10ms/step - loss: 0.0018 - mean_squared_error: 0.0018\n",
      "Epoch 44/50\n",
      "24/24 [==============================] - 0s 11ms/step - loss: 0.0016 - mean_squared_error: 0.0016\n",
      "Epoch 45/50\n",
      "24/24 [==============================] - 0s 11ms/step - loss: 0.0022 - mean_squared_error: 0.0022\n",
      "Epoch 46/50\n",
      "24/24 [==============================] - 0s 11ms/step - loss: 0.0015 - mean_squared_error: 0.0015\n",
      "Epoch 47/50\n",
      "24/24 [==============================] - 0s 10ms/step - loss: 0.0016 - mean_squared_error: 0.0016\n",
      "Epoch 48/50\n",
      "24/24 [==============================] - 0s 11ms/step - loss: 0.0015 - mean_squared_error: 0.0015\n",
      "Epoch 49/50\n",
      "24/24 [==============================] - 0s 11ms/step - loss: 0.0013 - mean_squared_error: 0.0013\n",
      "Epoch 50/50\n",
      "24/24 [==============================] - 0s 11ms/step - loss: 0.0013 - mean_squared_error: 0.0013\n"
     ]
    },
    {
     "data": {
      "text/plain": [
       "<keras.callbacks.History at 0x7fe0258eca90>"
      ]
     },
     "execution_count": 14,
     "metadata": {},
     "output_type": "execute_result"
    }
   ],
   "source": [
    "model_btc.fit(X_train, y_train, epochs=50)"
   ]
  },
  {
   "cell_type": "code",
   "execution_count": 38,
   "id": "656f4208-133a-4281-8d59-0b487c84b4d5",
   "metadata": {},
   "outputs": [
    {
     "name": "stdout",
     "output_type": "stream",
     "text": [
      "11/11 [==============================] - 0s 4ms/step\n"
     ]
    },
    {
     "data": {
      "text/plain": [
       "[<matplotlib.lines.Line2D at 0x7fe029fea190>,\n",
       " <matplotlib.lines.Line2D at 0x7fe029c26f10>]"
      ]
     },
     "execution_count": 38,
     "metadata": {},
     "output_type": "execute_result"
    },
    {
     "data": {
      "image/png": "[encoded data removed]",
      "text/plain": [
       "<Figure size 432x288 with 1 Axes>"
      ]
     },
     "metadata": {
      "needs_background": "light"
     },
     "output_type": "display_data"
    }
   ],
   "source": [
    "predictions = model_btc.predict(X_test)\n",
    "results = pd.DataFrame({'predictions':predictions.ravel(),'actual':y_test.ravel()})\n",
    "plt.plot(results)"
   ]
  }
 ],
 "metadata": {
  "kernelspec": {
   "display_name": "Python (dev)",
   "language": "python",
   "name": "dev"
  },
  "language_info": {
   "codemirror_mode": {
    "name": "ipython",
    "version": 3
   },
   "file_extension": ".py",
   "mimetype": "text/x-python",
   "name": "python",
   "nbconvert_exporter": "python",
   "pygments_lexer": "ipython3",
   "version": "3.7.11"
  }
 },
 "nbformat": 4,
 "nbformat_minor": 5
}
