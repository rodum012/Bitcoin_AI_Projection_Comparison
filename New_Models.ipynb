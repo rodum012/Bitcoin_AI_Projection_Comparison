{
 "cells": [
  {
   "cell_type": "code",
   "execution_count": 4,
   "id": "f9c9c0be-3375-48f8-98db-ef4a97661c80",
   "metadata": {
    "id": "f9c9c0be-3375-48f8-98db-ef4a97661c80"
   },
   "outputs": [],
   "source": [
    "import tensorflow as tf\n",
    "import yfinance as yf\n",
    "from yahoo_fin.stock_info import get_data"
   ]
  },
  {
   "cell_type": "code",
   "execution_count": 2,
   "id": "83b4007f-f095-41c9-93fd-2246ddb410ee",
   "metadata": {
    "id": "83b4007f-f095-41c9-93fd-2246ddb410ee"
   },
   "outputs": [],
   "source": [
    "import pandas as pd\n",
    "import numpy as np"
   ]
  },
  {
   "cell_type": "code",
   "execution_count": 6,
   "id": "c2a529d6-0efe-4160-87ee-db25a527e43b",
   "metadata": {
    "id": "c2a529d6-0efe-4160-87ee-db25a527e43b"
   },
   "outputs": [
    {
     "data": {
      "text/html": [
       "<div>\n",
       "<style scoped>\n",
       "    .dataframe tbody tr th:only-of-type {\n",
       "        vertical-align: middle;\n",
       "    }\n",
       "\n",
       "    .dataframe tbody tr th {\n",
       "        vertical-align: top;\n",
       "    }\n",
       "\n",
       "    .dataframe thead th {\n",
       "        text-align: right;\n",
       "    }\n",
       "</style>\n",
       "<table border=\"1\" class=\"dataframe\">\n",
       "  <thead>\n",
       "    <tr style=\"text-align: right;\">\n",
       "      <th></th>\n",
       "      <th>open</th>\n",
       "      <th>high</th>\n",
       "      <th>low</th>\n",
       "      <th>close</th>\n",
       "      <th>adjclose</th>\n",
       "      <th>volume</th>\n",
       "    </tr>\n",
       "  </thead>\n",
       "  <tbody>\n",
       "    <tr>\n",
       "      <th>2019-06-30</th>\n",
       "      <td>11931.991211</td>\n",
       "      <td>12178.383789</td>\n",
       "      <td>10799.008789</td>\n",
       "      <td>10817.155273</td>\n",
       "      <td>10817.155273</td>\n",
       "      <td>27256473494</td>\n",
       "    </tr>\n",
       "    <tr>\n",
       "      <th>2019-07-01</th>\n",
       "      <td>10796.930664</td>\n",
       "      <td>11206.439453</td>\n",
       "      <td>10089.314453</td>\n",
       "      <td>10583.134766</td>\n",
       "      <td>10583.134766</td>\n",
       "      <td>29378589324</td>\n",
       "    </tr>\n",
       "    <tr>\n",
       "      <th>2019-07-02</th>\n",
       "      <td>10588.683594</td>\n",
       "      <td>10912.188477</td>\n",
       "      <td>9737.884766</td>\n",
       "      <td>10801.677734</td>\n",
       "      <td>10801.677734</td>\n",
       "      <td>31015895223</td>\n",
       "    </tr>\n",
       "    <tr>\n",
       "      <th>2019-07-03</th>\n",
       "      <td>10818.156250</td>\n",
       "      <td>11968.078125</td>\n",
       "      <td>10818.156250</td>\n",
       "      <td>11961.269531</td>\n",
       "      <td>11961.269531</td>\n",
       "      <td>30796494294</td>\n",
       "    </tr>\n",
       "    <tr>\n",
       "      <th>2019-07-04</th>\n",
       "      <td>11972.718750</td>\n",
       "      <td>12006.075195</td>\n",
       "      <td>11166.569336</td>\n",
       "      <td>11215.437500</td>\n",
       "      <td>11215.437500</td>\n",
       "      <td>25920294033</td>\n",
       "    </tr>\n",
       "    <tr>\n",
       "      <th>...</th>\n",
       "      <td>...</td>\n",
       "      <td>...</td>\n",
       "      <td>...</td>\n",
       "      <td>...</td>\n",
       "      <td>...</td>\n",
       "      <td>...</td>\n",
       "    </tr>\n",
       "    <tr>\n",
       "      <th>2022-06-26</th>\n",
       "      <td>21496.494141</td>\n",
       "      <td>21783.724609</td>\n",
       "      <td>21016.269531</td>\n",
       "      <td>21027.294922</td>\n",
       "      <td>21027.294922</td>\n",
       "      <td>18027170497</td>\n",
       "    </tr>\n",
       "    <tr>\n",
       "      <th>2022-06-27</th>\n",
       "      <td>21028.238281</td>\n",
       "      <td>21478.089844</td>\n",
       "      <td>20620.199219</td>\n",
       "      <td>20735.478516</td>\n",
       "      <td>20735.478516</td>\n",
       "      <td>20965695707</td>\n",
       "    </tr>\n",
       "    <tr>\n",
       "      <th>2022-06-28</th>\n",
       "      <td>20731.544922</td>\n",
       "      <td>21164.423828</td>\n",
       "      <td>20228.812500</td>\n",
       "      <td>20280.634766</td>\n",
       "      <td>20280.634766</td>\n",
       "      <td>21381535161</td>\n",
       "    </tr>\n",
       "    <tr>\n",
       "      <th>2022-06-29</th>\n",
       "      <td>20281.169922</td>\n",
       "      <td>20364.156250</td>\n",
       "      <td>19937.791016</td>\n",
       "      <td>20104.023438</td>\n",
       "      <td>20104.023438</td>\n",
       "      <td>23552740328</td>\n",
       "    </tr>\n",
       "    <tr>\n",
       "      <th>2022-06-30</th>\n",
       "      <td>20108.312500</td>\n",
       "      <td>20141.160156</td>\n",
       "      <td>18729.656250</td>\n",
       "      <td>19784.726562</td>\n",
       "      <td>19784.726562</td>\n",
       "      <td>26267239923</td>\n",
       "    </tr>\n",
       "  </tbody>\n",
       "</table>\n",
       "<p>1097 rows × 6 columns</p>\n",
       "</div>"
      ],
      "text/plain": [
       "                    open          high           low         close  \\\n",
       "2019-06-30  11931.991211  12178.383789  10799.008789  10817.155273   \n",
       "2019-07-01  10796.930664  11206.439453  10089.314453  10583.134766   \n",
       "2019-07-02  10588.683594  10912.188477   9737.884766  10801.677734   \n",
       "2019-07-03  10818.156250  11968.078125  10818.156250  11961.269531   \n",
       "2019-07-04  11972.718750  12006.075195  11166.569336  11215.437500   \n",
       "...                  ...           ...           ...           ...   \n",
       "2022-06-26  21496.494141  21783.724609  21016.269531  21027.294922   \n",
       "2022-06-27  21028.238281  21478.089844  20620.199219  20735.478516   \n",
       "2022-06-28  20731.544922  21164.423828  20228.812500  20280.634766   \n",
       "2022-06-29  20281.169922  20364.156250  19937.791016  20104.023438   \n",
       "2022-06-30  20108.312500  20141.160156  18729.656250  19784.726562   \n",
       "\n",
       "                adjclose       volume  \n",
       "2019-06-30  10817.155273  27256473494  \n",
       "2019-07-01  10583.134766  29378589324  \n",
       "2019-07-02  10801.677734  31015895223  \n",
       "2019-07-03  11961.269531  30796494294  \n",
       "2019-07-04  11215.437500  25920294033  \n",
       "...                  ...          ...  \n",
       "2022-06-26  21027.294922  18027170497  \n",
       "2022-06-27  20735.478516  20965695707  \n",
       "2022-06-28  20280.634766  21381535161  \n",
       "2022-06-29  20104.023438  23552740328  \n",
       "2022-06-30  19784.726562  26267239923  \n",
       "\n",
       "[1097 rows x 6 columns]"
      ]
     },
     "execution_count": 6,
     "metadata": {},
     "output_type": "execute_result"
    }
   ],
   "source": [
    "BTC_df = get_data(\"BTC-USD\", start_date=\"6/30/2019\", end_date=\"06/30/2022\", index_as_date = True, interval=\"1d\")\n",
    "df = BTC_df.iloc[:,0:-1]\n",
    "df"
   ]
  },
  {
   "cell_type": "code",
   "execution_count": 7,
   "id": "c7ff436c-d824-4aa9-83ed-409c95eaa8ed",
   "metadata": {
    "colab": {
     "base_uri": "https://localhost:8080/",
     "height": 455
    },
    "id": "c7ff436c-d824-4aa9-83ed-409c95eaa8ed",
    "outputId": "9a2f644e-95a6-4da8-bb99-4f3201bed7d2"
   },
   "outputs": [
    {
     "data": {
      "text/html": [
       "<div>\n",
       "<style scoped>\n",
       "    .dataframe tbody tr th:only-of-type {\n",
       "        vertical-align: middle;\n",
       "    }\n",
       "\n",
       "    .dataframe tbody tr th {\n",
       "        vertical-align: top;\n",
       "    }\n",
       "\n",
       "    .dataframe thead th {\n",
       "        text-align: right;\n",
       "    }\n",
       "</style>\n",
       "<table border=\"1\" class=\"dataframe\">\n",
       "  <thead>\n",
       "    <tr style=\"text-align: right;\">\n",
       "      <th></th>\n",
       "      <th>open</th>\n",
       "      <th>high</th>\n",
       "      <th>low</th>\n",
       "      <th>close</th>\n",
       "      <th>adjclose</th>\n",
       "      <th>volume</th>\n",
       "    </tr>\n",
       "  </thead>\n",
       "  <tbody>\n",
       "    <tr>\n",
       "      <th>2019-06-30</th>\n",
       "      <td>11931.991211</td>\n",
       "      <td>12178.383789</td>\n",
       "      <td>10799.008789</td>\n",
       "      <td>10817.155273</td>\n",
       "      <td>10817.155273</td>\n",
       "      <td>27256473494</td>\n",
       "    </tr>\n",
       "    <tr>\n",
       "      <th>2019-07-01</th>\n",
       "      <td>10796.930664</td>\n",
       "      <td>11206.439453</td>\n",
       "      <td>10089.314453</td>\n",
       "      <td>10583.134766</td>\n",
       "      <td>10583.134766</td>\n",
       "      <td>29378589324</td>\n",
       "    </tr>\n",
       "    <tr>\n",
       "      <th>2019-07-02</th>\n",
       "      <td>10588.683594</td>\n",
       "      <td>10912.188477</td>\n",
       "      <td>9737.884766</td>\n",
       "      <td>10801.677734</td>\n",
       "      <td>10801.677734</td>\n",
       "      <td>31015895223</td>\n",
       "    </tr>\n",
       "    <tr>\n",
       "      <th>2019-07-03</th>\n",
       "      <td>10818.156250</td>\n",
       "      <td>11968.078125</td>\n",
       "      <td>10818.156250</td>\n",
       "      <td>11961.269531</td>\n",
       "      <td>11961.269531</td>\n",
       "      <td>30796494294</td>\n",
       "    </tr>\n",
       "    <tr>\n",
       "      <th>2019-07-04</th>\n",
       "      <td>11972.718750</td>\n",
       "      <td>12006.075195</td>\n",
       "      <td>11166.569336</td>\n",
       "      <td>11215.437500</td>\n",
       "      <td>11215.437500</td>\n",
       "      <td>25920294033</td>\n",
       "    </tr>\n",
       "    <tr>\n",
       "      <th>...</th>\n",
       "      <td>...</td>\n",
       "      <td>...</td>\n",
       "      <td>...</td>\n",
       "      <td>...</td>\n",
       "      <td>...</td>\n",
       "      <td>...</td>\n",
       "    </tr>\n",
       "    <tr>\n",
       "      <th>2022-06-26</th>\n",
       "      <td>21496.494141</td>\n",
       "      <td>21783.724609</td>\n",
       "      <td>21016.269531</td>\n",
       "      <td>21027.294922</td>\n",
       "      <td>21027.294922</td>\n",
       "      <td>18027170497</td>\n",
       "    </tr>\n",
       "    <tr>\n",
       "      <th>2022-06-27</th>\n",
       "      <td>21028.238281</td>\n",
       "      <td>21478.089844</td>\n",
       "      <td>20620.199219</td>\n",
       "      <td>20735.478516</td>\n",
       "      <td>20735.478516</td>\n",
       "      <td>20965695707</td>\n",
       "    </tr>\n",
       "    <tr>\n",
       "      <th>2022-06-28</th>\n",
       "      <td>20731.544922</td>\n",
       "      <td>21164.423828</td>\n",
       "      <td>20228.812500</td>\n",
       "      <td>20280.634766</td>\n",
       "      <td>20280.634766</td>\n",
       "      <td>21381535161</td>\n",
       "    </tr>\n",
       "    <tr>\n",
       "      <th>2022-06-29</th>\n",
       "      <td>20281.169922</td>\n",
       "      <td>20364.156250</td>\n",
       "      <td>19937.791016</td>\n",
       "      <td>20104.023438</td>\n",
       "      <td>20104.023438</td>\n",
       "      <td>23552740328</td>\n",
       "    </tr>\n",
       "    <tr>\n",
       "      <th>2022-06-30</th>\n",
       "      <td>20108.312500</td>\n",
       "      <td>20141.160156</td>\n",
       "      <td>18729.656250</td>\n",
       "      <td>19784.726562</td>\n",
       "      <td>19784.726562</td>\n",
       "      <td>26267239923</td>\n",
       "    </tr>\n",
       "  </tbody>\n",
       "</table>\n",
       "<p>1097 rows × 6 columns</p>\n",
       "</div>"
      ],
      "text/plain": [
       "                    open          high           low         close  \\\n",
       "2019-06-30  11931.991211  12178.383789  10799.008789  10817.155273   \n",
       "2019-07-01  10796.930664  11206.439453  10089.314453  10583.134766   \n",
       "2019-07-02  10588.683594  10912.188477   9737.884766  10801.677734   \n",
       "2019-07-03  10818.156250  11968.078125  10818.156250  11961.269531   \n",
       "2019-07-04  11972.718750  12006.075195  11166.569336  11215.437500   \n",
       "...                  ...           ...           ...           ...   \n",
       "2022-06-26  21496.494141  21783.724609  21016.269531  21027.294922   \n",
       "2022-06-27  21028.238281  21478.089844  20620.199219  20735.478516   \n",
       "2022-06-28  20731.544922  21164.423828  20228.812500  20280.634766   \n",
       "2022-06-29  20281.169922  20364.156250  19937.791016  20104.023438   \n",
       "2022-06-30  20108.312500  20141.160156  18729.656250  19784.726562   \n",
       "\n",
       "                adjclose       volume  \n",
       "2019-06-30  10817.155273  27256473494  \n",
       "2019-07-01  10583.134766  29378589324  \n",
       "2019-07-02  10801.677734  31015895223  \n",
       "2019-07-03  11961.269531  30796494294  \n",
       "2019-07-04  11215.437500  25920294033  \n",
       "...                  ...          ...  \n",
       "2022-06-26  21027.294922  18027170497  \n",
       "2022-06-27  20735.478516  20965695707  \n",
       "2022-06-28  20280.634766  21381535161  \n",
       "2022-06-29  20104.023438  23552740328  \n",
       "2022-06-30  19784.726562  26267239923  \n",
       "\n",
       "[1097 rows x 6 columns]"
      ]
     },
     "execution_count": 7,
     "metadata": {},
     "output_type": "execute_result"
    }
   ],
   "source": [
    "df"
   ]
  },
  {
   "cell_type": "code",
   "execution_count": 9,
   "id": "4d323399-c906-4d06-b1dc-c0823a13fff6",
   "metadata": {
    "colab": {
     "base_uri": "https://localhost:8080/",
     "height": 298
    },
    "id": "4d323399-c906-4d06-b1dc-c0823a13fff6",
    "outputId": "30d94ca9-fa0a-4096-9321-15f99d553590"
   },
   "outputs": [
    {
     "data": {
      "text/plain": [
       "<AxesSubplot:>"
      ]
     },
     "execution_count": 9,
     "metadata": {},
     "output_type": "execute_result"
    },
    {
     "data": {
      "image/png": "[encoded data removed]",
      "text/plain": [
       "<Figure size 432x288 with 1 Axes>"
      ]
     },
     "metadata": {
      "needs_background": "light"
     },
     "output_type": "display_data"
    }
   ],
   "source": [
    "df['close'].plot()"
   ]
  },
  {
   "cell_type": "code",
   "execution_count": 10,
   "id": "1229c661-f6f5-4479-9826-9884a4410817",
   "metadata": {
    "colab": {
     "base_uri": "https://localhost:8080/",
     "height": 551
    },
    "id": "1229c661-f6f5-4479-9826-9884a4410817",
    "outputId": "a39810e3-ed0f-49cf-f059-37c7a9d7429c"
   },
   "outputs": [
    {
     "data": {
      "text/html": [
       "<div>\n",
       "<style scoped>\n",
       "    .dataframe tbody tr th:only-of-type {\n",
       "        vertical-align: middle;\n",
       "    }\n",
       "\n",
       "    .dataframe tbody tr th {\n",
       "        vertical-align: top;\n",
       "    }\n",
       "\n",
       "    .dataframe thead th {\n",
       "        text-align: right;\n",
       "    }\n",
       "</style>\n",
       "<table border=\"1\" class=\"dataframe\">\n",
       "  <thead>\n",
       "    <tr style=\"text-align: right;\">\n",
       "      <th></th>\n",
       "      <th>open</th>\n",
       "      <th>high</th>\n",
       "      <th>low</th>\n",
       "      <th>close</th>\n",
       "      <th>adjclose</th>\n",
       "      <th>volume</th>\n",
       "    </tr>\n",
       "  </thead>\n",
       "  <tbody>\n",
       "    <tr>\n",
       "      <th>2019-06-30</th>\n",
       "      <td>11931.991211</td>\n",
       "      <td>12178.383789</td>\n",
       "      <td>10799.008789</td>\n",
       "      <td>10817.155273</td>\n",
       "      <td>10817.155273</td>\n",
       "      <td>27256473494</td>\n",
       "    </tr>\n",
       "    <tr>\n",
       "      <th>2019-07-01</th>\n",
       "      <td>10796.930664</td>\n",
       "      <td>11206.439453</td>\n",
       "      <td>10089.314453</td>\n",
       "      <td>10583.134766</td>\n",
       "      <td>10583.134766</td>\n",
       "      <td>29378589324</td>\n",
       "    </tr>\n",
       "    <tr>\n",
       "      <th>2019-07-02</th>\n",
       "      <td>10588.683594</td>\n",
       "      <td>10912.188477</td>\n",
       "      <td>9737.884766</td>\n",
       "      <td>10801.677734</td>\n",
       "      <td>10801.677734</td>\n",
       "      <td>31015895223</td>\n",
       "    </tr>\n",
       "    <tr>\n",
       "      <th>2019-07-03</th>\n",
       "      <td>10818.156250</td>\n",
       "      <td>11968.078125</td>\n",
       "      <td>10818.156250</td>\n",
       "      <td>11961.269531</td>\n",
       "      <td>11961.269531</td>\n",
       "      <td>30796494294</td>\n",
       "    </tr>\n",
       "    <tr>\n",
       "      <th>2019-07-04</th>\n",
       "      <td>11972.718750</td>\n",
       "      <td>12006.075195</td>\n",
       "      <td>11166.569336</td>\n",
       "      <td>11215.437500</td>\n",
       "      <td>11215.437500</td>\n",
       "      <td>25920294033</td>\n",
       "    </tr>\n",
       "    <tr>\n",
       "      <th>2019-07-05</th>\n",
       "      <td>11203.102539</td>\n",
       "      <td>11395.661133</td>\n",
       "      <td>10874.964844</td>\n",
       "      <td>10978.459961</td>\n",
       "      <td>10978.459961</td>\n",
       "      <td>23838480210</td>\n",
       "    </tr>\n",
       "    <tr>\n",
       "      <th>2019-07-06</th>\n",
       "      <td>10982.543945</td>\n",
       "      <td>11620.964844</td>\n",
       "      <td>10982.543945</td>\n",
       "      <td>11208.550781</td>\n",
       "      <td>11208.550781</td>\n",
       "      <td>21092024306</td>\n",
       "    </tr>\n",
       "    <tr>\n",
       "      <th>2019-07-07</th>\n",
       "      <td>11217.616211</td>\n",
       "      <td>11541.620117</td>\n",
       "      <td>11148.804688</td>\n",
       "      <td>11450.846680</td>\n",
       "      <td>11450.846680</td>\n",
       "      <td>19369044277</td>\n",
       "    </tr>\n",
       "    <tr>\n",
       "      <th>2019-07-08</th>\n",
       "      <td>11446.596680</td>\n",
       "      <td>12345.833008</td>\n",
       "      <td>11393.374023</td>\n",
       "      <td>12285.958008</td>\n",
       "      <td>12285.958008</td>\n",
       "      <td>23482551458</td>\n",
       "    </tr>\n",
       "    <tr>\n",
       "      <th>2019-07-09</th>\n",
       "      <td>12284.326172</td>\n",
       "      <td>12779.131836</td>\n",
       "      <td>12233.261719</td>\n",
       "      <td>12573.812500</td>\n",
       "      <td>12573.812500</td>\n",
       "      <td>28167921523</td>\n",
       "    </tr>\n",
       "    <tr>\n",
       "      <th>2019-07-10</th>\n",
       "      <td>12571.537109</td>\n",
       "      <td>13129.529297</td>\n",
       "      <td>11710.978516</td>\n",
       "      <td>12156.512695</td>\n",
       "      <td>12156.512695</td>\n",
       "      <td>33627574244</td>\n",
       "    </tr>\n",
       "    <tr>\n",
       "      <th>2019-07-11</th>\n",
       "      <td>12139.713867</td>\n",
       "      <td>12144.623047</td>\n",
       "      <td>11158.922852</td>\n",
       "      <td>11358.662109</td>\n",
       "      <td>11358.662109</td>\n",
       "      <td>28595327690</td>\n",
       "    </tr>\n",
       "    <tr>\n",
       "      <th>2019-07-12</th>\n",
       "      <td>11354.299805</td>\n",
       "      <td>11905.487305</td>\n",
       "      <td>11179.144531</td>\n",
       "      <td>11815.986328</td>\n",
       "      <td>11815.986328</td>\n",
       "      <td>23534692797</td>\n",
       "    </tr>\n",
       "    <tr>\n",
       "      <th>2019-07-13</th>\n",
       "      <td>11813.126953</td>\n",
       "      <td>11841.957031</td>\n",
       "      <td>10908.479492</td>\n",
       "      <td>11392.378906</td>\n",
       "      <td>11392.378906</td>\n",
       "      <td>21042616384</td>\n",
       "    </tr>\n",
       "    <tr>\n",
       "      <th>2019-07-14</th>\n",
       "      <td>11381.020508</td>\n",
       "      <td>11451.204102</td>\n",
       "      <td>10234.576172</td>\n",
       "      <td>10256.058594</td>\n",
       "      <td>10256.058594</td>\n",
       "      <td>22486000001</td>\n",
       "    </tr>\n",
       "  </tbody>\n",
       "</table>\n",
       "</div>"
      ],
      "text/plain": [
       "                    open          high           low         close  \\\n",
       "2019-06-30  11931.991211  12178.383789  10799.008789  10817.155273   \n",
       "2019-07-01  10796.930664  11206.439453  10089.314453  10583.134766   \n",
       "2019-07-02  10588.683594  10912.188477   9737.884766  10801.677734   \n",
       "2019-07-03  10818.156250  11968.078125  10818.156250  11961.269531   \n",
       "2019-07-04  11972.718750  12006.075195  11166.569336  11215.437500   \n",
       "2019-07-05  11203.102539  11395.661133  10874.964844  10978.459961   \n",
       "2019-07-06  10982.543945  11620.964844  10982.543945  11208.550781   \n",
       "2019-07-07  11217.616211  11541.620117  11148.804688  11450.846680   \n",
       "2019-07-08  11446.596680  12345.833008  11393.374023  12285.958008   \n",
       "2019-07-09  12284.326172  12779.131836  12233.261719  12573.812500   \n",
       "2019-07-10  12571.537109  13129.529297  11710.978516  12156.512695   \n",
       "2019-07-11  12139.713867  12144.623047  11158.922852  11358.662109   \n",
       "2019-07-12  11354.299805  11905.487305  11179.144531  11815.986328   \n",
       "2019-07-13  11813.126953  11841.957031  10908.479492  11392.378906   \n",
       "2019-07-14  11381.020508  11451.204102  10234.576172  10256.058594   \n",
       "\n",
       "                adjclose       volume  \n",
       "2019-06-30  10817.155273  27256473494  \n",
       "2019-07-01  10583.134766  29378589324  \n",
       "2019-07-02  10801.677734  31015895223  \n",
       "2019-07-03  11961.269531  30796494294  \n",
       "2019-07-04  11215.437500  25920294033  \n",
       "2019-07-05  10978.459961  23838480210  \n",
       "2019-07-06  11208.550781  21092024306  \n",
       "2019-07-07  11450.846680  19369044277  \n",
       "2019-07-08  12285.958008  23482551458  \n",
       "2019-07-09  12573.812500  28167921523  \n",
       "2019-07-10  12156.512695  33627574244  \n",
       "2019-07-11  11358.662109  28595327690  \n",
       "2019-07-12  11815.986328  23534692797  \n",
       "2019-07-13  11392.378906  21042616384  \n",
       "2019-07-14  10256.058594  22486000001  "
      ]
     },
     "execution_count": 10,
     "metadata": {},
     "output_type": "execute_result"
    }
   ],
   "source": [
    "df.head(15)"
   ]
  },
  {
   "cell_type": "code",
   "execution_count": 11,
   "id": "116b7755-d3fe-45aa-a089-29cd49bbfc72",
   "metadata": {
    "id": "116b7755-d3fe-45aa-a089-29cd49bbfc72"
   },
   "outputs": [],
   "source": [
    "def window_data(df, window, feature_col_number, target_col_number):\n",
    "    X = []\n",
    "    y = []\n",
    "    for i in range(len(df) - window - 1): # i in range(3000-10-1) # i in range(2989)\n",
    "        features = df.iloc[i:(i + window), feature_col_number] # df.iloc[0: 10, 'Close']\n",
    "        target = df.iloc[(i + window), target_col_number] # df.iloc[10, 'Close']\n",
    "        X.append(features)\n",
    "        y.append(target)\n",
    "    return np.array(X), np.array(y).reshape(-1, 1)"
   ]
  },
  {
   "cell_type": "code",
   "execution_count": 12,
   "id": "27f2354f-48d5-4105-9203-a467d71e060e",
   "metadata": {
    "id": "27f2354f-48d5-4105-9203-a467d71e060e"
   },
   "outputs": [],
   "source": [
    "window_size=10"
   ]
  },
  {
   "cell_type": "code",
   "execution_count": 13,
   "id": "a292a2e3-c509-49da-865e-4e33c2f50d82",
   "metadata": {
    "colab": {
     "base_uri": "https://localhost:8080/",
     "height": 364
    },
    "id": "a292a2e3-c509-49da-865e-4e33c2f50d82",
    "outputId": "7c5384a6-e160-4b27-bd03-859c00383481"
   },
   "outputs": [
    {
     "data": {
      "text/plain": [
       "array([[10817.15527344, 10583.13476562, 10801.67773438, ...,\n",
       "        11450.84667969, 12285.95800781, 12573.8125    ],\n",
       "       [10583.13476562, 10801.67773438, 11961.26953125, ...,\n",
       "        12285.95800781, 12573.8125    , 12156.51269531],\n",
       "       [10801.67773438, 11961.26953125, 11215.4375    , ...,\n",
       "        12573.8125    , 12156.51269531, 11358.66210938],\n",
       "       ...,\n",
       "       [20471.48242188, 19017.64257812, 20553.27148438, ...,\n",
       "        21231.65625   , 21502.33789062, 21027.29492188],\n",
       "       [19017.64257812, 20553.27148438, 20599.53710938, ...,\n",
       "        21502.33789062, 21027.29492188, 20735.47851562],\n",
       "       [20553.27148438, 20599.53710938, 20710.59765625, ...,\n",
       "        21027.29492188, 20735.47851562, 20280.63476562]])"
      ]
     },
     "metadata": {},
     "output_type": "display_data"
    },
    {
     "data": {
      "text/plain": [
       "array([[12156.51269531],\n",
       "       [11358.66210938],\n",
       "       [11815.98632812],\n",
       "       ...,\n",
       "       [20735.47851562],\n",
       "       [20280.63476562],\n",
       "       [20104.0234375 ]])"
      ]
     },
     "metadata": {},
     "output_type": "display_data"
    }
   ],
   "source": [
    "X, y=window_data(df, window_size, 3, 3)\n",
    "display(X)\n",
    "display(y)"
   ]
  },
  {
   "cell_type": "code",
   "execution_count": 14,
   "id": "GreUcSAngpop",
   "metadata": {
    "id": "GreUcSAngpop"
   },
   "outputs": [],
   "source": [
    "from sklearn.preprocessing import MinMaxScaler\n",
    "X_scaler=MinMaxScaler()\n",
    "X_scaler.fit(X)\n",
    "X_scaled=X_scaler.transform(X)"
   ]
  },
  {
   "cell_type": "code",
   "execution_count": 15,
   "id": "WUMPL6UQjJWk",
   "metadata": {
    "colab": {
     "base_uri": "https://localhost:8080/"
    },
    "id": "WUMPL6UQjJWk",
    "outputId": "6f69cb3f-fae7-4f8a-d9ce-9318b8b60cd3"
   },
   "outputs": [
    {
     "data": {
      "text/plain": [
       "array([[10817.15527344, 10583.13476562, 10801.67773438, ...,\n",
       "        11450.84667969, 12285.95800781, 12573.8125    ],\n",
       "       [10583.13476562, 10801.67773438, 11961.26953125, ...,\n",
       "        12285.95800781, 12573.8125    , 12156.51269531],\n",
       "       [10801.67773438, 11961.26953125, 11215.4375    , ...,\n",
       "        12573.8125    , 12156.51269531, 11358.66210938],\n",
       "       ...,\n",
       "       [20471.48242188, 19017.64257812, 20553.27148438, ...,\n",
       "        21231.65625   , 21502.33789062, 21027.29492188],\n",
       "       [19017.64257812, 20553.27148438, 20599.53710938, ...,\n",
       "        21502.33789062, 21027.29492188, 20735.47851562],\n",
       "       [20553.27148438, 20599.53710938, 20710.59765625, ...,\n",
       "        21027.29492188, 20735.47851562, 20280.63476562]])"
      ]
     },
     "execution_count": 15,
     "metadata": {},
     "output_type": "execute_result"
    }
   ],
   "source": [
    "X"
   ]
  },
  {
   "cell_type": "code",
   "execution_count": 170,
   "id": "2732c02c-6188-49aa-99f3-c203b6ae88bb",
   "metadata": {
    "id": "2732c02c-6188-49aa-99f3-c203b6ae88bb"
   },
   "outputs": [],
   "source": [
    "split=int(0.7*len(X_scaled))\n",
    "X_train=X_scaled[:split]\n",
    "X_test=X_scaled[split:]\n",
    "\n"
   ]
  },
  {
   "cell_type": "code",
   "execution_count": 171,
   "id": "2EqW3KfLg7vh",
   "metadata": {
    "id": "2EqW3KfLg7vh"
   },
   "outputs": [],
   "source": [
    "y_scaler=MinMaxScaler()\n",
    "y_scaler.fit(y)\n",
    "y_scaled=y_scaler.transform(y)\n",
    "y_train=y_scaled[:split]\n",
    "y_test=y_scaled[split:]\n"
   ]
  },
  {
   "cell_type": "code",
   "execution_count": 172,
   "id": "cojs-gZjhVB6",
   "metadata": {
    "colab": {
     "base_uri": "https://localhost:8080/",
     "height": 86
    },
    "id": "cojs-gZjhVB6",
    "outputId": "ffe163f6-8363-4eb4-9f84-021711230f7a"
   },
   "outputs": [
    {
     "data": {
      "text/plain": [
       "(1015, 10)"
      ]
     },
     "metadata": {},
     "output_type": "display_data"
    },
    {
     "data": {
      "text/plain": [
       "(436, 10)"
      ]
     },
     "metadata": {},
     "output_type": "display_data"
    },
    {
     "data": {
      "text/plain": [
       "(1015, 1)"
      ]
     },
     "metadata": {},
     "output_type": "display_data"
    },
    {
     "data": {
      "text/plain": [
       "(436, 1)"
      ]
     },
     "metadata": {},
     "output_type": "display_data"
    }
   ],
   "source": [
    "\n",
    "display(X_train.shape)\n",
    "display(X_test.shape)\n",
    "display(y_train.shape)\n",
    "display(y_test.shape)"
   ]
  },
  {
   "cell_type": "code",
   "execution_count": 173,
   "id": "8fc3e3cc-e86e-48d5-a177-6380182a078c",
   "metadata": {
    "colab": {
     "base_uri": "https://localhost:8080/",
     "height": 52
    },
    "id": "8fc3e3cc-e86e-48d5-a177-6380182a078c",
    "outputId": "cd769ff0-e4b4-4c5b-f5cd-bbd08e0f4589"
   },
   "outputs": [
    {
     "data": {
      "text/plain": [
       "(1015, 10, 1)"
      ]
     },
     "metadata": {},
     "output_type": "display_data"
    },
    {
     "data": {
      "text/plain": [
       "(436, 10, 1)"
      ]
     },
     "metadata": {},
     "output_type": "display_data"
    }
   ],
   "source": [
    "X_train=X_train.reshape(X_train.shape[0], X_train.shape[1], 1)\n",
    "X_test=X_test.reshape(X_test.shape[0], X_test.shape[1], 1)\n",
    "display(X_train.shape)\n",
    "display(X_test.shape)"
   ]
  },
  {
   "cell_type": "code",
   "execution_count": 23,
   "id": "16c1c831-8d29-4e17-a6ba-1ea96a37b55f",
   "metadata": {
    "id": "16c1c831-8d29-4e17-a6ba-1ea96a37b55f"
   },
   "outputs": [],
   "source": [
    "from tensorflow.keras.models import Sequential\n",
    "from tensorflow.keras.layers import LSTM, Dense, Dropout"
   ]
  },
  {
   "cell_type": "code",
   "execution_count": 175,
   "id": "415d2b5b-0c00-4b33-9033-aed1cca4fc7e",
   "metadata": {
    "id": "415d2b5b-0c00-4b33-9033-aed1cca4fc7e"
   },
   "outputs": [],
   "source": [
    "model=Sequential()\n",
    "first_lstm_layer=LSTM(units=30, return_sequences=True, input_shape=(window_size, 1))\n",
    "model.add(first_lstm_layer)\n",
    "first_dropout_layer=Dropout(0.2)\n",
    "model.add(first_dropout_layer)\n",
    "second_lstm_layer=LSTM(units=30, return_sequences=True)\n",
    "model.add(second_lstm_layer)\n",
    "second_dropout_layer=Dropout(0.2)\n",
    "model.add(second_dropout_layer)\n",
    "third_lstm_layer=LSTM(units=30)\n",
    "model.add(third_lstm_layer)\n",
    "output_layer=Dense(units=1, activation='linear')\n",
    "model.add(output_layer)"
   ]
  },
  {
   "cell_type": "code",
   "execution_count": 176,
   "id": "09d56478-8cf5-4c62-ad91-49a73063bc39",
   "metadata": {
    "id": "09d56478-8cf5-4c62-ad91-49a73063bc39"
   },
   "outputs": [],
   "source": [
    "model.compile(loss='mean_squared_error', optimizer='adam', metrics='mean_squared_error')"
   ]
  },
  {
   "cell_type": "code",
   "execution_count": 177,
   "id": "a6b47ac1-4eb6-4696-b36e-99b42c2e9c48",
   "metadata": {
    "colab": {
     "base_uri": "https://localhost:8080/"
    },
    "id": "a6b47ac1-4eb6-4696-b36e-99b42c2e9c48",
    "outputId": "1c92906b-3379-4bd5-93ca-50139620895c"
   },
   "outputs": [
    {
     "name": "stdout",
     "output_type": "stream",
     "text": [
      "Model: \"sequential_6\"\n",
      "_________________________________________________________________\n",
      " Layer (type)                Output Shape              Param #   \n",
      "=================================================================\n",
      " lstm_18 (LSTM)              (None, 10, 30)            3840      \n",
      "                                                                 \n",
      " dropout_10 (Dropout)        (None, 10, 30)            0         \n",
      "                                                                 \n",
      " lstm_19 (LSTM)              (None, 10, 30)            7320      \n",
      "                                                                 \n",
      " dropout_11 (Dropout)        (None, 10, 30)            0         \n",
      "                                                                 \n",
      " lstm_20 (LSTM)              (None, 30)                7320      \n",
      "                                                                 \n",
      " dense_6 (Dense)             (None, 1)                 31        \n",
      "                                                                 \n",
      "=================================================================\n",
      "Total params: 18,511\n",
      "Trainable params: 18,511\n",
      "Non-trainable params: 0\n",
      "_________________________________________________________________\n"
     ]
    }
   ],
   "source": [
    "model.summary()"
   ]
  },
  {
   "cell_type": "code",
   "execution_count": 178,
   "id": "1424de1d-b9b1-459b-b1f0-783031d3b4cf",
   "metadata": {
    "colab": {
     "base_uri": "https://localhost:8080/"
    },
    "id": "1424de1d-b9b1-459b-b1f0-783031d3b4cf",
    "outputId": "34867a0a-e7e0-4211-d568-8e334ecdf3d0"
   },
   "outputs": [
    {
     "name": "stdout",
     "output_type": "stream",
     "text": [
      "Epoch 1/10\n",
      "32/32 [==============================] - 5s 14ms/step - loss: 0.0215 - mean_squared_error: 0.0215\n",
      "Epoch 2/10\n",
      "32/32 [==============================] - 0s 14ms/step - loss: 0.0020 - mean_squared_error: 0.0020\n",
      "Epoch 3/10\n",
      "32/32 [==============================] - 0s 14ms/step - loss: 0.0016 - mean_squared_error: 0.0016\n",
      "Epoch 4/10\n",
      "32/32 [==============================] - 0s 13ms/step - loss: 0.0013 - mean_squared_error: 0.0013\n",
      "Epoch 5/10\n",
      "32/32 [==============================] - 0s 14ms/step - loss: 0.0011 - mean_squared_error: 0.0011\n",
      "Epoch 6/10\n",
      "32/32 [==============================] - 0s 14ms/step - loss: 0.0011 - mean_squared_error: 0.0011\n",
      "Epoch 7/10\n",
      "32/32 [==============================] - 0s 14ms/step - loss: 0.0011 - mean_squared_error: 0.0011\n",
      "Epoch 8/10\n",
      "32/32 [==============================] - 0s 13ms/step - loss: 9.4535e-04 - mean_squared_error: 9.4535e-04\n",
      "Epoch 9/10\n",
      "32/32 [==============================] - 0s 14ms/step - loss: 0.0011 - mean_squared_error: 0.0011\n",
      "Epoch 10/10\n",
      "32/32 [==============================] - 0s 15ms/step - loss: 0.0013 - mean_squared_error: 0.0013\n"
     ]
    },
    {
     "data": {
      "text/plain": [
       "<keras.callbacks.History at 0x7f4f1ed90850>"
      ]
     },
     "execution_count": 178,
     "metadata": {},
     "output_type": "execute_result"
    }
   ],
   "source": [
    "model.fit(X_train, y_train, epochs=10)"
   ]
  },
  {
   "cell_type": "code",
   "execution_count": 179,
   "id": "FD64bWsgfpqQ",
   "metadata": {
    "id": "FD64bWsgfpqQ"
   },
   "outputs": [],
   "source": [
    "prediction=model.predict(X_test)"
   ]
  },
  {
   "cell_type": "code",
   "execution_count": 180,
   "id": "o9wLzWbTgOeH",
   "metadata": {
    "colab": {
     "base_uri": "https://localhost:8080/",
     "height": 1000
    },
    "id": "o9wLzWbTgOeH",
    "outputId": "ae5bc44f-d378-4e7d-e570-65cdf6724d69"
   },
   "outputs": [
    {
     "data": {
      "text/plain": [
       "array([[0.7998745 ],\n",
       "       [0.7937889 ],\n",
       "       [0.7937391 ],\n",
       "       [0.7989645 ],\n",
       "       [0.8066341 ],\n",
       "       [0.81656194],\n",
       "       [0.8288597 ],\n",
       "       [0.8325651 ],\n",
       "       [0.8348354 ],\n",
       "       [0.83800334],\n",
       "       [0.8438087 ],\n",
       "       [0.84247434],\n",
       "       [0.84099585],\n",
       "       [0.8403981 ],\n",
       "       [0.83740586],\n",
       "       [0.83951294],\n",
       "       [0.8324921 ],\n",
       "       [0.8248468 ],\n",
       "       [0.8125759 ],\n",
       "       [0.79436123],\n",
       "       [0.7727126 ],\n",
       "       [0.7517008 ],\n",
       "       [0.72463626],\n",
       "       [0.7096496 ],\n",
       "       [0.6897853 ],\n",
       "       [0.6665354 ],\n",
       "       [0.64808136],\n",
       "       [0.62887573],\n",
       "       [0.6158074 ],\n",
       "       [0.6033574 ],\n",
       "       [0.6046292 ],\n",
       "       [0.5956283 ],\n",
       "       [0.59486765],\n",
       "       [0.59318405],\n",
       "       [0.5983506 ],\n",
       "       [0.5939838 ],\n",
       "       [0.5904502 ],\n",
       "       [0.58444834],\n",
       "       [0.5803853 ],\n",
       "       [0.5826155 ],\n",
       "       [0.5866034 ],\n",
       "       [0.587491  ],\n",
       "       [0.58391446],\n",
       "       [0.58201814],\n",
       "       [0.5777361 ],\n",
       "       [0.56983626],\n",
       "       [0.569142  ],\n",
       "       [0.57354903],\n",
       "       [0.5784325 ],\n",
       "       [0.5900849 ],\n",
       "       [0.6019477 ],\n",
       "       [0.6036232 ],\n",
       "       [0.6061241 ],\n",
       "       [0.60534126],\n",
       "       [0.6070152 ],\n",
       "       [0.5980619 ],\n",
       "       [0.5847074 ],\n",
       "       [0.56898516],\n",
       "       [0.5569783 ],\n",
       "       [0.5449738 ],\n",
       "       [0.5387036 ],\n",
       "       [0.5333207 ],\n",
       "       [0.52832645],\n",
       "       [0.5345504 ],\n",
       "       [0.5388724 ],\n",
       "       [0.5402565 ],\n",
       "       [0.5395503 ],\n",
       "       [0.5469861 ],\n",
       "       [0.55298316],\n",
       "       [0.55232793],\n",
       "       [0.5517605 ],\n",
       "       [0.5470368 ],\n",
       "       [0.54412633],\n",
       "       [0.54496753],\n",
       "       [0.54469573],\n",
       "       [0.5419739 ],\n",
       "       [0.5371726 ],\n",
       "       [0.5358652 ],\n",
       "       [0.5325213 ],\n",
       "       [0.52943   ],\n",
       "       [0.5282883 ],\n",
       "       [0.523875  ],\n",
       "       [0.51917416],\n",
       "       [0.51193875],\n",
       "       [0.5074101 ],\n",
       "       [0.50443715],\n",
       "       [0.50191385],\n",
       "       [0.5035117 ],\n",
       "       [0.5079903 ],\n",
       "       [0.514712  ],\n",
       "       [0.5235781 ],\n",
       "       [0.537886  ],\n",
       "       [0.5577615 ],\n",
       "       [0.5740962 ],\n",
       "       [0.5916333 ],\n",
       "       [0.60692775],\n",
       "       [0.62066096],\n",
       "       [0.6318437 ],\n",
       "       [0.63834023],\n",
       "       [0.64039654],\n",
       "       [0.64207923],\n",
       "       [0.6448624 ],\n",
       "       [0.6440275 ],\n",
       "       [0.64637685],\n",
       "       [0.6543595 ],\n",
       "       [0.665411  ],\n",
       "       [0.68030167],\n",
       "       [0.69268906],\n",
       "       [0.7034635 ],\n",
       "       [0.71047586],\n",
       "       [0.7137726 ],\n",
       "       [0.7185284 ],\n",
       "       [0.7178149 ],\n",
       "       [0.71933854],\n",
       "       [0.7215659 ],\n",
       "       [0.7271203 ],\n",
       "       [0.7264429 ],\n",
       "       [0.7277919 ],\n",
       "       [0.7299027 ],\n",
       "       [0.7344486 ],\n",
       "       [0.7420835 ],\n",
       "       [0.7497125 ],\n",
       "       [0.75354165],\n",
       "       [0.7517884 ],\n",
       "       [0.75052345],\n",
       "       [0.7482983 ],\n",
       "       [0.7456983 ],\n",
       "       [0.7472157 ],\n",
       "       [0.74661636],\n",
       "       [0.75093263],\n",
       "       [0.75197506],\n",
       "       [0.7534098 ],\n",
       "       [0.75460416],\n",
       "       [0.75876147],\n",
       "       [0.7616303 ],\n",
       "       [0.75994885],\n",
       "       [0.75618845],\n",
       "       [0.7497882 ],\n",
       "       [0.74273515],\n",
       "       [0.7315438 ],\n",
       "       [0.7182558 ],\n",
       "       [0.71757734],\n",
       "       [0.7190697 ],\n",
       "       [0.72040075],\n",
       "       [0.7245297 ],\n",
       "       [0.72676194],\n",
       "       [0.7260736 ],\n",
       "       [0.72684187],\n",
       "       [0.72201526],\n",
       "       [0.7136948 ],\n",
       "       [0.7051886 ],\n",
       "       [0.69681036],\n",
       "       [0.6850699 ],\n",
       "       [0.6746685 ],\n",
       "       [0.6741368 ],\n",
       "       [0.6794763 ],\n",
       "       [0.6795741 ],\n",
       "       [0.67821914],\n",
       "       [0.6833958 ],\n",
       "       [0.69118065],\n",
       "       [0.70090085],\n",
       "       [0.71552855],\n",
       "       [0.735031  ],\n",
       "       [0.7552504 ],\n",
       "       [0.7723278 ],\n",
       "       [0.78250366],\n",
       "       [0.79472303],\n",
       "       [0.80716145],\n",
       "       [0.818801  ],\n",
       "       [0.82748795],\n",
       "       [0.83069813],\n",
       "       [0.8380072 ],\n",
       "       [0.8463521 ],\n",
       "       [0.854483  ],\n",
       "       [0.86455315],\n",
       "       [0.87114197],\n",
       "       [0.88049835],\n",
       "       [0.8879353 ],\n",
       "       [0.89543825],\n",
       "       [0.8965702 ],\n",
       "       [0.8984773 ],\n",
       "       [0.8987538 ],\n",
       "       [0.8978567 ],\n",
       "       [0.89334476],\n",
       "       [0.8859198 ],\n",
       "       [0.88418025],\n",
       "       [0.88480014],\n",
       "       [0.88466007],\n",
       "       [0.885591  ],\n",
       "       [0.8833919 ],\n",
       "       [0.8854408 ],\n",
       "       [0.89050746],\n",
       "       [0.89256716],\n",
       "       [0.8930416 ],\n",
       "       [0.89495504],\n",
       "       [0.89842576],\n",
       "       [0.9029483 ],\n",
       "       [0.90450495],\n",
       "       [0.9067308 ],\n",
       "       [0.91155946],\n",
       "       [0.9168914 ],\n",
       "       [0.9210525 ],\n",
       "       [0.92188525],\n",
       "       [0.91529316],\n",
       "       [0.9080789 ],\n",
       "       [0.90261877],\n",
       "       [0.896151  ],\n",
       "       [0.8895455 ],\n",
       "       [0.88132346],\n",
       "       [0.87025404],\n",
       "       [0.86123496],\n",
       "       [0.8565981 ],\n",
       "       [0.8507248 ],\n",
       "       [0.8501776 ],\n",
       "       [0.8475537 ],\n",
       "       [0.84211206],\n",
       "       [0.8382846 ],\n",
       "       [0.8386829 ],\n",
       "       [0.836481  ],\n",
       "       [0.8352821 ],\n",
       "       [0.830893  ],\n",
       "       [0.8315791 ],\n",
       "       [0.82878584],\n",
       "       [0.82035387],\n",
       "       [0.8090589 ],\n",
       "       [0.79727286],\n",
       "       [0.7835594 ],\n",
       "       [0.7702045 ],\n",
       "       [0.7613684 ],\n",
       "       [0.7604371 ],\n",
       "       [0.75880677],\n",
       "       [0.7542722 ],\n",
       "       [0.7487944 ],\n",
       "       [0.7431245 ],\n",
       "       [0.7427999 ],\n",
       "       [0.742999  ],\n",
       "       [0.7388492 ],\n",
       "       [0.73328185],\n",
       "       [0.73543066],\n",
       "       [0.73877436],\n",
       "       [0.7382711 ],\n",
       "       [0.7412671 ],\n",
       "       [0.7481489 ],\n",
       "       [0.75387484],\n",
       "       [0.75950253],\n",
       "       [0.7642087 ],\n",
       "       [0.76397467],\n",
       "       [0.7636222 ],\n",
       "       [0.7582532 ],\n",
       "       [0.7519518 ],\n",
       "       [0.7455711 ],\n",
       "       [0.7371886 ],\n",
       "       [0.7277988 ],\n",
       "       [0.7232929 ],\n",
       "       [0.71973836],\n",
       "       [0.71317923],\n",
       "       [0.7071123 ],\n",
       "       [0.6969393 ],\n",
       "       [0.68684626],\n",
       "       [0.6782174 ],\n",
       "       [0.670674  ],\n",
       "       [0.66856647],\n",
       "       [0.6676423 ],\n",
       "       [0.67051345],\n",
       "       [0.6730021 ],\n",
       "       [0.67489004],\n",
       "       [0.67647105],\n",
       "       [0.6745006 ],\n",
       "       [0.6676045 ],\n",
       "       [0.6616364 ],\n",
       "       [0.6524245 ],\n",
       "       [0.64115626],\n",
       "       [0.62839615],\n",
       "       [0.61645484],\n",
       "       [0.60342216],\n",
       "       [0.5916472 ],\n",
       "       [0.5826327 ],\n",
       "       [0.5849087 ],\n",
       "       [0.591511  ],\n",
       "       [0.59523195],\n",
       "       [0.5980618 ],\n",
       "       [0.60093737],\n",
       "       [0.6051361 ],\n",
       "       [0.61000377],\n",
       "       [0.6150194 ],\n",
       "       [0.62105   ],\n",
       "       [0.6294978 ],\n",
       "       [0.6381389 ],\n",
       "       [0.6471951 ],\n",
       "       [0.66102225],\n",
       "       [0.6744354 ],\n",
       "       [0.6778344 ],\n",
       "       [0.6815719 ],\n",
       "       [0.68330026],\n",
       "       [0.6813499 ],\n",
       "       [0.677972  ],\n",
       "       [0.67317426],\n",
       "       [0.6688882 ],\n",
       "       [0.6656716 ],\n",
       "       [0.6613652 ],\n",
       "       [0.65558636],\n",
       "       [0.6475564 ],\n",
       "       [0.63379556],\n",
       "       [0.620758  ],\n",
       "       [0.6155468 ],\n",
       "       [0.6123694 ],\n",
       "       [0.6105297 ],\n",
       "       [0.61475736],\n",
       "       [0.62396   ],\n",
       "       [0.63089967],\n",
       "       [0.6403856 ],\n",
       "       [0.6469539 ],\n",
       "       [0.65059465],\n",
       "       [0.6535667 ],\n",
       "       [0.65943843],\n",
       "       [0.6519345 ],\n",
       "       [0.6408672 ],\n",
       "       [0.6301159 ],\n",
       "       [0.6222584 ],\n",
       "       [0.6223426 ],\n",
       "       [0.6217867 ],\n",
       "       [0.6240158 ],\n",
       "       [0.62762165],\n",
       "       [0.63029164],\n",
       "       [0.6259352 ],\n",
       "       [0.62850547],\n",
       "       [0.6332953 ],\n",
       "       [0.63857025],\n",
       "       [0.6471243 ],\n",
       "       [0.6522667 ],\n",
       "       [0.65912604],\n",
       "       [0.662723  ],\n",
       "       [0.6681014 ],\n",
       "       [0.672999  ],\n",
       "       [0.6785413 ],\n",
       "       [0.6875875 ],\n",
       "       [0.69783497],\n",
       "       [0.7058487 ],\n",
       "       [0.71300155],\n",
       "       [0.7180648 ],\n",
       "       [0.72244316],\n",
       "       [0.72637427],\n",
       "       [0.7247243 ],\n",
       "       [0.721575  ],\n",
       "       [0.7165829 ],\n",
       "       [0.71136814],\n",
       "       [0.7083472 ],\n",
       "       [0.7021685 ],\n",
       "       [0.6953211 ],\n",
       "       [0.68584466],\n",
       "       [0.67459655],\n",
       "       [0.6646828 ],\n",
       "       [0.6594127 ],\n",
       "       [0.6527626 ],\n",
       "       [0.64859074],\n",
       "       [0.6432107 ],\n",
       "       [0.6393402 ],\n",
       "       [0.6420249 ],\n",
       "       [0.64322096],\n",
       "       [0.6417055 ],\n",
       "       [0.6427942 ],\n",
       "       [0.6422415 ],\n",
       "       [0.6414209 ],\n",
       "       [0.64179516],\n",
       "       [0.6391653 ],\n",
       "       [0.6344029 ],\n",
       "       [0.6292699 ],\n",
       "       [0.6256619 ],\n",
       "       [0.6235679 ],\n",
       "       [0.6216247 ],\n",
       "       [0.619643  ],\n",
       "       [0.6147165 ],\n",
       "       [0.61480045],\n",
       "       [0.61117196],\n",
       "       [0.60487115],\n",
       "       [0.59924066],\n",
       "       [0.5934572 ],\n",
       "       [0.58288366],\n",
       "       [0.56913024],\n",
       "       [0.55451906],\n",
       "       [0.53230345],\n",
       "       [0.51669663],\n",
       "       [0.50128007],\n",
       "       [0.48657703],\n",
       "       [0.47518745],\n",
       "       [0.47417134],\n",
       "       [0.47096622],\n",
       "       [0.4734543 ],\n",
       "       [0.4756521 ],\n",
       "       [0.47699583],\n",
       "       [0.47587955],\n",
       "       [0.47122106],\n",
       "       [0.47042814],\n",
       "       [0.46777284],\n",
       "       [0.46960473],\n",
       "       [0.46678463],\n",
       "       [0.46748406],\n",
       "       [0.46826336],\n",
       "       [0.46700546],\n",
       "       [0.46967006],\n",
       "       [0.4710345 ],\n",
       "       [0.47278756],\n",
       "       [0.47540486],\n",
       "       [0.48007712],\n",
       "       [0.48451972],\n",
       "       [0.4872873 ],\n",
       "       [0.4836666 ],\n",
       "       [0.47952673],\n",
       "       [0.4803782 ],\n",
       "       [0.4783267 ],\n",
       "       [0.47617733],\n",
       "       [0.4708189 ],\n",
       "       [0.46219608],\n",
       "       [0.44590786],\n",
       "       [0.42665187],\n",
       "       [0.40649128],\n",
       "       [0.3836052 ],\n",
       "       [0.36134464],\n",
       "       [0.33952367],\n",
       "       [0.3212727 ],\n",
       "       [0.3153943 ],\n",
       "       [0.3103397 ],\n",
       "       [0.3044346 ],\n",
       "       [0.3054705 ],\n",
       "       [0.3065285 ],\n",
       "       [0.31204614],\n",
       "       [0.3128243 ],\n",
       "       [0.31311882],\n",
       "       [0.31252626],\n",
       "       [0.31344777],\n",
       "       [0.31037754],\n",
       "       [0.30641115],\n",
       "       [0.30137813],\n",
       "       [0.2977914 ],\n",
       "       [0.29553217],\n",
       "       [0.2953653 ]], dtype=float32)"
      ]
     },
     "metadata": {},
     "output_type": "display_data"
    }
   ],
   "source": [
    "display(prediction)"
   ]
  },
  {
   "cell_type": "code",
   "execution_count": 181,
   "id": "GJ3Gyr3Xf0l2",
   "metadata": {
    "id": "GJ3Gyr3Xf0l2"
   },
   "outputs": [],
   "source": [
    "import matplotlib.pyplot as plt"
   ]
  },
  {
   "cell_type": "code",
   "execution_count": 182,
   "id": "0W2puveYf6N4",
   "metadata": {
    "colab": {
     "base_uri": "https://localhost:8080/",
     "height": 282
    },
    "id": "0W2puveYf6N4",
    "outputId": "fa249151-01d3-4de9-c8d9-4b4123d23446"
   },
   "outputs": [
    {
     "data": {
      "text/plain": [
       "[<matplotlib.lines.Line2D at 0x7f4f1fb24250>]"
      ]
     },
     "execution_count": 182,
     "metadata": {},
     "output_type": "execute_result"
    },
    {
     "data": {
      "image/png": "[encoded data removed]",
      "text/plain": [
       "<Figure size 432x288 with 1 Axes>"
      ]
     },
     "metadata": {
      "needs_background": "light"
     },
     "output_type": "display_data"
    }
   ],
   "source": [
    "plt.plot(prediction)\n",
    "plt.plot(y_test.ravel())"
   ]
  },
  {
   "cell_type": "code",
   "execution_count": 153,
   "id": "fs0LOuHGf7ed",
   "metadata": {
    "id": "fs0LOuHGf7ed"
   },
   "outputs": [],
   "source": [
    "y_predicted=y_scaler.inverse_transform(prediction)"
   ]
  },
  {
   "cell_type": "code",
   "execution_count": 154,
   "id": "PQIpvgdGhkE7",
   "metadata": {
    "colab": {
     "base_uri": "https://localhost:8080/",
     "height": 282
    },
    "id": "PQIpvgdGhkE7",
    "outputId": "fbb6fa91-819d-4530-a077-b78f37fcaaef"
   },
   "outputs": [
    {
     "data": {
      "text/plain": [
       "[<matplotlib.lines.Line2D at 0x7f4f2137bd50>]"
      ]
     },
     "execution_count": 154,
     "metadata": {},
     "output_type": "execute_result"
    },
    {
     "data": {
      "image/png": "[encoded data removed]",
      "text/plain": [
       "<Figure size 432x288 with 1 Axes>"
      ]
     },
     "metadata": {
      "needs_background": "light"
     },
     "output_type": "display_data"
    }
   ],
   "source": [
    "plt.plot(y_predicted)"
   ]
  },
  {
   "cell_type": "code",
   "execution_count": 155,
   "id": "YKZw62oXhoS0",
   "metadata": {
    "colab": {
     "base_uri": "https://localhost:8080/"
    },
    "id": "YKZw62oXhoS0",
    "outputId": "41dce571-bebc-4d43-b37b-77d23fdd5c14"
   },
   "outputs": [
    {
     "data": {
      "text/plain": [
       "array([[32947.977]], dtype=float32)"
      ]
     },
     "execution_count": 155,
     "metadata": {},
     "output_type": "execute_result"
    }
   ],
   "source": [
    "# one prediction\n",
    "\n",
    "last_input=df.iloc[-window_size:, :]['Close'].values\n",
    "input_scaled=X_scaler.transform([last_input])\n",
    "input_reshaped=input_scaled.reshape(1, window_size, 1)\n",
    "next_prediction=model.predict(input_reshaped)\n",
    "y_scaler.inverse_transform(next_prediction)"
   ]
  },
  {
   "cell_type": "code",
   "execution_count": 183,
   "id": "VlODhqfRpNFH",
   "metadata": {
    "colab": {
     "base_uri": "https://localhost:8080/"
    },
    "id": "VlODhqfRpNFH",
    "outputId": "5b92f30d-1995-4fc2-b544-6843b52af7f8"
   },
   "outputs": [
    {
     "data": {
      "text/plain": [
       "array([[[0.04808309],\n",
       "        [0.04908977],\n",
       "        [0.04651089],\n",
       "        ...,\n",
       "        [0.06348942],\n",
       "        [0.06426261],\n",
       "        [0.06575616]],\n",
       "\n",
       "       [[0.04908977],\n",
       "        [0.04651089],\n",
       "        [0.04665452],\n",
       "        ...,\n",
       "        [0.06426261],\n",
       "        [0.06575616],\n",
       "        [0.06400379]],\n",
       "\n",
       "       [[0.04651089],\n",
       "        [0.04665452],\n",
       "        [0.04724631],\n",
       "        ...,\n",
       "        [0.06575616],\n",
       "        [0.06400379],\n",
       "        [0.0650167 ]],\n",
       "\n",
       "       ...,\n",
       "\n",
       "       [[0.89300481],\n",
       "        [0.82355615],\n",
       "        [0.81590937],\n",
       "        ...,\n",
       "        [0.72771735],\n",
       "        [0.71144792],\n",
       "        [0.78944411]],\n",
       "\n",
       "       [[0.82355615],\n",
       "        [0.81590937],\n",
       "        [0.8275488 ],\n",
       "        ...,\n",
       "        [0.71144792],\n",
       "        [0.78944411],\n",
       "        [0.80516558]],\n",
       "\n",
       "       [[0.81590937],\n",
       "        [0.8275488 ],\n",
       "        [0.78764613],\n",
       "        ...,\n",
       "        [0.78944411],\n",
       "        [0.80516558],\n",
       "        [0.80192582]]])"
      ]
     },
     "execution_count": 183,
     "metadata": {},
     "output_type": "execute_result"
    }
   ],
   "source": [
    "np.append(X_train, "
   ]
  },
  {
   "cell_type": "code",
   "execution_count": 156,
   "id": "u69Lhd5piLjU",
   "metadata": {
    "colab": {
     "base_uri": "https://localhost:8080/",
     "height": 1000
    },
    "id": "u69Lhd5piLjU",
    "outputId": "838f9956-2ac5-49c3-80e5-6d59e3a1835c"
   },
   "outputs": [
    {
     "data": {
      "text/plain": [
       "array([[32947.977]], dtype=float32)"
      ]
     },
     "metadata": {},
     "output_type": "display_data"
    },
    {
     "data": {
      "text/plain": [
       "array([[30625.172]], dtype=float32)"
      ]
     },
     "metadata": {},
     "output_type": "display_data"
    },
    {
     "data": {
      "text/plain": [
       "array([[29674.363]], dtype=float32)"
      ]
     },
     "metadata": {},
     "output_type": "display_data"
    },
    {
     "data": {
      "text/plain": [
       "array([[28910.682]], dtype=float32)"
      ]
     },
     "metadata": {},
     "output_type": "display_data"
    },
    {
     "data": {
      "text/plain": [
       "array([[28412.217]], dtype=float32)"
      ]
     },
     "metadata": {},
     "output_type": "display_data"
    },
    {
     "data": {
      "text/plain": [
       "array([[27854.477]], dtype=float32)"
      ]
     },
     "metadata": {},
     "output_type": "display_data"
    },
    {
     "data": {
      "text/plain": [
       "array([[27608.4]], dtype=float32)"
      ]
     },
     "metadata": {},
     "output_type": "display_data"
    },
    {
     "data": {
      "text/plain": [
       "array([[28974.209]], dtype=float32)"
      ]
     },
     "metadata": {},
     "output_type": "display_data"
    },
    {
     "data": {
      "text/plain": [
       "array([[30429.523]], dtype=float32)"
      ]
     },
     "metadata": {},
     "output_type": "display_data"
    },
    {
     "data": {
      "text/plain": [
       "array([[32120.72]], dtype=float32)"
      ]
     },
     "metadata": {},
     "output_type": "display_data"
    },
    {
     "data": {
      "text/plain": [
       "array([[33651.164]], dtype=float32)"
      ]
     },
     "metadata": {},
     "output_type": "display_data"
    },
    {
     "data": {
      "text/plain": [
       "array([[33040.16]], dtype=float32)"
      ]
     },
     "metadata": {},
     "output_type": "display_data"
    },
    {
     "data": {
      "text/plain": [
       "array([[33005.258]], dtype=float32)"
      ]
     },
     "metadata": {},
     "output_type": "display_data"
    },
    {
     "data": {
      "text/plain": [
       "array([[33288.72]], dtype=float32)"
      ]
     },
     "metadata": {},
     "output_type": "display_data"
    },
    {
     "data": {
      "text/plain": [
       "array([[33845.39]], dtype=float32)"
      ]
     },
     "metadata": {},
     "output_type": "display_data"
    },
    {
     "data": {
      "text/plain": [
       "array([[34613.336]], dtype=float32)"
      ]
     },
     "metadata": {},
     "output_type": "display_data"
    },
    {
     "data": {
      "text/plain": [
       "array([[35592.684]], dtype=float32)"
      ]
     },
     "metadata": {},
     "output_type": "display_data"
    },
    {
     "data": {
      "text/plain": [
       "array([[36719.33]], dtype=float32)"
      ]
     },
     "metadata": {},
     "output_type": "display_data"
    },
    {
     "data": {
      "text/plain": [
       "array([[37696.395]], dtype=float32)"
      ]
     },
     "metadata": {},
     "output_type": "display_data"
    },
    {
     "data": {
      "text/plain": [
       "array([[38519.21]], dtype=float32)"
      ]
     },
     "metadata": {},
     "output_type": "display_data"
    },
    {
     "data": {
      "text/plain": [
       "array([[39159.414]], dtype=float32)"
      ]
     },
     "metadata": {},
     "output_type": "display_data"
    },
    {
     "data": {
      "text/plain": [
       "array([[39663.176]], dtype=float32)"
      ]
     },
     "metadata": {},
     "output_type": "display_data"
    },
    {
     "data": {
      "text/plain": [
       "array([[40434.473]], dtype=float32)"
      ]
     },
     "metadata": {},
     "output_type": "display_data"
    },
    {
     "data": {
      "text/plain": [
       "array([[41361.555]], dtype=float32)"
      ]
     },
     "metadata": {},
     "output_type": "display_data"
    },
    {
     "data": {
      "text/plain": [
       "array([[42381.91]], dtype=float32)"
      ]
     },
     "metadata": {},
     "output_type": "display_data"
    },
    {
     "data": {
      "text/plain": [
       "array([[43444.215]], dtype=float32)"
      ]
     },
     "metadata": {},
     "output_type": "display_data"
    },
    {
     "data": {
      "text/plain": [
       "array([[44511.88]], dtype=float32)"
      ]
     },
     "metadata": {},
     "output_type": "display_data"
    },
    {
     "data": {
      "text/plain": [
       "array([[45551.348]], dtype=float32)"
      ]
     },
     "metadata": {},
     "output_type": "display_data"
    },
    {
     "data": {
      "text/plain": [
       "array([[46543.254]], dtype=float32)"
      ]
     },
     "metadata": {},
     "output_type": "display_data"
    },
    {
     "data": {
      "text/plain": [
       "array([[47522.617]], dtype=float32)"
      ]
     },
     "metadata": {},
     "output_type": "display_data"
    },
    {
     "data": {
      "text/plain": [
       "array([[48522.984]], dtype=float32)"
      ]
     },
     "metadata": {},
     "output_type": "display_data"
    },
    {
     "data": {
      "text/plain": [
       "array([[49579.965]], dtype=float32)"
      ]
     },
     "metadata": {},
     "output_type": "display_data"
    },
    {
     "data": {
      "text/plain": [
       "array([[50717.56]], dtype=float32)"
      ]
     },
     "metadata": {},
     "output_type": "display_data"
    },
    {
     "data": {
      "text/plain": [
       "array([[51887.348]], dtype=float32)"
      ]
     },
     "metadata": {},
     "output_type": "display_data"
    },
    {
     "data": {
      "text/plain": [
       "array([[53062.742]], dtype=float32)"
      ]
     },
     "metadata": {},
     "output_type": "display_data"
    },
    {
     "data": {
      "text/plain": [
       "array([[54229.586]], dtype=float32)"
      ]
     },
     "metadata": {},
     "output_type": "display_data"
    },
    {
     "data": {
      "text/plain": [
       "array([[55383.402]], dtype=float32)"
      ]
     },
     "metadata": {},
     "output_type": "display_data"
    },
    {
     "data": {
      "text/plain": [
       "array([[56525.94]], dtype=float32)"
      ]
     },
     "metadata": {},
     "output_type": "display_data"
    },
    {
     "data": {
      "text/plain": [
       "array([[57663.914]], dtype=float32)"
      ]
     },
     "metadata": {},
     "output_type": "display_data"
    },
    {
     "data": {
      "text/plain": [
       "array([[58805.992]], dtype=float32)"
      ]
     },
     "metadata": {},
     "output_type": "display_data"
    },
    {
     "data": {
      "text/plain": [
       "array([[59953.723]], dtype=float32)"
      ]
     },
     "metadata": {},
     "output_type": "display_data"
    },
    {
     "data": {
      "text/plain": [
       "array([[61102.49]], dtype=float32)"
      ]
     },
     "metadata": {},
     "output_type": "display_data"
    },
    {
     "data": {
      "text/plain": [
       "array([[62241.855]], dtype=float32)"
      ]
     },
     "metadata": {},
     "output_type": "display_data"
    },
    {
     "data": {
      "text/plain": [
       "array([[63358.15]], dtype=float32)"
      ]
     },
     "metadata": {},
     "output_type": "display_data"
    },
    {
     "data": {
      "text/plain": [
       "array([[64445.727]], dtype=float32)"
      ]
     },
     "metadata": {},
     "output_type": "display_data"
    },
    {
     "data": {
      "text/plain": [
       "array([[65502.996]], dtype=float32)"
      ]
     },
     "metadata": {},
     "output_type": "display_data"
    },
    {
     "data": {
      "text/plain": [
       "array([[66530.16]], dtype=float32)"
      ]
     },
     "metadata": {},
     "output_type": "display_data"
    },
    {
     "data": {
      "text/plain": [
       "array([[67527.69]], dtype=float32)"
      ]
     },
     "metadata": {},
     "output_type": "display_data"
    },
    {
     "data": {
      "text/plain": [
       "array([[68495.32]], dtype=float32)"
      ]
     },
     "metadata": {},
     "output_type": "display_data"
    },
    {
     "data": {
      "text/plain": [
       "array([[69431.484]], dtype=float32)"
      ]
     },
     "metadata": {},
     "output_type": "display_data"
    },
    {
     "data": {
      "text/plain": [
       "array([[70333.29]], dtype=float32)"
      ]
     },
     "metadata": {},
     "output_type": "display_data"
    },
    {
     "data": {
      "text/plain": [
       "array([[71197.55]], dtype=float32)"
      ]
     },
     "metadata": {},
     "output_type": "display_data"
    },
    {
     "data": {
      "text/plain": [
       "array([[72021.78]], dtype=float32)"
      ]
     },
     "metadata": {},
     "output_type": "display_data"
    },
    {
     "data": {
      "text/plain": [
       "array([[72804.87]], dtype=float32)"
      ]
     },
     "metadata": {},
     "output_type": "display_data"
    },
    {
     "data": {
      "text/plain": [
       "array([[73547.35]], dtype=float32)"
      ]
     },
     "metadata": {},
     "output_type": "display_data"
    },
    {
     "data": {
      "text/plain": [
       "array([[74250.23]], dtype=float32)"
      ]
     },
     "metadata": {},
     "output_type": "display_data"
    },
    {
     "data": {
      "text/plain": [
       "array([[74914.62]], dtype=float32)"
      ]
     },
     "metadata": {},
     "output_type": "display_data"
    },
    {
     "data": {
      "text/plain": [
       "array([[75541.39]], dtype=float32)"
      ]
     },
     "metadata": {},
     "output_type": "display_data"
    },
    {
     "data": {
      "text/plain": [
       "array([[76131.27]], dtype=float32)"
      ]
     },
     "metadata": {},
     "output_type": "display_data"
    },
    {
     "data": {
      "text/plain": [
       "array([[76684.89]], dtype=float32)"
      ]
     },
     "metadata": {},
     "output_type": "display_data"
    },
    {
     "data": {
      "text/plain": [
       "array([[77203.07]], dtype=float32)"
      ]
     },
     "metadata": {},
     "output_type": "display_data"
    },
    {
     "data": {
      "text/plain": [
       "array([[77686.87]], dtype=float32)"
      ]
     },
     "metadata": {},
     "output_type": "display_data"
    },
    {
     "data": {
      "text/plain": [
       "array([[78137.68]], dtype=float32)"
      ]
     },
     "metadata": {},
     "output_type": "display_data"
    },
    {
     "data": {
      "text/plain": [
       "array([[78557.164]], dtype=float32)"
      ]
     },
     "metadata": {},
     "output_type": "display_data"
    },
    {
     "data": {
      "text/plain": [
       "array([[78947.055]], dtype=float32)"
      ]
     },
     "metadata": {},
     "output_type": "display_data"
    },
    {
     "data": {
      "text/plain": [
       "array([[79309.01]], dtype=float32)"
      ]
     },
     "metadata": {},
     "output_type": "display_data"
    },
    {
     "data": {
      "text/plain": [
       "array([[79644.63]], dtype=float32)"
      ]
     },
     "metadata": {},
     "output_type": "display_data"
    },
    {
     "data": {
      "text/plain": [
       "array([[79955.375]], dtype=float32)"
      ]
     },
     "metadata": {},
     "output_type": "display_data"
    },
    {
     "data": {
      "text/plain": [
       "array([[80242.68]], dtype=float32)"
      ]
     },
     "metadata": {},
     "output_type": "display_data"
    },
    {
     "data": {
      "text/plain": [
       "array([[80507.96]], dtype=float32)"
      ]
     },
     "metadata": {},
     "output_type": "display_data"
    },
    {
     "data": {
      "text/plain": [
       "array([[80752.6]], dtype=float32)"
      ]
     },
     "metadata": {},
     "output_type": "display_data"
    },
    {
     "data": {
      "text/plain": [
       "array([[80978.01]], dtype=float32)"
      ]
     },
     "metadata": {},
     "output_type": "display_data"
    },
    {
     "data": {
      "text/plain": [
       "array([[81185.53]], dtype=float32)"
      ]
     },
     "metadata": {},
     "output_type": "display_data"
    },
    {
     "data": {
      "text/plain": [
       "array([[81376.48]], dtype=float32)"
      ]
     },
     "metadata": {},
     "output_type": "display_data"
    },
    {
     "data": {
      "text/plain": [
       "array([[81552.05]], dtype=float32)"
      ]
     },
     "metadata": {},
     "output_type": "display_data"
    },
    {
     "data": {
      "text/plain": [
       "array([[81713.375]], dtype=float32)"
      ]
     },
     "metadata": {},
     "output_type": "display_data"
    },
    {
     "data": {
      "text/plain": [
       "array([[81861.52]], dtype=float32)"
      ]
     },
     "metadata": {},
     "output_type": "display_data"
    },
    {
     "data": {
      "text/plain": [
       "array([[81997.47]], dtype=float32)"
      ]
     },
     "metadata": {},
     "output_type": "display_data"
    },
    {
     "data": {
      "text/plain": [
       "array([[82122.13]], dtype=float32)"
      ]
     },
     "metadata": {},
     "output_type": "display_data"
    },
    {
     "data": {
      "text/plain": [
       "array([[82236.41]], dtype=float32)"
      ]
     },
     "metadata": {},
     "output_type": "display_data"
    },
    {
     "data": {
      "text/plain": [
       "array([[82341.086]], dtype=float32)"
      ]
     },
     "metadata": {},
     "output_type": "display_data"
    },
    {
     "data": {
      "text/plain": [
       "array([[82436.98]], dtype=float32)"
      ]
     },
     "metadata": {},
     "output_type": "display_data"
    },
    {
     "data": {
      "text/plain": [
       "array([[82524.766]], dtype=float32)"
      ]
     },
     "metadata": {},
     "output_type": "display_data"
    },
    {
     "data": {
      "text/plain": [
       "array([[82605.1]], dtype=float32)"
      ]
     },
     "metadata": {},
     "output_type": "display_data"
    },
    {
     "data": {
      "text/plain": [
       "array([[82678.625]], dtype=float32)"
      ]
     },
     "metadata": {},
     "output_type": "display_data"
    },
    {
     "data": {
      "text/plain": [
       "array([[82745.88]], dtype=float32)"
      ]
     },
     "metadata": {},
     "output_type": "display_data"
    },
    {
     "data": {
      "text/plain": [
       "array([[82807.39]], dtype=float32)"
      ]
     },
     "metadata": {},
     "output_type": "display_data"
    },
    {
     "data": {
      "text/plain": [
       "array([[82863.6]], dtype=float32)"
      ]
     },
     "metadata": {},
     "output_type": "display_data"
    },
    {
     "data": {
      "text/plain": [
       "array([[82914.96]], dtype=float32)"
      ]
     },
     "metadata": {},
     "output_type": "display_data"
    },
    {
     "data": {
      "text/plain": [
       "array([[82961.94]], dtype=float32)"
      ]
     },
     "metadata": {},
     "output_type": "display_data"
    },
    {
     "data": {
      "text/plain": [
       "array([[83004.83]], dtype=float32)"
      ]
     },
     "metadata": {},
     "output_type": "display_data"
    },
    {
     "data": {
      "text/plain": [
       "array([[83044.016]], dtype=float32)"
      ]
     },
     "metadata": {},
     "output_type": "display_data"
    },
    {
     "data": {
      "text/plain": [
       "array([[83079.8]], dtype=float32)"
      ]
     },
     "metadata": {},
     "output_type": "display_data"
    },
    {
     "data": {
      "text/plain": [
       "array([[83112.484]], dtype=float32)"
      ]
     },
     "metadata": {},
     "output_type": "display_data"
    },
    {
     "data": {
      "text/plain": [
       "array([[83142.33]], dtype=float32)"
      ]
     },
     "metadata": {},
     "output_type": "display_data"
    },
    {
     "data": {
      "text/plain": [
       "array([[83169.586]], dtype=float32)"
      ]
     },
     "metadata": {},
     "output_type": "display_data"
    },
    {
     "data": {
      "text/plain": [
       "array([[83194.47]], dtype=float32)"
      ]
     },
     "metadata": {},
     "output_type": "display_data"
    },
    {
     "data": {
      "text/plain": [
       "array([[83217.17]], dtype=float32)"
      ]
     },
     "metadata": {},
     "output_type": "display_data"
    },
    {
     "data": {
      "text/plain": [
       "array([[83237.89]], dtype=float32)"
      ]
     },
     "metadata": {},
     "output_type": "display_data"
    },
    {
     "data": {
      "text/plain": [
       "array([[83256.79]], dtype=float32)"
      ]
     },
     "metadata": {},
     "output_type": "display_data"
    },
    {
     "data": {
      "text/plain": [
       "array([[83274.08]], dtype=float32)"
      ]
     },
     "metadata": {},
     "output_type": "display_data"
    },
    {
     "data": {
      "text/plain": [
       "array([[83289.81]], dtype=float32)"
      ]
     },
     "metadata": {},
     "output_type": "display_data"
    },
    {
     "data": {
      "text/plain": [
       "array([[83304.19]], dtype=float32)"
      ]
     },
     "metadata": {},
     "output_type": "display_data"
    },
    {
     "data": {
      "text/plain": [
       "array([[83317.3]], dtype=float32)"
      ]
     },
     "metadata": {},
     "output_type": "display_data"
    },
    {
     "data": {
      "text/plain": [
       "array([[83329.27]], dtype=float32)"
      ]
     },
     "metadata": {},
     "output_type": "display_data"
    },
    {
     "data": {
      "text/plain": [
       "array([[83340.19]], dtype=float32)"
      ]
     },
     "metadata": {},
     "output_type": "display_data"
    },
    {
     "data": {
      "text/plain": [
       "array([[83350.13]], dtype=float32)"
      ]
     },
     "metadata": {},
     "output_type": "display_data"
    },
    {
     "data": {
      "text/plain": [
       "array([[83359.2]], dtype=float32)"
      ]
     },
     "metadata": {},
     "output_type": "display_data"
    },
    {
     "data": {
      "text/plain": [
       "array([[83367.516]], dtype=float32)"
      ]
     },
     "metadata": {},
     "output_type": "display_data"
    },
    {
     "data": {
      "text/plain": [
       "array([[83375.06]], dtype=float32)"
      ]
     },
     "metadata": {},
     "output_type": "display_data"
    },
    {
     "data": {
      "text/plain": [
       "array([[83381.95]], dtype=float32)"
      ]
     },
     "metadata": {},
     "output_type": "display_data"
    },
    {
     "data": {
      "text/plain": [
       "array([[83388.26]], dtype=float32)"
      ]
     },
     "metadata": {},
     "output_type": "display_data"
    },
    {
     "data": {
      "text/plain": [
       "array([[83393.984]], dtype=float32)"
      ]
     },
     "metadata": {},
     "output_type": "display_data"
    },
    {
     "data": {
      "text/plain": [
       "array([[83399.21]], dtype=float32)"
      ]
     },
     "metadata": {},
     "output_type": "display_data"
    },
    {
     "data": {
      "text/plain": [
       "array([[83403.99]], dtype=float32)"
      ]
     },
     "metadata": {},
     "output_type": "display_data"
    },
    {
     "data": {
      "text/plain": [
       "array([[83408.336]], dtype=float32)"
      ]
     },
     "metadata": {},
     "output_type": "display_data"
    },
    {
     "data": {
      "text/plain": [
       "array([[83412.305]], dtype=float32)"
      ]
     },
     "metadata": {},
     "output_type": "display_data"
    },
    {
     "data": {
      "text/plain": [
       "array([[83415.92]], dtype=float32)"
      ]
     },
     "metadata": {},
     "output_type": "display_data"
    },
    {
     "data": {
      "text/plain": [
       "array([[83419.23]], dtype=float32)"
      ]
     },
     "metadata": {},
     "output_type": "display_data"
    },
    {
     "data": {
      "text/plain": [
       "array([[83422.234]], dtype=float32)"
      ]
     },
     "metadata": {},
     "output_type": "display_data"
    },
    {
     "data": {
      "text/plain": [
       "array([[83424.99]], dtype=float32)"
      ]
     },
     "metadata": {},
     "output_type": "display_data"
    },
    {
     "data": {
      "text/plain": [
       "array([[83427.5]], dtype=float32)"
      ]
     },
     "metadata": {},
     "output_type": "display_data"
    },
    {
     "data": {
      "text/plain": [
       "array([[83429.77]], dtype=float32)"
      ]
     },
     "metadata": {},
     "output_type": "display_data"
    },
    {
     "data": {
      "text/plain": [
       "array([[83431.86]], dtype=float32)"
      ]
     },
     "metadata": {},
     "output_type": "display_data"
    },
    {
     "data": {
      "text/plain": [
       "array([[83433.74]], dtype=float32)"
      ]
     },
     "metadata": {},
     "output_type": "display_data"
    },
    {
     "data": {
      "text/plain": [
       "array([[83435.484]], dtype=float32)"
      ]
     },
     "metadata": {},
     "output_type": "display_data"
    },
    {
     "data": {
      "text/plain": [
       "array([[83437.055]], dtype=float32)"
      ]
     },
     "metadata": {},
     "output_type": "display_data"
    },
    {
     "data": {
      "text/plain": [
       "array([[83438.51]], dtype=float32)"
      ]
     },
     "metadata": {},
     "output_type": "display_data"
    },
    {
     "data": {
      "text/plain": [
       "array([[83439.82]], dtype=float32)"
      ]
     },
     "metadata": {},
     "output_type": "display_data"
    },
    {
     "data": {
      "text/plain": [
       "array([[83441.016]], dtype=float32)"
      ]
     },
     "metadata": {},
     "output_type": "display_data"
    },
    {
     "data": {
      "text/plain": [
       "array([[83442.12]], dtype=float32)"
      ]
     },
     "metadata": {},
     "output_type": "display_data"
    },
    {
     "data": {
      "text/plain": [
       "array([[83443.11]], dtype=float32)"
      ]
     },
     "metadata": {},
     "output_type": "display_data"
    },
    {
     "data": {
      "text/plain": [
       "array([[83444.016]], dtype=float32)"
      ]
     },
     "metadata": {},
     "output_type": "display_data"
    },
    {
     "data": {
      "text/plain": [
       "array([[83444.836]], dtype=float32)"
      ]
     },
     "metadata": {},
     "output_type": "display_data"
    },
    {
     "data": {
      "text/plain": [
       "array([[83445.61]], dtype=float32)"
      ]
     },
     "metadata": {},
     "output_type": "display_data"
    },
    {
     "data": {
      "text/plain": [
       "array([[83446.28]], dtype=float32)"
      ]
     },
     "metadata": {},
     "output_type": "display_data"
    },
    {
     "data": {
      "text/plain": [
       "array([[83446.92]], dtype=float32)"
      ]
     },
     "metadata": {},
     "output_type": "display_data"
    },
    {
     "data": {
      "text/plain": [
       "array([[83447.484]], dtype=float32)"
      ]
     },
     "metadata": {},
     "output_type": "display_data"
    },
    {
     "data": {
      "text/plain": [
       "array([[83448.01]], dtype=float32)"
      ]
     },
     "metadata": {},
     "output_type": "display_data"
    },
    {
     "data": {
      "text/plain": [
       "array([[83448.48]], dtype=float32)"
      ]
     },
     "metadata": {},
     "output_type": "display_data"
    },
    {
     "data": {
      "text/plain": [
       "array([[83448.914]], dtype=float32)"
      ]
     },
     "metadata": {},
     "output_type": "display_data"
    },
    {
     "data": {
      "text/plain": [
       "array([[83449.31]], dtype=float32)"
      ]
     },
     "metadata": {},
     "output_type": "display_data"
    },
    {
     "data": {
      "text/plain": [
       "array([[83449.68]], dtype=float32)"
      ]
     },
     "metadata": {},
     "output_type": "display_data"
    },
    {
     "data": {
      "text/plain": [
       "array([[83450.016]], dtype=float32)"
      ]
     },
     "metadata": {},
     "output_type": "display_data"
    },
    {
     "data": {
      "text/plain": [
       "array([[83450.305]], dtype=float32)"
      ]
     },
     "metadata": {},
     "output_type": "display_data"
    },
    {
     "data": {
      "text/plain": [
       "array([[83450.586]], dtype=float32)"
      ]
     },
     "metadata": {},
     "output_type": "display_data"
    },
    {
     "data": {
      "text/plain": [
       "array([[83450.836]], dtype=float32)"
      ]
     },
     "metadata": {},
     "output_type": "display_data"
    },
    {
     "data": {
      "text/plain": [
       "array([[83451.06]], dtype=float32)"
      ]
     },
     "metadata": {},
     "output_type": "display_data"
    },
    {
     "data": {
      "text/plain": [
       "array([[83451.27]], dtype=float32)"
      ]
     },
     "metadata": {},
     "output_type": "display_data"
    },
    {
     "data": {
      "text/plain": [
       "array([[83451.46]], dtype=float32)"
      ]
     },
     "metadata": {},
     "output_type": "display_data"
    },
    {
     "data": {
      "text/plain": [
       "array([[83451.625]], dtype=float32)"
      ]
     },
     "metadata": {},
     "output_type": "display_data"
    },
    {
     "data": {
      "text/plain": [
       "array([[83451.8]], dtype=float32)"
      ]
     },
     "metadata": {},
     "output_type": "display_data"
    },
    {
     "data": {
      "text/plain": [
       "array([[83451.93]], dtype=float32)"
      ]
     },
     "metadata": {},
     "output_type": "display_data"
    },
    {
     "data": {
      "text/plain": [
       "array([[83452.08]], dtype=float32)"
      ]
     },
     "metadata": {},
     "output_type": "display_data"
    },
    {
     "data": {
      "text/plain": [
       "array([[83452.18]], dtype=float32)"
      ]
     },
     "metadata": {},
     "output_type": "display_data"
    },
    {
     "data": {
      "text/plain": [
       "array([[83452.3]], dtype=float32)"
      ]
     },
     "metadata": {},
     "output_type": "display_data"
    },
    {
     "data": {
      "text/plain": [
       "array([[83452.39]], dtype=float32)"
      ]
     },
     "metadata": {},
     "output_type": "display_data"
    },
    {
     "data": {
      "text/plain": [
       "array([[83452.484]], dtype=float32)"
      ]
     },
     "metadata": {},
     "output_type": "display_data"
    },
    {
     "data": {
      "text/plain": [
       "array([[83452.57]], dtype=float32)"
      ]
     },
     "metadata": {},
     "output_type": "display_data"
    },
    {
     "data": {
      "text/plain": [
       "array([[83452.65]], dtype=float32)"
      ]
     },
     "metadata": {},
     "output_type": "display_data"
    },
    {
     "data": {
      "text/plain": [
       "array([[83452.71]], dtype=float32)"
      ]
     },
     "metadata": {},
     "output_type": "display_data"
    },
    {
     "data": {
      "text/plain": [
       "array([[83452.77]], dtype=float32)"
      ]
     },
     "metadata": {},
     "output_type": "display_data"
    },
    {
     "data": {
      "text/plain": [
       "array([[83452.836]], dtype=float32)"
      ]
     },
     "metadata": {},
     "output_type": "display_data"
    },
    {
     "data": {
      "text/plain": [
       "array([[83452.875]], dtype=float32)"
      ]
     },
     "metadata": {},
     "output_type": "display_data"
    },
    {
     "data": {
      "text/plain": [
       "array([[83452.94]], dtype=float32)"
      ]
     },
     "metadata": {},
     "output_type": "display_data"
    },
    {
     "data": {
      "text/plain": [
       "array([[83452.97]], dtype=float32)"
      ]
     },
     "metadata": {},
     "output_type": "display_data"
    },
    {
     "data": {
      "text/plain": [
       "array([[83453.016]], dtype=float32)"
      ]
     },
     "metadata": {},
     "output_type": "display_data"
    },
    {
     "data": {
      "text/plain": [
       "array([[83453.05]], dtype=float32)"
      ]
     },
     "metadata": {},
     "output_type": "display_data"
    },
    {
     "data": {
      "text/plain": [
       "array([[83453.086]], dtype=float32)"
      ]
     },
     "metadata": {},
     "output_type": "display_data"
    },
    {
     "data": {
      "text/plain": [
       "array([[83453.12]], dtype=float32)"
      ]
     },
     "metadata": {},
     "output_type": "display_data"
    },
    {
     "data": {
      "text/plain": [
       "array([[83453.14]], dtype=float32)"
      ]
     },
     "metadata": {},
     "output_type": "display_data"
    },
    {
     "data": {
      "text/plain": [
       "array([[83453.164]], dtype=float32)"
      ]
     },
     "metadata": {},
     "output_type": "display_data"
    },
    {
     "data": {
      "text/plain": [
       "array([[83453.18]], dtype=float32)"
      ]
     },
     "metadata": {},
     "output_type": "display_data"
    },
    {
     "data": {
      "text/plain": [
       "array([[83453.21]], dtype=float32)"
      ]
     },
     "metadata": {},
     "output_type": "display_data"
    },
    {
     "data": {
      "text/plain": [
       "array([[83453.23]], dtype=float32)"
      ]
     },
     "metadata": {},
     "output_type": "display_data"
    },
    {
     "data": {
      "text/plain": [
       "array([[83453.25]], dtype=float32)"
      ]
     },
     "metadata": {},
     "output_type": "display_data"
    },
    {
     "data": {
      "text/plain": [
       "array([[83453.26]], dtype=float32)"
      ]
     },
     "metadata": {},
     "output_type": "display_data"
    },
    {
     "data": {
      "text/plain": [
       "array([[83453.27]], dtype=float32)"
      ]
     },
     "metadata": {},
     "output_type": "display_data"
    },
    {
     "data": {
      "text/plain": [
       "array([[83453.29]], dtype=float32)"
      ]
     },
     "metadata": {},
     "output_type": "display_data"
    },
    {
     "data": {
      "text/plain": [
       "array([[83453.29]], dtype=float32)"
      ]
     },
     "metadata": {},
     "output_type": "display_data"
    },
    {
     "data": {
      "text/plain": [
       "array([[83453.3]], dtype=float32)"
      ]
     },
     "metadata": {},
     "output_type": "display_data"
    },
    {
     "data": {
      "text/plain": [
       "array([[83453.31]], dtype=float32)"
      ]
     },
     "metadata": {},
     "output_type": "display_data"
    },
    {
     "data": {
      "text/plain": [
       "array([[83453.32]], dtype=float32)"
      ]
     },
     "metadata": {},
     "output_type": "display_data"
    },
    {
     "data": {
      "text/plain": [
       "array([[83453.33]], dtype=float32)"
      ]
     },
     "metadata": {},
     "output_type": "display_data"
    },
    {
     "data": {
      "text/plain": [
       "array([[83453.336]], dtype=float32)"
      ]
     },
     "metadata": {},
     "output_type": "display_data"
    },
    {
     "data": {
      "text/plain": [
       "array([[83453.336]], dtype=float32)"
      ]
     },
     "metadata": {},
     "output_type": "display_data"
    },
    {
     "data": {
      "text/plain": [
       "array([[83453.34]], dtype=float32)"
      ]
     },
     "metadata": {},
     "output_type": "display_data"
    },
    {
     "data": {
      "text/plain": [
       "array([[83453.34]], dtype=float32)"
      ]
     },
     "metadata": {},
     "output_type": "display_data"
    },
    {
     "data": {
      "text/plain": [
       "array([[83453.35]], dtype=float32)"
      ]
     },
     "metadata": {},
     "output_type": "display_data"
    },
    {
     "data": {
      "text/plain": [
       "array([[83453.36]], dtype=float32)"
      ]
     },
     "metadata": {},
     "output_type": "display_data"
    },
    {
     "data": {
      "text/plain": [
       "array([[83453.36]], dtype=float32)"
      ]
     },
     "metadata": {},
     "output_type": "display_data"
    },
    {
     "data": {
      "text/plain": [
       "array([[83453.37]], dtype=float32)"
      ]
     },
     "metadata": {},
     "output_type": "display_data"
    },
    {
     "data": {
      "text/plain": [
       "array([[83453.375]], dtype=float32)"
      ]
     },
     "metadata": {},
     "output_type": "display_data"
    },
    {
     "data": {
      "text/plain": [
       "array([[83453.38]], dtype=float32)"
      ]
     },
     "metadata": {},
     "output_type": "display_data"
    },
    {
     "data": {
      "text/plain": [
       "array([[83453.38]], dtype=float32)"
      ]
     },
     "metadata": {},
     "output_type": "display_data"
    },
    {
     "data": {
      "text/plain": [
       "array([[83453.38]], dtype=float32)"
      ]
     },
     "metadata": {},
     "output_type": "display_data"
    },
    {
     "data": {
      "text/plain": [
       "array([[83453.38]], dtype=float32)"
      ]
     },
     "metadata": {},
     "output_type": "display_data"
    },
    {
     "data": {
      "text/plain": [
       "array([[83453.39]], dtype=float32)"
      ]
     },
     "metadata": {},
     "output_type": "display_data"
    },
    {
     "data": {
      "text/plain": [
       "array([[83453.39]], dtype=float32)"
      ]
     },
     "metadata": {},
     "output_type": "display_data"
    },
    {
     "data": {
      "text/plain": [
       "array([[83453.39]], dtype=float32)"
      ]
     },
     "metadata": {},
     "output_type": "display_data"
    }
   ],
   "source": [
    "last_input=df.iloc[-window_size:, :]['Close'].values\n",
    "for i in range(200): \n",
    "  input_array=last_input[-window_size:]\n",
    "  # display(input_array)\n",
    "  input_scaled=X_scaler.transform([input_array])\n",
    "  input_reshaped=input_scaled.reshape(1, window_size, 1)\n",
    "  prediction_scaled=model.predict(input_reshaped)\n",
    "  \n",
    "  next_prediction=y_scaler.inverse_transform(prediction_scaled)\n",
    "  display(next_prediction)\n",
    "  last_input=np.append(last_input, next_prediction)"
   ]
  },
  {
   "cell_type": "code",
   "execution_count": 157,
   "id": "lu0vF71vkTrE",
   "metadata": {
    "colab": {
     "base_uri": "https://localhost:8080/",
     "height": 282
    },
    "id": "lu0vF71vkTrE",
    "outputId": "64b4b4f4-9f1a-4d00-c23c-47a5ed1e7ce9"
   },
   "outputs": [
    {
     "data": {
      "text/plain": [
       "[<matplotlib.lines.Line2D at 0x7f4f210135d0>]"
      ]
     },
     "execution_count": 157,
     "metadata": {},
     "output_type": "execute_result"
    },
    {
     "data": {
      "image/png": "[encoded data removed]",
      "text/plain": [
       "<Figure size 432x288 with 1 Axes>"
      ]
     },
     "metadata": {
      "needs_background": "light"
     },
     "output_type": "display_data"
    }
   ],
   "source": [
    "plt.plot(last_input)"
   ]
  },
  {
   "cell_type": "code",
   "execution_count": 184,
   "id": "vDJ1qU4-lBXR",
   "metadata": {
    "id": "vDJ1qU4-lBXR"
   },
   "outputs": [],
   "source": [
    "### New Approach ###"
   ]
  },
  {
   "cell_type": "code",
   "execution_count": 267,
   "id": "uuVM4BgEqFIj",
   "metadata": {
    "id": "uuVM4BgEqFIj"
   },
   "outputs": [],
   "source": [
    "df=pd.read_csv('BTC-USD.csv', index_col='Date', infer_datetime_format=True, parse_dates=True)"
   ]
  },
  {
   "cell_type": "code",
   "execution_count": 16,
   "id": "175mWZdxqFIm",
   "metadata": {
    "id": "175mWZdxqFIm"
   },
   "outputs": [],
   "source": [
    "def window_data(df, window, feature_col_number, target_col_number):\n",
    "    X = []\n",
    "    y = []\n",
    "    for i in range(len(df) - window - 1): # i in range(3000-10-1) # i in range(2989)\n",
    "        features = df.iloc[i:(i + window), feature_col_number] # df.iloc[0: 10, 'Close']\n",
    "        target = df.iloc[(i + window), target_col_number] # df.iloc[10, 'Close']\n",
    "        X.append(features)\n",
    "        y.append(target)\n",
    "    return np.array(X), np.array(y).reshape(-1, 1)"
   ]
  },
  {
   "cell_type": "code",
   "execution_count": 17,
   "id": "DebQumzWqFIm",
   "metadata": {
    "id": "DebQumzWqFIm"
   },
   "outputs": [],
   "source": [
    "window_size=10"
   ]
  },
  {
   "cell_type": "code",
   "execution_count": 53,
   "id": "jjA0K-sEqFIm",
   "metadata": {
    "colab": {
     "base_uri": "https://localhost:8080/",
     "height": 364
    },
    "id": "jjA0K-sEqFIm",
    "outputId": "d397bff8-4e3b-4b44-b021-d0606bf5599a"
   },
   "outputs": [
    {
     "data": {
      "text/plain": [
       "array([[10817.15527344, 10583.13476562, 10801.67773438, ...,\n",
       "        11450.84667969, 12285.95800781, 12573.8125    ],\n",
       "       [10583.13476562, 10801.67773438, 11961.26953125, ...,\n",
       "        12285.95800781, 12573.8125    , 12156.51269531],\n",
       "       [10801.67773438, 11961.26953125, 11215.4375    , ...,\n",
       "        12573.8125    , 12156.51269531, 11358.66210938],\n",
       "       ...,\n",
       "       [20471.48242188, 19017.64257812, 20553.27148438, ...,\n",
       "        21231.65625   , 21502.33789062, 21027.29492188],\n",
       "       [19017.64257812, 20553.27148438, 20599.53710938, ...,\n",
       "        21502.33789062, 21027.29492188, 20735.47851562],\n",
       "       [20553.27148438, 20599.53710938, 20710.59765625, ...,\n",
       "        21027.29492188, 20735.47851562, 20280.63476562]])"
      ]
     },
     "metadata": {},
     "output_type": "display_data"
    },
    {
     "data": {
      "text/plain": [
       "array([[12156.51269531],\n",
       "       [11358.66210938],\n",
       "       [11815.98632812],\n",
       "       ...,\n",
       "       [20735.47851562],\n",
       "       [20280.63476562],\n",
       "       [20104.0234375 ]])"
      ]
     },
     "metadata": {},
     "output_type": "display_data"
    }
   ],
   "source": [
    "X, y=window_data(df, window_size, 3, 3)\n",
    "display(X)\n",
    "display(y)"
   ]
  },
  {
   "cell_type": "code",
   "execution_count": 54,
   "id": "q2mvdEAiqFIm",
   "metadata": {
    "id": "q2mvdEAiqFIm"
   },
   "outputs": [],
   "source": [
    "from sklearn.preprocessing import MinMaxScaler\n",
    "X_scaler=MinMaxScaler()\n",
    "X_scaler.fit(X)\n",
    "X_scaled=X_scaler.transform(X)"
   ]
  },
  {
   "cell_type": "code",
   "execution_count": 55,
   "id": "8QYKvOjQqFIn",
   "metadata": {
    "id": "8QYKvOjQqFIn"
   },
   "outputs": [],
   "source": [
    "y_scaler=MinMaxScaler()\n",
    "y_scaler.fit(y)\n",
    "y_scaled=y_scaler.transform(y)\n"
   ]
  },
  {
   "cell_type": "code",
   "execution_count": 56,
   "id": "GZuAtUTQqFIn",
   "metadata": {
    "colab": {
     "base_uri": "https://localhost:8080/",
     "height": 34
    },
    "id": "GZuAtUTQqFIn",
    "outputId": "c490aef2-ecba-400e-9ad5-202b6c1ec52f"
   },
   "outputs": [
    {
     "data": {
      "text/plain": [
       "(1086, 10)"
      ]
     },
     "metadata": {},
     "output_type": "display_data"
    }
   ],
   "source": [
    "X_scaled=X_scaled.reshape(X_scaled.shape[0], X_scaled.shape[1], 1)\n",
    "display(X.shape)"
   ]
  },
  {
   "cell_type": "code",
   "execution_count": 57,
   "id": "i6bEcPXqqFIn",
   "metadata": {
    "id": "i6bEcPXqqFIn"
   },
   "outputs": [],
   "source": [
    "model=Sequential()\n",
    "first_lstm_layer=LSTM(units=30, return_sequences=True, input_shape=(window_size, 1))\n",
    "model.add(first_lstm_layer)\n",
    "first_dropout_layer=Dropout(0.2)\n",
    "model.add(first_dropout_layer)\n",
    "second_lstm_layer=LSTM(units=30, return_sequences=True)\n",
    "model.add(second_lstm_layer)\n",
    "second_dropout_layer=Dropout(0.2)\n",
    "model.add(second_dropout_layer)\n",
    "third_lstm_layer=LSTM(units=30)\n",
    "model.add(third_lstm_layer)\n",
    "output_layer=Dense(units=1, activation='linear')\n",
    "model.add(output_layer)"
   ]
  },
  {
   "cell_type": "code",
   "execution_count": 58,
   "id": "8qTpRoYpqFIo",
   "metadata": {
    "id": "8qTpRoYpqFIo"
   },
   "outputs": [],
   "source": [
    "model.compile(loss='mean_squared_error', optimizer='adam', metrics='mean_squared_error')"
   ]
  },
  {
   "cell_type": "code",
   "execution_count": 59,
   "id": "F76x8vPIqFIo",
   "metadata": {
    "colab": {
     "base_uri": "https://localhost:8080/"
    },
    "id": "F76x8vPIqFIo",
    "outputId": "94df8fb7-fbe8-491a-dacd-9adaa2e4a34e"
   },
   "outputs": [
    {
     "name": "stdout",
     "output_type": "stream",
     "text": [
      "Model: \"sequential_1\"\n",
      "_________________________________________________________________\n",
      " Layer (type)                Output Shape              Param #   \n",
      "=================================================================\n",
      " lstm_3 (LSTM)               (None, 10, 30)            3840      \n",
      "                                                                 \n",
      " dropout_2 (Dropout)         (None, 10, 30)            0         \n",
      "                                                                 \n",
      " lstm_4 (LSTM)               (None, 10, 30)            7320      \n",
      "                                                                 \n",
      " dropout_3 (Dropout)         (None, 10, 30)            0         \n",
      "                                                                 \n",
      " lstm_5 (LSTM)               (None, 30)                7320      \n",
      "                                                                 \n",
      " dense_1 (Dense)             (None, 1)                 31        \n",
      "                                                                 \n",
      "=================================================================\n",
      "Total params: 18,511\n",
      "Trainable params: 18,511\n",
      "Non-trainable params: 0\n",
      "_________________________________________________________________\n"
     ]
    }
   ],
   "source": [
    "model.summary()"
   ]
  },
  {
   "cell_type": "code",
   "execution_count": 60,
   "id": "2P_Jpt9QqFIo",
   "metadata": {
    "colab": {
     "base_uri": "https://localhost:8080/"
    },
    "id": "2P_Jpt9QqFIo",
    "outputId": "8b32aaa3-0eef-4f13-d70f-cdb569075d05"
   },
   "outputs": [
    {
     "name": "stdout",
     "output_type": "stream",
     "text": [
      "Epoch 1/10\n",
      "34/34 [==============================] - 7s 21ms/step - loss: 0.0560 - mean_squared_error: 0.0560\n",
      "Epoch 2/10\n",
      "34/34 [==============================] - 1s 20ms/step - loss: 0.0048 - mean_squared_error: 0.0048\n",
      "Epoch 3/10\n",
      "34/34 [==============================] - 1s 18ms/step - loss: 0.0032 - mean_squared_error: 0.0032\n",
      "Epoch 4/10\n",
      "34/34 [==============================] - 1s 21ms/step - loss: 0.0032 - mean_squared_error: 0.0032\n",
      "Epoch 5/10\n",
      "34/34 [==============================] - 1s 19ms/step - loss: 0.0033 - mean_squared_error: 0.0033\n",
      "Epoch 6/10\n",
      "34/34 [==============================] - 1s 23ms/step - loss: 0.0030 - mean_squared_error: 0.0030\n",
      "Epoch 7/10\n",
      "34/34 [==============================] - 1s 18ms/step - loss: 0.0029 - mean_squared_error: 0.0029\n",
      "Epoch 8/10\n",
      "34/34 [==============================] - 1s 19ms/step - loss: 0.0030 - mean_squared_error: 0.0030\n",
      "Epoch 9/10\n",
      "34/34 [==============================] - 1s 24ms/step - loss: 0.0029 - mean_squared_error: 0.0029\n",
      "Epoch 10/10\n",
      "34/34 [==============================] - 1s 20ms/step - loss: 0.0028 - mean_squared_error: 0.0028\n"
     ]
    },
    {
     "data": {
      "text/plain": [
       "<keras.callbacks.History at 0x152923890>"
      ]
     },
     "execution_count": 60,
     "metadata": {},
     "output_type": "execute_result"
    }
   ],
   "source": [
    "model.fit(X_scaled, y_scaled, epochs=10)"
   ]
  },
  {
   "cell_type": "code",
   "execution_count": 28,
   "id": "JX5msv2qq1Nq",
   "metadata": {
    "id": "JX5msv2qq1Nq"
   },
   "outputs": [
    {
     "name": "stdout",
     "output_type": "stream",
     "text": [
      "34/34 [==============================] - 2s 6ms/step\n"
     ]
    }
   ],
   "source": [
    "prediction=model.predict(X_scaled)"
   ]
  },
  {
   "cell_type": "code",
   "execution_count": 31,
   "id": "202dfd38-204b-4d97-ac8d-f1d141204f11",
   "metadata": {},
   "outputs": [],
   "source": [
    "import matplotlib.pyplot as plt"
   ]
  },
  {
   "cell_type": "code",
   "execution_count": 32,
   "id": "69DvhtTCqFIo",
   "metadata": {
    "colab": {
     "base_uri": "https://localhost:8080/",
     "height": 282
    },
    "id": "69DvhtTCqFIo",
    "outputId": "f209c94a-2e5c-402d-9a23-2071e54160ac"
   },
   "outputs": [
    {
     "data": {
      "text/plain": [
       "[<matplotlib.lines.Line2D at 0x150bec690>]"
      ]
     },
     "execution_count": 32,
     "metadata": {},
     "output_type": "execute_result"
    },
    {
     "data": {
      "image/png": "[encoded data removed]",
      "text/plain": [
       "<Figure size 432x288 with 1 Axes>"
      ]
     },
     "metadata": {
      "needs_background": "light"
     },
     "output_type": "display_data"
    }
   ],
   "source": [
    "plt.plot(prediction)\n",
    "plt.plot(y_scaled.ravel())"
   ]
  },
  {
   "cell_type": "code",
   "execution_count": 33,
   "id": "FkCmamxXqFIp",
   "metadata": {
    "id": "FkCmamxXqFIp"
   },
   "outputs": [],
   "source": [
    "y_predicted=y_scaler.inverse_transform(prediction)"
   ]
  },
  {
   "cell_type": "code",
   "execution_count": 34,
   "id": "6QjNtRIqqFIp",
   "metadata": {
    "colab": {
     "base_uri": "https://localhost:8080/",
     "height": 282
    },
    "id": "6QjNtRIqqFIp",
    "outputId": "d3f92707-a99e-49b8-e332-319a133f2c05"
   },
   "outputs": [
    {
     "data": {
      "text/plain": [
       "[<matplotlib.lines.Line2D at 0x150d52990>]"
      ]
     },
     "execution_count": 34,
     "metadata": {},
     "output_type": "execute_result"
    },
    {
     "data": {
      "image/png": "[encoded data removed]",
      "text/plain": [
       "<Figure size 432x288 with 1 Axes>"
      ]
     },
     "metadata": {
      "needs_background": "light"
     },
     "output_type": "display_data"
    }
   ],
   "source": [
    "plt.plot(y_predicted)"
   ]
  },
  {
   "cell_type": "code",
   "execution_count": 35,
   "id": "9pkiFyNRt7ZJ",
   "metadata": {
    "id": "9pkiFyNRt7ZJ"
   },
   "outputs": [],
   "source": [
    "old_X_scaled=X_scaled.copy()\n",
    "old_y_scaled=y_scaled.copy()"
   ]
  },
  {
   "cell_type": "code",
   "execution_count": 36,
   "id": "dTuO1I9NuXhR",
   "metadata": {
    "colab": {
     "base_uri": "https://localhost:8080/"
    },
    "id": "dTuO1I9NuXhR",
    "outputId": "f56ab848-3cb8-4923-a238-d48297454882"
   },
   "outputs": [
    {
     "data": {
      "text/plain": [
       "array([[[0.09339836],\n",
       "        [0.08965977],\n",
       "        [0.09315109],\n",
       "        ...,\n",
       "        [0.10352186],\n",
       "        [0.11686314],\n",
       "        [0.12146175]],\n",
       "\n",
       "       [[0.08965977],\n",
       "        [0.09315109],\n",
       "        [0.1116761 ],\n",
       "        ...,\n",
       "        [0.11686314],\n",
       "        [0.12146175],\n",
       "        [0.11479519]],\n",
       "\n",
       "       [[0.09315109],\n",
       "        [0.1116761 ],\n",
       "        [0.09976109],\n",
       "        ...,\n",
       "        [0.12146175],\n",
       "        [0.11479519],\n",
       "        [0.10204917]],\n",
       "\n",
       "       ...,\n",
       "\n",
       "       [[0.24763059],\n",
       "        [0.22440484],\n",
       "        [0.24893721],\n",
       "        ...,\n",
       "        [0.25977471],\n",
       "        [0.26409897],\n",
       "        [0.25650995]],\n",
       "\n",
       "       [[0.22440484],\n",
       "        [0.24893721],\n",
       "        [0.24967632],\n",
       "        ...,\n",
       "        [0.26409897],\n",
       "        [0.25650995],\n",
       "        [0.25184805]],\n",
       "\n",
       "       [[0.24893721],\n",
       "        [0.24967632],\n",
       "        [0.25145056],\n",
       "        ...,\n",
       "        [0.25650995],\n",
       "        [0.25184805],\n",
       "        [0.24458171]]])"
      ]
     },
     "execution_count": 36,
     "metadata": {},
     "output_type": "execute_result"
    }
   ],
   "source": [
    "X_scaled"
   ]
  },
  {
   "cell_type": "code",
   "execution_count": 61,
   "id": "Vrz3QbsiqFIq",
   "metadata": {
    "colab": {
     "base_uri": "https://localhost:8080/",
     "height": 1000
    },
    "id": "Vrz3QbsiqFIq",
    "outputId": "1859df8a-ceaa-4163-9998-6e0a1c2def5b"
   },
   "outputs": [
    {
     "name": "stdout",
     "output_type": "stream",
     "text": [
      "1/1 [==============================] - 2s 2s/step\n"
     ]
    },
    {
     "data": {
      "text/plain": [
       "array([[21497.473]], dtype=float32)"
      ]
     },
     "metadata": {},
     "output_type": "display_data"
    },
    {
     "name": "stdout",
     "output_type": "stream",
     "text": [
      "Epoch 1/5\n",
      "34/34 [==============================] - 1s 18ms/step - loss: 0.0026 - mean_squared_error: 0.0026\n",
      "Epoch 2/5\n",
      "34/34 [==============================] - 1s 19ms/step - loss: 0.0025 - mean_squared_error: 0.0025\n",
      "Epoch 3/5\n",
      "34/34 [==============================] - 1s 19ms/step - loss: 0.0028 - mean_squared_error: 0.0028\n",
      "Epoch 4/5\n",
      "34/34 [==============================] - 1s 19ms/step - loss: 0.0026 - mean_squared_error: 0.0026\n",
      "Epoch 5/5\n",
      "34/34 [==============================] - 1s 18ms/step - loss: 0.0028 - mean_squared_error: 0.0028\n",
      "1/1 [==============================] - 0s 23ms/step\n"
     ]
    },
    {
     "data": {
      "text/plain": [
       "array([[21486.455]], dtype=float32)"
      ]
     },
     "metadata": {},
     "output_type": "display_data"
    },
    {
     "name": "stdout",
     "output_type": "stream",
     "text": [
      "Epoch 1/5\n",
      "34/34 [==============================] - 1s 17ms/step - loss: 0.0026 - mean_squared_error: 0.0026\n",
      "Epoch 2/5\n",
      "34/34 [==============================] - 1s 17ms/step - loss: 0.0026 - mean_squared_error: 0.0026\n",
      "Epoch 3/5\n",
      "34/34 [==============================] - 1s 18ms/step - loss: 0.0026 - mean_squared_error: 0.0026\n",
      "Epoch 4/5\n",
      "34/34 [==============================] - 1s 18ms/step - loss: 0.0025 - mean_squared_error: 0.0025\n",
      "Epoch 5/5\n",
      "34/34 [==============================] - 1s 17ms/step - loss: 0.0023 - mean_squared_error: 0.0023\n",
      "1/1 [==============================] - 0s 22ms/step\n"
     ]
    },
    {
     "data": {
      "text/plain": [
       "array([[20589.973]], dtype=float32)"
      ]
     },
     "metadata": {},
     "output_type": "display_data"
    },
    {
     "name": "stdout",
     "output_type": "stream",
     "text": [
      "Epoch 1/5\n",
      "35/35 [==============================] - 1s 17ms/step - loss: 0.0025 - mean_squared_error: 0.0025\n",
      "Epoch 2/5\n",
      "35/35 [==============================] - 1s 17ms/step - loss: 0.0024 - mean_squared_error: 0.0024\n",
      "Epoch 3/5\n",
      "35/35 [==============================] - 1s 17ms/step - loss: 0.0024 - mean_squared_error: 0.0024\n",
      "Epoch 4/5\n",
      "35/35 [==============================] - 1s 17ms/step - loss: 0.0021 - mean_squared_error: 0.0021\n",
      "Epoch 5/5\n",
      "35/35 [==============================] - 1s 17ms/step - loss: 0.0021 - mean_squared_error: 0.0021\n",
      "1/1 [==============================] - 0s 22ms/step\n"
     ]
    },
    {
     "data": {
      "text/plain": [
       "array([[21928.855]], dtype=float32)"
      ]
     },
     "metadata": {},
     "output_type": "display_data"
    },
    {
     "name": "stdout",
     "output_type": "stream",
     "text": [
      "Epoch 1/5\n",
      "35/35 [==============================] - 1s 18ms/step - loss: 0.0021 - mean_squared_error: 0.0021\n",
      "Epoch 2/5\n",
      "35/35 [==============================] - 1s 17ms/step - loss: 0.0020 - mean_squared_error: 0.0020\n",
      "Epoch 3/5\n",
      "35/35 [==============================] - 1s 19ms/step - loss: 0.0021 - mean_squared_error: 0.0021\n",
      "Epoch 4/5\n",
      "35/35 [==============================] - 1s 19ms/step - loss: 0.0027 - mean_squared_error: 0.0027\n",
      "Epoch 5/5\n",
      "35/35 [==============================] - 1s 35ms/step - loss: 0.0028 - mean_squared_error: 0.0028\n",
      "1/1 [==============================] - 0s 35ms/step\n"
     ]
    },
    {
     "data": {
      "text/plain": [
       "array([[20932.334]], dtype=float32)"
      ]
     },
     "metadata": {},
     "output_type": "display_data"
    },
    {
     "name": "stdout",
     "output_type": "stream",
     "text": [
      "Epoch 1/5\n",
      "35/35 [==============================] - 1s 21ms/step - loss: 0.0021 - mean_squared_error: 0.0021\n",
      "Epoch 2/5\n",
      "35/35 [==============================] - 1s 19ms/step - loss: 0.0019 - mean_squared_error: 0.0019\n",
      "Epoch 3/5\n",
      "35/35 [==============================] - 1s 24ms/step - loss: 0.0022 - mean_squared_error: 0.0022\n",
      "Epoch 4/5\n",
      "35/35 [==============================] - 1s 27ms/step - loss: 0.0021 - mean_squared_error: 0.0021\n",
      "Epoch 5/5\n",
      "35/35 [==============================] - 1s 22ms/step - loss: 0.0020 - mean_squared_error: 0.0020\n",
      "1/1 [==============================] - 0s 23ms/step\n"
     ]
    },
    {
     "data": {
      "text/plain": [
       "array([[20977.934]], dtype=float32)"
      ]
     },
     "metadata": {},
     "output_type": "display_data"
    },
    {
     "name": "stdout",
     "output_type": "stream",
     "text": [
      "Epoch 1/5\n",
      "35/35 [==============================] - 1s 18ms/step - loss: 0.0020 - mean_squared_error: 0.0020\n",
      "Epoch 2/5\n",
      "35/35 [==============================] - 1s 20ms/step - loss: 0.0018 - mean_squared_error: 0.0018\n",
      "Epoch 3/5\n",
      "35/35 [==============================] - 1s 20ms/step - loss: 0.0017 - mean_squared_error: 0.0017\n",
      "Epoch 4/5\n",
      "35/35 [==============================] - 1s 18ms/step - loss: 0.0017 - mean_squared_error: 0.0017\n",
      "Epoch 5/5\n",
      "35/35 [==============================] - 1s 24ms/step - loss: 0.0020 - mean_squared_error: 0.0020\n",
      "1/1 [==============================] - 0s 39ms/step\n"
     ]
    },
    {
     "data": {
      "text/plain": [
       "array([[21662.46]], dtype=float32)"
      ]
     },
     "metadata": {},
     "output_type": "display_data"
    },
    {
     "name": "stdout",
     "output_type": "stream",
     "text": [
      "Epoch 1/5\n",
      "35/35 [==============================] - 1s 18ms/step - loss: 0.0016 - mean_squared_error: 0.0016\n",
      "Epoch 2/5\n",
      "35/35 [==============================] - 1s 18ms/step - loss: 0.0017 - mean_squared_error: 0.0017\n",
      "Epoch 3/5\n",
      "35/35 [==============================] - 1s 18ms/step - loss: 0.0018 - mean_squared_error: 0.0018\n",
      "Epoch 4/5\n",
      "35/35 [==============================] - 1s 18ms/step - loss: 0.0017 - mean_squared_error: 0.0017\n",
      "Epoch 5/5\n",
      "35/35 [==============================] - 1s 19ms/step - loss: 0.0015 - mean_squared_error: 0.0015\n",
      "1/1 [==============================] - 0s 27ms/step\n"
     ]
    },
    {
     "data": {
      "text/plain": [
       "array([[21554.443]], dtype=float32)"
      ]
     },
     "metadata": {},
     "output_type": "display_data"
    },
    {
     "name": "stdout",
     "output_type": "stream",
     "text": [
      "Epoch 1/5\n",
      "35/35 [==============================] - 1s 24ms/step - loss: 0.0015 - mean_squared_error: 0.0015\n",
      "Epoch 2/5\n",
      "35/35 [==============================] - 1s 19ms/step - loss: 0.0016 - mean_squared_error: 0.0016\n",
      "Epoch 3/5\n",
      "35/35 [==============================] - 1s 20ms/step - loss: 0.0016 - mean_squared_error: 0.0016\n",
      "Epoch 4/5\n",
      "35/35 [==============================] - 1s 24ms/step - loss: 0.0015 - mean_squared_error: 0.0015\n",
      "Epoch 5/5\n",
      "35/35 [==============================] - 1s 18ms/step - loss: 0.0014 - mean_squared_error: 0.0014\n",
      "1/1 [==============================] - 0s 26ms/step\n"
     ]
    },
    {
     "data": {
      "text/plain": [
       "array([[20958.486]], dtype=float32)"
      ]
     },
     "metadata": {},
     "output_type": "display_data"
    },
    {
     "name": "stdout",
     "output_type": "stream",
     "text": [
      "Epoch 1/5\n",
      "35/35 [==============================] - 1s 21ms/step - loss: 0.0016 - mean_squared_error: 0.0016\n",
      "Epoch 2/5\n",
      "35/35 [==============================] - 1s 19ms/step - loss: 0.0015 - mean_squared_error: 0.0015\n",
      "Epoch 3/5\n",
      "35/35 [==============================] - 1s 18ms/step - loss: 0.0014 - mean_squared_error: 0.0014\n",
      "Epoch 4/5\n",
      "35/35 [==============================] - 1s 18ms/step - loss: 0.0013 - mean_squared_error: 0.0013\n",
      "Epoch 5/5\n",
      "35/35 [==============================] - 1s 18ms/step - loss: 0.0013 - mean_squared_error: 0.0013\n",
      "1/1 [==============================] - 0s 24ms/step\n"
     ]
    },
    {
     "data": {
      "text/plain": [
       "array([[20827.752]], dtype=float32)"
      ]
     },
     "metadata": {},
     "output_type": "display_data"
    },
    {
     "name": "stdout",
     "output_type": "stream",
     "text": [
      "Epoch 1/5\n",
      "35/35 [==============================] - 1s 20ms/step - loss: 0.0014 - mean_squared_error: 0.0014\n",
      "Epoch 2/5\n",
      "35/35 [==============================] - 1s 20ms/step - loss: 0.0014 - mean_squared_error: 0.0014\n",
      "Epoch 3/5\n",
      "35/35 [==============================] - 1s 24ms/step - loss: 0.0016 - mean_squared_error: 0.0016\n",
      "Epoch 4/5\n",
      "35/35 [==============================] - 1s 20ms/step - loss: 0.0014 - mean_squared_error: 0.0014\n",
      "Epoch 5/5\n",
      "35/35 [==============================] - 1s 21ms/step - loss: 0.0013 - mean_squared_error: 0.0013\n",
      "1/1 [==============================] - 0s 22ms/step\n"
     ]
    },
    {
     "data": {
      "text/plain": [
       "array([[21288.504]], dtype=float32)"
      ]
     },
     "metadata": {},
     "output_type": "display_data"
    },
    {
     "name": "stdout",
     "output_type": "stream",
     "text": [
      "Epoch 1/5\n",
      "35/35 [==============================] - 1s 20ms/step - loss: 0.0012 - mean_squared_error: 0.0012\n",
      "Epoch 2/5\n",
      "35/35 [==============================] - 1s 22ms/step - loss: 0.0012 - mean_squared_error: 0.0012\n",
      "Epoch 3/5\n",
      "35/35 [==============================] - 1s 22ms/step - loss: 0.0012 - mean_squared_error: 0.0012\n",
      "Epoch 4/5\n",
      "35/35 [==============================] - 1s 21ms/step - loss: 0.0015 - mean_squared_error: 0.0015\n",
      "Epoch 5/5\n",
      "35/35 [==============================] - 1s 21ms/step - loss: 0.0015 - mean_squared_error: 0.0015\n",
      "1/1 [==============================] - 0s 27ms/step\n"
     ]
    },
    {
     "data": {
      "text/plain": [
       "array([[21516.584]], dtype=float32)"
      ]
     },
     "metadata": {},
     "output_type": "display_data"
    },
    {
     "name": "stdout",
     "output_type": "stream",
     "text": [
      "Epoch 1/5\n",
      "35/35 [==============================] - 1s 21ms/step - loss: 0.0012 - mean_squared_error: 0.0012\n",
      "Epoch 2/5\n",
      "35/35 [==============================] - 1s 19ms/step - loss: 0.0011 - mean_squared_error: 0.0011\n",
      "Epoch 3/5\n",
      "35/35 [==============================] - 1s 20ms/step - loss: 0.0011 - mean_squared_error: 0.0011\n",
      "Epoch 4/5\n",
      "35/35 [==============================] - 1s 19ms/step - loss: 0.0011 - mean_squared_error: 0.0011\n",
      "Epoch 5/5\n",
      "35/35 [==============================] - 1s 21ms/step - loss: 0.0013 - mean_squared_error: 0.0013\n",
      "1/1 [==============================] - 0s 24ms/step\n"
     ]
    },
    {
     "data": {
      "text/plain": [
       "array([[22146.812]], dtype=float32)"
      ]
     },
     "metadata": {},
     "output_type": "display_data"
    },
    {
     "name": "stdout",
     "output_type": "stream",
     "text": [
      "Epoch 1/5\n",
      "35/35 [==============================] - 1s 23ms/step - loss: 0.0011 - mean_squared_error: 0.0011\n",
      "Epoch 2/5\n",
      "35/35 [==============================] - 1s 21ms/step - loss: 0.0012 - mean_squared_error: 0.0012\n",
      "Epoch 3/5\n",
      "35/35 [==============================] - 1s 20ms/step - loss: 0.0011 - mean_squared_error: 0.0011\n",
      "Epoch 4/5\n",
      "35/35 [==============================] - 1s 19ms/step - loss: 0.0011 - mean_squared_error: 0.0011\n",
      "Epoch 5/5\n",
      "35/35 [==============================] - 1s 21ms/step - loss: 0.0010 - mean_squared_error: 0.0010\n",
      "1/1 [==============================] - 0s 24ms/step\n"
     ]
    },
    {
     "data": {
      "text/plain": [
       "array([[21360.107]], dtype=float32)"
      ]
     },
     "metadata": {},
     "output_type": "display_data"
    },
    {
     "name": "stdout",
     "output_type": "stream",
     "text": [
      "Epoch 1/5\n",
      "35/35 [==============================] - 1s 22ms/step - loss: 0.0011 - mean_squared_error: 0.0011\n",
      "Epoch 2/5\n",
      "35/35 [==============================] - 1s 21ms/step - loss: 0.0012 - mean_squared_error: 0.0012\n",
      "Epoch 3/5\n",
      "35/35 [==============================] - 1s 20ms/step - loss: 0.0012 - mean_squared_error: 0.0012\n",
      "Epoch 4/5\n",
      "35/35 [==============================] - 1s 22ms/step - loss: 0.0012 - mean_squared_error: 0.0012\n",
      "Epoch 5/5\n",
      "35/35 [==============================] - 1s 20ms/step - loss: 0.0012 - mean_squared_error: 0.0012\n",
      "1/1 [==============================] - 0s 24ms/step\n"
     ]
    },
    {
     "data": {
      "text/plain": [
       "array([[22150.793]], dtype=float32)"
      ]
     },
     "metadata": {},
     "output_type": "display_data"
    },
    {
     "name": "stdout",
     "output_type": "stream",
     "text": [
      "Epoch 1/5\n",
      "35/35 [==============================] - 1s 19ms/step - loss: 0.0010 - mean_squared_error: 0.0010\n",
      "Epoch 2/5\n",
      "35/35 [==============================] - 1s 19ms/step - loss: 0.0011 - mean_squared_error: 0.0011\n",
      "Epoch 3/5\n",
      "35/35 [==============================] - 1s 19ms/step - loss: 0.0011 - mean_squared_error: 0.0011\n",
      "Epoch 4/5\n",
      "35/35 [==============================] - 1s 19ms/step - loss: 0.0010 - mean_squared_error: 0.0010\n",
      "Epoch 5/5\n",
      "35/35 [==============================] - 1s 20ms/step - loss: 0.0012 - mean_squared_error: 0.0012\n",
      "1/1 [==============================] - 0s 23ms/step\n"
     ]
    },
    {
     "data": {
      "text/plain": [
       "array([[22831.926]], dtype=float32)"
      ]
     },
     "metadata": {},
     "output_type": "display_data"
    },
    {
     "name": "stdout",
     "output_type": "stream",
     "text": [
      "Epoch 1/5\n",
      "35/35 [==============================] - 1s 20ms/step - loss: 0.0012 - mean_squared_error: 0.0012\n",
      "Epoch 2/5\n",
      "35/35 [==============================] - 1s 20ms/step - loss: 0.0010 - mean_squared_error: 0.0010 \n",
      "Epoch 3/5\n",
      "35/35 [==============================] - 1s 21ms/step - loss: 9.1040e-04 - mean_squared_error: 9.1040e-04\n",
      "Epoch 4/5\n",
      "35/35 [==============================] - 1s 19ms/step - loss: 9.1413e-04 - mean_squared_error: 9.1413e-04\n",
      "Epoch 5/5\n",
      "35/35 [==============================] - 1s 18ms/step - loss: 9.1154e-04 - mean_squared_error: 9.1154e-04\n",
      "1/1 [==============================] - 0s 23ms/step\n"
     ]
    },
    {
     "data": {
      "text/plain": [
       "array([[22769.451]], dtype=float32)"
      ]
     },
     "metadata": {},
     "output_type": "display_data"
    },
    {
     "name": "stdout",
     "output_type": "stream",
     "text": [
      "Epoch 1/5\n",
      "35/35 [==============================] - 1s 20ms/step - loss: 0.0010 - mean_squared_error: 0.0010   \n",
      "Epoch 2/5\n",
      "35/35 [==============================] - 1s 19ms/step - loss: 9.3050e-04 - mean_squared_error: 9.3050e-04\n",
      "Epoch 3/5\n",
      "35/35 [==============================] - 1s 18ms/step - loss: 9.5905e-04 - mean_squared_error: 9.5905e-04\n",
      "Epoch 4/5\n",
      "35/35 [==============================] - 1s 20ms/step - loss: 9.3757e-04 - mean_squared_error: 9.3757e-04\n",
      "Epoch 5/5\n",
      "35/35 [==============================] - 1s 20ms/step - loss: 9.3828e-04 - mean_squared_error: 9.3828e-04\n",
      "1/1 [==============================] - 0s 30ms/step\n"
     ]
    },
    {
     "data": {
      "text/plain": [
       "array([[22187.564]], dtype=float32)"
      ]
     },
     "metadata": {},
     "output_type": "display_data"
    },
    {
     "name": "stdout",
     "output_type": "stream",
     "text": [
      "Epoch 1/5\n",
      "35/35 [==============================] - 1s 21ms/step - loss: 9.3755e-04 - mean_squared_error: 9.3755e-04\n",
      "Epoch 2/5\n",
      "35/35 [==============================] - 1s 21ms/step - loss: 8.7852e-04 - mean_squared_error: 8.7852e-04\n",
      "Epoch 3/5\n",
      "35/35 [==============================] - 1s 20ms/step - loss: 8.6416e-04 - mean_squared_error: 8.6416e-04\n",
      "Epoch 4/5\n",
      "35/35 [==============================] - 1s 20ms/step - loss: 0.0010 - mean_squared_error: 0.0010\n",
      "Epoch 5/5\n",
      "35/35 [==============================] - 1s 19ms/step - loss: 9.4775e-04 - mean_squared_error: 9.4775e-04\n",
      "1/1 [==============================] - 0s 24ms/step\n"
     ]
    },
    {
     "data": {
      "text/plain": [
       "array([[22950.678]], dtype=float32)"
      ]
     },
     "metadata": {},
     "output_type": "display_data"
    },
    {
     "name": "stdout",
     "output_type": "stream",
     "text": [
      "Epoch 1/5\n",
      "35/35 [==============================] - 1s 19ms/step - loss: 8.8571e-04 - mean_squared_error: 8.8571e-04\n",
      "Epoch 2/5\n",
      "35/35 [==============================] - 1s 20ms/step - loss: 8.8743e-04 - mean_squared_error: 8.8743e-04\n",
      "Epoch 3/5\n",
      "35/35 [==============================] - 1s 18ms/step - loss: 8.2976e-04 - mean_squared_error: 8.2976e-04\n",
      "Epoch 4/5\n",
      "35/35 [==============================] - 1s 23ms/step - loss: 0.0011 - mean_squared_error: 0.0011\n",
      "Epoch 5/5\n",
      "35/35 [==============================] - 1s 20ms/step - loss: 8.6663e-04 - mean_squared_error: 8.6663e-04\n",
      "1/1 [==============================] - 0s 26ms/step\n"
     ]
    },
    {
     "data": {
      "text/plain": [
       "array([[22278.266]], dtype=float32)"
      ]
     },
     "metadata": {},
     "output_type": "display_data"
    },
    {
     "name": "stdout",
     "output_type": "stream",
     "text": [
      "Epoch 1/5\n",
      "35/35 [==============================] - 1s 21ms/step - loss: 9.5671e-04 - mean_squared_error: 9.5671e-04\n",
      "Epoch 2/5\n",
      "35/35 [==============================] - 1s 21ms/step - loss: 9.2479e-04 - mean_squared_error: 9.2479e-04\n",
      "Epoch 3/5\n",
      "35/35 [==============================] - 1s 19ms/step - loss: 0.0011 - mean_squared_error: 0.0011\n",
      "Epoch 4/5\n",
      "35/35 [==============================] - 1s 19ms/step - loss: 9.0341e-04 - mean_squared_error: 9.0341e-04\n",
      "Epoch 5/5\n",
      "35/35 [==============================] - 1s 21ms/step - loss: 9.2718e-04 - mean_squared_error: 9.2718e-04\n",
      "1/1 [==============================] - 0s 23ms/step\n"
     ]
    },
    {
     "data": {
      "text/plain": [
       "array([[22375.992]], dtype=float32)"
      ]
     },
     "metadata": {},
     "output_type": "display_data"
    },
    {
     "name": "stdout",
     "output_type": "stream",
     "text": [
      "Epoch 1/5\n",
      "35/35 [==============================] - 1s 19ms/step - loss: 9.3439e-04 - mean_squared_error: 9.3439e-04\n",
      "Epoch 2/5\n",
      "35/35 [==============================] - 1s 19ms/step - loss: 8.5096e-04 - mean_squared_error: 8.5096e-04\n",
      "Epoch 3/5\n",
      "35/35 [==============================] - 1s 21ms/step - loss: 8.1959e-04 - mean_squared_error: 8.1959e-04\n",
      "Epoch 4/5\n",
      "35/35 [==============================] - 1s 20ms/step - loss: 8.5070e-04 - mean_squared_error: 8.5070e-04\n",
      "Epoch 5/5\n",
      "35/35 [==============================] - 1s 25ms/step - loss: 8.7018e-04 - mean_squared_error: 8.7018e-04\n",
      "1/1 [==============================] - 0s 48ms/step\n"
     ]
    },
    {
     "data": {
      "text/plain": [
       "array([[22384.871]], dtype=float32)"
      ]
     },
     "metadata": {},
     "output_type": "display_data"
    },
    {
     "name": "stdout",
     "output_type": "stream",
     "text": [
      "Epoch 1/5\n",
      "35/35 [==============================] - 1s 19ms/step - loss: 9.7019e-04 - mean_squared_error: 9.7019e-04\n",
      "Epoch 2/5\n",
      "35/35 [==============================] - 1s 22ms/step - loss: 8.3313e-04 - mean_squared_error: 8.3313e-04\n",
      "Epoch 3/5\n",
      "35/35 [==============================] - 1s 20ms/step - loss: 8.1506e-04 - mean_squared_error: 8.1506e-04\n",
      "Epoch 4/5\n",
      "35/35 [==============================] - 1s 20ms/step - loss: 9.6276e-04 - mean_squared_error: 9.6276e-04\n",
      "Epoch 5/5\n",
      "35/35 [==============================] - 1s 23ms/step - loss: 7.5050e-04 - mean_squared_error: 7.5050e-04\n",
      "1/1 [==============================] - 0s 25ms/step\n"
     ]
    },
    {
     "data": {
      "text/plain": [
       "array([[22403.016]], dtype=float32)"
      ]
     },
     "metadata": {},
     "output_type": "display_data"
    },
    {
     "name": "stdout",
     "output_type": "stream",
     "text": [
      "Epoch 1/5\n",
      "35/35 [==============================] - 1s 19ms/step - loss: 8.5270e-04 - mean_squared_error: 8.5270e-04\n",
      "Epoch 2/5\n",
      "35/35 [==============================] - 1s 20ms/step - loss: 8.9096e-04 - mean_squared_error: 8.9096e-04\n",
      "Epoch 3/5\n",
      "35/35 [==============================] - 1s 19ms/step - loss: 8.7958e-04 - mean_squared_error: 8.7958e-04\n",
      "Epoch 4/5\n",
      "35/35 [==============================] - 1s 20ms/step - loss: 9.0802e-04 - mean_squared_error: 9.0802e-04\n",
      "Epoch 5/5\n",
      "35/35 [==============================] - 1s 20ms/step - loss: 8.0851e-04 - mean_squared_error: 8.0851e-04\n",
      "1/1 [==============================] - 0s 24ms/step\n"
     ]
    },
    {
     "data": {
      "text/plain": [
       "array([[22788.047]], dtype=float32)"
      ]
     },
     "metadata": {},
     "output_type": "display_data"
    },
    {
     "name": "stdout",
     "output_type": "stream",
     "text": [
      "Epoch 1/5\n",
      "35/35 [==============================] - 1s 19ms/step - loss: 8.7687e-04 - mean_squared_error: 8.7687e-04\n",
      "Epoch 2/5\n",
      "35/35 [==============================] - 1s 21ms/step - loss: 8.3426e-04 - mean_squared_error: 8.3426e-04\n",
      "Epoch 3/5\n",
      "35/35 [==============================] - 1s 20ms/step - loss: 8.7544e-04 - mean_squared_error: 8.7544e-04\n",
      "Epoch 4/5\n",
      "35/35 [==============================] - 1s 19ms/step - loss: 8.0314e-04 - mean_squared_error: 8.0314e-04\n",
      "Epoch 5/5\n",
      "35/35 [==============================] - 1s 19ms/step - loss: 9.1868e-04 - mean_squared_error: 9.1868e-04\n",
      "1/1 [==============================] - 0s 26ms/step\n"
     ]
    },
    {
     "data": {
      "text/plain": [
       "array([[21694.389]], dtype=float32)"
      ]
     },
     "metadata": {},
     "output_type": "display_data"
    },
    {
     "name": "stdout",
     "output_type": "stream",
     "text": [
      "Epoch 1/5\n",
      "35/35 [==============================] - 1s 19ms/step - loss: 8.6660e-04 - mean_squared_error: 8.6660e-04\n",
      "Epoch 2/5\n",
      "35/35 [==============================] - 1s 19ms/step - loss: 8.6350e-04 - mean_squared_error: 8.6350e-04\n",
      "Epoch 3/5\n",
      "35/35 [==============================] - 1s 22ms/step - loss: 8.2723e-04 - mean_squared_error: 8.2723e-04\n",
      "Epoch 4/5\n",
      "35/35 [==============================] - 1s 25ms/step - loss: 7.7925e-04 - mean_squared_error: 7.7925e-04\n",
      "Epoch 5/5\n",
      "35/35 [==============================] - 1s 19ms/step - loss: 8.7460e-04 - mean_squared_error: 8.7460e-04\n",
      "1/1 [==============================] - 0s 24ms/step\n"
     ]
    },
    {
     "data": {
      "text/plain": [
       "array([[22560.693]], dtype=float32)"
      ]
     },
     "metadata": {},
     "output_type": "display_data"
    },
    {
     "name": "stdout",
     "output_type": "stream",
     "text": [
      "Epoch 1/5\n",
      "35/35 [==============================] - 1s 18ms/step - loss: 8.1846e-04 - mean_squared_error: 8.1846e-04\n",
      "Epoch 2/5\n",
      "35/35 [==============================] - 1s 18ms/step - loss: 8.2624e-04 - mean_squared_error: 8.2624e-04\n",
      "Epoch 3/5\n",
      "35/35 [==============================] - 1s 21ms/step - loss: 8.6744e-04 - mean_squared_error: 8.6744e-04\n",
      "Epoch 4/5\n",
      "35/35 [==============================] - 1s 19ms/step - loss: 9.0198e-04 - mean_squared_error: 9.0198e-04\n",
      "Epoch 5/5\n",
      "35/35 [==============================] - 1s 19ms/step - loss: 7.7905e-04 - mean_squared_error: 7.7905e-04\n",
      "1/1 [==============================] - 0s 23ms/step\n"
     ]
    },
    {
     "data": {
      "text/plain": [
       "array([[22245.648]], dtype=float32)"
      ]
     },
     "metadata": {},
     "output_type": "display_data"
    },
    {
     "name": "stdout",
     "output_type": "stream",
     "text": [
      "Epoch 1/5\n",
      "35/35 [==============================] - 1s 22ms/step - loss: 8.6791e-04 - mean_squared_error: 8.6791e-04\n",
      "Epoch 2/5\n",
      "35/35 [==============================] - 1s 17ms/step - loss: 7.8590e-04 - mean_squared_error: 7.8590e-04\n",
      "Epoch 3/5\n",
      "35/35 [==============================] - 1s 19ms/step - loss: 8.1506e-04 - mean_squared_error: 8.1506e-04\n",
      "Epoch 4/5\n",
      "35/35 [==============================] - 1s 19ms/step - loss: 8.1136e-04 - mean_squared_error: 8.1136e-04\n",
      "Epoch 5/5\n",
      "35/35 [==============================] - 1s 19ms/step - loss: 8.4100e-04 - mean_squared_error: 8.4100e-04\n",
      "1/1 [==============================] - 0s 25ms/step\n"
     ]
    },
    {
     "data": {
      "text/plain": [
       "array([[21864.574]], dtype=float32)"
      ]
     },
     "metadata": {},
     "output_type": "display_data"
    },
    {
     "name": "stdout",
     "output_type": "stream",
     "text": [
      "Epoch 1/5\n",
      "35/35 [==============================] - 1s 19ms/step - loss: 8.1586e-04 - mean_squared_error: 8.1586e-04\n",
      "Epoch 2/5\n",
      "35/35 [==============================] - 1s 20ms/step - loss: 7.2904e-04 - mean_squared_error: 7.2904e-04\n",
      "Epoch 3/5\n",
      "35/35 [==============================] - 1s 21ms/step - loss: 7.9604e-04 - mean_squared_error: 7.9604e-04\n",
      "Epoch 4/5\n",
      "35/35 [==============================] - 1s 19ms/step - loss: 7.5225e-04 - mean_squared_error: 7.5225e-04\n",
      "Epoch 5/5\n",
      "35/35 [==============================] - 1s 19ms/step - loss: 7.4224e-04 - mean_squared_error: 7.4224e-04\n",
      "1/1 [==============================] - 0s 23ms/step\n"
     ]
    },
    {
     "data": {
      "text/plain": [
       "array([[21752.598]], dtype=float32)"
      ]
     },
     "metadata": {},
     "output_type": "display_data"
    },
    {
     "name": "stdout",
     "output_type": "stream",
     "text": [
      "Epoch 1/5\n",
      "35/35 [==============================] - 1s 18ms/step - loss: 7.6843e-04 - mean_squared_error: 7.6843e-04\n",
      "Epoch 2/5\n",
      "35/35 [==============================] - 1s 18ms/step - loss: 6.7347e-04 - mean_squared_error: 6.7347e-04\n",
      "Epoch 3/5\n",
      "35/35 [==============================] - 1s 19ms/step - loss: 7.3148e-04 - mean_squared_error: 7.3148e-04\n",
      "Epoch 4/5\n",
      "35/35 [==============================] - 1s 20ms/step - loss: 7.3631e-04 - mean_squared_error: 7.3631e-04\n",
      "Epoch 5/5\n",
      "35/35 [==============================] - 1s 19ms/step - loss: 6.8353e-04 - mean_squared_error: 6.8353e-04\n",
      "1/1 [==============================] - 0s 28ms/step\n"
     ]
    },
    {
     "data": {
      "text/plain": [
       "array([[21920.068]], dtype=float32)"
      ]
     },
     "metadata": {},
     "output_type": "display_data"
    },
    {
     "name": "stdout",
     "output_type": "stream",
     "text": [
      "Epoch 1/5\n",
      "35/35 [==============================] - 1s 19ms/step - loss: 7.1309e-04 - mean_squared_error: 7.1309e-04\n",
      "Epoch 2/5\n",
      "35/35 [==============================] - 1s 20ms/step - loss: 7.6231e-04 - mean_squared_error: 7.6231e-04\n",
      "Epoch 3/5\n",
      "35/35 [==============================] - 1s 18ms/step - loss: 7.4793e-04 - mean_squared_error: 7.4793e-04\n",
      "Epoch 4/5\n",
      "35/35 [==============================] - 1s 18ms/step - loss: 7.5190e-04 - mean_squared_error: 7.5190e-04\n",
      "Epoch 5/5\n",
      "35/35 [==============================] - 1s 18ms/step - loss: 7.1884e-04 - mean_squared_error: 7.1884e-04\n",
      "1/1 [==============================] - 0s 24ms/step\n"
     ]
    },
    {
     "data": {
      "text/plain": [
       "array([[22221.994]], dtype=float32)"
      ]
     },
     "metadata": {},
     "output_type": "display_data"
    },
    {
     "name": "stdout",
     "output_type": "stream",
     "text": [
      "Epoch 1/5\n",
      "35/35 [==============================] - 1s 19ms/step - loss: 7.6953e-04 - mean_squared_error: 7.6953e-04\n",
      "Epoch 2/5\n",
      "35/35 [==============================] - 1s 20ms/step - loss: 7.2896e-04 - mean_squared_error: 7.2896e-04\n",
      "Epoch 3/5\n",
      "35/35 [==============================] - 1s 18ms/step - loss: 6.9698e-04 - mean_squared_error: 6.9698e-04\n",
      "Epoch 4/5\n",
      "35/35 [==============================] - 1s 17ms/step - loss: 7.6567e-04 - mean_squared_error: 7.6567e-04\n",
      "Epoch 5/5\n",
      "35/35 [==============================] - 1s 18ms/step - loss: 6.9879e-04 - mean_squared_error: 6.9879e-04\n",
      "1/1 [==============================] - 0s 26ms/step\n"
     ]
    },
    {
     "data": {
      "text/plain": [
       "array([[22552.596]], dtype=float32)"
      ]
     },
     "metadata": {},
     "output_type": "display_data"
    },
    {
     "name": "stdout",
     "output_type": "stream",
     "text": [
      "Epoch 1/5\n",
      "35/35 [==============================] - 1s 18ms/step - loss: 7.2585e-04 - mean_squared_error: 7.2585e-04\n",
      "Epoch 2/5\n",
      "35/35 [==============================] - 1s 18ms/step - loss: 6.9248e-04 - mean_squared_error: 6.9248e-04\n",
      "Epoch 3/5\n",
      "35/35 [==============================] - 1s 27ms/step - loss: 6.9618e-04 - mean_squared_error: 6.9618e-04\n",
      "Epoch 4/5\n",
      "35/35 [==============================] - 1s 22ms/step - loss: 7.4184e-04 - mean_squared_error: 7.4184e-04\n",
      "Epoch 5/5\n",
      "35/35 [==============================] - 1s 23ms/step - loss: 7.5738e-04 - mean_squared_error: 7.5738e-04\n",
      "1/1 [==============================] - 0s 39ms/step\n"
     ]
    },
    {
     "data": {
      "text/plain": [
       "array([[22181.885]], dtype=float32)"
      ]
     },
     "metadata": {},
     "output_type": "display_data"
    },
    {
     "name": "stdout",
     "output_type": "stream",
     "text": [
      "Epoch 1/5\n",
      "35/35 [==============================] - 1s 24ms/step - loss: 6.7886e-04 - mean_squared_error: 6.7886e-04\n",
      "Epoch 2/5\n",
      "35/35 [==============================] - 1s 22ms/step - loss: 7.8238e-04 - mean_squared_error: 7.8238e-04\n",
      "Epoch 3/5\n",
      "35/35 [==============================] - 1s 19ms/step - loss: 6.7389e-04 - mean_squared_error: 6.7389e-04\n",
      "Epoch 4/5\n",
      "35/35 [==============================] - 1s 20ms/step - loss: 7.4036e-04 - mean_squared_error: 7.4036e-04\n",
      "Epoch 5/5\n",
      "35/35 [==============================] - 1s 17ms/step - loss: 7.6270e-04 - mean_squared_error: 7.6270e-04\n",
      "1/1 [==============================] - 0s 23ms/step\n"
     ]
    },
    {
     "data": {
      "text/plain": [
       "array([[22454.146]], dtype=float32)"
      ]
     },
     "metadata": {},
     "output_type": "display_data"
    },
    {
     "name": "stdout",
     "output_type": "stream",
     "text": [
      "Epoch 1/5\n",
      "35/35 [==============================] - 1s 17ms/step - loss: 6.8820e-04 - mean_squared_error: 6.8820e-04\n",
      "Epoch 2/5\n",
      "35/35 [==============================] - 1s 17ms/step - loss: 6.4007e-04 - mean_squared_error: 6.4007e-04\n",
      "Epoch 3/5\n",
      "35/35 [==============================] - 1s 17ms/step - loss: 6.6528e-04 - mean_squared_error: 6.6528e-04\n",
      "Epoch 4/5\n",
      "35/35 [==============================] - 1s 17ms/step - loss: 7.5123e-04 - mean_squared_error: 7.5123e-04\n",
      "Epoch 5/5\n",
      "35/35 [==============================] - 1s 21ms/step - loss: 7.0735e-04 - mean_squared_error: 7.0735e-04\n",
      "1/1 [==============================] - 0s 25ms/step\n"
     ]
    },
    {
     "data": {
      "text/plain": [
       "array([[22200.318]], dtype=float32)"
      ]
     },
     "metadata": {},
     "output_type": "display_data"
    },
    {
     "name": "stdout",
     "output_type": "stream",
     "text": [
      "Epoch 1/5\n",
      "36/36 [==============================] - 1s 19ms/step - loss: 6.5596e-04 - mean_squared_error: 6.5596e-04\n",
      "Epoch 2/5\n",
      "36/36 [==============================] - 1s 17ms/step - loss: 8.6854e-04 - mean_squared_error: 8.6854e-04\n",
      "Epoch 3/5\n",
      "36/36 [==============================] - 1s 17ms/step - loss: 7.9372e-04 - mean_squared_error: 7.9372e-04\n",
      "Epoch 4/5\n",
      "36/36 [==============================] - 1s 17ms/step - loss: 7.0572e-04 - mean_squared_error: 7.0572e-04\n",
      "Epoch 5/5\n",
      "36/36 [==============================] - 1s 17ms/step - loss: 6.7375e-04 - mean_squared_error: 6.7375e-04\n",
      "1/1 [==============================] - 0s 23ms/step\n"
     ]
    },
    {
     "data": {
      "text/plain": [
       "array([[22569.277]], dtype=float32)"
      ]
     },
     "metadata": {},
     "output_type": "display_data"
    },
    {
     "name": "stdout",
     "output_type": "stream",
     "text": [
      "Epoch 1/5\n",
      "36/36 [==============================] - 1s 17ms/step - loss: 6.8025e-04 - mean_squared_error: 6.8025e-04\n",
      "Epoch 2/5\n",
      "36/36 [==============================] - 1s 17ms/step - loss: 6.2869e-04 - mean_squared_error: 6.2869e-04\n",
      "Epoch 3/5\n",
      "36/36 [==============================] - 1s 17ms/step - loss: 6.8046e-04 - mean_squared_error: 6.8046e-04\n",
      "Epoch 4/5\n",
      "36/36 [==============================] - 1s 17ms/step - loss: 6.7020e-04 - mean_squared_error: 6.7020e-04\n",
      "Epoch 5/5\n",
      "36/36 [==============================] - 1s 17ms/step - loss: 7.7160e-04 - mean_squared_error: 7.7160e-04\n",
      "1/1 [==============================] - 0s 25ms/step\n"
     ]
    },
    {
     "data": {
      "text/plain": [
       "array([[21507.35]], dtype=float32)"
      ]
     },
     "metadata": {},
     "output_type": "display_data"
    },
    {
     "name": "stdout",
     "output_type": "stream",
     "text": [
      "Epoch 1/5\n",
      "36/36 [==============================] - 1s 17ms/step - loss: 8.8909e-04 - mean_squared_error: 8.8909e-04\n",
      "Epoch 2/5\n",
      "36/36 [==============================] - 1s 16ms/step - loss: 6.7314e-04 - mean_squared_error: 6.7314e-04\n",
      "Epoch 3/5\n",
      "36/36 [==============================] - 1s 17ms/step - loss: 6.3128e-04 - mean_squared_error: 6.3128e-04\n",
      "Epoch 4/5\n",
      "36/36 [==============================] - 1s 17ms/step - loss: 8.1363e-04 - mean_squared_error: 8.1363e-04\n",
      "Epoch 5/5\n",
      "36/36 [==============================] - 1s 17ms/step - loss: 6.8695e-04 - mean_squared_error: 6.8695e-04\n",
      "1/1 [==============================] - 0s 22ms/step\n"
     ]
    },
    {
     "data": {
      "text/plain": [
       "array([[22846.652]], dtype=float32)"
      ]
     },
     "metadata": {},
     "output_type": "display_data"
    },
    {
     "name": "stdout",
     "output_type": "stream",
     "text": [
      "Epoch 1/5\n",
      "36/36 [==============================] - 1s 17ms/step - loss: 7.0517e-04 - mean_squared_error: 7.0517e-04\n",
      "Epoch 2/5\n",
      "36/36 [==============================] - 1s 19ms/step - loss: 6.8896e-04 - mean_squared_error: 6.8896e-04\n",
      "Epoch 3/5\n",
      "36/36 [==============================] - 1s 17ms/step - loss: 6.5372e-04 - mean_squared_error: 6.5372e-04\n",
      "Epoch 4/5\n",
      "36/36 [==============================] - 1s 17ms/step - loss: 7.9546e-04 - mean_squared_error: 7.9546e-04\n",
      "Epoch 5/5\n",
      "36/36 [==============================] - 1s 17ms/step - loss: 6.2021e-04 - mean_squared_error: 6.2021e-04\n",
      "1/1 [==============================] - 0s 22ms/step\n"
     ]
    },
    {
     "data": {
      "text/plain": [
       "array([[22393.229]], dtype=float32)"
      ]
     },
     "metadata": {},
     "output_type": "display_data"
    },
    {
     "name": "stdout",
     "output_type": "stream",
     "text": [
      "Epoch 1/5\n",
      "36/36 [==============================] - 1s 17ms/step - loss: 6.7160e-04 - mean_squared_error: 6.7160e-04\n",
      "Epoch 2/5\n",
      "36/36 [==============================] - 1s 17ms/step - loss: 6.3807e-04 - mean_squared_error: 6.3807e-04\n",
      "Epoch 3/5\n",
      "36/36 [==============================] - 1s 17ms/step - loss: 5.9878e-04 - mean_squared_error: 5.9878e-04\n",
      "Epoch 4/5\n",
      "36/36 [==============================] - 1s 17ms/step - loss: 6.5577e-04 - mean_squared_error: 6.5577e-04\n",
      "Epoch 5/5\n",
      "36/36 [==============================] - 1s 17ms/step - loss: 6.8886e-04 - mean_squared_error: 6.8886e-04\n",
      "1/1 [==============================] - 0s 22ms/step\n"
     ]
    },
    {
     "data": {
      "text/plain": [
       "array([[22584.723]], dtype=float32)"
      ]
     },
     "metadata": {},
     "output_type": "display_data"
    },
    {
     "name": "stdout",
     "output_type": "stream",
     "text": [
      "Epoch 1/5\n",
      "36/36 [==============================] - 1s 17ms/step - loss: 7.4592e-04 - mean_squared_error: 7.4592e-04\n",
      "Epoch 2/5\n",
      "36/36 [==============================] - 1s 17ms/step - loss: 6.5120e-04 - mean_squared_error: 6.5120e-04\n",
      "Epoch 3/5\n",
      "36/36 [==============================] - 1s 17ms/step - loss: 6.4695e-04 - mean_squared_error: 6.4695e-04\n",
      "Epoch 4/5\n",
      "36/36 [==============================] - 1s 17ms/step - loss: 6.8945e-04 - mean_squared_error: 6.8945e-04\n",
      "Epoch 5/5\n",
      "36/36 [==============================] - 1s 17ms/step - loss: 6.0879e-04 - mean_squared_error: 6.0879e-04\n",
      "1/1 [==============================] - 0s 23ms/step\n"
     ]
    },
    {
     "data": {
      "text/plain": [
       "array([[22687.516]], dtype=float32)"
      ]
     },
     "metadata": {},
     "output_type": "display_data"
    },
    {
     "name": "stdout",
     "output_type": "stream",
     "text": [
      "Epoch 1/5\n",
      "36/36 [==============================] - 1s 17ms/step - loss: 5.9429e-04 - mean_squared_error: 5.9429e-04\n",
      "Epoch 2/5\n",
      "36/36 [==============================] - 1s 17ms/step - loss: 6.3741e-04 - mean_squared_error: 6.3741e-04\n",
      "Epoch 3/5\n",
      "36/36 [==============================] - 1s 17ms/step - loss: 6.4287e-04 - mean_squared_error: 6.4287e-04\n",
      "Epoch 4/5\n",
      "36/36 [==============================] - 1s 17ms/step - loss: 7.3682e-04 - mean_squared_error: 7.3682e-04\n",
      "Epoch 5/5\n",
      "36/36 [==============================] - 1s 17ms/step - loss: 6.9494e-04 - mean_squared_error: 6.9494e-04\n",
      "1/1 [==============================] - 0s 22ms/step\n"
     ]
    },
    {
     "data": {
      "text/plain": [
       "array([[22799.678]], dtype=float32)"
      ]
     },
     "metadata": {},
     "output_type": "display_data"
    },
    {
     "name": "stdout",
     "output_type": "stream",
     "text": [
      "Epoch 1/5\n",
      "36/36 [==============================] - 1s 17ms/step - loss: 6.6818e-04 - mean_squared_error: 6.6818e-04\n",
      "Epoch 2/5\n",
      "36/36 [==============================] - 1s 17ms/step - loss: 6.3146e-04 - mean_squared_error: 6.3146e-04\n",
      "Epoch 3/5\n",
      "36/36 [==============================] - 1s 17ms/step - loss: 7.5811e-04 - mean_squared_error: 7.5811e-04\n",
      "Epoch 4/5\n",
      "36/36 [==============================] - 1s 19ms/step - loss: 6.1121e-04 - mean_squared_error: 6.1121e-04\n",
      "Epoch 5/5\n",
      "36/36 [==============================] - 1s 17ms/step - loss: 6.8093e-04 - mean_squared_error: 6.8093e-04\n",
      "1/1 [==============================] - 0s 22ms/step\n"
     ]
    },
    {
     "data": {
      "text/plain": [
       "array([[23164.547]], dtype=float32)"
      ]
     },
     "metadata": {},
     "output_type": "display_data"
    },
    {
     "name": "stdout",
     "output_type": "stream",
     "text": [
      "Epoch 1/5\n",
      "36/36 [==============================] - 1s 17ms/step - loss: 6.4084e-04 - mean_squared_error: 6.4084e-04\n",
      "Epoch 2/5\n",
      "36/36 [==============================] - 1s 17ms/step - loss: 6.2939e-04 - mean_squared_error: 6.2939e-04\n",
      "Epoch 3/5\n",
      "36/36 [==============================] - 1s 17ms/step - loss: 7.4617e-04 - mean_squared_error: 7.4617e-04\n",
      "Epoch 4/5\n",
      "36/36 [==============================] - 1s 17ms/step - loss: 6.5102e-04 - mean_squared_error: 6.5102e-04\n",
      "Epoch 5/5\n",
      "36/36 [==============================] - 1s 17ms/step - loss: 6.4782e-04 - mean_squared_error: 6.4782e-04\n",
      "1/1 [==============================] - 0s 23ms/step\n"
     ]
    },
    {
     "data": {
      "text/plain": [
       "array([[23044.592]], dtype=float32)"
      ]
     },
     "metadata": {},
     "output_type": "display_data"
    },
    {
     "name": "stdout",
     "output_type": "stream",
     "text": [
      "Epoch 1/5\n",
      "36/36 [==============================] - 1s 17ms/step - loss: 6.9288e-04 - mean_squared_error: 6.9288e-04\n",
      "Epoch 2/5\n",
      "36/36 [==============================] - 1s 17ms/step - loss: 7.2754e-04 - mean_squared_error: 7.2754e-04\n",
      "Epoch 3/5\n",
      "36/36 [==============================] - 1s 17ms/step - loss: 6.7455e-04 - mean_squared_error: 6.7455e-04\n",
      "Epoch 4/5\n",
      "36/36 [==============================] - 1s 16ms/step - loss: 6.3907e-04 - mean_squared_error: 6.3907e-04\n",
      "Epoch 5/5\n",
      "36/36 [==============================] - 1s 17ms/step - loss: 7.1103e-04 - mean_squared_error: 7.1103e-04\n",
      "1/1 [==============================] - 0s 22ms/step\n"
     ]
    },
    {
     "data": {
      "text/plain": [
       "array([[22594.174]], dtype=float32)"
      ]
     },
     "metadata": {},
     "output_type": "display_data"
    },
    {
     "name": "stdout",
     "output_type": "stream",
     "text": [
      "Epoch 1/5\n",
      "36/36 [==============================] - 1s 17ms/step - loss: 6.2100e-04 - mean_squared_error: 6.2100e-04\n",
      "Epoch 2/5\n",
      "36/36 [==============================] - 1s 17ms/step - loss: 6.8286e-04 - mean_squared_error: 6.8286e-04\n",
      "Epoch 3/5\n",
      "36/36 [==============================] - 1s 17ms/step - loss: 6.4190e-04 - mean_squared_error: 6.4190e-04\n",
      "Epoch 4/5\n",
      "36/36 [==============================] - 1s 17ms/step - loss: 6.0930e-04 - mean_squared_error: 6.0930e-04\n",
      "Epoch 5/5\n",
      "36/36 [==============================] - 1s 17ms/step - loss: 5.7885e-04 - mean_squared_error: 5.7885e-04\n",
      "1/1 [==============================] - 0s 22ms/step\n"
     ]
    },
    {
     "data": {
      "text/plain": [
       "array([[23075.438]], dtype=float32)"
      ]
     },
     "metadata": {},
     "output_type": "display_data"
    },
    {
     "name": "stdout",
     "output_type": "stream",
     "text": [
      "Epoch 1/5\n",
      "36/36 [==============================] - 1s 17ms/step - loss: 5.6980e-04 - mean_squared_error: 5.6980e-04\n",
      "Epoch 2/5\n",
      "36/36 [==============================] - 1s 17ms/step - loss: 6.7423e-04 - mean_squared_error: 6.7423e-04\n",
      "Epoch 3/5\n",
      "36/36 [==============================] - 1s 17ms/step - loss: 6.3928e-04 - mean_squared_error: 6.3928e-04\n",
      "Epoch 4/5\n",
      "36/36 [==============================] - 1s 17ms/step - loss: 6.1576e-04 - mean_squared_error: 6.1576e-04\n",
      "Epoch 5/5\n",
      "36/36 [==============================] - 1s 17ms/step - loss: 5.8894e-04 - mean_squared_error: 5.8894e-04\n",
      "1/1 [==============================] - 0s 24ms/step\n"
     ]
    },
    {
     "data": {
      "text/plain": [
       "array([[22462.383]], dtype=float32)"
      ]
     },
     "metadata": {},
     "output_type": "display_data"
    },
    {
     "name": "stdout",
     "output_type": "stream",
     "text": [
      "Epoch 1/5\n",
      "36/36 [==============================] - 1s 17ms/step - loss: 6.5207e-04 - mean_squared_error: 6.5207e-04\n",
      "Epoch 2/5\n",
      "36/36 [==============================] - 1s 17ms/step - loss: 6.9820e-04 - mean_squared_error: 6.9820e-04\n",
      "Epoch 3/5\n",
      "36/36 [==============================] - 1s 17ms/step - loss: 6.5605e-04 - mean_squared_error: 6.5605e-04\n",
      "Epoch 4/5\n",
      "36/36 [==============================] - 1s 17ms/step - loss: 6.5363e-04 - mean_squared_error: 6.5363e-04\n",
      "Epoch 5/5\n",
      "36/36 [==============================] - 1s 17ms/step - loss: 6.8578e-04 - mean_squared_error: 6.8578e-04\n",
      "1/1 [==============================] - 0s 25ms/step\n"
     ]
    },
    {
     "data": {
      "text/plain": [
       "array([[22747.506]], dtype=float32)"
      ]
     },
     "metadata": {},
     "output_type": "display_data"
    },
    {
     "name": "stdout",
     "output_type": "stream",
     "text": [
      "Epoch 1/5\n",
      "36/36 [==============================] - 1s 17ms/step - loss: 6.8263e-04 - mean_squared_error: 6.8263e-04\n",
      "Epoch 2/5\n",
      "36/36 [==============================] - 1s 17ms/step - loss: 5.6636e-04 - mean_squared_error: 5.6636e-04\n",
      "Epoch 3/5\n",
      "36/36 [==============================] - 1s 17ms/step - loss: 6.0719e-04 - mean_squared_error: 6.0719e-04\n",
      "Epoch 4/5\n",
      "36/36 [==============================] - 1s 17ms/step - loss: 6.7762e-04 - mean_squared_error: 6.7762e-04\n",
      "Epoch 5/5\n",
      "36/36 [==============================] - 1s 17ms/step - loss: 6.6584e-04 - mean_squared_error: 6.6584e-04\n",
      "1/1 [==============================] - 0s 22ms/step\n"
     ]
    },
    {
     "data": {
      "text/plain": [
       "array([[23160.822]], dtype=float32)"
      ]
     },
     "metadata": {},
     "output_type": "display_data"
    },
    {
     "name": "stdout",
     "output_type": "stream",
     "text": [
      "Epoch 1/5\n",
      "36/36 [==============================] - 1s 17ms/step - loss: 6.4428e-04 - mean_squared_error: 6.4428e-04\n",
      "Epoch 2/5\n",
      "36/36 [==============================] - 1s 17ms/step - loss: 6.1306e-04 - mean_squared_error: 6.1306e-04\n",
      "Epoch 3/5\n",
      "36/36 [==============================] - 1s 17ms/step - loss: 6.2702e-04 - mean_squared_error: 6.2702e-04\n",
      "Epoch 4/5\n",
      "36/36 [==============================] - 1s 17ms/step - loss: 5.7266e-04 - mean_squared_error: 5.7266e-04\n",
      "Epoch 5/5\n",
      "36/36 [==============================] - 1s 17ms/step - loss: 5.5753e-04 - mean_squared_error: 5.5753e-04\n",
      "1/1 [==============================] - 0s 22ms/step\n"
     ]
    },
    {
     "data": {
      "text/plain": [
       "array([[23141.83]], dtype=float32)"
      ]
     },
     "metadata": {},
     "output_type": "display_data"
    },
    {
     "name": "stdout",
     "output_type": "stream",
     "text": [
      "Epoch 1/5\n",
      "36/36 [==============================] - 1s 17ms/step - loss: 5.9936e-04 - mean_squared_error: 5.9936e-04\n",
      "Epoch 2/5\n",
      "36/36 [==============================] - 1s 17ms/step - loss: 6.7970e-04 - mean_squared_error: 6.7970e-04\n",
      "Epoch 3/5\n",
      "36/36 [==============================] - 1s 17ms/step - loss: 8.0559e-04 - mean_squared_error: 8.0559e-04\n",
      "Epoch 4/5\n",
      "36/36 [==============================] - 1s 17ms/step - loss: 5.9953e-04 - mean_squared_error: 5.9953e-04\n",
      "Epoch 5/5\n",
      "36/36 [==============================] - 1s 17ms/step - loss: 6.1811e-04 - mean_squared_error: 6.1811e-04\n",
      "1/1 [==============================] - 0s 22ms/step\n"
     ]
    },
    {
     "data": {
      "text/plain": [
       "array([[22486.227]], dtype=float32)"
      ]
     },
     "metadata": {},
     "output_type": "display_data"
    },
    {
     "name": "stdout",
     "output_type": "stream",
     "text": [
      "Epoch 1/5\n",
      "36/36 [==============================] - 1s 17ms/step - loss: 6.1415e-04 - mean_squared_error: 6.1415e-04\n",
      "Epoch 2/5\n",
      "36/36 [==============================] - 1s 17ms/step - loss: 5.8674e-04 - mean_squared_error: 5.8674e-04\n",
      "Epoch 3/5\n",
      "36/36 [==============================] - 1s 17ms/step - loss: 6.1205e-04 - mean_squared_error: 6.1205e-04\n",
      "Epoch 4/5\n",
      "36/36 [==============================] - 1s 17ms/step - loss: 5.9406e-04 - mean_squared_error: 5.9406e-04\n",
      "Epoch 5/5\n",
      "36/36 [==============================] - 1s 17ms/step - loss: 5.6896e-04 - mean_squared_error: 5.6896e-04\n",
      "1/1 [==============================] - 0s 24ms/step\n"
     ]
    },
    {
     "data": {
      "text/plain": [
       "array([[22875.178]], dtype=float32)"
      ]
     },
     "metadata": {},
     "output_type": "display_data"
    },
    {
     "name": "stdout",
     "output_type": "stream",
     "text": [
      "Epoch 1/5\n",
      "36/36 [==============================] - 1s 17ms/step - loss: 6.5227e-04 - mean_squared_error: 6.5227e-04\n",
      "Epoch 2/5\n",
      "36/36 [==============================] - 1s 17ms/step - loss: 5.7363e-04 - mean_squared_error: 5.7363e-04\n",
      "Epoch 3/5\n",
      "36/36 [==============================] - 1s 17ms/step - loss: 6.3557e-04 - mean_squared_error: 6.3557e-04\n",
      "Epoch 4/5\n",
      "36/36 [==============================] - 1s 17ms/step - loss: 6.9172e-04 - mean_squared_error: 6.9172e-04\n",
      "Epoch 5/5\n",
      "36/36 [==============================] - 1s 17ms/step - loss: 5.6291e-04 - mean_squared_error: 5.6291e-04\n",
      "1/1 [==============================] - 0s 22ms/step\n"
     ]
    },
    {
     "data": {
      "text/plain": [
       "array([[22933.145]], dtype=float32)"
      ]
     },
     "metadata": {},
     "output_type": "display_data"
    },
    {
     "name": "stdout",
     "output_type": "stream",
     "text": [
      "Epoch 1/5\n",
      "36/36 [==============================] - 1s 17ms/step - loss: 5.5115e-04 - mean_squared_error: 5.5115e-04\n",
      "Epoch 2/5\n",
      "36/36 [==============================] - 1s 17ms/step - loss: 6.2221e-04 - mean_squared_error: 6.2221e-04\n",
      "Epoch 3/5\n",
      "36/36 [==============================] - 1s 17ms/step - loss: 5.6932e-04 - mean_squared_error: 5.6932e-04\n",
      "Epoch 4/5\n",
      "36/36 [==============================] - 1s 17ms/step - loss: 5.8091e-04 - mean_squared_error: 5.8091e-04\n",
      "Epoch 5/5\n",
      "36/36 [==============================] - 1s 17ms/step - loss: 6.0770e-04 - mean_squared_error: 6.0770e-04\n",
      "1/1 [==============================] - 0s 23ms/step\n"
     ]
    },
    {
     "data": {
      "text/plain": [
       "array([[22507.666]], dtype=float32)"
      ]
     },
     "metadata": {},
     "output_type": "display_data"
    },
    {
     "name": "stdout",
     "output_type": "stream",
     "text": [
      "Epoch 1/5\n",
      "36/36 [==============================] - 1s 17ms/step - loss: 5.9059e-04 - mean_squared_error: 5.9059e-04\n",
      "Epoch 2/5\n",
      "36/36 [==============================] - 1s 17ms/step - loss: 5.8059e-04 - mean_squared_error: 5.8059e-04\n",
      "Epoch 3/5\n",
      "36/36 [==============================] - 1s 17ms/step - loss: 6.0227e-04 - mean_squared_error: 6.0227e-04\n",
      "Epoch 4/5\n",
      "36/36 [==============================] - 1s 17ms/step - loss: 5.4215e-04 - mean_squared_error: 5.4215e-04\n",
      "Epoch 5/5\n",
      "36/36 [==============================] - 1s 19ms/step - loss: 5.2959e-04 - mean_squared_error: 5.2959e-04\n",
      "1/1 [==============================] - 0s 23ms/step\n"
     ]
    },
    {
     "data": {
      "text/plain": [
       "array([[22370.797]], dtype=float32)"
      ]
     },
     "metadata": {},
     "output_type": "display_data"
    },
    {
     "name": "stdout",
     "output_type": "stream",
     "text": [
      "Epoch 1/5\n",
      "36/36 [==============================] - 1s 17ms/step - loss: 6.7850e-04 - mean_squared_error: 6.7850e-04\n",
      "Epoch 2/5\n",
      "36/36 [==============================] - 1s 17ms/step - loss: 5.9323e-04 - mean_squared_error: 5.9323e-04\n",
      "Epoch 3/5\n",
      "36/36 [==============================] - 1s 17ms/step - loss: 6.4816e-04 - mean_squared_error: 6.4816e-04\n",
      "Epoch 4/5\n",
      "36/36 [==============================] - 1s 17ms/step - loss: 6.4203e-04 - mean_squared_error: 6.4203e-04\n",
      "Epoch 5/5\n",
      "36/36 [==============================] - 1s 17ms/step - loss: 5.7938e-04 - mean_squared_error: 5.7938e-04\n",
      "1/1 [==============================] - 0s 23ms/step\n"
     ]
    },
    {
     "data": {
      "text/plain": [
       "array([[22811.799]], dtype=float32)"
      ]
     },
     "metadata": {},
     "output_type": "display_data"
    },
    {
     "name": "stdout",
     "output_type": "stream",
     "text": [
      "Epoch 1/5\n",
      "36/36 [==============================] - 1s 17ms/step - loss: 5.6488e-04 - mean_squared_error: 5.6488e-04\n",
      "Epoch 2/5\n",
      "36/36 [==============================] - 1s 17ms/step - loss: 6.3877e-04 - mean_squared_error: 6.3877e-04\n",
      "Epoch 3/5\n",
      "36/36 [==============================] - 1s 17ms/step - loss: 5.8304e-04 - mean_squared_error: 5.8304e-04\n",
      "Epoch 4/5\n",
      "36/36 [==============================] - 1s 17ms/step - loss: 5.5355e-04 - mean_squared_error: 5.5355e-04\n",
      "Epoch 5/5\n",
      "36/36 [==============================] - 1s 16ms/step - loss: 5.7235e-04 - mean_squared_error: 5.7235e-04\n",
      "1/1 [==============================] - 0s 22ms/step\n"
     ]
    },
    {
     "data": {
      "text/plain": [
       "array([[22721.35]], dtype=float32)"
      ]
     },
     "metadata": {},
     "output_type": "display_data"
    },
    {
     "name": "stdout",
     "output_type": "stream",
     "text": [
      "Epoch 1/5\n",
      "36/36 [==============================] - 1s 17ms/step - loss: 6.4834e-04 - mean_squared_error: 6.4834e-04\n",
      "Epoch 2/5\n",
      "36/36 [==============================] - 1s 17ms/step - loss: 5.6777e-04 - mean_squared_error: 5.6777e-04\n",
      "Epoch 3/5\n",
      "36/36 [==============================] - 1s 17ms/step - loss: 6.3316e-04 - mean_squared_error: 6.3316e-04\n",
      "Epoch 4/5\n",
      "36/36 [==============================] - 1s 17ms/step - loss: 5.9849e-04 - mean_squared_error: 5.9849e-04\n",
      "Epoch 5/5\n",
      "36/36 [==============================] - 1s 17ms/step - loss: 5.8746e-04 - mean_squared_error: 5.8746e-04\n",
      "1/1 [==============================] - 0s 23ms/step\n"
     ]
    },
    {
     "data": {
      "text/plain": [
       "array([[22940.66]], dtype=float32)"
      ]
     },
     "metadata": {},
     "output_type": "display_data"
    },
    {
     "name": "stdout",
     "output_type": "stream",
     "text": [
      "Epoch 1/5\n",
      "36/36 [==============================] - 1s 17ms/step - loss: 5.5097e-04 - mean_squared_error: 5.5097e-04\n",
      "Epoch 2/5\n",
      "36/36 [==============================] - 1s 17ms/step - loss: 6.1176e-04 - mean_squared_error: 6.1176e-04\n",
      "Epoch 3/5\n",
      "36/36 [==============================] - 1s 17ms/step - loss: 6.5916e-04 - mean_squared_error: 6.5916e-04\n",
      "Epoch 4/5\n",
      "36/36 [==============================] - 1s 17ms/step - loss: 5.5811e-04 - mean_squared_error: 5.5811e-04\n",
      "Epoch 5/5\n",
      "36/36 [==============================] - 1s 17ms/step - loss: 6.1803e-04 - mean_squared_error: 6.1803e-04\n",
      "1/1 [==============================] - 0s 23ms/step\n"
     ]
    },
    {
     "data": {
      "text/plain": [
       "array([[22930.412]], dtype=float32)"
      ]
     },
     "metadata": {},
     "output_type": "display_data"
    },
    {
     "name": "stdout",
     "output_type": "stream",
     "text": [
      "Epoch 1/5\n",
      "36/36 [==============================] - 1s 17ms/step - loss: 5.8574e-04 - mean_squared_error: 5.8574e-04\n",
      "Epoch 2/5\n",
      "36/36 [==============================] - 1s 17ms/step - loss: 6.3003e-04 - mean_squared_error: 6.3003e-04\n",
      "Epoch 3/5\n",
      "36/36 [==============================] - 1s 17ms/step - loss: 6.4459e-04 - mean_squared_error: 6.4459e-04\n",
      "Epoch 4/5\n",
      "36/36 [==============================] - 1s 17ms/step - loss: 5.8934e-04 - mean_squared_error: 5.8934e-04\n",
      "Epoch 5/5\n",
      "36/36 [==============================] - 1s 17ms/step - loss: 5.5926e-04 - mean_squared_error: 5.5926e-04\n",
      "1/1 [==============================] - 0s 22ms/step\n"
     ]
    },
    {
     "data": {
      "text/plain": [
       "array([[23011.104]], dtype=float32)"
      ]
     },
     "metadata": {},
     "output_type": "display_data"
    },
    {
     "name": "stdout",
     "output_type": "stream",
     "text": [
      "Epoch 1/5\n",
      "36/36 [==============================] - 1s 17ms/step - loss: 5.9277e-04 - mean_squared_error: 5.9277e-04\n",
      "Epoch 2/5\n",
      "36/36 [==============================] - 1s 17ms/step - loss: 6.6339e-04 - mean_squared_error: 6.6339e-04\n",
      "Epoch 3/5\n",
      "36/36 [==============================] - 1s 21ms/step - loss: 6.3418e-04 - mean_squared_error: 6.3418e-04\n",
      "Epoch 4/5\n",
      "36/36 [==============================] - 1s 19ms/step - loss: 5.8716e-04 - mean_squared_error: 5.8716e-04\n",
      "Epoch 5/5\n",
      "36/36 [==============================] - 1s 17ms/step - loss: 6.2482e-04 - mean_squared_error: 6.2482e-04\n",
      "1/1 [==============================] - 0s 22ms/step\n"
     ]
    },
    {
     "data": {
      "text/plain": [
       "array([[22854.043]], dtype=float32)"
      ]
     },
     "metadata": {},
     "output_type": "display_data"
    },
    {
     "name": "stdout",
     "output_type": "stream",
     "text": [
      "Epoch 1/5\n",
      "36/36 [==============================] - 1s 17ms/step - loss: 6.1968e-04 - mean_squared_error: 6.1968e-04\n",
      "Epoch 2/5\n",
      "36/36 [==============================] - 1s 17ms/step - loss: 5.9420e-04 - mean_squared_error: 5.9420e-04\n",
      "Epoch 3/5\n",
      "36/36 [==============================] - 1s 17ms/step - loss: 5.6565e-04 - mean_squared_error: 5.6565e-04\n",
      "Epoch 4/5\n",
      "36/36 [==============================] - 1s 17ms/step - loss: 5.9701e-04 - mean_squared_error: 5.9701e-04\n",
      "Epoch 5/5\n",
      "36/36 [==============================] - 1s 17ms/step - loss: 5.9904e-04 - mean_squared_error: 5.9904e-04\n",
      "1/1 [==============================] - 0s 22ms/step\n"
     ]
    },
    {
     "data": {
      "text/plain": [
       "array([[22782.932]], dtype=float32)"
      ]
     },
     "metadata": {},
     "output_type": "display_data"
    },
    {
     "name": "stdout",
     "output_type": "stream",
     "text": [
      "Epoch 1/5\n",
      "36/36 [==============================] - 1s 17ms/step - loss: 5.4333e-04 - mean_squared_error: 5.4333e-04\n",
      "Epoch 2/5\n",
      "36/36 [==============================] - 1s 17ms/step - loss: 5.4855e-04 - mean_squared_error: 5.4855e-04\n",
      "Epoch 3/5\n",
      "36/36 [==============================] - 1s 18ms/step - loss: 6.1279e-04 - mean_squared_error: 6.1279e-04\n",
      "Epoch 4/5\n",
      "36/36 [==============================] - 1s 17ms/step - loss: 5.9400e-04 - mean_squared_error: 5.9400e-04\n",
      "Epoch 5/5\n",
      "36/36 [==============================] - 1s 17ms/step - loss: 6.0411e-04 - mean_squared_error: 6.0411e-04\n",
      "1/1 [==============================] - 0s 24ms/step\n"
     ]
    },
    {
     "data": {
      "text/plain": [
       "array([[23126.977]], dtype=float32)"
      ]
     },
     "metadata": {},
     "output_type": "display_data"
    },
    {
     "name": "stdout",
     "output_type": "stream",
     "text": [
      "Epoch 1/5\n",
      "36/36 [==============================] - 1s 17ms/step - loss: 6.4339e-04 - mean_squared_error: 6.4339e-04\n",
      "Epoch 2/5\n",
      "36/36 [==============================] - 1s 17ms/step - loss: 6.1112e-04 - mean_squared_error: 6.1112e-04\n",
      "Epoch 3/5\n",
      "36/36 [==============================] - 1s 17ms/step - loss: 5.6249e-04 - mean_squared_error: 5.6249e-04\n",
      "Epoch 4/5\n",
      "36/36 [==============================] - 1s 17ms/step - loss: 5.7096e-04 - mean_squared_error: 5.7096e-04\n",
      "Epoch 5/5\n",
      "36/36 [==============================] - 1s 17ms/step - loss: 6.1187e-04 - mean_squared_error: 6.1187e-04\n",
      "1/1 [==============================] - 0s 22ms/step\n"
     ]
    },
    {
     "data": {
      "text/plain": [
       "array([[22649.584]], dtype=float32)"
      ]
     },
     "metadata": {},
     "output_type": "display_data"
    },
    {
     "name": "stdout",
     "output_type": "stream",
     "text": [
      "Epoch 1/5\n",
      "36/36 [==============================] - 1s 17ms/step - loss: 6.0509e-04 - mean_squared_error: 6.0509e-04\n",
      "Epoch 2/5\n",
      "36/36 [==============================] - 1s 17ms/step - loss: 5.7093e-04 - mean_squared_error: 5.7093e-04\n",
      "Epoch 3/5\n",
      "36/36 [==============================] - 1s 17ms/step - loss: 5.7421e-04 - mean_squared_error: 5.7421e-04\n",
      "Epoch 4/5\n",
      "36/36 [==============================] - 1s 17ms/step - loss: 5.5805e-04 - mean_squared_error: 5.5805e-04\n",
      "Epoch 5/5\n",
      "36/36 [==============================] - 1s 17ms/step - loss: 5.8957e-04 - mean_squared_error: 5.8957e-04\n",
      "1/1 [==============================] - 0s 22ms/step\n"
     ]
    },
    {
     "data": {
      "text/plain": [
       "array([[22932.412]], dtype=float32)"
      ]
     },
     "metadata": {},
     "output_type": "display_data"
    },
    {
     "name": "stdout",
     "output_type": "stream",
     "text": [
      "Epoch 1/5\n",
      "36/36 [==============================] - 1s 17ms/step - loss: 5.5752e-04 - mean_squared_error: 5.5752e-04\n",
      "Epoch 2/5\n",
      "36/36 [==============================] - 1s 17ms/step - loss: 5.2758e-04 - mean_squared_error: 5.2758e-04\n",
      "Epoch 3/5\n",
      "36/36 [==============================] - 1s 17ms/step - loss: 6.2387e-04 - mean_squared_error: 6.2387e-04\n",
      "Epoch 4/5\n",
      "36/36 [==============================] - 1s 17ms/step - loss: 5.4817e-04 - mean_squared_error: 5.4817e-04\n",
      "Epoch 5/5\n",
      "36/36 [==============================] - 1s 17ms/step - loss: 5.8462e-04 - mean_squared_error: 5.8462e-04\n",
      "1/1 [==============================] - 0s 23ms/step\n"
     ]
    },
    {
     "data": {
      "text/plain": [
       "array([[22470.39]], dtype=float32)"
      ]
     },
     "metadata": {},
     "output_type": "display_data"
    },
    {
     "name": "stdout",
     "output_type": "stream",
     "text": [
      "Epoch 1/5\n",
      "36/36 [==============================] - 1s 18ms/step - loss: 5.7118e-04 - mean_squared_error: 5.7118e-04\n",
      "Epoch 2/5\n",
      "36/36 [==============================] - 1s 17ms/step - loss: 5.6777e-04 - mean_squared_error: 5.6777e-04\n",
      "Epoch 3/5\n",
      "36/36 [==============================] - 1s 18ms/step - loss: 5.6887e-04 - mean_squared_error: 5.6887e-04\n",
      "Epoch 4/5\n",
      "36/36 [==============================] - 1s 17ms/step - loss: 5.7367e-04 - mean_squared_error: 5.7367e-04\n",
      "Epoch 5/5\n",
      "36/36 [==============================] - 1s 17ms/step - loss: 5.6650e-04 - mean_squared_error: 5.6650e-04\n",
      "1/1 [==============================] - 0s 22ms/step\n"
     ]
    },
    {
     "data": {
      "text/plain": [
       "array([[23726.314]], dtype=float32)"
      ]
     },
     "metadata": {},
     "output_type": "display_data"
    },
    {
     "name": "stdout",
     "output_type": "stream",
     "text": [
      "Epoch 1/5\n",
      "37/37 [==============================] - 1s 17ms/step - loss: 5.9261e-04 - mean_squared_error: 5.9261e-04\n",
      "Epoch 2/5\n",
      "37/37 [==============================] - 1s 17ms/step - loss: 5.4133e-04 - mean_squared_error: 5.4133e-04\n",
      "Epoch 3/5\n",
      "37/37 [==============================] - 1s 17ms/step - loss: 7.9951e-04 - mean_squared_error: 7.9951e-04\n",
      "Epoch 4/5\n",
      "37/37 [==============================] - 1s 17ms/step - loss: 8.8822e-04 - mean_squared_error: 8.8822e-04\n",
      "Epoch 5/5\n",
      "37/37 [==============================] - 1s 17ms/step - loss: 5.9568e-04 - mean_squared_error: 5.9568e-04\n",
      "1/1 [==============================] - 0s 24ms/step\n"
     ]
    },
    {
     "data": {
      "text/plain": [
       "array([[23237.062]], dtype=float32)"
      ]
     },
     "metadata": {},
     "output_type": "display_data"
    },
    {
     "name": "stdout",
     "output_type": "stream",
     "text": [
      "Epoch 1/5\n",
      "37/37 [==============================] - 1s 17ms/step - loss: 5.6084e-04 - mean_squared_error: 5.6084e-04\n",
      "Epoch 2/5\n",
      "37/37 [==============================] - 1s 17ms/step - loss: 5.6681e-04 - mean_squared_error: 5.6681e-04\n",
      "Epoch 3/5\n",
      "37/37 [==============================] - 1s 17ms/step - loss: 5.7715e-04 - mean_squared_error: 5.7715e-04\n",
      "Epoch 4/5\n",
      "37/37 [==============================] - 1s 16ms/step - loss: 5.1901e-04 - mean_squared_error: 5.1901e-04\n",
      "Epoch 5/5\n",
      "37/37 [==============================] - 1s 18ms/step - loss: 5.9291e-04 - mean_squared_error: 5.9291e-04\n",
      "1/1 [==============================] - 0s 25ms/step\n"
     ]
    },
    {
     "data": {
      "text/plain": [
       "array([[23709.197]], dtype=float32)"
      ]
     },
     "metadata": {},
     "output_type": "display_data"
    },
    {
     "name": "stdout",
     "output_type": "stream",
     "text": [
      "Epoch 1/5\n",
      "37/37 [==============================] - 1s 18ms/step - loss: 6.2776e-04 - mean_squared_error: 6.2776e-04\n",
      "Epoch 2/5\n",
      "37/37 [==============================] - 1s 16ms/step - loss: 5.4214e-04 - mean_squared_error: 5.4214e-04\n",
      "Epoch 3/5\n",
      "37/37 [==============================] - 1s 17ms/step - loss: 5.5783e-04 - mean_squared_error: 5.5783e-04\n",
      "Epoch 4/5\n",
      "37/37 [==============================] - 1s 17ms/step - loss: 5.5458e-04 - mean_squared_error: 5.5458e-04\n",
      "Epoch 5/5\n",
      "37/37 [==============================] - 1s 19ms/step - loss: 5.3153e-04 - mean_squared_error: 5.3153e-04\n",
      "1/1 [==============================] - 0s 23ms/step\n"
     ]
    },
    {
     "data": {
      "text/plain": [
       "array([[24149.195]], dtype=float32)"
      ]
     },
     "metadata": {},
     "output_type": "display_data"
    },
    {
     "name": "stdout",
     "output_type": "stream",
     "text": [
      "Epoch 1/5\n",
      "37/37 [==============================] - 1s 17ms/step - loss: 5.6329e-04 - mean_squared_error: 5.6329e-04\n",
      "Epoch 2/5\n",
      "37/37 [==============================] - 1s 17ms/step - loss: 5.2707e-04 - mean_squared_error: 5.2707e-04\n",
      "Epoch 3/5\n",
      "37/37 [==============================] - 1s 18ms/step - loss: 6.4940e-04 - mean_squared_error: 6.4940e-04\n",
      "Epoch 4/5\n",
      "37/37 [==============================] - 1s 21ms/step - loss: 5.5172e-04 - mean_squared_error: 5.5172e-04\n",
      "Epoch 5/5\n",
      "37/37 [==============================] - 1s 18ms/step - loss: 5.5214e-04 - mean_squared_error: 5.5214e-04\n",
      "1/1 [==============================] - 0s 22ms/step\n"
     ]
    },
    {
     "data": {
      "text/plain": [
       "array([[23572.93]], dtype=float32)"
      ]
     },
     "metadata": {},
     "output_type": "display_data"
    },
    {
     "name": "stdout",
     "output_type": "stream",
     "text": [
      "Epoch 1/5\n",
      "37/37 [==============================] - 1s 20ms/step - loss: 5.7009e-04 - mean_squared_error: 5.7009e-04\n",
      "Epoch 2/5\n",
      "37/37 [==============================] - 1s 19ms/step - loss: 7.0975e-04 - mean_squared_error: 7.0975e-04\n",
      "Epoch 3/5\n",
      "37/37 [==============================] - 1s 19ms/step - loss: 5.8517e-04 - mean_squared_error: 5.8517e-04\n",
      "Epoch 4/5\n",
      "37/37 [==============================] - 1s 17ms/step - loss: 5.4255e-04 - mean_squared_error: 5.4255e-04\n",
      "Epoch 5/5\n",
      "37/37 [==============================] - 1s 17ms/step - loss: 6.0296e-04 - mean_squared_error: 6.0296e-04\n",
      "1/1 [==============================] - 0s 23ms/step\n"
     ]
    },
    {
     "data": {
      "text/plain": [
       "array([[23809.19]], dtype=float32)"
      ]
     },
     "metadata": {},
     "output_type": "display_data"
    },
    {
     "name": "stdout",
     "output_type": "stream",
     "text": [
      "Epoch 1/5\n",
      "37/37 [==============================] - 1s 18ms/step - loss: 5.3804e-04 - mean_squared_error: 5.3804e-04\n",
      "Epoch 2/5\n",
      "37/37 [==============================] - 1s 17ms/step - loss: 5.4144e-04 - mean_squared_error: 5.4144e-04\n",
      "Epoch 3/5\n",
      "37/37 [==============================] - 1s 20ms/step - loss: 5.2034e-04 - mean_squared_error: 5.2034e-04\n",
      "Epoch 4/5\n",
      "37/37 [==============================] - 1s 18ms/step - loss: 5.2774e-04 - mean_squared_error: 5.2774e-04\n",
      "Epoch 5/5\n",
      "37/37 [==============================] - 1s 18ms/step - loss: 5.5272e-04 - mean_squared_error: 5.5272e-04\n",
      "1/1 [==============================] - 0s 23ms/step\n"
     ]
    },
    {
     "data": {
      "text/plain": [
       "array([[24153.014]], dtype=float32)"
      ]
     },
     "metadata": {},
     "output_type": "display_data"
    },
    {
     "name": "stdout",
     "output_type": "stream",
     "text": [
      "Epoch 1/5\n",
      "37/37 [==============================] - 1s 23ms/step - loss: 5.1835e-04 - mean_squared_error: 5.1835e-04\n",
      "Epoch 2/5\n",
      "37/37 [==============================] - 1s 17ms/step - loss: 5.2837e-04 - mean_squared_error: 5.2837e-04\n",
      "Epoch 3/5\n",
      "37/37 [==============================] - 1s 17ms/step - loss: 5.4700e-04 - mean_squared_error: 5.4700e-04\n",
      "Epoch 4/5\n",
      "37/37 [==============================] - 1s 17ms/step - loss: 4.9275e-04 - mean_squared_error: 4.9275e-04\n",
      "Epoch 5/5\n",
      "37/37 [==============================] - 1s 17ms/step - loss: 5.3161e-04 - mean_squared_error: 5.3161e-04\n",
      "1/1 [==============================] - 0s 23ms/step\n"
     ]
    },
    {
     "data": {
      "text/plain": [
       "array([[24985.408]], dtype=float32)"
      ]
     },
     "metadata": {},
     "output_type": "display_data"
    },
    {
     "name": "stdout",
     "output_type": "stream",
     "text": [
      "Epoch 1/5\n",
      "37/37 [==============================] - 1s 17ms/step - loss: 5.9407e-04 - mean_squared_error: 5.9407e-04\n",
      "Epoch 2/5\n",
      "37/37 [==============================] - 1s 17ms/step - loss: 5.7440e-04 - mean_squared_error: 5.7440e-04\n",
      "Epoch 3/5\n",
      "37/37 [==============================] - 1s 17ms/step - loss: 6.0001e-04 - mean_squared_error: 6.0001e-04\n",
      "Epoch 4/5\n",
      "37/37 [==============================] - 1s 16ms/step - loss: 5.8633e-04 - mean_squared_error: 5.8633e-04\n",
      "Epoch 5/5\n",
      "37/37 [==============================] - 1s 17ms/step - loss: 5.8177e-04 - mean_squared_error: 5.8177e-04\n",
      "1/1 [==============================] - 0s 24ms/step\n"
     ]
    },
    {
     "data": {
      "text/plain": [
       "array([[25144.07]], dtype=float32)"
      ]
     },
     "metadata": {},
     "output_type": "display_data"
    },
    {
     "name": "stdout",
     "output_type": "stream",
     "text": [
      "Epoch 1/5\n",
      "37/37 [==============================] - 1s 17ms/step - loss: 5.7528e-04 - mean_squared_error: 5.7528e-04\n",
      "Epoch 2/5\n",
      "37/37 [==============================] - 1s 17ms/step - loss: 5.2646e-04 - mean_squared_error: 5.2646e-04\n",
      "Epoch 3/5\n",
      "37/37 [==============================] - 1s 17ms/step - loss: 5.1133e-04 - mean_squared_error: 5.1133e-04\n",
      "Epoch 4/5\n",
      "37/37 [==============================] - 1s 17ms/step - loss: 5.1939e-04 - mean_squared_error: 5.1939e-04\n",
      "Epoch 5/5\n",
      "37/37 [==============================] - 1s 17ms/step - loss: 5.3597e-04 - mean_squared_error: 5.3597e-04\n",
      "1/1 [==============================] - 0s 23ms/step\n"
     ]
    },
    {
     "data": {
      "text/plain": [
       "array([[24987.895]], dtype=float32)"
      ]
     },
     "metadata": {},
     "output_type": "display_data"
    },
    {
     "name": "stdout",
     "output_type": "stream",
     "text": [
      "Epoch 1/5\n",
      "37/37 [==============================] - 1s 17ms/step - loss: 5.3438e-04 - mean_squared_error: 5.3438e-04\n",
      "Epoch 2/5\n",
      "37/37 [==============================] - 1s 17ms/step - loss: 5.1553e-04 - mean_squared_error: 5.1553e-04\n",
      "Epoch 3/5\n",
      "37/37 [==============================] - 1s 17ms/step - loss: 5.4050e-04 - mean_squared_error: 5.4050e-04\n",
      "Epoch 4/5\n",
      "37/37 [==============================] - 1s 17ms/step - loss: 5.4090e-04 - mean_squared_error: 5.4090e-04\n",
      "Epoch 5/5\n",
      "37/37 [==============================] - 1s 17ms/step - loss: 5.4178e-04 - mean_squared_error: 5.4178e-04\n",
      "1/1 [==============================] - 0s 22ms/step\n"
     ]
    },
    {
     "data": {
      "text/plain": [
       "array([[25504.71]], dtype=float32)"
      ]
     },
     "metadata": {},
     "output_type": "display_data"
    },
    {
     "name": "stdout",
     "output_type": "stream",
     "text": [
      "Epoch 1/5\n",
      "37/37 [==============================] - 1s 17ms/step - loss: 5.5735e-04 - mean_squared_error: 5.5735e-04\n",
      "Epoch 2/5\n",
      "37/37 [==============================] - 1s 17ms/step - loss: 5.7950e-04 - mean_squared_error: 5.7950e-04\n",
      "Epoch 3/5\n",
      "37/37 [==============================] - 1s 17ms/step - loss: 5.9923e-04 - mean_squared_error: 5.9923e-04\n",
      "Epoch 4/5\n",
      "37/37 [==============================] - 1s 17ms/step - loss: 5.2398e-04 - mean_squared_error: 5.2398e-04\n",
      "Epoch 5/5\n",
      "37/37 [==============================] - 1s 17ms/step - loss: 5.4775e-04 - mean_squared_error: 5.4775e-04\n",
      "1/1 [==============================] - 0s 23ms/step\n"
     ]
    },
    {
     "data": {
      "text/plain": [
       "array([[25589.95]], dtype=float32)"
      ]
     },
     "metadata": {},
     "output_type": "display_data"
    },
    {
     "name": "stdout",
     "output_type": "stream",
     "text": [
      "Epoch 1/5\n",
      "37/37 [==============================] - 1s 17ms/step - loss: 5.6330e-04 - mean_squared_error: 5.6330e-04\n",
      "Epoch 2/5\n",
      "37/37 [==============================] - 1s 17ms/step - loss: 5.5282e-04 - mean_squared_error: 5.5282e-04\n",
      "Epoch 3/5\n",
      "37/37 [==============================] - 1s 17ms/step - loss: 5.6649e-04 - mean_squared_error: 5.6649e-04\n",
      "Epoch 4/5\n",
      "37/37 [==============================] - 1s 25ms/step - loss: 5.3022e-04 - mean_squared_error: 5.3022e-04\n",
      "Epoch 5/5\n",
      "37/37 [==============================] - 1s 17ms/step - loss: 5.4013e-04 - mean_squared_error: 5.4013e-04\n",
      "1/1 [==============================] - 0s 24ms/step\n"
     ]
    },
    {
     "data": {
      "text/plain": [
       "array([[26465.803]], dtype=float32)"
      ]
     },
     "metadata": {},
     "output_type": "display_data"
    },
    {
     "name": "stdout",
     "output_type": "stream",
     "text": [
      "Epoch 1/5\n",
      "37/37 [==============================] - 1s 17ms/step - loss: 5.1354e-04 - mean_squared_error: 5.1354e-04\n",
      "Epoch 2/5\n",
      "37/37 [==============================] - 1s 17ms/step - loss: 5.3246e-04 - mean_squared_error: 5.3246e-04\n",
      "Epoch 3/5\n",
      "37/37 [==============================] - 1s 18ms/step - loss: 5.1220e-04 - mean_squared_error: 5.1220e-04\n",
      "Epoch 4/5\n",
      "37/37 [==============================] - 1s 16ms/step - loss: 5.6064e-04 - mean_squared_error: 5.6064e-04\n",
      "Epoch 5/5\n",
      "37/37 [==============================] - 1s 17ms/step - loss: 5.5155e-04 - mean_squared_error: 5.5155e-04\n",
      "1/1 [==============================] - 0s 22ms/step\n"
     ]
    },
    {
     "data": {
      "text/plain": [
       "array([[27162.172]], dtype=float32)"
      ]
     },
     "metadata": {},
     "output_type": "display_data"
    },
    {
     "name": "stdout",
     "output_type": "stream",
     "text": [
      "Epoch 1/5\n",
      "37/37 [==============================] - 1s 17ms/step - loss: 5.0972e-04 - mean_squared_error: 5.0972e-04\n",
      "Epoch 2/5\n",
      "37/37 [==============================] - 1s 17ms/step - loss: 5.7106e-04 - mean_squared_error: 5.7106e-04\n",
      "Epoch 3/5\n",
      "37/37 [==============================] - 1s 17ms/step - loss: 6.5852e-04 - mean_squared_error: 6.5852e-04\n",
      "Epoch 4/5\n",
      "37/37 [==============================] - 1s 17ms/step - loss: 5.2226e-04 - mean_squared_error: 5.2226e-04\n",
      "Epoch 5/5\n",
      "37/37 [==============================] - 1s 17ms/step - loss: 5.0365e-04 - mean_squared_error: 5.0365e-04\n",
      "1/1 [==============================] - 0s 24ms/step\n"
     ]
    },
    {
     "data": {
      "text/plain": [
       "array([[27311.379]], dtype=float32)"
      ]
     },
     "metadata": {},
     "output_type": "display_data"
    },
    {
     "name": "stdout",
     "output_type": "stream",
     "text": [
      "Epoch 1/5\n",
      "37/37 [==============================] - 1s 17ms/step - loss: 5.3324e-04 - mean_squared_error: 5.3324e-04\n",
      "Epoch 2/5\n",
      "37/37 [==============================] - 1s 17ms/step - loss: 4.8497e-04 - mean_squared_error: 4.8497e-04\n",
      "Epoch 3/5\n",
      "37/37 [==============================] - 1s 17ms/step - loss: 5.4070e-04 - mean_squared_error: 5.4070e-04\n",
      "Epoch 4/5\n",
      "37/37 [==============================] - 1s 17ms/step - loss: 6.0915e-04 - mean_squared_error: 6.0915e-04\n",
      "Epoch 5/5\n",
      "37/37 [==============================] - 1s 17ms/step - loss: 5.1092e-04 - mean_squared_error: 5.1092e-04\n",
      "1/1 [==============================] - 0s 23ms/step\n"
     ]
    },
    {
     "data": {
      "text/plain": [
       "array([[27486.879]], dtype=float32)"
      ]
     },
     "metadata": {},
     "output_type": "display_data"
    },
    {
     "name": "stdout",
     "output_type": "stream",
     "text": [
      "Epoch 1/5\n",
      "37/37 [==============================] - 1s 18ms/step - loss: 5.0879e-04 - mean_squared_error: 5.0879e-04\n",
      "Epoch 2/5\n",
      "37/37 [==============================] - 1s 17ms/step - loss: 5.1023e-04 - mean_squared_error: 5.1023e-04\n",
      "Epoch 3/5\n",
      "37/37 [==============================] - 1s 17ms/step - loss: 5.0898e-04 - mean_squared_error: 5.0898e-04\n",
      "Epoch 4/5\n",
      "37/37 [==============================] - 1s 17ms/step - loss: 5.6254e-04 - mean_squared_error: 5.6254e-04\n",
      "Epoch 5/5\n",
      "37/37 [==============================] - 1s 17ms/step - loss: 5.7594e-04 - mean_squared_error: 5.7594e-04\n",
      "1/1 [==============================] - 0s 23ms/step\n"
     ]
    },
    {
     "data": {
      "text/plain": [
       "array([[27488.885]], dtype=float32)"
      ]
     },
     "metadata": {},
     "output_type": "display_data"
    },
    {
     "name": "stdout",
     "output_type": "stream",
     "text": [
      "Epoch 1/5\n",
      "37/37 [==============================] - 1s 17ms/step - loss: 5.2903e-04 - mean_squared_error: 5.2903e-04\n",
      "Epoch 2/5\n",
      "37/37 [==============================] - 1s 17ms/step - loss: 5.4658e-04 - mean_squared_error: 5.4658e-04\n",
      "Epoch 3/5\n",
      "37/37 [==============================] - 1s 17ms/step - loss: 5.2003e-04 - mean_squared_error: 5.2003e-04\n",
      "Epoch 4/5\n",
      "37/37 [==============================] - 1s 17ms/step - loss: 5.4347e-04 - mean_squared_error: 5.4347e-04\n",
      "Epoch 5/5\n",
      "37/37 [==============================] - 1s 17ms/step - loss: 5.1270e-04 - mean_squared_error: 5.1270e-04\n",
      "1/1 [==============================] - 0s 23ms/step\n"
     ]
    },
    {
     "data": {
      "text/plain": [
       "array([[27357.303]], dtype=float32)"
      ]
     },
     "metadata": {},
     "output_type": "display_data"
    },
    {
     "name": "stdout",
     "output_type": "stream",
     "text": [
      "Epoch 1/5\n",
      "37/37 [==============================] - 1s 17ms/step - loss: 5.2739e-04 - mean_squared_error: 5.2739e-04\n",
      "Epoch 2/5\n",
      "37/37 [==============================] - 1s 16ms/step - loss: 5.1958e-04 - mean_squared_error: 5.1958e-04\n",
      "Epoch 3/5\n",
      "37/37 [==============================] - 1s 17ms/step - loss: 5.0599e-04 - mean_squared_error: 5.0599e-04\n",
      "Epoch 4/5\n",
      "37/37 [==============================] - 1s 17ms/step - loss: 5.2269e-04 - mean_squared_error: 5.2269e-04\n",
      "Epoch 5/5\n",
      "37/37 [==============================] - 1s 17ms/step - loss: 5.1185e-04 - mean_squared_error: 5.1185e-04\n",
      "1/1 [==============================] - 0s 22ms/step\n"
     ]
    },
    {
     "data": {
      "text/plain": [
       "array([[27588.504]], dtype=float32)"
      ]
     },
     "metadata": {},
     "output_type": "display_data"
    },
    {
     "name": "stdout",
     "output_type": "stream",
     "text": [
      "Epoch 1/5\n",
      "37/37 [==============================] - 1s 17ms/step - loss: 5.1972e-04 - mean_squared_error: 5.1972e-04\n",
      "Epoch 2/5\n",
      "37/37 [==============================] - 1s 17ms/step - loss: 5.2677e-04 - mean_squared_error: 5.2677e-04\n",
      "Epoch 3/5\n",
      "37/37 [==============================] - 1s 17ms/step - loss: 5.3622e-04 - mean_squared_error: 5.3622e-04\n",
      "Epoch 4/5\n",
      "37/37 [==============================] - 1s 17ms/step - loss: 5.0738e-04 - mean_squared_error: 5.0738e-04\n",
      "Epoch 5/5\n",
      "37/37 [==============================] - 1s 17ms/step - loss: 5.7850e-04 - mean_squared_error: 5.7850e-04\n",
      "1/1 [==============================] - 0s 26ms/step\n"
     ]
    },
    {
     "data": {
      "text/plain": [
       "array([[27830.225]], dtype=float32)"
      ]
     },
     "metadata": {},
     "output_type": "display_data"
    },
    {
     "name": "stdout",
     "output_type": "stream",
     "text": [
      "Epoch 1/5\n",
      "37/37 [==============================] - 1s 17ms/step - loss: 5.3315e-04 - mean_squared_error: 5.3315e-04\n",
      "Epoch 2/5\n",
      "37/37 [==============================] - 1s 17ms/step - loss: 5.3395e-04 - mean_squared_error: 5.3395e-04\n",
      "Epoch 3/5\n",
      "37/37 [==============================] - 1s 18ms/step - loss: 6.0850e-04 - mean_squared_error: 6.0850e-04\n",
      "Epoch 4/5\n",
      "37/37 [==============================] - 1s 17ms/step - loss: 5.4841e-04 - mean_squared_error: 5.4841e-04\n",
      "Epoch 5/5\n",
      "37/37 [==============================] - 1s 16ms/step - loss: 5.1557e-04 - mean_squared_error: 5.1557e-04\n",
      "1/1 [==============================] - 0s 22ms/step\n"
     ]
    },
    {
     "data": {
      "text/plain": [
       "array([[27775.566]], dtype=float32)"
      ]
     },
     "metadata": {},
     "output_type": "display_data"
    },
    {
     "name": "stdout",
     "output_type": "stream",
     "text": [
      "Epoch 1/5\n",
      "37/37 [==============================] - 1s 17ms/step - loss: 5.3102e-04 - mean_squared_error: 5.3102e-04\n",
      "Epoch 2/5\n",
      "37/37 [==============================] - 1s 17ms/step - loss: 5.6330e-04 - mean_squared_error: 5.6330e-04\n",
      "Epoch 3/5\n",
      "37/37 [==============================] - 1s 17ms/step - loss: 5.3433e-04 - mean_squared_error: 5.3433e-04\n",
      "Epoch 4/5\n",
      "37/37 [==============================] - 1s 17ms/step - loss: 5.2000e-04 - mean_squared_error: 5.2000e-04\n",
      "Epoch 5/5\n",
      "37/37 [==============================] - 1s 17ms/step - loss: 5.2639e-04 - mean_squared_error: 5.2639e-04\n",
      "1/1 [==============================] - 0s 30ms/step\n"
     ]
    },
    {
     "data": {
      "text/plain": [
       "array([[28078.148]], dtype=float32)"
      ]
     },
     "metadata": {},
     "output_type": "display_data"
    },
    {
     "name": "stdout",
     "output_type": "stream",
     "text": [
      "Epoch 1/5\n",
      "37/37 [==============================] - 1s 18ms/step - loss: 5.1084e-04 - mean_squared_error: 5.1084e-04\n",
      "Epoch 2/5\n",
      "37/37 [==============================] - 1s 17ms/step - loss: 5.5273e-04 - mean_squared_error: 5.5273e-04\n",
      "Epoch 3/5\n",
      "37/37 [==============================] - 1s 17ms/step - loss: 5.5896e-04 - mean_squared_error: 5.5896e-04\n",
      "Epoch 4/5\n",
      "37/37 [==============================] - 1s 17ms/step - loss: 5.0140e-04 - mean_squared_error: 5.0140e-04\n",
      "Epoch 5/5\n",
      "37/37 [==============================] - 1s 17ms/step - loss: 5.2275e-04 - mean_squared_error: 5.2275e-04\n",
      "1/1 [==============================] - 0s 22ms/step\n"
     ]
    },
    {
     "data": {
      "text/plain": [
       "array([[28182.22]], dtype=float32)"
      ]
     },
     "metadata": {},
     "output_type": "display_data"
    },
    {
     "name": "stdout",
     "output_type": "stream",
     "text": [
      "Epoch 1/5\n",
      "37/37 [==============================] - 1s 17ms/step - loss: 5.3927e-04 - mean_squared_error: 5.3927e-04\n",
      "Epoch 2/5\n",
      "37/37 [==============================] - 1s 17ms/step - loss: 5.0315e-04 - mean_squared_error: 5.0315e-04\n",
      "Epoch 3/5\n",
      "37/37 [==============================] - 1s 17ms/step - loss: 5.1605e-04 - mean_squared_error: 5.1605e-04\n",
      "Epoch 4/5\n",
      "37/37 [==============================] - 1s 17ms/step - loss: 4.9189e-04 - mean_squared_error: 4.9189e-04\n",
      "Epoch 5/5\n",
      "37/37 [==============================] - 1s 17ms/step - loss: 5.4887e-04 - mean_squared_error: 5.4887e-04\n",
      "1/1 [==============================] - 0s 22ms/step\n"
     ]
    },
    {
     "data": {
      "text/plain": [
       "array([[28190.766]], dtype=float32)"
      ]
     },
     "metadata": {},
     "output_type": "display_data"
    },
    {
     "name": "stdout",
     "output_type": "stream",
     "text": [
      "Epoch 1/5\n",
      "37/37 [==============================] - 1s 17ms/step - loss: 5.6235e-04 - mean_squared_error: 5.6235e-04\n",
      "Epoch 2/5\n",
      "37/37 [==============================] - 1s 17ms/step - loss: 5.2668e-04 - mean_squared_error: 5.2668e-04\n",
      "Epoch 3/5\n",
      "37/37 [==============================] - 1s 17ms/step - loss: 4.9641e-04 - mean_squared_error: 4.9641e-04\n",
      "Epoch 4/5\n",
      "37/37 [==============================] - 1s 17ms/step - loss: 5.1151e-04 - mean_squared_error: 5.1151e-04\n",
      "Epoch 5/5\n",
      "37/37 [==============================] - 1s 17ms/step - loss: 5.4909e-04 - mean_squared_error: 5.4909e-04\n",
      "1/1 [==============================] - 0s 23ms/step\n"
     ]
    },
    {
     "data": {
      "text/plain": [
       "array([[28809.361]], dtype=float32)"
      ]
     },
     "metadata": {},
     "output_type": "display_data"
    },
    {
     "name": "stdout",
     "output_type": "stream",
     "text": [
      "Epoch 1/5\n",
      "37/37 [==============================] - 1s 17ms/step - loss: 5.3575e-04 - mean_squared_error: 5.3575e-04\n",
      "Epoch 2/5\n",
      "37/37 [==============================] - 1s 17ms/step - loss: 5.3636e-04 - mean_squared_error: 5.3636e-04\n",
      "Epoch 3/5\n",
      "37/37 [==============================] - 1s 17ms/step - loss: 5.2125e-04 - mean_squared_error: 5.2125e-04\n",
      "Epoch 4/5\n",
      "37/37 [==============================] - 1s 16ms/step - loss: 5.4284e-04 - mean_squared_error: 5.4284e-04\n",
      "Epoch 5/5\n",
      "37/37 [==============================] - 1s 17ms/step - loss: 5.4509e-04 - mean_squared_error: 5.4509e-04\n",
      "1/1 [==============================] - 0s 23ms/step\n"
     ]
    },
    {
     "data": {
      "text/plain": [
       "array([[28816.637]], dtype=float32)"
      ]
     },
     "metadata": {},
     "output_type": "display_data"
    },
    {
     "name": "stdout",
     "output_type": "stream",
     "text": [
      "Epoch 1/5\n",
      "37/37 [==============================] - 1s 17ms/step - loss: 5.4853e-04 - mean_squared_error: 5.4853e-04\n",
      "Epoch 2/5\n",
      "37/37 [==============================] - 1s 17ms/step - loss: 6.1138e-04 - mean_squared_error: 6.1138e-04\n",
      "Epoch 3/5\n",
      "37/37 [==============================] - 1s 17ms/step - loss: 5.0397e-04 - mean_squared_error: 5.0397e-04\n",
      "Epoch 4/5\n",
      "37/37 [==============================] - 1s 17ms/step - loss: 5.0229e-04 - mean_squared_error: 5.0229e-04\n",
      "Epoch 5/5\n",
      "37/37 [==============================] - 1s 16ms/step - loss: 5.1053e-04 - mean_squared_error: 5.1053e-04\n",
      "1/1 [==============================] - 0s 24ms/step\n"
     ]
    },
    {
     "data": {
      "text/plain": [
       "array([[29069.58]], dtype=float32)"
      ]
     },
     "metadata": {},
     "output_type": "display_data"
    },
    {
     "name": "stdout",
     "output_type": "stream",
     "text": [
      "Epoch 1/5\n",
      "37/37 [==============================] - 1s 17ms/step - loss: 5.4247e-04 - mean_squared_error: 5.4247e-04\n",
      "Epoch 2/5\n",
      "37/37 [==============================] - 1s 17ms/step - loss: 5.2954e-04 - mean_squared_error: 5.2954e-04\n",
      "Epoch 3/5\n",
      "37/37 [==============================] - 1s 17ms/step - loss: 4.6676e-04 - mean_squared_error: 4.6676e-04\n",
      "Epoch 4/5\n",
      "37/37 [==============================] - 1s 17ms/step - loss: 5.1312e-04 - mean_squared_error: 5.1312e-04\n",
      "Epoch 5/5\n",
      "37/37 [==============================] - 1s 17ms/step - loss: 4.9665e-04 - mean_squared_error: 4.9665e-04\n",
      "1/1 [==============================] - 0s 22ms/step\n"
     ]
    },
    {
     "data": {
      "text/plain": [
       "array([[29126.617]], dtype=float32)"
      ]
     },
     "metadata": {},
     "output_type": "display_data"
    },
    {
     "name": "stdout",
     "output_type": "stream",
     "text": [
      "Epoch 1/5\n",
      "37/37 [==============================] - 1s 17ms/step - loss: 5.3822e-04 - mean_squared_error: 5.3822e-04\n",
      "Epoch 2/5\n",
      "37/37 [==============================] - 1s 17ms/step - loss: 4.7845e-04 - mean_squared_error: 4.7845e-04\n",
      "Epoch 3/5\n",
      "37/37 [==============================] - 1s 17ms/step - loss: 4.9653e-04 - mean_squared_error: 4.9653e-04\n",
      "Epoch 4/5\n",
      "37/37 [==============================] - 1s 16ms/step - loss: 5.0469e-04 - mean_squared_error: 5.0469e-04\n",
      "Epoch 5/5\n",
      "37/37 [==============================] - 1s 17ms/step - loss: 5.3085e-04 - mean_squared_error: 5.3085e-04\n",
      "1/1 [==============================] - 0s 22ms/step\n"
     ]
    },
    {
     "data": {
      "text/plain": [
       "array([[30177.016]], dtype=float32)"
      ]
     },
     "metadata": {},
     "output_type": "display_data"
    },
    {
     "name": "stdout",
     "output_type": "stream",
     "text": [
      "Epoch 1/5\n",
      "37/37 [==============================] - 1s 17ms/step - loss: 5.1503e-04 - mean_squared_error: 5.1503e-04\n",
      "Epoch 2/5\n",
      "37/37 [==============================] - 1s 17ms/step - loss: 5.3390e-04 - mean_squared_error: 5.3390e-04\n",
      "Epoch 3/5\n",
      "37/37 [==============================] - 1s 17ms/step - loss: 4.8177e-04 - mean_squared_error: 4.8177e-04\n",
      "Epoch 4/5\n",
      "37/37 [==============================] - 1s 17ms/step - loss: 5.0889e-04 - mean_squared_error: 5.0889e-04\n",
      "Epoch 5/5\n",
      "37/37 [==============================] - 1s 17ms/step - loss: 5.4133e-04 - mean_squared_error: 5.4133e-04\n",
      "1/1 [==============================] - 0s 22ms/step\n"
     ]
    },
    {
     "data": {
      "text/plain": [
       "array([[30302.156]], dtype=float32)"
      ]
     },
     "metadata": {},
     "output_type": "display_data"
    },
    {
     "name": "stdout",
     "output_type": "stream",
     "text": [
      "Epoch 1/5\n",
      "37/37 [==============================] - 1s 17ms/step - loss: 5.1449e-04 - mean_squared_error: 5.1449e-04\n",
      "Epoch 2/5\n",
      "37/37 [==============================] - 1s 21ms/step - loss: 5.1035e-04 - mean_squared_error: 5.1035e-04\n",
      "Epoch 3/5\n",
      "37/37 [==============================] - 1s 16ms/step - loss: 5.2198e-04 - mean_squared_error: 5.2198e-04\n",
      "Epoch 4/5\n",
      "37/37 [==============================] - 1s 17ms/step - loss: 5.3789e-04 - mean_squared_error: 5.3789e-04\n",
      "Epoch 5/5\n",
      "37/37 [==============================] - 1s 17ms/step - loss: 5.0541e-04 - mean_squared_error: 5.0541e-04\n",
      "1/1 [==============================] - 0s 22ms/step\n"
     ]
    },
    {
     "data": {
      "text/plain": [
       "array([[31090.994]], dtype=float32)"
      ]
     },
     "metadata": {},
     "output_type": "display_data"
    },
    {
     "name": "stdout",
     "output_type": "stream",
     "text": [
      "Epoch 1/5\n",
      "37/37 [==============================] - 1s 17ms/step - loss: 5.5324e-04 - mean_squared_error: 5.5324e-04\n",
      "Epoch 2/5\n",
      "37/37 [==============================] - 1s 17ms/step - loss: 5.3580e-04 - mean_squared_error: 5.3580e-04\n",
      "Epoch 3/5\n",
      "37/37 [==============================] - 1s 17ms/step - loss: 5.0586e-04 - mean_squared_error: 5.0586e-04\n",
      "Epoch 4/5\n",
      "37/37 [==============================] - 1s 18ms/step - loss: 4.7453e-04 - mean_squared_error: 4.7453e-04\n",
      "Epoch 5/5\n",
      "37/37 [==============================] - 1s 17ms/step - loss: 4.8554e-04 - mean_squared_error: 4.8554e-04\n",
      "1/1 [==============================] - 0s 25ms/step\n"
     ]
    },
    {
     "data": {
      "text/plain": [
       "array([[31115.646]], dtype=float32)"
      ]
     },
     "metadata": {},
     "output_type": "display_data"
    },
    {
     "name": "stdout",
     "output_type": "stream",
     "text": [
      "Epoch 1/5\n",
      "37/37 [==============================] - 1s 17ms/step - loss: 4.9928e-04 - mean_squared_error: 4.9928e-04\n",
      "Epoch 2/5\n",
      "37/37 [==============================] - 1s 17ms/step - loss: 5.2002e-04 - mean_squared_error: 5.2002e-04\n",
      "Epoch 3/5\n",
      "37/37 [==============================] - 1s 17ms/step - loss: 5.7264e-04 - mean_squared_error: 5.7264e-04\n",
      "Epoch 4/5\n",
      "37/37 [==============================] - 1s 17ms/step - loss: 4.7106e-04 - mean_squared_error: 4.7106e-04\n",
      "Epoch 5/5\n",
      "37/37 [==============================] - 1s 17ms/step - loss: 4.7083e-04 - mean_squared_error: 4.7083e-04\n",
      "1/1 [==============================] - 0s 22ms/step\n"
     ]
    },
    {
     "data": {
      "text/plain": [
       "array([[31984.012]], dtype=float32)"
      ]
     },
     "metadata": {},
     "output_type": "display_data"
    },
    {
     "name": "stdout",
     "output_type": "stream",
     "text": [
      "Epoch 1/5\n",
      "38/38 [==============================] - 1s 17ms/step - loss: 5.5777e-04 - mean_squared_error: 5.5777e-04\n",
      "Epoch 2/5\n",
      "38/38 [==============================] - 1s 17ms/step - loss: 4.9580e-04 - mean_squared_error: 4.9580e-04\n",
      "Epoch 3/5\n",
      "38/38 [==============================] - 1s 17ms/step - loss: 5.4347e-04 - mean_squared_error: 5.4347e-04\n",
      "Epoch 4/5\n",
      "38/38 [==============================] - 1s 17ms/step - loss: 5.4036e-04 - mean_squared_error: 5.4036e-04\n",
      "Epoch 5/5\n",
      "38/38 [==============================] - 1s 16ms/step - loss: 5.1844e-04 - mean_squared_error: 5.1844e-04\n",
      "1/1 [==============================] - 0s 23ms/step\n"
     ]
    },
    {
     "data": {
      "text/plain": [
       "array([[32644.752]], dtype=float32)"
      ]
     },
     "metadata": {},
     "output_type": "display_data"
    },
    {
     "name": "stdout",
     "output_type": "stream",
     "text": [
      "Epoch 1/5\n",
      "38/38 [==============================] - 1s 17ms/step - loss: 5.8416e-04 - mean_squared_error: 5.8416e-04\n",
      "Epoch 2/5\n",
      "38/38 [==============================] - 1s 16ms/step - loss: 5.1686e-04 - mean_squared_error: 5.1686e-04\n",
      "Epoch 3/5\n",
      "38/38 [==============================] - 1s 17ms/step - loss: 5.3584e-04 - mean_squared_error: 5.3584e-04\n",
      "Epoch 4/5\n",
      "38/38 [==============================] - 1s 16ms/step - loss: 5.2122e-04 - mean_squared_error: 5.2122e-04\n",
      "Epoch 5/5\n",
      "38/38 [==============================] - 1s 17ms/step - loss: 4.9392e-04 - mean_squared_error: 4.9392e-04\n",
      "1/1 [==============================] - 0s 22ms/step\n"
     ]
    },
    {
     "data": {
      "text/plain": [
       "array([[32275.47]], dtype=float32)"
      ]
     },
     "metadata": {},
     "output_type": "display_data"
    },
    {
     "name": "stdout",
     "output_type": "stream",
     "text": [
      "Epoch 1/5\n",
      "38/38 [==============================] - 1s 17ms/step - loss: 5.1930e-04 - mean_squared_error: 5.1930e-04\n",
      "Epoch 2/5\n",
      "38/38 [==============================] - 1s 17ms/step - loss: 5.2246e-04 - mean_squared_error: 5.2246e-04\n",
      "Epoch 3/5\n",
      "38/38 [==============================] - 1s 17ms/step - loss: 5.1374e-04 - mean_squared_error: 5.1374e-04\n",
      "Epoch 4/5\n",
      "38/38 [==============================] - 1s 17ms/step - loss: 5.3213e-04 - mean_squared_error: 5.3213e-04\n",
      "Epoch 5/5\n",
      "38/38 [==============================] - 1s 17ms/step - loss: 5.4155e-04 - mean_squared_error: 5.4155e-04\n",
      "1/1 [==============================] - 0s 23ms/step\n"
     ]
    },
    {
     "data": {
      "text/plain": [
       "array([[32457.107]], dtype=float32)"
      ]
     },
     "metadata": {},
     "output_type": "display_data"
    },
    {
     "name": "stdout",
     "output_type": "stream",
     "text": [
      "Epoch 1/5\n",
      "38/38 [==============================] - 1s 17ms/step - loss: 5.3741e-04 - mean_squared_error: 5.3741e-04\n",
      "Epoch 2/5\n",
      "38/38 [==============================] - 1s 17ms/step - loss: 5.0660e-04 - mean_squared_error: 5.0660e-04\n",
      "Epoch 3/5\n",
      "38/38 [==============================] - 1s 17ms/step - loss: 4.9058e-04 - mean_squared_error: 4.9058e-04\n",
      "Epoch 4/5\n",
      "38/38 [==============================] - 1s 17ms/step - loss: 4.9870e-04 - mean_squared_error: 4.9870e-04\n",
      "Epoch 5/5\n",
      "38/38 [==============================] - 1s 17ms/step - loss: 5.5639e-04 - mean_squared_error: 5.5639e-04\n",
      "1/1 [==============================] - 0s 23ms/step\n"
     ]
    },
    {
     "data": {
      "text/plain": [
       "array([[32307.719]], dtype=float32)"
      ]
     },
     "metadata": {},
     "output_type": "display_data"
    },
    {
     "name": "stdout",
     "output_type": "stream",
     "text": [
      "Epoch 1/5\n",
      "38/38 [==============================] - 1s 17ms/step - loss: 5.5531e-04 - mean_squared_error: 5.5531e-04\n",
      "Epoch 2/5\n",
      "38/38 [==============================] - 1s 17ms/step - loss: 5.0961e-04 - mean_squared_error: 5.0961e-04\n",
      "Epoch 3/5\n",
      "38/38 [==============================] - 1s 17ms/step - loss: 4.8912e-04 - mean_squared_error: 4.8912e-04\n",
      "Epoch 4/5\n",
      "38/38 [==============================] - 1s 17ms/step - loss: 4.7819e-04 - mean_squared_error: 4.7819e-04\n",
      "Epoch 5/5\n",
      "38/38 [==============================] - 1s 17ms/step - loss: 4.8175e-04 - mean_squared_error: 4.8175e-04\n",
      "1/1 [==============================] - 0s 22ms/step\n"
     ]
    },
    {
     "data": {
      "text/plain": [
       "array([[33104.035]], dtype=float32)"
      ]
     },
     "metadata": {},
     "output_type": "display_data"
    },
    {
     "name": "stdout",
     "output_type": "stream",
     "text": [
      "Epoch 1/5\n",
      "38/38 [==============================] - 1s 17ms/step - loss: 5.3497e-04 - mean_squared_error: 5.3497e-04\n",
      "Epoch 2/5\n",
      "38/38 [==============================] - 1s 17ms/step - loss: 5.2725e-04 - mean_squared_error: 5.2725e-04\n",
      "Epoch 3/5\n",
      "38/38 [==============================] - 1s 17ms/step - loss: 4.8730e-04 - mean_squared_error: 4.8730e-04\n",
      "Epoch 4/5\n",
      "38/38 [==============================] - 1s 17ms/step - loss: 4.7587e-04 - mean_squared_error: 4.7587e-04\n",
      "Epoch 5/5\n",
      "38/38 [==============================] - 1s 17ms/step - loss: 5.1490e-04 - mean_squared_error: 5.1490e-04\n",
      "1/1 [==============================] - 0s 23ms/step\n"
     ]
    },
    {
     "data": {
      "text/plain": [
       "array([[33574.953]], dtype=float32)"
      ]
     },
     "metadata": {},
     "output_type": "display_data"
    },
    {
     "name": "stdout",
     "output_type": "stream",
     "text": [
      "Epoch 1/5\n",
      "38/38 [==============================] - 1s 17ms/step - loss: 5.1545e-04 - mean_squared_error: 5.1545e-04\n",
      "Epoch 2/5\n",
      "38/38 [==============================] - 1s 17ms/step - loss: 5.0251e-04 - mean_squared_error: 5.0251e-04\n",
      "Epoch 3/5\n",
      "38/38 [==============================] - 1s 17ms/step - loss: 5.1028e-04 - mean_squared_error: 5.1028e-04\n",
      "Epoch 4/5\n",
      "38/38 [==============================] - 1s 17ms/step - loss: 5.1362e-04 - mean_squared_error: 5.1362e-04\n",
      "Epoch 5/5\n",
      "38/38 [==============================] - 1s 17ms/step - loss: 5.5532e-04 - mean_squared_error: 5.5532e-04\n",
      "1/1 [==============================] - 0s 22ms/step\n"
     ]
    },
    {
     "data": {
      "text/plain": [
       "array([[33109.473]], dtype=float32)"
      ]
     },
     "metadata": {},
     "output_type": "display_data"
    },
    {
     "name": "stdout",
     "output_type": "stream",
     "text": [
      "Epoch 1/5\n",
      "38/38 [==============================] - 1s 17ms/step - loss: 5.0540e-04 - mean_squared_error: 5.0540e-04\n",
      "Epoch 2/5\n",
      "38/38 [==============================] - 1s 17ms/step - loss: 5.3204e-04 - mean_squared_error: 5.3204e-04\n",
      "Epoch 3/5\n",
      "38/38 [==============================] - 1s 17ms/step - loss: 5.5193e-04 - mean_squared_error: 5.5193e-04\n",
      "Epoch 4/5\n",
      "38/38 [==============================] - 1s 17ms/step - loss: 5.0908e-04 - mean_squared_error: 5.0908e-04\n",
      "Epoch 5/5\n",
      "38/38 [==============================] - 1s 17ms/step - loss: 4.9751e-04 - mean_squared_error: 4.9751e-04\n",
      "1/1 [==============================] - 0s 22ms/step\n"
     ]
    },
    {
     "data": {
      "text/plain": [
       "array([[33834.895]], dtype=float32)"
      ]
     },
     "metadata": {},
     "output_type": "display_data"
    },
    {
     "name": "stdout",
     "output_type": "stream",
     "text": [
      "Epoch 1/5\n",
      "38/38 [==============================] - 1s 17ms/step - loss: 5.0997e-04 - mean_squared_error: 5.0997e-04\n",
      "Epoch 2/5\n",
      "38/38 [==============================] - 1s 16ms/step - loss: 4.7245e-04 - mean_squared_error: 4.7245e-04\n",
      "Epoch 3/5\n",
      "38/38 [==============================] - 1s 17ms/step - loss: 4.7247e-04 - mean_squared_error: 4.7247e-04\n",
      "Epoch 4/5\n",
      "38/38 [==============================] - 1s 17ms/step - loss: 4.8332e-04 - mean_squared_error: 4.8332e-04\n",
      "Epoch 5/5\n",
      "38/38 [==============================] - 1s 17ms/step - loss: 4.8252e-04 - mean_squared_error: 4.8252e-04\n",
      "1/1 [==============================] - 0s 23ms/step\n"
     ]
    },
    {
     "data": {
      "text/plain": [
       "array([[33281.035]], dtype=float32)"
      ]
     },
     "metadata": {},
     "output_type": "display_data"
    },
    {
     "name": "stdout",
     "output_type": "stream",
     "text": [
      "Epoch 1/5\n",
      "38/38 [==============================] - 1s 17ms/step - loss: 5.0690e-04 - mean_squared_error: 5.0690e-04\n",
      "Epoch 2/5\n",
      "38/38 [==============================] - 1s 17ms/step - loss: 4.9650e-04 - mean_squared_error: 4.9650e-04\n",
      "Epoch 3/5\n",
      "38/38 [==============================] - 1s 17ms/step - loss: 4.9358e-04 - mean_squared_error: 4.9358e-04\n",
      "Epoch 4/5\n",
      "38/38 [==============================] - 1s 16ms/step - loss: 4.9237e-04 - mean_squared_error: 4.9237e-04\n",
      "Epoch 5/5\n",
      "38/38 [==============================] - 1s 17ms/step - loss: 4.9698e-04 - mean_squared_error: 4.9698e-04\n",
      "1/1 [==============================] - 0s 23ms/step\n"
     ]
    },
    {
     "data": {
      "text/plain": [
       "array([[32930.883]], dtype=float32)"
      ]
     },
     "metadata": {},
     "output_type": "display_data"
    },
    {
     "name": "stdout",
     "output_type": "stream",
     "text": [
      "Epoch 1/5\n",
      "38/38 [==============================] - 1s 17ms/step - loss: 5.1114e-04 - mean_squared_error: 5.1114e-04\n",
      "Epoch 2/5\n",
      "38/38 [==============================] - 1s 17ms/step - loss: 4.6861e-04 - mean_squared_error: 4.6861e-04\n",
      "Epoch 3/5\n",
      "38/38 [==============================] - 1s 17ms/step - loss: 4.8812e-04 - mean_squared_error: 4.8812e-04\n",
      "Epoch 4/5\n",
      "38/38 [==============================] - 1s 17ms/step - loss: 4.7476e-04 - mean_squared_error: 4.7476e-04\n",
      "Epoch 5/5\n",
      "38/38 [==============================] - 1s 16ms/step - loss: 5.1294e-04 - mean_squared_error: 5.1294e-04\n",
      "1/1 [==============================] - 0s 22ms/step\n"
     ]
    },
    {
     "data": {
      "text/plain": [
       "array([[32871.75]], dtype=float32)"
      ]
     },
     "metadata": {},
     "output_type": "display_data"
    },
    {
     "name": "stdout",
     "output_type": "stream",
     "text": [
      "Epoch 1/5\n",
      "38/38 [==============================] - 1s 18ms/step - loss: 4.7201e-04 - mean_squared_error: 4.7201e-04\n",
      "Epoch 2/5\n",
      "38/38 [==============================] - 1s 20ms/step - loss: 5.1670e-04 - mean_squared_error: 5.1670e-04\n",
      "Epoch 3/5\n",
      "38/38 [==============================] - 1s 22ms/step - loss: 5.0074e-04 - mean_squared_error: 5.0074e-04\n",
      "Epoch 4/5\n",
      "38/38 [==============================] - 1s 18ms/step - loss: 4.7815e-04 - mean_squared_error: 4.7815e-04\n",
      "Epoch 5/5\n",
      "38/38 [==============================] - 1s 19ms/step - loss: 4.9432e-04 - mean_squared_error: 4.9432e-04\n",
      "1/1 [==============================] - 0s 24ms/step\n"
     ]
    },
    {
     "data": {
      "text/plain": [
       "array([[33265.086]], dtype=float32)"
      ]
     },
     "metadata": {},
     "output_type": "display_data"
    },
    {
     "name": "stdout",
     "output_type": "stream",
     "text": [
      "Epoch 1/5\n",
      "38/38 [==============================] - 1s 18ms/step - loss: 4.6855e-04 - mean_squared_error: 4.6855e-04\n",
      "Epoch 2/5\n",
      "38/38 [==============================] - 1s 19ms/step - loss: 4.8088e-04 - mean_squared_error: 4.8088e-04\n",
      "Epoch 3/5\n",
      "38/38 [==============================] - 1s 19ms/step - loss: 5.1256e-04 - mean_squared_error: 5.1256e-04\n",
      "Epoch 4/5\n",
      "38/38 [==============================] - 1s 19ms/step - loss: 4.7382e-04 - mean_squared_error: 4.7382e-04\n",
      "Epoch 5/5\n",
      "38/38 [==============================] - 1s 19ms/step - loss: 4.8954e-04 - mean_squared_error: 4.8954e-04\n",
      "1/1 [==============================] - 0s 26ms/step\n"
     ]
    },
    {
     "data": {
      "text/plain": [
       "array([[32910.457]], dtype=float32)"
      ]
     },
     "metadata": {},
     "output_type": "display_data"
    },
    {
     "name": "stdout",
     "output_type": "stream",
     "text": [
      "Epoch 1/5\n",
      "38/38 [==============================] - 1s 18ms/step - loss: 4.5816e-04 - mean_squared_error: 4.5816e-04\n",
      "Epoch 2/5\n",
      "38/38 [==============================] - 1s 17ms/step - loss: 4.6951e-04 - mean_squared_error: 4.6951e-04\n",
      "Epoch 3/5\n",
      "38/38 [==============================] - 1s 18ms/step - loss: 4.5816e-04 - mean_squared_error: 4.5816e-04\n",
      "Epoch 4/5\n",
      "38/38 [==============================] - 1s 18ms/step - loss: 5.0553e-04 - mean_squared_error: 5.0553e-04\n",
      "Epoch 5/5\n",
      "38/38 [==============================] - 1s 22ms/step - loss: 4.7282e-04 - mean_squared_error: 4.7282e-04\n",
      "1/1 [==============================] - 0s 29ms/step\n"
     ]
    },
    {
     "data": {
      "text/plain": [
       "array([[32249.676]], dtype=float32)"
      ]
     },
     "metadata": {},
     "output_type": "display_data"
    },
    {
     "name": "stdout",
     "output_type": "stream",
     "text": [
      "Epoch 1/5\n",
      "38/38 [==============================] - 1s 17ms/step - loss: 5.0322e-04 - mean_squared_error: 5.0322e-04\n",
      "Epoch 2/5\n",
      "38/38 [==============================] - 1s 21ms/step - loss: 5.2568e-04 - mean_squared_error: 5.2568e-04\n",
      "Epoch 3/5\n",
      "38/38 [==============================] - 1s 18ms/step - loss: 4.9239e-04 - mean_squared_error: 4.9239e-04\n",
      "Epoch 4/5\n",
      "38/38 [==============================] - 1s 18ms/step - loss: 5.0942e-04 - mean_squared_error: 5.0942e-04\n",
      "Epoch 5/5\n",
      "38/38 [==============================] - 1s 19ms/step - loss: 4.9031e-04 - mean_squared_error: 4.9031e-04\n",
      "1/1 [==============================] - 0s 23ms/step\n"
     ]
    },
    {
     "data": {
      "text/plain": [
       "array([[31985.967]], dtype=float32)"
      ]
     },
     "metadata": {},
     "output_type": "display_data"
    },
    {
     "name": "stdout",
     "output_type": "stream",
     "text": [
      "Epoch 1/5\n",
      "38/38 [==============================] - 1s 18ms/step - loss: 4.8686e-04 - mean_squared_error: 4.8686e-04\n",
      "Epoch 2/5\n",
      "38/38 [==============================] - 1s 19ms/step - loss: 5.0537e-04 - mean_squared_error: 5.0537e-04\n",
      "Epoch 3/5\n",
      "38/38 [==============================] - 1s 18ms/step - loss: 5.7419e-04 - mean_squared_error: 5.7419e-04\n",
      "Epoch 4/5\n",
      "38/38 [==============================] - 1s 17ms/step - loss: 4.8447e-04 - mean_squared_error: 4.8447e-04\n",
      "Epoch 5/5\n",
      "38/38 [==============================] - 1s 16ms/step - loss: 4.7005e-04 - mean_squared_error: 4.7005e-04\n",
      "1/1 [==============================] - 0s 23ms/step\n"
     ]
    },
    {
     "data": {
      "text/plain": [
       "array([[32214.152]], dtype=float32)"
      ]
     },
     "metadata": {},
     "output_type": "display_data"
    },
    {
     "name": "stdout",
     "output_type": "stream",
     "text": [
      "Epoch 1/5\n",
      "38/38 [==============================] - 1s 17ms/step - loss: 4.5994e-04 - mean_squared_error: 4.5994e-04\n",
      "Epoch 2/5\n",
      "38/38 [==============================] - 1s 17ms/step - loss: 5.7848e-04 - mean_squared_error: 5.7848e-04\n",
      "Epoch 3/5\n",
      "38/38 [==============================] - 1s 17ms/step - loss: 4.8149e-04 - mean_squared_error: 4.8149e-04\n",
      "Epoch 4/5\n",
      "38/38 [==============================] - 1s 17ms/step - loss: 4.7309e-04 - mean_squared_error: 4.7309e-04\n",
      "Epoch 5/5\n",
      "38/38 [==============================] - 1s 17ms/step - loss: 4.8281e-04 - mean_squared_error: 4.8281e-04\n",
      "1/1 [==============================] - 0s 22ms/step\n"
     ]
    },
    {
     "data": {
      "text/plain": [
       "array([[31426.97]], dtype=float32)"
      ]
     },
     "metadata": {},
     "output_type": "display_data"
    },
    {
     "name": "stdout",
     "output_type": "stream",
     "text": [
      "Epoch 1/5\n",
      "38/38 [==============================] - 1s 17ms/step - loss: 4.6236e-04 - mean_squared_error: 4.6236e-04\n",
      "Epoch 2/5\n",
      "38/38 [==============================] - 1s 17ms/step - loss: 4.6244e-04 - mean_squared_error: 4.6244e-04\n",
      "Epoch 3/5\n",
      "38/38 [==============================] - 1s 17ms/step - loss: 5.4665e-04 - mean_squared_error: 5.4665e-04\n",
      "Epoch 4/5\n",
      "38/38 [==============================] - 1s 17ms/step - loss: 5.0330e-04 - mean_squared_error: 5.0330e-04\n",
      "Epoch 5/5\n",
      "38/38 [==============================] - 1s 16ms/step - loss: 5.0433e-04 - mean_squared_error: 5.0433e-04\n",
      "1/1 [==============================] - 0s 23ms/step\n"
     ]
    },
    {
     "data": {
      "text/plain": [
       "array([[31285.172]], dtype=float32)"
      ]
     },
     "metadata": {},
     "output_type": "display_data"
    },
    {
     "name": "stdout",
     "output_type": "stream",
     "text": [
      "Epoch 1/5\n",
      "38/38 [==============================] - 1s 17ms/step - loss: 4.6306e-04 - mean_squared_error: 4.6306e-04\n",
      "Epoch 2/5\n",
      "38/38 [==============================] - 1s 18ms/step - loss: 4.8626e-04 - mean_squared_error: 4.8626e-04\n",
      "Epoch 3/5\n",
      "38/38 [==============================] - 1s 17ms/step - loss: 4.9399e-04 - mean_squared_error: 4.9399e-04\n",
      "Epoch 4/5\n",
      "38/38 [==============================] - 1s 16ms/step - loss: 4.6346e-04 - mean_squared_error: 4.6346e-04\n",
      "Epoch 5/5\n",
      "38/38 [==============================] - 1s 17ms/step - loss: 5.6070e-04 - mean_squared_error: 5.6070e-04\n",
      "1/1 [==============================] - 0s 23ms/step\n"
     ]
    },
    {
     "data": {
      "text/plain": [
       "array([[31219.62]], dtype=float32)"
      ]
     },
     "metadata": {},
     "output_type": "display_data"
    },
    {
     "name": "stdout",
     "output_type": "stream",
     "text": [
      "Epoch 1/5\n",
      "38/38 [==============================] - 1s 17ms/step - loss: 4.9253e-04 - mean_squared_error: 4.9253e-04\n",
      "Epoch 2/5\n",
      "38/38 [==============================] - 1s 17ms/step - loss: 4.8035e-04 - mean_squared_error: 4.8035e-04\n",
      "Epoch 3/5\n",
      "38/38 [==============================] - 1s 17ms/step - loss: 5.2696e-04 - mean_squared_error: 5.2696e-04\n",
      "Epoch 4/5\n",
      "38/38 [==============================] - 1s 17ms/step - loss: 4.8698e-04 - mean_squared_error: 4.8698e-04\n",
      "Epoch 5/5\n",
      "38/38 [==============================] - 1s 16ms/step - loss: 5.1329e-04 - mean_squared_error: 5.1329e-04\n",
      "1/1 [==============================] - 0s 22ms/step\n"
     ]
    },
    {
     "data": {
      "text/plain": [
       "array([[30992.943]], dtype=float32)"
      ]
     },
     "metadata": {},
     "output_type": "display_data"
    },
    {
     "name": "stdout",
     "output_type": "stream",
     "text": [
      "Epoch 1/5\n",
      "38/38 [==============================] - 1s 17ms/step - loss: 4.8672e-04 - mean_squared_error: 4.8672e-04\n",
      "Epoch 2/5\n",
      "38/38 [==============================] - 1s 17ms/step - loss: 4.9299e-04 - mean_squared_error: 4.9299e-04\n",
      "Epoch 3/5\n",
      "38/38 [==============================] - 1s 17ms/step - loss: 4.8293e-04 - mean_squared_error: 4.8293e-04\n",
      "Epoch 4/5\n",
      "38/38 [==============================] - 1s 17ms/step - loss: 4.8779e-04 - mean_squared_error: 4.8779e-04\n",
      "Epoch 5/5\n",
      "38/38 [==============================] - 1s 17ms/step - loss: 5.0606e-04 - mean_squared_error: 5.0606e-04\n",
      "1/1 [==============================] - 0s 22ms/step\n"
     ]
    },
    {
     "data": {
      "text/plain": [
       "array([[30587.693]], dtype=float32)"
      ]
     },
     "metadata": {},
     "output_type": "display_data"
    },
    {
     "name": "stdout",
     "output_type": "stream",
     "text": [
      "Epoch 1/5\n",
      "38/38 [==============================] - 1s 17ms/step - loss: 4.6760e-04 - mean_squared_error: 4.6760e-04\n",
      "Epoch 2/5\n",
      "38/38 [==============================] - 1s 17ms/step - loss: 4.9762e-04 - mean_squared_error: 4.9762e-04\n",
      "Epoch 3/5\n",
      "38/38 [==============================] - 1s 17ms/step - loss: 4.7328e-04 - mean_squared_error: 4.7328e-04\n",
      "Epoch 4/5\n",
      "38/38 [==============================] - 1s 17ms/step - loss: 4.6303e-04 - mean_squared_error: 4.6303e-04\n",
      "Epoch 5/5\n",
      "38/38 [==============================] - 1s 17ms/step - loss: 4.8161e-04 - mean_squared_error: 4.8161e-04\n",
      "1/1 [==============================] - 0s 22ms/step\n"
     ]
    },
    {
     "data": {
      "text/plain": [
       "array([[30647.877]], dtype=float32)"
      ]
     },
     "metadata": {},
     "output_type": "display_data"
    },
    {
     "name": "stdout",
     "output_type": "stream",
     "text": [
      "Epoch 1/5\n",
      "38/38 [==============================] - 1s 17ms/step - loss: 4.5837e-04 - mean_squared_error: 4.5837e-04\n",
      "Epoch 2/5\n",
      "38/38 [==============================] - 1s 17ms/step - loss: 4.4040e-04 - mean_squared_error: 4.4040e-04\n",
      "Epoch 3/5\n",
      "38/38 [==============================] - 1s 19ms/step - loss: 4.6277e-04 - mean_squared_error: 4.6277e-04\n",
      "Epoch 4/5\n",
      "38/38 [==============================] - 1s 17ms/step - loss: 4.6977e-04 - mean_squared_error: 4.6977e-04\n",
      "Epoch 5/5\n",
      "38/38 [==============================] - 1s 17ms/step - loss: 4.9858e-04 - mean_squared_error: 4.9858e-04\n",
      "1/1 [==============================] - 0s 23ms/step\n"
     ]
    },
    {
     "data": {
      "text/plain": [
       "array([[31952.008]], dtype=float32)"
      ]
     },
     "metadata": {},
     "output_type": "display_data"
    },
    {
     "name": "stdout",
     "output_type": "stream",
     "text": [
      "Epoch 1/5\n",
      "38/38 [==============================] - 1s 17ms/step - loss: 5.4818e-04 - mean_squared_error: 5.4818e-04\n",
      "Epoch 2/5\n",
      "38/38 [==============================] - 1s 17ms/step - loss: 4.7661e-04 - mean_squared_error: 4.7661e-04\n",
      "Epoch 3/5\n",
      "38/38 [==============================] - 1s 17ms/step - loss: 4.4809e-04 - mean_squared_error: 4.4809e-04\n",
      "Epoch 4/5\n",
      "38/38 [==============================] - 1s 17ms/step - loss: 4.6532e-04 - mean_squared_error: 4.6532e-04\n",
      "Epoch 5/5\n",
      "38/38 [==============================] - 1s 17ms/step - loss: 5.0039e-04 - mean_squared_error: 5.0039e-04\n",
      "1/1 [==============================] - 0s 23ms/step\n"
     ]
    },
    {
     "data": {
      "text/plain": [
       "array([[32523.924]], dtype=float32)"
      ]
     },
     "metadata": {},
     "output_type": "display_data"
    },
    {
     "name": "stdout",
     "output_type": "stream",
     "text": [
      "Epoch 1/5\n",
      "38/38 [==============================] - 1s 17ms/step - loss: 4.3483e-04 - mean_squared_error: 4.3483e-04\n",
      "Epoch 2/5\n",
      "38/38 [==============================] - 1s 17ms/step - loss: 4.8753e-04 - mean_squared_error: 4.8753e-04\n",
      "Epoch 3/5\n",
      "38/38 [==============================] - 1s 17ms/step - loss: 5.0814e-04 - mean_squared_error: 5.0814e-04\n",
      "Epoch 4/5\n",
      "38/38 [==============================] - 1s 17ms/step - loss: 4.7616e-04 - mean_squared_error: 4.7616e-04\n",
      "Epoch 5/5\n",
      "38/38 [==============================] - 1s 17ms/step - loss: 4.4413e-04 - mean_squared_error: 4.4413e-04\n",
      "1/1 [==============================] - 0s 23ms/step\n"
     ]
    },
    {
     "data": {
      "text/plain": [
       "array([[32434.379]], dtype=float32)"
      ]
     },
     "metadata": {},
     "output_type": "display_data"
    },
    {
     "name": "stdout",
     "output_type": "stream",
     "text": [
      "Epoch 1/5\n",
      "38/38 [==============================] - 1s 17ms/step - loss: 4.6790e-04 - mean_squared_error: 4.6790e-04\n",
      "Epoch 2/5\n",
      "38/38 [==============================] - 1s 17ms/step - loss: 4.6118e-04 - mean_squared_error: 4.6118e-04\n",
      "Epoch 3/5\n",
      "38/38 [==============================] - 1s 16ms/step - loss: 4.6481e-04 - mean_squared_error: 4.6481e-04\n",
      "Epoch 4/5\n",
      "38/38 [==============================] - 1s 17ms/step - loss: 5.5242e-04 - mean_squared_error: 5.5242e-04\n",
      "Epoch 5/5\n",
      "38/38 [==============================] - 1s 17ms/step - loss: 4.8338e-04 - mean_squared_error: 4.8338e-04\n",
      "1/1 [==============================] - 0s 22ms/step\n"
     ]
    },
    {
     "data": {
      "text/plain": [
       "array([[32353.268]], dtype=float32)"
      ]
     },
     "metadata": {},
     "output_type": "display_data"
    },
    {
     "name": "stdout",
     "output_type": "stream",
     "text": [
      "Epoch 1/5\n",
      "38/38 [==============================] - 1s 17ms/step - loss: 4.9069e-04 - mean_squared_error: 4.9069e-04\n",
      "Epoch 2/5\n",
      "38/38 [==============================] - 1s 17ms/step - loss: 5.0050e-04 - mean_squared_error: 5.0050e-04\n",
      "Epoch 3/5\n",
      "38/38 [==============================] - 1s 17ms/step - loss: 4.5622e-04 - mean_squared_error: 4.5622e-04\n",
      "Epoch 4/5\n",
      "38/38 [==============================] - 1s 17ms/step - loss: 4.7978e-04 - mean_squared_error: 4.7978e-04\n",
      "Epoch 5/5\n",
      "38/38 [==============================] - 1s 17ms/step - loss: 4.5202e-04 - mean_squared_error: 4.5202e-04\n",
      "1/1 [==============================] - 0s 22ms/step\n"
     ]
    },
    {
     "data": {
      "text/plain": [
       "array([[32550.004]], dtype=float32)"
      ]
     },
     "metadata": {},
     "output_type": "display_data"
    },
    {
     "name": "stdout",
     "output_type": "stream",
     "text": [
      "Epoch 1/5\n",
      "38/38 [==============================] - 1s 17ms/step - loss: 4.5006e-04 - mean_squared_error: 4.5006e-04\n",
      "Epoch 2/5\n",
      "38/38 [==============================] - 1s 17ms/step - loss: 4.9049e-04 - mean_squared_error: 4.9049e-04\n",
      "Epoch 3/5\n",
      "38/38 [==============================] - 1s 17ms/step - loss: 5.1270e-04 - mean_squared_error: 5.1270e-04\n",
      "Epoch 4/5\n",
      "38/38 [==============================] - 1s 17ms/step - loss: 4.9333e-04 - mean_squared_error: 4.9333e-04\n",
      "Epoch 5/5\n",
      "38/38 [==============================] - 1s 17ms/step - loss: 4.8601e-04 - mean_squared_error: 4.8601e-04\n",
      "1/1 [==============================] - 0s 24ms/step\n"
     ]
    },
    {
     "data": {
      "text/plain": [
       "array([[32533.9]], dtype=float32)"
      ]
     },
     "metadata": {},
     "output_type": "display_data"
    },
    {
     "name": "stdout",
     "output_type": "stream",
     "text": [
      "Epoch 1/5\n",
      "38/38 [==============================] - 1s 17ms/step - loss: 4.3744e-04 - mean_squared_error: 4.3744e-04\n",
      "Epoch 2/5\n",
      "38/38 [==============================] - 1s 16ms/step - loss: 4.3675e-04 - mean_squared_error: 4.3675e-04\n",
      "Epoch 3/5\n",
      "38/38 [==============================] - 1s 17ms/step - loss: 4.6698e-04 - mean_squared_error: 4.6698e-04\n",
      "Epoch 4/5\n",
      "38/38 [==============================] - 1s 17ms/step - loss: 4.5564e-04 - mean_squared_error: 4.5564e-04\n",
      "Epoch 5/5\n",
      "38/38 [==============================] - 1s 17ms/step - loss: 4.4184e-04 - mean_squared_error: 4.4184e-04\n",
      "1/1 [==============================] - 0s 23ms/step\n"
     ]
    },
    {
     "data": {
      "text/plain": [
       "array([[33244.75]], dtype=float32)"
      ]
     },
     "metadata": {},
     "output_type": "display_data"
    },
    {
     "name": "stdout",
     "output_type": "stream",
     "text": [
      "Epoch 1/5\n",
      "38/38 [==============================] - 1s 17ms/step - loss: 5.2664e-04 - mean_squared_error: 5.2664e-04\n",
      "Epoch 2/5\n",
      "38/38 [==============================] - 1s 17ms/step - loss: 4.6225e-04 - mean_squared_error: 4.6225e-04\n",
      "Epoch 3/5\n",
      "38/38 [==============================] - 1s 17ms/step - loss: 4.5604e-04 - mean_squared_error: 4.5604e-04\n",
      "Epoch 4/5\n",
      "38/38 [==============================] - 1s 16ms/step - loss: 5.0178e-04 - mean_squared_error: 5.0178e-04\n",
      "Epoch 5/5\n",
      "38/38 [==============================] - 1s 16ms/step - loss: 4.7794e-04 - mean_squared_error: 4.7794e-04\n",
      "1/1 [==============================] - 0s 22ms/step\n"
     ]
    },
    {
     "data": {
      "text/plain": [
       "array([[32878.957]], dtype=float32)"
      ]
     },
     "metadata": {},
     "output_type": "display_data"
    },
    {
     "name": "stdout",
     "output_type": "stream",
     "text": [
      "Epoch 1/5\n",
      "38/38 [==============================] - 1s 17ms/step - loss: 4.5906e-04 - mean_squared_error: 4.5906e-04\n",
      "Epoch 2/5\n",
      "38/38 [==============================] - 1s 17ms/step - loss: 4.5340e-04 - mean_squared_error: 4.5340e-04\n",
      "Epoch 3/5\n",
      "38/38 [==============================] - 1s 17ms/step - loss: 4.9577e-04 - mean_squared_error: 4.9577e-04\n",
      "Epoch 4/5\n",
      "38/38 [==============================] - 1s 17ms/step - loss: 4.9124e-04 - mean_squared_error: 4.9124e-04\n",
      "Epoch 5/5\n",
      "38/38 [==============================] - 1s 17ms/step - loss: 4.6613e-04 - mean_squared_error: 4.6613e-04\n",
      "1/1 [==============================] - 0s 22ms/step\n"
     ]
    },
    {
     "data": {
      "text/plain": [
       "array([[32878.48]], dtype=float32)"
      ]
     },
     "metadata": {},
     "output_type": "display_data"
    },
    {
     "name": "stdout",
     "output_type": "stream",
     "text": [
      "Epoch 1/5\n",
      "38/38 [==============================] - 1s 17ms/step - loss: 4.5755e-04 - mean_squared_error: 4.5755e-04\n",
      "Epoch 2/5\n",
      "38/38 [==============================] - 1s 16ms/step - loss: 4.5744e-04 - mean_squared_error: 4.5744e-04\n",
      "Epoch 3/5\n",
      "38/38 [==============================] - 1s 18ms/step - loss: 4.9765e-04 - mean_squared_error: 4.9765e-04\n",
      "Epoch 4/5\n",
      "38/38 [==============================] - 1s 20ms/step - loss: 4.9046e-04 - mean_squared_error: 4.9046e-04\n",
      "Epoch 5/5\n",
      "38/38 [==============================] - 1s 19ms/step - loss: 5.0069e-04 - mean_squared_error: 5.0069e-04\n",
      "1/1 [==============================] - 0s 58ms/step\n"
     ]
    },
    {
     "data": {
      "text/plain": [
       "array([[33476.805]], dtype=float32)"
      ]
     },
     "metadata": {},
     "output_type": "display_data"
    },
    {
     "name": "stdout",
     "output_type": "stream",
     "text": [
      "Epoch 1/5\n",
      "39/39 [==============================] - 1s 19ms/step - loss: 5.6452e-04 - mean_squared_error: 5.6452e-04\n",
      "Epoch 2/5\n",
      "39/39 [==============================] - 1s 18ms/step - loss: 4.5944e-04 - mean_squared_error: 4.5944e-04\n",
      "Epoch 3/5\n",
      "39/39 [==============================] - 1s 18ms/step - loss: 4.6264e-04 - mean_squared_error: 4.6264e-04\n",
      "Epoch 4/5\n",
      "39/39 [==============================] - 1s 18ms/step - loss: 4.9760e-04 - mean_squared_error: 4.9760e-04\n",
      "Epoch 5/5\n",
      "39/39 [==============================] - 1s 18ms/step - loss: 4.6753e-04 - mean_squared_error: 4.6753e-04\n",
      "1/1 [==============================] - 0s 30ms/step\n"
     ]
    },
    {
     "data": {
      "text/plain": [
       "array([[33390.754]], dtype=float32)"
      ]
     },
     "metadata": {},
     "output_type": "display_data"
    },
    {
     "name": "stdout",
     "output_type": "stream",
     "text": [
      "Epoch 1/5\n",
      "39/39 [==============================] - 1s 18ms/step - loss: 4.7923e-04 - mean_squared_error: 4.7923e-04\n",
      "Epoch 2/5\n",
      "39/39 [==============================] - 1s 18ms/step - loss: 6.5051e-04 - mean_squared_error: 6.5051e-04\n",
      "Epoch 3/5\n",
      "39/39 [==============================] - 1s 19ms/step - loss: 5.0086e-04 - mean_squared_error: 5.0086e-04\n",
      "Epoch 4/5\n",
      "39/39 [==============================] - 1s 17ms/step - loss: 4.5945e-04 - mean_squared_error: 4.5945e-04\n",
      "Epoch 5/5\n",
      "39/39 [==============================] - 1s 17ms/step - loss: 5.0152e-04 - mean_squared_error: 5.0152e-04\n",
      "1/1 [==============================] - 0s 24ms/step\n"
     ]
    },
    {
     "data": {
      "text/plain": [
       "array([[32282.36]], dtype=float32)"
      ]
     },
     "metadata": {},
     "output_type": "display_data"
    },
    {
     "name": "stdout",
     "output_type": "stream",
     "text": [
      "Epoch 1/5\n",
      "39/39 [==============================] - 1s 17ms/step - loss: 5.2860e-04 - mean_squared_error: 5.2860e-04\n",
      "Epoch 2/5\n",
      "39/39 [==============================] - 1s 17ms/step - loss: 4.6303e-04 - mean_squared_error: 4.6303e-04\n",
      "Epoch 3/5\n",
      "39/39 [==============================] - 1s 16ms/step - loss: 4.8090e-04 - mean_squared_error: 4.8090e-04\n",
      "Epoch 4/5\n",
      "39/39 [==============================] - 1s 18ms/step - loss: 4.7156e-04 - mean_squared_error: 4.7156e-04\n",
      "Epoch 5/5\n",
      "39/39 [==============================] - 1s 17ms/step - loss: 4.8158e-04 - mean_squared_error: 4.8158e-04\n",
      "1/1 [==============================] - 0s 24ms/step\n"
     ]
    },
    {
     "data": {
      "text/plain": [
       "array([[32507.62]], dtype=float32)"
      ]
     },
     "metadata": {},
     "output_type": "display_data"
    },
    {
     "name": "stdout",
     "output_type": "stream",
     "text": [
      "Epoch 1/5\n",
      "39/39 [==============================] - 1s 18ms/step - loss: 4.5269e-04 - mean_squared_error: 4.5269e-04\n",
      "Epoch 2/5\n",
      "39/39 [==============================] - 1s 18ms/step - loss: 4.5975e-04 - mean_squared_error: 4.5975e-04\n",
      "Epoch 3/5\n",
      "39/39 [==============================] - 1s 18ms/step - loss: 4.8479e-04 - mean_squared_error: 4.8479e-04\n",
      "Epoch 4/5\n",
      "39/39 [==============================] - 1s 19ms/step - loss: 4.6659e-04 - mean_squared_error: 4.6659e-04\n",
      "Epoch 5/5\n",
      "39/39 [==============================] - 1s 18ms/step - loss: 4.4728e-04 - mean_squared_error: 4.4728e-04\n",
      "1/1 [==============================] - 0s 23ms/step\n"
     ]
    },
    {
     "data": {
      "text/plain": [
       "array([[32344.977]], dtype=float32)"
      ]
     },
     "metadata": {},
     "output_type": "display_data"
    },
    {
     "name": "stdout",
     "output_type": "stream",
     "text": [
      "Epoch 1/5\n",
      "39/39 [==============================] - 1s 18ms/step - loss: 4.5692e-04 - mean_squared_error: 4.5692e-04\n",
      "Epoch 2/5\n",
      "39/39 [==============================] - 1s 18ms/step - loss: 4.9772e-04 - mean_squared_error: 4.9772e-04\n",
      "Epoch 3/5\n",
      "39/39 [==============================] - 1s 17ms/step - loss: 5.1168e-04 - mean_squared_error: 5.1168e-04\n",
      "Epoch 4/5\n",
      "39/39 [==============================] - 1s 17ms/step - loss: 5.2519e-04 - mean_squared_error: 5.2519e-04\n",
      "Epoch 5/5\n",
      "39/39 [==============================] - 1s 17ms/step - loss: 5.2866e-04 - mean_squared_error: 5.2866e-04\n",
      "1/1 [==============================] - 0s 23ms/step\n"
     ]
    },
    {
     "data": {
      "text/plain": [
       "array([[31772.908]], dtype=float32)"
      ]
     },
     "metadata": {},
     "output_type": "display_data"
    },
    {
     "name": "stdout",
     "output_type": "stream",
     "text": [
      "Epoch 1/5\n",
      "39/39 [==============================] - 1s 19ms/step - loss: 5.2035e-04 - mean_squared_error: 5.2035e-04\n",
      "Epoch 2/5\n",
      "39/39 [==============================] - 1s 17ms/step - loss: 4.2542e-04 - mean_squared_error: 4.2542e-04\n",
      "Epoch 3/5\n",
      "39/39 [==============================] - 1s 17ms/step - loss: 4.4735e-04 - mean_squared_error: 4.4735e-04\n",
      "Epoch 4/5\n",
      "39/39 [==============================] - 1s 17ms/step - loss: 4.7306e-04 - mean_squared_error: 4.7306e-04\n",
      "Epoch 5/5\n",
      "39/39 [==============================] - 1s 17ms/step - loss: 4.5823e-04 - mean_squared_error: 4.5823e-04\n",
      "1/1 [==============================] - 0s 29ms/step\n"
     ]
    },
    {
     "data": {
      "text/plain": [
       "array([[31376.227]], dtype=float32)"
      ]
     },
     "metadata": {},
     "output_type": "display_data"
    },
    {
     "name": "stdout",
     "output_type": "stream",
     "text": [
      "Epoch 1/5\n",
      "39/39 [==============================] - 1s 17ms/step - loss: 4.5339e-04 - mean_squared_error: 4.5339e-04\n",
      "Epoch 2/5\n",
      "39/39 [==============================] - 1s 18ms/step - loss: 4.4292e-04 - mean_squared_error: 4.4292e-04\n",
      "Epoch 3/5\n",
      "39/39 [==============================] - 1s 18ms/step - loss: 4.5726e-04 - mean_squared_error: 4.5726e-04\n",
      "Epoch 4/5\n",
      "39/39 [==============================] - 1s 18ms/step - loss: 4.5575e-04 - mean_squared_error: 4.5575e-04\n",
      "Epoch 5/5\n",
      "39/39 [==============================] - 1s 20ms/step - loss: 4.8277e-04 - mean_squared_error: 4.8277e-04\n",
      "1/1 [==============================] - 0s 23ms/step\n"
     ]
    },
    {
     "data": {
      "text/plain": [
       "array([[31430.54]], dtype=float32)"
      ]
     },
     "metadata": {},
     "output_type": "display_data"
    },
    {
     "name": "stdout",
     "output_type": "stream",
     "text": [
      "Epoch 1/5\n",
      "39/39 [==============================] - 1s 17ms/step - loss: 4.6766e-04 - mean_squared_error: 4.6766e-04\n",
      "Epoch 2/5\n",
      "39/39 [==============================] - 1s 19ms/step - loss: 5.0673e-04 - mean_squared_error: 5.0673e-04\n",
      "Epoch 3/5\n",
      "39/39 [==============================] - 1s 21ms/step - loss: 5.0058e-04 - mean_squared_error: 5.0058e-04\n",
      "Epoch 4/5\n",
      "39/39 [==============================] - 1s 19ms/step - loss: 4.5033e-04 - mean_squared_error: 4.5033e-04\n",
      "Epoch 5/5\n",
      "39/39 [==============================] - 1s 18ms/step - loss: 4.3287e-04 - mean_squared_error: 4.3287e-04\n",
      "1/1 [==============================] - 0s 23ms/step\n"
     ]
    },
    {
     "data": {
      "text/plain": [
       "array([[31068.004]], dtype=float32)"
      ]
     },
     "metadata": {},
     "output_type": "display_data"
    },
    {
     "name": "stdout",
     "output_type": "stream",
     "text": [
      "Epoch 1/5\n",
      "39/39 [==============================] - 1s 19ms/step - loss: 4.4854e-04 - mean_squared_error: 4.4854e-04\n",
      "Epoch 2/5\n",
      "39/39 [==============================] - 1s 19ms/step - loss: 4.7076e-04 - mean_squared_error: 4.7076e-04\n",
      "Epoch 3/5\n",
      "39/39 [==============================] - 1s 18ms/step - loss: 4.6049e-04 - mean_squared_error: 4.6049e-04\n",
      "Epoch 4/5\n",
      "39/39 [==============================] - 1s 16ms/step - loss: 4.9458e-04 - mean_squared_error: 4.9458e-04\n",
      "Epoch 5/5\n",
      "39/39 [==============================] - 1s 17ms/step - loss: 4.8725e-04 - mean_squared_error: 4.8725e-04\n",
      "1/1 [==============================] - 0s 22ms/step\n"
     ]
    },
    {
     "data": {
      "text/plain": [
       "array([[31690.041]], dtype=float32)"
      ]
     },
     "metadata": {},
     "output_type": "display_data"
    },
    {
     "name": "stdout",
     "output_type": "stream",
     "text": [
      "Epoch 1/5\n",
      "39/39 [==============================] - 1s 16ms/step - loss: 4.5096e-04 - mean_squared_error: 4.5096e-04\n",
      "Epoch 2/5\n",
      "39/39 [==============================] - 1s 17ms/step - loss: 4.2994e-04 - mean_squared_error: 4.2994e-04\n",
      "Epoch 3/5\n",
      "39/39 [==============================] - 1s 18ms/step - loss: 4.5490e-04 - mean_squared_error: 4.5490e-04\n",
      "Epoch 4/5\n",
      "39/39 [==============================] - 1s 28ms/step - loss: 4.4859e-04 - mean_squared_error: 4.4859e-04\n",
      "Epoch 5/5\n",
      "39/39 [==============================] - 1s 21ms/step - loss: 4.6317e-04 - mean_squared_error: 4.6317e-04\n",
      "1/1 [==============================] - 0s 32ms/step\n"
     ]
    },
    {
     "data": {
      "text/plain": [
       "array([[32382.086]], dtype=float32)"
      ]
     },
     "metadata": {},
     "output_type": "display_data"
    },
    {
     "name": "stdout",
     "output_type": "stream",
     "text": [
      "Epoch 1/5\n",
      "39/39 [==============================] - 1s 21ms/step - loss: 4.4622e-04 - mean_squared_error: 4.4622e-04\n",
      "Epoch 2/5\n",
      "39/39 [==============================] - 1s 17ms/step - loss: 4.3516e-04 - mean_squared_error: 4.3516e-04\n",
      "Epoch 3/5\n",
      "39/39 [==============================] - 1s 17ms/step - loss: 4.4153e-04 - mean_squared_error: 4.4153e-04\n",
      "Epoch 4/5\n",
      "39/39 [==============================] - 1s 17ms/step - loss: 4.4267e-04 - mean_squared_error: 4.4267e-04\n",
      "Epoch 5/5\n",
      "39/39 [==============================] - 1s 17ms/step - loss: 4.6451e-04 - mean_squared_error: 4.6451e-04\n",
      "1/1 [==============================] - 0s 22ms/step\n"
     ]
    },
    {
     "data": {
      "text/plain": [
       "array([[32139.281]], dtype=float32)"
      ]
     },
     "metadata": {},
     "output_type": "display_data"
    },
    {
     "name": "stdout",
     "output_type": "stream",
     "text": [
      "Epoch 1/5\n",
      "39/39 [==============================] - 1s 17ms/step - loss: 4.7448e-04 - mean_squared_error: 4.7448e-04\n",
      "Epoch 2/5\n",
      "39/39 [==============================] - 1s 16ms/step - loss: 4.4310e-04 - mean_squared_error: 4.4310e-04\n",
      "Epoch 3/5\n",
      "39/39 [==============================] - 1s 17ms/step - loss: 4.4465e-04 - mean_squared_error: 4.4465e-04\n",
      "Epoch 4/5\n",
      "39/39 [==============================] - 1s 17ms/step - loss: 4.5370e-04 - mean_squared_error: 4.5370e-04\n",
      "Epoch 5/5\n",
      "39/39 [==============================] - 1s 17ms/step - loss: 4.4957e-04 - mean_squared_error: 4.4957e-04\n",
      "1/1 [==============================] - 0s 23ms/step\n"
     ]
    },
    {
     "data": {
      "text/plain": [
       "array([[32435.285]], dtype=float32)"
      ]
     },
     "metadata": {},
     "output_type": "display_data"
    },
    {
     "name": "stdout",
     "output_type": "stream",
     "text": [
      "Epoch 1/5\n",
      "39/39 [==============================] - 1s 17ms/step - loss: 5.0621e-04 - mean_squared_error: 5.0621e-04\n",
      "Epoch 2/5\n",
      "39/39 [==============================] - 1s 16ms/step - loss: 4.6061e-04 - mean_squared_error: 4.6061e-04\n",
      "Epoch 3/5\n",
      "39/39 [==============================] - 1s 17ms/step - loss: 4.4639e-04 - mean_squared_error: 4.4639e-04\n",
      "Epoch 4/5\n",
      "39/39 [==============================] - 1s 17ms/step - loss: 4.7520e-04 - mean_squared_error: 4.7520e-04\n",
      "Epoch 5/5\n",
      "39/39 [==============================] - 1s 17ms/step - loss: 4.4314e-04 - mean_squared_error: 4.4314e-04\n",
      "1/1 [==============================] - 0s 23ms/step\n"
     ]
    },
    {
     "data": {
      "text/plain": [
       "array([[33052.895]], dtype=float32)"
      ]
     },
     "metadata": {},
     "output_type": "display_data"
    },
    {
     "name": "stdout",
     "output_type": "stream",
     "text": [
      "Epoch 1/5\n",
      "39/39 [==============================] - 1s 17ms/step - loss: 4.6044e-04 - mean_squared_error: 4.6044e-04\n",
      "Epoch 2/5\n",
      "39/39 [==============================] - 1s 17ms/step - loss: 4.5423e-04 - mean_squared_error: 4.5423e-04\n",
      "Epoch 3/5\n",
      "39/39 [==============================] - 1s 17ms/step - loss: 4.6210e-04 - mean_squared_error: 4.6210e-04\n",
      "Epoch 4/5\n",
      "39/39 [==============================] - 1s 19ms/step - loss: 4.4348e-04 - mean_squared_error: 4.4348e-04\n",
      "Epoch 5/5\n",
      "39/39 [==============================] - 1s 17ms/step - loss: 4.5499e-04 - mean_squared_error: 4.5499e-04\n",
      "1/1 [==============================] - 0s 22ms/step\n"
     ]
    },
    {
     "data": {
      "text/plain": [
       "array([[32894.1]], dtype=float32)"
      ]
     },
     "metadata": {},
     "output_type": "display_data"
    },
    {
     "name": "stdout",
     "output_type": "stream",
     "text": [
      "Epoch 1/5\n",
      "39/39 [==============================] - 1s 17ms/step - loss: 5.1607e-04 - mean_squared_error: 5.1607e-04\n",
      "Epoch 2/5\n",
      "39/39 [==============================] - 1s 17ms/step - loss: 4.7024e-04 - mean_squared_error: 4.7024e-04\n",
      "Epoch 3/5\n",
      "39/39 [==============================] - 1s 17ms/step - loss: 4.5759e-04 - mean_squared_error: 4.5759e-04\n",
      "Epoch 4/5\n",
      "39/39 [==============================] - 1s 17ms/step - loss: 4.6873e-04 - mean_squared_error: 4.6873e-04\n",
      "Epoch 5/5\n",
      "39/39 [==============================] - 1s 16ms/step - loss: 4.3660e-04 - mean_squared_error: 4.3660e-04\n",
      "1/1 [==============================] - 0s 22ms/step\n"
     ]
    },
    {
     "data": {
      "text/plain": [
       "array([[32616.807]], dtype=float32)"
      ]
     },
     "metadata": {},
     "output_type": "display_data"
    },
    {
     "name": "stdout",
     "output_type": "stream",
     "text": [
      "Epoch 1/5\n",
      "39/39 [==============================] - 1s 17ms/step - loss: 4.5940e-04 - mean_squared_error: 4.5940e-04\n",
      "Epoch 2/5\n",
      "39/39 [==============================] - 1s 17ms/step - loss: 4.9425e-04 - mean_squared_error: 4.9425e-04\n",
      "Epoch 3/5\n",
      "39/39 [==============================] - 1s 17ms/step - loss: 4.4486e-04 - mean_squared_error: 4.4486e-04\n",
      "Epoch 4/5\n",
      "39/39 [==============================] - 1s 17ms/step - loss: 4.8128e-04 - mean_squared_error: 4.8128e-04\n",
      "Epoch 5/5\n",
      "39/39 [==============================] - 1s 17ms/step - loss: 4.1949e-04 - mean_squared_error: 4.1949e-04\n",
      "1/1 [==============================] - 0s 22ms/step\n"
     ]
    },
    {
     "data": {
      "text/plain": [
       "array([[32951.555]], dtype=float32)"
      ]
     },
     "metadata": {},
     "output_type": "display_data"
    },
    {
     "name": "stdout",
     "output_type": "stream",
     "text": [
      "Epoch 1/5\n",
      "39/39 [==============================] - 1s 17ms/step - loss: 4.3281e-04 - mean_squared_error: 4.3281e-04\n",
      "Epoch 2/5\n",
      "39/39 [==============================] - 1s 17ms/step - loss: 4.3412e-04 - mean_squared_error: 4.3412e-04\n",
      "Epoch 3/5\n",
      "39/39 [==============================] - 1s 17ms/step - loss: 4.6175e-04 - mean_squared_error: 4.6175e-04\n",
      "Epoch 4/5\n",
      "39/39 [==============================] - 1s 17ms/step - loss: 4.5871e-04 - mean_squared_error: 4.5871e-04\n",
      "Epoch 5/5\n",
      "39/39 [==============================] - 1s 17ms/step - loss: 4.2738e-04 - mean_squared_error: 4.2738e-04\n",
      "1/1 [==============================] - 0s 21ms/step\n"
     ]
    },
    {
     "data": {
      "text/plain": [
       "array([[32514.412]], dtype=float32)"
      ]
     },
     "metadata": {},
     "output_type": "display_data"
    },
    {
     "name": "stdout",
     "output_type": "stream",
     "text": [
      "Epoch 1/5\n",
      "39/39 [==============================] - 1s 17ms/step - loss: 4.6713e-04 - mean_squared_error: 4.6713e-04\n",
      "Epoch 2/5\n",
      "39/39 [==============================] - 1s 17ms/step - loss: 4.9057e-04 - mean_squared_error: 4.9057e-04\n",
      "Epoch 3/5\n",
      "39/39 [==============================] - 1s 17ms/step - loss: 4.5844e-04 - mean_squared_error: 4.5844e-04\n",
      "Epoch 4/5\n",
      "39/39 [==============================] - 1s 17ms/step - loss: 4.8678e-04 - mean_squared_error: 4.8678e-04\n",
      "Epoch 5/5\n",
      "39/39 [==============================] - 1s 17ms/step - loss: 4.6262e-04 - mean_squared_error: 4.6262e-04\n",
      "1/1 [==============================] - 0s 22ms/step\n"
     ]
    },
    {
     "data": {
      "text/plain": [
       "array([[32050.066]], dtype=float32)"
      ]
     },
     "metadata": {},
     "output_type": "display_data"
    },
    {
     "name": "stdout",
     "output_type": "stream",
     "text": [
      "Epoch 1/5\n",
      "39/39 [==============================] - 1s 17ms/step - loss: 4.5465e-04 - mean_squared_error: 4.5465e-04\n",
      "Epoch 2/5\n",
      "39/39 [==============================] - 1s 17ms/step - loss: 4.4770e-04 - mean_squared_error: 4.4770e-04\n",
      "Epoch 3/5\n",
      "39/39 [==============================] - 1s 17ms/step - loss: 4.1121e-04 - mean_squared_error: 4.1121e-04\n",
      "Epoch 4/5\n",
      "39/39 [==============================] - 1s 17ms/step - loss: 4.3732e-04 - mean_squared_error: 4.3732e-04\n",
      "Epoch 5/5\n",
      "39/39 [==============================] - 1s 17ms/step - loss: 4.3416e-04 - mean_squared_error: 4.3416e-04\n",
      "1/1 [==============================] - 0s 23ms/step\n"
     ]
    },
    {
     "data": {
      "text/plain": [
       "array([[31885.072]], dtype=float32)"
      ]
     },
     "metadata": {},
     "output_type": "display_data"
    },
    {
     "name": "stdout",
     "output_type": "stream",
     "text": [
      "Epoch 1/5\n",
      "39/39 [==============================] - 1s 17ms/step - loss: 4.3940e-04 - mean_squared_error: 4.3940e-04\n",
      "Epoch 2/5\n",
      "39/39 [==============================] - 1s 17ms/step - loss: 4.5596e-04 - mean_squared_error: 4.5596e-04\n",
      "Epoch 3/5\n",
      "39/39 [==============================] - 1s 16ms/step - loss: 4.7153e-04 - mean_squared_error: 4.7153e-04\n",
      "Epoch 4/5\n",
      "39/39 [==============================] - 1s 19ms/step - loss: 4.3198e-04 - mean_squared_error: 4.3198e-04\n",
      "Epoch 5/5\n",
      "39/39 [==============================] - 1s 20ms/step - loss: 4.7058e-04 - mean_squared_error: 4.7058e-04\n",
      "1/1 [==============================] - 0s 29ms/step\n"
     ]
    },
    {
     "data": {
      "text/plain": [
       "array([[31490.025]], dtype=float32)"
      ]
     },
     "metadata": {},
     "output_type": "display_data"
    },
    {
     "name": "stdout",
     "output_type": "stream",
     "text": [
      "Epoch 1/5\n",
      "39/39 [==============================] - 1s 20ms/step - loss: 4.7166e-04 - mean_squared_error: 4.7166e-04\n",
      "Epoch 2/5\n",
      "39/39 [==============================] - 1s 20ms/step - loss: 4.6427e-04 - mean_squared_error: 4.6427e-04\n",
      "Epoch 3/5\n",
      "39/39 [==============================] - 1s 19ms/step - loss: 4.4548e-04 - mean_squared_error: 4.4548e-04\n",
      "Epoch 4/5\n",
      "39/39 [==============================] - 1s 19ms/step - loss: 4.3866e-04 - mean_squared_error: 4.3866e-04\n",
      "Epoch 5/5\n",
      "39/39 [==============================] - 1s 17ms/step - loss: 4.5604e-04 - mean_squared_error: 4.5604e-04\n",
      "1/1 [==============================] - 0s 25ms/step\n"
     ]
    },
    {
     "data": {
      "text/plain": [
       "array([[31281.508]], dtype=float32)"
      ]
     },
     "metadata": {},
     "output_type": "display_data"
    },
    {
     "name": "stdout",
     "output_type": "stream",
     "text": [
      "Epoch 1/5\n",
      "39/39 [==============================] - 1s 18ms/step - loss: 4.5443e-04 - mean_squared_error: 4.5443e-04\n",
      "Epoch 2/5\n",
      "39/39 [==============================] - 1s 19ms/step - loss: 4.4485e-04 - mean_squared_error: 4.4485e-04\n",
      "Epoch 3/5\n",
      "39/39 [==============================] - 1s 18ms/step - loss: 4.4345e-04 - mean_squared_error: 4.4345e-04\n",
      "Epoch 4/5\n",
      "39/39 [==============================] - 1s 18ms/step - loss: 4.4187e-04 - mean_squared_error: 4.4187e-04\n",
      "Epoch 5/5\n",
      "39/39 [==============================] - 1s 18ms/step - loss: 4.9204e-04 - mean_squared_error: 4.9204e-04\n",
      "1/1 [==============================] - 0s 25ms/step\n"
     ]
    },
    {
     "data": {
      "text/plain": [
       "array([[30839.385]], dtype=float32)"
      ]
     },
     "metadata": {},
     "output_type": "display_data"
    },
    {
     "name": "stdout",
     "output_type": "stream",
     "text": [
      "Epoch 1/5\n",
      "39/39 [==============================] - 1s 17ms/step - loss: 4.0188e-04 - mean_squared_error: 4.0188e-04\n",
      "Epoch 2/5\n",
      "39/39 [==============================] - 1s 19ms/step - loss: 4.3975e-04 - mean_squared_error: 4.3975e-04\n",
      "Epoch 3/5\n",
      "39/39 [==============================] - 1s 18ms/step - loss: 4.4292e-04 - mean_squared_error: 4.4292e-04\n",
      "Epoch 4/5\n",
      "39/39 [==============================] - 1s 17ms/step - loss: 4.2653e-04 - mean_squared_error: 4.2653e-04\n",
      "Epoch 5/5\n",
      "39/39 [==============================] - 1s 17ms/step - loss: 4.5356e-04 - mean_squared_error: 4.5356e-04\n",
      "1/1 [==============================] - 0s 25ms/step\n"
     ]
    },
    {
     "data": {
      "text/plain": [
       "array([[31411.682]], dtype=float32)"
      ]
     },
     "metadata": {},
     "output_type": "display_data"
    },
    {
     "name": "stdout",
     "output_type": "stream",
     "text": [
      "Epoch 1/5\n",
      "39/39 [==============================] - 1s 17ms/step - loss: 4.2352e-04 - mean_squared_error: 4.2352e-04\n",
      "Epoch 2/5\n",
      "39/39 [==============================] - 1s 17ms/step - loss: 4.5541e-04 - mean_squared_error: 4.5541e-04\n",
      "Epoch 3/5\n",
      "39/39 [==============================] - 1s 19ms/step - loss: 4.6015e-04 - mean_squared_error: 4.6015e-04\n",
      "Epoch 4/5\n",
      "39/39 [==============================] - 1s 18ms/step - loss: 4.5759e-04 - mean_squared_error: 4.5759e-04\n",
      "Epoch 5/5\n",
      "39/39 [==============================] - 1s 19ms/step - loss: 4.6125e-04 - mean_squared_error: 4.6125e-04\n",
      "1/1 [==============================] - 0s 22ms/step\n"
     ]
    },
    {
     "data": {
      "text/plain": [
       "array([[31500.002]], dtype=float32)"
      ]
     },
     "metadata": {},
     "output_type": "display_data"
    },
    {
     "name": "stdout",
     "output_type": "stream",
     "text": [
      "Epoch 1/5\n",
      "39/39 [==============================] - 1s 21ms/step - loss: 4.4056e-04 - mean_squared_error: 4.4056e-04\n",
      "Epoch 2/5\n",
      "39/39 [==============================] - 1s 18ms/step - loss: 4.3002e-04 - mean_squared_error: 4.3002e-04\n",
      "Epoch 3/5\n",
      "39/39 [==============================] - 1s 20ms/step - loss: 4.3525e-04 - mean_squared_error: 4.3525e-04\n",
      "Epoch 4/5\n",
      "39/39 [==============================] - 1s 18ms/step - loss: 4.4396e-04 - mean_squared_error: 4.4396e-04\n",
      "Epoch 5/5\n",
      "39/39 [==============================] - 1s 17ms/step - loss: 4.4359e-04 - mean_squared_error: 4.4359e-04\n",
      "1/1 [==============================] - 0s 22ms/step\n"
     ]
    },
    {
     "data": {
      "text/plain": [
       "array([[31210.988]], dtype=float32)"
      ]
     },
     "metadata": {},
     "output_type": "display_data"
    },
    {
     "name": "stdout",
     "output_type": "stream",
     "text": [
      "Epoch 1/5\n",
      "39/39 [==============================] - 1s 17ms/step - loss: 4.6055e-04 - mean_squared_error: 4.6055e-04\n",
      "Epoch 2/5\n",
      "39/39 [==============================] - 1s 17ms/step - loss: 4.3917e-04 - mean_squared_error: 4.3917e-04\n",
      "Epoch 3/5\n",
      "39/39 [==============================] - 1s 17ms/step - loss: 4.5938e-04 - mean_squared_error: 4.5938e-04\n",
      "Epoch 4/5\n",
      "39/39 [==============================] - 1s 17ms/step - loss: 4.3530e-04 - mean_squared_error: 4.3530e-04\n",
      "Epoch 5/5\n",
      "39/39 [==============================] - 1s 17ms/step - loss: 4.6173e-04 - mean_squared_error: 4.6173e-04\n",
      "1/1 [==============================] - 0s 22ms/step\n"
     ]
    },
    {
     "data": {
      "text/plain": [
       "array([[32087.775]], dtype=float32)"
      ]
     },
     "metadata": {},
     "output_type": "display_data"
    },
    {
     "name": "stdout",
     "output_type": "stream",
     "text": [
      "Epoch 1/5\n",
      "39/39 [==============================] - 1s 17ms/step - loss: 4.6778e-04 - mean_squared_error: 4.6778e-04\n",
      "Epoch 2/5\n",
      "39/39 [==============================] - 1s 17ms/step - loss: 4.4612e-04 - mean_squared_error: 4.4612e-04\n",
      "Epoch 3/5\n",
      "39/39 [==============================] - 1s 16ms/step - loss: 4.4804e-04 - mean_squared_error: 4.4804e-04\n",
      "Epoch 4/5\n",
      "39/39 [==============================] - 1s 17ms/step - loss: 4.4915e-04 - mean_squared_error: 4.4915e-04\n",
      "Epoch 5/5\n",
      "39/39 [==============================] - 1s 17ms/step - loss: 4.5329e-04 - mean_squared_error: 4.5329e-04\n",
      "1/1 [==============================] - 0s 22ms/step\n"
     ]
    },
    {
     "data": {
      "text/plain": [
       "array([[31769.86]], dtype=float32)"
      ]
     },
     "metadata": {},
     "output_type": "display_data"
    },
    {
     "name": "stdout",
     "output_type": "stream",
     "text": [
      "Epoch 1/5\n",
      "39/39 [==============================] - 1s 17ms/step - loss: 4.4138e-04 - mean_squared_error: 4.4138e-04\n",
      "Epoch 2/5\n",
      "39/39 [==============================] - 1s 17ms/step - loss: 4.4898e-04 - mean_squared_error: 4.4898e-04\n",
      "Epoch 3/5\n",
      "39/39 [==============================] - 1s 17ms/step - loss: 4.3201e-04 - mean_squared_error: 4.3201e-04\n",
      "Epoch 4/5\n",
      "39/39 [==============================] - 1s 17ms/step - loss: 4.3467e-04 - mean_squared_error: 4.3467e-04\n",
      "Epoch 5/5\n",
      "39/39 [==============================] - 1s 17ms/step - loss: 4.4103e-04 - mean_squared_error: 4.4103e-04\n",
      "1/1 [==============================] - 0s 22ms/step\n"
     ]
    },
    {
     "data": {
      "text/plain": [
       "array([[31294.385]], dtype=float32)"
      ]
     },
     "metadata": {},
     "output_type": "display_data"
    },
    {
     "name": "stdout",
     "output_type": "stream",
     "text": [
      "Epoch 1/5\n",
      "39/39 [==============================] - 1s 17ms/step - loss: 4.1843e-04 - mean_squared_error: 4.1843e-04\n",
      "Epoch 2/5\n",
      "39/39 [==============================] - 1s 16ms/step - loss: 4.4652e-04 - mean_squared_error: 4.4652e-04\n",
      "Epoch 3/5\n",
      "39/39 [==============================] - 1s 17ms/step - loss: 4.5670e-04 - mean_squared_error: 4.5670e-04\n",
      "Epoch 4/5\n",
      "39/39 [==============================] - 1s 17ms/step - loss: 4.7948e-04 - mean_squared_error: 4.7948e-04\n",
      "Epoch 5/5\n",
      "39/39 [==============================] - 1s 17ms/step - loss: 4.4079e-04 - mean_squared_error: 4.4079e-04\n",
      "1/1 [==============================] - 0s 22ms/step\n"
     ]
    },
    {
     "data": {
      "text/plain": [
       "array([[30920.582]], dtype=float32)"
      ]
     },
     "metadata": {},
     "output_type": "display_data"
    },
    {
     "name": "stdout",
     "output_type": "stream",
     "text": [
      "Epoch 1/5\n",
      "39/39 [==============================] - 1s 17ms/step - loss: 4.5221e-04 - mean_squared_error: 4.5221e-04\n",
      "Epoch 2/5\n",
      "39/39 [==============================] - 1s 17ms/step - loss: 4.2541e-04 - mean_squared_error: 4.2541e-04\n",
      "Epoch 3/5\n",
      "39/39 [==============================] - 1s 17ms/step - loss: 4.4683e-04 - mean_squared_error: 4.4683e-04\n",
      "Epoch 4/5\n",
      "39/39 [==============================] - 1s 17ms/step - loss: 4.1460e-04 - mean_squared_error: 4.1460e-04\n",
      "Epoch 5/5\n",
      "39/39 [==============================] - 1s 17ms/step - loss: 4.4980e-04 - mean_squared_error: 4.4980e-04\n",
      "1/1 [==============================] - 0s 22ms/step\n"
     ]
    },
    {
     "data": {
      "text/plain": [
       "array([[31152.7]], dtype=float32)"
      ]
     },
     "metadata": {},
     "output_type": "display_data"
    },
    {
     "name": "stdout",
     "output_type": "stream",
     "text": [
      "Epoch 1/5\n",
      "39/39 [==============================] - 1s 17ms/step - loss: 4.6044e-04 - mean_squared_error: 4.6044e-04\n",
      "Epoch 2/5\n",
      "39/39 [==============================] - 1s 17ms/step - loss: 4.2325e-04 - mean_squared_error: 4.2325e-04\n",
      "Epoch 3/5\n",
      "39/39 [==============================] - 1s 17ms/step - loss: 4.6953e-04 - mean_squared_error: 4.6953e-04\n",
      "Epoch 4/5\n",
      "39/39 [==============================] - 1s 17ms/step - loss: 4.5198e-04 - mean_squared_error: 4.5198e-04\n",
      "Epoch 5/5\n",
      "39/39 [==============================] - 1s 17ms/step - loss: 4.3390e-04 - mean_squared_error: 4.3390e-04\n",
      "1/1 [==============================] - 0s 22ms/step\n"
     ]
    },
    {
     "data": {
      "text/plain": [
       "array([[31039.883]], dtype=float32)"
      ]
     },
     "metadata": {},
     "output_type": "display_data"
    },
    {
     "name": "stdout",
     "output_type": "stream",
     "text": [
      "Epoch 1/5\n",
      "39/39 [==============================] - 1s 17ms/step - loss: 4.4195e-04 - mean_squared_error: 4.4195e-04\n",
      "Epoch 2/5\n",
      "39/39 [==============================] - 1s 17ms/step - loss: 4.2855e-04 - mean_squared_error: 4.2855e-04\n",
      "Epoch 3/5\n",
      "39/39 [==============================] - 1s 17ms/step - loss: 4.1551e-04 - mean_squared_error: 4.1551e-04\n",
      "Epoch 4/5\n",
      "39/39 [==============================] - 1s 17ms/step - loss: 3.9902e-04 - mean_squared_error: 3.9902e-04\n",
      "Epoch 5/5\n",
      "39/39 [==============================] - 1s 17ms/step - loss: 4.6588e-04 - mean_squared_error: 4.6588e-04\n",
      "1/1 [==============================] - 0s 22ms/step\n"
     ]
    },
    {
     "data": {
      "text/plain": [
       "array([[31889.3]], dtype=float32)"
      ]
     },
     "metadata": {},
     "output_type": "display_data"
    },
    {
     "name": "stdout",
     "output_type": "stream",
     "text": [
      "Epoch 1/5\n",
      "40/40 [==============================] - 1s 17ms/step - loss: 4.5411e-04 - mean_squared_error: 4.5411e-04\n",
      "Epoch 2/5\n",
      "40/40 [==============================] - 1s 17ms/step - loss: 4.2154e-04 - mean_squared_error: 4.2154e-04\n",
      "Epoch 3/5\n",
      "40/40 [==============================] - 1s 17ms/step - loss: 4.3545e-04 - mean_squared_error: 4.3545e-04\n",
      "Epoch 4/5\n",
      "40/40 [==============================] - 1s 17ms/step - loss: 4.7682e-04 - mean_squared_error: 4.7682e-04\n",
      "Epoch 5/5\n",
      "40/40 [==============================] - 1s 19ms/step - loss: 4.5260e-04 - mean_squared_error: 4.5260e-04\n",
      "1/1 [==============================] - 0s 23ms/step\n"
     ]
    },
    {
     "data": {
      "text/plain": [
       "array([[31426.785]], dtype=float32)"
      ]
     },
     "metadata": {},
     "output_type": "display_data"
    },
    {
     "name": "stdout",
     "output_type": "stream",
     "text": [
      "Epoch 1/5\n",
      "40/40 [==============================] - 1s 18ms/step - loss: 4.7691e-04 - mean_squared_error: 4.7691e-04\n",
      "Epoch 2/5\n",
      "40/40 [==============================] - 1s 17ms/step - loss: 4.2864e-04 - mean_squared_error: 4.2864e-04\n",
      "Epoch 3/5\n",
      "40/40 [==============================] - 1s 17ms/step - loss: 4.4741e-04 - mean_squared_error: 4.4741e-04\n",
      "Epoch 4/5\n",
      "40/40 [==============================] - 1s 17ms/step - loss: 4.4806e-04 - mean_squared_error: 4.4806e-04\n",
      "Epoch 5/5\n",
      "40/40 [==============================] - 1s 17ms/step - loss: 4.0015e-04 - mean_squared_error: 4.0015e-04\n",
      "1/1 [==============================] - 0s 23ms/step\n"
     ]
    },
    {
     "data": {
      "text/plain": [
       "array([[31073.213]], dtype=float32)"
      ]
     },
     "metadata": {},
     "output_type": "display_data"
    },
    {
     "name": "stdout",
     "output_type": "stream",
     "text": [
      "Epoch 1/5\n",
      "40/40 [==============================] - 1s 17ms/step - loss: 4.6397e-04 - mean_squared_error: 4.6397e-04\n",
      "Epoch 2/5\n",
      "40/40 [==============================] - 1s 17ms/step - loss: 4.3559e-04 - mean_squared_error: 4.3559e-04\n",
      "Epoch 3/5\n",
      "40/40 [==============================] - 1s 17ms/step - loss: 4.2942e-04 - mean_squared_error: 4.2942e-04\n",
      "Epoch 4/5\n",
      "40/40 [==============================] - 1s 17ms/step - loss: 4.2730e-04 - mean_squared_error: 4.2730e-04\n",
      "Epoch 5/5\n",
      "40/40 [==============================] - 1s 17ms/step - loss: 4.2488e-04 - mean_squared_error: 4.2488e-04\n",
      "1/1 [==============================] - 0s 22ms/step\n"
     ]
    },
    {
     "data": {
      "text/plain": [
       "array([[31853.34]], dtype=float32)"
      ]
     },
     "metadata": {},
     "output_type": "display_data"
    },
    {
     "name": "stdout",
     "output_type": "stream",
     "text": [
      "Epoch 1/5\n",
      "40/40 [==============================] - 1s 17ms/step - loss: 5.7183e-04 - mean_squared_error: 5.7183e-04\n",
      "Epoch 2/5\n",
      "40/40 [==============================] - 1s 17ms/step - loss: 4.5721e-04 - mean_squared_error: 4.5721e-04\n",
      "Epoch 3/5\n",
      "40/40 [==============================] - 1s 17ms/step - loss: 4.3552e-04 - mean_squared_error: 4.3552e-04\n",
      "Epoch 4/5\n",
      "40/40 [==============================] - 1s 17ms/step - loss: 4.6614e-04 - mean_squared_error: 4.6614e-04\n",
      "Epoch 5/5\n",
      "40/40 [==============================] - 1s 17ms/step - loss: 4.4066e-04 - mean_squared_error: 4.4066e-04\n",
      "1/1 [==============================] - 0s 22ms/step\n"
     ]
    },
    {
     "data": {
      "text/plain": [
       "array([[31722.707]], dtype=float32)"
      ]
     },
     "metadata": {},
     "output_type": "display_data"
    },
    {
     "name": "stdout",
     "output_type": "stream",
     "text": [
      "Epoch 1/5\n",
      "40/40 [==============================] - 1s 17ms/step - loss: 4.2181e-04 - mean_squared_error: 4.2181e-04\n",
      "Epoch 2/5\n",
      "40/40 [==============================] - 1s 17ms/step - loss: 4.4876e-04 - mean_squared_error: 4.4876e-04\n",
      "Epoch 3/5\n",
      "40/40 [==============================] - 1s 17ms/step - loss: 4.4364e-04 - mean_squared_error: 4.4364e-04\n",
      "Epoch 4/5\n",
      "40/40 [==============================] - 1s 16ms/step - loss: 4.5680e-04 - mean_squared_error: 4.5680e-04\n",
      "Epoch 5/5\n",
      "40/40 [==============================] - 1s 17ms/step - loss: 4.1127e-04 - mean_squared_error: 4.1127e-04\n",
      "1/1 [==============================] - 0s 23ms/step\n"
     ]
    },
    {
     "data": {
      "text/plain": [
       "array([[31800.568]], dtype=float32)"
      ]
     },
     "metadata": {},
     "output_type": "display_data"
    },
    {
     "name": "stdout",
     "output_type": "stream",
     "text": [
      "Epoch 1/5\n",
      "40/40 [==============================] - 1s 21ms/step - loss: 4.0525e-04 - mean_squared_error: 4.0525e-04\n",
      "Epoch 2/5\n",
      "40/40 [==============================] - 1s 19ms/step - loss: 4.2326e-04 - mean_squared_error: 4.2326e-04\n",
      "Epoch 3/5\n",
      "40/40 [==============================] - 1s 20ms/step - loss: 4.1773e-04 - mean_squared_error: 4.1773e-04\n",
      "Epoch 4/5\n",
      "40/40 [==============================] - 1s 19ms/step - loss: 4.5613e-04 - mean_squared_error: 4.5613e-04\n",
      "Epoch 5/5\n",
      "40/40 [==============================] - 1s 18ms/step - loss: 4.1662e-04 - mean_squared_error: 4.1662e-04\n",
      "1/1 [==============================] - 0s 22ms/step\n"
     ]
    },
    {
     "data": {
      "text/plain": [
       "array([[31692.68]], dtype=float32)"
      ]
     },
     "metadata": {},
     "output_type": "display_data"
    },
    {
     "name": "stdout",
     "output_type": "stream",
     "text": [
      "Epoch 1/5\n",
      "40/40 [==============================] - 1s 17ms/step - loss: 4.3466e-04 - mean_squared_error: 4.3466e-04\n",
      "Epoch 2/5\n",
      "40/40 [==============================] - 1s 20ms/step - loss: 4.2496e-04 - mean_squared_error: 4.2496e-04\n",
      "Epoch 3/5\n",
      "40/40 [==============================] - 1s 19ms/step - loss: 4.1184e-04 - mean_squared_error: 4.1184e-04\n",
      "Epoch 4/5\n",
      "40/40 [==============================] - 1s 18ms/step - loss: 4.4153e-04 - mean_squared_error: 4.4153e-04\n",
      "Epoch 5/5\n",
      "40/40 [==============================] - 1s 19ms/step - loss: 4.6341e-04 - mean_squared_error: 4.6341e-04\n",
      "1/1 [==============================] - 0s 23ms/step\n"
     ]
    },
    {
     "data": {
      "text/plain": [
       "array([[31560.373]], dtype=float32)"
      ]
     },
     "metadata": {},
     "output_type": "display_data"
    },
    {
     "name": "stdout",
     "output_type": "stream",
     "text": [
      "Epoch 1/5\n",
      "40/40 [==============================] - 1s 18ms/step - loss: 4.5159e-04 - mean_squared_error: 4.5159e-04\n",
      "Epoch 2/5\n",
      "40/40 [==============================] - 1s 18ms/step - loss: 4.2936e-04 - mean_squared_error: 4.2936e-04\n",
      "Epoch 3/5\n",
      "40/40 [==============================] - 1s 17ms/step - loss: 4.2771e-04 - mean_squared_error: 4.2771e-04\n",
      "Epoch 4/5\n",
      "40/40 [==============================] - 1s 17ms/step - loss: 4.1128e-04 - mean_squared_error: 4.1128e-04\n",
      "Epoch 5/5\n",
      "40/40 [==============================] - 1s 17ms/step - loss: 4.3113e-04 - mean_squared_error: 4.3113e-04\n",
      "1/1 [==============================] - 0s 22ms/step\n"
     ]
    },
    {
     "data": {
      "text/plain": [
       "array([[31999.965]], dtype=float32)"
      ]
     },
     "metadata": {},
     "output_type": "display_data"
    },
    {
     "name": "stdout",
     "output_type": "stream",
     "text": [
      "Epoch 1/5\n",
      "40/40 [==============================] - 1s 17ms/step - loss: 4.2365e-04 - mean_squared_error: 4.2365e-04\n",
      "Epoch 2/5\n",
      "40/40 [==============================] - 1s 18ms/step - loss: 5.0711e-04 - mean_squared_error: 5.0711e-04\n",
      "Epoch 3/5\n",
      "40/40 [==============================] - 1s 18ms/step - loss: 4.2153e-04 - mean_squared_error: 4.2153e-04\n",
      "Epoch 4/5\n",
      "40/40 [==============================] - 1s 18ms/step - loss: 4.3055e-04 - mean_squared_error: 4.3055e-04\n",
      "Epoch 5/5\n",
      "40/40 [==============================] - 1s 18ms/step - loss: 4.1727e-04 - mean_squared_error: 4.1727e-04\n",
      "1/1 [==============================] - 0s 24ms/step\n"
     ]
    },
    {
     "data": {
      "text/plain": [
       "array([[31093.887]], dtype=float32)"
      ]
     },
     "metadata": {},
     "output_type": "display_data"
    },
    {
     "name": "stdout",
     "output_type": "stream",
     "text": [
      "Epoch 1/5\n",
      "40/40 [==============================] - 1s 17ms/step - loss: 4.1163e-04 - mean_squared_error: 4.1163e-04\n",
      "Epoch 2/5\n",
      "40/40 [==============================] - 1s 17ms/step - loss: 4.0588e-04 - mean_squared_error: 4.0588e-04\n",
      "Epoch 3/5\n",
      "40/40 [==============================] - 1s 23ms/step - loss: 4.4138e-04 - mean_squared_error: 4.4138e-04\n",
      "Epoch 4/5\n",
      "40/40 [==============================] - 1s 17ms/step - loss: 4.4435e-04 - mean_squared_error: 4.4435e-04\n",
      "Epoch 5/5\n",
      "40/40 [==============================] - 1s 17ms/step - loss: 4.3802e-04 - mean_squared_error: 4.3802e-04\n",
      "1/1 [==============================] - 0s 22ms/step\n"
     ]
    },
    {
     "data": {
      "text/plain": [
       "array([[30161.512]], dtype=float32)"
      ]
     },
     "metadata": {},
     "output_type": "display_data"
    },
    {
     "name": "stdout",
     "output_type": "stream",
     "text": [
      "Epoch 1/5\n",
      "40/40 [==============================] - 1s 17ms/step - loss: 4.5879e-04 - mean_squared_error: 4.5879e-04\n",
      "Epoch 2/5\n",
      "40/40 [==============================] - 1s 17ms/step - loss: 4.1701e-04 - mean_squared_error: 4.1701e-04\n",
      "Epoch 3/5\n",
      "40/40 [==============================] - 1s 17ms/step - loss: 4.3643e-04 - mean_squared_error: 4.3643e-04\n",
      "Epoch 4/5\n",
      "40/40 [==============================] - 1s 17ms/step - loss: 4.4756e-04 - mean_squared_error: 4.4756e-04\n",
      "Epoch 5/5\n",
      "40/40 [==============================] - 1s 16ms/step - loss: 4.8837e-04 - mean_squared_error: 4.8837e-04\n",
      "1/1 [==============================] - 0s 24ms/step\n"
     ]
    },
    {
     "data": {
      "text/plain": [
       "array([[30064.648]], dtype=float32)"
      ]
     },
     "metadata": {},
     "output_type": "display_data"
    },
    {
     "name": "stdout",
     "output_type": "stream",
     "text": [
      "Epoch 1/5\n",
      "40/40 [==============================] - 1s 20ms/step - loss: 3.9576e-04 - mean_squared_error: 3.9576e-04\n",
      "Epoch 2/5\n",
      "40/40 [==============================] - 1s 21ms/step - loss: 4.4886e-04 - mean_squared_error: 4.4886e-04\n",
      "Epoch 3/5\n",
      "40/40 [==============================] - 1s 21ms/step - loss: 4.1239e-04 - mean_squared_error: 4.1239e-04\n",
      "Epoch 4/5\n",
      "40/40 [==============================] - 1s 25ms/step - loss: 4.0320e-04 - mean_squared_error: 4.0320e-04\n",
      "Epoch 5/5\n",
      "40/40 [==============================] - 1s 20ms/step - loss: 4.5284e-04 - mean_squared_error: 4.5284e-04\n",
      "1/1 [==============================] - 0s 25ms/step\n"
     ]
    },
    {
     "data": {
      "text/plain": [
       "array([[29967.21]], dtype=float32)"
      ]
     },
     "metadata": {},
     "output_type": "display_data"
    },
    {
     "name": "stdout",
     "output_type": "stream",
     "text": [
      "Epoch 1/5\n",
      "40/40 [==============================] - 1s 19ms/step - loss: 4.2790e-04 - mean_squared_error: 4.2790e-04\n",
      "Epoch 2/5\n",
      "40/40 [==============================] - 1s 17ms/step - loss: 4.2904e-04 - mean_squared_error: 4.2904e-04\n",
      "Epoch 3/5\n",
      "40/40 [==============================] - 1s 18ms/step - loss: 4.3016e-04 - mean_squared_error: 4.3016e-04\n",
      "Epoch 4/5\n",
      "40/40 [==============================] - 1s 18ms/step - loss: 4.4891e-04 - mean_squared_error: 4.4891e-04\n",
      "Epoch 5/5\n",
      "40/40 [==============================] - 1s 18ms/step - loss: 4.5055e-04 - mean_squared_error: 4.5055e-04\n",
      "1/1 [==============================] - 0s 22ms/step\n"
     ]
    },
    {
     "data": {
      "text/plain": [
       "array([[30214.932]], dtype=float32)"
      ]
     },
     "metadata": {},
     "output_type": "display_data"
    },
    {
     "name": "stdout",
     "output_type": "stream",
     "text": [
      "Epoch 1/5\n",
      "40/40 [==============================] - 1s 18ms/step - loss: 4.3383e-04 - mean_squared_error: 4.3383e-04\n",
      "Epoch 2/5\n",
      "40/40 [==============================] - 1s 22ms/step - loss: 4.2409e-04 - mean_squared_error: 4.2409e-04\n",
      "Epoch 3/5\n",
      "40/40 [==============================] - 1s 21ms/step - loss: 4.4780e-04 - mean_squared_error: 4.4780e-04\n",
      "Epoch 4/5\n",
      "40/40 [==============================] - 1s 21ms/step - loss: 4.2903e-04 - mean_squared_error: 4.2903e-04\n",
      "Epoch 5/5\n",
      "40/40 [==============================] - 1s 20ms/step - loss: 4.0363e-04 - mean_squared_error: 4.0363e-04\n",
      "1/1 [==============================] - 0s 24ms/step\n"
     ]
    },
    {
     "data": {
      "text/plain": [
       "array([[29912.182]], dtype=float32)"
      ]
     },
     "metadata": {},
     "output_type": "display_data"
    },
    {
     "name": "stdout",
     "output_type": "stream",
     "text": [
      "Epoch 1/5\n",
      "40/40 [==============================] - 1s 19ms/step - loss: 4.3253e-04 - mean_squared_error: 4.3253e-04\n",
      "Epoch 2/5\n",
      "40/40 [==============================] - 1s 17ms/step - loss: 4.2342e-04 - mean_squared_error: 4.2342e-04\n",
      "Epoch 3/5\n",
      "40/40 [==============================] - 1s 17ms/step - loss: 4.3568e-04 - mean_squared_error: 4.3568e-04\n",
      "Epoch 4/5\n",
      "40/40 [==============================] - 1s 17ms/step - loss: 4.0927e-04 - mean_squared_error: 4.0927e-04\n",
      "Epoch 5/5\n",
      "40/40 [==============================] - 1s 16ms/step - loss: 4.2950e-04 - mean_squared_error: 4.2950e-04\n",
      "1/1 [==============================] - 0s 22ms/step\n"
     ]
    },
    {
     "data": {
      "text/plain": [
       "array([[30034.924]], dtype=float32)"
      ]
     },
     "metadata": {},
     "output_type": "display_data"
    },
    {
     "name": "stdout",
     "output_type": "stream",
     "text": [
      "Epoch 1/5\n",
      "40/40 [==============================] - 1s 17ms/step - loss: 4.1817e-04 - mean_squared_error: 4.1817e-04\n",
      "Epoch 2/5\n",
      "40/40 [==============================] - 1s 17ms/step - loss: 3.9072e-04 - mean_squared_error: 3.9072e-04\n",
      "Epoch 3/5\n",
      "40/40 [==============================] - 1s 17ms/step - loss: 4.1770e-04 - mean_squared_error: 4.1770e-04\n",
      "Epoch 4/5\n",
      "40/40 [==============================] - 1s 21ms/step - loss: 4.7830e-04 - mean_squared_error: 4.7830e-04\n",
      "Epoch 5/5\n",
      "40/40 [==============================] - 1s 20ms/step - loss: 4.4979e-04 - mean_squared_error: 4.4979e-04\n",
      "1/1 [==============================] - 0s 33ms/step\n"
     ]
    },
    {
     "data": {
      "text/plain": [
       "array([[30531.213]], dtype=float32)"
      ]
     },
     "metadata": {},
     "output_type": "display_data"
    },
    {
     "name": "stdout",
     "output_type": "stream",
     "text": [
      "Epoch 1/5\n",
      "40/40 [==============================] - 1s 20ms/step - loss: 4.6286e-04 - mean_squared_error: 4.6286e-04\n",
      "Epoch 2/5\n",
      "40/40 [==============================] - 1s 17ms/step - loss: 4.3269e-04 - mean_squared_error: 4.3269e-04\n",
      "Epoch 3/5\n",
      "40/40 [==============================] - 1s 17ms/step - loss: 4.1002e-04 - mean_squared_error: 4.1002e-04\n",
      "Epoch 4/5\n",
      "40/40 [==============================] - 1s 19ms/step - loss: 4.3727e-04 - mean_squared_error: 4.3727e-04\n",
      "Epoch 5/5\n",
      "40/40 [==============================] - 1s 20ms/step - loss: 4.2139e-04 - mean_squared_error: 4.2139e-04\n",
      "1/1 [==============================] - 0s 26ms/step\n"
     ]
    },
    {
     "data": {
      "text/plain": [
       "array([[30046.055]], dtype=float32)"
      ]
     },
     "metadata": {},
     "output_type": "display_data"
    },
    {
     "name": "stdout",
     "output_type": "stream",
     "text": [
      "Epoch 1/5\n",
      "40/40 [==============================] - 1s 21ms/step - loss: 4.1245e-04 - mean_squared_error: 4.1245e-04\n",
      "Epoch 2/5\n",
      "40/40 [==============================] - 1s 19ms/step - loss: 4.4911e-04 - mean_squared_error: 4.4911e-04\n",
      "Epoch 3/5\n",
      "40/40 [==============================] - 1s 17ms/step - loss: 4.1580e-04 - mean_squared_error: 4.1580e-04\n",
      "Epoch 4/5\n",
      "40/40 [==============================] - 1s 17ms/step - loss: 4.0433e-04 - mean_squared_error: 4.0433e-04\n",
      "Epoch 5/5\n",
      "40/40 [==============================] - 1s 17ms/step - loss: 4.5920e-04 - mean_squared_error: 4.5920e-04\n",
      "1/1 [==============================] - 0s 22ms/step\n"
     ]
    },
    {
     "data": {
      "text/plain": [
       "array([[30130.998]], dtype=float32)"
      ]
     },
     "metadata": {},
     "output_type": "display_data"
    },
    {
     "name": "stdout",
     "output_type": "stream",
     "text": [
      "Epoch 1/5\n",
      "40/40 [==============================] - 1s 17ms/step - loss: 4.3638e-04 - mean_squared_error: 4.3638e-04\n",
      "Epoch 2/5\n",
      "40/40 [==============================] - 1s 17ms/step - loss: 4.2940e-04 - mean_squared_error: 4.2940e-04\n",
      "Epoch 3/5\n",
      "40/40 [==============================] - 1s 17ms/step - loss: 4.0860e-04 - mean_squared_error: 4.0860e-04\n",
      "Epoch 4/5\n",
      "40/40 [==============================] - 1s 17ms/step - loss: 4.0957e-04 - mean_squared_error: 4.0957e-04\n",
      "Epoch 5/5\n",
      "40/40 [==============================] - 1s 16ms/step - loss: 4.1830e-04 - mean_squared_error: 4.1830e-04\n",
      "1/1 [==============================] - 0s 22ms/step\n"
     ]
    },
    {
     "data": {
      "text/plain": [
       "array([[30320.293]], dtype=float32)"
      ]
     },
     "metadata": {},
     "output_type": "display_data"
    },
    {
     "name": "stdout",
     "output_type": "stream",
     "text": [
      "Epoch 1/5\n",
      "40/40 [==============================] - 1s 17ms/step - loss: 4.2628e-04 - mean_squared_error: 4.2628e-04\n",
      "Epoch 2/5\n",
      "40/40 [==============================] - 1s 17ms/step - loss: 4.0788e-04 - mean_squared_error: 4.0788e-04\n",
      "Epoch 3/5\n",
      "40/40 [==============================] - 1s 17ms/step - loss: 4.2234e-04 - mean_squared_error: 4.2234e-04\n",
      "Epoch 4/5\n",
      "40/40 [==============================] - 1s 17ms/step - loss: 4.6655e-04 - mean_squared_error: 4.6655e-04\n",
      "Epoch 5/5\n",
      "40/40 [==============================] - 1s 17ms/step - loss: 4.3461e-04 - mean_squared_error: 4.3461e-04\n",
      "1/1 [==============================] - 0s 22ms/step\n"
     ]
    },
    {
     "data": {
      "text/plain": [
       "array([[30361.16]], dtype=float32)"
      ]
     },
     "metadata": {},
     "output_type": "display_data"
    },
    {
     "name": "stdout",
     "output_type": "stream",
     "text": [
      "Epoch 1/5\n",
      "40/40 [==============================] - 1s 17ms/step - loss: 4.0564e-04 - mean_squared_error: 4.0564e-04\n",
      "Epoch 2/5\n",
      "40/40 [==============================] - 1s 17ms/step - loss: 4.1522e-04 - mean_squared_error: 4.1522e-04\n",
      "Epoch 3/5\n",
      "40/40 [==============================] - 1s 17ms/step - loss: 4.0740e-04 - mean_squared_error: 4.0740e-04\n",
      "Epoch 4/5\n",
      "40/40 [==============================] - 1s 17ms/step - loss: 4.1731e-04 - mean_squared_error: 4.1731e-04\n",
      "Epoch 5/5\n",
      "40/40 [==============================] - 1s 16ms/step - loss: 4.3825e-04 - mean_squared_error: 4.3825e-04\n",
      "1/1 [==============================] - 0s 23ms/step\n"
     ]
    },
    {
     "data": {
      "text/plain": [
       "array([[29951.324]], dtype=float32)"
      ]
     },
     "metadata": {},
     "output_type": "display_data"
    },
    {
     "name": "stdout",
     "output_type": "stream",
     "text": [
      "Epoch 1/5\n",
      "40/40 [==============================] - 1s 17ms/step - loss: 4.3724e-04 - mean_squared_error: 4.3724e-04\n",
      "Epoch 2/5\n",
      "40/40 [==============================] - 1s 17ms/step - loss: 4.7323e-04 - mean_squared_error: 4.7323e-04\n",
      "Epoch 3/5\n",
      "40/40 [==============================] - 1s 17ms/step - loss: 4.3030e-04 - mean_squared_error: 4.3030e-04\n",
      "Epoch 4/5\n",
      "40/40 [==============================] - 1s 16ms/step - loss: 4.5387e-04 - mean_squared_error: 4.5387e-04\n",
      "Epoch 5/5\n",
      "40/40 [==============================] - 1s 17ms/step - loss: 4.1198e-04 - mean_squared_error: 4.1198e-04\n",
      "1/1 [==============================] - 0s 22ms/step\n"
     ]
    },
    {
     "data": {
      "text/plain": [
       "array([[29993.342]], dtype=float32)"
      ]
     },
     "metadata": {},
     "output_type": "display_data"
    },
    {
     "name": "stdout",
     "output_type": "stream",
     "text": [
      "Epoch 1/5\n",
      "40/40 [==============================] - 1s 17ms/step - loss: 4.2616e-04 - mean_squared_error: 4.2616e-04\n",
      "Epoch 2/5\n",
      "40/40 [==============================] - 1s 17ms/step - loss: 4.4170e-04 - mean_squared_error: 4.4170e-04\n",
      "Epoch 3/5\n",
      "40/40 [==============================] - 1s 17ms/step - loss: 4.2420e-04 - mean_squared_error: 4.2420e-04\n",
      "Epoch 4/5\n",
      "40/40 [==============================] - 1s 17ms/step - loss: 4.3453e-04 - mean_squared_error: 4.3453e-04\n",
      "Epoch 5/5\n",
      "40/40 [==============================] - 1s 17ms/step - loss: 4.1791e-04 - mean_squared_error: 4.1791e-04\n",
      "1/1 [==============================] - 0s 22ms/step\n"
     ]
    },
    {
     "data": {
      "text/plain": [
       "array([[30076.58]], dtype=float32)"
      ]
     },
     "metadata": {},
     "output_type": "display_data"
    },
    {
     "name": "stdout",
     "output_type": "stream",
     "text": [
      "Epoch 1/5\n",
      "40/40 [==============================] - 1s 17ms/step - loss: 4.1508e-04 - mean_squared_error: 4.1508e-04\n",
      "Epoch 2/5\n",
      "40/40 [==============================] - 1s 17ms/step - loss: 4.4532e-04 - mean_squared_error: 4.4532e-04\n",
      "Epoch 3/5\n",
      "40/40 [==============================] - 1s 17ms/step - loss: 4.1349e-04 - mean_squared_error: 4.1349e-04\n",
      "Epoch 4/5\n",
      "40/40 [==============================] - 1s 17ms/step - loss: 4.3532e-04 - mean_squared_error: 4.3532e-04\n",
      "Epoch 5/5\n",
      "40/40 [==============================] - 1s 17ms/step - loss: 3.9099e-04 - mean_squared_error: 3.9099e-04\n",
      "1/1 [==============================] - 0s 22ms/step\n"
     ]
    },
    {
     "data": {
      "text/plain": [
       "array([[30425.207]], dtype=float32)"
      ]
     },
     "metadata": {},
     "output_type": "display_data"
    },
    {
     "name": "stdout",
     "output_type": "stream",
     "text": [
      "Epoch 1/5\n",
      "40/40 [==============================] - 1s 17ms/step - loss: 4.4478e-04 - mean_squared_error: 4.4478e-04\n",
      "Epoch 2/5\n",
      "40/40 [==============================] - 1s 17ms/step - loss: 4.5046e-04 - mean_squared_error: 4.5046e-04\n",
      "Epoch 3/5\n",
      "40/40 [==============================] - 1s 17ms/step - loss: 4.3972e-04 - mean_squared_error: 4.3972e-04\n",
      "Epoch 4/5\n",
      "40/40 [==============================] - 1s 17ms/step - loss: 3.9729e-04 - mean_squared_error: 3.9729e-04\n",
      "Epoch 5/5\n",
      "40/40 [==============================] - 1s 17ms/step - loss: 3.9191e-04 - mean_squared_error: 3.9191e-04\n",
      "1/1 [==============================] - 0s 22ms/step\n"
     ]
    },
    {
     "data": {
      "text/plain": [
       "array([[30493.639]], dtype=float32)"
      ]
     },
     "metadata": {},
     "output_type": "display_data"
    },
    {
     "name": "stdout",
     "output_type": "stream",
     "text": [
      "Epoch 1/5\n",
      "40/40 [==============================] - 1s 17ms/step - loss: 4.4122e-04 - mean_squared_error: 4.4122e-04\n",
      "Epoch 2/5\n",
      "40/40 [==============================] - 1s 17ms/step - loss: 3.9613e-04 - mean_squared_error: 3.9613e-04\n",
      "Epoch 3/5\n",
      "40/40 [==============================] - 1s 17ms/step - loss: 3.8146e-04 - mean_squared_error: 3.8146e-04\n",
      "Epoch 4/5\n",
      "40/40 [==============================] - 1s 16ms/step - loss: 4.5653e-04 - mean_squared_error: 4.5653e-04\n",
      "Epoch 5/5\n",
      "40/40 [==============================] - 1s 17ms/step - loss: 4.6657e-04 - mean_squared_error: 4.6657e-04\n",
      "1/1 [==============================] - 0s 22ms/step\n"
     ]
    },
    {
     "data": {
      "text/plain": [
       "array([[31054.072]], dtype=float32)"
      ]
     },
     "metadata": {},
     "output_type": "display_data"
    },
    {
     "name": "stdout",
     "output_type": "stream",
     "text": [
      "Epoch 1/5\n",
      "40/40 [==============================] - 1s 17ms/step - loss: 4.3847e-04 - mean_squared_error: 4.3847e-04\n",
      "Epoch 2/5\n",
      "40/40 [==============================] - 1s 17ms/step - loss: 4.1781e-04 - mean_squared_error: 4.1781e-04\n",
      "Epoch 3/5\n",
      "40/40 [==============================] - 1s 17ms/step - loss: 3.8968e-04 - mean_squared_error: 3.8968e-04\n",
      "Epoch 4/5\n",
      "40/40 [==============================] - 1s 17ms/step - loss: 4.0344e-04 - mean_squared_error: 4.0344e-04\n",
      "Epoch 5/5\n",
      "40/40 [==============================] - 1s 17ms/step - loss: 4.1743e-04 - mean_squared_error: 4.1743e-04\n",
      "1/1 [==============================] - 0s 22ms/step\n"
     ]
    },
    {
     "data": {
      "text/plain": [
       "array([[31377.473]], dtype=float32)"
      ]
     },
     "metadata": {},
     "output_type": "display_data"
    },
    {
     "name": "stdout",
     "output_type": "stream",
     "text": [
      "Epoch 1/5\n",
      "40/40 [==============================] - 1s 17ms/step - loss: 4.0129e-04 - mean_squared_error: 4.0129e-04\n",
      "Epoch 2/5\n",
      "40/40 [==============================] - 1s 17ms/step - loss: 4.4616e-04 - mean_squared_error: 4.4616e-04\n",
      "Epoch 3/5\n",
      "40/40 [==============================] - 1s 20ms/step - loss: 4.2170e-04 - mean_squared_error: 4.2170e-04\n",
      "Epoch 4/5\n",
      "40/40 [==============================] - 1s 19ms/step - loss: 4.2195e-04 - mean_squared_error: 4.2195e-04\n",
      "Epoch 5/5\n",
      "40/40 [==============================] - 1s 21ms/step - loss: 3.9203e-04 - mean_squared_error: 3.9203e-04\n",
      "1/1 [==============================] - 0s 26ms/step\n"
     ]
    },
    {
     "data": {
      "text/plain": [
       "array([[31570.123]], dtype=float32)"
      ]
     },
     "metadata": {},
     "output_type": "display_data"
    },
    {
     "name": "stdout",
     "output_type": "stream",
     "text": [
      "Epoch 1/5\n",
      "40/40 [==============================] - 1s 19ms/step - loss: 4.3871e-04 - mean_squared_error: 4.3871e-04\n",
      "Epoch 2/5\n",
      "40/40 [==============================] - 1s 18ms/step - loss: 4.2667e-04 - mean_squared_error: 4.2667e-04\n",
      "Epoch 3/5\n",
      "40/40 [==============================] - 1s 18ms/step - loss: 3.9701e-04 - mean_squared_error: 3.9701e-04\n",
      "Epoch 4/5\n",
      "40/40 [==============================] - 1s 18ms/step - loss: 4.4964e-04 - mean_squared_error: 4.4964e-04\n",
      "Epoch 5/5\n",
      "40/40 [==============================] - 1s 19ms/step - loss: 4.6033e-04 - mean_squared_error: 4.6033e-04\n",
      "1/1 [==============================] - 0s 26ms/step\n"
     ]
    },
    {
     "data": {
      "text/plain": [
       "array([[31496.39]], dtype=float32)"
      ]
     },
     "metadata": {},
     "output_type": "display_data"
    },
    {
     "name": "stdout",
     "output_type": "stream",
     "text": [
      "Epoch 1/5\n",
      "40/40 [==============================] - 1s 18ms/step - loss: 4.1602e-04 - mean_squared_error: 4.1602e-04\n",
      "Epoch 2/5\n",
      "40/40 [==============================] - 1s 18ms/step - loss: 4.2415e-04 - mean_squared_error: 4.2415e-04\n",
      "Epoch 3/5\n",
      "40/40 [==============================] - 1s 18ms/step - loss: 3.9257e-04 - mean_squared_error: 3.9257e-04\n",
      "Epoch 4/5\n",
      "40/40 [==============================] - 1s 18ms/step - loss: 4.2238e-04 - mean_squared_error: 4.2238e-04\n",
      "Epoch 5/5\n",
      "40/40 [==============================] - 1s 18ms/step - loss: 4.1665e-04 - mean_squared_error: 4.1665e-04\n",
      "1/1 [==============================] - 0s 26ms/step\n"
     ]
    },
    {
     "data": {
      "text/plain": [
       "array([[32005.238]], dtype=float32)"
      ]
     },
     "metadata": {},
     "output_type": "display_data"
    },
    {
     "name": "stdout",
     "output_type": "stream",
     "text": [
      "Epoch 1/5\n",
      "40/40 [==============================] - 1s 18ms/step - loss: 4.0936e-04 - mean_squared_error: 4.0936e-04\n",
      "Epoch 2/5\n",
      "40/40 [==============================] - 1s 17ms/step - loss: 4.4068e-04 - mean_squared_error: 4.4068e-04\n",
      "Epoch 3/5\n",
      "40/40 [==============================] - 1s 17ms/step - loss: 4.3795e-04 - mean_squared_error: 4.3795e-04\n",
      "Epoch 4/5\n",
      "40/40 [==============================] - 1s 17ms/step - loss: 4.1461e-04 - mean_squared_error: 4.1461e-04\n",
      "Epoch 5/5\n",
      "40/40 [==============================] - 1s 16ms/step - loss: 4.0024e-04 - mean_squared_error: 4.0024e-04\n",
      "1/1 [==============================] - 0s 22ms/step\n"
     ]
    },
    {
     "data": {
      "text/plain": [
       "array([[31990.314]], dtype=float32)"
      ]
     },
     "metadata": {},
     "output_type": "display_data"
    },
    {
     "name": "stdout",
     "output_type": "stream",
     "text": [
      "Epoch 1/5\n",
      "40/40 [==============================] - 1s 17ms/step - loss: 4.1089e-04 - mean_squared_error: 4.1089e-04\n",
      "Epoch 2/5\n",
      "40/40 [==============================] - 1s 17ms/step - loss: 3.8889e-04 - mean_squared_error: 3.8889e-04\n",
      "Epoch 3/5\n",
      "40/40 [==============================] - 1s 17ms/step - loss: 4.1994e-04 - mean_squared_error: 4.1994e-04\n",
      "Epoch 4/5\n",
      "40/40 [==============================] - 1s 17ms/step - loss: 4.0550e-04 - mean_squared_error: 4.0550e-04\n",
      "Epoch 5/5\n",
      "40/40 [==============================] - 1s 17ms/step - loss: 4.3340e-04 - mean_squared_error: 4.3340e-04\n",
      "1/1 [==============================] - 0s 23ms/step\n"
     ]
    },
    {
     "data": {
      "text/plain": [
       "array([[32123.943]], dtype=float32)"
      ]
     },
     "metadata": {},
     "output_type": "display_data"
    },
    {
     "name": "stdout",
     "output_type": "stream",
     "text": [
      "Epoch 1/5\n",
      "41/41 [==============================] - 1s 17ms/step - loss: 4.0191e-04 - mean_squared_error: 4.0191e-04\n",
      "Epoch 2/5\n",
      "41/41 [==============================] - 1s 19ms/step - loss: 4.1849e-04 - mean_squared_error: 4.1849e-04\n",
      "Epoch 3/5\n",
      "41/41 [==============================] - 1s 17ms/step - loss: 4.0087e-04 - mean_squared_error: 4.0087e-04\n",
      "Epoch 4/5\n",
      "41/41 [==============================] - 1s 18ms/step - loss: 6.0597e-04 - mean_squared_error: 6.0597e-04\n",
      "Epoch 5/5\n",
      "41/41 [==============================] - 1s 17ms/step - loss: 5.8370e-04 - mean_squared_error: 5.8370e-04\n",
      "1/1 [==============================] - 0s 22ms/step\n"
     ]
    },
    {
     "data": {
      "text/plain": [
       "array([[32129.316]], dtype=float32)"
      ]
     },
     "metadata": {},
     "output_type": "display_data"
    },
    {
     "name": "stdout",
     "output_type": "stream",
     "text": [
      "Epoch 1/5\n",
      "41/41 [==============================] - 1s 17ms/step - loss: 4.5371e-04 - mean_squared_error: 4.5371e-04\n",
      "Epoch 2/5\n",
      "41/41 [==============================] - 1s 17ms/step - loss: 4.5229e-04 - mean_squared_error: 4.5229e-04\n",
      "Epoch 3/5\n",
      "41/41 [==============================] - 1s 17ms/step - loss: 4.1803e-04 - mean_squared_error: 4.1803e-04\n",
      "Epoch 4/5\n",
      "41/41 [==============================] - 1s 17ms/step - loss: 4.1656e-04 - mean_squared_error: 4.1656e-04\n",
      "Epoch 5/5\n",
      "41/41 [==============================] - 1s 17ms/step - loss: 3.9064e-04 - mean_squared_error: 3.9064e-04\n",
      "1/1 [==============================] - 0s 23ms/step\n"
     ]
    },
    {
     "data": {
      "text/plain": [
       "array([[32414.22]], dtype=float32)"
      ]
     },
     "metadata": {},
     "output_type": "display_data"
    },
    {
     "name": "stdout",
     "output_type": "stream",
     "text": [
      "Epoch 1/5\n",
      "41/41 [==============================] - 1s 17ms/step - loss: 4.0853e-04 - mean_squared_error: 4.0853e-04\n",
      "Epoch 2/5\n",
      "41/41 [==============================] - 1s 17ms/step - loss: 4.2032e-04 - mean_squared_error: 4.2032e-04\n",
      "Epoch 3/5\n",
      "41/41 [==============================] - 1s 17ms/step - loss: 4.0319e-04 - mean_squared_error: 4.0319e-04\n",
      "Epoch 4/5\n",
      "41/41 [==============================] - 1s 17ms/step - loss: 4.3652e-04 - mean_squared_error: 4.3652e-04\n",
      "Epoch 5/5\n",
      "41/41 [==============================] - 1s 16ms/step - loss: 4.1246e-04 - mean_squared_error: 4.1246e-04\n",
      "1/1 [==============================] - 0s 22ms/step\n"
     ]
    },
    {
     "data": {
      "text/plain": [
       "array([[32326.336]], dtype=float32)"
      ]
     },
     "metadata": {},
     "output_type": "display_data"
    },
    {
     "name": "stdout",
     "output_type": "stream",
     "text": [
      "Epoch 1/5\n",
      "41/41 [==============================] - 1s 18ms/step - loss: 4.1522e-04 - mean_squared_error: 4.1522e-04\n",
      "Epoch 2/5\n",
      "41/41 [==============================] - 1s 17ms/step - loss: 4.2601e-04 - mean_squared_error: 4.2601e-04\n",
      "Epoch 3/5\n",
      "41/41 [==============================] - 1s 17ms/step - loss: 3.9965e-04 - mean_squared_error: 3.9965e-04\n",
      "Epoch 4/5\n",
      "41/41 [==============================] - 1s 17ms/step - loss: 4.3299e-04 - mean_squared_error: 4.3299e-04\n",
      "Epoch 5/5\n",
      "41/41 [==============================] - 1s 17ms/step - loss: 3.8748e-04 - mean_squared_error: 3.8748e-04\n",
      "1/1 [==============================] - 0s 23ms/step\n"
     ]
    },
    {
     "data": {
      "text/plain": [
       "array([[32025.855]], dtype=float32)"
      ]
     },
     "metadata": {},
     "output_type": "display_data"
    },
    {
     "name": "stdout",
     "output_type": "stream",
     "text": [
      "Epoch 1/5\n",
      "41/41 [==============================] - 1s 17ms/step - loss: 4.0240e-04 - mean_squared_error: 4.0240e-04\n",
      "Epoch 2/5\n",
      "41/41 [==============================] - 1s 17ms/step - loss: 4.2182e-04 - mean_squared_error: 4.2182e-04\n",
      "Epoch 3/5\n",
      "41/41 [==============================] - 1s 17ms/step - loss: 4.0505e-04 - mean_squared_error: 4.0505e-04\n",
      "Epoch 4/5\n",
      "41/41 [==============================] - 1s 17ms/step - loss: 4.0624e-04 - mean_squared_error: 4.0624e-04\n",
      "Epoch 5/5\n",
      "41/41 [==============================] - 1s 17ms/step - loss: 4.1388e-04 - mean_squared_error: 4.1388e-04\n",
      "1/1 [==============================] - 0s 25ms/step\n"
     ]
    },
    {
     "data": {
      "text/plain": [
       "array([[31889.773]], dtype=float32)"
      ]
     },
     "metadata": {},
     "output_type": "display_data"
    },
    {
     "name": "stdout",
     "output_type": "stream",
     "text": [
      "Epoch 1/5\n",
      "41/41 [==============================] - 1s 17ms/step - loss: 4.2747e-04 - mean_squared_error: 4.2747e-04\n",
      "Epoch 2/5\n",
      "41/41 [==============================] - 1s 17ms/step - loss: 4.1893e-04 - mean_squared_error: 4.1893e-04\n",
      "Epoch 3/5\n",
      "41/41 [==============================] - 1s 18ms/step - loss: 3.9583e-04 - mean_squared_error: 3.9583e-04\n",
      "Epoch 4/5\n",
      "41/41 [==============================] - 1s 17ms/step - loss: 4.1331e-04 - mean_squared_error: 4.1331e-04\n",
      "Epoch 5/5\n",
      "41/41 [==============================] - 1s 18ms/step - loss: 4.0296e-04 - mean_squared_error: 4.0296e-04\n"
     ]
    }
   ],
   "source": [
    "# last_input=df.iloc[-window_size:, :]['Close'].values\n",
    "\n",
    "for i in range(200): \n",
    "  # input_array=last_input[-window_size:]\n",
    "  # display(input_array)\n",
    "  # input_scaled=X_scaler.transform([input_array])\n",
    "  # input_reshaped=input_scaled.reshape(1, window_size, 1)\n",
    "  # prediction_scaled=model.predict(X_scaled[-1])\n",
    "  prediction_scaled=model.predict(X_scaled[-1].reshape(1, window_size, 1))\n",
    "  \n",
    "  next_prediction=y_scaler.inverse_transform(prediction_scaled)\n",
    "  display(next_prediction)\n",
    "  new_train_sample=np.append(X_scaled[-1], prediction_scaled)[1:].reshape(1, window_size, 1)\n",
    "  X_scaled=np.append(X_scaled, new_train_sample, axis=0)\n",
    "  y_scaled=np.append(y_scaled, prediction_scaled, axis=0)\n",
    "  model.fit(X_scaled, y_scaled, epochs=5)\n",
    "  # last_input=np.append(last_input, next_prediction)\n",
    "  # input_array"
   ]
  },
  {
   "cell_type": "code",
   "execution_count": 40,
   "id": "faIQrGZ9qFIq",
   "metadata": {
    "colab": {
     "base_uri": "https://localhost:8080/",
     "height": 282
    },
    "id": "faIQrGZ9qFIq",
    "outputId": "bf75c42d-928e-4b0c-ffbf-1145cecd040f"
   },
   "outputs": [
    {
     "data": {
      "text/plain": [
       "[<matplotlib.lines.Line2D at 0x150f5e150>]"
      ]
     },
     "execution_count": 40,
     "metadata": {},
     "output_type": "execute_result"
    },
    {
     "data": {
      "image/png": "[encoded data removed]",
      "text/plain": [
       "<Figure size 432x288 with 1 Axes>"
      ]
     },
     "metadata": {
      "needs_background": "light"
     },
     "output_type": "display_data"
    }
   ],
   "source": [
    "plt.plot(y_scaled)"
   ]
  },
  {
   "cell_type": "code",
   "execution_count": 292,
   "id": "Ke2ymgDjtyLX",
   "metadata": {
    "colab": {
     "base_uri": "https://localhost:8080/",
     "height": 298
    },
    "id": "Ke2ymgDjtyLX",
    "outputId": "772a4bc6-b6f8-40e3-95c2-56c27766af02"
   },
   "outputs": [
    {
     "data": {
      "text/plain": [
       "<matplotlib.axes._subplots.AxesSubplot at 0x7f4f1462d0d0>"
      ]
     },
     "execution_count": 292,
     "metadata": {},
     "output_type": "execute_result"
    },
    {
     "data": {
      "image/png": "[encoded data removed]",
      "text/plain": [
       "<Figure size 432x288 with 1 Axes>"
      ]
     },
     "metadata": {
      "needs_background": "light"
     },
     "output_type": "display_data"
    }
   ],
   "source": [
    "df['Close'].plot()"
   ]
  },
  {
   "cell_type": "code",
   "execution_count": 62,
   "id": "524d5fc7-13a8-49c3-a864-89d4f1711f3b",
   "metadata": {},
   "outputs": [
    {
     "name": "stdout",
     "output_type": "stream",
     "text": [
      "41/41 [==============================] - 0s 6ms/step\n"
     ]
    }
   ],
   "source": [
    "prediction = model.predict(X_scaled)"
   ]
  },
  {
   "cell_type": "code",
   "execution_count": 63,
   "id": "ef42091a-16b0-4c74-91cb-3b9822073dee",
   "metadata": {},
   "outputs": [],
   "source": [
    "y_predicted=y_scaler.inverse_transform(prediction)"
   ]
  },
  {
   "cell_type": "code",
   "execution_count": 64,
   "id": "k1zcJIHCvGSy",
   "metadata": {
    "id": "k1zcJIHCvGSy"
   },
   "outputs": [
    {
     "data": {
      "text/plain": [
       "[<matplotlib.lines.Line2D at 0x1537fba90>]"
      ]
     },
     "execution_count": 64,
     "metadata": {},
     "output_type": "execute_result"
    },
    {
     "data": {
      "image/png": "[encoded data removed]",
      "text/plain": [
       "<Figure size 432x288 with 1 Axes>"
      ]
     },
     "metadata": {
      "needs_background": "light"
     },
     "output_type": "display_data"
    }
   ],
   "source": [
    "plt.plot(y_predicted)"
   ]
  },
  {
   "cell_type": "code",
   "execution_count": 65,
   "id": "ff9fafa8-4057-4967-b1b1-6602451e3663",
   "metadata": {},
   "outputs": [
    {
     "data": {
      "text/plain": [
       "[<matplotlib.lines.Line2D at 0x15292bf90>]"
      ]
     },
     "execution_count": 65,
     "metadata": {},
     "output_type": "execute_result"
    },
    {
     "data": {
      "image/png": "[encoded data removed]",
      "text/plain": [
       "<Figure size 432x288 with 1 Axes>"
      ]
     },
     "metadata": {
      "needs_background": "light"
     },
     "output_type": "display_data"
    }
   ],
   "source": [
    "plt.plot(df['close'])"
   ]
  },
  {
   "cell_type": "code",
   "execution_count": 44,
   "id": "49acfba8-d634-4a89-8b7f-1bf2383912f7",
   "metadata": {},
   "outputs": [
    {
     "data": {
      "text/plain": [
       "1136"
      ]
     },
     "metadata": {},
     "output_type": "display_data"
    },
    {
     "data": {
      "text/plain": [
       "1136"
      ]
     },
     "metadata": {},
     "output_type": "display_data"
    }
   ],
   "source": [
    "display(len(X_scaled))\n",
    "display(len(y_scaled))"
   ]
  },
  {
   "cell_type": "code",
   "execution_count": null,
   "id": "ec8e9773-92de-4b08-84b4-aa5b92a03e25",
   "metadata": {},
   "outputs": [],
   "source": []
  }
 ],
 "metadata": {
  "colab": {
   "name": "Untitled (2).ipynb",
   "provenance": []
  },
  "kernelspec": {
   "display_name": "Python 3 (ipykernel)",
   "language": "python",
   "name": "python3"
  },
  "language_info": {
   "codemirror_mode": {
    "name": "ipython",
    "version": 3
   },
   "file_extension": ".py",
   "mimetype": "text/x-python",
   "name": "python",
   "nbconvert_exporter": "python",
   "pygments_lexer": "ipython3",
   "version": "3.7.11"
  }
 },
 "nbformat": 4,
 "nbformat_minor": 5
}
